{
 "cells": [
  {
   "cell_type": "code",
   "execution_count": null,
   "metadata": {},
   "outputs": [],
   "source": [
    "#%%appyter init\n",
    "from appyter import magic\n",
    "magic.init(lambda _=globals: _())"
   ]
  },
  {
   "cell_type": "code",
   "execution_count": null,
   "metadata": {},
   "outputs": [],
   "source": [
    "%%appyter hide\n",
    "\n",
    "{% do SectionField(\n",
    "    title='Gene Selection',\n",
    "    subtitle='Choose a target gene for gene function prediction.',\n",
    "    name='GENE',\n",
    "    img='enrichr-icon.png',\n",
    ") %}\n",
    "\n",
    "{% set gene_symbol = StringField(name='gene_symbol', label='Gene Symbol', default='MAPK1', description='Enter an official gene symbol for functional prediction.', section = 'GENE') %}\n",
    "\n",
    "{% do SectionField(\n",
    "    title='GMT Selection',\n",
    "    subtitle='Upload or select GMT file.',\n",
    "    name='GMT',\n",
    "    img='gmt.png',\n",
    ") %}\n",
    "\n",
    "{% set gmt_field = TabField(\n",
    "    name='gmt_field',\n",
    "    label='GMT Selection',\n",
    "    default='Select',\n",
    "    description='Select gene set library',\n",
    "    choices={\n",
    "        'Select': [\n",
    "            ChoiceField(\n",
    "                name='gmt_select',\n",
    "                label='GMT file',\n",
    "                description='Select Enrichr GMT file.',\n",
    "                default='GO_Biological_Process_2018',\n",
    "                choices=['GeneSigDB', 'Enrichr_Submissions_TF-Gene_Coocurrence', 'SysMyo_Muscle_Gene_Sets', 'WikiPathway_2021_Human', 'HomoloGene', 'WikiPathways_2013', 'OMIM_Disease', 'Data_Acquisition_Method_Most_Popular_Genes', 'Cancer_Cell_Line_Encyclopedia', 'WikiPathways_2016', 'WikiPathways_2015', 'RNAseq_Automatic_GEO_Signatures_Human_Up', 'Human_Gene_Atlas', 'Kinase_Perturbations_from_GEO_down', 'Disease_Signatures_from_GEO_down_2014', 'Disease_Perturbations_from_GEO_up', 'Old_CMAP_down', 'MCF7_Perturbations_from_GEO_up', 'NIH_Funded_PIs_2017_GeneRIF_ARCHS4_Predictions', 'PPI_Hub_Proteins', 'DepMap_WG_CRISPR_Screens_Sanger_CellLines_2019', 'Disease_Signatures_from_GEO_up_2014', 'GTEx_Tissue_Expression_Up', 'L1000_Kinase_and_GPCR_Perturbations_up', 'ARCHS4_Cell-lines', 'VirusMINT', 'KEGG_2019_Human', 'ARCHS4_Tissues', 'MGI_Mammalian_Phenotype_Level_4', 'MGI_Mammalian_Phenotype_Level_3', 'InterPro_Domains_2019', 'KEGG_2015', 'MSigDB_Computational', 'TF-LOF_Expression_from_GEO', 'KEGG_2013', 'GWAS_Catalog_2019', 'KEGG_2016', 'NCI-Nature_2015', 'NCI-Nature_2016', 'CCLE_Proteomics_2020', 'PheWeb_2019', 'RNA-Seq_Disease_Gene_and_Drug_Signatures_from_GEO', 'Old_CMAP_up', 'LINCS_L1000_Chem_Pert_down', 'LINCS_L1000_Ligand_Perturbations_down', 'Enrichr_Users_Contributed_Lists_2020', 'NIH_Funded_PIs_2017_Human_GeneRIF', 'Jensen_TISSUES', 'Azimuth_Cell_Types_2021', 'Panther_2016', 'DisGeNET', 'LINCS_L1000_Ligand_Perturbations_up', 'Rare_Diseases_AutoRIF_Gene_Lists', 'TargetScan_microRNA', 'Achilles_fitness_increase', 'Panther_2015', 'WikiPathways_2019_Mouse', 'ARCHS4_TFs_Coexp', 'LINCS_L1000_Chem_Pert_up', 'MSigDB_Oncogenic_Signatures', 'Gene_Perturbations_from_GEO_down', 'Table_Mining_of_CRISPR_Studies', 'Rare_Diseases_GeneRIF_Gene_Lists', 'Ligand_Perturbations_from_GEO_down', 'SILAC_Phosphoproteomics', 'Ligand_Perturbations_from_GEO_up', 'Drug_Perturbations_from_GEO_up', 'MGI_Mammalian_Phenotype_Level_4_2021', 'Allen_Brain_Atlas_10x_scRNA_2021', 'ClinVar_2019', 'MAGMA_Drugs_and_Diseases', 'KEA_2015', 'KEA_2013', 'Chromosome_Location', 'Microbe_Perturbations_from_GEO_up', 'COVID-19_Related_Gene_Sets_2021', 'MGI_Mammalian_Phenotype_Level_4_2019', 'ARCHS4_IDG_Coexp', 'NIH_Funded_PIs_2017_AutoRIF_ARCHS4_Predictions', 'lncHUB_lncRNA_Co-Expression', 'DrugMatrix', 'Virus_Perturbations_from_GEO_down', 'huMAP', 'L1000_Kinase_and_GPCR_Perturbations_down', 'Elsevier_Pathway_Collection', 'Diabetes_Perturbations_GEO_2022', 'NIH_Funded_PIs_2017_Human_AutoRIF', 'ESCAPE', 'RNAseq_Automatic_GEO_Signatures_Mouse_Down', 'UK_Biobank_GWAS_v1', 'Aging_Perturbations_from_GEO_up', 'Human_Phenotype_Ontology', 'dbGaP', 'SubCell_BarCode', 'Transcription_Factor_PPIs', 'GO_Cellular_Component_2017b', 'HuBMAP_ASCTplusB_augmented_2022', 'MSigDB_Hallmark_2020', 'BioPlanet_2019', 'HDSigDB_Human_2021', 'GTEx_Tissue_Expression_Down', 'Tissue_Protein_Expression_from_Human_Proteome_Map', 'Epigenomics_Roadmap_HM_ChIP-seq', 'PhenGenI_Association_2021', 'MCF7_Perturbations_from_GEO_down', 'ProteomicsDB_2020', 'Virus-Host_PPI_P-HIPSTer_2020', 'OMIM_Expanded', 'Reactome_2022', 'Genes_Associated_with_NIH_Grants', 'CellMarker_Augmented_2021', 'ENCODE_and_ChEA_Consensus_TFs_from_ChIP-X', 'HDSigDB_Mouse_2021', 'Jensen_COMPARTMENTS', 'ChEA_2015', 'ChEA_2016', 'KEGG_2019_Mouse', 'ChEA_2022', 'Drug_Perturbations_from_GEO_2014', 'LINCS_L1000_Chem_Pert_Consensus_Sigs', 'TargetScan_microRNA_2017', 'Allen_Brain_Atlas_down', 'BioCarta_2013', 'WikiPathways_2019_Human', 'Reactome_2013', 'Gene_Perturbations_from_GEO_up', 'GO_Cellular_Component_2015', 'GO_Cellular_Component_2013', 'BioCarta_2016', 'Reactome_2015', 'BioCarta_2015', 'GO_Cellular_Component_2018', 'Reactome_2016', 'GO_Cellular_Component_2017', 'GO_Cellular_Component_2021', 'ENCODE_TF_ChIP-seq_2015', 'ENCODE_TF_ChIP-seq_2014', 'RNAseq_Automatic_GEO_Signatures_Mouse_Up', 'GO_Molecular_Function_2017b', 'FANTOM6_lncRNA_KD_DEGs', 'MGI_Mammalian_Phenotype_2013', 'NCI-60_Cancer_Cell_Lines', 'HMS_LINCS_KinomeScan', 'MGI_Mammalian_Phenotype_2017', 'Rare_Diseases_GeneRIF_ARCHS4_Predictions', 'Virus_Perturbations_from_GEO_up', 'SigComLINCS_Drug_Consensus_Signatures', 'PFOCR_Pathways', 'Enrichr_Libraries_Most_Popular_Genes', 'Orphanet_Augmented_2021', 'GO_Biological_Process_2021', 'TRANSFAC_and_JASPAR_PWMs', 'Rare_Diseases_AutoRIF_ARCHS4_Predictions', 'COVID-19_Related_Gene_Sets', 'Descartes_Cell_Types_and_Tissue_2021', 'Kinase_Perturbations_from_GEO_up', 'Tabula_Sapiens', 'Tabula_Muris', 'TF_Perturbations_Followed_by_Expression', 'GTEx_Aging_Signatures_2021', 'Tissue_Protein_Expression_from_ProteomicsDB', 'Aging_Perturbations_from_GEO_down', 'GO_Biological_Process_2013', 'GO_Biological_Process_2017b', 'GO_Biological_Process_2018', 'CORUM', 'Phosphatase_Substrates_from_DEPOD', 'BioPlex_2017', 'GO_Biological_Process_2015', 'TRRUST_Transcription_Factors_2019', 'GO_Biological_Process_2017', 'Pfam_InterPro_Domains', 'HuBMAP_ASCT_plus_B_augmented_w_RNAseq_Coexpression', 'Pfam_Domains_2019', 'Allen_Brain_Atlas_up', 'NURSA_Human_Endogenous_Complexome', 'Genome_Browser_PWMs', 'HumanCyc_2015', 'HumanCyc_2016', 'Chromosome_Location_hg19', 'Mouse_Gene_Atlas', 'ChEA_2013', 'miRTarBase_2017', 'Jensen_DISEASES', 'RNAseq_Automatic_GEO_Signatures_Human_Down', 'ARCHS4_Kinases_Coexp', 'Microbe_Perturbations_from_GEO_down', 'PanglaoDB_Augmented_2021', 'ENCODE_Histone_Modifications_2013', 'ENCODE_Histone_Modifications_2015', 'Achilles_fitness_decrease', 'DSigDB', 'Disease_Perturbations_from_GEO_down', 'DepMap_WG_CRISPR_Screens_Broad_CellLines_2019', 'Drug_Perturbations_from_GEO_down', 'GO_Molecular_Function_2021', 'GO_Molecular_Function_2017', 'GO_Molecular_Function_2018', 'GO_Molecular_Function_2013', 'GO_Molecular_Function_2015', 'TG_GATES_2020', 'KEGG_2021_Human', 'HMDB_Metabolites', 'LINCS_L1000_CRISPR_KO_Consensus_Sigs'],\n",
    "                section='GMT'\n",
    "            )\n",
    "        ],\n",
    "        'Upload': [\n",
    "            FileField(\n",
    "                name='gmt_upload',\n",
    "                label='Upload GMT file',\n",
    "                description='Upload a GMT file. Each line represents a gene function and the associated genes separated by TAB.',\n",
    "                examples={\n",
    "                    'KEGG_2019_Mouse.gmt': \"https://mssm-prismx.s3.amazonaws.com/misc/KEGG_2019_mouse.gmt\"\n",
    "                },\n",
    "                section='GMT'\n",
    "            ),\n",
    "        ],\n",
    "    },\n",
    "    section='GMT'\n",
    ") %}"
   ]
  },
  {
   "cell_type": "code",
   "execution_count": null,
   "metadata": {},
   "outputs": [],
   "source": [
    "%%appyter markdown\n",
    "\n",
    "<h1> <img align=\"left\" width=200 src=\"https://mssm-prismx.s3.amazonaws.com/images/prismxsmall.png\">\n",
    "        <div>PrismEXP</div>\n",
    "</h1>\n",
    "    <br>\n",
    "    <div>An appyter interface to compute gene function predictions <br>\n",
    "    <div> This Appyter calculates predictions using the PrismEXP algorithm. It utilizes precomputed correlation scores and a pretrained model. The correlation scores are computed for 51 gene expression clusters in ARCHS4.\n",
    "    <br><br>\n",
    "    <div style=\"font-size: 20px;\"><img style=\"height: 40px; float:left; margin-top:-7px;\" src=\"{{ url_for('static', filename='gene.png') }}\" /> {{ gene_symbol }} </div>\n",
    "    <br>\n",
    "    <div style=\"font-size: 20px;\"><img style=\"height: 40px; float: left; margin-top:-7px;\" src=\"{{ url_for('static', filename='library.png') }}\" /> '{{ gmt_field.value[0].value }}'</div>\n"
   ]
  },
  {
   "cell_type": "code",
   "execution_count": null,
   "metadata": {},
   "outputs": [],
   "source": [
    "import h5py as h5\n",
    "import s3fs\n",
    "import numpy as np\n",
    "import pandas as pd\n",
    "from tqdm import tqdm\n",
    "from typing import List, Dict\n",
    "import urllib.request\n",
    "import json\n",
    "import hashlib\n",
    "import shutil\n",
    "import ssl\n",
    "import os\n",
    "import sys\n",
    "import re\n",
    "import itertools\n",
    "import pickle\n",
    "import warnings\n",
    "import scipy.stats as st\n",
    "from lightgbm import LGBMRegressor\n",
    "from sklearn.metrics import roc_auc_score, roc_curve, auc\n",
    "from matplotlib import pyplot as plt\n",
    "from IPython.display import display, FileLink, Markdown, HTML"
   ]
  },
  {
   "cell_type": "code",
   "execution_count": null,
   "metadata": {},
   "outputs": [],
   "source": [
    "LIBRARY_LIST_URL=\"https://maayanlab.cloud/speedrichr/api/listlibs\"\n",
    "LIBRARY_DOWNLOAD_URL=\"https://maayanlab.cloud/Enrichr/geneSetLibrary?mode=text&libraryName=\"\n",
    "S3_URL=\"s3://mssm-prismx-100/\"\n",
    "GMT_EXAMPLE=\"https://maayanlab.cloud/Enrichr/geneSetLibrary?mode=text&libraryName=KEGG_2019_Mouse\""
   ]
  },
  {
   "cell_type": "code",
   "execution_count": null,
   "metadata": {},
   "outputs": [],
   "source": [
    "%%appyter code_exec\n",
    "\n",
    "# Use the selected user input\n",
    "GENE = {{ gene_symbol }}\n",
    "LIBRARY = '{{ gmt_field.value[0].value }}'\n",
    "ENRICHR_MODE = {{ gmt_field.raw_value == 'Select'}}"
   ]
  },
  {
   "cell_type": "markdown",
   "metadata": {},
   "source": [
    "### S3 Data Query\n",
    "\n",
    "The following functions are used to load gene correlation directly from precomputed correlation matrices stored on S3."
   ]
  },
  {
   "cell_type": "code",
   "execution_count": null,
   "metadata": {},
   "outputs": [],
   "source": [
    "\n",
    "def loadGenesS3():\n",
    "    genes = 0\n",
    "    s3 = s3fs.S3FileSystem(anon=True)\n",
    "    with h5.File(s3.open(S3_URL+\"correlation_0.h5\", 'rb'), 'r', lib_version='latest') as f:\n",
    "        genes = np.array([s.decode(\"UTF-8\") for s in f[\"meta/genes\"]])\n",
    "    return [x.upper() for x in list(genes)]\n",
    "\n",
    "def loadCorrelationS3(gene, genes, cormat):\n",
    "    cor = 0\n",
    "    s3 = s3fs.S3FileSystem(anon=True)\n",
    "    with h5.File(s3.open(S3_URL+\"correlation_\"+str(cormat)+\".h5\", 'rb'), 'r', lib_version='latest') as f:\n",
    "        idx = genes.index(gene.upper())\n",
    "        cor = np.array(f[\"data/correlation\"][idx,:]).astype(np.float64)\n",
    "    return(cor)\n",
    "\n",
    "def geneCorrelation(gene):\n",
    "    cormats = list(range(100))\n",
    "    cormats.append(\"global\")\n",
    "    genes = loadGenesS3()\n",
    "    results = []\n",
    "    pbar = tqdm(cormats)\n",
    "    for i in pbar:\n",
    "        pbar.set_description(\"Retrieve %s\" % i)\n",
    "        results.append(loadCorrelationS3(gene, genes, i))\n",
    "    results = pd.DataFrame(np.array(results).T, index=genes)\n",
    "    return(results)"
   ]
  },
  {
   "cell_type": "markdown",
   "metadata": {},
   "source": [
    "### Load GMT\n",
    "\n",
    "These functions are used to load Enrichr gene set libraries."
   ]
  },
  {
   "cell_type": "code",
   "execution_count": null,
   "metadata": {},
   "outputs": [],
   "source": [
    "def getDataPath() -> str:\n",
    "    path = os.path.join(\n",
    "        os.path.dirname(__file__),\n",
    "        'data/'\n",
    "    )\n",
    "    return(path)\n",
    "\n",
    "def listLibraries():\n",
    "    return(loadJSON(LIBRARY_LIST_URL)[\"library\"])\n",
    "\n",
    "def loadLibrary(library: str, overwrite: bool = False) -> str:\n",
    "    ssl._create_default_https_context = ssl._create_unverified_context\n",
    "    if not os.path.exists(\"gmts/\"+library or overwrite):\n",
    "        os.makedirs(\"gmts\", exist_ok=True)\n",
    "        print(\"Download Enrichr geneset library\")\n",
    "        urllib.request.urlretrieve(LIBRARY_DOWNLOAD_URL+library, \"gmts/\"+library+\".gmt\")\n",
    "    else:\n",
    "        print(\"File cached. To reload use loadLibrary(\\\"\"+library+\"\\\", overwrite=True) instead.\")\n",
    "    lib, rlib, ugenes = readGMT(\"gmts/\"+library+\".gmt\")\n",
    "    print(\"# genesets: \"+str(len(lib))+\"\\n# unique genes: \"+str(len(ugenes)))\n",
    "    return(\"gmts/\"+library)\n",
    "\n",
    "def printLibraries():\n",
    "    libs = listLibraries()\n",
    "    for i in range(0, len(libs)):\n",
    "        print(str(i)+\" - \"+libs[i])\n",
    "\n",
    "def loadJSON(url):\n",
    "    context = ssl._create_unverified_context()\n",
    "    req = urllib.request.Request(url)\n",
    "    r = urllib.request.urlopen(req, context=context).read()\n",
    "    return(json.loads(r.decode('utf-8')))\n",
    "\n",
    "def readGMT(gmtFile: str, backgroundGenes: List[str] = [\"\"], verbose=False) -> List:\n",
    "    file = open(gmtFile, 'r')\n",
    "    lines = file.readlines()\n",
    "    library = {}\n",
    "    for line in lines:\n",
    "        sp = line.strip().upper().split(\"\\t\")\n",
    "        sp2 = [re.sub(\",.*\", \"\",value) for value in sp[2:]]\n",
    "        if len(backgroundGenes) > 1:\n",
    "            backgroundGenes = [x.upper() for x in backgroundGenes]\n",
    "            library[sp[0]] = [value for value in sp2 if value in backgroundGenes]\n",
    "        else:\n",
    "            library[sp[0]] = sp2\n",
    "    ugenes = list(set(list(itertools.chain.from_iterable(library.values()))))\n",
    "    ugenes.sort()\n",
    "    rev_library = {}\n",
    "    for ug in ugenes:\n",
    "        rev_library[ug] = []\n",
    "    for se in library.keys():\n",
    "        for ge in library[se]:\n",
    "            rev_library[ge].append(se)\n",
    "    if verbose:\n",
    "        print(\"Library loaded. Library contains \"+str(len(library))+\" gene sets. \"+str(len(ugenes))+\" unique genes found.\")\n",
    "    return [library, rev_library, ugenes]"
   ]
  },
  {
   "cell_type": "markdown",
   "metadata": {},
   "source": [
    "### Initialize Gene Set Library\n",
    "\n",
    "Load library from <a href=\"https://maayanlab.cloud/Enrichr\" target=\"_blank\">Enrichr</a> or use custom GMT file."
   ]
  },
  {
   "cell_type": "code",
   "execution_count": null,
   "metadata": {},
   "outputs": [],
   "source": [
    "if ENRICHR_MODE:\n",
    "    libraryPath = loadLibrary(LIBRARY)\n",
    "else:\n",
    "    os.makedirs(\"gmts\", exist_ok=True)\n",
    "    shutil.copy2(LIBRARY, \"gmts/\"+LIBRARY)\n",
    "    LIBRARY = LIBRARY.replace(\".gmt\", \"\")\n",
    "\n",
    "library, rev_library, ugenes = readGMT(\"gmts/\"+LIBRARY+\".gmt\", loadGenesS3())"
   ]
  },
  {
   "cell_type": "markdown",
   "metadata": {},
   "source": [
    "### Load Gene Correlation\n",
    "\n",
    "Gene correlation matrices are precalculated for 101 gene expression matrices from ARCHS4. The matrices are stored in AWS S3 and can be queried for target genes of interest. The extraction can take a moment to finish. "
   ]
  },
  {
   "cell_type": "code",
   "execution_count": null,
   "metadata": {},
   "outputs": [],
   "source": [
    "correlation = geneCorrelation(GENE)\n",
    "correlation"
   ]
  },
  {
   "cell_type": "code",
   "execution_count": null,
   "metadata": {},
   "outputs": [],
   "source": [
    "def getAverageCorrelation(correlation: pd.DataFrame, library: Dict):\n",
    "    avgCor = []\n",
    "    for ll in list(library.keys()):\n",
    "        avgCor.append(correlation.loc[[x.upper() for x in library[ll]],:].mean(axis=0))\n",
    "    avgCor = pd.DataFrame(np.array(avgCor).T, columns=list(library.keys()))\n",
    "    avgCor = avgCor.transpose()\n",
    "    return(avgCor)"
   ]
  },
  {
   "cell_type": "markdown",
   "metadata": {},
   "source": [
    "### Avg Correlation Scores\n",
    "\n",
    "The average correlation scores are equivalent to the predictions performed by <a href=\"https://maayanlab.cloud/geneshot\"  target=\"_blank\">Geneshot</a>. The values are used as prediction features of the PrismEXP model."
   ]
  },
  {
   "cell_type": "code",
   "execution_count": null,
   "metadata": {},
   "outputs": [],
   "source": [
    "avgCor = getAverageCorrelation(correlation, library)\n",
    "avgCor"
   ]
  },
  {
   "cell_type": "code",
   "execution_count": null,
   "metadata": {},
   "outputs": [],
   "source": [
    "def loadPrismXModel():\n",
    "    os.makedirs(\"model\", exist_ok=True)\n",
    "    urllib.request.urlretrieve(\"https://\"+S3_URL.replace(\"s3:\", \"\").replace(\"/\", \"\")+\".s3.amazonaws.com/model/gobp_model.pkl\", \"model/prismxmodel.pkl\")\n",
    "    with warnings.catch_warnings():\n",
    "        warnings.simplefilter('ignore')\n",
    "        model = pickle.load(open(\"model/prismxmodel.pkl\", 'rb'))\n",
    "    return(model)\n",
    "\n",
    "def prismxPredictions(avgcor, model, verbose: bool=False) -> pd.DataFrame:\n",
    "    avgcor = avgcor.fillna(0)\n",
    "    predictions = pd.DataFrame(model.predict(avgcor))\n",
    "    predictions.index = avgcor.index\n",
    "    predictions.columns = [\"predictions\"]\n",
    "    mean = np.mean(predictions[:], axis=0)\n",
    "    std = np.std(predictions[:], axis=0)\n",
    "    zscore = (predictions - mean)/std\n",
    "    predictions[\"z-score\"] = zscore\n",
    "    pvalue = 1-st.norm.cdf(zscore)\n",
    "    predictions[\"p-value\"] = pvalue\n",
    "    predictions[\"bonferroni\"] = np.where(pvalue*len(pvalue) >= 1, 1, pvalue*len(pvalue))\n",
    "    return predictions"
   ]
  },
  {
   "cell_type": "markdown",
   "metadata": {},
   "source": [
    "### Apply PrismEXP\n",
    "\n",
    "The pretrained model is loaded and applied on the correlation features of 51 correlation matrices."
   ]
  },
  {
   "cell_type": "code",
   "execution_count": null,
   "metadata": {},
   "outputs": [],
   "source": [
    "model = loadPrismXModel()\n",
    "predictions = prismxPredictions(avgCor, model)\n",
    "predictions.to_csv(GENE+\"_\"+LIBRARY+\"_predictions.tsv\", sep=\"\\t\")\n",
    "top_predictions = pd.DataFrame(predictions.sort_values(by=[\"predictions\"], ascending=False).iloc[0:20:])"
   ]
  },
  {
   "cell_type": "code",
   "execution_count": null,
   "metadata": {},
   "outputs": [],
   "source": [
    "def plotROC(fpr, tpr, auc):\n",
    "    plt.figure(figsize=(12, 7), dpi= 300)\n",
    "    plt.plot([0, 1], [0, 1], linestyle='--', label='baseline')\n",
    "    plt.plot(fpr, tpr, linestyle='--', label='PrismEXP')\n",
    "    plt.text(0.65, 0.1, \"AUC: \"+str(np.round(auc, decimals=3)), fontsize=18)\n",
    "    plt.xlabel('False Positive Rate')\n",
    "    plt.ylabel('True Positive Rate')\n",
    "    plt.legend()\n",
    "    plt.savefig(GENE+\"_\"+LIBRARY+\"_ROC.pdf\")  \n",
    "    plt.savefig(GENE+\"_\"+LIBRARY+\"_ROC.png\", dpi=300)\n",
    "    plt.show()\n",
    "\n",
    "def calculateGeneAUC(prediction: pd.DataFrame, gene: str, rev_library: Dict, minLibSize: int=1) -> List[float]:\n",
    "    if gene in list(rev_library.keys()):\n",
    "        gold = [i in rev_library[gene] for i in prediction.index]\n",
    "        fpr, tpr, _ = roc_curve(list(gold), list(prediction.iloc[:,0]))\n",
    "        roc_auc = auc(fpr, tpr)\n",
    "        plotROC(fpr, tpr, roc_auc)\n",
    "        return(auc)\n",
    "    else:\n",
    "        print(\"Not enough information to calcualte AUC\")\n",
    "        return(0)"
   ]
  },
  {
   "cell_type": "markdown",
   "metadata": {},
   "source": [
    "### Prediction Validation\n",
    "\n",
    "The ROC curve shows how well previously known annotations for the gene have been recovered by PrismEXP. For this, all gene sets in the library are ranked by the prediction score in descending order. Previously known associations should rank high. The AUC can vary by gene and gene set library."
   ]
  },
  {
   "cell_type": "code",
   "execution_count": null,
   "metadata": {},
   "outputs": [],
   "source": [
    "calculateGeneAUC(predictions, GENE, rev_library)"
   ]
  },
  {
   "cell_type": "markdown",
   "metadata": {},
   "source": [
    "### Top Predictions\n",
    "\n",
    "The top 20 predictions are shown below. The p-values are calculated from the z-scores of the gene set library. "
   ]
  },
  {
   "cell_type": "code",
   "execution_count": null,
   "metadata": {},
   "outputs": [],
   "source": [
    "top_predictions"
   ]
  },
  {
   "cell_type": "markdown",
   "metadata": {},
   "source": [
    "### Download Files\n",
    "\n",
    "Download full prediction table and high resolution ROC plots. (If plots are opened in the browser the images might require a refresh of the browser page to display)"
   ]
  },
  {
   "cell_type": "code",
   "execution_count": null,
   "metadata": {},
   "outputs": [],
   "source": [
    "display(FileLink(GENE+\"_\"+LIBRARY+\"_predictions.tsv\", result_html_prefix=str('Download prediction table: ')))\n",
    "display(FileLink(GENE+\"_\"+LIBRARY+\"_ROC.pdf\", result_html_prefix=str('Download PDF: ')))\n",
    "display(FileLink(GENE+\"_\"+LIBRARY+\"_ROC.png\", result_html_prefix=str('Download PNG: ')))"
   ]
  },
  {
   "cell_type": "markdown",
   "metadata": {},
   "source": [
    "### References\n",
    "[1] Kuleshov, Maxim V., Matthew R. Jones, Andrew D. Rouillard, Nicolas F. Fernandez, Qiaonan Duan, Zichen Wang, Simon Koplev et al. \"Enrichr: a comprehensive gene set enrichment analysis web server 2016 update.\" Nucleic acids research 44, no. W1 (2016): W90-W97.\n",
    "\n",
    "[2] Lachmann, Alexander, Brian M. Schilder, Megan L. Wojciechowicz, Denis Torre, Maxim V. Kuleshov, Alexandra B. Keenan, and Avi Ma’ayan. \"Geneshot: search engine for ranking genes from arbitrary text queries.\" Nucleic acids research 47, no. W1 (2019): W571-W577.\n",
    "\n",
    "[3] Lachmann, Alexander, Denis Torre, Alexandra B. Keenan, Kathleen M. Jagodnik, Hoyjin J. Lee, Lily Wang, Moshe C. Silverstein, and Avi Ma’ayan. \"Massive mining of publicly available RNA-seq data from human and mouse.\" Nature communications 9, no. 1 (2018): 1-10.\n",
    "\n",
    "[4] Wang, Yuhang, Fillia S. Makedon, James C. Ford, and Justin Pearlman. \"HykGene: a hybrid approach for selecting marker genes for phenotype classification using microarray gene expression data.\" Bioinformatics 21, no. 8 (2005): 1530-1537."
   ]
  },
  {
   "cell_type": "markdown",
   "metadata": {},
   "source": [
    "\n",
    "\n"
   ]
  },
  {
   "cell_type": "markdown",
   "metadata": {},
   "source": [
    "## "
   ]
  }
 ],
 "metadata": {
  "kernelspec": {
   "display_name": "apyter",
   "language": "python",
   "name": "apyter"
  },
  "language_info": {
   "codemirror_mode": {
    "name": "ipython",
    "version": 3
   },
   "file_extension": ".py",
   "mimetype": "text/x-python",
   "name": "python",
   "nbconvert_exporter": "python",
   "pygments_lexer": "ipython3",
   "version": "3.8.5"
  }
 },
 "nbformat": 4,
 "nbformat_minor": 4
}
