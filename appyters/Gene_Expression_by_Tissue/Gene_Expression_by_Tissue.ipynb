{
 "cells": [
  {
   "cell_type": "code",
   "execution_count": 4,
   "id": "02298265",
   "metadata": {},
   "outputs": [],
   "source": [
    "#%%appyter init\n",
    "from appyter import magic\n",
    "magic.init(lambda _=globals: _())"
   ]
  },
  {
   "cell_type": "code",
   "execution_count": 5,
   "id": "7fd169e0",
   "metadata": {},
   "outputs": [
    {
     "data": {
      "text/markdown": [
       "\n",
       "# Gene Expression by Tissue\n",
       "This appyter takes the input of a human gene and displays its expression across human cells and tissues \n",
       "utilizing a variety of datasets from healthy tissues. If the gene is not contained in one of the datasets, a plot will not be produced for that resource."
      ],
      "text/plain": [
       "<IPython.core.display.Markdown object>"
      ]
     },
     "metadata": {},
     "output_type": "display_data"
    }
   ],
   "source": [
    "%%appyter markdown\n",
    "\n",
    "# Gene Expression by Tissue\n",
    "This appyter takes the input of a human gene and displays its expression across human cells and tissues \n",
    "utilizing a variety of processed datasets from healthy tissues. If the gene is not contained in one of the datasets, a plot will not be produced for that resource."
   ]
  },
  {
   "cell_type": "code",
   "execution_count": 6,
   "id": "2c870541",
   "metadata": {},
   "outputs": [],
   "source": [
    "%%appyter hide_code\n",
    "\n",
    "\n",
    "\n",
    "{% do SectionField(\n",
    "    name='primary',\n",
    "    title='Gene and Protien Expression across Human Cells and Tissues',\n",
    "    img ='gene-expr.png'\n",
    ") %}\n",
    "\n",
    "{% do DescriptionField(\n",
    "    name='data_file_description',\n",
    "    text='''\n",
    "    This appyter takes the input of a human gene and displays its expression across human cells and tissues \n",
    "    utilizing a variety of processed datasets from healthy tissues.\n",
    "    If the gene is not contained in one of the datasets, a plot will not be produced for that resource.''',\n",
    "    section='primary',\n",
    ") %}\n",
    "\n",
    "\n",
    "\n",
    "{% set gene = AutocompleteField(name = 'gene',\n",
    "                                label = 'Human gene symbol',\n",
    "                                default = 'A1CF',\n",
    "                                description = 'Enter the gene of interest',\n",
    "                                file_path = 'https://raw.githubusercontent.com/giacomomarino/SearchProject_2/master/genes.json',\n",
    "                                section = 'primary'\n",
    ")%}\n"
   ]
  },
  {
   "cell_type": "code",
   "execution_count": 7,
   "id": "1aec0415",
   "metadata": {},
   "outputs": [],
   "source": [
    "import numpy as np\n",
    "import pandas as pd\n",
    "import plotly.express as px\n",
    "import plotly.graph_objects as go\n",
    "import matplotlib.pyplot as plt\n",
    "import s3fs\n",
    "from IPython.display import HTML, display, Markdown\n",
    "from maayanlab_bioinformatics.harmonization.ncbi_genes import ncbi_genes_lookup\n",
    "from maayanlab_bioinformatics.harmonization.transcripts import transcripts_to_genes\n",
    "lookup = ncbi_genes_lookup()\n"
   ]
  },
  {
   "cell_type": "code",
   "execution_count": 8,
   "id": "3f23501f",
   "metadata": {},
   "outputs": [
    {
     "data": {
      "text/markdown": [
       "```python\n",
       "\n",
       "gene = 'A1CF'\n",
       "```"
      ],
      "text/plain": [
       "<IPython.core.display.Markdown object>"
      ]
     },
     "metadata": {},
     "output_type": "display_data"
    }
   ],
   "source": [
    "%%appyter code_exec\n",
    "gene = {{ gene }}"
   ]
  },
  {
   "cell_type": "code",
   "execution_count": 56,
   "id": "bee96b04",
   "metadata": {},
   "outputs": [
    {
     "data": {
      "text/markdown": [
       "\n",
       "## Load in normal gene expression\n",
       "Utilize processed datasets containing gene expression by cell type and tissue ([GTEx](https://gtexportal.org/home/) [1] and [ARCHS4](https://maayanlab.cloud/archs4/) [2])\n",
       "\n",
       "\n",
       "[1] Lonsdale, John, et al. \"The genotype-tissue expression (GTEx) project.\" Nature genetics 45.6 (2013): 580-585. https://doi.org/10.1038/ng.265\n",
       "        \n",
       "[2] Lachmann A, Torre D, Keenan AB, Jagodnik KM, Lee HJ, Wang L, Silverstein MC, Ma'ayan A. Massive mining of publicly available RNA-seq data from human and mouse. Nature Communications 9. Article number: 1366 (2018), https://doi.org/10.1038/s41467-018-03751-6"
      ],
      "text/plain": [
       "<IPython.core.display.Markdown object>"
      ]
     },
     "metadata": {},
     "output_type": "display_data"
    }
   ],
   "source": [
    "%%appyter markdown\n",
    "\n",
    "## Load in normal gene expression\n",
    "Utilize processed datasets containing gene expression by cell type and tissue ([GTEx](https://gtexportal.org/home/) [1] and [ARCHS4](https://maayanlab.cloud/archs4/) [2])\n",
    "\n",
    "\n",
    "[1] Lonsdale, John, et al. \"The genotype-tissue expression (GTEx) project.\" Nature genetics 45.6 (2013): 580-585. https://doi.org/10.1038/ng.265\n",
    "        \n",
    "[2] Lachmann A, Torre D, Keenan AB, Jagodnik KM, Lee HJ, Wang L, Silverstein MC, Ma'ayan A. Massive mining of publicly available RNA-seq data from human and mouse. Nature Communications 9. Article number: 1366 (2018), https://doi.org/10.1038/s41467-018-03751-6"
   ]
  },
  {
   "cell_type": "code",
   "execution_count": 10,
   "id": "cb3d6c4e",
   "metadata": {},
   "outputs": [],
   "source": [
    "df_bg_stats_gtex = pd.read_csv(\"s3://storage/Tumor_Gene_Target_Screener/gtex-gene-stats.tsv\", storage_options=dict(client_kwargs=dict(endpoint_url=\"https://appyters.maayanlab.cloud\"), anon=True), sep='\\t', index_col=[0,1])\n",
    "df_bg_genes_gtex = df_bg_stats_gtex.unstack().index.map(lambda idx: lookup(idx.partition('.')[0]))\n",
    "df_bg_stats_gtex = df_bg_stats_gtex.unstack().groupby(df_bg_genes_gtex, observed=True).median().stack()\n",
    "df_bg_expr_gtex = df_bg_stats_gtex.loc[(slice(None), ['25%', '50%', '75%']), :].unstack()"
   ]
  },
  {
   "cell_type": "code",
   "execution_count": 11,
   "id": "e588ca62",
   "metadata": {},
   "outputs": [],
   "source": [
    "df_bg_stats_archs4 = pd.read_csv(\"s3://storage/Tumor_Gene_Target_Screener/archs4-gene-anatomy-stats.tsv\", storage_options=dict(client_kwargs=dict(endpoint_url=\"https://appyters.maayanlab.cloud\"), anon=True), sep='\\t', index_col=[0,1])\n",
    "df_bg_genes_archs4 = df_bg_stats_archs4.unstack().index.map(lambda idx: lookup(idx.partition('.')[0]))\n",
    "df_bg_stats_archs4 = df_bg_stats_archs4.unstack().groupby(df_bg_genes_archs4, observed=True).median().stack()\n",
    "df_bg_expr_archs4 = df_bg_stats_archs4.loc[(slice(None), ['25%', '50%', '75%']), :].unstack()"
   ]
  },
  {
   "cell_type": "code",
   "execution_count": 12,
   "id": "652d6796",
   "metadata": {},
   "outputs": [],
   "source": [
    "df_bg_stats_archs4ext = pd.read_csv(\"s3://storage/Tumor_Gene_Target_Screener/archs4-gene-extra-stats.tsv\", storage_options=dict(client_kwargs=dict(endpoint_url=\"https://appyters.maayanlab.cloud\"), anon=True), sep='\\t', index_col=[0,1])\n",
    "df_bg_genes_archs4ext = df_bg_stats_archs4ext.unstack().index.map(lambda idx: lookup(idx.partition('.')[0]))\n",
    "df_bg_stats_archs4ext = df_bg_stats_archs4ext.unstack().groupby(df_bg_genes_archs4ext, observed=True).median().stack()\n",
    "df_bg_expr_archs4ext = df_bg_stats_archs4ext.loc[(slice(None), ['25%', '50%', '75%']), :].unstack()"
   ]
  },
  {
   "cell_type": "code",
   "execution_count": 13,
   "id": "f8dadf42",
   "metadata": {},
   "outputs": [
    {
     "data": {
      "text/html": [
       "<div>\n",
       "<style scoped>\n",
       "    .dataframe tbody tr th:only-of-type {\n",
       "        vertical-align: middle;\n",
       "    }\n",
       "\n",
       "    .dataframe tbody tr th {\n",
       "        vertical-align: top;\n",
       "    }\n",
       "\n",
       "    .dataframe thead th {\n",
       "        text-align: right;\n",
       "    }\n",
       "</style>\n",
       "<table border=\"1\" class=\"dataframe\">\n",
       "  <thead>\n",
       "    <tr style=\"text-align: right;\">\n",
       "      <th></th>\n",
       "      <th>Selected Gene</th>\n",
       "      <th>in GTEx - Gene</th>\n",
       "      <th>in ARCHS4 Gene - Anatomy</th>\n",
       "      <th>in ARCHS4 Gene - Extra</th>\n",
       "    </tr>\n",
       "  </thead>\n",
       "  <tbody>\n",
       "    <tr>\n",
       "      <th>0</th>\n",
       "      <td>A1CF</td>\n",
       "      <td>True</td>\n",
       "      <td>True</td>\n",
       "      <td>True</td>\n",
       "    </tr>\n",
       "  </tbody>\n",
       "</table>\n",
       "</div>"
      ],
      "text/plain": [
       "<IPython.core.display.HTML object>"
      ]
     },
     "metadata": {},
     "output_type": "display_data"
    }
   ],
   "source": [
    "# Show available genes in each dataset\n",
    "available = pd.DataFrame({'Selected Gene': [gene], \n",
    "                          'in GTEx - Gene': [gene in df_bg_expr_gtex.index], \n",
    "                          'in ARCHS4 Gene - Anatomy': [gene in df_bg_expr_archs4.index],\n",
    "                          'in ARCHS4 Gene - Extra': [gene in df_bg_expr_archs4ext.index]})\n",
    "display(HTML(available.to_html(notebook=True, escape=False)))"
   ]
  },
  {
   "cell_type": "code",
   "execution_count": 14,
   "id": "520b08ce",
   "metadata": {},
   "outputs": [
    {
     "data": {
      "text/markdown": [
       "\n",
       "## Load plots based on the selected gene"
      ],
      "text/plain": [
       "<IPython.core.display.Markdown object>"
      ]
     },
     "metadata": {},
     "output_type": "display_data"
    }
   ],
   "source": [
    "%%appyter markdown\n",
    "\n",
    "## Load plots based on the selected gene"
   ]
  },
  {
   "cell_type": "code",
   "execution_count": 80,
   "id": "987d0278",
   "metadata": {},
   "outputs": [
    {
     "data": {
      "text/markdown": [
       "### A1CF"
      ],
      "text/plain": [
       "<IPython.core.display.Markdown object>"
      ]
     },
     "metadata": {},
     "output_type": "display_data"
    },
    {
     "data": {
      "application/vnd.plotly.v1+json": {
       "config": {
        "plotlyServerURL": "https://plot.ly"
       },
       "data": [
        {
         "lowerfence": [
          0,
          0,
          0,
          0,
          0,
          0,
          0,
          0,
          0,
          0,
          0,
          0,
          0,
          0,
          0,
          0,
          0,
          0,
          0,
          0,
          0,
          0,
          0,
          0,
          0,
          0,
          0,
          0,
          0,
          0,
          0,
          0,
          0,
          1,
          24,
          752,
          0,
          0,
          0,
          0,
          0,
          81,
          0,
          0,
          0,
          0,
          0,
          0,
          0,
          1,
          0,
          0,
          0,
          0
         ],
         "mean": [
          3.71342383107089,
          5.857670979667283,
          6.25968992248062,
          4.226851851851852,
          4.045833333333333,
          4.253393665158371,
          3.6666666666666665,
          1.5263157894736843,
          2.0681818181818183,
          2.321138211382114,
          5.832558139534884,
          5.369294605809128,
          2.647058823529412,
          2.535885167464115,
          1.9035532994923856,
          4.96039603960396,
          4.048780487804878,
          1.9853658536585368,
          1.20125786163522,
          2.323741007194245,
          9.793028322440088,
          4.101190476190476,
          4.465517241379311,
          4,
          4.1,
          152.76139410187668,
          1584.0985221674878,
          3.005333333333333,
          3.72972972972973,
          4.4893203883495145,
          5.222222222222222,
          4.526806526806527,
          2.189814814814815,
          1200.129411764706,
          365.75,
          11727.026548672566,
          5.577854671280277,
          7.512345679012346,
          5.4458281444582815,
          3.806138933764136,
          3.1166666666666667,
          1373.185975609756,
          10.60070671378092,
          4.861224489795919,
          4.240066225165563,
          4.904422253922967,
          2210.3529411764707,
          16.970954356846473,
          77.33704735376044,
          12,
          4.44104134762634,
          2.704225352112676,
          2.967948717948718,
          38.74701986754967
         ],
         "median": [
          2,
          2,
          5,
          3,
          2,
          3,
          2,
          0,
          2,
          2,
          4,
          4,
          2,
          2,
          1,
          2,
          3,
          1,
          0,
          2,
          2,
          3,
          4,
          2,
          4,
          6,
          1215.5,
          2,
          2,
          2,
          5,
          3,
          1,
          881,
          183,
          10769,
          3,
          7,
          4,
          2,
          2,
          1254,
          8,
          3,
          2,
          3,
          1584,
          2,
          60,
          11,
          3,
          1,
          2,
          2
         ],
         "name": "Background",
         "orientation": "h",
         "q1": [
          0,
          0,
          2,
          1,
          1,
          1,
          1,
          0,
          0,
          0,
          2,
          2,
          0,
          0,
          0,
          0,
          1,
          0,
          0,
          0,
          0,
          1,
          2,
          0,
          2,
          2,
          62.25,
          0,
          0,
          0,
          2,
          1,
          0,
          500,
          64.5,
          8090.25,
          1,
          3,
          2,
          0,
          0,
          906.25,
          5,
          1,
          1,
          1,
          229.5,
          0,
          10,
          7,
          1,
          0,
          0,
          0
         ],
         "q3": [
          4,
          4,
          9,
          6,
          5,
          6,
          5,
          2,
          4,
          4,
          8,
          7,
          4,
          4,
          2,
          6,
          6,
          3,
          2,
          4,
          6,
          6,
          6.75,
          5,
          4.75,
          22,
          2597,
          4,
          4,
          5,
          6,
          6,
          3,
          1557,
          484.25,
          14777.75,
          6,
          11,
          7,
          4,
          4,
          1723,
          13,
          5,
          6,
          6,
          3656,
          4,
          104,
          15,
          6,
          4,
          4,
          10
         ],
         "sd": [
          19.22130421018927,
          49.94252327287754,
          5.856786537138785,
          5.486488046742646,
          6.6422307569199175,
          4.562660395600263,
          3.877284272958759,
          2.8283038897887325,
          2.460176321418351,
          2.6089563800616795,
          5.065907716829806,
          5.316692573114647,
          3.6144043051072936,
          2.5210468495288465,
          2.859969595145178,
          9.198118769460343,
          4.841746452552157,
          2.4384140795480405,
          2.0951416803964924,
          3.435146195100293,
          91.00874925177555,
          4.524253018914134,
          3.8717093829397617,
          5.0990195135927845,
          3.107338983045712,
          589.593284647372,
          1760.2635184730002,
          4.176580149701496,
          24.12076488553554,
          13.664453819138243,
          3.961621441334904,
          8.44345426458201,
          3.155092074426589,
          1128.3512179939628,
          485.05695541863946,
          5303.202602973125,
          8.496813200117979,
          5.745360163446164,
          5.051652593018797,
          19.52132419112087,
          3.4564731597266327,
          743.8704912919637,
          9.4864367266265,
          8.503442319517726,
          7.394160933872413,
          8.2661613384252,
          2246.902296168272,
          213.7509141957107,
          92.25033068736349,
          7.804557073345745,
          5.348152036196754,
          4.528536363356966,
          3.9617849867482895,
          194.62310949387432
         ],
         "type": "box",
         "upperfence": [
          10,
          10,
          19.5,
          13.5,
          11,
          13.5,
          11,
          5,
          10,
          10,
          17,
          14.5,
          10,
          10,
          5,
          15,
          13.5,
          7.5,
          5,
          10,
          15,
          13.5,
          13.875,
          12.5,
          8.875,
          52,
          6399.125,
          10,
          10,
          12.5,
          12,
          13.5,
          7.5,
          3142.5,
          1073,
          24809,
          13.5,
          23,
          14.5,
          10,
          10,
          2948.125,
          25,
          11,
          13.5,
          13.5,
          8795.75,
          10,
          245,
          27,
          13.5,
          10,
          10,
          25
         ],
         "y": [
          "Adipose - Subcutaneous",
          "Adipose - Visceral (Omentum)",
          "Adrenal Gland",
          "Artery - Aorta",
          "Artery - Coronary",
          "Artery - Tibial",
          "Bladder",
          "Brain - Amygdala",
          "Brain - Anterior cingulate cortex (BA24)",
          "Brain - Caudate (basal ganglia)",
          "Brain - Cerebellar Hemisphere",
          "Brain - Cerebellum",
          "Brain - Cortex",
          "Brain - Frontal Cortex (BA9)",
          "Brain - Hippocampus",
          "Brain - Hypothalamus",
          "Brain - Nucleus accumbens (basal ganglia)",
          "Brain - Putamen (basal ganglia)",
          "Brain - Spinal cord (cervical c-1)",
          "Brain - Substantia nigra",
          "Breast - Mammary Tissue",
          "Cells - Cultured fibroblasts",
          "Cells - EBV-transformed lymphocytes",
          "Cervix - Ectocervix",
          "Cervix - Endocervix",
          "Colon - Sigmoid",
          "Colon - Transverse",
          "Esophagus - Gastroesophageal Junction",
          "Esophagus - Mucosa",
          "Esophagus - Muscularis",
          "Fallopian Tube",
          "Heart - Atrial Appendage",
          "Heart - Left Ventricle",
          "Kidney - Cortex",
          "Kidney - Medulla",
          "Liver",
          "Lung",
          "Minor Salivary Gland",
          "Muscle - Skeletal",
          "Nerve - Tibial",
          "Ovary",
          "Pancreas",
          "Pituitary",
          "Prostate",
          "Skin - Not Sun Exposed (Suprapubic)",
          "Skin - Sun Exposed (Lower leg)",
          "Small Intestine - Terminal Ileum",
          "Spleen",
          "Stomach",
          "Testis",
          "Thyroid",
          "Uterus",
          "Vagina",
          "Whole Blood"
         ]
        }
       ],
       "layout": {
        "height": 1200,
        "template": {
         "data": {
          "bar": [
           {
            "error_x": {
             "color": "#2a3f5f"
            },
            "error_y": {
             "color": "#2a3f5f"
            },
            "marker": {
             "line": {
              "color": "#E5ECF6",
              "width": 0.5
             },
             "pattern": {
              "fillmode": "overlay",
              "size": 10,
              "solidity": 0.2
             }
            },
            "type": "bar"
           }
          ],
          "barpolar": [
           {
            "marker": {
             "line": {
              "color": "#E5ECF6",
              "width": 0.5
             },
             "pattern": {
              "fillmode": "overlay",
              "size": 10,
              "solidity": 0.2
             }
            },
            "type": "barpolar"
           }
          ],
          "carpet": [
           {
            "aaxis": {
             "endlinecolor": "#2a3f5f",
             "gridcolor": "white",
             "linecolor": "white",
             "minorgridcolor": "white",
             "startlinecolor": "#2a3f5f"
            },
            "baxis": {
             "endlinecolor": "#2a3f5f",
             "gridcolor": "white",
             "linecolor": "white",
             "minorgridcolor": "white",
             "startlinecolor": "#2a3f5f"
            },
            "type": "carpet"
           }
          ],
          "choropleth": [
           {
            "colorbar": {
             "outlinewidth": 0,
             "ticks": ""
            },
            "type": "choropleth"
           }
          ],
          "contour": [
           {
            "colorbar": {
             "outlinewidth": 0,
             "ticks": ""
            },
            "colorscale": [
             [
              0,
              "#0d0887"
             ],
             [
              0.1111111111111111,
              "#46039f"
             ],
             [
              0.2222222222222222,
              "#7201a8"
             ],
             [
              0.3333333333333333,
              "#9c179e"
             ],
             [
              0.4444444444444444,
              "#bd3786"
             ],
             [
              0.5555555555555556,
              "#d8576b"
             ],
             [
              0.6666666666666666,
              "#ed7953"
             ],
             [
              0.7777777777777778,
              "#fb9f3a"
             ],
             [
              0.8888888888888888,
              "#fdca26"
             ],
             [
              1,
              "#f0f921"
             ]
            ],
            "type": "contour"
           }
          ],
          "contourcarpet": [
           {
            "colorbar": {
             "outlinewidth": 0,
             "ticks": ""
            },
            "type": "contourcarpet"
           }
          ],
          "heatmap": [
           {
            "colorbar": {
             "outlinewidth": 0,
             "ticks": ""
            },
            "colorscale": [
             [
              0,
              "#0d0887"
             ],
             [
              0.1111111111111111,
              "#46039f"
             ],
             [
              0.2222222222222222,
              "#7201a8"
             ],
             [
              0.3333333333333333,
              "#9c179e"
             ],
             [
              0.4444444444444444,
              "#bd3786"
             ],
             [
              0.5555555555555556,
              "#d8576b"
             ],
             [
              0.6666666666666666,
              "#ed7953"
             ],
             [
              0.7777777777777778,
              "#fb9f3a"
             ],
             [
              0.8888888888888888,
              "#fdca26"
             ],
             [
              1,
              "#f0f921"
             ]
            ],
            "type": "heatmap"
           }
          ],
          "heatmapgl": [
           {
            "colorbar": {
             "outlinewidth": 0,
             "ticks": ""
            },
            "colorscale": [
             [
              0,
              "#0d0887"
             ],
             [
              0.1111111111111111,
              "#46039f"
             ],
             [
              0.2222222222222222,
              "#7201a8"
             ],
             [
              0.3333333333333333,
              "#9c179e"
             ],
             [
              0.4444444444444444,
              "#bd3786"
             ],
             [
              0.5555555555555556,
              "#d8576b"
             ],
             [
              0.6666666666666666,
              "#ed7953"
             ],
             [
              0.7777777777777778,
              "#fb9f3a"
             ],
             [
              0.8888888888888888,
              "#fdca26"
             ],
             [
              1,
              "#f0f921"
             ]
            ],
            "type": "heatmapgl"
           }
          ],
          "histogram": [
           {
            "marker": {
             "pattern": {
              "fillmode": "overlay",
              "size": 10,
              "solidity": 0.2
             }
            },
            "type": "histogram"
           }
          ],
          "histogram2d": [
           {
            "colorbar": {
             "outlinewidth": 0,
             "ticks": ""
            },
            "colorscale": [
             [
              0,
              "#0d0887"
             ],
             [
              0.1111111111111111,
              "#46039f"
             ],
             [
              0.2222222222222222,
              "#7201a8"
             ],
             [
              0.3333333333333333,
              "#9c179e"
             ],
             [
              0.4444444444444444,
              "#bd3786"
             ],
             [
              0.5555555555555556,
              "#d8576b"
             ],
             [
              0.6666666666666666,
              "#ed7953"
             ],
             [
              0.7777777777777778,
              "#fb9f3a"
             ],
             [
              0.8888888888888888,
              "#fdca26"
             ],
             [
              1,
              "#f0f921"
             ]
            ],
            "type": "histogram2d"
           }
          ],
          "histogram2dcontour": [
           {
            "colorbar": {
             "outlinewidth": 0,
             "ticks": ""
            },
            "colorscale": [
             [
              0,
              "#0d0887"
             ],
             [
              0.1111111111111111,
              "#46039f"
             ],
             [
              0.2222222222222222,
              "#7201a8"
             ],
             [
              0.3333333333333333,
              "#9c179e"
             ],
             [
              0.4444444444444444,
              "#bd3786"
             ],
             [
              0.5555555555555556,
              "#d8576b"
             ],
             [
              0.6666666666666666,
              "#ed7953"
             ],
             [
              0.7777777777777778,
              "#fb9f3a"
             ],
             [
              0.8888888888888888,
              "#fdca26"
             ],
             [
              1,
              "#f0f921"
             ]
            ],
            "type": "histogram2dcontour"
           }
          ],
          "mesh3d": [
           {
            "colorbar": {
             "outlinewidth": 0,
             "ticks": ""
            },
            "type": "mesh3d"
           }
          ],
          "parcoords": [
           {
            "line": {
             "colorbar": {
              "outlinewidth": 0,
              "ticks": ""
             }
            },
            "type": "parcoords"
           }
          ],
          "pie": [
           {
            "automargin": true,
            "type": "pie"
           }
          ],
          "scatter": [
           {
            "fillpattern": {
             "fillmode": "overlay",
             "size": 10,
             "solidity": 0.2
            },
            "type": "scatter"
           }
          ],
          "scatter3d": [
           {
            "line": {
             "colorbar": {
              "outlinewidth": 0,
              "ticks": ""
             }
            },
            "marker": {
             "colorbar": {
              "outlinewidth": 0,
              "ticks": ""
             }
            },
            "type": "scatter3d"
           }
          ],
          "scattercarpet": [
           {
            "marker": {
             "colorbar": {
              "outlinewidth": 0,
              "ticks": ""
             }
            },
            "type": "scattercarpet"
           }
          ],
          "scattergeo": [
           {
            "marker": {
             "colorbar": {
              "outlinewidth": 0,
              "ticks": ""
             }
            },
            "type": "scattergeo"
           }
          ],
          "scattergl": [
           {
            "marker": {
             "colorbar": {
              "outlinewidth": 0,
              "ticks": ""
             }
            },
            "type": "scattergl"
           }
          ],
          "scattermapbox": [
           {
            "marker": {
             "colorbar": {
              "outlinewidth": 0,
              "ticks": ""
             }
            },
            "type": "scattermapbox"
           }
          ],
          "scatterpolar": [
           {
            "marker": {
             "colorbar": {
              "outlinewidth": 0,
              "ticks": ""
             }
            },
            "type": "scatterpolar"
           }
          ],
          "scatterpolargl": [
           {
            "marker": {
             "colorbar": {
              "outlinewidth": 0,
              "ticks": ""
             }
            },
            "type": "scatterpolargl"
           }
          ],
          "scatterternary": [
           {
            "marker": {
             "colorbar": {
              "outlinewidth": 0,
              "ticks": ""
             }
            },
            "type": "scatterternary"
           }
          ],
          "surface": [
           {
            "colorbar": {
             "outlinewidth": 0,
             "ticks": ""
            },
            "colorscale": [
             [
              0,
              "#0d0887"
             ],
             [
              0.1111111111111111,
              "#46039f"
             ],
             [
              0.2222222222222222,
              "#7201a8"
             ],
             [
              0.3333333333333333,
              "#9c179e"
             ],
             [
              0.4444444444444444,
              "#bd3786"
             ],
             [
              0.5555555555555556,
              "#d8576b"
             ],
             [
              0.6666666666666666,
              "#ed7953"
             ],
             [
              0.7777777777777778,
              "#fb9f3a"
             ],
             [
              0.8888888888888888,
              "#fdca26"
             ],
             [
              1,
              "#f0f921"
             ]
            ],
            "type": "surface"
           }
          ],
          "table": [
           {
            "cells": {
             "fill": {
              "color": "#EBF0F8"
             },
             "line": {
              "color": "white"
             }
            },
            "header": {
             "fill": {
              "color": "#C8D4E3"
             },
             "line": {
              "color": "white"
             }
            },
            "type": "table"
           }
          ]
         },
         "layout": {
          "annotationdefaults": {
           "arrowcolor": "#2a3f5f",
           "arrowhead": 0,
           "arrowwidth": 1
          },
          "autotypenumbers": "strict",
          "coloraxis": {
           "colorbar": {
            "outlinewidth": 0,
            "ticks": ""
           }
          },
          "colorscale": {
           "diverging": [
            [
             0,
             "#8e0152"
            ],
            [
             0.1,
             "#c51b7d"
            ],
            [
             0.2,
             "#de77ae"
            ],
            [
             0.3,
             "#f1b6da"
            ],
            [
             0.4,
             "#fde0ef"
            ],
            [
             0.5,
             "#f7f7f7"
            ],
            [
             0.6,
             "#e6f5d0"
            ],
            [
             0.7,
             "#b8e186"
            ],
            [
             0.8,
             "#7fbc41"
            ],
            [
             0.9,
             "#4d9221"
            ],
            [
             1,
             "#276419"
            ]
           ],
           "sequential": [
            [
             0,
             "#0d0887"
            ],
            [
             0.1111111111111111,
             "#46039f"
            ],
            [
             0.2222222222222222,
             "#7201a8"
            ],
            [
             0.3333333333333333,
             "#9c179e"
            ],
            [
             0.4444444444444444,
             "#bd3786"
            ],
            [
             0.5555555555555556,
             "#d8576b"
            ],
            [
             0.6666666666666666,
             "#ed7953"
            ],
            [
             0.7777777777777778,
             "#fb9f3a"
            ],
            [
             0.8888888888888888,
             "#fdca26"
            ],
            [
             1,
             "#f0f921"
            ]
           ],
           "sequentialminus": [
            [
             0,
             "#0d0887"
            ],
            [
             0.1111111111111111,
             "#46039f"
            ],
            [
             0.2222222222222222,
             "#7201a8"
            ],
            [
             0.3333333333333333,
             "#9c179e"
            ],
            [
             0.4444444444444444,
             "#bd3786"
            ],
            [
             0.5555555555555556,
             "#d8576b"
            ],
            [
             0.6666666666666666,
             "#ed7953"
            ],
            [
             0.7777777777777778,
             "#fb9f3a"
            ],
            [
             0.8888888888888888,
             "#fdca26"
            ],
            [
             1,
             "#f0f921"
            ]
           ]
          },
          "colorway": [
           "#636efa",
           "#EF553B",
           "#00cc96",
           "#ab63fa",
           "#FFA15A",
           "#19d3f3",
           "#FF6692",
           "#B6E880",
           "#FF97FF",
           "#FECB52"
          ],
          "font": {
           "color": "#2a3f5f"
          },
          "geo": {
           "bgcolor": "white",
           "lakecolor": "white",
           "landcolor": "#E5ECF6",
           "showlakes": true,
           "showland": true,
           "subunitcolor": "white"
          },
          "hoverlabel": {
           "align": "left"
          },
          "hovermode": "closest",
          "mapbox": {
           "style": "light"
          },
          "paper_bgcolor": "white",
          "plot_bgcolor": "#E5ECF6",
          "polar": {
           "angularaxis": {
            "gridcolor": "white",
            "linecolor": "white",
            "ticks": ""
           },
           "bgcolor": "#E5ECF6",
           "radialaxis": {
            "gridcolor": "white",
            "linecolor": "white",
            "ticks": ""
           }
          },
          "scene": {
           "xaxis": {
            "backgroundcolor": "#E5ECF6",
            "gridcolor": "white",
            "gridwidth": 2,
            "linecolor": "white",
            "showbackground": true,
            "ticks": "",
            "zerolinecolor": "white"
           },
           "yaxis": {
            "backgroundcolor": "#E5ECF6",
            "gridcolor": "white",
            "gridwidth": 2,
            "linecolor": "white",
            "showbackground": true,
            "ticks": "",
            "zerolinecolor": "white"
           },
           "zaxis": {
            "backgroundcolor": "#E5ECF6",
            "gridcolor": "white",
            "gridwidth": 2,
            "linecolor": "white",
            "showbackground": true,
            "ticks": "",
            "zerolinecolor": "white"
           }
          },
          "shapedefaults": {
           "line": {
            "color": "#2a3f5f"
           }
          },
          "ternary": {
           "aaxis": {
            "gridcolor": "white",
            "linecolor": "white",
            "ticks": ""
           },
           "baxis": {
            "gridcolor": "white",
            "linecolor": "white",
            "ticks": ""
           },
           "bgcolor": "#E5ECF6",
           "caxis": {
            "gridcolor": "white",
            "linecolor": "white",
            "ticks": ""
           }
          },
          "title": {
           "x": 0.05
          },
          "xaxis": {
           "automargin": true,
           "gridcolor": "white",
           "linecolor": "white",
           "ticks": "",
           "title": {
            "standoff": 15
           },
           "zerolinecolor": "white",
           "zerolinewidth": 2
          },
          "yaxis": {
           "automargin": true,
           "gridcolor": "white",
           "linecolor": "white",
           "ticks": "",
           "title": {
            "standoff": 15
           },
           "zerolinecolor": "white",
           "zerolinewidth": 2
          }
         }
        },
        "title": {
         "text": "A1CF (RNA-seq) GTEx"
        }
       }
      },
      "text/html": [
       "<div>                            <div id=\"27642334-e58c-453d-ab7d-523ab4ada083\" class=\"plotly-graph-div\" style=\"height:1200px; width:100%;\"></div>            <script type=\"text/javascript\">                require([\"plotly\"], function(Plotly) {                    window.PLOTLYENV=window.PLOTLYENV || {};                                    if (document.getElementById(\"27642334-e58c-453d-ab7d-523ab4ada083\")) {                    Plotly.newPlot(                        \"27642334-e58c-453d-ab7d-523ab4ada083\",                        [{\"lowerfence\":[0.0,0.0,0.0,0.0,0.0,0.0,0.0,0.0,0.0,0.0,0.0,0.0,0.0,0.0,0.0,0.0,0.0,0.0,0.0,0.0,0.0,0.0,0.0,0.0,0.0,0.0,0.0,0.0,0.0,0.0,0.0,0.0,0.0,1.0,24.0,752.0,0.0,0.0,0.0,0.0,0.0,81.0,0.0,0.0,0.0,0.0,0.0,0.0,0.0,1.0,0.0,0.0,0.0,0.0],\"mean\":[3.71342383107089,5.857670979667283,6.25968992248062,4.226851851851852,4.045833333333333,4.253393665158371,3.6666666666666665,1.5263157894736843,2.0681818181818183,2.321138211382114,5.832558139534884,5.369294605809128,2.647058823529412,2.535885167464115,1.9035532994923856,4.96039603960396,4.048780487804878,1.9853658536585368,1.20125786163522,2.323741007194245,9.793028322440088,4.101190476190476,4.465517241379311,4.0,4.1,152.76139410187668,1584.0985221674878,3.005333333333333,3.72972972972973,4.4893203883495145,5.222222222222222,4.526806526806527,2.189814814814815,1200.129411764706,365.75,11727.026548672566,5.577854671280277,7.512345679012346,5.4458281444582815,3.806138933764136,3.1166666666666667,1373.185975609756,10.60070671378092,4.861224489795919,4.240066225165563,4.904422253922967,2210.3529411764707,16.970954356846473,77.33704735376044,12.0,4.44104134762634,2.704225352112676,2.967948717948718,38.74701986754967],\"median\":[2.0,2.0,5.0,3.0,2.0,3.0,2.0,0.0,2.0,2.0,4.0,4.0,2.0,2.0,1.0,2.0,3.0,1.0,0.0,2.0,2.0,3.0,4.0,2.0,4.0,6.0,1215.5,2.0,2.0,2.0,5.0,3.0,1.0,881.0,183.0,10769.0,3.0,7.0,4.0,2.0,2.0,1254.0,8.0,3.0,2.0,3.0,1584.0,2.0,60.0,11.0,3.0,1.0,2.0,2.0],\"name\":\"Background\",\"orientation\":\"h\",\"q1\":[0.0,0.0,2.0,1.0,1.0,1.0,1.0,0.0,0.0,0.0,2.0,2.0,0.0,0.0,0.0,0.0,1.0,0.0,0.0,0.0,0.0,1.0,2.0,0.0,2.0,2.0,62.25,0.0,0.0,0.0,2.0,1.0,0.0,500.0,64.5,8090.25,1.0,3.0,2.0,0.0,0.0,906.25,5.0,1.0,1.0,1.0,229.5,0.0,10.0,7.0,1.0,0.0,0.0,0.0],\"q3\":[4.0,4.0,9.0,6.0,5.0,6.0,5.0,2.0,4.0,4.0,8.0,7.0,4.0,4.0,2.0,6.0,6.0,3.0,2.0,4.0,6.0,6.0,6.75,5.0,4.75,22.0,2597.0,4.0,4.0,5.0,6.0,6.0,3.0,1557.0,484.25,14777.75,6.0,11.0,7.0,4.0,4.0,1723.0,13.0,5.0,6.0,6.0,3656.0,4.0,104.0,15.0,6.0,4.0,4.0,10.0],\"sd\":[19.22130421018927,49.94252327287754,5.856786537138785,5.486488046742646,6.6422307569199175,4.562660395600263,3.877284272958759,2.8283038897887325,2.460176321418351,2.6089563800616795,5.065907716829806,5.316692573114647,3.6144043051072936,2.5210468495288465,2.859969595145178,9.198118769460343,4.841746452552157,2.4384140795480405,2.0951416803964924,3.435146195100293,91.00874925177555,4.524253018914134,3.8717093829397617,5.0990195135927845,3.107338983045712,589.593284647372,1760.2635184730002,4.176580149701496,24.12076488553554,13.664453819138243,3.961621441334904,8.44345426458201,3.155092074426589,1128.3512179939628,485.05695541863946,5303.202602973125,8.496813200117979,5.745360163446164,5.051652593018797,19.52132419112087,3.4564731597266327,743.8704912919637,9.4864367266265,8.503442319517726,7.394160933872413,8.2661613384252,2246.902296168272,213.7509141957107,92.25033068736349,7.804557073345745,5.348152036196754,4.528536363356966,3.9617849867482895,194.62310949387432],\"upperfence\":[10.0,10.0,19.5,13.5,11.0,13.5,11.0,5.0,10.0,10.0,17.0,14.5,10.0,10.0,5.0,15.0,13.5,7.5,5.0,10.0,15.0,13.5,13.875,12.5,8.875,52.0,6399.125,10.0,10.0,12.5,12.0,13.5,7.5,3142.5,1073.0,24809.0,13.5,23.0,14.5,10.0,10.0,2948.125,25.0,11.0,13.5,13.5,8795.75,10.0,245.0,27.0,13.5,10.0,10.0,25.0],\"y\":[\"Adipose - Subcutaneous\",\"Adipose - Visceral (Omentum)\",\"Adrenal Gland\",\"Artery - Aorta\",\"Artery - Coronary\",\"Artery - Tibial\",\"Bladder\",\"Brain - Amygdala\",\"Brain - Anterior cingulate cortex (BA24)\",\"Brain - Caudate (basal ganglia)\",\"Brain - Cerebellar Hemisphere\",\"Brain - Cerebellum\",\"Brain - Cortex\",\"Brain - Frontal Cortex (BA9)\",\"Brain - Hippocampus\",\"Brain - Hypothalamus\",\"Brain - Nucleus accumbens (basal ganglia)\",\"Brain - Putamen (basal ganglia)\",\"Brain - Spinal cord (cervical c-1)\",\"Brain - Substantia nigra\",\"Breast - Mammary Tissue\",\"Cells - Cultured fibroblasts\",\"Cells - EBV-transformed lymphocytes\",\"Cervix - Ectocervix\",\"Cervix - Endocervix\",\"Colon - Sigmoid\",\"Colon - Transverse\",\"Esophagus - Gastroesophageal Junction\",\"Esophagus - Mucosa\",\"Esophagus - Muscularis\",\"Fallopian Tube\",\"Heart - Atrial Appendage\",\"Heart - Left Ventricle\",\"Kidney - Cortex\",\"Kidney - Medulla\",\"Liver\",\"Lung\",\"Minor Salivary Gland\",\"Muscle - Skeletal\",\"Nerve - Tibial\",\"Ovary\",\"Pancreas\",\"Pituitary\",\"Prostate\",\"Skin - Not Sun Exposed (Suprapubic)\",\"Skin - Sun Exposed (Lower leg)\",\"Small Intestine - Terminal Ileum\",\"Spleen\",\"Stomach\",\"Testis\",\"Thyroid\",\"Uterus\",\"Vagina\",\"Whole Blood\"],\"type\":\"box\"}],                        {\"template\":{\"data\":{\"histogram2dcontour\":[{\"type\":\"histogram2dcontour\",\"colorbar\":{\"outlinewidth\":0,\"ticks\":\"\"},\"colorscale\":[[0.0,\"#0d0887\"],[0.1111111111111111,\"#46039f\"],[0.2222222222222222,\"#7201a8\"],[0.3333333333333333,\"#9c179e\"],[0.4444444444444444,\"#bd3786\"],[0.5555555555555556,\"#d8576b\"],[0.6666666666666666,\"#ed7953\"],[0.7777777777777778,\"#fb9f3a\"],[0.8888888888888888,\"#fdca26\"],[1.0,\"#f0f921\"]]}],\"choropleth\":[{\"type\":\"choropleth\",\"colorbar\":{\"outlinewidth\":0,\"ticks\":\"\"}}],\"histogram2d\":[{\"type\":\"histogram2d\",\"colorbar\":{\"outlinewidth\":0,\"ticks\":\"\"},\"colorscale\":[[0.0,\"#0d0887\"],[0.1111111111111111,\"#46039f\"],[0.2222222222222222,\"#7201a8\"],[0.3333333333333333,\"#9c179e\"],[0.4444444444444444,\"#bd3786\"],[0.5555555555555556,\"#d8576b\"],[0.6666666666666666,\"#ed7953\"],[0.7777777777777778,\"#fb9f3a\"],[0.8888888888888888,\"#fdca26\"],[1.0,\"#f0f921\"]]}],\"heatmap\":[{\"type\":\"heatmap\",\"colorbar\":{\"outlinewidth\":0,\"ticks\":\"\"},\"colorscale\":[[0.0,\"#0d0887\"],[0.1111111111111111,\"#46039f\"],[0.2222222222222222,\"#7201a8\"],[0.3333333333333333,\"#9c179e\"],[0.4444444444444444,\"#bd3786\"],[0.5555555555555556,\"#d8576b\"],[0.6666666666666666,\"#ed7953\"],[0.7777777777777778,\"#fb9f3a\"],[0.8888888888888888,\"#fdca26\"],[1.0,\"#f0f921\"]]}],\"heatmapgl\":[{\"type\":\"heatmapgl\",\"colorbar\":{\"outlinewidth\":0,\"ticks\":\"\"},\"colorscale\":[[0.0,\"#0d0887\"],[0.1111111111111111,\"#46039f\"],[0.2222222222222222,\"#7201a8\"],[0.3333333333333333,\"#9c179e\"],[0.4444444444444444,\"#bd3786\"],[0.5555555555555556,\"#d8576b\"],[0.6666666666666666,\"#ed7953\"],[0.7777777777777778,\"#fb9f3a\"],[0.8888888888888888,\"#fdca26\"],[1.0,\"#f0f921\"]]}],\"contourcarpet\":[{\"type\":\"contourcarpet\",\"colorbar\":{\"outlinewidth\":0,\"ticks\":\"\"}}],\"contour\":[{\"type\":\"contour\",\"colorbar\":{\"outlinewidth\":0,\"ticks\":\"\"},\"colorscale\":[[0.0,\"#0d0887\"],[0.1111111111111111,\"#46039f\"],[0.2222222222222222,\"#7201a8\"],[0.3333333333333333,\"#9c179e\"],[0.4444444444444444,\"#bd3786\"],[0.5555555555555556,\"#d8576b\"],[0.6666666666666666,\"#ed7953\"],[0.7777777777777778,\"#fb9f3a\"],[0.8888888888888888,\"#fdca26\"],[1.0,\"#f0f921\"]]}],\"surface\":[{\"type\":\"surface\",\"colorbar\":{\"outlinewidth\":0,\"ticks\":\"\"},\"colorscale\":[[0.0,\"#0d0887\"],[0.1111111111111111,\"#46039f\"],[0.2222222222222222,\"#7201a8\"],[0.3333333333333333,\"#9c179e\"],[0.4444444444444444,\"#bd3786\"],[0.5555555555555556,\"#d8576b\"],[0.6666666666666666,\"#ed7953\"],[0.7777777777777778,\"#fb9f3a\"],[0.8888888888888888,\"#fdca26\"],[1.0,\"#f0f921\"]]}],\"mesh3d\":[{\"type\":\"mesh3d\",\"colorbar\":{\"outlinewidth\":0,\"ticks\":\"\"}}],\"scatter\":[{\"fillpattern\":{\"fillmode\":\"overlay\",\"size\":10,\"solidity\":0.2},\"type\":\"scatter\"}],\"parcoords\":[{\"type\":\"parcoords\",\"line\":{\"colorbar\":{\"outlinewidth\":0,\"ticks\":\"\"}}}],\"scatterpolargl\":[{\"type\":\"scatterpolargl\",\"marker\":{\"colorbar\":{\"outlinewidth\":0,\"ticks\":\"\"}}}],\"bar\":[{\"error_x\":{\"color\":\"#2a3f5f\"},\"error_y\":{\"color\":\"#2a3f5f\"},\"marker\":{\"line\":{\"color\":\"#E5ECF6\",\"width\":0.5},\"pattern\":{\"fillmode\":\"overlay\",\"size\":10,\"solidity\":0.2}},\"type\":\"bar\"}],\"scattergeo\":[{\"type\":\"scattergeo\",\"marker\":{\"colorbar\":{\"outlinewidth\":0,\"ticks\":\"\"}}}],\"scatterpolar\":[{\"type\":\"scatterpolar\",\"marker\":{\"colorbar\":{\"outlinewidth\":0,\"ticks\":\"\"}}}],\"histogram\":[{\"marker\":{\"pattern\":{\"fillmode\":\"overlay\",\"size\":10,\"solidity\":0.2}},\"type\":\"histogram\"}],\"scattergl\":[{\"type\":\"scattergl\",\"marker\":{\"colorbar\":{\"outlinewidth\":0,\"ticks\":\"\"}}}],\"scatter3d\":[{\"type\":\"scatter3d\",\"line\":{\"colorbar\":{\"outlinewidth\":0,\"ticks\":\"\"}},\"marker\":{\"colorbar\":{\"outlinewidth\":0,\"ticks\":\"\"}}}],\"scattermapbox\":[{\"type\":\"scattermapbox\",\"marker\":{\"colorbar\":{\"outlinewidth\":0,\"ticks\":\"\"}}}],\"scatterternary\":[{\"type\":\"scatterternary\",\"marker\":{\"colorbar\":{\"outlinewidth\":0,\"ticks\":\"\"}}}],\"scattercarpet\":[{\"type\":\"scattercarpet\",\"marker\":{\"colorbar\":{\"outlinewidth\":0,\"ticks\":\"\"}}}],\"carpet\":[{\"aaxis\":{\"endlinecolor\":\"#2a3f5f\",\"gridcolor\":\"white\",\"linecolor\":\"white\",\"minorgridcolor\":\"white\",\"startlinecolor\":\"#2a3f5f\"},\"baxis\":{\"endlinecolor\":\"#2a3f5f\",\"gridcolor\":\"white\",\"linecolor\":\"white\",\"minorgridcolor\":\"white\",\"startlinecolor\":\"#2a3f5f\"},\"type\":\"carpet\"}],\"table\":[{\"cells\":{\"fill\":{\"color\":\"#EBF0F8\"},\"line\":{\"color\":\"white\"}},\"header\":{\"fill\":{\"color\":\"#C8D4E3\"},\"line\":{\"color\":\"white\"}},\"type\":\"table\"}],\"barpolar\":[{\"marker\":{\"line\":{\"color\":\"#E5ECF6\",\"width\":0.5},\"pattern\":{\"fillmode\":\"overlay\",\"size\":10,\"solidity\":0.2}},\"type\":\"barpolar\"}],\"pie\":[{\"automargin\":true,\"type\":\"pie\"}]},\"layout\":{\"autotypenumbers\":\"strict\",\"colorway\":[\"#636efa\",\"#EF553B\",\"#00cc96\",\"#ab63fa\",\"#FFA15A\",\"#19d3f3\",\"#FF6692\",\"#B6E880\",\"#FF97FF\",\"#FECB52\"],\"font\":{\"color\":\"#2a3f5f\"},\"hovermode\":\"closest\",\"hoverlabel\":{\"align\":\"left\"},\"paper_bgcolor\":\"white\",\"plot_bgcolor\":\"#E5ECF6\",\"polar\":{\"bgcolor\":\"#E5ECF6\",\"angularaxis\":{\"gridcolor\":\"white\",\"linecolor\":\"white\",\"ticks\":\"\"},\"radialaxis\":{\"gridcolor\":\"white\",\"linecolor\":\"white\",\"ticks\":\"\"}},\"ternary\":{\"bgcolor\":\"#E5ECF6\",\"aaxis\":{\"gridcolor\":\"white\",\"linecolor\":\"white\",\"ticks\":\"\"},\"baxis\":{\"gridcolor\":\"white\",\"linecolor\":\"white\",\"ticks\":\"\"},\"caxis\":{\"gridcolor\":\"white\",\"linecolor\":\"white\",\"ticks\":\"\"}},\"coloraxis\":{\"colorbar\":{\"outlinewidth\":0,\"ticks\":\"\"}},\"colorscale\":{\"sequential\":[[0.0,\"#0d0887\"],[0.1111111111111111,\"#46039f\"],[0.2222222222222222,\"#7201a8\"],[0.3333333333333333,\"#9c179e\"],[0.4444444444444444,\"#bd3786\"],[0.5555555555555556,\"#d8576b\"],[0.6666666666666666,\"#ed7953\"],[0.7777777777777778,\"#fb9f3a\"],[0.8888888888888888,\"#fdca26\"],[1.0,\"#f0f921\"]],\"sequentialminus\":[[0.0,\"#0d0887\"],[0.1111111111111111,\"#46039f\"],[0.2222222222222222,\"#7201a8\"],[0.3333333333333333,\"#9c179e\"],[0.4444444444444444,\"#bd3786\"],[0.5555555555555556,\"#d8576b\"],[0.6666666666666666,\"#ed7953\"],[0.7777777777777778,\"#fb9f3a\"],[0.8888888888888888,\"#fdca26\"],[1.0,\"#f0f921\"]],\"diverging\":[[0,\"#8e0152\"],[0.1,\"#c51b7d\"],[0.2,\"#de77ae\"],[0.3,\"#f1b6da\"],[0.4,\"#fde0ef\"],[0.5,\"#f7f7f7\"],[0.6,\"#e6f5d0\"],[0.7,\"#b8e186\"],[0.8,\"#7fbc41\"],[0.9,\"#4d9221\"],[1,\"#276419\"]]},\"xaxis\":{\"gridcolor\":\"white\",\"linecolor\":\"white\",\"ticks\":\"\",\"title\":{\"standoff\":15},\"zerolinecolor\":\"white\",\"automargin\":true,\"zerolinewidth\":2},\"yaxis\":{\"gridcolor\":\"white\",\"linecolor\":\"white\",\"ticks\":\"\",\"title\":{\"standoff\":15},\"zerolinecolor\":\"white\",\"automargin\":true,\"zerolinewidth\":2},\"scene\":{\"xaxis\":{\"backgroundcolor\":\"#E5ECF6\",\"gridcolor\":\"white\",\"linecolor\":\"white\",\"showbackground\":true,\"ticks\":\"\",\"zerolinecolor\":\"white\",\"gridwidth\":2},\"yaxis\":{\"backgroundcolor\":\"#E5ECF6\",\"gridcolor\":\"white\",\"linecolor\":\"white\",\"showbackground\":true,\"ticks\":\"\",\"zerolinecolor\":\"white\",\"gridwidth\":2},\"zaxis\":{\"backgroundcolor\":\"#E5ECF6\",\"gridcolor\":\"white\",\"linecolor\":\"white\",\"showbackground\":true,\"ticks\":\"\",\"zerolinecolor\":\"white\",\"gridwidth\":2}},\"shapedefaults\":{\"line\":{\"color\":\"#2a3f5f\"}},\"annotationdefaults\":{\"arrowcolor\":\"#2a3f5f\",\"arrowhead\":0,\"arrowwidth\":1},\"geo\":{\"bgcolor\":\"white\",\"landcolor\":\"#E5ECF6\",\"subunitcolor\":\"white\",\"showland\":true,\"showlakes\":true,\"lakecolor\":\"white\"},\"title\":{\"x\":0.05},\"mapbox\":{\"style\":\"light\"}}},\"title\":{\"text\":\"A1CF (RNA-seq) GTEx\"},\"height\":1200},                        {\"responsive\": true}                    ).then(function(){\n",
       "                            \n",
       "var gd = document.getElementById('27642334-e58c-453d-ab7d-523ab4ada083');\n",
       "var x = new MutationObserver(function (mutations, observer) {{\n",
       "        var display = window.getComputedStyle(gd).display;\n",
       "        if (!display || display === 'none') {{\n",
       "            console.log([gd, 'removed!']);\n",
       "            Plotly.purge(gd);\n",
       "            observer.disconnect();\n",
       "        }}\n",
       "}});\n",
       "\n",
       "// Listen for the removal of the full notebook cells\n",
       "var notebookContainer = gd.closest('#notebook-container');\n",
       "if (notebookContainer) {{\n",
       "    x.observe(notebookContainer, {childList: true});\n",
       "}}\n",
       "\n",
       "// Listen for the clearing of the current output cell\n",
       "var outputEl = gd.closest('.output');\n",
       "if (outputEl) {{\n",
       "    x.observe(outputEl, {childList: true});\n",
       "}}\n",
       "\n",
       "                        })                };                });            </script>        </div>"
      ]
     },
     "metadata": {},
     "output_type": "display_data"
    },
    {
     "data": {
      "application/vnd.plotly.v1+json": {
       "config": {
        "plotlyServerURL": "https://plot.ly"
       },
       "data": [
        {
         "lowerfence": [
          0,
          0,
          0,
          0,
          0,
          0,
          0,
          0,
          1,
          0,
          14,
          0,
          0,
          0,
          0,
          0,
          0,
          0,
          13,
          0,
          0,
          0,
          0,
          0,
          0,
          0,
          0,
          0,
          0,
          0,
          0,
          0,
          0,
          0,
          0,
          0,
          0,
          0,
          0,
          0,
          0,
          0,
          0,
          0,
          0,
          0,
          0,
          14,
          0,
          0,
          0,
          2,
          0,
          0,
          0,
          0,
          0,
          0,
          0,
          0,
          0,
          0,
          0,
          0,
          0,
          0,
          2,
          0,
          0,
          0,
          0,
          0,
          0,
          0,
          3,
          1,
          1,
          0,
          0,
          0,
          1,
          1,
          0,
          1,
          0,
          0,
          0,
          15,
          0,
          0,
          0,
          0,
          0,
          0,
          0,
          1,
          0,
          0,
          0,
          0,
          0,
          0,
          3452,
          0,
          2,
          0,
          0,
          0,
          0,
          29,
          0,
          0,
          0,
          0,
          0,
          0,
          9,
          1,
          0,
          0,
          0,
          0,
          0,
          0,
          0,
          0,
          1,
          0,
          1,
          0,
          649,
          0,
          0,
          0,
          0,
          0,
          0,
          2,
          28,
          0,
          0,
          0,
          36,
          0,
          0,
          0,
          1,
          0,
          0,
          4,
          0,
          0,
          0,
          0,
          0,
          0,
          0,
          0,
          0,
          0,
          0,
          52,
          0,
          0,
          0,
          3,
          0,
          0,
          0,
          0,
          1,
          0,
          0,
          0,
          0,
          0,
          0,
          0,
          0,
          1,
          0,
          0,
          1,
          0,
          0,
          0,
          0,
          0,
          0,
          0,
          0,
          0,
          0,
          0,
          0,
          0,
          0,
          0,
          0,
          0,
          0,
          0,
          0,
          2,
          0,
          0
         ],
         "mean": [
          14.559420289855073,
          24,
          98.97291196388262,
          17.34433601224646,
          27.920816733067728,
          17.993800852382797,
          6.531914893617022,
          5.631067961165049,
          1.6666666666666667,
          50.49122807017544,
          154.42857142857142,
          3.4794520547945207,
          10.45,
          1.3601895734597156,
          58.333333333333336,
          14.403846153846152,
          8.14102564102564,
          31.70507399577167,
          14.5,
          57.22916666666666,
          26.26315789473684,
          17.92,
          16.970833333333335,
          3668.935185185185,
          117.40556900726392,
          186.2095531587057,
          3.52,
          1.2839506172839503,
          13.685534591194967,
          8.454545454545455,
          36.02017291066282,
          4.356481481481482,
          2,
          18.26923076923077,
          3.819672131147541,
          9.6,
          8.826744186046511,
          13.76858108108108,
          15.81780821917808,
          2.25,
          5.142857142857143,
          4.579545454545454,
          9.029850746268655,
          10.54131227217497,
          4.176470588235294,
          10.787280701754383,
          9.948275862068966,
          22.666666666666668,
          18.19672131147541,
          21.885572139303484,
          6.857142857142857,
          351.6216216216216,
          14.21505376344086,
          6.115384615384615,
          15.837553436369616,
          8.055555555555555,
          10.25242718446602,
          12.22077922077922,
          13.28448275862069,
          8.405405405405405,
          15.6875,
          2.434439178515008,
          7.621621621621622,
          25.635359116022094,
          549.2674208144797,
          321.84504331087584,
          12.333333333333334,
          2.111111111111111,
          13.547770700636942,
          2552.1637931034484,
          122.6162876008804,
          3964.355649717514,
          49.7608497723824,
          42.221662468513856,
          7.888888888888889,
          5.25,
          11.6,
          4.878787878787879,
          5.333333333333333,
          3.419753086419753,
          4.8,
          62.72222222222222,
          42.514295799505824,
          9.77777777777778,
          21.056910569105693,
          45.47682119205298,
          776.5271260997067,
          224.66666666666663,
          105.45064377682404,
          20.559575494452485,
          188.35664335664336,
          24.66025641025641,
          17.01153846153846,
          9.88095238095238,
          109.29824561403508,
          22.933333333333334,
          11.466019417475728,
          1,
          18.614285714285717,
          15.827586206896552,
          0,
          20.25,
          8480.1,
          3.292682926829268,
          175.66666666666666,
          11.500752445447706,
          10.48095238095238,
          73.1875,
          7.444444444444445,
          109.08333333333331,
          216.04761904761904,
          64.5939226519337,
          12.758620689655173,
          39.13559322033898,
          2.232558139534884,
          8.72,
          136.05555555555554,
          17.53846153846154,
          59.514084507042256,
          11.571428571428571,
          5.570588235294117,
          14.23076923076923,
          16.642857142857142,
          853.3013698630137,
          85.16304347826087,
          6.904347826086957,
          2.5,
          0.2,
          2.5,
          16.1,
          692,
          94.007371007371,
          30.71484375,
          14.341463414634148,
          138.7286432160804,
          28.31578947368421,
          7.14,
          13.272727272727272,
          28,
          1.809523809523809,
          10.801075268817204,
          2736.1875,
          339.1,
          41.11711711711712,
          0.325,
          983.8550488599348,
          23.4375,
          3.322314049586777,
          1628.357142857143,
          18.463768115942027,
          37.27461139896373,
          12.740601503759398,
          10.736842105263158,
          13.518382352941176,
          9.695652173913045,
          2.6666666666666665,
          47.2,
          7.236842105263157,
          1.5833333333333333,
          44.47222222222222,
          0.1666666666666666,
          1372.5,
          9.780821917808218,
          13.035087719298245,
          2.2666666666666666,
          102.12820512820512,
          11.216901408450704,
          9.583333333333334,
          15.77777777777778,
          44.5,
          5.548387096774194,
          1.0232558139534884,
          77.4622144112478,
          24.94117647058824,
          17.5,
          103.24324324324324,
          13.91703056768559,
          22.26923076923077,
          26.611764705882354,
          911.0106382978724,
          259.6363636363636,
          19.94556765163297,
          16.258064516129032,
          6.224358974358975,
          3.603448275862069,
          0,
          3.625,
          1.375,
          11.30204081632653,
          12.765822784810126,
          30.938271604938272,
          25.428571428571427,
          27.091954022988507,
          6.3229461756373935,
          51.583333333333336,
          3.4615384615384617,
          6.326086956521739,
          50.23809523809524,
          47.71666666666667,
          83.03030303030303,
          48.80952380952381,
          11303.264705882351,
          5.424778761061947,
          15.25233644859813,
          18.75,
          4.26
         ],
         "median": [
          6,
          6,
          8,
          7,
          10,
          4,
          1,
          2,
          2,
          15,
          113,
          2,
          8,
          0,
          2,
          9,
          3,
          3,
          14.5,
          5,
          1,
          4,
          5.5,
          2041.5,
          5,
          5,
          3,
          1,
          7,
          5,
          6,
          2,
          2,
          16,
          0,
          6,
          3,
          6,
          2,
          2,
          1,
          4,
          3,
          4,
          4,
          5,
          3,
          22,
          9,
          14,
          5,
          16,
          4,
          6,
          8,
          2,
          7,
          6,
          0,
          0,
          15,
          0,
          4,
          8,
          81,
          7,
          7,
          1,
          3,
          1382.5,
          9,
          1428,
          6,
          10,
          8,
          4,
          2,
          3,
          6,
          2,
          5,
          9.5,
          4,
          9,
          0,
          8,
          28,
          306,
          10,
          5,
          33,
          12.5,
          11.5,
          7,
          16,
          16.5,
          1,
          1,
          9,
          5,
          0,
          5.5,
          7987,
          1,
          8,
          4,
          6,
          8,
          5,
          66.5,
          1,
          63.5,
          5,
          16,
          1,
          6,
          122,
          16,
          49,
          6,
          2,
          6,
          11.5,
          837,
          5,
          2,
          2,
          0,
          2.5,
          16.5,
          685.5,
          6,
          3,
          6,
          35,
          7.5,
          3,
          6,
          28,
          1,
          6,
          2136.5,
          276.5,
          38,
          0,
          747,
          8.5,
          2,
          1019,
          17,
          31,
          5,
          2.5,
          5,
          3,
          1,
          11,
          3,
          2,
          8,
          0,
          1089.5,
          6,
          8,
          1,
          17,
          9,
          7.5,
          9,
          28,
          5,
          1,
          9,
          22,
          2,
          7,
          7,
          6.5,
          9,
          504,
          5,
          16,
          16,
          1,
          2,
          0,
          1,
          1.5,
          2,
          9,
          32,
          4,
          22,
          0,
          13.5,
          1,
          6,
          5,
          21.5,
          20,
          14,
          12590.5,
          2,
          15,
          5,
          2
         ],
         "name": "Background",
         "orientation": "h",
         "q1": [
          3,
          1,
          4,
          2,
          3,
          1,
          0,
          0,
          1.5,
          6,
          35,
          1,
          2,
          0,
          0,
          3.75,
          2,
          1,
          13.75,
          2,
          0,
          2,
          2,
          227.75,
          2,
          1,
          2,
          0,
          3.5,
          2,
          2,
          1,
          1,
          10,
          0,
          2,
          1,
          2,
          1,
          0,
          0.5,
          1,
          1,
          2,
          2,
          2,
          2,
          18,
          1,
          4,
          3,
          5,
          1,
          2.5,
          2,
          0,
          1,
          2,
          0,
          0,
          2.75,
          0,
          1,
          2,
          14,
          2,
          3.5,
          0,
          1,
          100,
          3,
          473,
          2,
          3,
          6,
          1.75,
          1,
          1,
          3,
          0,
          2,
          4,
          1,
          3,
          0,
          2,
          4,
          160.5,
          3,
          1,
          7,
          3,
          4,
          5,
          8,
          8.5,
          0,
          0.5,
          5,
          2,
          0,
          1,
          6060,
          0,
          5,
          0,
          0,
          1,
          3,
          51.75,
          0,
          44,
          2,
          0,
          1,
          4,
          78.25,
          5,
          33,
          1,
          0,
          3,
          5,
          328,
          2,
          0,
          1,
          0,
          1.75,
          4,
          662.5,
          2,
          0,
          3,
          5.5,
          0.25,
          0.25,
          4,
          28,
          0,
          3,
          924.25,
          181.25,
          17,
          0,
          343.75,
          5.75,
          1,
          379.75,
          12,
          23,
          0,
          1,
          2,
          0,
          0,
          7,
          0,
          0,
          3,
          0,
          606,
          2,
          2,
          0,
          9.5,
          3,
          3.75,
          4,
          9.75,
          2,
          0,
          3,
          12.5,
          1,
          1,
          3,
          1,
          5,
          264.25,
          1.5,
          10,
          5,
          0,
          1,
          0,
          0,
          0,
          0,
          4,
          20,
          0,
          1.5,
          0,
          9.25,
          0,
          3,
          0,
          10.75,
          11,
          6.25,
          3224.5,
          1,
          9,
          2,
          1
         ],
         "q3": [
          13,
          33.5,
          34.5,
          15,
          23,
          12,
          3,
          6,
          2,
          45.5,
          210,
          4,
          17.5,
          2,
          159.5,
          19,
          8,
          9,
          15.25,
          50.25,
          53.5,
          23,
          17.25,
          5661,
          12.75,
          15,
          4,
          2,
          12.5,
          10.5,
          18,
          4,
          3,
          25.5,
          1,
          14,
          8,
          18,
          5,
          3.25,
          2,
          6,
          9,
          10,
          6,
          13,
          6,
          27,
          28,
          33,
          9,
          493,
          7,
          9,
          18,
          4.5,
          16,
          10,
          5.5,
          4,
          24.75,
          1,
          6,
          24,
          671.25,
          24,
          15,
          3,
          10,
          3916.25,
          32,
          5537.75,
          16,
          40,
          9,
          7.5,
          5,
          6,
          8,
          5,
          5,
          16,
          10,
          15,
          11,
          21,
          566.75,
          329.5,
          35,
          15,
          146,
          26.25,
          25.25,
          10.75,
          134,
          32.25,
          5.5,
          1.5,
          16.75,
          13.25,
          0,
          27.5,
          10887,
          3,
          262.5,
          13,
          17,
          50.25,
          6.5,
          77,
          3,
          79,
          12,
          44.5,
          3,
          11,
          194.75,
          27,
          68,
          15,
          6,
          13,
          17,
          1326,
          12,
          6,
          3.5,
          0,
          3.25,
          25,
          715,
          20,
          9,
          14,
          81.5,
          29,
          7.75,
          22.5,
          28,
          1,
          9,
          3693,
          459.75,
          55.5,
          1,
          1276.75,
          19.5,
          4,
          2451.75,
          23,
          44,
          13,
          17.5,
          19,
          13,
          4,
          30,
          7.25,
          2.25,
          21.75,
          0,
          1901.25,
          10,
          18,
          2.5,
          167.5,
          15.5,
          12.25,
          19,
          62.75,
          8.5,
          1,
          26,
          33,
          22.25,
          140,
          21,
          42.25,
          18,
          754,
          49.5,
          23,
          20.5,
          4,
          4,
          0,
          6.25,
          2.25,
          7,
          14.75,
          42,
          36,
          39.5,
          4,
          16,
          3.5,
          7.75,
          25,
          50.25,
          39,
          20.75,
          18047.25,
          5,
          21,
          21.25,
          5.75
         ],
         "sd": [
          42.173230021163455,
          39.6316371938716,
          411.1914365044869,
          81.78786218032559,
          137.16793559715163,
          384.02223034212994,
          46.62805428688778,
          11.45750057545329,
          0.5773502691896257,
          148.00001464312538,
          145.88336452096257,
          4.601055401394023,
          9.156389773497551,
          2.27891535647685,
          82.89120810407086,
          16.758542875357954,
          15.318882634453637,
          94.20809530047082,
          2.1213203435596424,
          97.79336434507752,
          40.458266708167805,
          25.286557693762905,
          34.122152943189015,
          4368.064383663136,
          662.4216592989261,
          596.9767887167984,
          4.908496035786658,
          1.762346219541116,
          22.14627390003658,
          8.664451931468447,
          120.36273132769288,
          8.293220031819727,
          2.8284271247461903,
          12.987347364013347,
          8.10454234101945,
          10.540952912886402,
          24.86759313757605,
          22.628063659719945,
          143.11434084622962,
          2.0816659994661326,
          11.006491591004698,
          5.510119407323911,
          15.926494830047847,
          17.21568329242912,
          2.8227494466393352,
          14.808278325892664,
          17.62018620467665,
          9.018499505645789,
          22.02058452987319,
          22.462008832604884,
          5.507138224937833,
          534.8599168292859,
          71.99408935013884,
          4.226837333770232,
          26.41282677455944,
          14.15615856780452,
          11.89885350104176,
          22.332194942812343,
          32.396673483146586,
          24.065623954036877,
          13.714803437648436,
          8.825182189245325,
          37.401554299509016,
          44.205701850782994,
          969.3680642932594,
          2084.043800992016,
          13.009154286043934,
          2.4703368398993897,
          28.07371534757917,
          4245.804275617468,
          490.9409784145631,
          5428.682394784281,
          336.6232165281746,
          89.90506347610994,
          3.0595932917809696,
          4.99165971062398,
          20.971409108593537,
          6.6085057679363866,
          5.033222956847167,
          3.965047911220191,
          3.898717737923585,
          226.25748100873557,
          506.9051653270533,
          7.82268780180089,
          51.89148526334738,
          160.21684615699587,
          1842.4968274214764,
          183.0910520296755,
          427.2599925753513,
          145.13979563258172,
          460.1730293924264,
          38.28475596485719,
          17.085178993892374,
          10.86098944635224,
          189.95581863312705,
          19.71159877931726,
          25.2146920811006,
          1.4142135623730951,
          33.81590949523091,
          25.937140019358495,
          null,
          27.634598832470484,
          3188.826341043572,
          7.064856341211137,
          295.6185605359267,
          31.44375948776708,
          12.590803929306434,
          137.34058762024435,
          8.75009157461238,
          160.26745190571563,
          982.2660269087226,
          33.86265671429567,
          24.28347306260905,
          61.37910956172546,
          2.255545645127493,
          6.997142273814361,
          75.75915578683933,
          14.110370799612747,
          56.26179495892307,
          18.365502080440564,
          8.234597578817551,
          23.75301652855473,
          17.28319389490239,
          633.8576050425834,
          490.7997796190947,
          14.390711179464288,
          1.914854215512676,
          0.447213595499958,
          1.2909944487358056,
          13.45909324624939,
          43.79497688091638,
          392.4588773684527,
          119.23087150556056,
          30.93623809097608,
          386.0635012581549,
          44.94327070643967,
          9.946817766173732,
          11.384998103565136,
          null,
          3.749920634080775,
          16.516697389042992,
          4329.277603495834,
          230.31015319926013,
          31.134528841125668,
          0.6155047959570695,
          975.3572918771156,
          35.58832907944213,
          6.319566013623954,
          1724.202282061602,
          9.015639532541943,
          36.76165104396716,
          37.86137084022419,
          16.979612911460734,
          19.61886922954243,
          16.76209901494224,
          3.939648884524271,
          79.49025097456921,
          14.013586993530076,
          1.316010660280157,
          111.5471191062668,
          0.408248290463863,
          1059.4436003979836,
          18.071806291801654,
          14.474071537310016,
          3.432339199576928,
          141.07224343486672,
          12.901440662289176,
          8.404810828949246,
          18.79057898484926,
          54.71441004586147,
          3.4335473364769498,
          1.2999701845119969,
          398.7284747144683,
          21.74066398682973,
          31.932019136813853,
          164.3555436994589,
          15.70582409305682,
          29.063227479988253,
          40.21640689760214,
          3076.9852128156585,
          624.4881220028003,
          19.771793640983383,
          18.059102491422404,
          15.732265475950689,
          8.747811064895162,
          0,
          5.289927535735564,
          1.3024701806293193,
          45.30505205514765,
          15.95661623114414,
          16.743913580023897,
          35.91179670884127,
          29.97775616589821,
          17.633998680878037,
          139.74747246589493,
          6.985668660232358,
          4.376981952726417,
          160.6601707835221,
          100.3669693229473,
          247.81323013822305,
          168.8824440463981,
          8347.574633457363,
          8.603673953979856,
          8.283984842264411,
          28.706206581439776,
          5.427857095858478
         ],
         "type": "box",
         "upperfence": [
          28,
          82.25,
          80.25,
          34.5,
          53,
          28.5,
          7.5,
          15,
          2,
          104.75,
          472.5,
          8.5,
          28,
          5,
          185,
          41.875,
          17,
          21,
          16,
          122.625,
          111,
          54.5,
          40.125,
          13810.875,
          28.875,
          36,
          7,
          5,
          26,
          23.25,
          42,
          8.5,
          4,
          48.75,
          2.5,
          32,
          18.5,
          42,
          11,
          7,
          4.25,
          13.5,
          21,
          22,
          12,
          29.5,
          12,
          32,
          68.5,
          76.5,
          18,
          1225,
          16,
          15,
          42,
          11.25,
          38.5,
          22,
          13.75,
          10,
          39,
          2.5,
          13.5,
          57,
          1657.125,
          57,
          32.25,
          7.5,
          23.5,
          9640.625,
          75.5,
          13134.875,
          37,
          95.5,
          13,
          12,
          11,
          13.5,
          10,
          12.5,
          9.5,
          34,
          23.5,
          24,
          27.5,
          49.5,
          1410.875,
          353,
          83,
          36,
          354.5,
          61.125,
          57.125,
          19.375,
          323,
          67.875,
          13.75,
          2,
          34.375,
          30.125,
          0,
          67.25,
          12915,
          7.5,
          517,
          32.5,
          42.5,
          124.125,
          11.75,
          114.875,
          7.5,
          131.5,
          27,
          111.25,
          6,
          21.5,
          290,
          45,
          120.5,
          36,
          15,
          28,
          35,
          2462,
          27,
          15,
          5,
          0,
          4,
          56.5,
          748,
          47,
          22.5,
          30.5,
          195.5,
          72.125,
          19,
          31,
          28,
          2.5,
          18,
          7846.125,
          835,
          113.25,
          2.5,
          2676.25,
          40.125,
          8.5,
          5559.75,
          39.5,
          75.5,
          32.5,
          42.25,
          44.5,
          32.5,
          10,
          64.5,
          18.125,
          4,
          49.875,
          0,
          3844.125,
          22,
          42,
          6.25,
          404.5,
          34.25,
          25,
          41.5,
          122,
          13,
          2.5,
          60.5,
          63.75,
          54.125,
          348.5,
          48,
          104.125,
          37.5,
          1488.625,
          121.5,
          42.5,
          43.75,
          10,
          8.5,
          0,
          15.625,
          3,
          17.5,
          30.875,
          68,
          90,
          96.5,
          10,
          26.125,
          8.75,
          14.875,
          62.5,
          109.5,
          81,
          42.5,
          26778,
          11,
          32,
          50.125,
          12.875
         ],
         "y": [
          "adipose",
          "adrenal",
          "bladder",
          "blood",
          "brain",
          "breast",
          "cell-adipocyte",
          "cell-astrocyte",
          "cell-bmsc",
          "cell-cardiomyocyte",
          "cell-cholangiocyte",
          "cell-chondrocyte",
          "cell-cytotrophoblast",
          "cell-dendritic",
          "cell-eosinophil",
          "cell-erythroid",
          "cell-erythroleukemia",
          "cell-fibroblast",
          "cell-glia",
          "cell-glial",
          "cell-granulocytic",
          "cell-helper",
          "cell-hematopoietic",
          "cell-hepatocyte",
          "cell-hesc",
          "cell-hipsc",
          "cell-hmec",
          "cell-hmsc",
          "cell-hpsc",
          "cell-hspc",
          "cell-ipsc",
          "cell-keratinocyte",
          "cell-langerhan",
          "cell-leukocyte",
          "cell-lmpp",
          "cell-lymphoblast",
          "cell-lymphoblastoid",
          "cell-lymphocyte",
          "cell-macrophage",
          "cell-mast",
          "cell-mef",
          "cell-melanocyte",
          "cell-microglia",
          "cell-monocyte",
          "cell-msc",
          "cell-myeloid",
          "cell-myoblast",
          "cell-myocyte",
          "cell-nasopharyngeal",
          "cell-neutrophil",
          "cell-oligodendrocyte",
          "cell-oocyte",
          "cell-osteoblast",
          "cell-osteoblastic",
          "cell-pbmc",
          "cell-pericyte",
          "cell-platelet",
          "cell-podocyte",
          "cell-sperm",
          "cell-spermatozoa",
          "cell-syncytiotrophoblast",
          "cell-tcell",
          "cell-treg",
          "cervix",
          "colon",
          "control",
          "esophagu",
          "fallopian",
          "heart",
          "intestine",
          "kidney",
          "liver",
          "lung",
          "muscle",
          "nan-blastoid",
          "nan-erythrocyte",
          "nan-granulocyte",
          "nan-hair",
          "nan-morula",
          "nan-preadipocyte",
          "nan-promyelocyte",
          "nan-proximal",
          "nan-stem",
          "nan-thymocyte",
          "nerve",
          "ovary",
          "pancrea",
          "pituitary",
          "prostate",
          "skin",
          "stomach",
          "testi",
          "thyroid",
          "tissue-airway",
          "tissue-alveolar",
          "tissue-amygdala",
          "tissue-aortic",
          "tissue-arterial",
          "tissue-artery",
          "tissue-atrial",
          "tissue-atrioventricular",
          "tissue-atrium",
          "tissue-biliary",
          "tissue-blastocyst",
          "tissue-blastomere",
          "tissue-bone",
          "tissue-bronchial",
          "tissue-cardiac",
          "tissue-cartilage",
          "tissue-caudate",
          "tissue-cerebellar",
          "tissue-cerebellum",
          "tissue-cerebral",
          "tissue-cerebrospinal",
          "tissue-chondrogenic",
          "tissue-choroid",
          "tissue-cornea",
          "tissue-corneal",
          "tissue-cortex",
          "tissue-cortical",
          "tissue-cutaneou",
          "tissue-dermal",
          "tissue-dermi",
          "tissue-duodenum",
          "tissue-endoderm",
          "tissue-endothelial",
          "tissue-endothelium",
          "tissue-epiblast",
          "tissue-epicardium",
          "tissue-epidermi",
          "tissue-epithelia",
          "tissue-epithelial",
          "tissue-epithelium",
          "tissue-erythroblast",
          "tissue-esophageal",
          "tissue-eye",
          "tissue-fat",
          "tissue-follicle",
          "tissue-gastrocnemiu",
          "tissue-gingival",
          "tissue-gyru",
          "tissue-hepatic",
          "tissue-hepatoblast",
          "tissue-hippocampu",
          "tissue-hypothalamu",
          "tissue-ileum",
          "tissue-interneuron",
          "tissue-intracranial",
          "tissue-islet",
          "tissue-labial",
          "tissue-lumbar",
          "tissue-lymph",
          "tissue-lymphatic",
          "tissue-lymphoblastic",
          "tissue-mammary",
          "tissue-mesenchymal",
          "tissue-mesenchyme",
          "tissue-mesoderm",
          "tissue-mesodermal",
          "tissue-micropapillarity",
          "tissue-motor",
          "tissue-mucosal",
          "tissue-myogenic",
          "tissue-myometrium",
          "tissue-myotube",
          "tissue-neocortex",
          "tissue-neuron",
          "tissue-neuronal",
          "tissue-nigra",
          "tissue-occipital",
          "tissue-olfactory",
          "tissue-osteogenic",
          "tissue-ovarian",
          "tissue-ovarie",
          "tissue-papillary",
          "tissue-peritoneal",
          "tissue-placenta",
          "tissue-placental",
          "tissue-pontine",
          "tissue-rectum",
          "tissue-renal",
          "tissue-retina",
          "tissue-retinal",
          "tissue-salivary",
          "tissue-scalp",
          "tissue-septum",
          "tissue-skeletal",
          "tissue-smooth",
          "tissue-spleen",
          "tissue-synovial",
          "tissue-thoracic",
          "tissue-thymic",
          "tissue-thymu",
          "tissue-tonsil",
          "tissue-tracheal",
          "tissue-trophoblast",
          "tissue-turbinate",
          "tissue-umbilical",
          "tissue-urinary",
          "tissue-urothelial",
          "tissue-uterine",
          "tissue-vein",
          "tissue-ventricle",
          "tissue-villu",
          "uteru",
          "vagina"
         ]
        }
       ],
       "layout": {
        "height": 5000,
        "template": {
         "data": {
          "bar": [
           {
            "error_x": {
             "color": "#2a3f5f"
            },
            "error_y": {
             "color": "#2a3f5f"
            },
            "marker": {
             "line": {
              "color": "#E5ECF6",
              "width": 0.5
             },
             "pattern": {
              "fillmode": "overlay",
              "size": 10,
              "solidity": 0.2
             }
            },
            "type": "bar"
           }
          ],
          "barpolar": [
           {
            "marker": {
             "line": {
              "color": "#E5ECF6",
              "width": 0.5
             },
             "pattern": {
              "fillmode": "overlay",
              "size": 10,
              "solidity": 0.2
             }
            },
            "type": "barpolar"
           }
          ],
          "carpet": [
           {
            "aaxis": {
             "endlinecolor": "#2a3f5f",
             "gridcolor": "white",
             "linecolor": "white",
             "minorgridcolor": "white",
             "startlinecolor": "#2a3f5f"
            },
            "baxis": {
             "endlinecolor": "#2a3f5f",
             "gridcolor": "white",
             "linecolor": "white",
             "minorgridcolor": "white",
             "startlinecolor": "#2a3f5f"
            },
            "type": "carpet"
           }
          ],
          "choropleth": [
           {
            "colorbar": {
             "outlinewidth": 0,
             "ticks": ""
            },
            "type": "choropleth"
           }
          ],
          "contour": [
           {
            "colorbar": {
             "outlinewidth": 0,
             "ticks": ""
            },
            "colorscale": [
             [
              0,
              "#0d0887"
             ],
             [
              0.1111111111111111,
              "#46039f"
             ],
             [
              0.2222222222222222,
              "#7201a8"
             ],
             [
              0.3333333333333333,
              "#9c179e"
             ],
             [
              0.4444444444444444,
              "#bd3786"
             ],
             [
              0.5555555555555556,
              "#d8576b"
             ],
             [
              0.6666666666666666,
              "#ed7953"
             ],
             [
              0.7777777777777778,
              "#fb9f3a"
             ],
             [
              0.8888888888888888,
              "#fdca26"
             ],
             [
              1,
              "#f0f921"
             ]
            ],
            "type": "contour"
           }
          ],
          "contourcarpet": [
           {
            "colorbar": {
             "outlinewidth": 0,
             "ticks": ""
            },
            "type": "contourcarpet"
           }
          ],
          "heatmap": [
           {
            "colorbar": {
             "outlinewidth": 0,
             "ticks": ""
            },
            "colorscale": [
             [
              0,
              "#0d0887"
             ],
             [
              0.1111111111111111,
              "#46039f"
             ],
             [
              0.2222222222222222,
              "#7201a8"
             ],
             [
              0.3333333333333333,
              "#9c179e"
             ],
             [
              0.4444444444444444,
              "#bd3786"
             ],
             [
              0.5555555555555556,
              "#d8576b"
             ],
             [
              0.6666666666666666,
              "#ed7953"
             ],
             [
              0.7777777777777778,
              "#fb9f3a"
             ],
             [
              0.8888888888888888,
              "#fdca26"
             ],
             [
              1,
              "#f0f921"
             ]
            ],
            "type": "heatmap"
           }
          ],
          "heatmapgl": [
           {
            "colorbar": {
             "outlinewidth": 0,
             "ticks": ""
            },
            "colorscale": [
             [
              0,
              "#0d0887"
             ],
             [
              0.1111111111111111,
              "#46039f"
             ],
             [
              0.2222222222222222,
              "#7201a8"
             ],
             [
              0.3333333333333333,
              "#9c179e"
             ],
             [
              0.4444444444444444,
              "#bd3786"
             ],
             [
              0.5555555555555556,
              "#d8576b"
             ],
             [
              0.6666666666666666,
              "#ed7953"
             ],
             [
              0.7777777777777778,
              "#fb9f3a"
             ],
             [
              0.8888888888888888,
              "#fdca26"
             ],
             [
              1,
              "#f0f921"
             ]
            ],
            "type": "heatmapgl"
           }
          ],
          "histogram": [
           {
            "marker": {
             "pattern": {
              "fillmode": "overlay",
              "size": 10,
              "solidity": 0.2
             }
            },
            "type": "histogram"
           }
          ],
          "histogram2d": [
           {
            "colorbar": {
             "outlinewidth": 0,
             "ticks": ""
            },
            "colorscale": [
             [
              0,
              "#0d0887"
             ],
             [
              0.1111111111111111,
              "#46039f"
             ],
             [
              0.2222222222222222,
              "#7201a8"
             ],
             [
              0.3333333333333333,
              "#9c179e"
             ],
             [
              0.4444444444444444,
              "#bd3786"
             ],
             [
              0.5555555555555556,
              "#d8576b"
             ],
             [
              0.6666666666666666,
              "#ed7953"
             ],
             [
              0.7777777777777778,
              "#fb9f3a"
             ],
             [
              0.8888888888888888,
              "#fdca26"
             ],
             [
              1,
              "#f0f921"
             ]
            ],
            "type": "histogram2d"
           }
          ],
          "histogram2dcontour": [
           {
            "colorbar": {
             "outlinewidth": 0,
             "ticks": ""
            },
            "colorscale": [
             [
              0,
              "#0d0887"
             ],
             [
              0.1111111111111111,
              "#46039f"
             ],
             [
              0.2222222222222222,
              "#7201a8"
             ],
             [
              0.3333333333333333,
              "#9c179e"
             ],
             [
              0.4444444444444444,
              "#bd3786"
             ],
             [
              0.5555555555555556,
              "#d8576b"
             ],
             [
              0.6666666666666666,
              "#ed7953"
             ],
             [
              0.7777777777777778,
              "#fb9f3a"
             ],
             [
              0.8888888888888888,
              "#fdca26"
             ],
             [
              1,
              "#f0f921"
             ]
            ],
            "type": "histogram2dcontour"
           }
          ],
          "mesh3d": [
           {
            "colorbar": {
             "outlinewidth": 0,
             "ticks": ""
            },
            "type": "mesh3d"
           }
          ],
          "parcoords": [
           {
            "line": {
             "colorbar": {
              "outlinewidth": 0,
              "ticks": ""
             }
            },
            "type": "parcoords"
           }
          ],
          "pie": [
           {
            "automargin": true,
            "type": "pie"
           }
          ],
          "scatter": [
           {
            "fillpattern": {
             "fillmode": "overlay",
             "size": 10,
             "solidity": 0.2
            },
            "type": "scatter"
           }
          ],
          "scatter3d": [
           {
            "line": {
             "colorbar": {
              "outlinewidth": 0,
              "ticks": ""
             }
            },
            "marker": {
             "colorbar": {
              "outlinewidth": 0,
              "ticks": ""
             }
            },
            "type": "scatter3d"
           }
          ],
          "scattercarpet": [
           {
            "marker": {
             "colorbar": {
              "outlinewidth": 0,
              "ticks": ""
             }
            },
            "type": "scattercarpet"
           }
          ],
          "scattergeo": [
           {
            "marker": {
             "colorbar": {
              "outlinewidth": 0,
              "ticks": ""
             }
            },
            "type": "scattergeo"
           }
          ],
          "scattergl": [
           {
            "marker": {
             "colorbar": {
              "outlinewidth": 0,
              "ticks": ""
             }
            },
            "type": "scattergl"
           }
          ],
          "scattermapbox": [
           {
            "marker": {
             "colorbar": {
              "outlinewidth": 0,
              "ticks": ""
             }
            },
            "type": "scattermapbox"
           }
          ],
          "scatterpolar": [
           {
            "marker": {
             "colorbar": {
              "outlinewidth": 0,
              "ticks": ""
             }
            },
            "type": "scatterpolar"
           }
          ],
          "scatterpolargl": [
           {
            "marker": {
             "colorbar": {
              "outlinewidth": 0,
              "ticks": ""
             }
            },
            "type": "scatterpolargl"
           }
          ],
          "scatterternary": [
           {
            "marker": {
             "colorbar": {
              "outlinewidth": 0,
              "ticks": ""
             }
            },
            "type": "scatterternary"
           }
          ],
          "surface": [
           {
            "colorbar": {
             "outlinewidth": 0,
             "ticks": ""
            },
            "colorscale": [
             [
              0,
              "#0d0887"
             ],
             [
              0.1111111111111111,
              "#46039f"
             ],
             [
              0.2222222222222222,
              "#7201a8"
             ],
             [
              0.3333333333333333,
              "#9c179e"
             ],
             [
              0.4444444444444444,
              "#bd3786"
             ],
             [
              0.5555555555555556,
              "#d8576b"
             ],
             [
              0.6666666666666666,
              "#ed7953"
             ],
             [
              0.7777777777777778,
              "#fb9f3a"
             ],
             [
              0.8888888888888888,
              "#fdca26"
             ],
             [
              1,
              "#f0f921"
             ]
            ],
            "type": "surface"
           }
          ],
          "table": [
           {
            "cells": {
             "fill": {
              "color": "#EBF0F8"
             },
             "line": {
              "color": "white"
             }
            },
            "header": {
             "fill": {
              "color": "#C8D4E3"
             },
             "line": {
              "color": "white"
             }
            },
            "type": "table"
           }
          ]
         },
         "layout": {
          "annotationdefaults": {
           "arrowcolor": "#2a3f5f",
           "arrowhead": 0,
           "arrowwidth": 1
          },
          "autotypenumbers": "strict",
          "coloraxis": {
           "colorbar": {
            "outlinewidth": 0,
            "ticks": ""
           }
          },
          "colorscale": {
           "diverging": [
            [
             0,
             "#8e0152"
            ],
            [
             0.1,
             "#c51b7d"
            ],
            [
             0.2,
             "#de77ae"
            ],
            [
             0.3,
             "#f1b6da"
            ],
            [
             0.4,
             "#fde0ef"
            ],
            [
             0.5,
             "#f7f7f7"
            ],
            [
             0.6,
             "#e6f5d0"
            ],
            [
             0.7,
             "#b8e186"
            ],
            [
             0.8,
             "#7fbc41"
            ],
            [
             0.9,
             "#4d9221"
            ],
            [
             1,
             "#276419"
            ]
           ],
           "sequential": [
            [
             0,
             "#0d0887"
            ],
            [
             0.1111111111111111,
             "#46039f"
            ],
            [
             0.2222222222222222,
             "#7201a8"
            ],
            [
             0.3333333333333333,
             "#9c179e"
            ],
            [
             0.4444444444444444,
             "#bd3786"
            ],
            [
             0.5555555555555556,
             "#d8576b"
            ],
            [
             0.6666666666666666,
             "#ed7953"
            ],
            [
             0.7777777777777778,
             "#fb9f3a"
            ],
            [
             0.8888888888888888,
             "#fdca26"
            ],
            [
             1,
             "#f0f921"
            ]
           ],
           "sequentialminus": [
            [
             0,
             "#0d0887"
            ],
            [
             0.1111111111111111,
             "#46039f"
            ],
            [
             0.2222222222222222,
             "#7201a8"
            ],
            [
             0.3333333333333333,
             "#9c179e"
            ],
            [
             0.4444444444444444,
             "#bd3786"
            ],
            [
             0.5555555555555556,
             "#d8576b"
            ],
            [
             0.6666666666666666,
             "#ed7953"
            ],
            [
             0.7777777777777778,
             "#fb9f3a"
            ],
            [
             0.8888888888888888,
             "#fdca26"
            ],
            [
             1,
             "#f0f921"
            ]
           ]
          },
          "colorway": [
           "#636efa",
           "#EF553B",
           "#00cc96",
           "#ab63fa",
           "#FFA15A",
           "#19d3f3",
           "#FF6692",
           "#B6E880",
           "#FF97FF",
           "#FECB52"
          ],
          "font": {
           "color": "#2a3f5f"
          },
          "geo": {
           "bgcolor": "white",
           "lakecolor": "white",
           "landcolor": "#E5ECF6",
           "showlakes": true,
           "showland": true,
           "subunitcolor": "white"
          },
          "hoverlabel": {
           "align": "left"
          },
          "hovermode": "closest",
          "mapbox": {
           "style": "light"
          },
          "paper_bgcolor": "white",
          "plot_bgcolor": "#E5ECF6",
          "polar": {
           "angularaxis": {
            "gridcolor": "white",
            "linecolor": "white",
            "ticks": ""
           },
           "bgcolor": "#E5ECF6",
           "radialaxis": {
            "gridcolor": "white",
            "linecolor": "white",
            "ticks": ""
           }
          },
          "scene": {
           "xaxis": {
            "backgroundcolor": "#E5ECF6",
            "gridcolor": "white",
            "gridwidth": 2,
            "linecolor": "white",
            "showbackground": true,
            "ticks": "",
            "zerolinecolor": "white"
           },
           "yaxis": {
            "backgroundcolor": "#E5ECF6",
            "gridcolor": "white",
            "gridwidth": 2,
            "linecolor": "white",
            "showbackground": true,
            "ticks": "",
            "zerolinecolor": "white"
           },
           "zaxis": {
            "backgroundcolor": "#E5ECF6",
            "gridcolor": "white",
            "gridwidth": 2,
            "linecolor": "white",
            "showbackground": true,
            "ticks": "",
            "zerolinecolor": "white"
           }
          },
          "shapedefaults": {
           "line": {
            "color": "#2a3f5f"
           }
          },
          "ternary": {
           "aaxis": {
            "gridcolor": "white",
            "linecolor": "white",
            "ticks": ""
           },
           "baxis": {
            "gridcolor": "white",
            "linecolor": "white",
            "ticks": ""
           },
           "bgcolor": "#E5ECF6",
           "caxis": {
            "gridcolor": "white",
            "linecolor": "white",
            "ticks": ""
           }
          },
          "title": {
           "x": 0.05
          },
          "xaxis": {
           "automargin": true,
           "gridcolor": "white",
           "linecolor": "white",
           "ticks": "",
           "title": {
            "standoff": 15
           },
           "zerolinecolor": "white",
           "zerolinewidth": 2
          },
          "yaxis": {
           "automargin": true,
           "gridcolor": "white",
           "linecolor": "white",
           "ticks": "",
           "title": {
            "standoff": 15
           },
           "zerolinecolor": "white",
           "zerolinewidth": 2
          }
         }
        },
        "title": {
         "text": "A1CF (RNA-seq) ARCHS4"
        }
       }
      },
      "text/html": [
       "<div>                            <div id=\"616eb5e6-de9d-4a3d-a4f0-d323283f382a\" class=\"plotly-graph-div\" style=\"height:5000px; width:100%;\"></div>            <script type=\"text/javascript\">                require([\"plotly\"], function(Plotly) {                    window.PLOTLYENV=window.PLOTLYENV || {};                                    if (document.getElementById(\"616eb5e6-de9d-4a3d-a4f0-d323283f382a\")) {                    Plotly.newPlot(                        \"616eb5e6-de9d-4a3d-a4f0-d323283f382a\",                        [{\"lowerfence\":[0.0,0.0,0.0,0.0,0.0,0.0,0.0,0.0,1.0,0.0,14.0,0.0,0.0,0.0,0.0,0.0,0.0,0.0,13.0,0.0,0.0,0.0,0.0,0.0,0.0,0.0,0.0,0.0,0.0,0.0,0.0,0.0,0.0,0.0,0.0,0.0,0.0,0.0,0.0,0.0,0.0,0.0,0.0,0.0,0.0,0.0,0.0,14.0,0.0,0.0,0.0,2.0,0.0,0.0,0.0,0.0,0.0,0.0,0.0,0.0,0.0,0.0,0.0,0.0,0.0,0.0,2.0,0.0,0.0,0.0,0.0,0.0,0.0,0.0,3.0,1.0,1.0,0.0,0.0,0.0,1.0,1.0,0.0,1.0,0.0,0.0,0.0,15.0,0.0,0.0,0.0,0.0,0.0,0.0,0.0,1.0,0.0,0.0,0.0,0.0,0.0,0.0,3452.0,0.0,2.0,0.0,0.0,0.0,0.0,29.0,0.0,0.0,0.0,0.0,0.0,0.0,9.0,1.0,0.0,0.0,0.0,0.0,0.0,0.0,0.0,0.0,1.0,0.0,1.0,0.0,649.0,0.0,0.0,0.0,0.0,0.0,0.0,2.0,28.0,0.0,0.0,0.0,36.0,0.0,0.0,0.0,1.0,0.0,0.0,4.0,0.0,0.0,0.0,0.0,0.0,0.0,0.0,0.0,0.0,0.0,0.0,52.0,0.0,0.0,0.0,3.0,0.0,0.0,0.0,0.0,1.0,0.0,0.0,0.0,0.0,0.0,0.0,0.0,0.0,1.0,0.0,0.0,1.0,0.0,0.0,0.0,0.0,0.0,0.0,0.0,0.0,0.0,0.0,0.0,0.0,0.0,0.0,0.0,0.0,0.0,0.0,0.0,0.0,2.0,0.0,0.0],\"mean\":[14.559420289855073,24.0,98.97291196388262,17.34433601224646,27.920816733067728,17.993800852382797,6.531914893617022,5.631067961165049,1.6666666666666667,50.49122807017544,154.42857142857142,3.4794520547945207,10.45,1.3601895734597156,58.333333333333336,14.403846153846152,8.14102564102564,31.70507399577167,14.5,57.22916666666666,26.26315789473684,17.92,16.970833333333335,3668.935185185185,117.40556900726392,186.2095531587057,3.52,1.2839506172839503,13.685534591194967,8.454545454545455,36.02017291066282,4.356481481481482,2.0,18.26923076923077,3.819672131147541,9.6,8.826744186046511,13.76858108108108,15.81780821917808,2.25,5.142857142857143,4.579545454545454,9.029850746268655,10.54131227217497,4.176470588235294,10.787280701754383,9.948275862068966,22.666666666666668,18.19672131147541,21.885572139303484,6.857142857142857,351.6216216216216,14.21505376344086,6.115384615384615,15.837553436369616,8.055555555555555,10.25242718446602,12.22077922077922,13.28448275862069,8.405405405405405,15.6875,2.434439178515008,7.621621621621622,25.635359116022094,549.2674208144797,321.84504331087584,12.333333333333334,2.111111111111111,13.547770700636942,2552.1637931034484,122.6162876008804,3964.355649717514,49.7608497723824,42.221662468513856,7.888888888888889,5.25,11.6,4.878787878787879,5.333333333333333,3.419753086419753,4.8,62.72222222222222,42.514295799505824,9.77777777777778,21.056910569105693,45.47682119205298,776.5271260997067,224.66666666666663,105.45064377682404,20.559575494452485,188.35664335664336,24.66025641025641,17.01153846153846,9.88095238095238,109.29824561403508,22.933333333333334,11.466019417475728,1.0,18.614285714285717,15.827586206896552,0.0,20.25,8480.1,3.292682926829268,175.66666666666666,11.500752445447706,10.48095238095238,73.1875,7.444444444444445,109.08333333333331,216.04761904761904,64.5939226519337,12.758620689655173,39.13559322033898,2.232558139534884,8.72,136.05555555555554,17.53846153846154,59.514084507042256,11.571428571428571,5.570588235294117,14.23076923076923,16.642857142857142,853.3013698630137,85.16304347826087,6.904347826086957,2.5,0.2,2.5,16.1,692.0,94.007371007371,30.71484375,14.341463414634148,138.7286432160804,28.31578947368421,7.14,13.272727272727272,28.0,1.809523809523809,10.801075268817204,2736.1875,339.1,41.11711711711712,0.325,983.8550488599348,23.4375,3.322314049586777,1628.357142857143,18.463768115942027,37.27461139896373,12.740601503759398,10.736842105263158,13.518382352941176,9.695652173913045,2.6666666666666665,47.2,7.236842105263157,1.5833333333333333,44.47222222222222,0.1666666666666666,1372.5,9.780821917808218,13.035087719298245,2.2666666666666666,102.12820512820512,11.216901408450704,9.583333333333334,15.77777777777778,44.5,5.548387096774194,1.0232558139534884,77.4622144112478,24.94117647058824,17.5,103.24324324324324,13.91703056768559,22.26923076923077,26.611764705882354,911.0106382978724,259.6363636363636,19.94556765163297,16.258064516129032,6.224358974358975,3.603448275862069,0.0,3.625,1.375,11.30204081632653,12.765822784810126,30.938271604938272,25.428571428571427,27.091954022988507,6.3229461756373935,51.583333333333336,3.4615384615384617,6.326086956521739,50.23809523809524,47.71666666666667,83.03030303030303,48.80952380952381,11303.264705882351,5.424778761061947,15.25233644859813,18.75,4.26],\"median\":[6.0,6.0,8.0,7.0,10.0,4.0,1.0,2.0,2.0,15.0,113.0,2.0,8.0,0.0,2.0,9.0,3.0,3.0,14.5,5.0,1.0,4.0,5.5,2041.5,5.0,5.0,3.0,1.0,7.0,5.0,6.0,2.0,2.0,16.0,0.0,6.0,3.0,6.0,2.0,2.0,1.0,4.0,3.0,4.0,4.0,5.0,3.0,22.0,9.0,14.0,5.0,16.0,4.0,6.0,8.0,2.0,7.0,6.0,0.0,0.0,15.0,0.0,4.0,8.0,81.0,7.0,7.0,1.0,3.0,1382.5,9.0,1428.0,6.0,10.0,8.0,4.0,2.0,3.0,6.0,2.0,5.0,9.5,4.0,9.0,0.0,8.0,28.0,306.0,10.0,5.0,33.0,12.5,11.5,7.0,16.0,16.5,1.0,1.0,9.0,5.0,0.0,5.5,7987.0,1.0,8.0,4.0,6.0,8.0,5.0,66.5,1.0,63.5,5.0,16.0,1.0,6.0,122.0,16.0,49.0,6.0,2.0,6.0,11.5,837.0,5.0,2.0,2.0,0.0,2.5,16.5,685.5,6.0,3.0,6.0,35.0,7.5,3.0,6.0,28.0,1.0,6.0,2136.5,276.5,38.0,0.0,747.0,8.5,2.0,1019.0,17.0,31.0,5.0,2.5,5.0,3.0,1.0,11.0,3.0,2.0,8.0,0.0,1089.5,6.0,8.0,1.0,17.0,9.0,7.5,9.0,28.0,5.0,1.0,9.0,22.0,2.0,7.0,7.0,6.5,9.0,504.0,5.0,16.0,16.0,1.0,2.0,0.0,1.0,1.5,2.0,9.0,32.0,4.0,22.0,0.0,13.5,1.0,6.0,5.0,21.5,20.0,14.0,12590.5,2.0,15.0,5.0,2.0],\"name\":\"Background\",\"orientation\":\"h\",\"q1\":[3.0,1.0,4.0,2.0,3.0,1.0,0.0,0.0,1.5,6.0,35.0,1.0,2.0,0.0,0.0,3.75,2.0,1.0,13.75,2.0,0.0,2.0,2.0,227.75,2.0,1.0,2.0,0.0,3.5,2.0,2.0,1.0,1.0,10.0,0.0,2.0,1.0,2.0,1.0,0.0,0.5,1.0,1.0,2.0,2.0,2.0,2.0,18.0,1.0,4.0,3.0,5.0,1.0,2.5,2.0,0.0,1.0,2.0,0.0,0.0,2.75,0.0,1.0,2.0,14.0,2.0,3.5,0.0,1.0,100.0,3.0,473.0,2.0,3.0,6.0,1.75,1.0,1.0,3.0,0.0,2.0,4.0,1.0,3.0,0.0,2.0,4.0,160.5,3.0,1.0,7.0,3.0,4.0,5.0,8.0,8.5,0.0,0.5,5.0,2.0,0.0,1.0,6060.0,0.0,5.0,0.0,0.0,1.0,3.0,51.75,0.0,44.0,2.0,0.0,1.0,4.0,78.25,5.0,33.0,1.0,0.0,3.0,5.0,328.0,2.0,0.0,1.0,0.0,1.75,4.0,662.5,2.0,0.0,3.0,5.5,0.25,0.25,4.0,28.0,0.0,3.0,924.25,181.25,17.0,0.0,343.75,5.75,1.0,379.75,12.0,23.0,0.0,1.0,2.0,0.0,0.0,7.0,0.0,0.0,3.0,0.0,606.0,2.0,2.0,0.0,9.5,3.0,3.75,4.0,9.75,2.0,0.0,3.0,12.5,1.0,1.0,3.0,1.0,5.0,264.25,1.5,10.0,5.0,0.0,1.0,0.0,0.0,0.0,0.0,4.0,20.0,0.0,1.5,0.0,9.25,0.0,3.0,0.0,10.75,11.0,6.25,3224.5,1.0,9.0,2.0,1.0],\"q3\":[13.0,33.5,34.5,15.0,23.0,12.0,3.0,6.0,2.0,45.5,210.0,4.0,17.5,2.0,159.5,19.0,8.0,9.0,15.25,50.25,53.5,23.0,17.25,5661.0,12.75,15.0,4.0,2.0,12.5,10.5,18.0,4.0,3.0,25.5,1.0,14.0,8.0,18.0,5.0,3.25,2.0,6.0,9.0,10.0,6.0,13.0,6.0,27.0,28.0,33.0,9.0,493.0,7.0,9.0,18.0,4.5,16.0,10.0,5.5,4.0,24.75,1.0,6.0,24.0,671.25,24.0,15.0,3.0,10.0,3916.25,32.0,5537.75,16.0,40.0,9.0,7.5,5.0,6.0,8.0,5.0,5.0,16.0,10.0,15.0,11.0,21.0,566.75,329.5,35.0,15.0,146.0,26.25,25.25,10.75,134.0,32.25,5.5,1.5,16.75,13.25,0.0,27.5,10887.0,3.0,262.5,13.0,17.0,50.25,6.5,77.0,3.0,79.0,12.0,44.5,3.0,11.0,194.75,27.0,68.0,15.0,6.0,13.0,17.0,1326.0,12.0,6.0,3.5,0.0,3.25,25.0,715.0,20.0,9.0,14.0,81.5,29.0,7.75,22.5,28.0,1.0,9.0,3693.0,459.75,55.5,1.0,1276.75,19.5,4.0,2451.75,23.0,44.0,13.0,17.5,19.0,13.0,4.0,30.0,7.25,2.25,21.75,0.0,1901.25,10.0,18.0,2.5,167.5,15.5,12.25,19.0,62.75,8.5,1.0,26.0,33.0,22.25,140.0,21.0,42.25,18.0,754.0,49.5,23.0,20.5,4.0,4.0,0.0,6.25,2.25,7.0,14.75,42.0,36.0,39.5,4.0,16.0,3.5,7.75,25.0,50.25,39.0,20.75,18047.25,5.0,21.0,21.25,5.75],\"sd\":[42.173230021163455,39.6316371938716,411.1914365044869,81.78786218032559,137.16793559715163,384.02223034212994,46.62805428688778,11.45750057545329,0.5773502691896257,148.00001464312538,145.88336452096257,4.601055401394023,9.156389773497551,2.27891535647685,82.89120810407086,16.758542875357954,15.318882634453637,94.20809530047082,2.1213203435596424,97.79336434507752,40.458266708167805,25.286557693762905,34.122152943189015,4368.064383663136,662.4216592989261,596.9767887167984,4.908496035786658,1.762346219541116,22.14627390003658,8.664451931468447,120.36273132769288,8.293220031819727,2.8284271247461903,12.987347364013347,8.10454234101945,10.540952912886402,24.86759313757605,22.628063659719945,143.11434084622962,2.0816659994661326,11.006491591004698,5.510119407323911,15.926494830047847,17.21568329242912,2.8227494466393352,14.808278325892664,17.62018620467665,9.018499505645789,22.02058452987319,22.462008832604884,5.507138224937833,534.8599168292859,71.99408935013884,4.226837333770232,26.41282677455944,14.15615856780452,11.89885350104176,22.332194942812343,32.396673483146586,24.065623954036877,13.714803437648436,8.825182189245325,37.401554299509016,44.205701850782994,969.3680642932594,2084.043800992016,13.009154286043934,2.4703368398993897,28.07371534757917,4245.804275617468,490.9409784145631,5428.682394784281,336.6232165281746,89.90506347610994,3.0595932917809696,4.99165971062398,20.971409108593537,6.6085057679363866,5.033222956847167,3.965047911220191,3.898717737923585,226.25748100873557,506.9051653270533,7.82268780180089,51.89148526334738,160.21684615699587,1842.4968274214764,183.0910520296755,427.2599925753513,145.13979563258172,460.1730293924264,38.28475596485719,17.085178993892374,10.86098944635224,189.95581863312705,19.71159877931726,25.2146920811006,1.4142135623730951,33.81590949523091,25.937140019358495,null,27.634598832470484,3188.826341043572,7.064856341211137,295.6185605359267,31.44375948776708,12.590803929306434,137.34058762024435,8.75009157461238,160.26745190571563,982.2660269087226,33.86265671429567,24.28347306260905,61.37910956172546,2.255545645127493,6.997142273814361,75.75915578683933,14.110370799612747,56.26179495892307,18.365502080440564,8.234597578817551,23.75301652855473,17.28319389490239,633.8576050425834,490.7997796190947,14.390711179464288,1.914854215512676,0.447213595499958,1.2909944487358056,13.45909324624939,43.79497688091638,392.4588773684527,119.23087150556056,30.93623809097608,386.0635012581549,44.94327070643967,9.946817766173732,11.384998103565136,null,3.749920634080775,16.516697389042992,4329.277603495834,230.31015319926013,31.134528841125668,0.6155047959570695,975.3572918771156,35.58832907944213,6.319566013623954,1724.202282061602,9.015639532541943,36.76165104396716,37.86137084022419,16.979612911460734,19.61886922954243,16.76209901494224,3.939648884524271,79.49025097456921,14.013586993530076,1.316010660280157,111.5471191062668,0.408248290463863,1059.4436003979836,18.071806291801654,14.474071537310016,3.432339199576928,141.07224343486672,12.901440662289176,8.404810828949246,18.79057898484926,54.71441004586147,3.4335473364769498,1.2999701845119969,398.7284747144683,21.74066398682973,31.932019136813853,164.3555436994589,15.70582409305682,29.063227479988253,40.21640689760214,3076.9852128156585,624.4881220028003,19.771793640983383,18.059102491422404,15.732265475950689,8.747811064895162,0.0,5.289927535735564,1.3024701806293193,45.30505205514765,15.95661623114414,16.743913580023897,35.91179670884127,29.97775616589821,17.633998680878037,139.74747246589493,6.985668660232358,4.376981952726417,160.6601707835221,100.3669693229473,247.81323013822305,168.8824440463981,8347.574633457363,8.603673953979856,8.283984842264411,28.706206581439776,5.427857095858478],\"upperfence\":[28.0,82.25,80.25,34.5,53.0,28.5,7.5,15.0,2.0,104.75,472.5,8.5,28.0,5.0,185.0,41.875,17.0,21.0,16.0,122.625,111.0,54.5,40.125,13810.875,28.875,36.0,7.0,5.0,26.0,23.25,42.0,8.5,4.0,48.75,2.5,32.0,18.5,42.0,11.0,7.0,4.25,13.5,21.0,22.0,12.0,29.5,12.0,32.0,68.5,76.5,18.0,1225.0,16.0,15.0,42.0,11.25,38.5,22.0,13.75,10.0,39.0,2.5,13.5,57.0,1657.125,57.0,32.25,7.5,23.5,9640.625,75.5,13134.875,37.0,95.5,13.0,12.0,11.0,13.5,10.0,12.5,9.5,34.0,23.5,24.0,27.5,49.5,1410.875,353.0,83.0,36.0,354.5,61.125,57.125,19.375,323.0,67.875,13.75,2.0,34.375,30.125,0.0,67.25,12915.0,7.5,517.0,32.5,42.5,124.125,11.75,114.875,7.5,131.5,27.0,111.25,6.0,21.5,290.0,45.0,120.5,36.0,15.0,28.0,35.0,2462.0,27.0,15.0,5.0,0.0,4.0,56.5,748.0,47.0,22.5,30.5,195.5,72.125,19.0,31.0,28.0,2.5,18.0,7846.125,835.0,113.25,2.5,2676.25,40.125,8.5,5559.75,39.5,75.5,32.5,42.25,44.5,32.5,10.0,64.5,18.125,4.0,49.875,0.0,3844.125,22.0,42.0,6.25,404.5,34.25,25.0,41.5,122.0,13.0,2.5,60.5,63.75,54.125,348.5,48.0,104.125,37.5,1488.625,121.5,42.5,43.75,10.0,8.5,0.0,15.625,3.0,17.5,30.875,68.0,90.0,96.5,10.0,26.125,8.75,14.875,62.5,109.5,81.0,42.5,26778.0,11.0,32.0,50.125,12.875],\"y\":[\"adipose\",\"adrenal\",\"bladder\",\"blood\",\"brain\",\"breast\",\"cell-adipocyte\",\"cell-astrocyte\",\"cell-bmsc\",\"cell-cardiomyocyte\",\"cell-cholangiocyte\",\"cell-chondrocyte\",\"cell-cytotrophoblast\",\"cell-dendritic\",\"cell-eosinophil\",\"cell-erythroid\",\"cell-erythroleukemia\",\"cell-fibroblast\",\"cell-glia\",\"cell-glial\",\"cell-granulocytic\",\"cell-helper\",\"cell-hematopoietic\",\"cell-hepatocyte\",\"cell-hesc\",\"cell-hipsc\",\"cell-hmec\",\"cell-hmsc\",\"cell-hpsc\",\"cell-hspc\",\"cell-ipsc\",\"cell-keratinocyte\",\"cell-langerhan\",\"cell-leukocyte\",\"cell-lmpp\",\"cell-lymphoblast\",\"cell-lymphoblastoid\",\"cell-lymphocyte\",\"cell-macrophage\",\"cell-mast\",\"cell-mef\",\"cell-melanocyte\",\"cell-microglia\",\"cell-monocyte\",\"cell-msc\",\"cell-myeloid\",\"cell-myoblast\",\"cell-myocyte\",\"cell-nasopharyngeal\",\"cell-neutrophil\",\"cell-oligodendrocyte\",\"cell-oocyte\",\"cell-osteoblast\",\"cell-osteoblastic\",\"cell-pbmc\",\"cell-pericyte\",\"cell-platelet\",\"cell-podocyte\",\"cell-sperm\",\"cell-spermatozoa\",\"cell-syncytiotrophoblast\",\"cell-tcell\",\"cell-treg\",\"cervix\",\"colon\",\"control\",\"esophagu\",\"fallopian\",\"heart\",\"intestine\",\"kidney\",\"liver\",\"lung\",\"muscle\",\"nan-blastoid\",\"nan-erythrocyte\",\"nan-granulocyte\",\"nan-hair\",\"nan-morula\",\"nan-preadipocyte\",\"nan-promyelocyte\",\"nan-proximal\",\"nan-stem\",\"nan-thymocyte\",\"nerve\",\"ovary\",\"pancrea\",\"pituitary\",\"prostate\",\"skin\",\"stomach\",\"testi\",\"thyroid\",\"tissue-airway\",\"tissue-alveolar\",\"tissue-amygdala\",\"tissue-aortic\",\"tissue-arterial\",\"tissue-artery\",\"tissue-atrial\",\"tissue-atrioventricular\",\"tissue-atrium\",\"tissue-biliary\",\"tissue-blastocyst\",\"tissue-blastomere\",\"tissue-bone\",\"tissue-bronchial\",\"tissue-cardiac\",\"tissue-cartilage\",\"tissue-caudate\",\"tissue-cerebellar\",\"tissue-cerebellum\",\"tissue-cerebral\",\"tissue-cerebrospinal\",\"tissue-chondrogenic\",\"tissue-choroid\",\"tissue-cornea\",\"tissue-corneal\",\"tissue-cortex\",\"tissue-cortical\",\"tissue-cutaneou\",\"tissue-dermal\",\"tissue-dermi\",\"tissue-duodenum\",\"tissue-endoderm\",\"tissue-endothelial\",\"tissue-endothelium\",\"tissue-epiblast\",\"tissue-epicardium\",\"tissue-epidermi\",\"tissue-epithelia\",\"tissue-epithelial\",\"tissue-epithelium\",\"tissue-erythroblast\",\"tissue-esophageal\",\"tissue-eye\",\"tissue-fat\",\"tissue-follicle\",\"tissue-gastrocnemiu\",\"tissue-gingival\",\"tissue-gyru\",\"tissue-hepatic\",\"tissue-hepatoblast\",\"tissue-hippocampu\",\"tissue-hypothalamu\",\"tissue-ileum\",\"tissue-interneuron\",\"tissue-intracranial\",\"tissue-islet\",\"tissue-labial\",\"tissue-lumbar\",\"tissue-lymph\",\"tissue-lymphatic\",\"tissue-lymphoblastic\",\"tissue-mammary\",\"tissue-mesenchymal\",\"tissue-mesenchyme\",\"tissue-mesoderm\",\"tissue-mesodermal\",\"tissue-micropapillarity\",\"tissue-motor\",\"tissue-mucosal\",\"tissue-myogenic\",\"tissue-myometrium\",\"tissue-myotube\",\"tissue-neocortex\",\"tissue-neuron\",\"tissue-neuronal\",\"tissue-nigra\",\"tissue-occipital\",\"tissue-olfactory\",\"tissue-osteogenic\",\"tissue-ovarian\",\"tissue-ovarie\",\"tissue-papillary\",\"tissue-peritoneal\",\"tissue-placenta\",\"tissue-placental\",\"tissue-pontine\",\"tissue-rectum\",\"tissue-renal\",\"tissue-retina\",\"tissue-retinal\",\"tissue-salivary\",\"tissue-scalp\",\"tissue-septum\",\"tissue-skeletal\",\"tissue-smooth\",\"tissue-spleen\",\"tissue-synovial\",\"tissue-thoracic\",\"tissue-thymic\",\"tissue-thymu\",\"tissue-tonsil\",\"tissue-tracheal\",\"tissue-trophoblast\",\"tissue-turbinate\",\"tissue-umbilical\",\"tissue-urinary\",\"tissue-urothelial\",\"tissue-uterine\",\"tissue-vein\",\"tissue-ventricle\",\"tissue-villu\",\"uteru\",\"vagina\"],\"type\":\"box\"}],                        {\"template\":{\"data\":{\"histogram2dcontour\":[{\"type\":\"histogram2dcontour\",\"colorbar\":{\"outlinewidth\":0,\"ticks\":\"\"},\"colorscale\":[[0.0,\"#0d0887\"],[0.1111111111111111,\"#46039f\"],[0.2222222222222222,\"#7201a8\"],[0.3333333333333333,\"#9c179e\"],[0.4444444444444444,\"#bd3786\"],[0.5555555555555556,\"#d8576b\"],[0.6666666666666666,\"#ed7953\"],[0.7777777777777778,\"#fb9f3a\"],[0.8888888888888888,\"#fdca26\"],[1.0,\"#f0f921\"]]}],\"choropleth\":[{\"type\":\"choropleth\",\"colorbar\":{\"outlinewidth\":0,\"ticks\":\"\"}}],\"histogram2d\":[{\"type\":\"histogram2d\",\"colorbar\":{\"outlinewidth\":0,\"ticks\":\"\"},\"colorscale\":[[0.0,\"#0d0887\"],[0.1111111111111111,\"#46039f\"],[0.2222222222222222,\"#7201a8\"],[0.3333333333333333,\"#9c179e\"],[0.4444444444444444,\"#bd3786\"],[0.5555555555555556,\"#d8576b\"],[0.6666666666666666,\"#ed7953\"],[0.7777777777777778,\"#fb9f3a\"],[0.8888888888888888,\"#fdca26\"],[1.0,\"#f0f921\"]]}],\"heatmap\":[{\"type\":\"heatmap\",\"colorbar\":{\"outlinewidth\":0,\"ticks\":\"\"},\"colorscale\":[[0.0,\"#0d0887\"],[0.1111111111111111,\"#46039f\"],[0.2222222222222222,\"#7201a8\"],[0.3333333333333333,\"#9c179e\"],[0.4444444444444444,\"#bd3786\"],[0.5555555555555556,\"#d8576b\"],[0.6666666666666666,\"#ed7953\"],[0.7777777777777778,\"#fb9f3a\"],[0.8888888888888888,\"#fdca26\"],[1.0,\"#f0f921\"]]}],\"heatmapgl\":[{\"type\":\"heatmapgl\",\"colorbar\":{\"outlinewidth\":0,\"ticks\":\"\"},\"colorscale\":[[0.0,\"#0d0887\"],[0.1111111111111111,\"#46039f\"],[0.2222222222222222,\"#7201a8\"],[0.3333333333333333,\"#9c179e\"],[0.4444444444444444,\"#bd3786\"],[0.5555555555555556,\"#d8576b\"],[0.6666666666666666,\"#ed7953\"],[0.7777777777777778,\"#fb9f3a\"],[0.8888888888888888,\"#fdca26\"],[1.0,\"#f0f921\"]]}],\"contourcarpet\":[{\"type\":\"contourcarpet\",\"colorbar\":{\"outlinewidth\":0,\"ticks\":\"\"}}],\"contour\":[{\"type\":\"contour\",\"colorbar\":{\"outlinewidth\":0,\"ticks\":\"\"},\"colorscale\":[[0.0,\"#0d0887\"],[0.1111111111111111,\"#46039f\"],[0.2222222222222222,\"#7201a8\"],[0.3333333333333333,\"#9c179e\"],[0.4444444444444444,\"#bd3786\"],[0.5555555555555556,\"#d8576b\"],[0.6666666666666666,\"#ed7953\"],[0.7777777777777778,\"#fb9f3a\"],[0.8888888888888888,\"#fdca26\"],[1.0,\"#f0f921\"]]}],\"surface\":[{\"type\":\"surface\",\"colorbar\":{\"outlinewidth\":0,\"ticks\":\"\"},\"colorscale\":[[0.0,\"#0d0887\"],[0.1111111111111111,\"#46039f\"],[0.2222222222222222,\"#7201a8\"],[0.3333333333333333,\"#9c179e\"],[0.4444444444444444,\"#bd3786\"],[0.5555555555555556,\"#d8576b\"],[0.6666666666666666,\"#ed7953\"],[0.7777777777777778,\"#fb9f3a\"],[0.8888888888888888,\"#fdca26\"],[1.0,\"#f0f921\"]]}],\"mesh3d\":[{\"type\":\"mesh3d\",\"colorbar\":{\"outlinewidth\":0,\"ticks\":\"\"}}],\"scatter\":[{\"fillpattern\":{\"fillmode\":\"overlay\",\"size\":10,\"solidity\":0.2},\"type\":\"scatter\"}],\"parcoords\":[{\"type\":\"parcoords\",\"line\":{\"colorbar\":{\"outlinewidth\":0,\"ticks\":\"\"}}}],\"scatterpolargl\":[{\"type\":\"scatterpolargl\",\"marker\":{\"colorbar\":{\"outlinewidth\":0,\"ticks\":\"\"}}}],\"bar\":[{\"error_x\":{\"color\":\"#2a3f5f\"},\"error_y\":{\"color\":\"#2a3f5f\"},\"marker\":{\"line\":{\"color\":\"#E5ECF6\",\"width\":0.5},\"pattern\":{\"fillmode\":\"overlay\",\"size\":10,\"solidity\":0.2}},\"type\":\"bar\"}],\"scattergeo\":[{\"type\":\"scattergeo\",\"marker\":{\"colorbar\":{\"outlinewidth\":0,\"ticks\":\"\"}}}],\"scatterpolar\":[{\"type\":\"scatterpolar\",\"marker\":{\"colorbar\":{\"outlinewidth\":0,\"ticks\":\"\"}}}],\"histogram\":[{\"marker\":{\"pattern\":{\"fillmode\":\"overlay\",\"size\":10,\"solidity\":0.2}},\"type\":\"histogram\"}],\"scattergl\":[{\"type\":\"scattergl\",\"marker\":{\"colorbar\":{\"outlinewidth\":0,\"ticks\":\"\"}}}],\"scatter3d\":[{\"type\":\"scatter3d\",\"line\":{\"colorbar\":{\"outlinewidth\":0,\"ticks\":\"\"}},\"marker\":{\"colorbar\":{\"outlinewidth\":0,\"ticks\":\"\"}}}],\"scattermapbox\":[{\"type\":\"scattermapbox\",\"marker\":{\"colorbar\":{\"outlinewidth\":0,\"ticks\":\"\"}}}],\"scatterternary\":[{\"type\":\"scatterternary\",\"marker\":{\"colorbar\":{\"outlinewidth\":0,\"ticks\":\"\"}}}],\"scattercarpet\":[{\"type\":\"scattercarpet\",\"marker\":{\"colorbar\":{\"outlinewidth\":0,\"ticks\":\"\"}}}],\"carpet\":[{\"aaxis\":{\"endlinecolor\":\"#2a3f5f\",\"gridcolor\":\"white\",\"linecolor\":\"white\",\"minorgridcolor\":\"white\",\"startlinecolor\":\"#2a3f5f\"},\"baxis\":{\"endlinecolor\":\"#2a3f5f\",\"gridcolor\":\"white\",\"linecolor\":\"white\",\"minorgridcolor\":\"white\",\"startlinecolor\":\"#2a3f5f\"},\"type\":\"carpet\"}],\"table\":[{\"cells\":{\"fill\":{\"color\":\"#EBF0F8\"},\"line\":{\"color\":\"white\"}},\"header\":{\"fill\":{\"color\":\"#C8D4E3\"},\"line\":{\"color\":\"white\"}},\"type\":\"table\"}],\"barpolar\":[{\"marker\":{\"line\":{\"color\":\"#E5ECF6\",\"width\":0.5},\"pattern\":{\"fillmode\":\"overlay\",\"size\":10,\"solidity\":0.2}},\"type\":\"barpolar\"}],\"pie\":[{\"automargin\":true,\"type\":\"pie\"}]},\"layout\":{\"autotypenumbers\":\"strict\",\"colorway\":[\"#636efa\",\"#EF553B\",\"#00cc96\",\"#ab63fa\",\"#FFA15A\",\"#19d3f3\",\"#FF6692\",\"#B6E880\",\"#FF97FF\",\"#FECB52\"],\"font\":{\"color\":\"#2a3f5f\"},\"hovermode\":\"closest\",\"hoverlabel\":{\"align\":\"left\"},\"paper_bgcolor\":\"white\",\"plot_bgcolor\":\"#E5ECF6\",\"polar\":{\"bgcolor\":\"#E5ECF6\",\"angularaxis\":{\"gridcolor\":\"white\",\"linecolor\":\"white\",\"ticks\":\"\"},\"radialaxis\":{\"gridcolor\":\"white\",\"linecolor\":\"white\",\"ticks\":\"\"}},\"ternary\":{\"bgcolor\":\"#E5ECF6\",\"aaxis\":{\"gridcolor\":\"white\",\"linecolor\":\"white\",\"ticks\":\"\"},\"baxis\":{\"gridcolor\":\"white\",\"linecolor\":\"white\",\"ticks\":\"\"},\"caxis\":{\"gridcolor\":\"white\",\"linecolor\":\"white\",\"ticks\":\"\"}},\"coloraxis\":{\"colorbar\":{\"outlinewidth\":0,\"ticks\":\"\"}},\"colorscale\":{\"sequential\":[[0.0,\"#0d0887\"],[0.1111111111111111,\"#46039f\"],[0.2222222222222222,\"#7201a8\"],[0.3333333333333333,\"#9c179e\"],[0.4444444444444444,\"#bd3786\"],[0.5555555555555556,\"#d8576b\"],[0.6666666666666666,\"#ed7953\"],[0.7777777777777778,\"#fb9f3a\"],[0.8888888888888888,\"#fdca26\"],[1.0,\"#f0f921\"]],\"sequentialminus\":[[0.0,\"#0d0887\"],[0.1111111111111111,\"#46039f\"],[0.2222222222222222,\"#7201a8\"],[0.3333333333333333,\"#9c179e\"],[0.4444444444444444,\"#bd3786\"],[0.5555555555555556,\"#d8576b\"],[0.6666666666666666,\"#ed7953\"],[0.7777777777777778,\"#fb9f3a\"],[0.8888888888888888,\"#fdca26\"],[1.0,\"#f0f921\"]],\"diverging\":[[0,\"#8e0152\"],[0.1,\"#c51b7d\"],[0.2,\"#de77ae\"],[0.3,\"#f1b6da\"],[0.4,\"#fde0ef\"],[0.5,\"#f7f7f7\"],[0.6,\"#e6f5d0\"],[0.7,\"#b8e186\"],[0.8,\"#7fbc41\"],[0.9,\"#4d9221\"],[1,\"#276419\"]]},\"xaxis\":{\"gridcolor\":\"white\",\"linecolor\":\"white\",\"ticks\":\"\",\"title\":{\"standoff\":15},\"zerolinecolor\":\"white\",\"automargin\":true,\"zerolinewidth\":2},\"yaxis\":{\"gridcolor\":\"white\",\"linecolor\":\"white\",\"ticks\":\"\",\"title\":{\"standoff\":15},\"zerolinecolor\":\"white\",\"automargin\":true,\"zerolinewidth\":2},\"scene\":{\"xaxis\":{\"backgroundcolor\":\"#E5ECF6\",\"gridcolor\":\"white\",\"linecolor\":\"white\",\"showbackground\":true,\"ticks\":\"\",\"zerolinecolor\":\"white\",\"gridwidth\":2},\"yaxis\":{\"backgroundcolor\":\"#E5ECF6\",\"gridcolor\":\"white\",\"linecolor\":\"white\",\"showbackground\":true,\"ticks\":\"\",\"zerolinecolor\":\"white\",\"gridwidth\":2},\"zaxis\":{\"backgroundcolor\":\"#E5ECF6\",\"gridcolor\":\"white\",\"linecolor\":\"white\",\"showbackground\":true,\"ticks\":\"\",\"zerolinecolor\":\"white\",\"gridwidth\":2}},\"shapedefaults\":{\"line\":{\"color\":\"#2a3f5f\"}},\"annotationdefaults\":{\"arrowcolor\":\"#2a3f5f\",\"arrowhead\":0,\"arrowwidth\":1},\"geo\":{\"bgcolor\":\"white\",\"landcolor\":\"#E5ECF6\",\"subunitcolor\":\"white\",\"showland\":true,\"showlakes\":true,\"lakecolor\":\"white\"},\"title\":{\"x\":0.05},\"mapbox\":{\"style\":\"light\"}}},\"title\":{\"text\":\"A1CF (RNA-seq) ARCHS4\"},\"height\":5000},                        {\"responsive\": true}                    ).then(function(){\n",
       "                            \n",
       "var gd = document.getElementById('616eb5e6-de9d-4a3d-a4f0-d323283f382a');\n",
       "var x = new MutationObserver(function (mutations, observer) {{\n",
       "        var display = window.getComputedStyle(gd).display;\n",
       "        if (!display || display === 'none') {{\n",
       "            console.log([gd, 'removed!']);\n",
       "            Plotly.purge(gd);\n",
       "            observer.disconnect();\n",
       "        }}\n",
       "}});\n",
       "\n",
       "// Listen for the removal of the full notebook cells\n",
       "var notebookContainer = gd.closest('#notebook-container');\n",
       "if (notebookContainer) {{\n",
       "    x.observe(notebookContainer, {childList: true});\n",
       "}}\n",
       "\n",
       "// Listen for the clearing of the current output cell\n",
       "var outputEl = gd.closest('.output');\n",
       "if (outputEl) {{\n",
       "    x.observe(outputEl, {childList: true});\n",
       "}}\n",
       "\n",
       "                        })                };                });            </script>        </div>"
      ]
     },
     "metadata": {},
     "output_type": "display_data"
    }
   ],
   "source": [
    "c = gene\n",
    "\n",
    "if c in df_bg_expr_gtex.index.values:\n",
    "    display(Markdown(f\"### {c}\"))\n",
    "    IQR = df_bg_stats_gtex.loc[(c, '75%')]-df_bg_stats_gtex.loc[(c, '25%')]\n",
    "    fig = go.Figure()\n",
    "    fig.add_trace(go.Box(\n",
    "        lowerfence=np.maximum(\n",
    "            df_bg_stats_gtex.loc[(c, 'min')],\n",
    "            df_bg_stats_gtex.loc[(c, '25%')] - (1.5*IQR),\n",
    "        ),\n",
    "        q1=df_bg_stats_gtex.loc[(c, '25%')],\n",
    "        median=df_bg_stats_gtex.loc[(c, '50%')],\n",
    "        q3=df_bg_stats_gtex.loc[(c, '75%')],\n",
    "        upperfence=np.minimum(\n",
    "            df_bg_stats_gtex.loc[(c, 'max')],\n",
    "            df_bg_stats_gtex.loc[(c, '75%')] + (1.5*IQR),\n",
    "        ),\n",
    "        mean=df_bg_stats_gtex.loc[(c, 'mean')],\n",
    "        sd=df_bg_stats_gtex.loc[(c, 'std')],\n",
    "        y=df_bg_stats_gtex.columns,\n",
    "        name='Background',\n",
    "        orientation='h'\n",
    "    ))\n",
    "    fig.update_layout(title=c+ \" (RNA-seq) GTEx\", height=1200)\n",
    "    fig.show()\n",
    "    \n",
    "if c in df_bg_expr_archs4ext.index.values:\n",
    "    IQR = df_bg_stats_archs4ext.loc[(c, '75%')]-df_bg_stats_archs4ext.loc[(c, '25%')]\n",
    "    fig = go.Figure()\n",
    "    fig.add_trace(go.Box(\n",
    "        lowerfence=np.maximum(\n",
    "            df_bg_stats_archs4ext.loc[(c, 'min')],\n",
    "            df_bg_stats_archs4ext.loc[(c, '25%')] - (1.5*IQR),\n",
    "        ),\n",
    "        q1=df_bg_stats_archs4ext.loc[(c, '25%')],\n",
    "        median=df_bg_stats_archs4ext.loc[(c, '50%')],\n",
    "        q3=df_bg_stats_archs4ext.loc[(c, '75%')],\n",
    "        upperfence=np.minimum(\n",
    "            df_bg_stats_archs4ext.loc[(c, 'max')],\n",
    "            df_bg_stats_archs4ext.loc[(c, '75%')] + (1.5*IQR),\n",
    "        ),\n",
    "        mean=df_bg_stats_archs4ext.loc[(c, 'mean')],\n",
    "        sd=df_bg_stats_archs4ext.loc[(c, 'std')],\n",
    "        y=df_bg_stats_archs4ext.columns,\n",
    "        name='Background',\n",
    "        orientation='h'\n",
    "    ))\n",
    "    fig.update_layout(title=c+ \" (RNA-seq) ARCHS4\", height=5000)\n",
    "    fig.show()\n",
    "    "
   ]
  },
  {
   "cell_type": "code",
   "execution_count": 57,
   "id": "89086abf",
   "metadata": {},
   "outputs": [
    {
     "data": {
      "text/markdown": [
       "\n",
       "## Proteomics Expression Levels\n",
       "\n",
       "Proteomics data were obtained from the [Human Protein Atlas](https://www.proteinatlas.org/about/download) (HPA) [3] with IHC-based expression profiling, the [Human Proteome Map](https://www.humanproteomemap.org/download.php) (HPM) [4] with MS-based expression quantification, and a [GTEx proteome project](https://doi.org/10.1016/j.cell.2020.08.036) [5] using TMT MS. \n",
       "These datasets contain protein expression levels detected in normal tissues and cell types. The gene may not be present in the data from each project (see table for which proteomics data are present/absent). Plots show expression levels (HPA), average spectral counts (HPM), or a log-transformed relative abundance (GTEx) by tissue/cell-type for each gene candidate (excluding expression levels from the HPA where the [reliability score](https://www.proteinatlas.org/about/assays+annotation) was uncertain). \n",
       "\n",
       "\n",
       "[3] Uhlén M et al. \"Tissue-based map of the human proteome.\" Science (New York, N.Y.) vol. 347,6220 (2015): 1260419. https://doi.org/10.1126/science.1260419\n",
       "\n",
       "[4] Kim, Min-Sik et al. “A draft map of the human proteome.” Nature vol. 509,7502 (2014): 575-81. https://doi.org/10.1038/nature13302\n",
       "\n",
       "[5] Jiang, Lihua et al. “A Quantitative Proteome Map of the Human Body.” Cell vol. 183,1 (2020): 269-283.e19. https://doi.org/10.1016/j.cell.2020.08.036"
      ],
      "text/plain": [
       "<IPython.core.display.Markdown object>"
      ]
     },
     "metadata": {},
     "output_type": "display_data"
    }
   ],
   "source": [
    "%%appyter markdown\n",
    "\n",
    "## Proteomics Expression Levels\n",
    "\n",
    "Proteomics data were obtained from the [Human Protein Atlas](https://www.proteinatlas.org/about/download) (HPA) [3] with IHC-based expression profiling, the [Human Proteome Map](https://www.humanproteomemap.org/download.php) (HPM) [4] with MS-based expression quantification, and a [GTEx proteome project](https://doi.org/10.1016/j.cell.2020.08.036) [5] using TMT MS. \n",
    "These datasets contain protein expression levels detected in normal tissues and cell types. The gene may not be present in the data from each project (see table for which proteomics data are present/absent). Plots show expression levels (HPA), average spectral counts (HPM), or a log-transformed relative abundance (GTEx) by tissue/cell-type for each gene candidate (excluding expression levels from the HPA where the [reliability score](https://www.proteinatlas.org/about/assays+annotation) was uncertain). \n",
    "\n",
    "\n",
    "[3] Uhlén M et al. \"Tissue-based map of the human proteome.\" Science (New York, N.Y.) vol. 347,6220 (2015): 1260419. https://doi.org/10.1126/science.1260419\n",
    "\n",
    "[4] Kim, Min-Sik et al. “A draft map of the human proteome.” Nature vol. 509,7502 (2014): 575-81. https://doi.org/10.1038/nature13302\n",
    "\n",
    "[5] Jiang, Lihua et al. “A Quantitative Proteome Map of the Human Body.” Cell vol. 183,1 (2020): 269-283.e19. https://doi.org/10.1016/j.cell.2020.08.036"
   ]
  },
  {
   "cell_type": "code",
   "execution_count": 17,
   "id": "d29c79e6",
   "metadata": {},
   "outputs": [],
   "source": [
    "hpm = pd.read_csv(\"s3://storage/Tumor_Gene_Target_Screener/hpm.tsv\", storage_options=dict(client_kwargs=dict(endpoint_url=\"https://appyters.maayanlab.cloud\"), anon=True), sep='\\t', header=0, index_col=0)\n",
    "hpa = pd.read_csv(\"s3://storage/Tumor_Gene_Target_Screener/hpa.tsv\", storage_options=dict(client_kwargs=dict(endpoint_url=\"https://appyters.maayanlab.cloud\"), anon=True), sep='\\t', header=0, index_col=1)\n",
    "gtexp = pd.read_csv(\"s3://storage/Tumor_Gene_Target_Screener/gtex_proteomics.tsv\", storage_options=dict(client_kwargs=dict(endpoint_url=\"https://appyters.maayanlab.cloud\"), anon=True), sep='\\t', header=0)\n",
    "gtexp['Name'] = gtexp['gene.id'].map(lambda idx: lookup(idx))"
   ]
  },
  {
   "cell_type": "code",
   "execution_count": 18,
   "id": "77f418d8",
   "metadata": {},
   "outputs": [
    {
     "data": {
      "text/html": [
       "<div>\n",
       "<style scoped>\n",
       "    .dataframe tbody tr th:only-of-type {\n",
       "        vertical-align: middle;\n",
       "    }\n",
       "\n",
       "    .dataframe tbody tr th {\n",
       "        vertical-align: top;\n",
       "    }\n",
       "\n",
       "    .dataframe thead th {\n",
       "        text-align: right;\n",
       "    }\n",
       "</style>\n",
       "<table border=\"1\" class=\"dataframe\">\n",
       "  <thead>\n",
       "    <tr style=\"text-align: right;\">\n",
       "      <th></th>\n",
       "      <th>Selected Gene</th>\n",
       "      <th>in HPM</th>\n",
       "      <th>in HPA</th>\n",
       "      <th>in GTEx Proteomics</th>\n",
       "    </tr>\n",
       "  </thead>\n",
       "  <tbody>\n",
       "    <tr>\n",
       "      <th>0</th>\n",
       "      <td>A1CF</td>\n",
       "      <td>True</td>\n",
       "      <td>True</td>\n",
       "      <td>True</td>\n",
       "    </tr>\n",
       "  </tbody>\n",
       "</table>\n",
       "</div>"
      ],
      "text/plain": [
       "<IPython.core.display.HTML object>"
      ]
     },
     "metadata": {},
     "output_type": "display_data"
    }
   ],
   "source": [
    "# Show available genes in each dataset\n",
    "available = pd.DataFrame({'Selected Gene': [gene], \n",
    "                          'in HPM': [gene in hpm.index], \n",
    "                          'in HPA': [gene in hpa.index],\n",
    "                          'in GTEx Proteomics': [gene in gtexp.Name.values]})\n",
    "display(HTML(available.to_html(notebook=True, escape=False)))"
   ]
  },
  {
   "cell_type": "code",
   "execution_count": 19,
   "id": "d9d5b9c9",
   "metadata": {},
   "outputs": [
    {
     "data": {
      "application/vnd.plotly.v1+json": {
       "config": {
        "plotlyServerURL": "https://plot.ly"
       },
       "data": [
        {
         "alignmentgroup": "True",
         "boxpoints": "all",
         "customdata": [
          [
           -10
          ],
          [
           -10
          ],
          [
           -10
          ],
          [
           -10
          ],
          [
           -10
          ],
          [
           -10
          ],
          [
           -10
          ],
          [
           "NA"
          ],
          [
           "NA"
          ],
          [
           "NA"
          ],
          [
           "NA"
          ],
          [
           "NA"
          ],
          [
           "NA"
          ],
          [
           "NA"
          ],
          [
           "NA"
          ],
          [
           "NA"
          ],
          [
           "NA"
          ],
          [
           0
          ],
          [
           0
          ],
          [
           -1
          ],
          [
           -1
          ],
          [
           -1
          ],
          [
           -1
          ],
          [
           "NA"
          ],
          [
           "NA"
          ],
          [
           "NA"
          ],
          [
           0
          ],
          [
           0
          ],
          [
           0
          ],
          [
           0
          ],
          [
           0
          ],
          [
           0
          ],
          [
           0
          ],
          [
           0
          ],
          [
           0
          ],
          [
           0
          ],
          [
           0
          ],
          [
           0
          ],
          [
           0
          ],
          [
           0
          ],
          [
           0
          ],
          [
           0
          ],
          [
           0
          ],
          [
           0
          ],
          [
           0
          ],
          [
           0
          ],
          [
           0
          ],
          [
           0
          ],
          [
           0
          ],
          [
           0
          ],
          [
           0
          ],
          [
           0
          ],
          [
           0
          ],
          [
           0
          ],
          [
           0
          ],
          [
           0
          ],
          [
           0
          ],
          [
           0
          ],
          [
           0
          ],
          [
           0
          ],
          [
           0
          ],
          [
           0
          ],
          [
           0
          ],
          [
           0
          ],
          [
           0
          ],
          [
           0
          ],
          [
           0
          ],
          [
           0
          ],
          [
           0
          ],
          [
           0
          ],
          [
           0
          ],
          [
           0
          ],
          [
           0
          ],
          [
           0
          ],
          [
           0
          ],
          [
           0
          ],
          [
           0
          ],
          [
           0
          ],
          [
           0
          ],
          [
           0
          ],
          [
           0
          ],
          [
           0
          ],
          [
           0
          ],
          [
           0
          ],
          [
           0
          ],
          [
           0
          ],
          [
           0
          ],
          [
           0
          ],
          [
           0
          ],
          [
           0
          ],
          [
           10
          ],
          [
           10
          ],
          [
           10
          ],
          [
           10
          ],
          [
           10
          ],
          [
           0
          ],
          [
           0
          ],
          [
           0
          ],
          [
           0
          ],
          [
           0
          ],
          [
           0
          ],
          [
           0
          ],
          [
           0
          ],
          [
           -10
          ],
          [
           0
          ],
          [
           0
          ],
          [
           0
          ],
          [
           0
          ],
          [
           0
          ],
          [
           0
          ],
          [
           0
          ],
          [
           0
          ],
          [
           0
          ],
          [
           0
          ],
          [
           0
          ],
          [
           0
          ],
          [
           0
          ],
          [
           0
          ],
          [
           0
          ],
          [
           0
          ],
          [
           0
          ],
          [
           0
          ],
          [
           0
          ],
          [
           0
          ],
          [
           0
          ],
          [
           10
          ],
          [
           10
          ],
          [
           10
          ],
          [
           10
          ],
          [
           10
          ],
          [
           10
          ],
          [
           10
          ],
          [
           10
          ],
          [
           0
          ],
          [
           0
          ],
          [
           0
          ],
          [
           0
          ],
          [
           0
          ],
          [
           0
          ],
          [
           0
          ],
          [
           0
          ],
          [
           0
          ],
          [
           0
          ],
          [
           0
          ],
          [
           0
          ],
          [
           "NA"
          ],
          [
           "NA"
          ],
          [
           "NA"
          ],
          [
           "NA"
          ],
          [
           "NA"
          ],
          [
           "NA"
          ],
          [
           "NA"
          ],
          [
           0
          ],
          [
           0
          ],
          [
           0
          ],
          [
           0
          ],
          [
           0
          ],
          [
           0
          ],
          [
           0
          ],
          [
           0
          ],
          [
           0
          ],
          [
           0
          ],
          [
           0
          ],
          [
           0
          ],
          [
           0
          ],
          [
           0
          ],
          [
           0
          ],
          [
           0
          ],
          [
           0
          ],
          [
           0
          ],
          [
           0
          ],
          [
           0
          ],
          [
           0
          ],
          [
           0
          ],
          [
           -10
          ],
          [
           -10
          ],
          [
           -10
          ],
          [
           0
          ],
          [
           0
          ],
          [
           0
          ],
          [
           0
          ],
          [
           0
          ],
          [
           0
          ],
          [
           0
          ],
          [
           0
          ],
          [
           0
          ],
          [
           0
          ],
          [
           0
          ],
          [
           0
          ],
          [
           0
          ],
          [
           0
          ],
          [
           0
          ],
          [
           0
          ],
          [
           0
          ],
          [
           "NA"
          ],
          [
           "NA"
          ],
          [
           "NA"
          ],
          [
           "NA"
          ],
          [
           "NA"
          ],
          [
           "NA"
          ],
          [
           "NA"
          ]
         ],
         "fillcolor": "rgba(255,255,255,0)",
         "hoveron": "points",
         "hovertemplate": "value=%{x}<br>tissue=%{y}<br>tissue_specificity=%{customdata[0]}<extra></extra>",
         "legendgroup": "",
         "line": {
          "color": "rgba(255,255,255,0)"
         },
         "marker": {
          "color": "#636efa"
         },
         "name": "",
         "offsetgroup": "",
         "orientation": "h",
         "pointpos": 0,
         "showlegend": false,
         "type": "box",
         "x": [
          -2.17,
          0,
          -0.84,
          -1.28,
          -0.79,
          -1.18,
          -0.63,
          0,
          0,
          0,
          -2.07,
          0,
          0,
          0,
          0,
          0,
          0,
          0,
          0,
          0,
          0,
          -0.02,
          -1.58,
          0,
          0,
          0,
          0,
          0,
          0,
          0,
          0,
          0,
          0,
          0,
          0,
          0,
          -0.5,
          0,
          0,
          0,
          -0.98,
          0,
          0,
          0,
          0,
          -1.03,
          0,
          0,
          0,
          0,
          0,
          0,
          0,
          0,
          0,
          0,
          0,
          0,
          -1.8,
          0,
          -2.8,
          0,
          0,
          0,
          0,
          0,
          0,
          0,
          0,
          0,
          0,
          0,
          0,
          0,
          0,
          0,
          -2.11,
          0,
          0,
          0,
          0,
          0,
          0,
          0,
          0,
          -1.4,
          0.54,
          0,
          0,
          0,
          3.88,
          5.09,
          4.67,
          3.03,
          3.83,
          0,
          0,
          0,
          0,
          0,
          0,
          0,
          0,
          -1.18,
          0,
          0,
          0,
          0,
          0,
          0,
          0,
          0,
          0,
          0,
          0,
          0,
          0,
          0,
          0,
          0,
          0,
          -1.93,
          0,
          0,
          0,
          0.2,
          2,
          1.57,
          1.35,
          0.37,
          2.02,
          1.54,
          1.38,
          0,
          0,
          0,
          0,
          0,
          0,
          0,
          -0.4,
          0,
          0,
          0,
          0,
          0,
          0,
          0,
          0,
          0,
          0,
          0,
          0,
          0,
          0,
          0,
          -1.38,
          0,
          0,
          0,
          0,
          0,
          0,
          0,
          0,
          0,
          -2.06,
          0,
          0,
          0,
          0,
          0,
          0,
          0,
          -0.58,
          -1.16,
          -0.64,
          0,
          0,
          0,
          0,
          0,
          0,
          0,
          0,
          0,
          -1.75,
          0,
          0,
          0,
          0,
          0,
          0,
          0,
          0,
          0,
          0,
          0,
          0,
          0,
          0
         ],
         "x0": " ",
         "xaxis": "x",
         "y": [
          "Adrenal Gland",
          "Adrenal Gland",
          "Adrenal Gland",
          "Adrenal Gland",
          "Adrenal Gland",
          "Adrenal Gland",
          "Adrenal Gland",
          "Artery - Aorta",
          "Artery - Aorta",
          "Artery - Aorta",
          "Artery - Aorta",
          "Artery - Aorta",
          "Artery - Aorta",
          "Artery - Aorta",
          "Artery - Aorta",
          "Artery - Aorta",
          "Artery - Aorta",
          "Artery - Coronary",
          "Artery - Coronary",
          "Artery - Tibial",
          "Artery - Tibial",
          "Artery - Tibial",
          "Artery - Tibial",
          "Brain - Cerebellum",
          "Brain - Cerebellum",
          "Brain - Cerebellum",
          "Brain - Cortex",
          "Brain - Cortex",
          "Breast - Mammary Tissue",
          "Breast - Mammary Tissue",
          "Breast - Mammary Tissue",
          "Breast - Mammary Tissue",
          "Breast - Mammary Tissue",
          "Breast - Mammary Tissue",
          "Breast - Mammary Tissue",
          "Colon - Sigmoid",
          "Colon - Sigmoid",
          "Colon - Sigmoid",
          "Colon - Sigmoid",
          "Colon - Sigmoid",
          "Colon - Sigmoid",
          "Colon - Sigmoid",
          "Colon - Sigmoid",
          "Colon - Sigmoid",
          "Colon - Sigmoid",
          "Colon - Sigmoid",
          "Colon - Transverse",
          "Colon - Transverse",
          "Colon - Transverse",
          "Colon - Transverse",
          "Esophagus - Gastroesophageal Junction",
          "Esophagus - Gastroesophageal Junction",
          "Esophagus - Gastroesophageal Junction",
          "Esophagus - Gastroesophageal Junction",
          "Esophagus - Gastroesophageal Junction",
          "Esophagus - Gastroesophageal Junction",
          "Esophagus - Gastroesophageal Junction",
          "Esophagus - Gastroesophageal Junction",
          "Esophagus - Gastroesophageal Junction",
          "Esophagus - Gastroesophageal Junction",
          "Esophagus - Mucosa",
          "Esophagus - Mucosa",
          "Esophagus - Mucosa",
          "Esophagus - Mucosa",
          "Esophagus - Muscularis",
          "Esophagus - Muscularis",
          "Esophagus - Muscularis",
          "Esophagus - Muscularis",
          "Esophagus - Muscularis",
          "Esophagus - Muscularis",
          "Esophagus - Muscularis",
          "Esophagus - Muscularis",
          "Heart - Atrial Appendage",
          "Heart - Atrial Appendage",
          "Heart - Atrial Appendage",
          "Heart - Atrial Appendage",
          "Heart - Atrial Appendage",
          "Heart - Atrial Appendage",
          "Heart - Atrial Appendage",
          "Heart - Atrial Appendage",
          "Heart - Atrial Appendage",
          "Heart - Atrial Appendage",
          "Heart - Atrial Appendage",
          "Heart - Left Ventricle",
          "Heart - Left Ventricle",
          "Heart - Left Ventricle",
          "Heart - Left Ventricle",
          "Heart - Left Ventricle",
          "Heart - Left Ventricle",
          "Heart - Left Ventricle",
          "Liver",
          "Liver",
          "Liver",
          "Liver",
          "Liver",
          "Lung",
          "Lung",
          "Lung",
          "Lung",
          "Lung",
          "Lung",
          "Lung",
          "Lung",
          "Minor Salivary Gland",
          "Muscle - Skeletal",
          "Muscle - Skeletal",
          "Muscle - Skeletal",
          "Muscle - Skeletal",
          "Muscle - Skeletal",
          "Muscle - Skeletal",
          "Muscle - Skeletal",
          "Muscle - Skeletal",
          "Muscle - Skeletal",
          "Muscle - Skeletal",
          "Muscle - Skeletal",
          "Nerve - Tibial",
          "Nerve - Tibial",
          "Nerve - Tibial",
          "Nerve - Tibial",
          "Nerve - Tibial",
          "Nerve - Tibial",
          "Ovary",
          "Ovary",
          "Ovary",
          "Ovary",
          "Pancreas",
          "Pancreas",
          "Pancreas",
          "Pancreas",
          "Pancreas",
          "Pancreas",
          "Pancreas",
          "Pancreas",
          "Pituitary",
          "Pituitary",
          "Prostate",
          "Prostate",
          "Skin - Not Sun Exposed (Suprapubic)",
          "Skin - Not Sun Exposed (Suprapubic)",
          "Skin - Not Sun Exposed (Suprapubic)",
          "Skin - Not Sun Exposed (Suprapubic)",
          "Skin - Not Sun Exposed (Suprapubic)",
          "Skin - Not Sun Exposed (Suprapubic)",
          "Skin - Not Sun Exposed (Suprapubic)",
          "Skin - Not Sun Exposed (Suprapubic)",
          "Skin - Sun Exposed (Lower leg)",
          "Skin - Sun Exposed (Lower leg)",
          "Skin - Sun Exposed (Lower leg)",
          "Skin - Sun Exposed (Lower leg)",
          "Skin - Sun Exposed (Lower leg)",
          "Skin - Sun Exposed (Lower leg)",
          "Skin - Sun Exposed (Lower leg)",
          "Small Intestine - Terminal Ileum",
          "Small Intestine - Terminal Ileum",
          "Small Intestine - Terminal Ileum",
          "Spleen",
          "Spleen",
          "Spleen",
          "Spleen",
          "Spleen",
          "Spleen",
          "Spleen",
          "Spleen",
          "Stomach",
          "Stomach",
          "Stomach",
          "Stomach",
          "Stomach",
          "Stomach",
          "Stomach",
          "Stomach",
          "Stomach",
          "Stomach",
          "Stomach",
          "Testis",
          "Testis",
          "Testis",
          "Thyroid",
          "Thyroid",
          "Thyroid",
          "Thyroid",
          "Thyroid",
          "Thyroid",
          "Thyroid",
          "Thyroid",
          "Thyroid",
          "Thyroid",
          "Thyroid",
          "Uterus",
          "Uterus",
          "Uterus",
          "Uterus",
          "Uterus",
          "Uterus",
          "Vagina",
          "Vagina",
          "Vagina",
          "Vagina",
          "Vagina",
          "Vagina",
          "Vagina"
         ],
         "y0": " ",
         "yaxis": "y"
        },
        {
         "marker": {
          "color": "#636EFA"
         },
         "name": "n > 1",
         "orientation": "h",
         "type": "box",
         "x": [
          -2.17,
          0,
          -0.84,
          -1.28,
          -0.79,
          -1.18,
          -0.63,
          0,
          0,
          0,
          -2.07,
          0,
          0,
          0,
          0,
          0,
          0,
          0,
          0,
          0,
          0,
          -0.02,
          -1.58,
          0,
          0,
          0,
          0,
          0,
          0,
          0,
          0,
          0,
          0,
          0,
          0,
          0,
          -0.5,
          0,
          0,
          0,
          -0.98,
          0,
          0,
          0,
          0,
          -1.03,
          0,
          0,
          0,
          0,
          0,
          0,
          0,
          0,
          0,
          0,
          0,
          0,
          -1.8,
          0,
          -2.8,
          0,
          0,
          0,
          0,
          0,
          0,
          0,
          0,
          0,
          0,
          0,
          0,
          0,
          0,
          0,
          -2.11,
          0,
          0,
          0,
          0,
          0,
          0,
          0,
          0,
          -1.4,
          0.54,
          0,
          0,
          0,
          3.88,
          5.09,
          4.67,
          3.03,
          3.83,
          0,
          0,
          0,
          0,
          0,
          0,
          0,
          0,
          -1.18,
          0,
          0,
          0,
          0,
          0,
          0,
          0,
          0,
          0,
          0,
          0,
          0,
          0,
          0,
          0,
          0,
          0,
          -1.93,
          0,
          0,
          0,
          0.2,
          2,
          1.57,
          1.35,
          0.37,
          2.02,
          1.54,
          1.38,
          0,
          0,
          0,
          0,
          0,
          0,
          0,
          -0.4,
          0,
          0,
          0,
          0,
          0,
          0,
          0,
          0,
          0,
          0,
          0,
          0,
          0,
          0,
          0,
          -1.38,
          0,
          0,
          0,
          0,
          0,
          0,
          0,
          0,
          0,
          -2.06,
          0,
          0,
          0,
          0,
          0,
          0,
          0,
          -0.58,
          -1.16,
          -0.64,
          0,
          0,
          0,
          0,
          0,
          0,
          0,
          0,
          0,
          -1.75,
          0,
          0,
          0,
          0,
          0,
          0,
          0,
          0,
          0,
          0,
          0,
          0,
          0,
          0
         ],
         "y": [
          "Adrenal Gland",
          "Adrenal Gland",
          "Adrenal Gland",
          "Adrenal Gland",
          "Adrenal Gland",
          "Adrenal Gland",
          "Adrenal Gland",
          "Artery - Aorta",
          "Artery - Aorta",
          "Artery - Aorta",
          "Artery - Aorta",
          "Artery - Aorta",
          "Artery - Aorta",
          "Artery - Aorta",
          "Artery - Aorta",
          "Artery - Aorta",
          "Artery - Aorta",
          "Artery - Coronary",
          "Artery - Coronary",
          "Artery - Tibial",
          "Artery - Tibial",
          "Artery - Tibial",
          "Artery - Tibial",
          "Brain - Cerebellum",
          "Brain - Cerebellum",
          "Brain - Cerebellum",
          "Brain - Cortex",
          "Brain - Cortex",
          "Breast - Mammary Tissue",
          "Breast - Mammary Tissue",
          "Breast - Mammary Tissue",
          "Breast - Mammary Tissue",
          "Breast - Mammary Tissue",
          "Breast - Mammary Tissue",
          "Breast - Mammary Tissue",
          "Colon - Sigmoid",
          "Colon - Sigmoid",
          "Colon - Sigmoid",
          "Colon - Sigmoid",
          "Colon - Sigmoid",
          "Colon - Sigmoid",
          "Colon - Sigmoid",
          "Colon - Sigmoid",
          "Colon - Sigmoid",
          "Colon - Sigmoid",
          "Colon - Sigmoid",
          "Colon - Transverse",
          "Colon - Transverse",
          "Colon - Transverse",
          "Colon - Transverse",
          "Esophagus - Gastroesophageal Junction",
          "Esophagus - Gastroesophageal Junction",
          "Esophagus - Gastroesophageal Junction",
          "Esophagus - Gastroesophageal Junction",
          "Esophagus - Gastroesophageal Junction",
          "Esophagus - Gastroesophageal Junction",
          "Esophagus - Gastroesophageal Junction",
          "Esophagus - Gastroesophageal Junction",
          "Esophagus - Gastroesophageal Junction",
          "Esophagus - Gastroesophageal Junction",
          "Esophagus - Mucosa",
          "Esophagus - Mucosa",
          "Esophagus - Mucosa",
          "Esophagus - Mucosa",
          "Esophagus - Muscularis",
          "Esophagus - Muscularis",
          "Esophagus - Muscularis",
          "Esophagus - Muscularis",
          "Esophagus - Muscularis",
          "Esophagus - Muscularis",
          "Esophagus - Muscularis",
          "Esophagus - Muscularis",
          "Heart - Atrial Appendage",
          "Heart - Atrial Appendage",
          "Heart - Atrial Appendage",
          "Heart - Atrial Appendage",
          "Heart - Atrial Appendage",
          "Heart - Atrial Appendage",
          "Heart - Atrial Appendage",
          "Heart - Atrial Appendage",
          "Heart - Atrial Appendage",
          "Heart - Atrial Appendage",
          "Heart - Atrial Appendage",
          "Heart - Left Ventricle",
          "Heart - Left Ventricle",
          "Heart - Left Ventricle",
          "Heart - Left Ventricle",
          "Heart - Left Ventricle",
          "Heart - Left Ventricle",
          "Heart - Left Ventricle",
          "Liver",
          "Liver",
          "Liver",
          "Liver",
          "Liver",
          "Lung",
          "Lung",
          "Lung",
          "Lung",
          "Lung",
          "Lung",
          "Lung",
          "Lung",
          "Minor Salivary Gland",
          "Muscle - Skeletal",
          "Muscle - Skeletal",
          "Muscle - Skeletal",
          "Muscle - Skeletal",
          "Muscle - Skeletal",
          "Muscle - Skeletal",
          "Muscle - Skeletal",
          "Muscle - Skeletal",
          "Muscle - Skeletal",
          "Muscle - Skeletal",
          "Muscle - Skeletal",
          "Nerve - Tibial",
          "Nerve - Tibial",
          "Nerve - Tibial",
          "Nerve - Tibial",
          "Nerve - Tibial",
          "Nerve - Tibial",
          "Ovary",
          "Ovary",
          "Ovary",
          "Ovary",
          "Pancreas",
          "Pancreas",
          "Pancreas",
          "Pancreas",
          "Pancreas",
          "Pancreas",
          "Pancreas",
          "Pancreas",
          "Pituitary",
          "Pituitary",
          "Prostate",
          "Prostate",
          "Skin - Not Sun Exposed (Suprapubic)",
          "Skin - Not Sun Exposed (Suprapubic)",
          "Skin - Not Sun Exposed (Suprapubic)",
          "Skin - Not Sun Exposed (Suprapubic)",
          "Skin - Not Sun Exposed (Suprapubic)",
          "Skin - Not Sun Exposed (Suprapubic)",
          "Skin - Not Sun Exposed (Suprapubic)",
          "Skin - Not Sun Exposed (Suprapubic)",
          "Skin - Sun Exposed (Lower leg)",
          "Skin - Sun Exposed (Lower leg)",
          "Skin - Sun Exposed (Lower leg)",
          "Skin - Sun Exposed (Lower leg)",
          "Skin - Sun Exposed (Lower leg)",
          "Skin - Sun Exposed (Lower leg)",
          "Skin - Sun Exposed (Lower leg)",
          "Small Intestine - Terminal Ileum",
          "Small Intestine - Terminal Ileum",
          "Small Intestine - Terminal Ileum",
          "Spleen",
          "Spleen",
          "Spleen",
          "Spleen",
          "Spleen",
          "Spleen",
          "Spleen",
          "Spleen",
          "Stomach",
          "Stomach",
          "Stomach",
          "Stomach",
          "Stomach",
          "Stomach",
          "Stomach",
          "Stomach",
          "Stomach",
          "Stomach",
          "Stomach",
          "Testis",
          "Testis",
          "Testis",
          "Thyroid",
          "Thyroid",
          "Thyroid",
          "Thyroid",
          "Thyroid",
          "Thyroid",
          "Thyroid",
          "Thyroid",
          "Thyroid",
          "Thyroid",
          "Thyroid",
          "Uterus",
          "Uterus",
          "Uterus",
          "Uterus",
          "Uterus",
          "Uterus",
          "Vagina",
          "Vagina",
          "Vagina",
          "Vagina",
          "Vagina",
          "Vagina",
          "Vagina"
         ]
        }
       ],
       "layout": {
        "autosize": true,
        "boxmode": "overlay",
        "height": 960,
        "legend": {
         "tracegroupgap": 0
        },
        "margin": {
         "t": 60
        },
        "showlegend": false,
        "template": {
         "data": {
          "bar": [
           {
            "error_x": {
             "color": "#2a3f5f"
            },
            "error_y": {
             "color": "#2a3f5f"
            },
            "marker": {
             "line": {
              "color": "#E5ECF6",
              "width": 0.5
             },
             "pattern": {
              "fillmode": "overlay",
              "size": 10,
              "solidity": 0.2
             }
            },
            "type": "bar"
           }
          ],
          "barpolar": [
           {
            "marker": {
             "line": {
              "color": "#E5ECF6",
              "width": 0.5
             },
             "pattern": {
              "fillmode": "overlay",
              "size": 10,
              "solidity": 0.2
             }
            },
            "type": "barpolar"
           }
          ],
          "carpet": [
           {
            "aaxis": {
             "endlinecolor": "#2a3f5f",
             "gridcolor": "white",
             "linecolor": "white",
             "minorgridcolor": "white",
             "startlinecolor": "#2a3f5f"
            },
            "baxis": {
             "endlinecolor": "#2a3f5f",
             "gridcolor": "white",
             "linecolor": "white",
             "minorgridcolor": "white",
             "startlinecolor": "#2a3f5f"
            },
            "type": "carpet"
           }
          ],
          "choropleth": [
           {
            "colorbar": {
             "outlinewidth": 0,
             "ticks": ""
            },
            "type": "choropleth"
           }
          ],
          "contour": [
           {
            "colorbar": {
             "outlinewidth": 0,
             "ticks": ""
            },
            "colorscale": [
             [
              0,
              "#0d0887"
             ],
             [
              0.1111111111111111,
              "#46039f"
             ],
             [
              0.2222222222222222,
              "#7201a8"
             ],
             [
              0.3333333333333333,
              "#9c179e"
             ],
             [
              0.4444444444444444,
              "#bd3786"
             ],
             [
              0.5555555555555556,
              "#d8576b"
             ],
             [
              0.6666666666666666,
              "#ed7953"
             ],
             [
              0.7777777777777778,
              "#fb9f3a"
             ],
             [
              0.8888888888888888,
              "#fdca26"
             ],
             [
              1,
              "#f0f921"
             ]
            ],
            "type": "contour"
           }
          ],
          "contourcarpet": [
           {
            "colorbar": {
             "outlinewidth": 0,
             "ticks": ""
            },
            "type": "contourcarpet"
           }
          ],
          "heatmap": [
           {
            "colorbar": {
             "outlinewidth": 0,
             "ticks": ""
            },
            "colorscale": [
             [
              0,
              "#0d0887"
             ],
             [
              0.1111111111111111,
              "#46039f"
             ],
             [
              0.2222222222222222,
              "#7201a8"
             ],
             [
              0.3333333333333333,
              "#9c179e"
             ],
             [
              0.4444444444444444,
              "#bd3786"
             ],
             [
              0.5555555555555556,
              "#d8576b"
             ],
             [
              0.6666666666666666,
              "#ed7953"
             ],
             [
              0.7777777777777778,
              "#fb9f3a"
             ],
             [
              0.8888888888888888,
              "#fdca26"
             ],
             [
              1,
              "#f0f921"
             ]
            ],
            "type": "heatmap"
           }
          ],
          "heatmapgl": [
           {
            "colorbar": {
             "outlinewidth": 0,
             "ticks": ""
            },
            "colorscale": [
             [
              0,
              "#0d0887"
             ],
             [
              0.1111111111111111,
              "#46039f"
             ],
             [
              0.2222222222222222,
              "#7201a8"
             ],
             [
              0.3333333333333333,
              "#9c179e"
             ],
             [
              0.4444444444444444,
              "#bd3786"
             ],
             [
              0.5555555555555556,
              "#d8576b"
             ],
             [
              0.6666666666666666,
              "#ed7953"
             ],
             [
              0.7777777777777778,
              "#fb9f3a"
             ],
             [
              0.8888888888888888,
              "#fdca26"
             ],
             [
              1,
              "#f0f921"
             ]
            ],
            "type": "heatmapgl"
           }
          ],
          "histogram": [
           {
            "marker": {
             "pattern": {
              "fillmode": "overlay",
              "size": 10,
              "solidity": 0.2
             }
            },
            "type": "histogram"
           }
          ],
          "histogram2d": [
           {
            "colorbar": {
             "outlinewidth": 0,
             "ticks": ""
            },
            "colorscale": [
             [
              0,
              "#0d0887"
             ],
             [
              0.1111111111111111,
              "#46039f"
             ],
             [
              0.2222222222222222,
              "#7201a8"
             ],
             [
              0.3333333333333333,
              "#9c179e"
             ],
             [
              0.4444444444444444,
              "#bd3786"
             ],
             [
              0.5555555555555556,
              "#d8576b"
             ],
             [
              0.6666666666666666,
              "#ed7953"
             ],
             [
              0.7777777777777778,
              "#fb9f3a"
             ],
             [
              0.8888888888888888,
              "#fdca26"
             ],
             [
              1,
              "#f0f921"
             ]
            ],
            "type": "histogram2d"
           }
          ],
          "histogram2dcontour": [
           {
            "colorbar": {
             "outlinewidth": 0,
             "ticks": ""
            },
            "colorscale": [
             [
              0,
              "#0d0887"
             ],
             [
              0.1111111111111111,
              "#46039f"
             ],
             [
              0.2222222222222222,
              "#7201a8"
             ],
             [
              0.3333333333333333,
              "#9c179e"
             ],
             [
              0.4444444444444444,
              "#bd3786"
             ],
             [
              0.5555555555555556,
              "#d8576b"
             ],
             [
              0.6666666666666666,
              "#ed7953"
             ],
             [
              0.7777777777777778,
              "#fb9f3a"
             ],
             [
              0.8888888888888888,
              "#fdca26"
             ],
             [
              1,
              "#f0f921"
             ]
            ],
            "type": "histogram2dcontour"
           }
          ],
          "mesh3d": [
           {
            "colorbar": {
             "outlinewidth": 0,
             "ticks": ""
            },
            "type": "mesh3d"
           }
          ],
          "parcoords": [
           {
            "line": {
             "colorbar": {
              "outlinewidth": 0,
              "ticks": ""
             }
            },
            "type": "parcoords"
           }
          ],
          "pie": [
           {
            "automargin": true,
            "type": "pie"
           }
          ],
          "scatter": [
           {
            "fillpattern": {
             "fillmode": "overlay",
             "size": 10,
             "solidity": 0.2
            },
            "type": "scatter"
           }
          ],
          "scatter3d": [
           {
            "line": {
             "colorbar": {
              "outlinewidth": 0,
              "ticks": ""
             }
            },
            "marker": {
             "colorbar": {
              "outlinewidth": 0,
              "ticks": ""
             }
            },
            "type": "scatter3d"
           }
          ],
          "scattercarpet": [
           {
            "marker": {
             "colorbar": {
              "outlinewidth": 0,
              "ticks": ""
             }
            },
            "type": "scattercarpet"
           }
          ],
          "scattergeo": [
           {
            "marker": {
             "colorbar": {
              "outlinewidth": 0,
              "ticks": ""
             }
            },
            "type": "scattergeo"
           }
          ],
          "scattergl": [
           {
            "marker": {
             "colorbar": {
              "outlinewidth": 0,
              "ticks": ""
             }
            },
            "type": "scattergl"
           }
          ],
          "scattermapbox": [
           {
            "marker": {
             "colorbar": {
              "outlinewidth": 0,
              "ticks": ""
             }
            },
            "type": "scattermapbox"
           }
          ],
          "scatterpolar": [
           {
            "marker": {
             "colorbar": {
              "outlinewidth": 0,
              "ticks": ""
             }
            },
            "type": "scatterpolar"
           }
          ],
          "scatterpolargl": [
           {
            "marker": {
             "colorbar": {
              "outlinewidth": 0,
              "ticks": ""
             }
            },
            "type": "scatterpolargl"
           }
          ],
          "scatterternary": [
           {
            "marker": {
             "colorbar": {
              "outlinewidth": 0,
              "ticks": ""
             }
            },
            "type": "scatterternary"
           }
          ],
          "surface": [
           {
            "colorbar": {
             "outlinewidth": 0,
             "ticks": ""
            },
            "colorscale": [
             [
              0,
              "#0d0887"
             ],
             [
              0.1111111111111111,
              "#46039f"
             ],
             [
              0.2222222222222222,
              "#7201a8"
             ],
             [
              0.3333333333333333,
              "#9c179e"
             ],
             [
              0.4444444444444444,
              "#bd3786"
             ],
             [
              0.5555555555555556,
              "#d8576b"
             ],
             [
              0.6666666666666666,
              "#ed7953"
             ],
             [
              0.7777777777777778,
              "#fb9f3a"
             ],
             [
              0.8888888888888888,
              "#fdca26"
             ],
             [
              1,
              "#f0f921"
             ]
            ],
            "type": "surface"
           }
          ],
          "table": [
           {
            "cells": {
             "fill": {
              "color": "#EBF0F8"
             },
             "line": {
              "color": "white"
             }
            },
            "header": {
             "fill": {
              "color": "#C8D4E3"
             },
             "line": {
              "color": "white"
             }
            },
            "type": "table"
           }
          ]
         },
         "layout": {
          "annotationdefaults": {
           "arrowcolor": "#2a3f5f",
           "arrowhead": 0,
           "arrowwidth": 1
          },
          "autotypenumbers": "strict",
          "coloraxis": {
           "colorbar": {
            "outlinewidth": 0,
            "ticks": ""
           }
          },
          "colorscale": {
           "diverging": [
            [
             0,
             "#8e0152"
            ],
            [
             0.1,
             "#c51b7d"
            ],
            [
             0.2,
             "#de77ae"
            ],
            [
             0.3,
             "#f1b6da"
            ],
            [
             0.4,
             "#fde0ef"
            ],
            [
             0.5,
             "#f7f7f7"
            ],
            [
             0.6,
             "#e6f5d0"
            ],
            [
             0.7,
             "#b8e186"
            ],
            [
             0.8,
             "#7fbc41"
            ],
            [
             0.9,
             "#4d9221"
            ],
            [
             1,
             "#276419"
            ]
           ],
           "sequential": [
            [
             0,
             "#0d0887"
            ],
            [
             0.1111111111111111,
             "#46039f"
            ],
            [
             0.2222222222222222,
             "#7201a8"
            ],
            [
             0.3333333333333333,
             "#9c179e"
            ],
            [
             0.4444444444444444,
             "#bd3786"
            ],
            [
             0.5555555555555556,
             "#d8576b"
            ],
            [
             0.6666666666666666,
             "#ed7953"
            ],
            [
             0.7777777777777778,
             "#fb9f3a"
            ],
            [
             0.8888888888888888,
             "#fdca26"
            ],
            [
             1,
             "#f0f921"
            ]
           ],
           "sequentialminus": [
            [
             0,
             "#0d0887"
            ],
            [
             0.1111111111111111,
             "#46039f"
            ],
            [
             0.2222222222222222,
             "#7201a8"
            ],
            [
             0.3333333333333333,
             "#9c179e"
            ],
            [
             0.4444444444444444,
             "#bd3786"
            ],
            [
             0.5555555555555556,
             "#d8576b"
            ],
            [
             0.6666666666666666,
             "#ed7953"
            ],
            [
             0.7777777777777778,
             "#fb9f3a"
            ],
            [
             0.8888888888888888,
             "#fdca26"
            ],
            [
             1,
             "#f0f921"
            ]
           ]
          },
          "colorway": [
           "#636efa",
           "#EF553B",
           "#00cc96",
           "#ab63fa",
           "#FFA15A",
           "#19d3f3",
           "#FF6692",
           "#B6E880",
           "#FF97FF",
           "#FECB52"
          ],
          "font": {
           "color": "#2a3f5f"
          },
          "geo": {
           "bgcolor": "white",
           "lakecolor": "white",
           "landcolor": "#E5ECF6",
           "showlakes": true,
           "showland": true,
           "subunitcolor": "white"
          },
          "hoverlabel": {
           "align": "left"
          },
          "hovermode": "closest",
          "mapbox": {
           "style": "light"
          },
          "paper_bgcolor": "white",
          "plot_bgcolor": "#E5ECF6",
          "polar": {
           "angularaxis": {
            "gridcolor": "white",
            "linecolor": "white",
            "ticks": ""
           },
           "bgcolor": "#E5ECF6",
           "radialaxis": {
            "gridcolor": "white",
            "linecolor": "white",
            "ticks": ""
           }
          },
          "scene": {
           "xaxis": {
            "backgroundcolor": "#E5ECF6",
            "gridcolor": "white",
            "gridwidth": 2,
            "linecolor": "white",
            "showbackground": true,
            "ticks": "",
            "zerolinecolor": "white"
           },
           "yaxis": {
            "backgroundcolor": "#E5ECF6",
            "gridcolor": "white",
            "gridwidth": 2,
            "linecolor": "white",
            "showbackground": true,
            "ticks": "",
            "zerolinecolor": "white"
           },
           "zaxis": {
            "backgroundcolor": "#E5ECF6",
            "gridcolor": "white",
            "gridwidth": 2,
            "linecolor": "white",
            "showbackground": true,
            "ticks": "",
            "zerolinecolor": "white"
           }
          },
          "shapedefaults": {
           "line": {
            "color": "#2a3f5f"
           }
          },
          "ternary": {
           "aaxis": {
            "gridcolor": "white",
            "linecolor": "white",
            "ticks": ""
           },
           "baxis": {
            "gridcolor": "white",
            "linecolor": "white",
            "ticks": ""
           },
           "bgcolor": "#E5ECF6",
           "caxis": {
            "gridcolor": "white",
            "linecolor": "white",
            "ticks": ""
           }
          },
          "title": {
           "x": 0.05
          },
          "xaxis": {
           "automargin": true,
           "gridcolor": "white",
           "linecolor": "white",
           "ticks": "",
           "title": {
            "standoff": 15
           },
           "zerolinecolor": "white",
           "zerolinewidth": 2
          },
          "yaxis": {
           "automargin": true,
           "gridcolor": "white",
           "linecolor": "white",
           "ticks": "",
           "title": {
            "standoff": 15
           },
           "zerolinecolor": "white",
           "zerolinewidth": 2
          }
         }
        },
        "title": {
         "text": "(GTEx Proteomics)"
        },
        "xaxis": {
         "anchor": "y",
         "domain": [
          0,
          1
         ],
         "title": {
          "text": "log2(relative abundance)"
         }
        },
        "yaxis": {
         "anchor": "x",
         "domain": [
          0,
          1
         ],
         "title": {}
        }
       }
      },
      "text/html": [
       "<div>                            <div id=\"533349db-80e1-4e19-bfc0-c9eaeac274f9\" class=\"plotly-graph-div\" style=\"height:960px; width:100%;\"></div>            <script type=\"text/javascript\">                require([\"plotly\"], function(Plotly) {                    window.PLOTLYENV=window.PLOTLYENV || {};                                    if (document.getElementById(\"533349db-80e1-4e19-bfc0-c9eaeac274f9\")) {                    Plotly.newPlot(                        \"533349db-80e1-4e19-bfc0-c9eaeac274f9\",                        [{\"alignmentgroup\":\"True\",\"boxpoints\":\"all\",\"customdata\":[[-10.0],[-10.0],[-10.0],[-10.0],[-10.0],[-10.0],[-10.0],[\"NA\"],[\"NA\"],[\"NA\"],[\"NA\"],[\"NA\"],[\"NA\"],[\"NA\"],[\"NA\"],[\"NA\"],[\"NA\"],[0.0],[0.0],[-1.0],[-1.0],[-1.0],[-1.0],[\"NA\"],[\"NA\"],[\"NA\"],[0.0],[0.0],[0.0],[0.0],[0.0],[0.0],[0.0],[0.0],[0.0],[0.0],[0.0],[0.0],[0.0],[0.0],[0.0],[0.0],[0.0],[0.0],[0.0],[0.0],[0.0],[0.0],[0.0],[0.0],[0.0],[0.0],[0.0],[0.0],[0.0],[0.0],[0.0],[0.0],[0.0],[0.0],[0.0],[0.0],[0.0],[0.0],[0.0],[0.0],[0.0],[0.0],[0.0],[0.0],[0.0],[0.0],[0.0],[0.0],[0.0],[0.0],[0.0],[0.0],[0.0],[0.0],[0.0],[0.0],[0.0],[0.0],[0.0],[0.0],[0.0],[0.0],[0.0],[0.0],[10.0],[10.0],[10.0],[10.0],[10.0],[0.0],[0.0],[0.0],[0.0],[0.0],[0.0],[0.0],[0.0],[-10.0],[0.0],[0.0],[0.0],[0.0],[0.0],[0.0],[0.0],[0.0],[0.0],[0.0],[0.0],[0.0],[0.0],[0.0],[0.0],[0.0],[0.0],[0.0],[0.0],[0.0],[0.0],[10.0],[10.0],[10.0],[10.0],[10.0],[10.0],[10.0],[10.0],[0.0],[0.0],[0.0],[0.0],[0.0],[0.0],[0.0],[0.0],[0.0],[0.0],[0.0],[0.0],[\"NA\"],[\"NA\"],[\"NA\"],[\"NA\"],[\"NA\"],[\"NA\"],[\"NA\"],[0.0],[0.0],[0.0],[0.0],[0.0],[0.0],[0.0],[0.0],[0.0],[0.0],[0.0],[0.0],[0.0],[0.0],[0.0],[0.0],[0.0],[0.0],[0.0],[0.0],[0.0],[0.0],[-10.0],[-10.0],[-10.0],[0.0],[0.0],[0.0],[0.0],[0.0],[0.0],[0.0],[0.0],[0.0],[0.0],[0.0],[0.0],[0.0],[0.0],[0.0],[0.0],[0.0],[\"NA\"],[\"NA\"],[\"NA\"],[\"NA\"],[\"NA\"],[\"NA\"],[\"NA\"]],\"fillcolor\":\"rgba(255,255,255,0)\",\"hoveron\":\"points\",\"hovertemplate\":\"value=%{x}<br>tissue=%{y}<br>tissue_specificity=%{customdata[0]}<extra></extra>\",\"legendgroup\":\"\",\"line\":{\"color\":\"rgba(255,255,255,0)\"},\"marker\":{\"color\":\"#636efa\"},\"name\":\"\",\"offsetgroup\":\"\",\"orientation\":\"h\",\"pointpos\":0,\"showlegend\":false,\"x\":[-2.17,0.0,-0.84,-1.28,-0.79,-1.18,-0.63,0.0,0.0,0.0,-2.07,0.0,0.0,0.0,0.0,0.0,0.0,0.0,0.0,0.0,0.0,-0.02,-1.58,0.0,0.0,0.0,0.0,0.0,0.0,0.0,0.0,0.0,0.0,0.0,0.0,0.0,-0.5,0.0,0.0,0.0,-0.98,0.0,0.0,0.0,0.0,-1.03,0.0,0.0,0.0,0.0,0.0,0.0,0.0,0.0,0.0,0.0,0.0,0.0,-1.8,0.0,-2.8,0.0,0.0,0.0,0.0,0.0,0.0,0.0,0.0,0.0,0.0,0.0,0.0,0.0,0.0,0.0,-2.11,0.0,0.0,0.0,0.0,0.0,0.0,0.0,0.0,-1.4,0.54,0.0,0.0,0.0,3.88,5.09,4.67,3.03,3.83,0.0,0.0,0.0,0.0,0.0,0.0,0.0,0.0,-1.18,0.0,0.0,0.0,0.0,0.0,0.0,0.0,0.0,0.0,0.0,0.0,0.0,0.0,0.0,0.0,0.0,0.0,-1.93,0.0,0.0,0.0,0.2,2.0,1.57,1.35,0.37,2.02,1.54,1.38,0.0,0.0,0.0,0.0,0.0,0.0,0.0,-0.4,0.0,0.0,0.0,0.0,0.0,0.0,0.0,0.0,0.0,0.0,0.0,0.0,0.0,0.0,0.0,-1.38,0.0,0.0,0.0,0.0,0.0,0.0,0.0,0.0,0.0,-2.06,0.0,0.0,0.0,0.0,0.0,0.0,0.0,-0.58,-1.16,-0.64,0.0,0.0,0.0,0.0,0.0,0.0,0.0,0.0,0.0,-1.75,0.0,0.0,0.0,0.0,0.0,0.0,0.0,0.0,0.0,0.0,0.0,0.0,0.0,0.0],\"x0\":\" \",\"xaxis\":\"x\",\"y\":[\"Adrenal Gland\",\"Adrenal Gland\",\"Adrenal Gland\",\"Adrenal Gland\",\"Adrenal Gland\",\"Adrenal Gland\",\"Adrenal Gland\",\"Artery - Aorta\",\"Artery - Aorta\",\"Artery - Aorta\",\"Artery - Aorta\",\"Artery - Aorta\",\"Artery - Aorta\",\"Artery - Aorta\",\"Artery - Aorta\",\"Artery - Aorta\",\"Artery - Aorta\",\"Artery - Coronary\",\"Artery - Coronary\",\"Artery - Tibial\",\"Artery - Tibial\",\"Artery - Tibial\",\"Artery - Tibial\",\"Brain - Cerebellum\",\"Brain - Cerebellum\",\"Brain - Cerebellum\",\"Brain - Cortex\",\"Brain - Cortex\",\"Breast - Mammary Tissue\",\"Breast - Mammary Tissue\",\"Breast - Mammary Tissue\",\"Breast - Mammary Tissue\",\"Breast - Mammary Tissue\",\"Breast - Mammary Tissue\",\"Breast - Mammary Tissue\",\"Colon - Sigmoid\",\"Colon - Sigmoid\",\"Colon - Sigmoid\",\"Colon - Sigmoid\",\"Colon - Sigmoid\",\"Colon - Sigmoid\",\"Colon - Sigmoid\",\"Colon - Sigmoid\",\"Colon - Sigmoid\",\"Colon - Sigmoid\",\"Colon - Sigmoid\",\"Colon - Transverse\",\"Colon - Transverse\",\"Colon - Transverse\",\"Colon - Transverse\",\"Esophagus - Gastroesophageal Junction\",\"Esophagus - Gastroesophageal Junction\",\"Esophagus - Gastroesophageal Junction\",\"Esophagus - Gastroesophageal Junction\",\"Esophagus - Gastroesophageal Junction\",\"Esophagus - Gastroesophageal Junction\",\"Esophagus - Gastroesophageal Junction\",\"Esophagus - Gastroesophageal Junction\",\"Esophagus - Gastroesophageal Junction\",\"Esophagus - Gastroesophageal Junction\",\"Esophagus - Mucosa\",\"Esophagus - Mucosa\",\"Esophagus - Mucosa\",\"Esophagus - Mucosa\",\"Esophagus - Muscularis\",\"Esophagus - Muscularis\",\"Esophagus - Muscularis\",\"Esophagus - Muscularis\",\"Esophagus - Muscularis\",\"Esophagus - Muscularis\",\"Esophagus - Muscularis\",\"Esophagus - Muscularis\",\"Heart - Atrial Appendage\",\"Heart - Atrial Appendage\",\"Heart - Atrial Appendage\",\"Heart - Atrial Appendage\",\"Heart - Atrial Appendage\",\"Heart - Atrial Appendage\",\"Heart - Atrial Appendage\",\"Heart - Atrial Appendage\",\"Heart - Atrial Appendage\",\"Heart - Atrial Appendage\",\"Heart - Atrial Appendage\",\"Heart - Left Ventricle\",\"Heart - Left Ventricle\",\"Heart - Left Ventricle\",\"Heart - Left Ventricle\",\"Heart - Left Ventricle\",\"Heart - Left Ventricle\",\"Heart - Left Ventricle\",\"Liver\",\"Liver\",\"Liver\",\"Liver\",\"Liver\",\"Lung\",\"Lung\",\"Lung\",\"Lung\",\"Lung\",\"Lung\",\"Lung\",\"Lung\",\"Minor Salivary Gland\",\"Muscle - Skeletal\",\"Muscle - Skeletal\",\"Muscle - Skeletal\",\"Muscle - Skeletal\",\"Muscle - Skeletal\",\"Muscle - Skeletal\",\"Muscle - Skeletal\",\"Muscle - Skeletal\",\"Muscle - Skeletal\",\"Muscle - Skeletal\",\"Muscle - Skeletal\",\"Nerve - Tibial\",\"Nerve - Tibial\",\"Nerve - Tibial\",\"Nerve - Tibial\",\"Nerve - Tibial\",\"Nerve - Tibial\",\"Ovary\",\"Ovary\",\"Ovary\",\"Ovary\",\"Pancreas\",\"Pancreas\",\"Pancreas\",\"Pancreas\",\"Pancreas\",\"Pancreas\",\"Pancreas\",\"Pancreas\",\"Pituitary\",\"Pituitary\",\"Prostate\",\"Prostate\",\"Skin - Not Sun Exposed (Suprapubic)\",\"Skin - Not Sun Exposed (Suprapubic)\",\"Skin - Not Sun Exposed (Suprapubic)\",\"Skin - Not Sun Exposed (Suprapubic)\",\"Skin - Not Sun Exposed (Suprapubic)\",\"Skin - Not Sun Exposed (Suprapubic)\",\"Skin - Not Sun Exposed (Suprapubic)\",\"Skin - Not Sun Exposed (Suprapubic)\",\"Skin - Sun Exposed (Lower leg)\",\"Skin - Sun Exposed (Lower leg)\",\"Skin - Sun Exposed (Lower leg)\",\"Skin - Sun Exposed (Lower leg)\",\"Skin - Sun Exposed (Lower leg)\",\"Skin - Sun Exposed (Lower leg)\",\"Skin - Sun Exposed (Lower leg)\",\"Small Intestine - Terminal Ileum\",\"Small Intestine - Terminal Ileum\",\"Small Intestine - Terminal Ileum\",\"Spleen\",\"Spleen\",\"Spleen\",\"Spleen\",\"Spleen\",\"Spleen\",\"Spleen\",\"Spleen\",\"Stomach\",\"Stomach\",\"Stomach\",\"Stomach\",\"Stomach\",\"Stomach\",\"Stomach\",\"Stomach\",\"Stomach\",\"Stomach\",\"Stomach\",\"Testis\",\"Testis\",\"Testis\",\"Thyroid\",\"Thyroid\",\"Thyroid\",\"Thyroid\",\"Thyroid\",\"Thyroid\",\"Thyroid\",\"Thyroid\",\"Thyroid\",\"Thyroid\",\"Thyroid\",\"Uterus\",\"Uterus\",\"Uterus\",\"Uterus\",\"Uterus\",\"Uterus\",\"Vagina\",\"Vagina\",\"Vagina\",\"Vagina\",\"Vagina\",\"Vagina\",\"Vagina\"],\"y0\":\" \",\"yaxis\":\"y\",\"type\":\"box\"},{\"marker\":{\"color\":\"#636EFA\"},\"name\":\"n > 1\",\"orientation\":\"h\",\"x\":[-2.17,0.0,-0.84,-1.28,-0.79,-1.18,-0.63,0.0,0.0,0.0,-2.07,0.0,0.0,0.0,0.0,0.0,0.0,0.0,0.0,0.0,0.0,-0.02,-1.58,0.0,0.0,0.0,0.0,0.0,0.0,0.0,0.0,0.0,0.0,0.0,0.0,0.0,-0.5,0.0,0.0,0.0,-0.98,0.0,0.0,0.0,0.0,-1.03,0.0,0.0,0.0,0.0,0.0,0.0,0.0,0.0,0.0,0.0,0.0,0.0,-1.8,0.0,-2.8,0.0,0.0,0.0,0.0,0.0,0.0,0.0,0.0,0.0,0.0,0.0,0.0,0.0,0.0,0.0,-2.11,0.0,0.0,0.0,0.0,0.0,0.0,0.0,0.0,-1.4,0.54,0.0,0.0,0.0,3.88,5.09,4.67,3.03,3.83,0.0,0.0,0.0,0.0,0.0,0.0,0.0,0.0,-1.18,0.0,0.0,0.0,0.0,0.0,0.0,0.0,0.0,0.0,0.0,0.0,0.0,0.0,0.0,0.0,0.0,0.0,-1.93,0.0,0.0,0.0,0.2,2.0,1.57,1.35,0.37,2.02,1.54,1.38,0.0,0.0,0.0,0.0,0.0,0.0,0.0,-0.4,0.0,0.0,0.0,0.0,0.0,0.0,0.0,0.0,0.0,0.0,0.0,0.0,0.0,0.0,0.0,-1.38,0.0,0.0,0.0,0.0,0.0,0.0,0.0,0.0,0.0,-2.06,0.0,0.0,0.0,0.0,0.0,0.0,0.0,-0.58,-1.16,-0.64,0.0,0.0,0.0,0.0,0.0,0.0,0.0,0.0,0.0,-1.75,0.0,0.0,0.0,0.0,0.0,0.0,0.0,0.0,0.0,0.0,0.0,0.0,0.0,0.0],\"y\":[\"Adrenal Gland\",\"Adrenal Gland\",\"Adrenal Gland\",\"Adrenal Gland\",\"Adrenal Gland\",\"Adrenal Gland\",\"Adrenal Gland\",\"Artery - Aorta\",\"Artery - Aorta\",\"Artery - Aorta\",\"Artery - Aorta\",\"Artery - Aorta\",\"Artery - Aorta\",\"Artery - Aorta\",\"Artery - Aorta\",\"Artery - Aorta\",\"Artery - Aorta\",\"Artery - Coronary\",\"Artery - Coronary\",\"Artery - Tibial\",\"Artery - Tibial\",\"Artery - Tibial\",\"Artery - Tibial\",\"Brain - Cerebellum\",\"Brain - Cerebellum\",\"Brain - Cerebellum\",\"Brain - Cortex\",\"Brain - Cortex\",\"Breast - Mammary Tissue\",\"Breast - Mammary Tissue\",\"Breast - Mammary Tissue\",\"Breast - Mammary Tissue\",\"Breast - Mammary Tissue\",\"Breast - Mammary Tissue\",\"Breast - Mammary Tissue\",\"Colon - Sigmoid\",\"Colon - Sigmoid\",\"Colon - Sigmoid\",\"Colon - Sigmoid\",\"Colon - Sigmoid\",\"Colon - Sigmoid\",\"Colon - Sigmoid\",\"Colon - Sigmoid\",\"Colon - Sigmoid\",\"Colon - Sigmoid\",\"Colon - Sigmoid\",\"Colon - Transverse\",\"Colon - Transverse\",\"Colon - Transverse\",\"Colon - Transverse\",\"Esophagus - Gastroesophageal Junction\",\"Esophagus - Gastroesophageal Junction\",\"Esophagus - Gastroesophageal Junction\",\"Esophagus - Gastroesophageal Junction\",\"Esophagus - Gastroesophageal Junction\",\"Esophagus - Gastroesophageal Junction\",\"Esophagus - Gastroesophageal Junction\",\"Esophagus - Gastroesophageal Junction\",\"Esophagus - Gastroesophageal Junction\",\"Esophagus - Gastroesophageal Junction\",\"Esophagus - Mucosa\",\"Esophagus - Mucosa\",\"Esophagus - Mucosa\",\"Esophagus - Mucosa\",\"Esophagus - Muscularis\",\"Esophagus - Muscularis\",\"Esophagus - Muscularis\",\"Esophagus - Muscularis\",\"Esophagus - Muscularis\",\"Esophagus - Muscularis\",\"Esophagus - Muscularis\",\"Esophagus - Muscularis\",\"Heart - Atrial Appendage\",\"Heart - Atrial Appendage\",\"Heart - Atrial Appendage\",\"Heart - Atrial Appendage\",\"Heart - Atrial Appendage\",\"Heart - Atrial Appendage\",\"Heart - Atrial Appendage\",\"Heart - Atrial Appendage\",\"Heart - Atrial Appendage\",\"Heart - Atrial Appendage\",\"Heart - Atrial Appendage\",\"Heart - Left Ventricle\",\"Heart - Left Ventricle\",\"Heart - Left Ventricle\",\"Heart - Left Ventricle\",\"Heart - Left Ventricle\",\"Heart - Left Ventricle\",\"Heart - Left Ventricle\",\"Liver\",\"Liver\",\"Liver\",\"Liver\",\"Liver\",\"Lung\",\"Lung\",\"Lung\",\"Lung\",\"Lung\",\"Lung\",\"Lung\",\"Lung\",\"Minor Salivary Gland\",\"Muscle - Skeletal\",\"Muscle - Skeletal\",\"Muscle - Skeletal\",\"Muscle - Skeletal\",\"Muscle - Skeletal\",\"Muscle - Skeletal\",\"Muscle - Skeletal\",\"Muscle - Skeletal\",\"Muscle - Skeletal\",\"Muscle - Skeletal\",\"Muscle - Skeletal\",\"Nerve - Tibial\",\"Nerve - Tibial\",\"Nerve - Tibial\",\"Nerve - Tibial\",\"Nerve - Tibial\",\"Nerve - Tibial\",\"Ovary\",\"Ovary\",\"Ovary\",\"Ovary\",\"Pancreas\",\"Pancreas\",\"Pancreas\",\"Pancreas\",\"Pancreas\",\"Pancreas\",\"Pancreas\",\"Pancreas\",\"Pituitary\",\"Pituitary\",\"Prostate\",\"Prostate\",\"Skin - Not Sun Exposed (Suprapubic)\",\"Skin - Not Sun Exposed (Suprapubic)\",\"Skin - Not Sun Exposed (Suprapubic)\",\"Skin - Not Sun Exposed (Suprapubic)\",\"Skin - Not Sun Exposed (Suprapubic)\",\"Skin - Not Sun Exposed (Suprapubic)\",\"Skin - Not Sun Exposed (Suprapubic)\",\"Skin - Not Sun Exposed (Suprapubic)\",\"Skin - Sun Exposed (Lower leg)\",\"Skin - Sun Exposed (Lower leg)\",\"Skin - Sun Exposed (Lower leg)\",\"Skin - Sun Exposed (Lower leg)\",\"Skin - Sun Exposed (Lower leg)\",\"Skin - Sun Exposed (Lower leg)\",\"Skin - Sun Exposed (Lower leg)\",\"Small Intestine - Terminal Ileum\",\"Small Intestine - Terminal Ileum\",\"Small Intestine - Terminal Ileum\",\"Spleen\",\"Spleen\",\"Spleen\",\"Spleen\",\"Spleen\",\"Spleen\",\"Spleen\",\"Spleen\",\"Stomach\",\"Stomach\",\"Stomach\",\"Stomach\",\"Stomach\",\"Stomach\",\"Stomach\",\"Stomach\",\"Stomach\",\"Stomach\",\"Stomach\",\"Testis\",\"Testis\",\"Testis\",\"Thyroid\",\"Thyroid\",\"Thyroid\",\"Thyroid\",\"Thyroid\",\"Thyroid\",\"Thyroid\",\"Thyroid\",\"Thyroid\",\"Thyroid\",\"Thyroid\",\"Uterus\",\"Uterus\",\"Uterus\",\"Uterus\",\"Uterus\",\"Uterus\",\"Vagina\",\"Vagina\",\"Vagina\",\"Vagina\",\"Vagina\",\"Vagina\",\"Vagina\"],\"type\":\"box\"}],                        {\"template\":{\"data\":{\"histogram2dcontour\":[{\"type\":\"histogram2dcontour\",\"colorbar\":{\"outlinewidth\":0,\"ticks\":\"\"},\"colorscale\":[[0.0,\"#0d0887\"],[0.1111111111111111,\"#46039f\"],[0.2222222222222222,\"#7201a8\"],[0.3333333333333333,\"#9c179e\"],[0.4444444444444444,\"#bd3786\"],[0.5555555555555556,\"#d8576b\"],[0.6666666666666666,\"#ed7953\"],[0.7777777777777778,\"#fb9f3a\"],[0.8888888888888888,\"#fdca26\"],[1.0,\"#f0f921\"]]}],\"choropleth\":[{\"type\":\"choropleth\",\"colorbar\":{\"outlinewidth\":0,\"ticks\":\"\"}}],\"histogram2d\":[{\"type\":\"histogram2d\",\"colorbar\":{\"outlinewidth\":0,\"ticks\":\"\"},\"colorscale\":[[0.0,\"#0d0887\"],[0.1111111111111111,\"#46039f\"],[0.2222222222222222,\"#7201a8\"],[0.3333333333333333,\"#9c179e\"],[0.4444444444444444,\"#bd3786\"],[0.5555555555555556,\"#d8576b\"],[0.6666666666666666,\"#ed7953\"],[0.7777777777777778,\"#fb9f3a\"],[0.8888888888888888,\"#fdca26\"],[1.0,\"#f0f921\"]]}],\"heatmap\":[{\"type\":\"heatmap\",\"colorbar\":{\"outlinewidth\":0,\"ticks\":\"\"},\"colorscale\":[[0.0,\"#0d0887\"],[0.1111111111111111,\"#46039f\"],[0.2222222222222222,\"#7201a8\"],[0.3333333333333333,\"#9c179e\"],[0.4444444444444444,\"#bd3786\"],[0.5555555555555556,\"#d8576b\"],[0.6666666666666666,\"#ed7953\"],[0.7777777777777778,\"#fb9f3a\"],[0.8888888888888888,\"#fdca26\"],[1.0,\"#f0f921\"]]}],\"heatmapgl\":[{\"type\":\"heatmapgl\",\"colorbar\":{\"outlinewidth\":0,\"ticks\":\"\"},\"colorscale\":[[0.0,\"#0d0887\"],[0.1111111111111111,\"#46039f\"],[0.2222222222222222,\"#7201a8\"],[0.3333333333333333,\"#9c179e\"],[0.4444444444444444,\"#bd3786\"],[0.5555555555555556,\"#d8576b\"],[0.6666666666666666,\"#ed7953\"],[0.7777777777777778,\"#fb9f3a\"],[0.8888888888888888,\"#fdca26\"],[1.0,\"#f0f921\"]]}],\"contourcarpet\":[{\"type\":\"contourcarpet\",\"colorbar\":{\"outlinewidth\":0,\"ticks\":\"\"}}],\"contour\":[{\"type\":\"contour\",\"colorbar\":{\"outlinewidth\":0,\"ticks\":\"\"},\"colorscale\":[[0.0,\"#0d0887\"],[0.1111111111111111,\"#46039f\"],[0.2222222222222222,\"#7201a8\"],[0.3333333333333333,\"#9c179e\"],[0.4444444444444444,\"#bd3786\"],[0.5555555555555556,\"#d8576b\"],[0.6666666666666666,\"#ed7953\"],[0.7777777777777778,\"#fb9f3a\"],[0.8888888888888888,\"#fdca26\"],[1.0,\"#f0f921\"]]}],\"surface\":[{\"type\":\"surface\",\"colorbar\":{\"outlinewidth\":0,\"ticks\":\"\"},\"colorscale\":[[0.0,\"#0d0887\"],[0.1111111111111111,\"#46039f\"],[0.2222222222222222,\"#7201a8\"],[0.3333333333333333,\"#9c179e\"],[0.4444444444444444,\"#bd3786\"],[0.5555555555555556,\"#d8576b\"],[0.6666666666666666,\"#ed7953\"],[0.7777777777777778,\"#fb9f3a\"],[0.8888888888888888,\"#fdca26\"],[1.0,\"#f0f921\"]]}],\"mesh3d\":[{\"type\":\"mesh3d\",\"colorbar\":{\"outlinewidth\":0,\"ticks\":\"\"}}],\"scatter\":[{\"fillpattern\":{\"fillmode\":\"overlay\",\"size\":10,\"solidity\":0.2},\"type\":\"scatter\"}],\"parcoords\":[{\"type\":\"parcoords\",\"line\":{\"colorbar\":{\"outlinewidth\":0,\"ticks\":\"\"}}}],\"scatterpolargl\":[{\"type\":\"scatterpolargl\",\"marker\":{\"colorbar\":{\"outlinewidth\":0,\"ticks\":\"\"}}}],\"bar\":[{\"error_x\":{\"color\":\"#2a3f5f\"},\"error_y\":{\"color\":\"#2a3f5f\"},\"marker\":{\"line\":{\"color\":\"#E5ECF6\",\"width\":0.5},\"pattern\":{\"fillmode\":\"overlay\",\"size\":10,\"solidity\":0.2}},\"type\":\"bar\"}],\"scattergeo\":[{\"type\":\"scattergeo\",\"marker\":{\"colorbar\":{\"outlinewidth\":0,\"ticks\":\"\"}}}],\"scatterpolar\":[{\"type\":\"scatterpolar\",\"marker\":{\"colorbar\":{\"outlinewidth\":0,\"ticks\":\"\"}}}],\"histogram\":[{\"marker\":{\"pattern\":{\"fillmode\":\"overlay\",\"size\":10,\"solidity\":0.2}},\"type\":\"histogram\"}],\"scattergl\":[{\"type\":\"scattergl\",\"marker\":{\"colorbar\":{\"outlinewidth\":0,\"ticks\":\"\"}}}],\"scatter3d\":[{\"type\":\"scatter3d\",\"line\":{\"colorbar\":{\"outlinewidth\":0,\"ticks\":\"\"}},\"marker\":{\"colorbar\":{\"outlinewidth\":0,\"ticks\":\"\"}}}],\"scattermapbox\":[{\"type\":\"scattermapbox\",\"marker\":{\"colorbar\":{\"outlinewidth\":0,\"ticks\":\"\"}}}],\"scatterternary\":[{\"type\":\"scatterternary\",\"marker\":{\"colorbar\":{\"outlinewidth\":0,\"ticks\":\"\"}}}],\"scattercarpet\":[{\"type\":\"scattercarpet\",\"marker\":{\"colorbar\":{\"outlinewidth\":0,\"ticks\":\"\"}}}],\"carpet\":[{\"aaxis\":{\"endlinecolor\":\"#2a3f5f\",\"gridcolor\":\"white\",\"linecolor\":\"white\",\"minorgridcolor\":\"white\",\"startlinecolor\":\"#2a3f5f\"},\"baxis\":{\"endlinecolor\":\"#2a3f5f\",\"gridcolor\":\"white\",\"linecolor\":\"white\",\"minorgridcolor\":\"white\",\"startlinecolor\":\"#2a3f5f\"},\"type\":\"carpet\"}],\"table\":[{\"cells\":{\"fill\":{\"color\":\"#EBF0F8\"},\"line\":{\"color\":\"white\"}},\"header\":{\"fill\":{\"color\":\"#C8D4E3\"},\"line\":{\"color\":\"white\"}},\"type\":\"table\"}],\"barpolar\":[{\"marker\":{\"line\":{\"color\":\"#E5ECF6\",\"width\":0.5},\"pattern\":{\"fillmode\":\"overlay\",\"size\":10,\"solidity\":0.2}},\"type\":\"barpolar\"}],\"pie\":[{\"automargin\":true,\"type\":\"pie\"}]},\"layout\":{\"autotypenumbers\":\"strict\",\"colorway\":[\"#636efa\",\"#EF553B\",\"#00cc96\",\"#ab63fa\",\"#FFA15A\",\"#19d3f3\",\"#FF6692\",\"#B6E880\",\"#FF97FF\",\"#FECB52\"],\"font\":{\"color\":\"#2a3f5f\"},\"hovermode\":\"closest\",\"hoverlabel\":{\"align\":\"left\"},\"paper_bgcolor\":\"white\",\"plot_bgcolor\":\"#E5ECF6\",\"polar\":{\"bgcolor\":\"#E5ECF6\",\"angularaxis\":{\"gridcolor\":\"white\",\"linecolor\":\"white\",\"ticks\":\"\"},\"radialaxis\":{\"gridcolor\":\"white\",\"linecolor\":\"white\",\"ticks\":\"\"}},\"ternary\":{\"bgcolor\":\"#E5ECF6\",\"aaxis\":{\"gridcolor\":\"white\",\"linecolor\":\"white\",\"ticks\":\"\"},\"baxis\":{\"gridcolor\":\"white\",\"linecolor\":\"white\",\"ticks\":\"\"},\"caxis\":{\"gridcolor\":\"white\",\"linecolor\":\"white\",\"ticks\":\"\"}},\"coloraxis\":{\"colorbar\":{\"outlinewidth\":0,\"ticks\":\"\"}},\"colorscale\":{\"sequential\":[[0.0,\"#0d0887\"],[0.1111111111111111,\"#46039f\"],[0.2222222222222222,\"#7201a8\"],[0.3333333333333333,\"#9c179e\"],[0.4444444444444444,\"#bd3786\"],[0.5555555555555556,\"#d8576b\"],[0.6666666666666666,\"#ed7953\"],[0.7777777777777778,\"#fb9f3a\"],[0.8888888888888888,\"#fdca26\"],[1.0,\"#f0f921\"]],\"sequentialminus\":[[0.0,\"#0d0887\"],[0.1111111111111111,\"#46039f\"],[0.2222222222222222,\"#7201a8\"],[0.3333333333333333,\"#9c179e\"],[0.4444444444444444,\"#bd3786\"],[0.5555555555555556,\"#d8576b\"],[0.6666666666666666,\"#ed7953\"],[0.7777777777777778,\"#fb9f3a\"],[0.8888888888888888,\"#fdca26\"],[1.0,\"#f0f921\"]],\"diverging\":[[0,\"#8e0152\"],[0.1,\"#c51b7d\"],[0.2,\"#de77ae\"],[0.3,\"#f1b6da\"],[0.4,\"#fde0ef\"],[0.5,\"#f7f7f7\"],[0.6,\"#e6f5d0\"],[0.7,\"#b8e186\"],[0.8,\"#7fbc41\"],[0.9,\"#4d9221\"],[1,\"#276419\"]]},\"xaxis\":{\"gridcolor\":\"white\",\"linecolor\":\"white\",\"ticks\":\"\",\"title\":{\"standoff\":15},\"zerolinecolor\":\"white\",\"automargin\":true,\"zerolinewidth\":2},\"yaxis\":{\"gridcolor\":\"white\",\"linecolor\":\"white\",\"ticks\":\"\",\"title\":{\"standoff\":15},\"zerolinecolor\":\"white\",\"automargin\":true,\"zerolinewidth\":2},\"scene\":{\"xaxis\":{\"backgroundcolor\":\"#E5ECF6\",\"gridcolor\":\"white\",\"linecolor\":\"white\",\"showbackground\":true,\"ticks\":\"\",\"zerolinecolor\":\"white\",\"gridwidth\":2},\"yaxis\":{\"backgroundcolor\":\"#E5ECF6\",\"gridcolor\":\"white\",\"linecolor\":\"white\",\"showbackground\":true,\"ticks\":\"\",\"zerolinecolor\":\"white\",\"gridwidth\":2},\"zaxis\":{\"backgroundcolor\":\"#E5ECF6\",\"gridcolor\":\"white\",\"linecolor\":\"white\",\"showbackground\":true,\"ticks\":\"\",\"zerolinecolor\":\"white\",\"gridwidth\":2}},\"shapedefaults\":{\"line\":{\"color\":\"#2a3f5f\"}},\"annotationdefaults\":{\"arrowcolor\":\"#2a3f5f\",\"arrowhead\":0,\"arrowwidth\":1},\"geo\":{\"bgcolor\":\"white\",\"landcolor\":\"#E5ECF6\",\"subunitcolor\":\"white\",\"showland\":true,\"showlakes\":true,\"lakecolor\":\"white\"},\"title\":{\"x\":0.05},\"mapbox\":{\"style\":\"light\"}}},\"xaxis\":{\"anchor\":\"y\",\"domain\":[0.0,1.0],\"title\":{\"text\":\"log2(relative abundance)\"}},\"yaxis\":{\"anchor\":\"x\",\"domain\":[0.0,1.0],\"title\":{}},\"legend\":{\"tracegroupgap\":0},\"margin\":{\"t\":60},\"boxmode\":\"overlay\",\"height\":960,\"title\":{\"text\":\"(GTEx Proteomics)\"},\"autosize\":true,\"showlegend\":false},                        {\"responsive\": true}                    ).then(function(){\n",
       "                            \n",
       "var gd = document.getElementById('533349db-80e1-4e19-bfc0-c9eaeac274f9');\n",
       "var x = new MutationObserver(function (mutations, observer) {{\n",
       "        var display = window.getComputedStyle(gd).display;\n",
       "        if (!display || display === 'none') {{\n",
       "            console.log([gd, 'removed!']);\n",
       "            Plotly.purge(gd);\n",
       "            observer.disconnect();\n",
       "        }}\n",
       "}});\n",
       "\n",
       "// Listen for the removal of the full notebook cells\n",
       "var notebookContainer = gd.closest('#notebook-container');\n",
       "if (notebookContainer) {{\n",
       "    x.observe(notebookContainer, {childList: true});\n",
       "}}\n",
       "\n",
       "// Listen for the clearing of the current output cell\n",
       "var outputEl = gd.closest('.output');\n",
       "if (outputEl) {{\n",
       "    x.observe(outputEl, {childList: true});\n",
       "}}\n",
       "\n",
       "                        })                };                });            </script>        </div>"
      ]
     },
     "metadata": {},
     "output_type": "display_data"
    },
    {
     "data": {
      "application/vnd.plotly.v1+json": {
       "config": {
        "plotlyServerURL": "https://plot.ly"
       },
       "data": [
        {
         "hovertemplate": "value=%{x}<br>Tissue=%{y}<extra></extra>",
         "legendgroup": "",
         "marker": {
          "color": "#636efa",
          "symbol": "circle"
         },
         "mode": "markers",
         "name": "",
         "orientation": "h",
         "showlegend": false,
         "type": "scatter",
         "x": [
          0,
          47.1316314811,
          6.1724294582,
          1.8020225902,
          0,
          0,
          0,
          0,
          0,
          0,
          36.4666724083,
          0,
          0,
          0,
          2.7853446307,
          0,
          9.4865037438,
          3.318218439,
          0,
          1.5405709356,
          1.6289616347,
          0,
          1.3037129746,
          0,
          0,
          0,
          0,
          0,
          0,
          0
         ],
         "xaxis": "x",
         "y": [
          "Fetal.Heart",
          "Fetal.Liver",
          "Fetal.Gut",
          "Fetal.Ovary",
          "Fetal.Testis",
          "Fetal.Brain",
          "Adult.Frontal.Cortex",
          "Adult.Spinal.Cord",
          "Adult.Retina",
          "Adult.Heart",
          "Adult.Liver",
          "Adult.Ovary",
          "Adult.Testis",
          "Adult.Lung",
          "Adult.Adrenal",
          "Adult.Gallbladder",
          "Adult.Pancreas",
          "Adult.Kidney",
          "Adult.Esophagus",
          "Adult.Colon",
          "Adult.Rectum",
          "Adult.Urinary.Bladder",
          "Adult.Prostate",
          "Placenta",
          "B.Cells",
          "CD4.Cells",
          "CD8.Cells",
          "NK.Cells",
          "Monocytes",
          "Platelets"
         ],
         "yaxis": "y"
        }
       ],
       "layout": {
        "autosize": true,
        "height": 600,
        "legend": {
         "tracegroupgap": 0
        },
        "margin": {
         "t": 60
        },
        "template": {
         "data": {
          "bar": [
           {
            "error_x": {
             "color": "#2a3f5f"
            },
            "error_y": {
             "color": "#2a3f5f"
            },
            "marker": {
             "line": {
              "color": "#E5ECF6",
              "width": 0.5
             },
             "pattern": {
              "fillmode": "overlay",
              "size": 10,
              "solidity": 0.2
             }
            },
            "type": "bar"
           }
          ],
          "barpolar": [
           {
            "marker": {
             "line": {
              "color": "#E5ECF6",
              "width": 0.5
             },
             "pattern": {
              "fillmode": "overlay",
              "size": 10,
              "solidity": 0.2
             }
            },
            "type": "barpolar"
           }
          ],
          "carpet": [
           {
            "aaxis": {
             "endlinecolor": "#2a3f5f",
             "gridcolor": "white",
             "linecolor": "white",
             "minorgridcolor": "white",
             "startlinecolor": "#2a3f5f"
            },
            "baxis": {
             "endlinecolor": "#2a3f5f",
             "gridcolor": "white",
             "linecolor": "white",
             "minorgridcolor": "white",
             "startlinecolor": "#2a3f5f"
            },
            "type": "carpet"
           }
          ],
          "choropleth": [
           {
            "colorbar": {
             "outlinewidth": 0,
             "ticks": ""
            },
            "type": "choropleth"
           }
          ],
          "contour": [
           {
            "colorbar": {
             "outlinewidth": 0,
             "ticks": ""
            },
            "colorscale": [
             [
              0,
              "#0d0887"
             ],
             [
              0.1111111111111111,
              "#46039f"
             ],
             [
              0.2222222222222222,
              "#7201a8"
             ],
             [
              0.3333333333333333,
              "#9c179e"
             ],
             [
              0.4444444444444444,
              "#bd3786"
             ],
             [
              0.5555555555555556,
              "#d8576b"
             ],
             [
              0.6666666666666666,
              "#ed7953"
             ],
             [
              0.7777777777777778,
              "#fb9f3a"
             ],
             [
              0.8888888888888888,
              "#fdca26"
             ],
             [
              1,
              "#f0f921"
             ]
            ],
            "type": "contour"
           }
          ],
          "contourcarpet": [
           {
            "colorbar": {
             "outlinewidth": 0,
             "ticks": ""
            },
            "type": "contourcarpet"
           }
          ],
          "heatmap": [
           {
            "colorbar": {
             "outlinewidth": 0,
             "ticks": ""
            },
            "colorscale": [
             [
              0,
              "#0d0887"
             ],
             [
              0.1111111111111111,
              "#46039f"
             ],
             [
              0.2222222222222222,
              "#7201a8"
             ],
             [
              0.3333333333333333,
              "#9c179e"
             ],
             [
              0.4444444444444444,
              "#bd3786"
             ],
             [
              0.5555555555555556,
              "#d8576b"
             ],
             [
              0.6666666666666666,
              "#ed7953"
             ],
             [
              0.7777777777777778,
              "#fb9f3a"
             ],
             [
              0.8888888888888888,
              "#fdca26"
             ],
             [
              1,
              "#f0f921"
             ]
            ],
            "type": "heatmap"
           }
          ],
          "heatmapgl": [
           {
            "colorbar": {
             "outlinewidth": 0,
             "ticks": ""
            },
            "colorscale": [
             [
              0,
              "#0d0887"
             ],
             [
              0.1111111111111111,
              "#46039f"
             ],
             [
              0.2222222222222222,
              "#7201a8"
             ],
             [
              0.3333333333333333,
              "#9c179e"
             ],
             [
              0.4444444444444444,
              "#bd3786"
             ],
             [
              0.5555555555555556,
              "#d8576b"
             ],
             [
              0.6666666666666666,
              "#ed7953"
             ],
             [
              0.7777777777777778,
              "#fb9f3a"
             ],
             [
              0.8888888888888888,
              "#fdca26"
             ],
             [
              1,
              "#f0f921"
             ]
            ],
            "type": "heatmapgl"
           }
          ],
          "histogram": [
           {
            "marker": {
             "pattern": {
              "fillmode": "overlay",
              "size": 10,
              "solidity": 0.2
             }
            },
            "type": "histogram"
           }
          ],
          "histogram2d": [
           {
            "colorbar": {
             "outlinewidth": 0,
             "ticks": ""
            },
            "colorscale": [
             [
              0,
              "#0d0887"
             ],
             [
              0.1111111111111111,
              "#46039f"
             ],
             [
              0.2222222222222222,
              "#7201a8"
             ],
             [
              0.3333333333333333,
              "#9c179e"
             ],
             [
              0.4444444444444444,
              "#bd3786"
             ],
             [
              0.5555555555555556,
              "#d8576b"
             ],
             [
              0.6666666666666666,
              "#ed7953"
             ],
             [
              0.7777777777777778,
              "#fb9f3a"
             ],
             [
              0.8888888888888888,
              "#fdca26"
             ],
             [
              1,
              "#f0f921"
             ]
            ],
            "type": "histogram2d"
           }
          ],
          "histogram2dcontour": [
           {
            "colorbar": {
             "outlinewidth": 0,
             "ticks": ""
            },
            "colorscale": [
             [
              0,
              "#0d0887"
             ],
             [
              0.1111111111111111,
              "#46039f"
             ],
             [
              0.2222222222222222,
              "#7201a8"
             ],
             [
              0.3333333333333333,
              "#9c179e"
             ],
             [
              0.4444444444444444,
              "#bd3786"
             ],
             [
              0.5555555555555556,
              "#d8576b"
             ],
             [
              0.6666666666666666,
              "#ed7953"
             ],
             [
              0.7777777777777778,
              "#fb9f3a"
             ],
             [
              0.8888888888888888,
              "#fdca26"
             ],
             [
              1,
              "#f0f921"
             ]
            ],
            "type": "histogram2dcontour"
           }
          ],
          "mesh3d": [
           {
            "colorbar": {
             "outlinewidth": 0,
             "ticks": ""
            },
            "type": "mesh3d"
           }
          ],
          "parcoords": [
           {
            "line": {
             "colorbar": {
              "outlinewidth": 0,
              "ticks": ""
             }
            },
            "type": "parcoords"
           }
          ],
          "pie": [
           {
            "automargin": true,
            "type": "pie"
           }
          ],
          "scatter": [
           {
            "fillpattern": {
             "fillmode": "overlay",
             "size": 10,
             "solidity": 0.2
            },
            "type": "scatter"
           }
          ],
          "scatter3d": [
           {
            "line": {
             "colorbar": {
              "outlinewidth": 0,
              "ticks": ""
             }
            },
            "marker": {
             "colorbar": {
              "outlinewidth": 0,
              "ticks": ""
             }
            },
            "type": "scatter3d"
           }
          ],
          "scattercarpet": [
           {
            "marker": {
             "colorbar": {
              "outlinewidth": 0,
              "ticks": ""
             }
            },
            "type": "scattercarpet"
           }
          ],
          "scattergeo": [
           {
            "marker": {
             "colorbar": {
              "outlinewidth": 0,
              "ticks": ""
             }
            },
            "type": "scattergeo"
           }
          ],
          "scattergl": [
           {
            "marker": {
             "colorbar": {
              "outlinewidth": 0,
              "ticks": ""
             }
            },
            "type": "scattergl"
           }
          ],
          "scattermapbox": [
           {
            "marker": {
             "colorbar": {
              "outlinewidth": 0,
              "ticks": ""
             }
            },
            "type": "scattermapbox"
           }
          ],
          "scatterpolar": [
           {
            "marker": {
             "colorbar": {
              "outlinewidth": 0,
              "ticks": ""
             }
            },
            "type": "scatterpolar"
           }
          ],
          "scatterpolargl": [
           {
            "marker": {
             "colorbar": {
              "outlinewidth": 0,
              "ticks": ""
             }
            },
            "type": "scatterpolargl"
           }
          ],
          "scatterternary": [
           {
            "marker": {
             "colorbar": {
              "outlinewidth": 0,
              "ticks": ""
             }
            },
            "type": "scatterternary"
           }
          ],
          "surface": [
           {
            "colorbar": {
             "outlinewidth": 0,
             "ticks": ""
            },
            "colorscale": [
             [
              0,
              "#0d0887"
             ],
             [
              0.1111111111111111,
              "#46039f"
             ],
             [
              0.2222222222222222,
              "#7201a8"
             ],
             [
              0.3333333333333333,
              "#9c179e"
             ],
             [
              0.4444444444444444,
              "#bd3786"
             ],
             [
              0.5555555555555556,
              "#d8576b"
             ],
             [
              0.6666666666666666,
              "#ed7953"
             ],
             [
              0.7777777777777778,
              "#fb9f3a"
             ],
             [
              0.8888888888888888,
              "#fdca26"
             ],
             [
              1,
              "#f0f921"
             ]
            ],
            "type": "surface"
           }
          ],
          "table": [
           {
            "cells": {
             "fill": {
              "color": "#EBF0F8"
             },
             "line": {
              "color": "white"
             }
            },
            "header": {
             "fill": {
              "color": "#C8D4E3"
             },
             "line": {
              "color": "white"
             }
            },
            "type": "table"
           }
          ]
         },
         "layout": {
          "annotationdefaults": {
           "arrowcolor": "#2a3f5f",
           "arrowhead": 0,
           "arrowwidth": 1
          },
          "autotypenumbers": "strict",
          "coloraxis": {
           "colorbar": {
            "outlinewidth": 0,
            "ticks": ""
           }
          },
          "colorscale": {
           "diverging": [
            [
             0,
             "#8e0152"
            ],
            [
             0.1,
             "#c51b7d"
            ],
            [
             0.2,
             "#de77ae"
            ],
            [
             0.3,
             "#f1b6da"
            ],
            [
             0.4,
             "#fde0ef"
            ],
            [
             0.5,
             "#f7f7f7"
            ],
            [
             0.6,
             "#e6f5d0"
            ],
            [
             0.7,
             "#b8e186"
            ],
            [
             0.8,
             "#7fbc41"
            ],
            [
             0.9,
             "#4d9221"
            ],
            [
             1,
             "#276419"
            ]
           ],
           "sequential": [
            [
             0,
             "#0d0887"
            ],
            [
             0.1111111111111111,
             "#46039f"
            ],
            [
             0.2222222222222222,
             "#7201a8"
            ],
            [
             0.3333333333333333,
             "#9c179e"
            ],
            [
             0.4444444444444444,
             "#bd3786"
            ],
            [
             0.5555555555555556,
             "#d8576b"
            ],
            [
             0.6666666666666666,
             "#ed7953"
            ],
            [
             0.7777777777777778,
             "#fb9f3a"
            ],
            [
             0.8888888888888888,
             "#fdca26"
            ],
            [
             1,
             "#f0f921"
            ]
           ],
           "sequentialminus": [
            [
             0,
             "#0d0887"
            ],
            [
             0.1111111111111111,
             "#46039f"
            ],
            [
             0.2222222222222222,
             "#7201a8"
            ],
            [
             0.3333333333333333,
             "#9c179e"
            ],
            [
             0.4444444444444444,
             "#bd3786"
            ],
            [
             0.5555555555555556,
             "#d8576b"
            ],
            [
             0.6666666666666666,
             "#ed7953"
            ],
            [
             0.7777777777777778,
             "#fb9f3a"
            ],
            [
             0.8888888888888888,
             "#fdca26"
            ],
            [
             1,
             "#f0f921"
            ]
           ]
          },
          "colorway": [
           "#636efa",
           "#EF553B",
           "#00cc96",
           "#ab63fa",
           "#FFA15A",
           "#19d3f3",
           "#FF6692",
           "#B6E880",
           "#FF97FF",
           "#FECB52"
          ],
          "font": {
           "color": "#2a3f5f"
          },
          "geo": {
           "bgcolor": "white",
           "lakecolor": "white",
           "landcolor": "#E5ECF6",
           "showlakes": true,
           "showland": true,
           "subunitcolor": "white"
          },
          "hoverlabel": {
           "align": "left"
          },
          "hovermode": "closest",
          "mapbox": {
           "style": "light"
          },
          "paper_bgcolor": "white",
          "plot_bgcolor": "#E5ECF6",
          "polar": {
           "angularaxis": {
            "gridcolor": "white",
            "linecolor": "white",
            "ticks": ""
           },
           "bgcolor": "#E5ECF6",
           "radialaxis": {
            "gridcolor": "white",
            "linecolor": "white",
            "ticks": ""
           }
          },
          "scene": {
           "xaxis": {
            "backgroundcolor": "#E5ECF6",
            "gridcolor": "white",
            "gridwidth": 2,
            "linecolor": "white",
            "showbackground": true,
            "ticks": "",
            "zerolinecolor": "white"
           },
           "yaxis": {
            "backgroundcolor": "#E5ECF6",
            "gridcolor": "white",
            "gridwidth": 2,
            "linecolor": "white",
            "showbackground": true,
            "ticks": "",
            "zerolinecolor": "white"
           },
           "zaxis": {
            "backgroundcolor": "#E5ECF6",
            "gridcolor": "white",
            "gridwidth": 2,
            "linecolor": "white",
            "showbackground": true,
            "ticks": "",
            "zerolinecolor": "white"
           }
          },
          "shapedefaults": {
           "line": {
            "color": "#2a3f5f"
           }
          },
          "ternary": {
           "aaxis": {
            "gridcolor": "white",
            "linecolor": "white",
            "ticks": ""
           },
           "baxis": {
            "gridcolor": "white",
            "linecolor": "white",
            "ticks": ""
           },
           "bgcolor": "#E5ECF6",
           "caxis": {
            "gridcolor": "white",
            "linecolor": "white",
            "ticks": ""
           }
          },
          "title": {
           "x": 0.05
          },
          "xaxis": {
           "automargin": true,
           "gridcolor": "white",
           "linecolor": "white",
           "ticks": "",
           "title": {
            "standoff": 15
           },
           "zerolinecolor": "white",
           "zerolinewidth": 2
          },
          "yaxis": {
           "automargin": true,
           "gridcolor": "white",
           "linecolor": "white",
           "ticks": "",
           "title": {
            "standoff": 15
           },
           "zerolinecolor": "white",
           "zerolinewidth": 2
          }
         }
        },
        "title": {
         "text": "(HPM)"
        },
        "xaxis": {
         "anchor": "y",
         "domain": [
          0,
          1
         ],
         "title": {
          "text": "Average Spectral Counts"
         }
        },
        "yaxis": {
         "anchor": "x",
         "domain": [
          0,
          1
         ],
         "title": {}
        }
       }
      },
      "text/html": [
       "<div>                            <div id=\"3ff87462-c506-4b5c-8666-5b96430f9a2e\" class=\"plotly-graph-div\" style=\"height:600px; width:100%;\"></div>            <script type=\"text/javascript\">                require([\"plotly\"], function(Plotly) {                    window.PLOTLYENV=window.PLOTLYENV || {};                                    if (document.getElementById(\"3ff87462-c506-4b5c-8666-5b96430f9a2e\")) {                    Plotly.newPlot(                        \"3ff87462-c506-4b5c-8666-5b96430f9a2e\",                        [{\"hovertemplate\":\"value=%{x}<br>Tissue=%{y}<extra></extra>\",\"legendgroup\":\"\",\"marker\":{\"color\":\"#636efa\",\"symbol\":\"circle\"},\"mode\":\"markers\",\"name\":\"\",\"orientation\":\"h\",\"showlegend\":false,\"x\":[0.0,47.1316314811,6.1724294582,1.8020225902,0.0,0.0,0.0,0.0,0.0,0.0,36.4666724083,0.0,0.0,0.0,2.7853446307,0.0,9.4865037438,3.318218439,0.0,1.5405709356,1.6289616347,0.0,1.3037129746,0.0,0.0,0.0,0.0,0.0,0.0,0.0],\"xaxis\":\"x\",\"y\":[\"Fetal.Heart\",\"Fetal.Liver\",\"Fetal.Gut\",\"Fetal.Ovary\",\"Fetal.Testis\",\"Fetal.Brain\",\"Adult.Frontal.Cortex\",\"Adult.Spinal.Cord\",\"Adult.Retina\",\"Adult.Heart\",\"Adult.Liver\",\"Adult.Ovary\",\"Adult.Testis\",\"Adult.Lung\",\"Adult.Adrenal\",\"Adult.Gallbladder\",\"Adult.Pancreas\",\"Adult.Kidney\",\"Adult.Esophagus\",\"Adult.Colon\",\"Adult.Rectum\",\"Adult.Urinary.Bladder\",\"Adult.Prostate\",\"Placenta\",\"B.Cells\",\"CD4.Cells\",\"CD8.Cells\",\"NK.Cells\",\"Monocytes\",\"Platelets\"],\"yaxis\":\"y\",\"type\":\"scatter\"}],                        {\"template\":{\"data\":{\"histogram2dcontour\":[{\"type\":\"histogram2dcontour\",\"colorbar\":{\"outlinewidth\":0,\"ticks\":\"\"},\"colorscale\":[[0.0,\"#0d0887\"],[0.1111111111111111,\"#46039f\"],[0.2222222222222222,\"#7201a8\"],[0.3333333333333333,\"#9c179e\"],[0.4444444444444444,\"#bd3786\"],[0.5555555555555556,\"#d8576b\"],[0.6666666666666666,\"#ed7953\"],[0.7777777777777778,\"#fb9f3a\"],[0.8888888888888888,\"#fdca26\"],[1.0,\"#f0f921\"]]}],\"choropleth\":[{\"type\":\"choropleth\",\"colorbar\":{\"outlinewidth\":0,\"ticks\":\"\"}}],\"histogram2d\":[{\"type\":\"histogram2d\",\"colorbar\":{\"outlinewidth\":0,\"ticks\":\"\"},\"colorscale\":[[0.0,\"#0d0887\"],[0.1111111111111111,\"#46039f\"],[0.2222222222222222,\"#7201a8\"],[0.3333333333333333,\"#9c179e\"],[0.4444444444444444,\"#bd3786\"],[0.5555555555555556,\"#d8576b\"],[0.6666666666666666,\"#ed7953\"],[0.7777777777777778,\"#fb9f3a\"],[0.8888888888888888,\"#fdca26\"],[1.0,\"#f0f921\"]]}],\"heatmap\":[{\"type\":\"heatmap\",\"colorbar\":{\"outlinewidth\":0,\"ticks\":\"\"},\"colorscale\":[[0.0,\"#0d0887\"],[0.1111111111111111,\"#46039f\"],[0.2222222222222222,\"#7201a8\"],[0.3333333333333333,\"#9c179e\"],[0.4444444444444444,\"#bd3786\"],[0.5555555555555556,\"#d8576b\"],[0.6666666666666666,\"#ed7953\"],[0.7777777777777778,\"#fb9f3a\"],[0.8888888888888888,\"#fdca26\"],[1.0,\"#f0f921\"]]}],\"heatmapgl\":[{\"type\":\"heatmapgl\",\"colorbar\":{\"outlinewidth\":0,\"ticks\":\"\"},\"colorscale\":[[0.0,\"#0d0887\"],[0.1111111111111111,\"#46039f\"],[0.2222222222222222,\"#7201a8\"],[0.3333333333333333,\"#9c179e\"],[0.4444444444444444,\"#bd3786\"],[0.5555555555555556,\"#d8576b\"],[0.6666666666666666,\"#ed7953\"],[0.7777777777777778,\"#fb9f3a\"],[0.8888888888888888,\"#fdca26\"],[1.0,\"#f0f921\"]]}],\"contourcarpet\":[{\"type\":\"contourcarpet\",\"colorbar\":{\"outlinewidth\":0,\"ticks\":\"\"}}],\"contour\":[{\"type\":\"contour\",\"colorbar\":{\"outlinewidth\":0,\"ticks\":\"\"},\"colorscale\":[[0.0,\"#0d0887\"],[0.1111111111111111,\"#46039f\"],[0.2222222222222222,\"#7201a8\"],[0.3333333333333333,\"#9c179e\"],[0.4444444444444444,\"#bd3786\"],[0.5555555555555556,\"#d8576b\"],[0.6666666666666666,\"#ed7953\"],[0.7777777777777778,\"#fb9f3a\"],[0.8888888888888888,\"#fdca26\"],[1.0,\"#f0f921\"]]}],\"surface\":[{\"type\":\"surface\",\"colorbar\":{\"outlinewidth\":0,\"ticks\":\"\"},\"colorscale\":[[0.0,\"#0d0887\"],[0.1111111111111111,\"#46039f\"],[0.2222222222222222,\"#7201a8\"],[0.3333333333333333,\"#9c179e\"],[0.4444444444444444,\"#bd3786\"],[0.5555555555555556,\"#d8576b\"],[0.6666666666666666,\"#ed7953\"],[0.7777777777777778,\"#fb9f3a\"],[0.8888888888888888,\"#fdca26\"],[1.0,\"#f0f921\"]]}],\"mesh3d\":[{\"type\":\"mesh3d\",\"colorbar\":{\"outlinewidth\":0,\"ticks\":\"\"}}],\"scatter\":[{\"fillpattern\":{\"fillmode\":\"overlay\",\"size\":10,\"solidity\":0.2},\"type\":\"scatter\"}],\"parcoords\":[{\"type\":\"parcoords\",\"line\":{\"colorbar\":{\"outlinewidth\":0,\"ticks\":\"\"}}}],\"scatterpolargl\":[{\"type\":\"scatterpolargl\",\"marker\":{\"colorbar\":{\"outlinewidth\":0,\"ticks\":\"\"}}}],\"bar\":[{\"error_x\":{\"color\":\"#2a3f5f\"},\"error_y\":{\"color\":\"#2a3f5f\"},\"marker\":{\"line\":{\"color\":\"#E5ECF6\",\"width\":0.5},\"pattern\":{\"fillmode\":\"overlay\",\"size\":10,\"solidity\":0.2}},\"type\":\"bar\"}],\"scattergeo\":[{\"type\":\"scattergeo\",\"marker\":{\"colorbar\":{\"outlinewidth\":0,\"ticks\":\"\"}}}],\"scatterpolar\":[{\"type\":\"scatterpolar\",\"marker\":{\"colorbar\":{\"outlinewidth\":0,\"ticks\":\"\"}}}],\"histogram\":[{\"marker\":{\"pattern\":{\"fillmode\":\"overlay\",\"size\":10,\"solidity\":0.2}},\"type\":\"histogram\"}],\"scattergl\":[{\"type\":\"scattergl\",\"marker\":{\"colorbar\":{\"outlinewidth\":0,\"ticks\":\"\"}}}],\"scatter3d\":[{\"type\":\"scatter3d\",\"line\":{\"colorbar\":{\"outlinewidth\":0,\"ticks\":\"\"}},\"marker\":{\"colorbar\":{\"outlinewidth\":0,\"ticks\":\"\"}}}],\"scattermapbox\":[{\"type\":\"scattermapbox\",\"marker\":{\"colorbar\":{\"outlinewidth\":0,\"ticks\":\"\"}}}],\"scatterternary\":[{\"type\":\"scatterternary\",\"marker\":{\"colorbar\":{\"outlinewidth\":0,\"ticks\":\"\"}}}],\"scattercarpet\":[{\"type\":\"scattercarpet\",\"marker\":{\"colorbar\":{\"outlinewidth\":0,\"ticks\":\"\"}}}],\"carpet\":[{\"aaxis\":{\"endlinecolor\":\"#2a3f5f\",\"gridcolor\":\"white\",\"linecolor\":\"white\",\"minorgridcolor\":\"white\",\"startlinecolor\":\"#2a3f5f\"},\"baxis\":{\"endlinecolor\":\"#2a3f5f\",\"gridcolor\":\"white\",\"linecolor\":\"white\",\"minorgridcolor\":\"white\",\"startlinecolor\":\"#2a3f5f\"},\"type\":\"carpet\"}],\"table\":[{\"cells\":{\"fill\":{\"color\":\"#EBF0F8\"},\"line\":{\"color\":\"white\"}},\"header\":{\"fill\":{\"color\":\"#C8D4E3\"},\"line\":{\"color\":\"white\"}},\"type\":\"table\"}],\"barpolar\":[{\"marker\":{\"line\":{\"color\":\"#E5ECF6\",\"width\":0.5},\"pattern\":{\"fillmode\":\"overlay\",\"size\":10,\"solidity\":0.2}},\"type\":\"barpolar\"}],\"pie\":[{\"automargin\":true,\"type\":\"pie\"}]},\"layout\":{\"autotypenumbers\":\"strict\",\"colorway\":[\"#636efa\",\"#EF553B\",\"#00cc96\",\"#ab63fa\",\"#FFA15A\",\"#19d3f3\",\"#FF6692\",\"#B6E880\",\"#FF97FF\",\"#FECB52\"],\"font\":{\"color\":\"#2a3f5f\"},\"hovermode\":\"closest\",\"hoverlabel\":{\"align\":\"left\"},\"paper_bgcolor\":\"white\",\"plot_bgcolor\":\"#E5ECF6\",\"polar\":{\"bgcolor\":\"#E5ECF6\",\"angularaxis\":{\"gridcolor\":\"white\",\"linecolor\":\"white\",\"ticks\":\"\"},\"radialaxis\":{\"gridcolor\":\"white\",\"linecolor\":\"white\",\"ticks\":\"\"}},\"ternary\":{\"bgcolor\":\"#E5ECF6\",\"aaxis\":{\"gridcolor\":\"white\",\"linecolor\":\"white\",\"ticks\":\"\"},\"baxis\":{\"gridcolor\":\"white\",\"linecolor\":\"white\",\"ticks\":\"\"},\"caxis\":{\"gridcolor\":\"white\",\"linecolor\":\"white\",\"ticks\":\"\"}},\"coloraxis\":{\"colorbar\":{\"outlinewidth\":0,\"ticks\":\"\"}},\"colorscale\":{\"sequential\":[[0.0,\"#0d0887\"],[0.1111111111111111,\"#46039f\"],[0.2222222222222222,\"#7201a8\"],[0.3333333333333333,\"#9c179e\"],[0.4444444444444444,\"#bd3786\"],[0.5555555555555556,\"#d8576b\"],[0.6666666666666666,\"#ed7953\"],[0.7777777777777778,\"#fb9f3a\"],[0.8888888888888888,\"#fdca26\"],[1.0,\"#f0f921\"]],\"sequentialminus\":[[0.0,\"#0d0887\"],[0.1111111111111111,\"#46039f\"],[0.2222222222222222,\"#7201a8\"],[0.3333333333333333,\"#9c179e\"],[0.4444444444444444,\"#bd3786\"],[0.5555555555555556,\"#d8576b\"],[0.6666666666666666,\"#ed7953\"],[0.7777777777777778,\"#fb9f3a\"],[0.8888888888888888,\"#fdca26\"],[1.0,\"#f0f921\"]],\"diverging\":[[0,\"#8e0152\"],[0.1,\"#c51b7d\"],[0.2,\"#de77ae\"],[0.3,\"#f1b6da\"],[0.4,\"#fde0ef\"],[0.5,\"#f7f7f7\"],[0.6,\"#e6f5d0\"],[0.7,\"#b8e186\"],[0.8,\"#7fbc41\"],[0.9,\"#4d9221\"],[1,\"#276419\"]]},\"xaxis\":{\"gridcolor\":\"white\",\"linecolor\":\"white\",\"ticks\":\"\",\"title\":{\"standoff\":15},\"zerolinecolor\":\"white\",\"automargin\":true,\"zerolinewidth\":2},\"yaxis\":{\"gridcolor\":\"white\",\"linecolor\":\"white\",\"ticks\":\"\",\"title\":{\"standoff\":15},\"zerolinecolor\":\"white\",\"automargin\":true,\"zerolinewidth\":2},\"scene\":{\"xaxis\":{\"backgroundcolor\":\"#E5ECF6\",\"gridcolor\":\"white\",\"linecolor\":\"white\",\"showbackground\":true,\"ticks\":\"\",\"zerolinecolor\":\"white\",\"gridwidth\":2},\"yaxis\":{\"backgroundcolor\":\"#E5ECF6\",\"gridcolor\":\"white\",\"linecolor\":\"white\",\"showbackground\":true,\"ticks\":\"\",\"zerolinecolor\":\"white\",\"gridwidth\":2},\"zaxis\":{\"backgroundcolor\":\"#E5ECF6\",\"gridcolor\":\"white\",\"linecolor\":\"white\",\"showbackground\":true,\"ticks\":\"\",\"zerolinecolor\":\"white\",\"gridwidth\":2}},\"shapedefaults\":{\"line\":{\"color\":\"#2a3f5f\"}},\"annotationdefaults\":{\"arrowcolor\":\"#2a3f5f\",\"arrowhead\":0,\"arrowwidth\":1},\"geo\":{\"bgcolor\":\"white\",\"landcolor\":\"#E5ECF6\",\"subunitcolor\":\"white\",\"showland\":true,\"showlakes\":true,\"lakecolor\":\"white\"},\"title\":{\"x\":0.05},\"mapbox\":{\"style\":\"light\"}}},\"xaxis\":{\"anchor\":\"y\",\"domain\":[0.0,1.0],\"title\":{\"text\":\"Average Spectral Counts\"}},\"yaxis\":{\"anchor\":\"x\",\"domain\":[0.0,1.0],\"title\":{}},\"legend\":{\"tracegroupgap\":0},\"margin\":{\"t\":60},\"height\":600,\"title\":{\"text\":\"(HPM)\"},\"autosize\":true},                        {\"responsive\": true}                    ).then(function(){\n",
       "                            \n",
       "var gd = document.getElementById('3ff87462-c506-4b5c-8666-5b96430f9a2e');\n",
       "var x = new MutationObserver(function (mutations, observer) {{\n",
       "        var display = window.getComputedStyle(gd).display;\n",
       "        if (!display || display === 'none') {{\n",
       "            console.log([gd, 'removed!']);\n",
       "            Plotly.purge(gd);\n",
       "            observer.disconnect();\n",
       "        }}\n",
       "}});\n",
       "\n",
       "// Listen for the removal of the full notebook cells\n",
       "var notebookContainer = gd.closest('#notebook-container');\n",
       "if (notebookContainer) {{\n",
       "    x.observe(notebookContainer, {childList: true});\n",
       "}}\n",
       "\n",
       "// Listen for the clearing of the current output cell\n",
       "var outputEl = gd.closest('.output');\n",
       "if (outputEl) {{\n",
       "    x.observe(outputEl, {childList: true});\n",
       "}}\n",
       "\n",
       "                        })                };                });            </script>        </div>"
      ]
     },
     "metadata": {},
     "output_type": "display_data"
    },
    {
     "data": {
      "application/vnd.plotly.v1+json": {
       "config": {
        "plotlyServerURL": "https://plot.ly"
       },
       "data": [
        {
         "customdata": [
          [
           "Enhanced"
          ],
          [
           "Enhanced"
          ],
          [
           "Enhanced"
          ],
          [
           "Enhanced"
          ],
          [
           "Enhanced"
          ],
          [
           "Enhanced"
          ],
          [
           "Enhanced"
          ],
          [
           "Enhanced"
          ],
          [
           "Enhanced"
          ],
          [
           "Enhanced"
          ],
          [
           "Enhanced"
          ],
          [
           "Enhanced"
          ],
          [
           "Enhanced"
          ],
          [
           "Enhanced"
          ],
          [
           "Enhanced"
          ],
          [
           "Enhanced"
          ],
          [
           "Enhanced"
          ],
          [
           "Enhanced"
          ],
          [
           "Enhanced"
          ],
          [
           "Enhanced"
          ],
          [
           "Enhanced"
          ],
          [
           "Enhanced"
          ],
          [
           "Enhanced"
          ],
          [
           "Enhanced"
          ],
          [
           "Enhanced"
          ],
          [
           "Enhanced"
          ],
          [
           "Enhanced"
          ],
          [
           "Enhanced"
          ],
          [
           "Enhanced"
          ],
          [
           "Enhanced"
          ],
          [
           "Enhanced"
          ],
          [
           "Enhanced"
          ],
          [
           "Enhanced"
          ],
          [
           "Enhanced"
          ],
          [
           "Enhanced"
          ],
          [
           "Enhanced"
          ],
          [
           "Enhanced"
          ],
          [
           "Enhanced"
          ],
          [
           "Enhanced"
          ],
          [
           "Enhanced"
          ],
          [
           "Enhanced"
          ],
          [
           "Enhanced"
          ],
          [
           "Enhanced"
          ],
          [
           "Enhanced"
          ],
          [
           "Enhanced"
          ],
          [
           "Enhanced"
          ],
          [
           "Enhanced"
          ],
          [
           "Enhanced"
          ],
          [
           "Enhanced"
          ],
          [
           "Enhanced"
          ],
          [
           "Enhanced"
          ],
          [
           "Enhanced"
          ],
          [
           "Enhanced"
          ],
          [
           "Enhanced"
          ],
          [
           "Enhanced"
          ],
          [
           "Enhanced"
          ],
          [
           "Enhanced"
          ],
          [
           "Enhanced"
          ],
          [
           "Enhanced"
          ],
          [
           "Enhanced"
          ],
          [
           "Enhanced"
          ],
          [
           "Enhanced"
          ],
          [
           "Enhanced"
          ],
          [
           "Enhanced"
          ],
          [
           "Enhanced"
          ],
          [
           "Enhanced"
          ],
          [
           "Enhanced"
          ],
          [
           "Enhanced"
          ],
          [
           "Enhanced"
          ],
          [
           "Enhanced"
          ],
          [
           "Enhanced"
          ],
          [
           "Enhanced"
          ],
          [
           "Enhanced"
          ],
          [
           "Enhanced"
          ],
          [
           "Enhanced"
          ],
          [
           "Enhanced"
          ],
          [
           "Enhanced"
          ],
          [
           "Enhanced"
          ],
          [
           "Enhanced"
          ],
          [
           "Enhanced"
          ],
          [
           "Enhanced"
          ],
          [
           "Enhanced"
          ],
          [
           "Enhanced"
          ],
          [
           "Enhanced"
          ],
          [
           "Enhanced"
          ],
          [
           "Enhanced"
          ],
          [
           "Enhanced"
          ],
          [
           "Enhanced"
          ],
          [
           "Enhanced"
          ],
          [
           "Enhanced"
          ],
          [
           "Enhanced"
          ],
          [
           "Enhanced"
          ],
          [
           "Enhanced"
          ],
          [
           "Enhanced"
          ],
          [
           "Enhanced"
          ],
          [
           "Enhanced"
          ],
          [
           "Enhanced"
          ],
          [
           "Enhanced"
          ],
          [
           "Enhanced"
          ],
          [
           "Enhanced"
          ],
          [
           "Enhanced"
          ],
          [
           "Enhanced"
          ],
          [
           "Enhanced"
          ],
          [
           "Enhanced"
          ],
          [
           "Enhanced"
          ]
         ],
         "hovertemplate": "<b>%{hovertext}</b><br><br>Level=%{x}<br>Tissue=%{y}<br>Reliability=%{customdata[0]}<extra></extra>",
         "hovertext": [
          "adipose tissue, adipocytes",
          "adrenal gland, glandular cells",
          "appendix, endocrine cells",
          "appendix, enterocytes",
          "appendix, enterocytes - Microvilli",
          "appendix, germinal center cells",
          "appendix, goblet cells",
          "appendix, non-germinal center cells",
          "bone marrow, hematopoietic cells",
          "breast, adipocytes",
          "breast, glandular cells",
          "breast, myoepithelial cells",
          "bronchus, respiratory epithelial cells",
          "caudate, glial cells",
          "caudate, neuronal cells",
          "cerebellum, cells in granular layer",
          "cerebellum, cells in molecular layer",
          "cerebellum, Purkinje cells",
          "cerebral cortex, endothelial cells",
          "cerebral cortex, glial cells",
          "cerebral cortex, neuronal cells",
          "cerebral cortex, neuropil",
          "cervix, glandular cells",
          "cervix, squamous epithelial cells",
          "colon, endocrine cells",
          "colon, endothelial cells",
          "colon, enterocytes",
          "colon, enterocytes - Microvilli",
          "colon, fibroblasts",
          "colon, goblet cells",
          "colon, mucosal lymphoid cells",
          "duodenum, endocrine cells",
          "duodenum, enterocytes",
          "duodenum, enterocytes - Microvilli",
          "duodenum, goblet cells",
          "duodenum, paneth cells",
          "endometrium 1, cells in endometrial stroma",
          "endometrium 1, glandular cells",
          "endometrium 2, cells in endometrial stroma",
          "endometrium 2, glandular cells",
          "epididymis, glandular cells",
          "esophagus, squamous epithelial cells",
          "fallopian tube, glandular cells",
          "gallbladder, glandular cells",
          "heart muscle, cardiomyocytes",
          "hippocampus, glial cells",
          "hippocampus, neuronal cells",
          "kidney, bowman's capsule",
          "kidney, cells in glomeruli",
          "kidney, collecting ducts",
          "kidney, distal tubules",
          "kidney, proximal tubules (cell body)",
          "kidney, proximal tubules (microvilli)",
          "liver, cholangiocytes",
          "liver, hepatocytes",
          "lung, alveolar cells",
          "lung, macrophages",
          "nasopharynx, respiratory epithelial cells",
          "oral mucosa, squamous epithelial cells",
          "ovary, follicle cells",
          "ovary, ovarian stroma cells",
          "pancreas, exocrine glandular cells",
          "pancreas, pancreatic endocrine cells",
          "parathyroid gland, glandular cells",
          "placenta, decidual cells",
          "placenta, trophoblastic cells",
          "prostate, glandular cells",
          "rectum, endocrine cells",
          "rectum, endothelial cells",
          "rectum, enterocytes",
          "rectum, enterocytes - Microvilli",
          "rectum, fibroblasts",
          "rectum, goblet cells",
          "rectum, mucosal lymphoid cells",
          "rectum, peripheral nerve/ganglion",
          "salivary gland, glandular cells",
          "seminal vesicle, glandular cells",
          "skeletal muscle, myocytes",
          "skin 1, fibroblasts",
          "skin 1, keratinocytes",
          "skin 1, Langerhans",
          "skin 1, melanocytes",
          "skin 2, epidermal cells",
          "small intestine, endocrine cells",
          "small intestine, enterocytes",
          "small intestine, enterocytes - Microvilli",
          "small intestine, goblet cells",
          "smooth muscle, smooth muscle cells",
          "soft tissue 1, chondrocytes",
          "soft tissue 1, fibroblasts",
          "soft tissue 1, peripheral nerve",
          "soft tissue 2, fibroblasts",
          "soft tissue 2, peripheral nerve",
          "spleen, cells in red pulp",
          "spleen, cells in white pulp",
          "stomach 1, glandular cells",
          "stomach 2, glandular cells",
          "testis, cells in seminiferous ducts",
          "testis, Leydig cells",
          "thyroid gland, glandular cells",
          "tonsil, germinal center cells",
          "tonsil, non-germinal center cells",
          "tonsil, squamous epithelial cells",
          "urinary bladder, urothelial cells",
          "vagina, squamous epithelial cells"
         ],
         "legendgroup": "",
         "marker": {
          "color": "#636efa",
          "symbol": "circle"
         },
         "mode": "markers",
         "name": "",
         "orientation": "v",
         "showlegend": false,
         "type": "scatter",
         "x": [
          "Not detected",
          "Low",
          "Not detected",
          "Not detected",
          "Not detected",
          "Not detected",
          "Medium",
          "Not detected",
          "Not detected",
          "Not detected",
          "Not detected",
          "Not detected",
          "Low",
          "Not detected",
          "Not detected",
          "Not detected",
          "Not detected",
          "Not detected",
          "Not detected",
          "Not detected",
          "Not detected",
          "Not detected",
          "Not detected",
          "Not detected",
          "Medium",
          "Not detected",
          "Medium",
          "Not detected",
          "Not detected",
          "Medium",
          "Not detected",
          "High",
          "Medium",
          "Not detected",
          "Low",
          "Medium",
          "Not detected",
          "Not detected",
          "Not detected",
          "Not detected",
          "Not detected",
          "Low",
          "Not detected",
          "Medium",
          "Low",
          "Not detected",
          "Not detected",
          "Not detected",
          "Not detected",
          "Not detected",
          "Not detected",
          "Medium",
          "Not detected",
          "Not detected",
          "Medium",
          "Not detected",
          "Not detected",
          "Low",
          "Not detected",
          "Not detected",
          "Not detected",
          "Medium",
          "Medium",
          "Not detected",
          "Not detected",
          "Not detected",
          "Not detected",
          "Medium",
          "Not detected",
          "Medium",
          "Not detected",
          "Not detected",
          "High",
          "Not detected",
          "Not detected",
          "Not detected",
          "Not detected",
          "Low",
          "Not detected",
          "Not detected",
          "Not detected",
          "Not detected",
          "Not detected",
          "High",
          "High",
          "Not detected",
          "High",
          "Low",
          "Not detected",
          "Not detected",
          "Not detected",
          "Not detected",
          "Not detected",
          "Not detected",
          "Not detected",
          "Medium",
          "Medium",
          "Not detected",
          "Not detected",
          "Not detected",
          "Not detected",
          "Not detected",
          "Not detected",
          "Not detected",
          "Low"
         ],
         "xaxis": "x",
         "y": [
          "adipose tissue, adipocytes",
          "adrenal gland, glandular cells",
          "appendix, endocrine cells",
          "appendix, enterocytes",
          "appendix, enterocytes - Microvilli",
          "appendix, germinal center cells",
          "appendix, goblet cells",
          "appendix, non-germinal center cells",
          "bone marrow, hematopoietic cells",
          "breast, adipocytes",
          "breast, glandular cells",
          "breast, myoepithelial cells",
          "bronchus, respiratory epithelial cells",
          "caudate, glial cells",
          "caudate, neuronal cells",
          "cerebellum, cells in granular layer",
          "cerebellum, cells in molecular layer",
          "cerebellum, Purkinje cells",
          "cerebral cortex, endothelial cells",
          "cerebral cortex, glial cells",
          "cerebral cortex, neuronal cells",
          "cerebral cortex, neuropil",
          "cervix, glandular cells",
          "cervix, squamous epithelial cells",
          "colon, endocrine cells",
          "colon, endothelial cells",
          "colon, enterocytes",
          "colon, enterocytes - Microvilli",
          "colon, fibroblasts",
          "colon, goblet cells",
          "colon, mucosal lymphoid cells",
          "duodenum, endocrine cells",
          "duodenum, enterocytes",
          "duodenum, enterocytes - Microvilli",
          "duodenum, goblet cells",
          "duodenum, paneth cells",
          "endometrium 1, cells in endometrial stroma",
          "endometrium 1, glandular cells",
          "endometrium 2, cells in endometrial stroma",
          "endometrium 2, glandular cells",
          "epididymis, glandular cells",
          "esophagus, squamous epithelial cells",
          "fallopian tube, glandular cells",
          "gallbladder, glandular cells",
          "heart muscle, cardiomyocytes",
          "hippocampus, glial cells",
          "hippocampus, neuronal cells",
          "kidney, bowman's capsule",
          "kidney, cells in glomeruli",
          "kidney, collecting ducts",
          "kidney, distal tubules",
          "kidney, proximal tubules (cell body)",
          "kidney, proximal tubules (microvilli)",
          "liver, cholangiocytes",
          "liver, hepatocytes",
          "lung, alveolar cells",
          "lung, macrophages",
          "nasopharynx, respiratory epithelial cells",
          "oral mucosa, squamous epithelial cells",
          "ovary, follicle cells",
          "ovary, ovarian stroma cells",
          "pancreas, exocrine glandular cells",
          "pancreas, pancreatic endocrine cells",
          "parathyroid gland, glandular cells",
          "placenta, decidual cells",
          "placenta, trophoblastic cells",
          "prostate, glandular cells",
          "rectum, endocrine cells",
          "rectum, endothelial cells",
          "rectum, enterocytes",
          "rectum, enterocytes - Microvilli",
          "rectum, fibroblasts",
          "rectum, goblet cells",
          "rectum, mucosal lymphoid cells",
          "rectum, peripheral nerve/ganglion",
          "salivary gland, glandular cells",
          "seminal vesicle, glandular cells",
          "skeletal muscle, myocytes",
          "skin 1, fibroblasts",
          "skin 1, keratinocytes",
          "skin 1, Langerhans",
          "skin 1, melanocytes",
          "skin 2, epidermal cells",
          "small intestine, endocrine cells",
          "small intestine, enterocytes",
          "small intestine, enterocytes - Microvilli",
          "small intestine, goblet cells",
          "smooth muscle, smooth muscle cells",
          "soft tissue 1, chondrocytes",
          "soft tissue 1, fibroblasts",
          "soft tissue 1, peripheral nerve",
          "soft tissue 2, fibroblasts",
          "soft tissue 2, peripheral nerve",
          "spleen, cells in red pulp",
          "spleen, cells in white pulp",
          "stomach 1, glandular cells",
          "stomach 2, glandular cells",
          "testis, cells in seminiferous ducts",
          "testis, Leydig cells",
          "thyroid gland, glandular cells",
          "tonsil, germinal center cells",
          "tonsil, non-germinal center cells",
          "tonsil, squamous epithelial cells",
          "urinary bladder, urothelial cells",
          "vagina, squamous epithelial cells"
         ],
         "yaxis": "y"
        }
       ],
       "layout": {
        "autosize": true,
        "height": 2100,
        "legend": {
         "tracegroupgap": 0
        },
        "margin": {
         "t": 60
        },
        "showlegend": false,
        "template": {
         "data": {
          "bar": [
           {
            "error_x": {
             "color": "#2a3f5f"
            },
            "error_y": {
             "color": "#2a3f5f"
            },
            "marker": {
             "line": {
              "color": "#E5ECF6",
              "width": 0.5
             },
             "pattern": {
              "fillmode": "overlay",
              "size": 10,
              "solidity": 0.2
             }
            },
            "type": "bar"
           }
          ],
          "barpolar": [
           {
            "marker": {
             "line": {
              "color": "#E5ECF6",
              "width": 0.5
             },
             "pattern": {
              "fillmode": "overlay",
              "size": 10,
              "solidity": 0.2
             }
            },
            "type": "barpolar"
           }
          ],
          "carpet": [
           {
            "aaxis": {
             "endlinecolor": "#2a3f5f",
             "gridcolor": "white",
             "linecolor": "white",
             "minorgridcolor": "white",
             "startlinecolor": "#2a3f5f"
            },
            "baxis": {
             "endlinecolor": "#2a3f5f",
             "gridcolor": "white",
             "linecolor": "white",
             "minorgridcolor": "white",
             "startlinecolor": "#2a3f5f"
            },
            "type": "carpet"
           }
          ],
          "choropleth": [
           {
            "colorbar": {
             "outlinewidth": 0,
             "ticks": ""
            },
            "type": "choropleth"
           }
          ],
          "contour": [
           {
            "colorbar": {
             "outlinewidth": 0,
             "ticks": ""
            },
            "colorscale": [
             [
              0,
              "#0d0887"
             ],
             [
              0.1111111111111111,
              "#46039f"
             ],
             [
              0.2222222222222222,
              "#7201a8"
             ],
             [
              0.3333333333333333,
              "#9c179e"
             ],
             [
              0.4444444444444444,
              "#bd3786"
             ],
             [
              0.5555555555555556,
              "#d8576b"
             ],
             [
              0.6666666666666666,
              "#ed7953"
             ],
             [
              0.7777777777777778,
              "#fb9f3a"
             ],
             [
              0.8888888888888888,
              "#fdca26"
             ],
             [
              1,
              "#f0f921"
             ]
            ],
            "type": "contour"
           }
          ],
          "contourcarpet": [
           {
            "colorbar": {
             "outlinewidth": 0,
             "ticks": ""
            },
            "type": "contourcarpet"
           }
          ],
          "heatmap": [
           {
            "colorbar": {
             "outlinewidth": 0,
             "ticks": ""
            },
            "colorscale": [
             [
              0,
              "#0d0887"
             ],
             [
              0.1111111111111111,
              "#46039f"
             ],
             [
              0.2222222222222222,
              "#7201a8"
             ],
             [
              0.3333333333333333,
              "#9c179e"
             ],
             [
              0.4444444444444444,
              "#bd3786"
             ],
             [
              0.5555555555555556,
              "#d8576b"
             ],
             [
              0.6666666666666666,
              "#ed7953"
             ],
             [
              0.7777777777777778,
              "#fb9f3a"
             ],
             [
              0.8888888888888888,
              "#fdca26"
             ],
             [
              1,
              "#f0f921"
             ]
            ],
            "type": "heatmap"
           }
          ],
          "heatmapgl": [
           {
            "colorbar": {
             "outlinewidth": 0,
             "ticks": ""
            },
            "colorscale": [
             [
              0,
              "#0d0887"
             ],
             [
              0.1111111111111111,
              "#46039f"
             ],
             [
              0.2222222222222222,
              "#7201a8"
             ],
             [
              0.3333333333333333,
              "#9c179e"
             ],
             [
              0.4444444444444444,
              "#bd3786"
             ],
             [
              0.5555555555555556,
              "#d8576b"
             ],
             [
              0.6666666666666666,
              "#ed7953"
             ],
             [
              0.7777777777777778,
              "#fb9f3a"
             ],
             [
              0.8888888888888888,
              "#fdca26"
             ],
             [
              1,
              "#f0f921"
             ]
            ],
            "type": "heatmapgl"
           }
          ],
          "histogram": [
           {
            "marker": {
             "pattern": {
              "fillmode": "overlay",
              "size": 10,
              "solidity": 0.2
             }
            },
            "type": "histogram"
           }
          ],
          "histogram2d": [
           {
            "colorbar": {
             "outlinewidth": 0,
             "ticks": ""
            },
            "colorscale": [
             [
              0,
              "#0d0887"
             ],
             [
              0.1111111111111111,
              "#46039f"
             ],
             [
              0.2222222222222222,
              "#7201a8"
             ],
             [
              0.3333333333333333,
              "#9c179e"
             ],
             [
              0.4444444444444444,
              "#bd3786"
             ],
             [
              0.5555555555555556,
              "#d8576b"
             ],
             [
              0.6666666666666666,
              "#ed7953"
             ],
             [
              0.7777777777777778,
              "#fb9f3a"
             ],
             [
              0.8888888888888888,
              "#fdca26"
             ],
             [
              1,
              "#f0f921"
             ]
            ],
            "type": "histogram2d"
           }
          ],
          "histogram2dcontour": [
           {
            "colorbar": {
             "outlinewidth": 0,
             "ticks": ""
            },
            "colorscale": [
             [
              0,
              "#0d0887"
             ],
             [
              0.1111111111111111,
              "#46039f"
             ],
             [
              0.2222222222222222,
              "#7201a8"
             ],
             [
              0.3333333333333333,
              "#9c179e"
             ],
             [
              0.4444444444444444,
              "#bd3786"
             ],
             [
              0.5555555555555556,
              "#d8576b"
             ],
             [
              0.6666666666666666,
              "#ed7953"
             ],
             [
              0.7777777777777778,
              "#fb9f3a"
             ],
             [
              0.8888888888888888,
              "#fdca26"
             ],
             [
              1,
              "#f0f921"
             ]
            ],
            "type": "histogram2dcontour"
           }
          ],
          "mesh3d": [
           {
            "colorbar": {
             "outlinewidth": 0,
             "ticks": ""
            },
            "type": "mesh3d"
           }
          ],
          "parcoords": [
           {
            "line": {
             "colorbar": {
              "outlinewidth": 0,
              "ticks": ""
             }
            },
            "type": "parcoords"
           }
          ],
          "pie": [
           {
            "automargin": true,
            "type": "pie"
           }
          ],
          "scatter": [
           {
            "fillpattern": {
             "fillmode": "overlay",
             "size": 10,
             "solidity": 0.2
            },
            "type": "scatter"
           }
          ],
          "scatter3d": [
           {
            "line": {
             "colorbar": {
              "outlinewidth": 0,
              "ticks": ""
             }
            },
            "marker": {
             "colorbar": {
              "outlinewidth": 0,
              "ticks": ""
             }
            },
            "type": "scatter3d"
           }
          ],
          "scattercarpet": [
           {
            "marker": {
             "colorbar": {
              "outlinewidth": 0,
              "ticks": ""
             }
            },
            "type": "scattercarpet"
           }
          ],
          "scattergeo": [
           {
            "marker": {
             "colorbar": {
              "outlinewidth": 0,
              "ticks": ""
             }
            },
            "type": "scattergeo"
           }
          ],
          "scattergl": [
           {
            "marker": {
             "colorbar": {
              "outlinewidth": 0,
              "ticks": ""
             }
            },
            "type": "scattergl"
           }
          ],
          "scattermapbox": [
           {
            "marker": {
             "colorbar": {
              "outlinewidth": 0,
              "ticks": ""
             }
            },
            "type": "scattermapbox"
           }
          ],
          "scatterpolar": [
           {
            "marker": {
             "colorbar": {
              "outlinewidth": 0,
              "ticks": ""
             }
            },
            "type": "scatterpolar"
           }
          ],
          "scatterpolargl": [
           {
            "marker": {
             "colorbar": {
              "outlinewidth": 0,
              "ticks": ""
             }
            },
            "type": "scatterpolargl"
           }
          ],
          "scatterternary": [
           {
            "marker": {
             "colorbar": {
              "outlinewidth": 0,
              "ticks": ""
             }
            },
            "type": "scatterternary"
           }
          ],
          "surface": [
           {
            "colorbar": {
             "outlinewidth": 0,
             "ticks": ""
            },
            "colorscale": [
             [
              0,
              "#0d0887"
             ],
             [
              0.1111111111111111,
              "#46039f"
             ],
             [
              0.2222222222222222,
              "#7201a8"
             ],
             [
              0.3333333333333333,
              "#9c179e"
             ],
             [
              0.4444444444444444,
              "#bd3786"
             ],
             [
              0.5555555555555556,
              "#d8576b"
             ],
             [
              0.6666666666666666,
              "#ed7953"
             ],
             [
              0.7777777777777778,
              "#fb9f3a"
             ],
             [
              0.8888888888888888,
              "#fdca26"
             ],
             [
              1,
              "#f0f921"
             ]
            ],
            "type": "surface"
           }
          ],
          "table": [
           {
            "cells": {
             "fill": {
              "color": "#EBF0F8"
             },
             "line": {
              "color": "white"
             }
            },
            "header": {
             "fill": {
              "color": "#C8D4E3"
             },
             "line": {
              "color": "white"
             }
            },
            "type": "table"
           }
          ]
         },
         "layout": {
          "annotationdefaults": {
           "arrowcolor": "#2a3f5f",
           "arrowhead": 0,
           "arrowwidth": 1
          },
          "autotypenumbers": "strict",
          "coloraxis": {
           "colorbar": {
            "outlinewidth": 0,
            "ticks": ""
           }
          },
          "colorscale": {
           "diverging": [
            [
             0,
             "#8e0152"
            ],
            [
             0.1,
             "#c51b7d"
            ],
            [
             0.2,
             "#de77ae"
            ],
            [
             0.3,
             "#f1b6da"
            ],
            [
             0.4,
             "#fde0ef"
            ],
            [
             0.5,
             "#f7f7f7"
            ],
            [
             0.6,
             "#e6f5d0"
            ],
            [
             0.7,
             "#b8e186"
            ],
            [
             0.8,
             "#7fbc41"
            ],
            [
             0.9,
             "#4d9221"
            ],
            [
             1,
             "#276419"
            ]
           ],
           "sequential": [
            [
             0,
             "#0d0887"
            ],
            [
             0.1111111111111111,
             "#46039f"
            ],
            [
             0.2222222222222222,
             "#7201a8"
            ],
            [
             0.3333333333333333,
             "#9c179e"
            ],
            [
             0.4444444444444444,
             "#bd3786"
            ],
            [
             0.5555555555555556,
             "#d8576b"
            ],
            [
             0.6666666666666666,
             "#ed7953"
            ],
            [
             0.7777777777777778,
             "#fb9f3a"
            ],
            [
             0.8888888888888888,
             "#fdca26"
            ],
            [
             1,
             "#f0f921"
            ]
           ],
           "sequentialminus": [
            [
             0,
             "#0d0887"
            ],
            [
             0.1111111111111111,
             "#46039f"
            ],
            [
             0.2222222222222222,
             "#7201a8"
            ],
            [
             0.3333333333333333,
             "#9c179e"
            ],
            [
             0.4444444444444444,
             "#bd3786"
            ],
            [
             0.5555555555555556,
             "#d8576b"
            ],
            [
             0.6666666666666666,
             "#ed7953"
            ],
            [
             0.7777777777777778,
             "#fb9f3a"
            ],
            [
             0.8888888888888888,
             "#fdca26"
            ],
            [
             1,
             "#f0f921"
            ]
           ]
          },
          "colorway": [
           "#636efa",
           "#EF553B",
           "#00cc96",
           "#ab63fa",
           "#FFA15A",
           "#19d3f3",
           "#FF6692",
           "#B6E880",
           "#FF97FF",
           "#FECB52"
          ],
          "font": {
           "color": "#2a3f5f"
          },
          "geo": {
           "bgcolor": "white",
           "lakecolor": "white",
           "landcolor": "#E5ECF6",
           "showlakes": true,
           "showland": true,
           "subunitcolor": "white"
          },
          "hoverlabel": {
           "align": "left"
          },
          "hovermode": "closest",
          "mapbox": {
           "style": "light"
          },
          "paper_bgcolor": "white",
          "plot_bgcolor": "#E5ECF6",
          "polar": {
           "angularaxis": {
            "gridcolor": "white",
            "linecolor": "white",
            "ticks": ""
           },
           "bgcolor": "#E5ECF6",
           "radialaxis": {
            "gridcolor": "white",
            "linecolor": "white",
            "ticks": ""
           }
          },
          "scene": {
           "xaxis": {
            "backgroundcolor": "#E5ECF6",
            "gridcolor": "white",
            "gridwidth": 2,
            "linecolor": "white",
            "showbackground": true,
            "ticks": "",
            "zerolinecolor": "white"
           },
           "yaxis": {
            "backgroundcolor": "#E5ECF6",
            "gridcolor": "white",
            "gridwidth": 2,
            "linecolor": "white",
            "showbackground": true,
            "ticks": "",
            "zerolinecolor": "white"
           },
           "zaxis": {
            "backgroundcolor": "#E5ECF6",
            "gridcolor": "white",
            "gridwidth": 2,
            "linecolor": "white",
            "showbackground": true,
            "ticks": "",
            "zerolinecolor": "white"
           }
          },
          "shapedefaults": {
           "line": {
            "color": "#2a3f5f"
           }
          },
          "ternary": {
           "aaxis": {
            "gridcolor": "white",
            "linecolor": "white",
            "ticks": ""
           },
           "baxis": {
            "gridcolor": "white",
            "linecolor": "white",
            "ticks": ""
           },
           "bgcolor": "#E5ECF6",
           "caxis": {
            "gridcolor": "white",
            "linecolor": "white",
            "ticks": ""
           }
          },
          "title": {
           "x": 0.05
          },
          "xaxis": {
           "automargin": true,
           "gridcolor": "white",
           "linecolor": "white",
           "ticks": "",
           "title": {
            "standoff": 15
           },
           "zerolinecolor": "white",
           "zerolinewidth": 2
          },
          "yaxis": {
           "automargin": true,
           "gridcolor": "white",
           "linecolor": "white",
           "ticks": "",
           "title": {
            "standoff": 15
           },
           "zerolinecolor": "white",
           "zerolinewidth": 2
          }
         }
        },
        "title": {
         "text": "(HPA)"
        },
        "xaxis": {
         "anchor": "y",
         "categoryarray": [
          "Not detected",
          "Low",
          "Medium",
          "High"
         ],
         "categoryorder": "array",
         "domain": [
          0,
          1
         ],
         "tickmode": "array",
         "ticktext": [
          "Not detected",
          "Low",
          "Medium",
          "High"
         ],
         "tickvals": [
          0,
          1,
          2,
          3
         ],
         "title": {
          "text": "Tissue Expression Level"
         }
        },
        "yaxis": {
         "anchor": "x",
         "domain": [
          0,
          1
         ],
         "title": {}
        }
       }
      },
      "text/html": [
       "<div>                            <div id=\"b3ec80a8-d57b-48c0-b311-abad6c7e14df\" class=\"plotly-graph-div\" style=\"height:2100px; width:100%;\"></div>            <script type=\"text/javascript\">                require([\"plotly\"], function(Plotly) {                    window.PLOTLYENV=window.PLOTLYENV || {};                                    if (document.getElementById(\"b3ec80a8-d57b-48c0-b311-abad6c7e14df\")) {                    Plotly.newPlot(                        \"b3ec80a8-d57b-48c0-b311-abad6c7e14df\",                        [{\"customdata\":[[\"Enhanced\"],[\"Enhanced\"],[\"Enhanced\"],[\"Enhanced\"],[\"Enhanced\"],[\"Enhanced\"],[\"Enhanced\"],[\"Enhanced\"],[\"Enhanced\"],[\"Enhanced\"],[\"Enhanced\"],[\"Enhanced\"],[\"Enhanced\"],[\"Enhanced\"],[\"Enhanced\"],[\"Enhanced\"],[\"Enhanced\"],[\"Enhanced\"],[\"Enhanced\"],[\"Enhanced\"],[\"Enhanced\"],[\"Enhanced\"],[\"Enhanced\"],[\"Enhanced\"],[\"Enhanced\"],[\"Enhanced\"],[\"Enhanced\"],[\"Enhanced\"],[\"Enhanced\"],[\"Enhanced\"],[\"Enhanced\"],[\"Enhanced\"],[\"Enhanced\"],[\"Enhanced\"],[\"Enhanced\"],[\"Enhanced\"],[\"Enhanced\"],[\"Enhanced\"],[\"Enhanced\"],[\"Enhanced\"],[\"Enhanced\"],[\"Enhanced\"],[\"Enhanced\"],[\"Enhanced\"],[\"Enhanced\"],[\"Enhanced\"],[\"Enhanced\"],[\"Enhanced\"],[\"Enhanced\"],[\"Enhanced\"],[\"Enhanced\"],[\"Enhanced\"],[\"Enhanced\"],[\"Enhanced\"],[\"Enhanced\"],[\"Enhanced\"],[\"Enhanced\"],[\"Enhanced\"],[\"Enhanced\"],[\"Enhanced\"],[\"Enhanced\"],[\"Enhanced\"],[\"Enhanced\"],[\"Enhanced\"],[\"Enhanced\"],[\"Enhanced\"],[\"Enhanced\"],[\"Enhanced\"],[\"Enhanced\"],[\"Enhanced\"],[\"Enhanced\"],[\"Enhanced\"],[\"Enhanced\"],[\"Enhanced\"],[\"Enhanced\"],[\"Enhanced\"],[\"Enhanced\"],[\"Enhanced\"],[\"Enhanced\"],[\"Enhanced\"],[\"Enhanced\"],[\"Enhanced\"],[\"Enhanced\"],[\"Enhanced\"],[\"Enhanced\"],[\"Enhanced\"],[\"Enhanced\"],[\"Enhanced\"],[\"Enhanced\"],[\"Enhanced\"],[\"Enhanced\"],[\"Enhanced\"],[\"Enhanced\"],[\"Enhanced\"],[\"Enhanced\"],[\"Enhanced\"],[\"Enhanced\"],[\"Enhanced\"],[\"Enhanced\"],[\"Enhanced\"],[\"Enhanced\"],[\"Enhanced\"],[\"Enhanced\"],[\"Enhanced\"],[\"Enhanced\"]],\"hovertemplate\":\"<b>%{hovertext}</b><br><br>Level=%{x}<br>Tissue=%{y}<br>Reliability=%{customdata[0]}<extra></extra>\",\"hovertext\":[\"adipose tissue, adipocytes\",\"adrenal gland, glandular cells\",\"appendix, endocrine cells\",\"appendix, enterocytes\",\"appendix, enterocytes - Microvilli\",\"appendix, germinal center cells\",\"appendix, goblet cells\",\"appendix, non-germinal center cells\",\"bone marrow, hematopoietic cells\",\"breast, adipocytes\",\"breast, glandular cells\",\"breast, myoepithelial cells\",\"bronchus, respiratory epithelial cells\",\"caudate, glial cells\",\"caudate, neuronal cells\",\"cerebellum, cells in granular layer\",\"cerebellum, cells in molecular layer\",\"cerebellum, Purkinje cells\",\"cerebral cortex, endothelial cells\",\"cerebral cortex, glial cells\",\"cerebral cortex, neuronal cells\",\"cerebral cortex, neuropil\",\"cervix, glandular cells\",\"cervix, squamous epithelial cells\",\"colon, endocrine cells\",\"colon, endothelial cells\",\"colon, enterocytes\",\"colon, enterocytes - Microvilli\",\"colon, fibroblasts\",\"colon, goblet cells\",\"colon, mucosal lymphoid cells\",\"duodenum, endocrine cells\",\"duodenum, enterocytes\",\"duodenum, enterocytes - Microvilli\",\"duodenum, goblet cells\",\"duodenum, paneth cells\",\"endometrium 1, cells in endometrial stroma\",\"endometrium 1, glandular cells\",\"endometrium 2, cells in endometrial stroma\",\"endometrium 2, glandular cells\",\"epididymis, glandular cells\",\"esophagus, squamous epithelial cells\",\"fallopian tube, glandular cells\",\"gallbladder, glandular cells\",\"heart muscle, cardiomyocytes\",\"hippocampus, glial cells\",\"hippocampus, neuronal cells\",\"kidney, bowman's capsule\",\"kidney, cells in glomeruli\",\"kidney, collecting ducts\",\"kidney, distal tubules\",\"kidney, proximal tubules (cell body)\",\"kidney, proximal tubules (microvilli)\",\"liver, cholangiocytes\",\"liver, hepatocytes\",\"lung, alveolar cells\",\"lung, macrophages\",\"nasopharynx, respiratory epithelial cells\",\"oral mucosa, squamous epithelial cells\",\"ovary, follicle cells\",\"ovary, ovarian stroma cells\",\"pancreas, exocrine glandular cells\",\"pancreas, pancreatic endocrine cells\",\"parathyroid gland, glandular cells\",\"placenta, decidual cells\",\"placenta, trophoblastic cells\",\"prostate, glandular cells\",\"rectum, endocrine cells\",\"rectum, endothelial cells\",\"rectum, enterocytes\",\"rectum, enterocytes - Microvilli\",\"rectum, fibroblasts\",\"rectum, goblet cells\",\"rectum, mucosal lymphoid cells\",\"rectum, peripheral nerve/ganglion\",\"salivary gland, glandular cells\",\"seminal vesicle, glandular cells\",\"skeletal muscle, myocytes\",\"skin 1, fibroblasts\",\"skin 1, keratinocytes\",\"skin 1, Langerhans\",\"skin 1, melanocytes\",\"skin 2, epidermal cells\",\"small intestine, endocrine cells\",\"small intestine, enterocytes\",\"small intestine, enterocytes - Microvilli\",\"small intestine, goblet cells\",\"smooth muscle, smooth muscle cells\",\"soft tissue 1, chondrocytes\",\"soft tissue 1, fibroblasts\",\"soft tissue 1, peripheral nerve\",\"soft tissue 2, fibroblasts\",\"soft tissue 2, peripheral nerve\",\"spleen, cells in red pulp\",\"spleen, cells in white pulp\",\"stomach 1, glandular cells\",\"stomach 2, glandular cells\",\"testis, cells in seminiferous ducts\",\"testis, Leydig cells\",\"thyroid gland, glandular cells\",\"tonsil, germinal center cells\",\"tonsil, non-germinal center cells\",\"tonsil, squamous epithelial cells\",\"urinary bladder, urothelial cells\",\"vagina, squamous epithelial cells\"],\"legendgroup\":\"\",\"marker\":{\"color\":\"#636efa\",\"symbol\":\"circle\"},\"mode\":\"markers\",\"name\":\"\",\"orientation\":\"v\",\"showlegend\":false,\"x\":[\"Not detected\",\"Low\",\"Not detected\",\"Not detected\",\"Not detected\",\"Not detected\",\"Medium\",\"Not detected\",\"Not detected\",\"Not detected\",\"Not detected\",\"Not detected\",\"Low\",\"Not detected\",\"Not detected\",\"Not detected\",\"Not detected\",\"Not detected\",\"Not detected\",\"Not detected\",\"Not detected\",\"Not detected\",\"Not detected\",\"Not detected\",\"Medium\",\"Not detected\",\"Medium\",\"Not detected\",\"Not detected\",\"Medium\",\"Not detected\",\"High\",\"Medium\",\"Not detected\",\"Low\",\"Medium\",\"Not detected\",\"Not detected\",\"Not detected\",\"Not detected\",\"Not detected\",\"Low\",\"Not detected\",\"Medium\",\"Low\",\"Not detected\",\"Not detected\",\"Not detected\",\"Not detected\",\"Not detected\",\"Not detected\",\"Medium\",\"Not detected\",\"Not detected\",\"Medium\",\"Not detected\",\"Not detected\",\"Low\",\"Not detected\",\"Not detected\",\"Not detected\",\"Medium\",\"Medium\",\"Not detected\",\"Not detected\",\"Not detected\",\"Not detected\",\"Medium\",\"Not detected\",\"Medium\",\"Not detected\",\"Not detected\",\"High\",\"Not detected\",\"Not detected\",\"Not detected\",\"Not detected\",\"Low\",\"Not detected\",\"Not detected\",\"Not detected\",\"Not detected\",\"Not detected\",\"High\",\"High\",\"Not detected\",\"High\",\"Low\",\"Not detected\",\"Not detected\",\"Not detected\",\"Not detected\",\"Not detected\",\"Not detected\",\"Not detected\",\"Medium\",\"Medium\",\"Not detected\",\"Not detected\",\"Not detected\",\"Not detected\",\"Not detected\",\"Not detected\",\"Not detected\",\"Low\"],\"xaxis\":\"x\",\"y\":[\"adipose tissue, adipocytes\",\"adrenal gland, glandular cells\",\"appendix, endocrine cells\",\"appendix, enterocytes\",\"appendix, enterocytes - Microvilli\",\"appendix, germinal center cells\",\"appendix, goblet cells\",\"appendix, non-germinal center cells\",\"bone marrow, hematopoietic cells\",\"breast, adipocytes\",\"breast, glandular cells\",\"breast, myoepithelial cells\",\"bronchus, respiratory epithelial cells\",\"caudate, glial cells\",\"caudate, neuronal cells\",\"cerebellum, cells in granular layer\",\"cerebellum, cells in molecular layer\",\"cerebellum, Purkinje cells\",\"cerebral cortex, endothelial cells\",\"cerebral cortex, glial cells\",\"cerebral cortex, neuronal cells\",\"cerebral cortex, neuropil\",\"cervix, glandular cells\",\"cervix, squamous epithelial cells\",\"colon, endocrine cells\",\"colon, endothelial cells\",\"colon, enterocytes\",\"colon, enterocytes - Microvilli\",\"colon, fibroblasts\",\"colon, goblet cells\",\"colon, mucosal lymphoid cells\",\"duodenum, endocrine cells\",\"duodenum, enterocytes\",\"duodenum, enterocytes - Microvilli\",\"duodenum, goblet cells\",\"duodenum, paneth cells\",\"endometrium 1, cells in endometrial stroma\",\"endometrium 1, glandular cells\",\"endometrium 2, cells in endometrial stroma\",\"endometrium 2, glandular cells\",\"epididymis, glandular cells\",\"esophagus, squamous epithelial cells\",\"fallopian tube, glandular cells\",\"gallbladder, glandular cells\",\"heart muscle, cardiomyocytes\",\"hippocampus, glial cells\",\"hippocampus, neuronal cells\",\"kidney, bowman's capsule\",\"kidney, cells in glomeruli\",\"kidney, collecting ducts\",\"kidney, distal tubules\",\"kidney, proximal tubules (cell body)\",\"kidney, proximal tubules (microvilli)\",\"liver, cholangiocytes\",\"liver, hepatocytes\",\"lung, alveolar cells\",\"lung, macrophages\",\"nasopharynx, respiratory epithelial cells\",\"oral mucosa, squamous epithelial cells\",\"ovary, follicle cells\",\"ovary, ovarian stroma cells\",\"pancreas, exocrine glandular cells\",\"pancreas, pancreatic endocrine cells\",\"parathyroid gland, glandular cells\",\"placenta, decidual cells\",\"placenta, trophoblastic cells\",\"prostate, glandular cells\",\"rectum, endocrine cells\",\"rectum, endothelial cells\",\"rectum, enterocytes\",\"rectum, enterocytes - Microvilli\",\"rectum, fibroblasts\",\"rectum, goblet cells\",\"rectum, mucosal lymphoid cells\",\"rectum, peripheral nerve/ganglion\",\"salivary gland, glandular cells\",\"seminal vesicle, glandular cells\",\"skeletal muscle, myocytes\",\"skin 1, fibroblasts\",\"skin 1, keratinocytes\",\"skin 1, Langerhans\",\"skin 1, melanocytes\",\"skin 2, epidermal cells\",\"small intestine, endocrine cells\",\"small intestine, enterocytes\",\"small intestine, enterocytes - Microvilli\",\"small intestine, goblet cells\",\"smooth muscle, smooth muscle cells\",\"soft tissue 1, chondrocytes\",\"soft tissue 1, fibroblasts\",\"soft tissue 1, peripheral nerve\",\"soft tissue 2, fibroblasts\",\"soft tissue 2, peripheral nerve\",\"spleen, cells in red pulp\",\"spleen, cells in white pulp\",\"stomach 1, glandular cells\",\"stomach 2, glandular cells\",\"testis, cells in seminiferous ducts\",\"testis, Leydig cells\",\"thyroid gland, glandular cells\",\"tonsil, germinal center cells\",\"tonsil, non-germinal center cells\",\"tonsil, squamous epithelial cells\",\"urinary bladder, urothelial cells\",\"vagina, squamous epithelial cells\"],\"yaxis\":\"y\",\"type\":\"scatter\"}],                        {\"template\":{\"data\":{\"histogram2dcontour\":[{\"type\":\"histogram2dcontour\",\"colorbar\":{\"outlinewidth\":0,\"ticks\":\"\"},\"colorscale\":[[0.0,\"#0d0887\"],[0.1111111111111111,\"#46039f\"],[0.2222222222222222,\"#7201a8\"],[0.3333333333333333,\"#9c179e\"],[0.4444444444444444,\"#bd3786\"],[0.5555555555555556,\"#d8576b\"],[0.6666666666666666,\"#ed7953\"],[0.7777777777777778,\"#fb9f3a\"],[0.8888888888888888,\"#fdca26\"],[1.0,\"#f0f921\"]]}],\"choropleth\":[{\"type\":\"choropleth\",\"colorbar\":{\"outlinewidth\":0,\"ticks\":\"\"}}],\"histogram2d\":[{\"type\":\"histogram2d\",\"colorbar\":{\"outlinewidth\":0,\"ticks\":\"\"},\"colorscale\":[[0.0,\"#0d0887\"],[0.1111111111111111,\"#46039f\"],[0.2222222222222222,\"#7201a8\"],[0.3333333333333333,\"#9c179e\"],[0.4444444444444444,\"#bd3786\"],[0.5555555555555556,\"#d8576b\"],[0.6666666666666666,\"#ed7953\"],[0.7777777777777778,\"#fb9f3a\"],[0.8888888888888888,\"#fdca26\"],[1.0,\"#f0f921\"]]}],\"heatmap\":[{\"type\":\"heatmap\",\"colorbar\":{\"outlinewidth\":0,\"ticks\":\"\"},\"colorscale\":[[0.0,\"#0d0887\"],[0.1111111111111111,\"#46039f\"],[0.2222222222222222,\"#7201a8\"],[0.3333333333333333,\"#9c179e\"],[0.4444444444444444,\"#bd3786\"],[0.5555555555555556,\"#d8576b\"],[0.6666666666666666,\"#ed7953\"],[0.7777777777777778,\"#fb9f3a\"],[0.8888888888888888,\"#fdca26\"],[1.0,\"#f0f921\"]]}],\"heatmapgl\":[{\"type\":\"heatmapgl\",\"colorbar\":{\"outlinewidth\":0,\"ticks\":\"\"},\"colorscale\":[[0.0,\"#0d0887\"],[0.1111111111111111,\"#46039f\"],[0.2222222222222222,\"#7201a8\"],[0.3333333333333333,\"#9c179e\"],[0.4444444444444444,\"#bd3786\"],[0.5555555555555556,\"#d8576b\"],[0.6666666666666666,\"#ed7953\"],[0.7777777777777778,\"#fb9f3a\"],[0.8888888888888888,\"#fdca26\"],[1.0,\"#f0f921\"]]}],\"contourcarpet\":[{\"type\":\"contourcarpet\",\"colorbar\":{\"outlinewidth\":0,\"ticks\":\"\"}}],\"contour\":[{\"type\":\"contour\",\"colorbar\":{\"outlinewidth\":0,\"ticks\":\"\"},\"colorscale\":[[0.0,\"#0d0887\"],[0.1111111111111111,\"#46039f\"],[0.2222222222222222,\"#7201a8\"],[0.3333333333333333,\"#9c179e\"],[0.4444444444444444,\"#bd3786\"],[0.5555555555555556,\"#d8576b\"],[0.6666666666666666,\"#ed7953\"],[0.7777777777777778,\"#fb9f3a\"],[0.8888888888888888,\"#fdca26\"],[1.0,\"#f0f921\"]]}],\"surface\":[{\"type\":\"surface\",\"colorbar\":{\"outlinewidth\":0,\"ticks\":\"\"},\"colorscale\":[[0.0,\"#0d0887\"],[0.1111111111111111,\"#46039f\"],[0.2222222222222222,\"#7201a8\"],[0.3333333333333333,\"#9c179e\"],[0.4444444444444444,\"#bd3786\"],[0.5555555555555556,\"#d8576b\"],[0.6666666666666666,\"#ed7953\"],[0.7777777777777778,\"#fb9f3a\"],[0.8888888888888888,\"#fdca26\"],[1.0,\"#f0f921\"]]}],\"mesh3d\":[{\"type\":\"mesh3d\",\"colorbar\":{\"outlinewidth\":0,\"ticks\":\"\"}}],\"scatter\":[{\"fillpattern\":{\"fillmode\":\"overlay\",\"size\":10,\"solidity\":0.2},\"type\":\"scatter\"}],\"parcoords\":[{\"type\":\"parcoords\",\"line\":{\"colorbar\":{\"outlinewidth\":0,\"ticks\":\"\"}}}],\"scatterpolargl\":[{\"type\":\"scatterpolargl\",\"marker\":{\"colorbar\":{\"outlinewidth\":0,\"ticks\":\"\"}}}],\"bar\":[{\"error_x\":{\"color\":\"#2a3f5f\"},\"error_y\":{\"color\":\"#2a3f5f\"},\"marker\":{\"line\":{\"color\":\"#E5ECF6\",\"width\":0.5},\"pattern\":{\"fillmode\":\"overlay\",\"size\":10,\"solidity\":0.2}},\"type\":\"bar\"}],\"scattergeo\":[{\"type\":\"scattergeo\",\"marker\":{\"colorbar\":{\"outlinewidth\":0,\"ticks\":\"\"}}}],\"scatterpolar\":[{\"type\":\"scatterpolar\",\"marker\":{\"colorbar\":{\"outlinewidth\":0,\"ticks\":\"\"}}}],\"histogram\":[{\"marker\":{\"pattern\":{\"fillmode\":\"overlay\",\"size\":10,\"solidity\":0.2}},\"type\":\"histogram\"}],\"scattergl\":[{\"type\":\"scattergl\",\"marker\":{\"colorbar\":{\"outlinewidth\":0,\"ticks\":\"\"}}}],\"scatter3d\":[{\"type\":\"scatter3d\",\"line\":{\"colorbar\":{\"outlinewidth\":0,\"ticks\":\"\"}},\"marker\":{\"colorbar\":{\"outlinewidth\":0,\"ticks\":\"\"}}}],\"scattermapbox\":[{\"type\":\"scattermapbox\",\"marker\":{\"colorbar\":{\"outlinewidth\":0,\"ticks\":\"\"}}}],\"scatterternary\":[{\"type\":\"scatterternary\",\"marker\":{\"colorbar\":{\"outlinewidth\":0,\"ticks\":\"\"}}}],\"scattercarpet\":[{\"type\":\"scattercarpet\",\"marker\":{\"colorbar\":{\"outlinewidth\":0,\"ticks\":\"\"}}}],\"carpet\":[{\"aaxis\":{\"endlinecolor\":\"#2a3f5f\",\"gridcolor\":\"white\",\"linecolor\":\"white\",\"minorgridcolor\":\"white\",\"startlinecolor\":\"#2a3f5f\"},\"baxis\":{\"endlinecolor\":\"#2a3f5f\",\"gridcolor\":\"white\",\"linecolor\":\"white\",\"minorgridcolor\":\"white\",\"startlinecolor\":\"#2a3f5f\"},\"type\":\"carpet\"}],\"table\":[{\"cells\":{\"fill\":{\"color\":\"#EBF0F8\"},\"line\":{\"color\":\"white\"}},\"header\":{\"fill\":{\"color\":\"#C8D4E3\"},\"line\":{\"color\":\"white\"}},\"type\":\"table\"}],\"barpolar\":[{\"marker\":{\"line\":{\"color\":\"#E5ECF6\",\"width\":0.5},\"pattern\":{\"fillmode\":\"overlay\",\"size\":10,\"solidity\":0.2}},\"type\":\"barpolar\"}],\"pie\":[{\"automargin\":true,\"type\":\"pie\"}]},\"layout\":{\"autotypenumbers\":\"strict\",\"colorway\":[\"#636efa\",\"#EF553B\",\"#00cc96\",\"#ab63fa\",\"#FFA15A\",\"#19d3f3\",\"#FF6692\",\"#B6E880\",\"#FF97FF\",\"#FECB52\"],\"font\":{\"color\":\"#2a3f5f\"},\"hovermode\":\"closest\",\"hoverlabel\":{\"align\":\"left\"},\"paper_bgcolor\":\"white\",\"plot_bgcolor\":\"#E5ECF6\",\"polar\":{\"bgcolor\":\"#E5ECF6\",\"angularaxis\":{\"gridcolor\":\"white\",\"linecolor\":\"white\",\"ticks\":\"\"},\"radialaxis\":{\"gridcolor\":\"white\",\"linecolor\":\"white\",\"ticks\":\"\"}},\"ternary\":{\"bgcolor\":\"#E5ECF6\",\"aaxis\":{\"gridcolor\":\"white\",\"linecolor\":\"white\",\"ticks\":\"\"},\"baxis\":{\"gridcolor\":\"white\",\"linecolor\":\"white\",\"ticks\":\"\"},\"caxis\":{\"gridcolor\":\"white\",\"linecolor\":\"white\",\"ticks\":\"\"}},\"coloraxis\":{\"colorbar\":{\"outlinewidth\":0,\"ticks\":\"\"}},\"colorscale\":{\"sequential\":[[0.0,\"#0d0887\"],[0.1111111111111111,\"#46039f\"],[0.2222222222222222,\"#7201a8\"],[0.3333333333333333,\"#9c179e\"],[0.4444444444444444,\"#bd3786\"],[0.5555555555555556,\"#d8576b\"],[0.6666666666666666,\"#ed7953\"],[0.7777777777777778,\"#fb9f3a\"],[0.8888888888888888,\"#fdca26\"],[1.0,\"#f0f921\"]],\"sequentialminus\":[[0.0,\"#0d0887\"],[0.1111111111111111,\"#46039f\"],[0.2222222222222222,\"#7201a8\"],[0.3333333333333333,\"#9c179e\"],[0.4444444444444444,\"#bd3786\"],[0.5555555555555556,\"#d8576b\"],[0.6666666666666666,\"#ed7953\"],[0.7777777777777778,\"#fb9f3a\"],[0.8888888888888888,\"#fdca26\"],[1.0,\"#f0f921\"]],\"diverging\":[[0,\"#8e0152\"],[0.1,\"#c51b7d\"],[0.2,\"#de77ae\"],[0.3,\"#f1b6da\"],[0.4,\"#fde0ef\"],[0.5,\"#f7f7f7\"],[0.6,\"#e6f5d0\"],[0.7,\"#b8e186\"],[0.8,\"#7fbc41\"],[0.9,\"#4d9221\"],[1,\"#276419\"]]},\"xaxis\":{\"gridcolor\":\"white\",\"linecolor\":\"white\",\"ticks\":\"\",\"title\":{\"standoff\":15},\"zerolinecolor\":\"white\",\"automargin\":true,\"zerolinewidth\":2},\"yaxis\":{\"gridcolor\":\"white\",\"linecolor\":\"white\",\"ticks\":\"\",\"title\":{\"standoff\":15},\"zerolinecolor\":\"white\",\"automargin\":true,\"zerolinewidth\":2},\"scene\":{\"xaxis\":{\"backgroundcolor\":\"#E5ECF6\",\"gridcolor\":\"white\",\"linecolor\":\"white\",\"showbackground\":true,\"ticks\":\"\",\"zerolinecolor\":\"white\",\"gridwidth\":2},\"yaxis\":{\"backgroundcolor\":\"#E5ECF6\",\"gridcolor\":\"white\",\"linecolor\":\"white\",\"showbackground\":true,\"ticks\":\"\",\"zerolinecolor\":\"white\",\"gridwidth\":2},\"zaxis\":{\"backgroundcolor\":\"#E5ECF6\",\"gridcolor\":\"white\",\"linecolor\":\"white\",\"showbackground\":true,\"ticks\":\"\",\"zerolinecolor\":\"white\",\"gridwidth\":2}},\"shapedefaults\":{\"line\":{\"color\":\"#2a3f5f\"}},\"annotationdefaults\":{\"arrowcolor\":\"#2a3f5f\",\"arrowhead\":0,\"arrowwidth\":1},\"geo\":{\"bgcolor\":\"white\",\"landcolor\":\"#E5ECF6\",\"subunitcolor\":\"white\",\"showland\":true,\"showlakes\":true,\"lakecolor\":\"white\"},\"title\":{\"x\":0.05},\"mapbox\":{\"style\":\"light\"}}},\"xaxis\":{\"anchor\":\"y\",\"domain\":[0.0,1.0],\"title\":{\"text\":\"Tissue Expression Level\"},\"categoryorder\":\"array\",\"categoryarray\":[\"Not detected\",\"Low\",\"Medium\",\"High\"],\"tickmode\":\"array\",\"tickvals\":[0,1,2,3],\"ticktext\":[\"Not detected\",\"Low\",\"Medium\",\"High\"]},\"yaxis\":{\"anchor\":\"x\",\"domain\":[0.0,1.0],\"title\":{}},\"legend\":{\"tracegroupgap\":0},\"margin\":{\"t\":60},\"height\":2100,\"title\":{\"text\":\"(HPA)\"},\"showlegend\":false,\"autosize\":true},                        {\"responsive\": true}                    ).then(function(){\n",
       "                            \n",
       "var gd = document.getElementById('b3ec80a8-d57b-48c0-b311-abad6c7e14df');\n",
       "var x = new MutationObserver(function (mutations, observer) {{\n",
       "        var display = window.getComputedStyle(gd).display;\n",
       "        if (!display || display === 'none') {{\n",
       "            console.log([gd, 'removed!']);\n",
       "            Plotly.purge(gd);\n",
       "            observer.disconnect();\n",
       "        }}\n",
       "}});\n",
       "\n",
       "// Listen for the removal of the full notebook cells\n",
       "var notebookContainer = gd.closest('#notebook-container');\n",
       "if (notebookContainer) {{\n",
       "    x.observe(notebookContainer, {childList: true});\n",
       "}}\n",
       "\n",
       "// Listen for the clearing of the current output cell\n",
       "var outputEl = gd.closest('.output');\n",
       "if (outputEl) {{\n",
       "    x.observe(outputEl, {childList: true});\n",
       "}}\n",
       "\n",
       "                        })                };                });            </script>        </div>"
      ]
     },
     "metadata": {},
     "output_type": "display_data"
    }
   ],
   "source": [
    "hpa.Tissue = hpa[\"Tissue\"] + \", \" + hpa[\"Cell.type\"]\n",
    "hpa = hpa[hpa['Reliability'] != \"Uncertain\"] \n",
    "gtexp['tissue_specificity'] = gtexp.tissue_specificity.fillna('NA')\n",
    "\n",
    "if c in gtexp.Name.values:\n",
    "    d = gtexp[gtexp['Name'] == c]\n",
    "    fig = px.strip(d, y=\"tissue\", x=\"value\",  \n",
    "                   orientation='h',\n",
    "                   stripmode=\"overlay\",\n",
    "                   hover_data=[\"tissue_specificity\"],\n",
    "                   height=30*d['tissue'].nunique())\n",
    "    fig.add_trace(go.Box(x=d['value'],\n",
    "                         y=d['tissue'],\n",
    "                         orientation='h',\n",
    "                         marker=dict(color='#636EFA'),\n",
    "                         name=\"n > 1\"))\n",
    "    fig.update_layout(title=\"(GTEx Proteomics)\",\n",
    "                      autosize=True,\n",
    "                      showlegend=False)\n",
    "    fig.update_xaxes(title=\"log2(relative abundance)\")\n",
    "    fig.update_yaxes(title=None)\n",
    "    fig.show()\n",
    "if c in hpm.index:\n",
    "    fig = px.scatter(hpm.loc[[c]], \n",
    "                     y=\"Tissue\", x=\"value\", \n",
    "                     height=20*hpm.loc[[c]].shape[0])\n",
    "    fig.update_layout(title=\"(HPM)\", \n",
    "                      autosize=True)\n",
    "    fig.update_xaxes(title=\"Average Spectral Counts\")\n",
    "    fig.update_yaxes(title=None)\n",
    "    fig.show()\n",
    "if c in hpa.index:\n",
    "    fig = px.scatter(hpa.loc[[c]], \n",
    "                     y=\"Tissue\", x=\"Level\", \n",
    "                     category_orders={\"Level\": [\"Not detected\", \"Low\", \"Medium\", \"High\"]}, \n",
    "                     hover_data=[\"Reliability\"],  \n",
    "                     hover_name=\"Tissue\",\n",
    "                     height=20*hpa.loc[[c]].shape[0])\n",
    "    fig.update_layout(title=\"(HPA)\", \n",
    "                      showlegend=False, \n",
    "                      autosize=True, \n",
    "                      xaxis={'tickmode':'array', \n",
    "                             'tickvals':[0, 1, 2, 3], \n",
    "                             'ticktext':[\"Not detected\", \"Low\", \"Medium\", \"High\"]})\n",
    "    fig.update_xaxes(title=\"Tissue Expression Level\")\n",
    "    fig.update_yaxes(title=None)\n",
    "    fig.show()"
   ]
  },
  {
   "cell_type": "code",
   "execution_count": 78,
   "id": "b0f387f6",
   "metadata": {},
   "outputs": [
    {
     "data": {
      "text/plain": [
       "618"
      ]
     },
     "execution_count": 78,
     "metadata": {},
     "output_type": "execute_result"
    }
   ],
   "source": [
    "len(df_bg_expr_archs4ext.columns.values)"
   ]
  },
  {
   "cell_type": "code",
   "execution_count": 79,
   "id": "ea9f6e69",
   "metadata": {},
   "outputs": [
    {
     "data": {
      "text/plain": [
       "81"
      ]
     },
     "execution_count": 79,
     "metadata": {},
     "output_type": "execute_result"
    }
   ],
   "source": [
    "len(df_bg_expr_archs4.columns.values)"
   ]
  },
  {
   "cell_type": "code",
   "execution_count": null,
   "id": "82766c3d",
   "metadata": {},
   "outputs": [],
   "source": []
  }
 ],
 "metadata": {
  "kernelspec": {
   "display_name": "Python 3 (ipykernel)",
   "language": "python",
   "name": "python3"
  },
  "language_info": {
   "codemirror_mode": {
    "name": "ipython",
    "version": 3
   },
   "file_extension": ".py",
   "mimetype": "text/x-python",
   "name": "python",
   "nbconvert_exporter": "python",
   "pygments_lexer": "ipython3",
   "version": "3.9.7"
  },
  "vscode": {
   "interpreter": {
    "hash": "a2759359f3b338f2fc7725ebbfe8c6d1cd5c4b1d9fa9bff9df6128cd4a361953"
   }
  }
 },
 "nbformat": 4,
 "nbformat_minor": 5
}
