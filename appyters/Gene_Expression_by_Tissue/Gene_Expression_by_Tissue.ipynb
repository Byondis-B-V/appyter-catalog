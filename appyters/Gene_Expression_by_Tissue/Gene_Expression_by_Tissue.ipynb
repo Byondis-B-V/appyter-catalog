{
 "cells": [
  {
   "cell_type": "code",
   "execution_count": null,
   "id": "02298265",
   "metadata": {},
   "outputs": [],
   "source": [
    "#%%appyter init\n",
    "from appyter import magic\n",
    "magic.init(lambda _=globals: _())"
   ]
  },
  {
   "cell_type": "code",
   "execution_count": null,
   "id": "7fd169e0",
   "metadata": {},
   "outputs": [],
   "source": [
    "%%appyter markdown\n",
    "\n",
    "# Gene and Protien Expression across Human Cells and Tissues\n",
    "This appyter takes the input of a human gene and displays its expression across human cells and tissues \n",
    "utilizing a variety of processed datasets from healthy tissues. If the gene is not contained in one of the datasets, a plot will not be produced for that resource."
   ]
  },
  {
   "cell_type": "code",
   "execution_count": null,
   "id": "2c870541",
   "metadata": {},
   "outputs": [],
   "source": [
    "%%appyter hide_code\n",
    "\n",
    "\n",
    "\n",
    "{% do SectionField(\n",
    "    name='primary',\n",
    "    title='Gene and Protien Expression across Human Cells and Tissues',\n",
    "    img ='gene-expr.png'\n",
    ") %}\n",
    "\n",
    "{% do DescriptionField(\n",
    "    name='data_file_description',\n",
    "    text='''\n",
    "    This appyter takes the input of a human gene and displays its expression across human cells and tissues \n",
    "    utilizing a variety of processed datasets from healthy tissues.\n",
    "    If the gene is not contained in one of the datasets, a plot will not be produced for that resource.''',\n",
    "    section='primary',\n",
    ") %}\n",
    "\n",
    "\n",
    "\n",
    "{% set gene = AutocompleteField(name = 'gene',\n",
    "                                label = 'Human gene symbol',\n",
    "                                default = 'A2M',\n",
    "                                description = 'Enter the gene of interest',\n",
    "                                choices = load_static(\"genes.json\"),\n",
    "                                section = 'primary'\n",
    ")%}\n"
   ]
  },
  {
   "cell_type": "code",
   "execution_count": null,
   "id": "1aec0415",
   "metadata": {},
   "outputs": [],
   "source": [
    "import numpy as np\n",
    "import pandas as pd\n",
    "import plotly.express as px\n",
    "import plotly.graph_objects as go\n",
    "import matplotlib.pyplot as plt\n",
    "from IPython.display import HTML, display, Markdown\n",
    "from maayanlab_bioinformatics.harmonization.ncbi_genes import ncbi_genes_lookup\n",
    "from maayanlab_bioinformatics.harmonization.transcripts import transcripts_to_genes\n",
    "lookup = ncbi_genes_lookup()\n"
   ]
  },
  {
   "cell_type": "code",
   "execution_count": null,
   "id": "3f23501f",
   "metadata": {},
   "outputs": [],
   "source": [
    "%%appyter code_exec\n",
    "gene = {{ gene }}"
   ]
  },
  {
   "cell_type": "code",
   "execution_count": null,
   "id": "bee96b04",
   "metadata": {},
   "outputs": [],
   "source": [
    "%%appyter markdown\n",
    "\n",
    "## Load in normal gene expression\n",
    "Utilize processed datasets containing gene expression by cell type and tissue ([GTEx](https://gtexportal.org/home/) [1] and [ARCHS4](https://maayanlab.cloud/archs4/) [2])\n",
    "\n",
    "\n",
    "[1] Lonsdale, John, et al. \"The genotype-tissue expression (GTEx) project.\" Nature genetics 45.6 (2013): 580-585. https://doi.org/10.1038/ng.265\n",
    "        \n",
    "[2] Lachmann A, Torre D, Keenan AB, Jagodnik KM, Lee HJ, Wang L, Silverstein MC, Ma'ayan A. Massive mining of publicly available RNA-seq data from human and mouse. Nature Communications 9. Article number: 1366 (2018), https://doi.org/10.1038/s41467-018-03751-6"
   ]
  },
  {
   "cell_type": "code",
   "execution_count": null,
   "id": "cb3d6c4e",
   "metadata": {},
   "outputs": [],
   "source": [
    "df_bg_stats_gtex = pd.read_csv(\"s3://storage/Tumor_Gene_Target_Screener/gtex-gene-stats.tsv\", storage_options=dict(client_kwargs=dict(endpoint_url=\"https://appyters.maayanlab.cloud\"), anon=True), sep='\\t', index_col=[0,1])\n",
    "df_bg_genes_gtex = df_bg_stats_gtex.unstack().index.map(lambda idx: lookup(idx.partition('.')[0]))\n",
    "df_bg_stats_gtex = df_bg_stats_gtex.unstack().groupby(df_bg_genes_gtex, observed=True).median().stack()\n",
    "df_bg_expr_gtex = df_bg_stats_gtex.loc[(slice(None), ['25%', '50%', '75%']), :].unstack()"
   ]
  },
  {
   "cell_type": "code",
   "execution_count": null,
   "id": "06be2886",
   "metadata": {},
   "outputs": [],
   "source": [
    "df_bg_stats_archs4 = pd.read_csv(\"s3://storage/Tumor_Gene_Target_Screener/archs4-gene-anatomy-stats.tsv\", storage_options=dict(client_kwargs=dict(endpoint_url=\"https://appyters.maayanlab.cloud\"), anon=True), sep='\\t', index_col=[0,1])\n",
    "df_bg_genes_archs4 = df_bg_stats_archs4.unstack().index.map(lambda idx: lookup(idx.partition('.')[0]))\n",
    "df_bg_stats_archs4 = df_bg_stats_archs4.unstack().groupby(df_bg_genes_archs4, observed=True).median().stack()\n",
    "df_bg_expr_archs4 = df_bg_stats_archs4.loc[(slice(None), ['25%', '50%', '75%']), :].unstack()"
   ]
  },
  {
   "cell_type": "code",
   "execution_count": null,
   "id": "652d6796",
   "metadata": {},
   "outputs": [],
   "source": [
    "df_bg_stats_archs4ext = pd.read_csv(\"s3://storage/Tumor_Gene_Target_Screener/archs4-gene-extra-stats.tsv\", storage_options=dict(client_kwargs=dict(endpoint_url=\"https://appyters.maayanlab.cloud\"), anon=True), sep='\\t', index_col=[0,1])\n",
    "df_bg_genes_archs4ext = df_bg_stats_archs4ext.unstack().index.map(lambda idx: lookup(idx.partition('.')[0]))\n",
    "df_bg_stats_archs4ext = df_bg_stats_archs4ext.unstack().groupby(df_bg_genes_archs4ext, observed=True).median().stack()\n",
    "df_bg_expr_archs4ext = df_bg_stats_archs4ext.loc[(slice(None), ['25%', '50%', '75%']), :].unstack()"
   ]
  },
  {
   "cell_type": "code",
   "execution_count": null,
   "id": "f8dadf42",
   "metadata": {},
   "outputs": [],
   "source": [
    "# Show available genes in each dataset\n",
    "available = pd.DataFrame({'Selected Gene': [gene], \n",
    "                          'in GTEx - Gene': [gene in df_bg_expr_gtex.index], \n",
    "                          'in ARCHS4 Gene - Extra': [gene in df_bg_expr_archs4ext.index]})\n",
    "display(HTML(available.to_html(notebook=True, escape=False)))"
   ]
  },
  {
   "cell_type": "code",
   "execution_count": null,
   "id": "520b08ce",
   "metadata": {},
   "outputs": [],
   "source": [
    "%%appyter markdown\n",
    "\n",
    "## Load plots based on the selected gene"
   ]
  },
  {
   "cell_type": "code",
   "execution_count": null,
   "id": "987d0278",
   "metadata": {},
   "outputs": [],
   "source": [
    "c = gene\n",
    "\n",
    "if c in df_bg_expr_gtex.index.values:\n",
    "    display(Markdown(f\"### {c}\"))\n",
    "    IQR = df_bg_stats_gtex.loc[(c, '75%')]-df_bg_stats_gtex.loc[(c, '25%')]\n",
    "    fig = go.Figure()\n",
    "    fig.add_trace(go.Box(\n",
    "        lowerfence=np.maximum(\n",
    "            df_bg_stats_gtex.loc[(c, 'min')],\n",
    "            df_bg_stats_gtex.loc[(c, '25%')] - (1.5*IQR),\n",
    "        ),\n",
    "        q1=df_bg_stats_gtex.loc[(c, '25%')],\n",
    "        median=df_bg_stats_gtex.loc[(c, '50%')],\n",
    "        q3=df_bg_stats_gtex.loc[(c, '75%')],\n",
    "        upperfence=np.minimum(\n",
    "            df_bg_stats_gtex.loc[(c, 'max')],\n",
    "            df_bg_stats_gtex.loc[(c, '75%')] + (1.5*IQR),\n",
    "        ),\n",
    "        mean=df_bg_stats_gtex.loc[(c, 'mean')],\n",
    "        sd=df_bg_stats_gtex.loc[(c, 'std')],\n",
    "        y=df_bg_stats_gtex.columns,\n",
    "        name='Background',\n",
    "        orientation='h'\n",
    "    ))\n",
    "    fig.update_layout(title=c+ \" (RNA-seq) GTEx\", height=1200)\n",
    "    fig.show()\n",
    "    \n",
    "if c in df_bg_expr_archs4.index.values:\n",
    "    IQR = df_bg_stats_archs4.loc[(c, '75%')]-df_bg_stats_archs4.loc[(c, '25%')]\n",
    "    fig = go.Figure()\n",
    "    fig.add_trace(go.Box(\n",
    "        lowerfence=np.maximum(\n",
    "            df_bg_stats_archs4ext.loc[(c, 'min')],\n",
    "            df_bg_stats_archs4ext.loc[(c, '25%')] - (1.5*IQR),\n",
    "        ),\n",
    "        q1=df_bg_stats_archs4.loc[(c, '25%')],\n",
    "        median=df_bg_stats_archs4ext.loc[(c, '50%')],\n",
    "        q3=df_bg_stats_archs4.loc[(c, '75%')],\n",
    "        upperfence=np.minimum(\n",
    "            df_bg_stats_archs4.loc[(c, 'max')],\n",
    "            df_bg_stats_archs4.loc[(c, '75%')] + (1.5*IQR),\n",
    "        ),\n",
    "        mean=df_bg_stats_archs4.loc[(c, 'mean')],\n",
    "        sd=df_bg_stats_archs4.loc[(c, 'std')],\n",
    "        y=df_bg_stats_archs4.columns,\n",
    "        name='Background',\n",
    "        orientation='h'\n",
    "    ))\n",
    "    fig.update_layout(title=c+ \" (RNA-seq) ARCHS4\", height=1500)\n",
    "    fig.show()\n",
    "    \n",
    "if c in df_bg_expr_archs4ext.index.values:\n",
    "    IQR = df_bg_stats_archs4ext.loc[(c, '75%')]-df_bg_stats_archs4ext.loc[(c, '25%')]\n",
    "    fig = go.Figure()\n",
    "    fig.add_trace(go.Box(\n",
    "        lowerfence=np.maximum(\n",
    "            df_bg_stats_archs4ext.loc[(c, 'min')],\n",
    "            df_bg_stats_archs4ext.loc[(c, '25%')] - (1.5*IQR),\n",
    "        ),\n",
    "        q1=df_bg_stats_archs4ext.loc[(c, '25%')],\n",
    "        median=df_bg_stats_archs4ext.loc[(c, '50%')],\n",
    "        q3=df_bg_stats_archs4ext.loc[(c, '75%')],\n",
    "        upperfence=np.minimum(\n",
    "            df_bg_stats_archs4ext.loc[(c, 'max')],\n",
    "            df_bg_stats_archs4ext.loc[(c, '75%')] + (1.5*IQR),\n",
    "        ),\n",
    "        mean=df_bg_stats_archs4ext.loc[(c, 'mean')],\n",
    "        sd=df_bg_stats_archs4ext.loc[(c, 'std')],\n",
    "        y=df_bg_stats_archs4ext.columns,\n",
    "        name='Background',\n",
    "        orientation='h'\n",
    "    ))\n",
    "    fig.update_layout(title=c+ \" (RNA-seq) ARCHS4\", height=5000)\n",
    "    fig.show()\n",
    "    "
   ]
  },
  {
   "cell_type": "code",
   "execution_count": null,
   "id": "89086abf",
   "metadata": {},
   "outputs": [],
   "source": [
    "%%appyter markdown\n",
    "\n",
    "## Proteomics Expression Levels\n",
    "\n",
    "Proteomics data were obtained from the [Human Protein Atlas](https://www.proteinatlas.org/about/download) (HPA) [3] with IHC-based expression profiling, the [Human Proteome Map](https://www.humanproteomemap.org/download.php) (HPM) [4] with MS-based expression quantification, and a [GTEx proteome project](https://doi.org/10.1016/j.cell.2020.08.036) [5] using TMT MS. \n",
    "These datasets contain protein expression levels detected in normal tissues and cell types. The gene may not be present in the data from each project (see table for which proteomics data are present/absent). Plots show expression levels (HPA), average spectral counts (HPM), or a log-transformed relative abundance (GTEx) by tissue/cell-type for each gene candidate (excluding expression levels from the HPA where the [reliability score](https://www.proteinatlas.org/about/assays+annotation) was uncertain). \n",
    "\n",
    "\n",
    "[3] Uhlén M et al. \"Tissue-based map of the human proteome.\" Science (New York, N.Y.) vol. 347,6220 (2015): 1260419. https://doi.org/10.1126/science.1260419\n",
    "\n",
    "[4] Kim, Min-Sik et al. “A draft map of the human proteome.” Nature vol. 509,7502 (2014): 575-81. https://doi.org/10.1038/nature13302\n",
    "\n",
    "[5] Jiang, Lihua et al. “A Quantitative Proteome Map of the Human Body.” Cell vol. 183,1 (2020): 269-283.e19. https://doi.org/10.1016/j.cell.2020.08.036"
   ]
  },
  {
   "cell_type": "code",
   "execution_count": null,
   "id": "d29c79e6",
   "metadata": {},
   "outputs": [],
   "source": [
    "hpm = pd.read_csv(\"s3://storage/Tumor_Gene_Target_Screener/hpm.tsv\", storage_options=dict(client_kwargs=dict(endpoint_url=\"https://appyters.maayanlab.cloud\"), anon=True), sep='\\t', header=0, index_col=0)\n",
    "hpa = pd.read_csv(\"s3://storage/Tumor_Gene_Target_Screener/hpa.tsv\", storage_options=dict(client_kwargs=dict(endpoint_url=\"https://appyters.maayanlab.cloud\"), anon=True), sep='\\t', header=0, index_col=1)\n",
    "gtexp = pd.read_csv(\"s3://storage/Tumor_Gene_Target_Screener/gtex_proteomics.tsv\", storage_options=dict(client_kwargs=dict(endpoint_url=\"https://appyters.maayanlab.cloud\"), anon=True), sep='\\t', header=0)\n",
    "gtexp['Name'] = gtexp['gene.id'].map(lambda idx: lookup(idx))"
   ]
  },
  {
   "cell_type": "code",
   "execution_count": null,
   "id": "77f418d8",
   "metadata": {},
   "outputs": [],
   "source": [
    "# Show available genes in each dataset\n",
    "available = pd.DataFrame({'Selected Gene': [gene], \n",
    "                          'in HPM': [gene in hpm.index], \n",
    "                          'in HPA': [gene in hpa.index],\n",
    "                          'in GTEx Proteomics': [gene in gtexp.Name.values]})\n",
    "display(HTML(available.to_html(notebook=True, escape=False)))"
   ]
  },
  {
   "cell_type": "code",
   "execution_count": null,
   "id": "d9d5b9c9",
   "metadata": {},
   "outputs": [],
   "source": [
    "hpa.Tissue = hpa[\"Tissue\"] + \", \" + hpa[\"Cell.type\"]\n",
    "hpa = hpa[hpa['Reliability'] != \"Uncertain\"] \n",
    "gtexp['tissue_specificity'] = gtexp.tissue_specificity.fillna('NA')\n",
    "\n",
    "if c in gtexp.Name.values:\n",
    "    d = gtexp[gtexp['Name'] == c]\n",
    "    fig = px.strip(d, y=\"tissue\", x=\"value\",  \n",
    "                   orientation='h',\n",
    "                   stripmode=\"overlay\",\n",
    "                   hover_data=[\"tissue_specificity\"],\n",
    "                   height=30*d['tissue'].nunique())\n",
    "    fig.add_trace(go.Box(x=d['value'],\n",
    "                         y=d['tissue'],\n",
    "                         orientation='h',\n",
    "                         marker=dict(color='#636EFA'),\n",
    "                         name=\"n > 1\"))\n",
    "    fig.update_layout(title=c + \" (GTEx Proteomics)\",\n",
    "                      autosize=True,\n",
    "                      showlegend=False)\n",
    "    fig.update_xaxes(title=\"log2(relative abundance)\")\n",
    "    fig.update_yaxes(title=None)\n",
    "    fig.show()\n",
    "if c in hpm.index:\n",
    "    fig = px.scatter(hpm.loc[[c]], \n",
    "                     y=\"Tissue\", x=\"value\", \n",
    "                     height=20*hpm.loc[[c]].shape[0])\n",
    "    fig.update_layout(title=c + \" (HPM)\", \n",
    "                      autosize=True)\n",
    "    fig.update_xaxes(title=\"Average Spectral Counts\")\n",
    "    fig.update_yaxes(title=None)\n",
    "    fig.show()\n",
    "if c in hpa.index:\n",
    "    fig = px.scatter(hpa.loc[[c]], \n",
    "                     y=\"Tissue\", x=\"Level\", \n",
    "                     category_orders={\"Level\": [\"Not detected\", \"Low\", \"Medium\", \"High\"]}, \n",
    "                     hover_data=[\"Reliability\"],  \n",
    "                     hover_name=\"Tissue\",\n",
    "                     height=20*hpa.loc[[c]].shape[0])\n",
    "    fig.update_layout(title=c + \" (HPA)\", \n",
    "                      showlegend=False, \n",
    "                      autosize=True, \n",
    "                      xaxis={'tickmode':'array', \n",
    "                             'tickvals':[0, 1, 2, 3], \n",
    "                             'ticktext':[\"Not detected\", \"Low\", \"Medium\", \"High\"]})\n",
    "    fig.update_xaxes(title=\"Tissue Expression Level\")\n",
    "    fig.update_yaxes(title=None)\n",
    "    fig.show()"
   ]
  }
 ],
 "metadata": {
  "kernelspec": {
   "display_name": "Python 3 (ipykernel)",
   "language": "python",
   "name": "python3"
  },
  "language_info": {
   "codemirror_mode": {
    "name": "ipython",
    "version": 3
   },
   "file_extension": ".py",
   "mimetype": "text/x-python",
   "name": "python",
   "nbconvert_exporter": "python",
   "pygments_lexer": "ipython3",
   "version": "3.7.7"
  },
  "vscode": {
   "interpreter": {
    "hash": "e774977668b7c0ae8309835a5187aa7fbf7669e7d0bb59755bc63e573643edcd"
   }
  }
 },
 "nbformat": 4,
 "nbformat_minor": 5
}
