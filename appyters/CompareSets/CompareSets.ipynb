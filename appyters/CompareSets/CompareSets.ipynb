{
 "cells": [
  {
   "cell_type": "code",
   "execution_count": 29,
   "metadata": {},
   "outputs": [],
   "source": [
    "#%%appyter init\n",
    "from appyter import magic\n",
    "magic.init(lambda _=globals: _())"
   ]
  },
  {
   "cell_type": "markdown",
   "metadata": {},
   "source": [
    "# Compare Sets Appyter\n",
    "#### This appyter creates a Venn diagram to visualize the intersections between 2-6 user-inputted gene sets. The user has a choice whether to uplaod a tsv file with the desired genes or to insert the genes into text boxes. "
   ]
  },
  {
   "cell_type": "code",
   "execution_count": 32,
   "metadata": {},
   "outputs": [],
   "source": [
    "# Imports\n",
    "## Venn Diagram\n",
    "from venn import venn, pseudovenn\n",
    "\n",
    "## Data Processing\n",
    "import csv\n",
    "\n",
    "## Link to Enrichr\n",
    "import requests\n",
    "import json\n",
    "import time\n",
    "from IPython.display import display, FileLink, Markdown\n",
    "\n",
    "## Importing for UpSet Plots\n",
    "from ipywidgets import interact\n",
    "from upsetjs_jupyter_widget import UpSetWidget\n",
    "\n",
    "%matplotlib inline"
   ]
  },
  {
   "cell_type": "code",
   "execution_count": 30,
   "metadata": {},
   "outputs": [],
   "source": [
    "%%appyter hide_code\n",
    "{% do SectionField(name='section0', title='Compare Gene Sets', subtitle='Create a venn diagram to compare your inputted gene sets', img = 'venndiagram.png') %}\n",
    "{% do SectionField(name='section1', title='1. Submit Your Gene Lists', subtitle = 'Upload text files containing your gene list -OR- copy and paste your gene list into each text box below (One gene per row).', img = 'bulb.png') %}\n"
   ]
  },
  {
   "cell_type": "markdown",
   "metadata": {},
   "source": [
    "## Input Gene Lists"
   ]
  },
  {
   "cell_type": "code",
   "execution_count": 31,
   "metadata": {},
   "outputs": [
    {
     "data": {
      "text/markdown": [
       "```python\n",
       "gs1 = ''\n",
       "gs2 = ''\n",
       "gs3 = ''\n",
       "gs4 = ''\n",
       "gs5 = ''\n",
       "gs6 = ''\n",
       "gs1Text = '''BRCA1\n",
       "BRCA2'''\n",
       "gs2Text = ''''''\n",
       "gs3Text = ''''''\n",
       "gs4Text = ''''''\n",
       "gs5Text = ''''''\n",
       "gs6Text = ''''''\n",
       "```"
      ],
      "text/plain": [
       "<IPython.core.display.Markdown object>"
      ]
     },
     "metadata": {},
     "output_type": "display_data"
    }
   ],
   "source": [
    "%%appyter code_exec\n",
    "\n",
    "gs1 = {{ FileField(name = 'gs1', label = 'Gene Set 1 File', default = '', section = 'section1') }}\n",
    "gs2 = {{ FileField(name = 'gs2', label = 'Gene Set 2 File', default = '', section = 'section1') }}\n",
    "gs3 = {{ FileField(name = 'gs3', label = 'Gene Set 3 File', default = '', section = 'section1') }}\n",
    "gs4 = {{ FileField(name = 'gs4', label = 'Gene Set 4 File', default = '', section = 'section1') }}\n",
    "gs5 = {{ FileField(name = 'gs5', label = 'Gene Set 5 File', default = '', section = 'section1') }}\n",
    "gs6 = {{ FileField(name = 'gs6', label = 'Gene Set 6 File', default = '', section = 'section1') }}\n",
    "\n",
    "\n",
    "gs1Text = {{ TextField(name = 'gs1Text', label = 'Gene Set 1', default = '''TRPV1\n",
    "OPRM1\n",
    "TRPA1\n",
    "COMT\n",
    "SCN9A\n",
    "TNF\n",
    "IL6\n",
    "IL1B\n",
    "CRP\n",
    "BDNF\n",
    "NGF\n",
    "SLC6A4\n",
    "MEFV\n",
    "TRPM8\n",
    "TRPV4\n",
    "CALCA\n",
    "NTRK1\n",
    "TLR4\n",
    "ASIC3\n",
    "SCN10A\n",
    "MMP9\n",
    "CNR1\n",
    "IL10\n",
    "CCL2\n",
    "TNNT2\n",
    "NPPB\n",
    "PTGS2\n",
    "CYP2D6\n",
    "P2RX3\n",
    "TACR1''', section = 'section1') }}\n",
    "gs2Text = {{ TextField(name = 'gs2Text', label = 'Gene Set 2', default = '''TNF\n",
    "TRPV1\n",
    "CRP\n",
    "FOS\n",
    "PTGS2\n",
    "NGF\n",
    "TRPA1\n",
    "BDNF\n",
    "CD34\n",
    "POMC\n",
    "IVD\n",
    "IL10\n",
    "ACE\n",
    "CASP3\n",
    "CCL2\n",
    "TLR4\n",
    "GFAP\n",
    "TRPM8\n",
    "IL6\n",
    "CD68\n",
    "KIT\n",
    "OPRM1\n",
    "SCN9A\n",
    "CYP2D6\n",
    "COMT\n",
    "CEACAM5\n",
    "GDNF\n",
    "NPY\n",
    "PTH\n",
    "TRPV4''', section = 'section1') }}\n",
    "gs3Text = {{ TextField(name = 'gs3Text', label = 'Gene Set 3', default = '''OPRD1\n",
    "TRPV1\n",
    "TRPA1\n",
    "SCN9A\n",
    "OPRM1\n",
    "TRPM8\n",
    "TACR1\n",
    "OPRK1\n",
    "TAC1\n",
    "SCN3B\n",
    "KCNS1\n",
    "TRPV3\n",
    "TRPV4\n",
    "CACNA1B\n",
    "CACNA2D2\n",
    "SCN11A\n",
    "NTRK1\n",
    "PENK\n",
    "SCN1B\n",
    "OPRL1\n",
    "PDYN\n",
    "TRPV2\n",
    "HTR3C\n",
    "HTR3A\n",
    "COMT\n",
    "P2RX3\n",
    "TRPM5\n",
    "DRD2\n",
    "NGFR\n",
    "FAAH\n",
    "ASIC3\n",
    "PNOC\n",
    "HTR3B\n",
    "TRPM4\n",
    "CACNA2D3\n",
    "BDKRB1\n",
    "ASIC4\n",
    "HTR2A\n",
    "KCNC2\n",
    "CHRM4\n",
    "TRPM3\n",
    "HTR3E\n",
    "CACNG2\n",
    "CHRNA7\n",
    "SCN10A''', section = 'section1') }}\n",
    "gs4Text = {{ TextField(name = 'gs4Text', label = 'Gene Set 4', default = '', section = 'section1') }}\n",
    "gs5Text = {{ TextField(name = 'gs5Text', label = 'Gene Set 5', default = '', section = 'section1') }}\n",
    "gs6Text = {{ TextField(name = 'gs6Text', label = 'Gene Set 6', default = '', section = 'section1') }}"
   ]
  },
  {
   "cell_type": "markdown",
   "metadata": {},
   "source": [
    "## Convert Inputs into Lists"
   ]
  },
  {
   "cell_type": "code",
   "execution_count": 33,
   "metadata": {},
   "outputs": [
    {
     "data": {
      "text/markdown": [
       "```python\n",
       "# Helper functions to conver the file upload or text input into gene lists\n",
       "def file_to_list(str):\n",
       "    l1 = []\n",
       "    tsv_file = open(str)\n",
       "    read_tsv = csv.reader(tsv_file, delimiter = '\\t')\n",
       "    for row in read_tsv:\n",
       "        l1.append(row[0])\n",
       "    tsv_file.close()\n",
       "    return l1\n",
       "def text_to_list(str):\n",
       "    l1 = str.splitlines()\n",
       "    return l1\n",
       "```"
      ],
      "text/plain": [
       "<IPython.core.display.Markdown object>"
      ]
     },
     "metadata": {},
     "output_type": "display_data"
    }
   ],
   "source": [
    "%%appyter code_exec\n",
    "# Helper functions to conver the file upload or text input into gene lists\n",
    "def file_to_list(str):\n",
    "    l1 = []\n",
    "    tsv_file = open(str)\n",
    "    read_tsv = csv.reader(tsv_file, delimiter = '\\t')\n",
    "\n",
    "    for row in read_tsv:\n",
    "        l1.append(row[0])\n",
    "\n",
    "    tsv_file.close()\n",
    "    return l1\n",
    "\n",
    "def text_to_list(str):\n",
    "    l1 = str.splitlines()\n",
    "    return l1\n"
   ]
  },
  {
   "cell_type": "code",
   "execution_count": 34,
   "metadata": {},
   "outputs": [],
   "source": [
    "# Add the appropriate gene lists to the dictionary\n",
    "\n",
    "gsdict = {}\n",
    "\n",
    "if gs1 != '':\n",
    "    l1 = file_to_list(gs1)\n",
    "    gsdict[\"Gene Set 1\"] = set(l1)\n",
    "\n",
    "elif gs1Text != '''''':\n",
    "    l1 = text_to_list(gs1Text)\n",
    "    gsdict[\"Gene Set 1\"] = set(l1)\n",
    "\n",
    "if gs2 != '':\n",
    "    l2 = file_to_list(gs2)\n",
    "    gsdict[\"Gene Set 2\"] = set(l2)\n",
    "\n",
    "elif gs2Text != '''''':\n",
    "    l2 = text_to_list(gs2Text)\n",
    "    gsdict[\"Gene Set 2\"] = set(l2)\n",
    "\n",
    "if gs3 != '':\n",
    "    l3 = file_to_list(gs3)\n",
    "    gsdict[\"Gene Set 3\"] = set(l3)\n",
    "\n",
    "elif gs3Text != '''''':\n",
    "    l3 = text_to_list(gs3Text)\n",
    "    gsdict[\"Gene Set 3\"] = set(l3)\n",
    "\n",
    "if gs4 != '':\n",
    "    l4 = file_to_list(gs4)\n",
    "    gsdict[\"Gene Set 4\"] = set(l4)\n",
    "\n",
    "elif gs4Text != '''''':\n",
    "    l4 = text_to_list(gs4Text)\n",
    "    gsdict[\"Gene Set 4\"] = set(l4)\n",
    "\n",
    "if gs5 != '':\n",
    "    l5 = file_to_list(gs5)\n",
    "    gsdict[\"Gene Set 5\"] = set(l5)\n",
    "\n",
    "elif gs5Text != '''''':\n",
    "    l5 = text_to_list(gs5Text)\n",
    "    gsdict[\"Gene Set 5\"] = set(l5)\n",
    "\n",
    "if gs6 != '':\n",
    "    l6 = file_to_list(gs6)\n",
    "    gsdict[\"Gene Set 6\"] = set(l6)\n",
    "\n",
    "elif gs6Text != '''''':\n",
    "    l6 = text_to_list(gs6Text)\n",
    "    gsdict[\"Gene set 6\"] = set(l6)\n"
   ]
  },
  {
   "cell_type": "markdown",
   "metadata": {},
   "source": [
    "## Draw Venn Diagram"
   ]
  },
  {
   "cell_type": "code",
   "execution_count": 35,
   "metadata": {},
   "outputs": [
    {
     "ename": "ValueError",
     "evalue": "n_colors must be an integer between 2 and 6",
     "output_type": "error",
     "traceback": [
      "\u001b[0;31m---------------------------------------------------------------------------\u001b[0m",
      "\u001b[0;31mValueError\u001b[0m                                Traceback (most recent call last)",
      "\u001b[0;32m<ipython-input-35-65a40a5ccbc2>\u001b[0m in \u001b[0;36m<module>\u001b[0;34m\u001b[0m\n\u001b[1;32m      1\u001b[0m \u001b[0;31m# Generate the venn diagram\u001b[0m\u001b[0;34m\u001b[0m\u001b[0;34m\u001b[0m\u001b[0;34m\u001b[0m\u001b[0m\n\u001b[0;32m----> 2\u001b[0;31m \u001b[0mvenn\u001b[0m\u001b[0;34m(\u001b[0m\u001b[0mgsdict\u001b[0m\u001b[0;34m)\u001b[0m\u001b[0;34m\u001b[0m\u001b[0;34m\u001b[0m\u001b[0m\n\u001b[0m\u001b[1;32m      3\u001b[0m \u001b[0;34m\u001b[0m\u001b[0m\n\u001b[1;32m      4\u001b[0m \u001b[0;32mif\u001b[0m \u001b[0mlen\u001b[0m\u001b[0;34m(\u001b[0m\u001b[0mgsdict\u001b[0m\u001b[0;34m)\u001b[0m \u001b[0;34m==\u001b[0m \u001b[0;36m6\u001b[0m\u001b[0;34m:\u001b[0m\u001b[0;34m\u001b[0m\u001b[0;34m\u001b[0m\u001b[0m\n\u001b[1;32m      5\u001b[0m     \u001b[0mpseudovenn\u001b[0m\u001b[0;34m(\u001b[0m\u001b[0mgsdict\u001b[0m\u001b[0;34m)\u001b[0m\u001b[0;34m\u001b[0m\u001b[0;34m\u001b[0m\u001b[0m\n",
      "\u001b[0;32m~/Documents/my-first-appyter/venv/lib/python3.8/site-packages/venn/_venn.py\u001b[0m in \u001b[0;36mvenn_dispatch\u001b[0;34m(data, func, fmt, hint_hidden, cmap, alpha, figsize, fontsize, legend_loc, ax)\u001b[0m\n\u001b[1;32m    192\u001b[0m         \u001b[0mpetal_labels\u001b[0m\u001b[0;34m=\u001b[0m\u001b[0mgenerate_petal_labels\u001b[0m\u001b[0;34m(\u001b[0m\u001b[0mdata\u001b[0m\u001b[0;34m.\u001b[0m\u001b[0mvalues\u001b[0m\u001b[0;34m(\u001b[0m\u001b[0;34m)\u001b[0m\u001b[0;34m,\u001b[0m \u001b[0mfmt\u001b[0m\u001b[0;34m)\u001b[0m\u001b[0;34m,\u001b[0m\u001b[0;34m\u001b[0m\u001b[0;34m\u001b[0m\u001b[0m\n\u001b[1;32m    193\u001b[0m         \u001b[0mdataset_labels\u001b[0m\u001b[0;34m=\u001b[0m\u001b[0mdata\u001b[0m\u001b[0;34m.\u001b[0m\u001b[0mkeys\u001b[0m\u001b[0;34m(\u001b[0m\u001b[0;34m)\u001b[0m\u001b[0;34m,\u001b[0m \u001b[0mhint_hidden\u001b[0m\u001b[0;34m=\u001b[0m\u001b[0mhint_hidden\u001b[0m\u001b[0;34m,\u001b[0m\u001b[0;34m\u001b[0m\u001b[0;34m\u001b[0m\u001b[0m\n\u001b[0;32m--> 194\u001b[0;31m         \u001b[0mcolors\u001b[0m\u001b[0;34m=\u001b[0m\u001b[0mgenerate_colors\u001b[0m\u001b[0;34m(\u001b[0m\u001b[0mn_colors\u001b[0m\u001b[0;34m=\u001b[0m\u001b[0mn_sets\u001b[0m\u001b[0;34m,\u001b[0m \u001b[0mcmap\u001b[0m\u001b[0;34m=\u001b[0m\u001b[0mcmap\u001b[0m\u001b[0;34m,\u001b[0m \u001b[0malpha\u001b[0m\u001b[0;34m=\u001b[0m\u001b[0malpha\u001b[0m\u001b[0;34m)\u001b[0m\u001b[0;34m,\u001b[0m\u001b[0;34m\u001b[0m\u001b[0;34m\u001b[0m\u001b[0m\n\u001b[0m\u001b[1;32m    195\u001b[0m         \u001b[0mfigsize\u001b[0m\u001b[0;34m=\u001b[0m\u001b[0mfigsize\u001b[0m\u001b[0;34m,\u001b[0m \u001b[0mfontsize\u001b[0m\u001b[0;34m=\u001b[0m\u001b[0mfontsize\u001b[0m\u001b[0;34m,\u001b[0m \u001b[0mlegend_loc\u001b[0m\u001b[0;34m=\u001b[0m\u001b[0mlegend_loc\u001b[0m\u001b[0;34m,\u001b[0m \u001b[0max\u001b[0m\u001b[0;34m=\u001b[0m\u001b[0max\u001b[0m\u001b[0;34m\u001b[0m\u001b[0;34m\u001b[0m\u001b[0m\n\u001b[1;32m    196\u001b[0m     )\n",
      "\u001b[0;32m~/Documents/my-first-appyter/venv/lib/python3.8/site-packages/venn/_venn.py\u001b[0m in \u001b[0;36mgenerate_colors\u001b[0;34m(cmap, n_colors, alpha)\u001b[0m\n\u001b[1;32m     11\u001b[0m     \u001b[0;34m\"\"\"Generate colors from matplotlib colormap; pass list to use exact colors\"\"\"\u001b[0m\u001b[0;34m\u001b[0m\u001b[0;34m\u001b[0m\u001b[0m\n\u001b[1;32m     12\u001b[0m     \u001b[0;32mif\u001b[0m \u001b[0;32mnot\u001b[0m \u001b[0misinstance\u001b[0m\u001b[0;34m(\u001b[0m\u001b[0mn_colors\u001b[0m\u001b[0;34m,\u001b[0m \u001b[0mint\u001b[0m\u001b[0;34m)\u001b[0m \u001b[0;32mor\u001b[0m \u001b[0;34m(\u001b[0m\u001b[0mn_colors\u001b[0m \u001b[0;34m<\u001b[0m \u001b[0;36m2\u001b[0m\u001b[0;34m)\u001b[0m \u001b[0;32mor\u001b[0m \u001b[0;34m(\u001b[0m\u001b[0mn_colors\u001b[0m \u001b[0;34m>\u001b[0m \u001b[0;36m6\u001b[0m\u001b[0;34m)\u001b[0m\u001b[0;34m:\u001b[0m\u001b[0;34m\u001b[0m\u001b[0;34m\u001b[0m\u001b[0m\n\u001b[0;32m---> 13\u001b[0;31m         \u001b[0;32mraise\u001b[0m \u001b[0mValueError\u001b[0m\u001b[0;34m(\u001b[0m\u001b[0;34m\"n_colors must be an integer between 2 and 6\"\u001b[0m\u001b[0;34m)\u001b[0m\u001b[0;34m\u001b[0m\u001b[0;34m\u001b[0m\u001b[0m\n\u001b[0m\u001b[1;32m     14\u001b[0m     \u001b[0;32mif\u001b[0m \u001b[0misinstance\u001b[0m\u001b[0;34m(\u001b[0m\u001b[0mcmap\u001b[0m\u001b[0;34m,\u001b[0m \u001b[0mlist\u001b[0m\u001b[0;34m)\u001b[0m\u001b[0;34m:\u001b[0m\u001b[0;34m\u001b[0m\u001b[0;34m\u001b[0m\u001b[0m\n\u001b[1;32m     15\u001b[0m         \u001b[0mcolors\u001b[0m \u001b[0;34m=\u001b[0m \u001b[0;34m[\u001b[0m\u001b[0mto_rgba\u001b[0m\u001b[0;34m(\u001b[0m\u001b[0mcolor\u001b[0m\u001b[0;34m,\u001b[0m \u001b[0malpha\u001b[0m\u001b[0;34m=\u001b[0m\u001b[0malpha\u001b[0m\u001b[0;34m)\u001b[0m \u001b[0;32mfor\u001b[0m \u001b[0mcolor\u001b[0m \u001b[0;32min\u001b[0m \u001b[0mcmap\u001b[0m\u001b[0;34m]\u001b[0m\u001b[0;34m\u001b[0m\u001b[0;34m\u001b[0m\u001b[0m\n",
      "\u001b[0;31mValueError\u001b[0m: n_colors must be an integer between 2 and 6"
     ]
    }
   ],
   "source": [
    "# Generate the venn diagram\n",
    "venn(gsdict)\n",
    "\n",
    "if len(gsdict) == 6:\n",
    "    pseudovenn(gsdict)"
   ]
  }
 ],
 "metadata": {
  "kernelspec": {
   "display_name": "my-first-appyter",
   "language": "python",
   "name": "my-first-appyter"
  },
  "language_info": {
   "codemirror_mode": {
    "name": "ipython",
    "version": 3
   },
   "file_extension": ".py",
   "mimetype": "text/x-python",
   "name": "python",
   "nbconvert_exporter": "python",
   "pygments_lexer": "ipython3",
   "version": "3.8.3"
  }
 },
 "nbformat": 4,
 "nbformat_minor": 4
}
