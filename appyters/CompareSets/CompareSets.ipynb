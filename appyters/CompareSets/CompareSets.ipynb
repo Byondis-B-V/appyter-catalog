{
 "cells": [
  {
   "cell_type": "code",
   "execution_count": null,
   "metadata": {},
   "outputs": [],
   "source": [
    "#%%appyter init\n",
    "from appyter import magic\n",
    "magic.init(lambda _=globals: _())"
   ]
  },
  {
   "cell_type": "markdown",
   "metadata": {},
   "source": [
    "# Compare Sets Appyter\n",
    "##### This appyter creates a Venn diagram to visualize the intersections between 2-6 user-inputted gene sets. The user has a choice whether to upload a tsv file with the desired genes or to insert the genes into text boxes. "
   ]
  },
  {
   "cell_type": "code",
   "execution_count": null,
   "metadata": {},
   "outputs": [],
   "source": [
    "# Imports\n",
    "## Venn Diagram\n",
    "from venn import venn, pseudovenn\n",
    "\n",
    "## SuperVenn\n",
    "from supervenn import supervenn\n",
    "\n",
    "## Data Processing\n",
    "import csv\n",
    "import pathlib\n",
    "\n",
    "## Link to Enrichr\n",
    "import requests\n",
    "import json\n",
    "import time\n",
    "from IPython.display import display, FileLink, Markdown, HTML\n",
    "\n",
    "## Fisher Exact Test\n",
    "import scipy.stats as stats\n",
    "import math\n",
    "\n",
    "## UpSet Plot\n",
    "from upsetplot import from_contents, plot\n",
    "from matplotlib import pyplot\n",
    "\n",
    "## Table\n",
    "import plotly.graph_objects as go\n",
    "\n",
    "%matplotlib inline"
   ]
  },
  {
   "cell_type": "code",
   "execution_count": null,
   "metadata": {},
   "outputs": [],
   "source": [
    "%%appyter hide_code\n",
    "{% do SectionField(name='section0', title='Compare Gene Sets', subtitle='Create a venn diagram to compare your inputted gene sets', img = 'spiral.png') %}\n",
    "{% do SectionField(name='section1', title='1. Submit Your Gene Lists', subtitle = 'Upload text files containing your gene list -OR- copy and paste your gene list into each text box below (One gene per row). Default genes are provided below, but you can submit your own gene sets and delete the default data if you wish to do so.', img = 'bulb.png') %}\n",
    "{% do SectionField(name='section2', title='2. Venn Diagram', subtitle = 'Generate a Venn diagram from 2-6 inputted sets.', img = 'venndiagram.png') %}\n",
    "{% do SectionField(name='section3', title = '3. SuperVenn', subtitle = 'Generate a SuperVenn diagram from the inputted sets. This can be useful if you wish to display your comparisons in a tabular format.', img = 'supervenn2.png') %}\n",
    "{% do SectionField(name='section4', title='4. UpSet Plot', subtitle = 'Generate an UpSet plot from the inputted sets. This can be useful if you have many sets to compare.', img = 'gears.png') %}\n",
    "{% do SectionField(name='section5', title='5. Fisher\\'s Exact Test', subtitle = 'Fisher\\'s Exact Test determines whether the overlap of two gene sets is significant.', img = 'brain.png') %}\n"
   ]
  },
  {
   "cell_type": "code",
   "execution_count": null,
   "metadata": {},
   "outputs": [],
   "source": [
    "%%appyter code_exec\n",
    "\n",
    "# Inputting Lists and Settings\n",
    "{% set gs1 = '\\n'.join('TRPV1 OPRM1 TRPA1 COMT SCN9A TNF IL6 IL1B CRP BDNF NGF SLC6A4 MEFV TRPM8 TRPV4 CALCA NTRK1 TLR4 ASIC3 SCN10A MMP9 CNR1 IL10 CCL2 TNNT2 NPPB PTGS2 CYP2D6 P2RX3 TACR1'.split()) %}\n",
    "{% set gs2 = '\\n'.join('TNF TRPV1 CRP FOS PTGS2 NGF TRPA1 BDNF CD34 POMC IVD IL10 ACE CASP3 CCL2 TLR4 GFAP TRPM8 IL6 CD68 KIT OPRM1 SCN9A CYP2D6 COMT CEACAM5 GDNF NPY PTH TRPV4'.split()) %}\n",
    "{% set gs3 = '\\n'.join('OPRD1 TRPV1 TRPA1 SCN9A OPRM1 TRPM8 TACR1 OPRK1 TAC1 SCN3B KCNS1 TRPV3 TRPV4 CACNA1B CACNA2D2 SCN11A NTRK1 PENK SCN1B OPRL1 PDYN TRPV2 HTR3C HTR3A COMT P2RX3 TRPM5 DRD2 NGFR FAAH ASIC3 PNOC HTR3B TRPM4 CACNA2D3 BDKRB1 ASIC4 HTR2A KCNC2 CHRM4 TRPM3 HTR3E CACNG2 CHRNA7 SCN10A'.split()) %}\n",
    "{% set gs = TabField(\n",
    "    name='gs_type',\n",
    "    label='Gene Sets',\n",
    "    choices={\n",
    "        'Upload': [\n",
    "            MultiFileField(\n",
    "                name='gs',\n",
    "                label='Gene Set Files',\n",
    "                default=['example.gmt'],\n",
    "                examples={\n",
    "                    'example.gmt': url_for('static', filename = 'Geneshot_PainGenes.gmt'),\n",
    "                    'example-1.txt': url_for('static', filename = 'A_Geneshot_PainGenes_GeneRIF_AssociatedGenes.tsv'),\n",
    "                    'example-2.txt': url_for('static', filename = 'B_Geneshot_PainGenes_AutoRIF_AssociatedGenes.tsv'),\n",
    "                    'example-3.txt': url_for('static', filename = 'C_Geneshot_PainGenes_GeneRIF_PredictedGenes_AutoRIF-CoOccurrence.tsv'),\n",
    "                },\n",
    "            )\n",
    "        ],\n",
    "        'Paste': [\n",
    "            VariableField(\n",
    "                name='gs_text',\n",
    "                label = 'Gene Sets',\n",
    "                default=[gs1, gs2, gs3],\n",
    "                min=2,\n",
    "                max=6,\n",
    "                field=TextListField(\n",
    "                    name = 'gs_textlist',\n",
    "                    label = 'Gene Set',\n",
    "                    examples={\n",
    "                        'example 1': gs1,\n",
    "                        'example 2': gs2,\n",
    "                        'example 3': gs3,\n",
    "                    },\n",
    "                ),\n",
    "            )\n",
    "        ],\n",
    "    },\n",
    "    section = 'section1',\n",
    ") %}\n",
    "\n",
    "gs = {{ gs.value[0] }}\n",
    "\n",
    "venndiagram = {{ BoolField(name = 'venndiagram', label = 'Venn Diagram?', default = 'true', description = 'Select \\'Yes\\' if you would like to generate a Venn diagram. Otherwise, select \\'No\\'', section = 'section2') }}\n",
    "\n",
    "scheme = \"{{ ChoiceField(name = 'scheme', label = 'Color Scheme', choices = ['viridis', 'cool', 'plasma', 'inferno', 'magma'], default = 'viridis', description = 'Choose a color scheme for your Venn diagram', section = 'section2') }}\"\n",
    "\n",
    "venn_file_format = {{ MultiCheckboxField(name = 'venn_file_format', label = 'File Format', choices = ['png', 'jpg', 'svg'], default = ['png'], description = 'Select the format(s) to save your Venn diagram', section = 'section2') }}\n",
    "\n",
    "venn_file_name = {{ StringField(name = 'venn_file_name', label = 'File Name', default = 'venn', description = 'Enter a name/description to save your Venn diagram', section = 'section2') }}\n",
    "\n",
    "svenn = {{ BoolField(name = 'svenn', label = 'SuperVenn?', default = 'true', description = 'Select \\'Yes\\' if you woul dlike to generate a SuperVenn diagram. Otherwise, select \\'No\\'', section = 'section3') }}\n",
    "\n",
    "annotations = {{ IntField(name = 'annotations', label = 'Minimum Intersection Size to be Displayed', default = 1, min = 1, description = 'If you are comparing many sets, displaying all the intersection sizes can make the figure cluttered. Any intersection size below this value will not be displayed.', section = 'section3') }}\n",
    "\n",
    "svenn_file_format = {{ MultiCheckboxField(name = 'svenn_file_format', label = 'File Format', choices = ['png', 'jpg', 'svg'], default = ['png'], description = 'Select the format(s) to save your Venn diagram', section = 'section3') }}\n",
    "\n",
    "svenn_file_name = {{ StringField(name = 'svenn_file_name', label = 'File Name', default = 'supervenn', description = 'Enter a name/description to save your Venn diagram', section = 'section3') }}\n",
    "\n",
    "\n",
    "upset = {{ BoolField(name = 'upset', label = 'UpSet Plot?', default = 'true', description = 'Select \\'Yes\\' if you would like to generate an UpSet plot. Otherwise, select \\'No\\'', section = 'section4') }}\n",
    "\n",
    "orient = \"{{ ChoiceField(name = 'orient', label = 'Orientation', choices = ['Horizontal', 'Vertical'], default = 'Horizontal', description = 'Choose whether your UpSet plot will be displayed horizontally or vertically', section = 'section4') }}\"\n",
    "\n",
    "color = \"{{ ChoiceField(name = 'color', label = 'Color', choices = ['Black', 'Blue', 'Red', 'Green', 'Grey', 'Orange', 'Purple', 'Yellow', 'Pink'], default = 'Black', section = 'section4') }}\"\n",
    "\n",
    "counts = {{ BoolField(name = 'counts', label = 'Show Counts?', default = 'true', description = 'This labels the intersection size bars with the cardinality of the intersection.', section = 'section4') }}\n",
    "\n",
    "percent = {{ BoolField(name = 'percent', label = 'Show Percentages?', default = 'false', description = 'This labels the intersection size bars with the percentage of the intersection relative to the total dataset.', section = 'section4') }}\n",
    "\n",
    "figure_file_format = {{ MultiCheckboxField(name = 'figure_file_format', label = 'File Format', choices = ['png', 'jpg', 'svg'], default = ['png'], description = 'Select the format to save your figure', section = 'section4') }}\n",
    "\n",
    "output_file_name = {{ StringField(name = 'output_file_name', label = 'File Name', default = 'UpSet_plot', description = 'Enter a name/description to save your UpSet Plot', section = 'section4') }}\n",
    "\n",
    "background = {{ IntField(name = 'background', label = 'Background', default = 20000, description = 'Human genes typically have a background of 20,000', section = 'section5') }}\n",
    "\n",
    "significance = {{ ChoiceField(name = 'significance', label = 'Significance Level', choices = {'0.01': '0.01', '0.05': '0.05', '0.10': '0.10'}, default = '0.05', description = 'Choose a significance level', section = 'section5')}}\n",
    "\n",
    "final_venn_file_names = [str(venn_file_name + '.' + file_type) for file_type in venn_file_format]\n",
    "\n",
    "final_svenn_file_names = [str(svenn_file_name + '.' + file_type) for file_type in svenn_file_format]\n",
    "\n",
    "final_output_file_names = [str(output_file_name + '.' + file_type) for file_type in figure_file_format]"
   ]
  },
  {
   "cell_type": "code",
   "execution_count": null,
   "metadata": {},
   "outputs": [],
   "source": [
    "#Color for UpSet plot\n",
    "color_conversion = {\n",
    "    'Black': 'black',\n",
    "    'Blue': 'lightskyblue',\n",
    "    'Red': 'tomato',\n",
    "    'Green': 'mediumspringgreen',\n",
    "    'Grey': 'lightgrey',\n",
    "    'Orange': 'orange',\n",
    "    'Purple': 'plum',\n",
    "    'Yellow': 'yellow',\n",
    "    'Pink': 'lightpink'\n",
    "}\n",
    "\n",
    "color = color_conversion[color]"
   ]
  },
  {
   "cell_type": "code",
   "execution_count": null,
   "metadata": {},
   "outputs": [],
   "source": [
    "# Displaying Figures\n",
    "def figure_title(label, title):\n",
    "    display(HTML(f\"<div style='font-size:2rem; padding;1rem 0;'><b>{label}</b>: {title}</div>\"))\n",
    "\n",
    "def figure_legend(label, title, content=\"\"):\n",
    "    display(HTML(f\"<div><b>{label}</b>: <i>{title}</i>. {content} </div>\"))\n",
    "\n",
    "# Saving Figures\n",
    "def save_figure(plot_name, **kwargs):\n",
    "    import io\n",
    "    mem = io.BytesIO()\n",
    "    pyplot.savefig(mem, bbox_inches='tight')\n",
    "    with open(plot_name, 'wb') as fw:\n",
    "        fw.write(mem.getbuffer())\n",
    "\n",
    "# Loading helper\n",
    "def load_sets(*files):\n",
    "    ''' Load a set of files into pairs of labeled sets\n",
    "    '''\n",
    "    sets = {}\n",
    "    for file in map(pathlib.Path, files):\n",
    "        if file.suffix == '.gmt':\n",
    "            for line in map(str.strip, file.open('r')):\n",
    "                line_split = line.split('\\t')\n",
    "                if len(line_split) < 3: continue\n",
    "                term, description, *geneset = line_split\n",
    "                term_description = ' '.join(filter(None, map(str.strip, [\n",
    "                    file.stem if len(files) > 1 else '',\n",
    "                    term,\n",
    "                    description,\n",
    "                ])))\n",
    "                sets[term_description] = set(filter(None, map(str.strip, geneset)))\n",
    "        else:\n",
    "            # assumed file is newline separated genes if not a gmt\n",
    "            sets[file.stem] = set(map(str.strip, file.open('r')))\n",
    "    return sets"
   ]
  },
  {
   "cell_type": "code",
   "execution_count": null,
   "metadata": {},
   "outputs": [],
   "source": [
    "%%appyter code_exec\n",
    "# Add the appropriate gene lists to the dictionary\n",
    "\n",
    "{% if gs.raw_value == 'Upload' %}\n",
    "gsdict = load_sets(*gs)\n",
    "{% elif gs.raw_value == 'Paste' %}\n",
    "gsdict = { str(i): set(s) for i, s in enumerate(gs) }\n",
    "{% endif %}\n"
   ]
  },
  {
   "cell_type": "markdown",
   "metadata": {},
   "source": [
    "## Venn Diagram"
   ]
  },
  {
   "cell_type": "code",
   "execution_count": null,
   "metadata": {},
   "outputs": [],
   "source": [
    "# Generate the venn diagram\n",
    "\n",
    "if venndiagram:\n",
    "    venn(gsdict, cmap = scheme)\n",
    "\n",
    "    for plot_name in final_venn_file_names:\n",
    "        save_figure(plot_name)\n",
    "    \n",
    "    figure_title(\"Figure 1\", \"Venn diagram\")\n",
    "    pyplot.show()\n",
    "    figure_legend(\"Figure 1\", \"Venn diagram\", \"This Venn diagram compares the inputted gene sets and displays the intersections between them.\")\n",
    "    \n",
    "\n",
    "    if len(gsdict) == 6:\n",
    "        pseudovenn(gsdict)"
   ]
  },
  {
   "cell_type": "code",
   "execution_count": null,
   "metadata": {},
   "outputs": [],
   "source": [
    "# Download Venn Diagrams\n",
    "for i, file in enumerate(final_venn_file_names):\n",
    "    display(FileLink(file, result_html_prefix=str('Download ' + venn_file_format[i] + ': ')))"
   ]
  },
  {
   "cell_type": "markdown",
   "metadata": {},
   "source": [
    "## SuperVenn Diagram"
   ]
  },
  {
   "cell_type": "code",
   "execution_count": null,
   "metadata": {},
   "outputs": [],
   "source": [
    "# SuperVenn\n",
    "if svenn:\n",
    "    figure_title(\"Figure 2\", \"SuperVenn\")\n",
    "    supervenn(list(gsdict.values()), list(gsdict.keys()), sets_ordering= 'minimize gaps', widths_minmax_ratio=0.1, min_width_for_annotation=annotations)\n",
    "    for plot_name in final_svenn_file_names:\n",
    "        save_figure(plot_name)\n",
    "    figure_legend(\"Figure 2\", \"SuperVenn\", \"The numbers on the right represent the set sizes and the numbers on the top show how many sets the intersection is part of. The overlapping portions of the colored bars correspond to set intersections.\")"
   ]
  },
  {
   "cell_type": "code",
   "execution_count": null,
   "metadata": {},
   "outputs": [],
   "source": [
    "# Download Venn Diagrams\n",
    "for i, file in enumerate(final_svenn_file_names):\n",
    "    display(FileLink(file, result_html_prefix=str('Download ' + svenn_file_format[i] + ': ')))"
   ]
  },
  {
   "cell_type": "markdown",
   "metadata": {},
   "source": [
    "## UpSet Plot"
   ]
  },
  {
   "cell_type": "code",
   "execution_count": null,
   "metadata": {},
   "outputs": [],
   "source": [
    "# UpSet Plots\n",
    "if upset:\n",
    "    df = from_contents(gsdict)\n",
    "    plot(df, orientation = orient.lower(), facecolor = color, show_counts = counts, show_percentages = percent)\n",
    "    for plot_name in final_output_file_names:\n",
    "        save_figure(plot_name)\n",
    "    \n",
    "    figure_title(\"Figure 3\", \"UpSet Plot\")\n",
    "    pyplot.show()\n",
    "    figure_legend(\"Figure 3\", \"UpSet Plot\", \"This UpSet plot displays the set intersections as a matrix with the cardinalities shown as bars.\")\n",
    "    "
   ]
  },
  {
   "cell_type": "code",
   "execution_count": null,
   "metadata": {},
   "outputs": [],
   "source": [
    "# Download UpSet Plots\n",
    "for i, file in enumerate(final_output_file_names):\n",
    "    display(FileLink(file, result_html_prefix = str('Download ' + figure_file_format[i] + ': ')))"
   ]
  },
  {
   "cell_type": "markdown",
   "metadata": {},
   "source": [
    "## List of Set Intersections"
   ]
  },
  {
   "cell_type": "code",
   "execution_count": null,
   "metadata": {},
   "outputs": [],
   "source": [
    "#Linking to Enrichr\n",
    "def enrichr_link(gene_list):\n",
    "    ENRICHR_URL = 'https://maayanlab.cloud/Enrichr/addList' \n",
    "    genes_str = '\\n'.join(gene_list)\n",
    "    description = 'Example Gene List'\n",
    "    payload = {\n",
    "        'list': (None, genes_str),\n",
    "        'description': (None, description)\n",
    "    }\n",
    "\n",
    "    response = requests.post(ENRICHR_URL, files=payload)\n",
    "    if not response.ok:\n",
    "        raise Exception('Error analyzing gene list')\n",
    "\n",
    "    time.sleep(0.5)\n",
    "\n",
    "    data = json.loads(response.text)\n",
    "\n",
    "    short_id = data['shortId']\n",
    "    return [str(short_id)]\n"
   ]
  },
  {
   "cell_type": "code",
   "execution_count": null,
   "metadata": {},
   "outputs": [],
   "source": [
    "def get_venn_sections(sets):\n",
    "    num_combinations = 2 ** len(sets)\n",
    "    bit_flags = [2 ** n for n in range(len(sets))]\n",
    "    flags_zip_sets = [z for z in zip(bit_flags, sets)]\n",
    "\n",
    "    combo_sets = []\n",
    "    for bits in range(num_combinations - 1, 0, -1):\n",
    "        include_sets = [s for flag, s in flags_zip_sets if bits & flag]\n",
    "        exclude_sets = [s for flag, s in flags_zip_sets if not bits * flag]\n",
    "        combo = set.intersection(*include_sets)\n",
    "        combo = set.difference(combo, *exclude_sets)\n",
    "        tag = ''.join([str(int((bits & flag) > 0)) for flag in bit_flags])\n",
    "        combo_sets.append((tag, combo))\n",
    "    return combo_sets"
   ]
  },
  {
   "cell_type": "code",
   "execution_count": null,
   "metadata": {},
   "outputs": [],
   "source": [
    "sets = list(gsdict.values())"
   ]
  },
  {
   "cell_type": "code",
   "execution_count": null,
   "metadata": {},
   "outputs": [],
   "source": [
    "def generate_name(combos):\n",
    "    tag_list = []\n",
    "    for pair in combos:\n",
    "        bits = pair[0]\n",
    "        inter = '('\n",
    "        diff = '('\n",
    "        for i in range(len(bits)):\n",
    "            j = i+1\n",
    "            set_name = 'Set ' +  str(j)\n",
    "            if bits[i] == '1':\n",
    "                inter += set_name\n",
    "                inter += ' & '\n",
    "            else:\n",
    "                diff += set_name\n",
    "                diff += ' U '\n",
    "\n",
    "        final_inter = inter[:-3]\n",
    "        final_inter += ')'\n",
    "        final_diff = diff[:-3]\n",
    "        final_diff += ')'\n",
    "\n",
    "        if final_diff != ')':\n",
    "            final_name = final_inter + ' - ' + final_diff\n",
    "        else:\n",
    "            final_name = final_inter[1:-1]\n",
    "        tag_list.append(final_name)\n",
    "    return tag_list"
   ]
  },
  {
   "cell_type": "code",
   "execution_count": null,
   "metadata": {},
   "outputs": [],
   "source": [
    "# Generates visibility booleans for dropdown menu\n",
    "\n",
    "def generate_visibility(options):\n",
    "    bools = []\n",
    "    temp = []\n",
    "    for x in range (len(options)):\n",
    "        temp.append(False)\n",
    "    for x in range(len(options)):\n",
    "        visible = temp.copy()\n",
    "        visible[x] = True\n",
    "        bools.append(visible)\n",
    "    \n",
    "    return bools"
   ]
  },
  {
   "cell_type": "code",
   "execution_count": null,
   "metadata": {},
   "outputs": [],
   "source": [
    "# Creates the options for the dropdown menu\n",
    "def make_options(tuples, names):\n",
    "    bools = generate_visibility(tuples)\n",
    "    dropdown = []\n",
    "    for x in range (len(tuples)):\n",
    "        option = dict(\n",
    "            args = [{'visible': bools[x]}],\n",
    "            label = names[x],\n",
    "            method = \"update\"\n",
    "        )\n",
    "        dropdown.append(option)\n",
    "    return dropdown"
   ]
  },
  {
   "cell_type": "code",
   "execution_count": null,
   "metadata": {},
   "outputs": [],
   "source": [
    "def create_enrichr_link(l1):\n",
    "    results = enrichr_link(l1)\n",
    "    final_str = str('https://maayanlab.cloud/Enrichr/enrich?dataset='+ results[0])\n",
    "    return final_str"
   ]
  },
  {
   "cell_type": "code",
   "execution_count": null,
   "metadata": {},
   "outputs": [],
   "source": [
    "# Add Enrichr Links\n",
    "def add_links():\n",
    "    l1 = []\n",
    "    for pair in get_venn_sections(sets):\n",
    "        if len(pair[1]) >= 5:\n",
    "            temp = pair\n",
    "            new_tuple = temp + tuple(create_enrichr_link(pair[1]).split(' '))\n",
    "            l1.append(new_tuple)\n",
    "    return l1\n",
    "\n",
    "new_venn_sections = add_links()"
   ]
  },
  {
   "cell_type": "code",
   "execution_count": null,
   "metadata": {},
   "outputs": [],
   "source": [
    "def set_to_list(l1):\n",
    "    l2 = []\n",
    "    l2.append('Size: ' + str(len(list(l1[1]))))\n",
    "    l2.append('Access your complete Enrichment results here: <a href=\"' + str(l1[2]) + '\">' + str(l1[2]) + '</a>')\n",
    "    for elem in l1[1]:\n",
    "        l2.append(elem)\n",
    "    return l2"
   ]
  },
  {
   "cell_type": "code",
   "execution_count": null,
   "metadata": {},
   "outputs": [],
   "source": [
    "# Create Figure for Set Intersection Item Dropdown\n",
    "fig = go.Figure()\n",
    "\n",
    "for pair in new_venn_sections:\n",
    "    fig.add_trace(\n",
    "        go.Table(\n",
    "            header = dict(\n",
    "                values = ['Intersection Listing'],\n",
    "                line_color = '#001C55',\n",
    "                fill_color = '#001C55',\n",
    "                align = ['left', 'center'],\n",
    "                font=dict(color='white', size=16)\n",
    "            ),\n",
    "            cells = dict(\n",
    "                values = [set_to_list(pair)],\n",
    "                line_color = 'white',\n",
    "                fill_color = '#f5f5f5',\n",
    "                align = ['left', 'center'],\n",
    "                font = dict(color = 'darkslategray', size = 14)\n",
    "            )\n",
    "        )\n",
    "    )\n",
    "## Make Dropdown\n",
    "\n",
    "fig.update_layout(\n",
    "    updatemenus = [\n",
    "        dict(\n",
    "        buttons=list(make_options(get_venn_sections(sets), generate_name(get_venn_sections(sets)))),\n",
    "        direction = \"down\",\n",
    "        pad = {\"r\": 10, \"t\": 10},\n",
    "        showactive = True,\n",
    "        x = 0,\n",
    "        xanchor = \"left\",\n",
    "        y = 1.2,\n",
    "        yanchor = \"top\"\n",
    "    ),\n",
    "    ]\n",
    ")\n",
    "\n",
    "figure_title(\"Table 1\", \"List of Set Intersections\")\n",
    "fig.show()\n",
    "display(HTML(f\"<div><b>Explanation of Symbols</b>: <br><i>A - B </i> - subtraction of set B from set A</br> <br><i>A & B </i> - intersection of sets A and B</br> <br><i>A U B </i> - union of sets A and B</br> </div>\"))\n",
    "figure_legend(\"Table 1\", \"List of Set Intersections\", \"This table shows the elements contained in each set intersection. A link to Enrichr for further enrichment analysis is provided. Various intersections can be found using the dropdown menu.\")"
   ]
  },
  {
   "cell_type": "markdown",
   "metadata": {},
   "source": [
    "## Fisher's Exact Test Calculations"
   ]
  },
  {
   "cell_type": "code",
   "execution_count": null,
   "metadata": {},
   "outputs": [],
   "source": [
    "# Pair the Gene Sets\n",
    "matching = []\n",
    "\n",
    "gene_sets = list(gsdict.keys())\n",
    "for i in range (len(gene_sets)-1):\n",
    "    for j in range (i+1, len(gene_sets)):\n",
    "        matching.append((gene_sets[i], gene_sets[j]))"
   ]
  },
  {
   "cell_type": "code",
   "execution_count": null,
   "metadata": {},
   "outputs": [],
   "source": [
    "# Generates values for Fisher's Exact Test\n",
    "\n",
    "def generate_values(s1, s2):\n",
    "    inter = len(s1 & s2)\n",
    "    not_A_not_B = background - (len(s1) + len(s2) - inter)\n",
    "    in_A_not_B = len(s1) - inter\n",
    "    not_A_in_B = len(s2) - inter\n",
    "    total = not_A_not_B + not_A_in_B + in_A_not_B + inter\n",
    "\n",
    "    oddsratio, pvalue = stats.fisher_exact([[not_A_not_B, in_A_not_B], [not_A_in_B, inter]])\n",
    "\n",
    "    if pvalue < significance:\n",
    "        sig_result = 'This result is <b>significant</b> at p < ' + str(significance)\n",
    "    else:\n",
    "        sig_result = 'This result is <b>not significant</b> at p < ' + str(significance)\n",
    "\n",
    "    values1 = [['<b>Not in B</b>', '<b>In B</b>', '<b>Marginal Column Totals</b>', '<b>p-value</b>: ' + \"{:.3e}\".format(pvalue), '<b>Odds Ratio</b>: ' + str(oddsratio), '<b>Result</b>: ' + sig_result], [not_A_not_B, not_A_in_B, not_A_not_B+not_A_in_B], [in_A_not_B, inter, in_A_not_B+inter], [not_A_not_B+in_A_not_B, not_A_in_B+inter, str(total) + ' (Grand Total)']]\n",
    "\n",
    "    return values1"
   ]
  },
  {
   "cell_type": "code",
   "execution_count": null,
   "metadata": {},
   "outputs": [],
   "source": [
    "# Create figure and adds all tables\n",
    "fig2 = go.Figure()\n",
    "\n",
    "for pair in matching:\n",
    "    fig2.add_trace(\n",
    "        go.Table(\n",
    "            header = dict(\n",
    "                values = ['', '<b>Not in A</b>', '<b>In A</b>', '<b>Marginal Row Totals</b>'],\n",
    "                line_color = '#001C55',\n",
    "                fill_color = '#001C55',\n",
    "                align = ['left', 'center'],\n",
    "                font=dict(color='white', size=12)\n",
    "            ),\n",
    "            cells = dict(\n",
    "                values = generate_values(gsdict[pair[0]], gsdict[pair[1]]),\n",
    "                line_color = 'white',\n",
    "                fill_color = [['#f5f5f5', '#f5f5f5', '#f5f5f5', 'white', 'white', 'white']*4],\n",
    "                align = ['left', 'center'],\n",
    "                font = dict(color = 'darkslategray', size = 11)\n",
    "            )\n",
    "        )\n",
    "    )"
   ]
  },
  {
   "cell_type": "code",
   "execution_count": null,
   "metadata": {},
   "outputs": [],
   "source": [
    "# Generates names for dropdown menu\n",
    "def generate_names():\n",
    "    names = []\n",
    "    for pair in matching:\n",
    "        s = pair[0] + ' & ' + pair[1]\n",
    "        names.append(s)\n",
    "    return names"
   ]
  },
  {
   "cell_type": "code",
   "execution_count": null,
   "metadata": {},
   "outputs": [],
   "source": [
    "# Generates figure with dropdown menu\n",
    "names = generate_names()\n",
    "\n",
    "fig2.update_layout(\n",
    "    updatemenus = [\n",
    "        dict(\n",
    "            buttons=list(make_options(matching, names)),\n",
    "            direction = \"down\",\n",
    "            pad = {\"r\": 10, \"t\": 10},\n",
    "            showactive = True,\n",
    "            x = 0,\n",
    "            xanchor = \"left\",\n",
    "            y = 1.2,\n",
    "            yanchor = \"top\"\n",
    "        ),\n",
    "    ]\n",
    ")\n",
    "\n",
    "figure_title(\"Table 2\", \"Fisher's Exact Test\")\n",
    "\n",
    "fig2.show()\n",
    "\n",
    "figure_legend(\"Table 2\", \"Fisher's Exact Test\", \"This table shows the results of Fisher's Exact Test. Using the items in the contigency table, the p-value and odds ratio is calculated. The p-value is then compared against the desired significance level. The overlap between various sets can be seen using the dropdown menu.\")"
   ]
  },
  {
   "cell_type": "markdown",
   "metadata": {},
   "source": [
    "## Heatmap of Fisher's Exact Test Results"
   ]
  },
  {
   "cell_type": "code",
   "execution_count": null,
   "metadata": {},
   "outputs": [],
   "source": [
    "def reverse(tuples):\n",
    "    new_tup = ()\n",
    "    for k in reversed(tuples):\n",
    "        new_tup += (k, )\n",
    "    return new_tup"
   ]
  },
  {
   "cell_type": "code",
   "execution_count": null,
   "metadata": {},
   "outputs": [],
   "source": [
    "def check_sig(s1, s2):\n",
    "    inter = len(s1 & s2)\n",
    "    not_A_not_B = background - (len(s1) + len(s2) - inter)\n",
    "    in_A_not_B = len(s1) - inter\n",
    "    not_A_in_B = len(s2) - inter\n",
    "    total = not_A_not_B + not_A_in_B + in_A_not_B + inter\n",
    "\n",
    "    oddsratio, pvalue = stats.fisher_exact([[not_A_not_B, in_A_not_B], [not_A_in_B, inter]])\n",
    "\n",
    "    if pvalue == 0:\n",
    "        return pvalue\n",
    "    else:\n",
    "        num = -math.log(pvalue, 10)\n",
    "        return num"
   ]
  },
  {
   "cell_type": "code",
   "execution_count": null,
   "metadata": {},
   "outputs": [],
   "source": [
    "def heatmap_values(gene_sets):\n",
    "    values = []\n",
    "    x_axis = gene_sets\n",
    "    y_axis = gene_sets\n",
    "    for i in range (len(x_axis)):\n",
    "        row = []\n",
    "        for j in range (len(y_axis)):\n",
    "            t = (x_axis[i], y_axis[j])\n",
    "            if t in matching:\n",
    "                row.append(check_sig(gsdict[x_axis[i]], gsdict[y_axis[j]]))\n",
    "            elif reverse(t) in matching:\n",
    "                row.append(check_sig(gsdict[y_axis[j]], gsdict[x_axis[i]]))\n",
    "            else:\n",
    "                row.append(None)\n",
    "        values.append(row)\n",
    "    return values"
   ]
  },
  {
   "cell_type": "code",
   "execution_count": null,
   "metadata": {},
   "outputs": [],
   "source": [
    "fig3 = go.Figure(data = go.Heatmap(\n",
    "                    z = heatmap_values(gene_sets),\n",
    "                    x = gene_sets,\n",
    "                    y = gene_sets,\n",
    "                    hoverongaps = False))\n",
    "figure_title(\"Figure 4\", \"Heatmap of Fisher's Exact Test Results\")\n",
    "fig3.show()\n",
    "figure_legend(\"Figure 4\", \"Heatmap of Fisher's Exact Test Results\", \"This figure displays the results of all Fisher's Exact Tests calculated. The -log(p-values) is shown in the heatmap. Each axis displays which sets are being compared and sets that cannot be compared are given a value of None.\")"
   ]
  }
 ],
 "metadata": {
  "kernelspec": {
   "display_name": "Python 3 (ipykernel)",
   "language": "python",
   "name": "python3"
  },
  "language_info": {
   "codemirror_mode": {
    "name": "ipython",
    "version": 3
   },
   "file_extension": ".py",
   "mimetype": "text/x-python",
   "name": "python",
   "nbconvert_exporter": "python",
   "pygments_lexer": "ipython3",
   "version": "3.10.4"
  }
 },
 "nbformat": 4,
 "nbformat_minor": 4
}
