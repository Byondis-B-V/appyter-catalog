{
 "cells": [
  {
   "cell_type": "code",
   "execution_count": null,
   "metadata": {},
   "outputs": [],
   "source": [
    "from appyter import magic\n",
    "magic.init(lambda _=globals: _())"
   ]
  },
  {
   "cell_type": "code",
   "execution_count": null,
   "metadata": {},
   "outputs": [],
   "source": [
    "import os\n",
    "import sys\n",
    "import zipfile\n",
    "import datetime\n",
    "\n",
    "import pandas as pd\n",
    "import numpy as np\n",
    "\n",
    "# Display / graphing\n",
    "from IPython.display import display, HTML\n",
    "import plotly.express as px\n",
    "\n",
    "# API access\n",
    "import requests\n",
    "import io\n",
    "import time"
   ]
  },
  {
   "cell_type": "code",
   "execution_count": null,
   "metadata": {},
   "outputs": [],
   "source": [
    "# Notebook display util functions\n",
    "def make_clickable(link):\n",
    "    return f'<a target=\"_blank\" href=\"{link}\">{link}</a>'\n",
    "\n",
    "table_number = 0\n",
    "figure_number = 0\n",
    "def figure_header(label,title):\n",
    "    global table_number\n",
    "    global figure_number\n",
    "    if label == 'Table':\n",
    "        table_number += 1\n",
    "        label = f'Table {table_number}'\n",
    "    elif label == 'Figure':\n",
    "        figure_number += 1\n",
    "        label = f'Figure {figure_number}'\n",
    "    display(HTML(f\"<div style='font-size:2rem; padding:1rem 0;'><b>{label}</b>: {title}</div>\"))\n",
    "    \n",
    "def figure_legend(label,title,content=''):\n",
    "    global table_number\n",
    "    global figure_number\n",
    "    if label == 'Table':\n",
    "        label = f'Table {table_number}'\n",
    "    elif label == 'Figure':\n",
    "        label = f'Figure {figure_number}'\n",
    "    display(HTML(f'<style>div.caption {{text-align: center;}}</style><div class=caption><b>{label}</b>: <i>{title}</i>. {content} </div>'))"
   ]
  },
  {
   "cell_type": "code",
   "execution_count": null,
   "metadata": {},
   "outputs": [],
   "source": [
    "%%appyter hide_code\n",
    "\n",
    "{% do SectionField(name='section1',\n",
    "                   title = '1. Submit Your Biomedical Term of Interest:',\n",
    "                   img = 'load_icon.png')%}\n",
    "\n",
    "{% do SectionField(name='section2',\n",
    "                   title = '2. Chooose Number of Top Associated Drugs to Make Predictions:',\n",
    "                   img = 'load_icon.png')%}"
   ]
  },
  {
   "cell_type": "code",
   "execution_count": null,
   "metadata": {},
   "outputs": [],
   "source": [
    "%%appyter code_exec\n",
    "\n",
    "term = {{ StringField(name='input_term',\n",
    "                     label='Biomedical Term',\n",
    "                     default='Lung cancer',\n",
    "                     description='Input your biomedical term of interest.',\n",
    "                     section = 'section1') }}\n",
    "\n",
    "set_size = {{ IntField(name = 'set_size',\n",
    "                        label = 'Associated drug set size',\n",
    "                        min = 50,\n",
    "                        max = 200,\n",
    "                        default = 50,\n",
    "                        description = 'Amount of drugs used for co-expression prediction',\n",
    "                        section = 'section2') }}"
   ]
  },
  {
   "cell_type": "markdown",
   "metadata": {},
   "source": [
    "### Load DrugRIF"
   ]
  },
  {
   "cell_type": "code",
   "execution_count": null,
   "metadata": {
    "scrolled": true
   },
   "outputs": [],
   "source": [
    "DrugRIF = pd.read_csv('https://appyters.maayanlab.cloud/storage/DrugShot/DrugRIF.tsv.gz',sep = '\\t', usecols = ['name','PMID']).set_index('name')"
   ]
  },
  {
   "cell_type": "markdown",
   "metadata": {},
   "source": [
    "### Query Term Using PubMed Eutils API"
   ]
  },
  {
   "cell_type": "code",
   "execution_count": null,
   "metadata": {},
   "outputs": [],
   "source": [
    "i = 0\n",
    "pubmed_url = \"https://eutils.ncbi.nlm.nih.gov/entrez/eutils/esearch.fcgi?db=pubmed&term={}&retmax=100000&retstart={}&retmode=json\"\n",
    "\n",
    "results = []\n",
    "res = requests.get(pubmed_url.format(term, i)).json()\n",
    "while i <= int(res['esearchresult']['count']):\n",
    "    results.extend(requests.get(pubmed_url.format(term,i)).json()['esearchresult']['idlist'])\n",
    "    i += len(res['esearchresult']['idlist'])\n",
    "    time.sleep(0.2)"
   ]
  },
  {
   "cell_type": "markdown",
   "metadata": {},
   "source": [
    "### Associated Drug Table"
   ]
  },
  {
   "cell_type": "code",
   "execution_count": null,
   "metadata": {},
   "outputs": [],
   "source": [
    "# Retrieve top 500 associated drugs from DrugRIF based on search term co-mentions in the literature\n",
    "df_associated = pd.DataFrame(DrugRIF[DrugRIF['PMID'].isin(results) == True].index.value_counts())\\\n",
    ".rename(columns = {'name':'Publications with Search Term'})[0:500]\n",
    "\n",
    "# Get counts of each chemical in DrugRIF\n",
    "chemical_counts = []\n",
    "for chemical in df_associated.index:\n",
    "    chemical_counts.append(DrugRIF.index.tolist().count(chemical))\n",
    "    \n",
    "df_associated['Publications with Search Term / Total Publications'] = df_associated.div(chemical_counts, axis=0)\n",
    "df_associated['Score'] = df_associated['Publications with Search Term'] * df_associated['Publications with Search Term / Total Publications']"
   ]
  },
  {
   "cell_type": "code",
   "execution_count": null,
   "metadata": {},
   "outputs": [],
   "source": [
    "associated_table = df_associated.sort_values(by = ['Score'], ascending = False)\n",
    "associated_table.to_csv(term.replace(' ','_')+'_associated_drug_table.csv')\n",
    "\n",
    "figure_header('Table', 'Top Associated Compounds ({})'.format(make_clickable(term.replace(' ','_')+'_associated_drug_table.csv')))\n",
    "display(associated_table.head(20))"
   ]
  },
  {
   "cell_type": "markdown",
   "metadata": {},
   "source": [
    "### Scatter Plot of Drug Frequency in Literature"
   ]
  },
  {
   "cell_type": "code",
   "execution_count": null,
   "metadata": {},
   "outputs": [],
   "source": [
    "fig = px.scatter(df_associated.reset_index().rename(columns = {'index':'chemical'}), hover_data= ['chemical'],\n",
    "                 x = 'Publications with Search Term', y= 'Publications with Search Term / Total Publications',\n",
    "                 title=term)\n",
    "fig.show()"
   ]
  },
  {
   "cell_type": "markdown",
   "metadata": {},
   "source": [
    "### Predicted Drug Table"
   ]
  },
  {
   "cell_type": "code",
   "execution_count": null,
   "metadata": {},
   "outputs": [],
   "source": [
    "# Load correlation matrix into pandas DataFrame\n",
    "response = requests.get('https://appyters.maayanlab.cloud/storage/DrugShot/L1000_similarity_matrix.npz')\n",
    "correlation_matrix = np.load(io.BytesIO(response.content), allow_pickle = True)\n",
    "\n",
    "df_correlation = pd.DataFrame(data = correlation_matrix['correlations'], columns = correlation_matrix['index'],\n",
    "                      index = correlation_matrix['index'])\n",
    "df_correlation[df_correlation.columns] = df_correlation[df_correlation.columns].replace({1:np.nan})"
   ]
  },
  {
   "cell_type": "code",
   "execution_count": null,
   "metadata": {},
   "outputs": [],
   "source": [
    "# Calculate average correlation for each drug with the associated drug set\n",
    "df_correlation = df_correlation.loc[df_correlation.index.isin(associated_table.index[0:set_size])]\n",
    "df_correlation.loc['Score'] = df_correlation[df_correlation.columns].mean()\n",
    "df_correlation.sort_values(by = ['Score'], axis = 1, ascending = False, inplace = True)"
   ]
  },
  {
   "cell_type": "code",
   "execution_count": null,
   "metadata": {},
   "outputs": [],
   "source": [
    "predicted_table = pd.DataFrame(df_correlation.loc['Score'][0:200])\n",
    "predicted_table.to_csv(term.replace(' ','_')+'_predicted_drug_table.csv')\n",
    "figure_header('Table', 'Top Predicted Compounds ({})'.format(make_clickable(term.replace(' ','_')+'_predicted_drug_table.csv')))\n",
    "display(predicted_table.head(20))"
   ]
  }
 ],
 "metadata": {
  "kernelspec": {
   "display_name": "DrugShot",
   "language": "python",
   "name": "drugshot"
  },
  "language_info": {
   "codemirror_mode": {
    "name": "ipython",
    "version": 3
   },
   "file_extension": ".py",
   "mimetype": "text/x-python",
   "name": "python",
   "nbconvert_exporter": "python",
   "pygments_lexer": "ipython3",
   "version": "3.8.3"
  }
 },
 "nbformat": 4,
 "nbformat_minor": 4
}
