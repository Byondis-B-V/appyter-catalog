{
 "cells": [
  {
   "cell_type": "markdown",
   "metadata": {},
   "source": [
    "# DrugShot\n",
    "DrugShot searches PubMed for articles that co-mention any search term and terms that describe drugs.\n",
    "\n",
    "It then prioritizes these drugs using various methods, and predicts additional drugs based on shared properties among drugs and other small molecules.\n"
   ]
  },
  {
   "cell_type": "code",
   "execution_count": null,
   "metadata": {},
   "outputs": [],
   "source": [
    "#%%appyter init\n",
    "from appyter import magic\n",
    "magic.init(lambda _=globals: _())"
   ]
  },
  {
   "cell_type": "code",
   "execution_count": null,
   "metadata": {},
   "outputs": [],
   "source": [
    "import os\n",
    "import sys\n",
    "import zipfile\n",
    "import datetime\n",
    "\n",
    "import pandas as pd\n",
    "import numpy as np\n",
    "\n",
    "# Display / graphing\n",
    "from IPython.display import display, HTML\n",
    "import plotly.express as px\n",
    "import plotly.graph_objects as go\n",
    "import sklearn.metrics\n",
    "\n",
    "# API access\n",
    "import requests\n",
    "import io\n",
    "import time"
   ]
  },
  {
   "cell_type": "code",
   "execution_count": null,
   "metadata": {},
   "outputs": [],
   "source": [
    "# Notebook display util functions\n",
    "def make_clickable(link):\n",
    "    return f'<a target=\"_blank\" href=\"{link}\">{link}</a>'\n",
    "\n",
    "table_number = 0\n",
    "figure_number = 0\n",
    "def figure_header(label,title):\n",
    "    global table_number\n",
    "    global figure_number\n",
    "    if label == 'Table':\n",
    "        table_number += 1\n",
    "        label = f'Table {table_number}'\n",
    "    elif label == 'Figure':\n",
    "        figure_number += 1\n",
    "        label = f'Figure {figure_number}'\n",
    "    display(HTML(f\"<div style='font-size:2rem; padding:1rem 0;'><b>{label}</b>: {title}</div>\"))\n",
    "    \n",
    "def figure_legend(label,title,content=''):\n",
    "    global table_number\n",
    "    global figure_number\n",
    "    if label == 'Table':\n",
    "        label = f'Table {table_number}'\n",
    "    elif label == 'Figure':\n",
    "        label = f'Figure {figure_number}'\n",
    "    display(HTML(f'<style>div.caption {{text-align: center;}}</style><div class=caption><b>{label}</b>: <i>{title}</i>. {content} </div>'))"
   ]
  },
  {
   "cell_type": "code",
   "execution_count": null,
   "metadata": {},
   "outputs": [],
   "source": [
    "%%appyter hide_code\n",
    "\n",
    "{% do SectionField(name='section1',\n",
    "                   title = '1. Submit Your Biomedical Term of Interest:')%}\n",
    "\n",
    "{% do SectionField(name='section2',\n",
    "                   title = '2. Chooose Number of Top Associated Drugs to Make Predictions:')%}"
   ]
  },
  {
   "cell_type": "code",
   "execution_count": null,
   "metadata": {},
   "outputs": [],
   "source": [
    "%%appyter hide_code\n",
    "\n",
    "{% set term = StringField(name='input_term',\n",
    "                     label='Biomedical Term',\n",
    "                     default='Lung Cancer',\n",
    "                     description='Input your biomedical term of interest.',\n",
    "                     section = 'section1') %}\n",
    "\n",
    "{% set set_size = IntField(name = 'set_size',\n",
    "                        label = 'Associated drug set size',\n",
    "                        min = 50,\n",
    "                        max = 200,\n",
    "                        default = 50,\n",
    "                        description = 'Size of drug set used for predictions of additional compounds',\n",
    "                        section = 'section2') %}"
   ]
  },
  {
   "cell_type": "markdown",
   "metadata": {},
   "source": [
    "### Load DrugRIF"
   ]
  },
  {
   "cell_type": "code",
   "execution_count": null,
   "metadata": {
    "scrolled": true
   },
   "outputs": [],
   "source": [
    "DrugRIF = pd.read_csv('https://appyters.maayanlab.cloud/storage/DrugShot/DrugRIF.tsv.gz',sep = '\\t', usecols = ['name','PMID']).set_index('name')"
   ]
  },
  {
   "cell_type": "markdown",
   "metadata": {},
   "source": [
    "### Query Term Using PubMed Eutils API"
   ]
  },
  {
   "cell_type": "code",
   "execution_count": null,
   "metadata": {},
   "outputs": [],
   "source": [
    "%%appyter code_exec\n",
    "i = 0\n",
    "pubmed_url = \"https://eutils.ncbi.nlm.nih.gov/entrez/eutils/esearch.fcgi?db=pubmed&term={}&retmax=100000&retstart={}&retmode=json\"\n",
    "\n",
    "results = []\n",
    "res = requests.get(pubmed_url.format({{term}}, i)).json()\n",
    "while i <= int(res['esearchresult']['count']):\n",
    "    results.extend(requests.get(pubmed_url.format({{term}},i)).json()['esearchresult']['idlist'])\n",
    "    i += len(res['esearchresult']['idlist'])\n",
    "    time.sleep(0.2)"
   ]
  },
  {
   "cell_type": "markdown",
   "metadata": {},
   "source": [
    "### Associated Drug Table"
   ]
  },
  {
   "cell_type": "code",
   "execution_count": null,
   "metadata": {},
   "outputs": [],
   "source": [
    "# Retrieve top 500 associated drugs from DrugRIF based on search term co-mentions in the literature\n",
    "df_associated = pd.DataFrame(DrugRIF[DrugRIF['PMID'].isin(results) == True].index.value_counts())\\\n",
    ".rename(columns = {'name':'Publications with Search Term'})[0:500]\n",
    "\n",
    "# Get counts of each chemical in DrugRIF\n",
    "chemical_counts = [DrugRIF.index.tolist().count(chemical) for chemical in df_associated.index]\n",
    "    \n",
    "df_associated['Publications with Search Term / Total Publications'] = df_associated.div(chemical_counts, axis=0)\n",
    "df_associated['Score'] = df_associated['Publications with Search Term'] * df_associated['Publications with Search Term / Total Publications']\n",
    "\n",
    "del(DrugRIF)"
   ]
  },
  {
   "cell_type": "code",
   "execution_count": null,
   "metadata": {},
   "outputs": [],
   "source": [
    "%%appyter code_exec\n",
    "associated_table = df_associated.sort_values(by = ['Publications with Search Term'], ascending = False)\n",
    "associated_table.to_csv({{term}}.replace(' ','_')+'_associated_drug_table.csv')\n",
    "\n",
    "figure_header('Table', 'Top Associated Compounds ({})'.format(make_clickable({{term}}.replace(' ','_')+'_associated_drug_table.csv')))\n",
    "display(associated_table[associated_table.columns[0:2]].head(20))\n",
    "figure_legend('Table', 'Top 20 Drugs associated with '+{{term}})\n",
    "\n",
    "del(df_associated)"
   ]
  },
  {
   "cell_type": "markdown",
   "metadata": {},
   "source": [
    "### Scatter Plot of Drug Frequency in Literature"
   ]
  },
  {
   "cell_type": "code",
   "execution_count": null,
   "metadata": {},
   "outputs": [],
   "source": [
    "%%appyter code_exec\n",
    "fig = px.scatter(associated_table.reset_index().rename(columns = {'index':'chemical'}),\n",
    "                 x = 'Publications with Search Term',\n",
    "                 y = 'Publications with Search Term / Total Publications',\n",
    "                 hover_name = 'chemical',\n",
    "                 title={{term}})\n",
    "fig.show()"
   ]
  },
  {
   "cell_type": "code",
   "execution_count": null,
   "metadata": {},
   "outputs": [],
   "source": [
    "%%appyter markdown\n",
    "Create list of top associated compounds ranked by Publications with Search Term * Publications with Search Term / Total Publications to treat as an unweighted drug set for further predictions"
   ]
  },
  {
   "cell_type": "code",
   "execution_count": null,
   "metadata": {},
   "outputs": [],
   "source": [
    "%%appyter code_exec\n",
    "associated_compounds = associated_table.sort_values(by = 'Score', ascending = False)[0:{{set_size}}].index.tolist()"
   ]
  },
  {
   "cell_type": "code",
   "execution_count": null,
   "metadata": {},
   "outputs": [],
   "source": [
    "%%appyter markdown\n",
    "\n",
    "### Predicted DrugRIF Co-occurence\n",
    "The top {{ set_size }} drugs from the associated drug table are ranked by the product of (Publications with Search Term) * (Publication with Search Term / Total Publications) and treated as an unweighted drug set\n",
    "\n",
    "Predicted compounds are computed based on average co-occurence counts of PubMedIDs between the unweighted drug set and other drugs & small molecules within DrugRIF"
   ]
  },
  {
   "cell_type": "code",
   "execution_count": null,
   "metadata": {},
   "outputs": [],
   "source": [
    "# Load cooccurrence matrix into pandas DataFrame\n",
    "df_cooccurence = pd.read_csv('https://appyters.maayanlab.cloud/storage/DrugShot/DrugRIF_cooccurence_matrix.tsv.gz',\n",
    "                            sep = '\\t',\n",
    "                            index_col = 0)"
   ]
  },
  {
   "cell_type": "code",
   "execution_count": null,
   "metadata": {},
   "outputs": [],
   "source": [
    "%%appyter code_exec\n",
    "# Calculate average co-occurrence for each drug in the prediction matrix with the associated drug set\n",
    "df_cooccurence = df_cooccurence.loc[df_cooccurence.index.isin(associated_compounds)]\n",
    "df_cooccurence.loc['Score'] = df_cooccurence[df_cooccurence.columns].mean()\n",
    "df_cooccurence.sort_values(by = ['Score'], axis = 1, ascending = False, inplace = True)"
   ]
  },
  {
   "cell_type": "code",
   "execution_count": null,
   "metadata": {},
   "outputs": [],
   "source": [
    "# Calculating FPR and TPR for co-occurrence predictions\n",
    "y_score = df_cooccurence.loc['Score'].sort_values(ascending = False).values\n",
    "true_indices = sorted([df_cooccurence.loc['Score'].sort_values(ascending = False).\\\n",
    "                       index.get_loc(x) for x in associated_compounds])\n",
    "y_true = np.zeros(len(df_cooccurence.columns))\n",
    "np.put(y_true, true_indices, 1)\n",
    "fpr, tpr, thresholds = sklearn.metrics.roc_curve(y_true, y_score)\n",
    "auc_score = sklearn.metrics.roc_auc_score(y_true, y_score)\n",
    "\n",
    "# ROC Curve\n",
    "fig = go.Figure()\n",
    "name = f\"(AUC={auc_score:.2f})\"\n",
    "fig.add_trace(go.Scatter(x=fpr, y=tpr, showlegend=True, name=name, mode='lines'))\n",
    "fig.add_shape(\n",
    "    type='line', line=dict(dash='dash'),\n",
    "    x0=0, x1=1, y0=0, y1=1)\n",
    "fig.layout.update(\n",
    "    title = 'ROC Curve for Associated Compound Rankings in Co-occurence Prediction Matrix',\n",
    "    xaxis_title='False Positive Rate',\n",
    "    yaxis_title='True Positive Rate',\n",
    "    yaxis=dict(scaleanchor=\"x\", scaleratio=0.65),\n",
    "    xaxis=dict(constrain='domain'),\n",
    "    width=800, height=500\n",
    ")\n",
    "fig.show()"
   ]
  },
  {
   "cell_type": "code",
   "execution_count": null,
   "metadata": {},
   "outputs": [],
   "source": [
    "%%appyter code_exec\n",
    "predicted_table = pd.DataFrame(df_cooccurence.loc['Score']).drop(associated_compounds)\n",
    "predicted_table.to_csv({{term}}.replace(' ','_')+'_cooccurence_similarity_predicted_drug_table.csv')\n",
    "figure_header('Table', 'Top Predicted Compounds ({})'.format(make_clickable({{term}}.replace(' ','_')+'_cooccurence_similarity_predicted_drug_table.csv')))\n",
    "display(predicted_table.head(20))\n",
    "figure_legend('Table', 'Top 20 drugs predicted to be associated with {} based on DrugRIF co-occurence'.format({{term}}))\n",
    "\n",
    "del(df_cooccurence)"
   ]
  },
  {
   "cell_type": "code",
   "execution_count": null,
   "metadata": {},
   "outputs": [],
   "source": [
    "%%appyter markdown\n",
    "\n",
    "### Predicted L1000 Co-expression\n",
    "The top {{ set_size }} drugs from the associated drug table are ranked by the product of (Publications with Search Term) * (Publication with Search Term / Total Publications) and treated as an unweighted drug set\n",
    "\n",
    "Predicted compounds are computed based on average cosine similarity of drug-induced L1000 gene expression signatures between the unweighted drug set and thousands of approved and experimental small molecules from [SEP-L1000](https://maayanlab.net/SEP-L1000/index.html)"
   ]
  },
  {
   "cell_type": "code",
   "execution_count": null,
   "metadata": {},
   "outputs": [],
   "source": [
    "# Load correlation matrix into pandas DataFrame\n",
    "response = requests.get('https://appyters.maayanlab.cloud/storage/DrugShot/L1000_similarity_matrix.npz')\n",
    "coexpression_matrix = np.load(io.BytesIO(response.content), allow_pickle = True)\n",
    "\n",
    "df_coexpression = pd.DataFrame(data = coexpression_matrix['correlations'], columns = coexpression_matrix['index'],\n",
    "                      index = coexpression_matrix['index'])\n",
    "\n",
    "del(coexpression_matrix)"
   ]
  },
  {
   "cell_type": "code",
   "execution_count": null,
   "metadata": {},
   "outputs": [],
   "source": [
    "%%appyter code_exec\n",
    "# Calculate average similarity for each drug in the prediction matrix with the associated drug set\n",
    "df_coexpression = df_coexpression.loc[df_coexpression.index.isin(associated_compounds)]\n",
    "df_coexpression.loc['Score'] = df_coexpression[df_coexpression.columns].mean()\n",
    "df_coexpression.sort_values(by = ['Score'], axis = 1, ascending = False, inplace = True)"
   ]
  },
  {
   "cell_type": "code",
   "execution_count": null,
   "metadata": {},
   "outputs": [],
   "source": [
    "# Calculating FPR and TPR for co-expression predictions\n",
    "y_score = df_coexpression.loc['Score'].sort_values(ascending = False).values\n",
    "true_indices = sorted([df_coexpression.loc['Score'].sort_values(ascending = False).\\\n",
    "                       index.get_loc(x) for x in associated_compounds if x in df_coexpression.index])\n",
    "y_true = np.zeros(len(df_coexpression.columns))\n",
    "np.put(y_true, true_indices, 1)\n",
    "fpr, tpr, thresholds = sklearn.metrics.roc_curve(y_true, y_score)\n",
    "auc_score = sklearn.metrics.roc_auc_score(y_true, y_score)\n",
    "\n",
    "# ROC Curve\n",
    "fig = go.Figure()\n",
    "name = f\"(AUC={auc_score:.2f})\"\n",
    "fig.add_trace(go.Scatter(x=fpr, y=tpr, showlegend=True, name=name, mode='lines'))\n",
    "fig.add_shape(\n",
    "    type='line', line=dict(dash='dash'),\n",
    "    x0=0, x1=1, y0=0, y1=1)\n",
    "fig.layout.update(\n",
    "    title = 'ROC Curve for Associated Compound Rankings in Co-expression Prediction Matrix',\n",
    "    xaxis_title='False Positive Rate',\n",
    "    yaxis_title='True Positive Rate',\n",
    "    yaxis=dict(scaleanchor=\"x\", scaleratio=0.65),\n",
    "    xaxis=dict(constrain='domain'),\n",
    "    width=800, height=500\n",
    ")\n",
    "fig.show()"
   ]
  },
  {
   "cell_type": "code",
   "execution_count": null,
   "metadata": {
    "scrolled": false
   },
   "outputs": [],
   "source": [
    "%%appyter code_exec\n",
    "predicted_table = pd.DataFrame(df_coexpression.loc['Score'])\n",
    "predicted_table = predicted_table[~predicted_table.index.isin(associated_compounds)]\n",
    "predicted_table.to_csv({{term}}.replace(' ','_')+'_coexpression_similarity_predicted_drug_table.csv')\n",
    "figure_header('Table', 'Top Predicted Compounds ({})'.format(make_clickable({{term}}.replace(' ','_')+'_coexpression_similarity_predicted_drug_table.csv')))\n",
    "display(predicted_table.head(20))\n",
    "figure_legend('Table', 'Top 20 drugs predicted to be associated with {} based on coexpression'.format({{term}}))\n",
    "\n",
    "del(df_coexpression)"
   ]
  }
 ],
 "metadata": {
  "kernelspec": {
   "display_name": "DrugShot",
   "language": "python",
   "name": "drugshot"
  },
  "language_info": {
   "codemirror_mode": {
    "name": "ipython",
    "version": 3
   },
   "file_extension": ".py",
   "mimetype": "text/x-python",
   "name": "python",
   "nbconvert_exporter": "python",
   "pygments_lexer": "ipython3",
   "version": "3.8.3"
  }
 },
 "nbformat": 4,
 "nbformat_minor": 4
}
