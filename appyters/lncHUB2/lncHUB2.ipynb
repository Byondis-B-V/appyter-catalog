{
 "cells": [
  {
   "cell_type": "code",
   "execution_count": null,
   "metadata": {},
   "outputs": [],
   "source": [
    "#%%appyter init\n",
    "from appyter import magic\n",
    "magic.init(lambda _=globals: _())"
   ]
  },
  {
   "cell_type": "code",
   "execution_count": null,
   "metadata": {},
   "outputs": [],
   "source": [
    "%%appyter hide_code_exec\n",
    "{% do SectionField(name='section1', title = '1. Please input a valid gene symbol or Ensembl ID', subtitle = '', img = 'lncRNA_appyter_logo.png')%}"
   ]
  },
  {
   "cell_type": "code",
   "execution_count": null,
   "metadata": {},
   "outputs": [],
   "source": [
    "%%appyter code_exec\n",
    "{% set query = TabField(\n",
    "    name = 'species_input',\n",
    "    label = 'Species of Interest',\n",
    "    default = 'Human',\n",
    "    description = 'Select the species of interest.',\n",
    "    section = 'section1',\n",
    "    choices = {\n",
    "        'Human': [\n",
    "            AutocompleteField(\n",
    "                name = 'Homo_sapiens',\n",
    "                label = 'Human Gene of Interest',\n",
    "                default = 'HOTAIR',\n",
    "                description = 'Enter the lncRNA symbol or ENSEMBL id of interest (human).',\n",
    "                file_path = 'https://appyters.maayanlab.cloud/storage/lncRNA_Appyter/v0.1.3/human_lncRNAs.json'\n",
    "            )\n",
    "        ],\n",
    "        'Mouse': [\n",
    "            AutocompleteField(\n",
    "                name = 'Mus_musculus',\n",
    "                label = 'Mouse Gene of Interest',\n",
    "                default = 'Crnde',\n",
    "                description = 'Enter the lncRNA symbol or ENSEMBL id of interest (mouse).',\n",
    "                file_path = 'https://appyters.maayanlab.cloud/storage/lncRNA_Appyter/v0.1.3/mouse_lncRNAs.json'\n",
    "            )\n",
    "        ]\n",
    "    }\n",
    ")%}\n"
   ]
  },
  {
   "cell_type": "code",
   "execution_count": null,
   "metadata": {},
   "outputs": [],
   "source": [
    "%%appyter code_exec\n",
    "species = {{ query.value[0][\"args\"][\"name\"]|jsonify }}\n",
    "query = {{ query.value[0] }}"
   ]
  },
  {
   "cell_type": "code",
   "execution_count": null,
   "metadata": {},
   "outputs": [],
   "source": [
    "%%appyter code_exec\n",
    "\n",
    "{% if query.value[0][\"args\"][\"name\"] == \"Mus_musculus\" %}\n",
    "path = 'mm_'\n",
    "num_lnc = '11,274'\n",
    "{% set num_lnc = \"11,274\" %}\n",
    "{% else %}\n",
    "path = ''\n",
    "num_lnc = '18,705'\n",
    "{% set num_lnc = \"18,705\" %}\n",
    "{% endif %}"
   ]
  },
  {
   "cell_type": "code",
   "execution_count": null,
   "metadata": {},
   "outputs": [],
   "source": [
    "%%appyter markdown\n",
    "# Report about the Long Non-coding RNA (lncRNA) {{query.value[0].raw_value}}\n",
    "Based on lncRNA-gene co-expression, this report contains predictions regarding \n",
    "the biological functions of {{query.value[0].raw_value}} and small molecules that may specifically up- or \n",
    "down-regulate {{query.value[0].raw_value}} expression. This report also contains the gene coordinates for \n",
    "{{query.value[0].raw_value}}, canonical/alternative transcript sequences, publications per year, \n",
    "expression statistics of {{query.value[0].raw_value}} across tissues and cell-lines, subcellular \n",
    "localization across cell types and lncRNA-lncRNA expression similarities.\n"
   ]
  },
  {
   "cell_type": "code",
   "execution_count": null,
   "metadata": {},
   "outputs": [],
   "source": [
    "# Import libraries \n",
    "import pandas as pd \n",
    "import numpy as np\n",
    "import h5py as h5\n",
    "from IPython.display import display,FileLink, HTML, Markdown, IFrame\n",
    "import os\n",
    "from utils import *\n",
    "import s3fs\n",
    "from bokeh.io import output_notebook\n",
    "import json\n",
    "output_notebook()"
   ]
  },
  {
   "cell_type": "code",
   "execution_count": null,
   "metadata": {},
   "outputs": [],
   "source": [
    "# save gene name in json\n",
    "with open('gene.json', 'w') as f:\n",
    "    json.dump([query], f)"
   ]
  },
  {
   "cell_type": "code",
   "execution_count": null,
   "metadata": {},
   "outputs": [],
   "source": [
    "# Import gene mapping data\n",
    "s3 = s3fs.S3FileSystem(anon=True, client_kwargs=dict(endpoint_url='https://s3.appyters.maayanlab.cloud'))\n",
    "f = h5.File(s3.open(f'storage/lncRNA_Appyter/v0.1.3/{path}ARCHS4_lncRNA_corr.h5', 'rb'), 'r')\n",
    "\n",
    "col_genes = [x.decode('UTF-8') for x in f[\"meta/columns/genes\"]]\n",
    "col_genes_ensembl = [x.decode('UTF-8') for x in f[\"meta/columns/ensembl\"]]\n",
    "row_genes =  [x.decode('UTF-8') for x in f[\"meta/rows/genes\"]]\n",
    "row_genes_ensembl = [x.decode('UTF-8') for x in f[\"meta/rows/ensembl\"]]\n",
    "\n",
    "# Convert input Ensembl ID to gene symbol\n",
    "ensembl_2_genes = dict(zip(row_genes_ensembl,row_genes))\n",
    "genes_2_ensembl = dict(zip(row_genes,row_genes_ensembl))\n",
    "if query in col_genes_ensembl:\n",
    "    query_new = ensembl_2_genes[query]\n",
    "    if query != query_new:\n",
    "        print('The Ensembl ID ' + query + ' has been converted to the gene symbol ' + query_new )\n",
    "        query = query_new\n",
    "        print('Predicting functions for ' + query + '(' + genes_2_ensembl[query] + ')')\n",
    "    else:\n",
    "        print('Predicting functions for ' + query + '(' + genes_2_ensembl[query] + ')')\n",
    "else:\n",
    "    if query in row_genes:\n",
    "        print('Predicting functions for ' + query + '(' + genes_2_ensembl[query] + ')')"
   ]
  },
  {
   "cell_type": "code",
   "execution_count": null,
   "metadata": {},
   "outputs": [],
   "source": [
    "%%appyter markdown\n",
    "### Genomic coordinates for {{query.value[0].raw_value}} \n",
    "{% if query.value[0][\"args\"][\"name\"] == \"Homo_sapiens\" %}\n",
    "The genomic coordinates for {{query.value[0].raw_value}} are provided from GENCODE (gencode.v41.long_noncoding_RNAs.gtf)[1].\n",
    "{% else %}\n",
    "The genomic coordinates for {{query.value[0].raw_value}} are provided from GENCODE (gencode.vM30.long_noncoding_RNAs.gtf)[1].\n",
    "{% endif %}"
   ]
  },
  {
   "cell_type": "code",
   "execution_count": null,
   "metadata": {},
   "outputs": [],
   "source": [
    "# Import genomic coordinates data\n",
    "gene_coordinates = pd.read_csv(s3.open(f'storage/lncRNA_Appyter/v0.1.3/{path}lncrna_coordinates.csv'),header=0,index_col=0)\n",
    "gene_coordinates['ensembl_id'] = [x.split('.')[0] for x in gene_coordinates['gene_id']]\n",
    "if query.startswith('ENSG'):\n",
    "    gene_coordinates = gene_coordinates[gene_coordinates['ensembl_id']==query].reset_index(drop=True)\n",
    "else:\n",
    "    gene_coordinates = gene_coordinates[gene_coordinates['ensembl_id']==genes_2_ensembl[query]].reset_index(drop=True)\n",
    "gene_coordinates = gene_coordinates.drop(['ensembl_id'],axis=1)\n",
    "\n",
    "# Save gene coordinates\n",
    "if not os.path.exists(\"gene_info/\"):\n",
    "        os.makedirs(\"gene_info/\", exist_ok=True)\n",
    "gene_coordinates.to_csv('gene_info/' + query.replace('/','-') + '_gene_coordinates.csv')"
   ]
  },
  {
   "cell_type": "code",
   "execution_count": null,
   "metadata": {},
   "outputs": [],
   "source": [
    "%%appyter code_exec\n",
    "display(gene_coordinates)\n",
    "display(Markdown(f\"*Table 1. Genomic coordinates for {query}.*\"))\n",
    "display(FileLink('gene_info/' + query.replace('/','-') + '_gene_coordinates.csv', result_html_prefix=str('Download Table 1: ')))"
   ]
  },
  {
   "cell_type": "code",
   "execution_count": null,
   "metadata": {},
   "outputs": [],
   "source": [
    "%%appyter markdown\n",
    "###  Transcript sequences for {{query.value[0].raw_value}}\n",
    "The canonical and alternative cDNA sequneces for {{query.value[0].raw_value}} are provided from Ensembl ({{ query.value[0][\"args\"][\"name\"] }}.GRCh38.ncrna.fa)[2]."
   ]
  },
  {
   "cell_type": "code",
   "execution_count": null,
   "metadata": {},
   "outputs": [],
   "source": [
    "%%appyter code_exec\n",
    "try:\n",
    "    # Get canonical transcript ID for input lncRNA\n",
    "    canonical_transcript_id = pd.read_csv(s3.open(f'storage/lncRNA_Appyter/v0.1.3/{path}gene_canonical_metadata.csv'),header=0,index_col=0)\n",
    "    canonical_transcript_id  = canonical_transcript_id[canonical_transcript_id['Gene stable ID']==genes_2_ensembl[query]]['Transcript stable ID version'].values[0]\n",
    "    # Import all canonical cDNA sequences\n",
    "    canonical_sequences = pd.read_csv(s3.open(f'storage/lncRNA_Appyter/v0.1.3/{path}lncrna_canonical_sequences.csv'),header=0,index_col=0)\n",
    "    # Get canonical sequence for input lncRNA\n",
    "    canonical_sequences = canonical_sequences[canonical_sequences['id']==canonical_transcript_id].reset_index(drop=True)\n",
    "\n",
    "    if len(canonical_sequences) > 0:\n",
    "        canonical_sequences.to_csv('gene_info/' + query.replace('/','-') + '_canonical_sequence.csv')\n",
    "\n",
    "        display(canonical_sequences)\n",
    "        display(Markdown(f\"*Table 2. Canonical transcript sequence for {query}.*\"))\n",
    "        display(FileLink('gene_info/' + query.replace('/','-') + '_canonical_sequence.csv', result_html_prefix=str('Download Table 2: ')))\n",
    "    else:\n",
    "        display(Markdown(f\"**No canonical transcript sequence found for {query}.**\"))\n",
    "\n",
    "except:\n",
    "    display(Markdown(f\"**No canonical transcript sequence found for {query}.**\"))"
   ]
  },
  {
   "cell_type": "code",
   "execution_count": null,
   "metadata": {},
   "outputs": [],
   "source": [
    "%%appyter code_exec\n",
    "try:\n",
    "    # Get alternative transcript IDs for input lncRNA\n",
    "    alternative_transcript_id = pd.read_csv(s3.open(f'storage/lncRNA_Appyter/v0.1.3/{path}gene_alternative_metadata.csv'),header=0,index_col=0)\n",
    "    alternative_transcript_id = alternative_transcript_id[alternative_transcript_id['Gene stable ID']==genes_2_ensembl[query]]['Transcript stable ID version'].values\n",
    "\n",
    "    # Import all alternative cDNA sequences\n",
    "    alternative_sequences = pd.read_csv(s3.open(f'storage/lncRNA_Appyter/v0.1.3/{path}lncrna_alternative_sequences.csv'),header=0,index_col=0)\n",
    "\n",
    "    # Get alternative sequences for input lncRNA\n",
    "    alternative_sequences = alternative_sequences[alternative_sequences['id'].isin(alternative_transcript_id)].reset_index(drop=True)\n",
    "\n",
    "    if len(alternative_sequences) > 0:\n",
    "        alternative_sequences.to_csv('gene_info/' + query.replace('/','-') + '_alternative_sequence.csv')\n",
    "\n",
    "        display(alternative_sequences)\n",
    "        display(Markdown(f\"*Table 3. Alternative transcript sequence(s) for {query}.*\"))\n",
    "        display(FileLink('gene_info/' + query.replace('/','-') + '_alternative_sequence.csv', result_html_prefix=str('Download Table 3: ')))\n",
    "    else:\n",
    "        display(Markdown(f\"**No alternative transcript sequence(s) found for {query}.**\"))\n",
    "except:\n",
    "      display(Markdown(f\"**No alternative transcript sequence(s) found for {query}.**\"))"
   ]
  },
  {
   "cell_type": "code",
   "execution_count": null,
   "metadata": {},
   "outputs": [],
   "source": [
    "%%appyter markdown\n",
    "### Publications that mention {{query.value[0].raw_value}} \n",
    "The PubMed API was used to generate AutoRIF data for {{query.value[0].raw_value}}. All PubMed IDs and dates were automatically collected for articles mentioning the lncRNA {{query.value[0].raw_value}}. The Ensembl ID[2], lncRNA gene symbol from GENCODE[1], and any previous symbols found in the HGNC database[3] along with the terms ‘lncRNA’ or ‘long non-coding RNA’ were used to query PubMed (e.g., “(ENSG00000228630 OR HOTAIR) AND (lncRNA OR long non-coding RNA)”)"
   ]
  },
  {
   "cell_type": "code",
   "execution_count": null,
   "metadata": {},
   "outputs": [],
   "source": [
    "#%%appyter code_exec\n",
    "# Get AutoRIF data for input lncRNA\n",
    "\n",
    "autorif_file = s3.open(f'storage/lncRNA_Appyter/v0.1.3/{path}lncRNA-autorif_final.tsv', 'rb')\n",
    "autorif_results = []\n",
    "\n",
    "for line in autorif_file.readlines()[:-2]:\n",
    "    line = line.strip()\n",
    "    line = line.decode('UTF-8')\n",
    "    line = list(filter(lambda x: x != '', line.split(' ')))\n",
    "    lncrna = line[0].split(\"(\")[1].replace(\")\",'')\n",
    "\n",
    "    if lncrna == genes_2_ensembl[query]:\n",
    "        autorif_results =  line[1:]\n",
    "        break\n",
    "\n",
    "# Save autorif data\n",
    "if not os.path.exists(\"autorif/\"):\n",
    "        os.makedirs(\"autorif/\", exist_ok=True)\n",
    "\n",
    "if len(autorif_results) > 0:\n",
    "\n",
    "    autorif_results_df = pd.DataFrame({'pmid':[x.split(',')[0] for x in autorif_results],'date':[x.split(',')[1] for x in autorif_results]})\n",
    "    autorif_results_df = autorif_results_df.sort_values(by='date',ascending=False) \n",
    "    autorif_results_df = autorif_results_df[~autorif_results_df.date.str.contains(\"2022-\")].reset_index(drop=True)# remove early 2022 publications\n",
    "    total_pubs = len(autorif_results_df)\n",
    "    autorif_results_df.to_csv('autorif/' + query.replace('/','-') + '_autorif_results.csv')\n",
    "\n",
    "    autorif_plot(autorif_results_df,query,'autorif/' + query.replace('/','-') + '_autorif')\n",
    "    display(Markdown(f\"*Figure 1. Publications mentioning the lncRNA {query}. {total_pubs} total publications mentioned {query} from 1992 to 2021*\"))\n",
    "    display(FileLink('autorif/' + query.replace('/','-') + '_autorif.png', result_html_prefix=str('Download Figure 1 (PNG): ')))\n",
    "    display(FileLink('autorif/' + query.replace('/','-') + '_autorif.svg', result_html_prefix=str('Download Figure 1 (SVG): ')))\n",
    "    display(FileLink('autorif/' + query.replace('/','-') + '_autorif.pdf', result_html_prefix=str('Download Figure 1 (PDF): ')))\n",
    "    display(FileLink('autorif/' + query.replace('/','-') + '_autorif_results.csv', result_html_prefix=str('Download AutoRIF data: ')))\n",
    "else:\n",
    "    display(Markdown(f\"**No publications found for {query}.**\"))"
   ]
  },
  {
   "cell_type": "code",
   "execution_count": null,
   "metadata": {},
   "outputs": [],
   "source": [
    "%%appyter markdown\n",
    "### Import lncRNA-gene co-expression matrix\n",
    "This lncRNA-gene co-expression matrix was generated by computing the Pearson correlation coefficients for 6,000 randomly selected bulk RNA-seq samples from ARCHS4[4]. NOTE: If an Ensembl ID was entered, it will be converted to its corresponding gene symbol if available. "
   ]
  },
  {
   "cell_type": "code",
   "execution_count": null,
   "metadata": {},
   "outputs": [],
   "source": [
    "# Import lncRNA-gene co-expression matrix\n",
    "corr =f[\"data/correlation\"]"
   ]
  },
  {
   "cell_type": "code",
   "execution_count": null,
   "metadata": {},
   "outputs": [],
   "source": [
    "%%appyter markdown\n",
    "### Top genes correlated with {{query.value[0].raw_value}}"
   ]
  },
  {
   "cell_type": "code",
   "execution_count": null,
   "metadata": {},
   "outputs": [],
   "source": [
    "%%appyter markdown\n",
    "Using the loaded lncRNA-gene correlation matrix, we report the genes that are most positively and negatively correlated with {{query.value[0].raw_value}}."
   ]
  },
  {
   "cell_type": "code",
   "execution_count": null,
   "metadata": {},
   "outputs": [],
   "source": [
    "# Save correlation files\n",
    "if not os.path.exists(\"gene_correlations/\"):\n",
    "        os.makedirs(\"gene_correlations/\", exist_ok=True)\n",
    "\n",
    "# Get index of lncRNA of interest\n",
    "idx_query = np.where(np.asarray(col_genes) == query)[0][0]\n",
    "\n",
    "# Rank genes based on pearson correlation with the lncRNA of interest\n",
    "lncRNA_coexp = pd.DataFrame(corr[:,idx_query])\n",
    "\n",
    "lncRNA_coexp.index = row_genes\n",
    "lncRNA_coexp.columns = [\"Pearson's Correlation Coefficient\"]\n",
    "lncRNA_coexp = lncRNA_coexp.sort_values(by=\"Pearson's Correlation Coefficient\", ascending=False)\n",
    "\n",
    "lncRNA_neg_coexp = lncRNA_coexp.sort_values(by=\"Pearson's Correlation Coefficient\", ascending=True)\n",
    "\n",
    "\n",
    "# Save gene correlations to csv files\n",
    "lncRNA_coexp[1:].to_csv('gene_correlations/'+ query.replace('/','-') + '_positively_correlated_genes.csv')\n",
    "lncRNA_neg_coexp.to_csv('gene_correlations/' + query.replace('/','-') + '_negatively_correlated_genes.csv')"
   ]
  },
  {
   "cell_type": "code",
   "execution_count": null,
   "metadata": {},
   "outputs": [],
   "source": [
    "%%appyter code_exec\n",
    "display(lncRNA_coexp[1:21])\n",
    "display(Markdown(f\"*Table 4. The Top 20 genes positively correlated with {query} ranked by Pearson’s correlation coefficients.*\"))\n",
    "display(FileLink('gene_correlations/' + query.replace('/','-') + '_positively_correlated_genes.csv', result_html_prefix=str('Download Table 4: ')))"
   ]
  },
  {
   "cell_type": "code",
   "execution_count": null,
   "metadata": {},
   "outputs": [],
   "source": [
    "%%appyter code_exec\n",
    "display(lncRNA_neg_coexp[0:20])\n",
    "display(Markdown(f\"*Table 5. The Top 20 genes negatively correlated with {query} ranked by Pearson’s correlation coefficients.*\"))\n",
    "display(FileLink('gene_correlations/' + query.replace('/','-') + '_negatively_correlated_genes.csv', result_html_prefix=str('Download Table 5: ')))"
   ]
  },
  {
   "cell_type": "code",
   "execution_count": null,
   "metadata": {},
   "outputs": [],
   "source": [
    "%%appyter markdown\n",
    "### Interactive network visualization of the top 100 genes positively correlated with {{query.value[0].raw_value}}\n",
    "Interactive network visualization of the top 100 genes positively correlated with {{query.value[0].raw_value}}. \n",
    "Each node represents a gene and is colored by chromosome location, except for the bright red node which \n",
    "represents the lncRNA {{query.value[0].raw_value}}. The thickness of the edges corresponds to Pearson correlation coefficients.\n",
    "Clicking on a gene node will highlight its corresponding edges in orange. Hovering over a node will display the gene \n",
    "name and chromosome location.\n",
    "Network Methods: All pairwise correlations between the top 100 genes positively correlated with \n",
    "{{query.value[0].raw_value}} are extracted. The 3 edges with the highest correlation per gene node are used to \n",
    "initialize the network. Edges with weights < 0.3 are dropped. To further prune the network, the edge \n",
    "with the lowest weight for each hub node is dropped. At the start, a hub node is defined as a node with > 10 edges. \n",
    "The pruning process is repeated until the network has an average of < 3 edges per node. The top 5 edges for \n",
    "{{query.value[0].raw_value}} are shown regardless of their weights."
   ]
  },
  {
   "cell_type": "code",
   "execution_count": null,
   "metadata": {},
   "outputs": [],
   "source": [
    "# Visualize the co-expression network for the top 100 positively correlated genes\n",
    "if not os.path.exists(\"coexpression_network/\"):\n",
    "        os.makedirs(\"coexpression_network/\", exist_ok=True)\n",
    "g = network_vis(query,lncRNA_coexp,genes_2_ensembl,row_genes, path)\n",
    "g[1].to_csv(\"coexpression_network/\"+query.replace('/','-')+'_network_node_metadata.csv')\n",
    "g[2].to_csv(\"coexpression_network/\"+query.replace('/','-')+'_network_edge_metadata.csv')\n",
    "with open('coexpression_network/' + query.replace('/','-') + '_network.html', \"w\") as out:\n",
    "        out.write(g[0].generate_html(notebook=True))\n",
    "IFrame('coexpression_network/' + query.replace('/','-') + '_network.html', width=\"1000px\", height=\"600px\")"
   ]
  },
  {
   "cell_type": "code",
   "execution_count": null,
   "metadata": {},
   "outputs": [],
   "source": [
    "%%appyter code_exec\n",
    "display(Markdown(f\"*Figure 2. Interactive network visualization of the top 100 genes positively correlated with {query}.*\"))\n",
    "display(FileLink('coexpression_network/' + query.replace('/','-') + '_network.html', result_html_prefix=str('Download Figure 2: ')))\n",
    "display(FileLink(\"coexpression_network/\"+query.replace('/','-')+'_network_node_metadata.csv', result_html_prefix=str('Download Node metadata: ')))\n",
    "display(FileLink(\"coexpression_network/\"+query.replace('/','-')+'_network_edge_metadata.csv', result_html_prefix=str('Download Edge metadata: ')))"
   ]
  },
  {
   "cell_type": "code",
   "execution_count": null,
   "metadata": {},
   "outputs": [],
   "source": [
    "%%appyter markdown\n",
    "### Enrichment analysis applied to the top genes most positively and negatively correlated with {{query.value[0].raw_value}}"
   ]
  },
  {
   "cell_type": "code",
   "execution_count": null,
   "metadata": {},
   "outputs": [],
   "source": [
    "%%appyter markdown\n",
    "The top genes most positively and negatively correlated with {{query.value[0].raw_value}} are submitted to Enrichr[6-8] for enrichment analysis. NOTE: Only genes with gene symbols are submitted to Enrichr. Ensembl IDs that do not map to an official gene symbol were dropped."
   ]
  },
  {
   "cell_type": "code",
   "execution_count": null,
   "metadata": {},
   "outputs": [],
   "source": [
    "%%appyter code_exec\n",
    "# Get positively and negatively correlated genes\n",
    "n_genes = [25, 50, 100, 200, 300, 500]\n",
    "top_genes = [x for x in list(lncRNA_coexp.index) if not x.startswith('ENSG')] # only keep genes with gene symbols\n",
    "top_genes = [x for x in top_genes if x != query] # remove query from end of list \n",
    "top_neg_genes = top_genes[::-1] # reverse list for top negatively correlated genes\n",
    "\n",
    "# Get enrichemnt reuslts for top n positively correlated genes with input lncRNA\n",
    "display(HTML(\"<font size=4> <b>Enrichment analysis reuslts for positively correlated genes with {query} </b></font>\".format(query=query)))\n",
    "for n in n_genes:\n",
    "        enrichr_link_pos = Enrichr_API(top_genes[0:n],str('Top 200 positively correlated genes with the lncRNA: ' + query))\n",
    "        \n",
    "        # Save enrichr link to text file\n",
    "        if not os.path.exists(\"enrichment_analysis/\"):\n",
    "                os.makedirs(\"enrichment_analysis/\", exist_ok=True)\n",
    "        if enrichr_link_pos != 'Error':\n",
    "                open_file = open('enrichment_analysis/'+query.replace('/','-')+'_top_'+str(n)+'_positively_correlated_genes_Enrichr_link.txt','w')\n",
    "                open_file.write(enrichr_link_pos)\n",
    "                open_file.close()\n",
    "\n",
    "                display(HTML(\"Access the enrichment analysis results for the top  <b>{n} positively</b> correlated genes with {query} here: <a href='{href}'>{link}</a>\".format(href=enrichr_link_pos, link = enrichr_link_pos, query=query, n=n)))\n",
    "\n",
    "display(HTML(\"<font size=4> \\n\\n\\n <b>Enrichment analysis reuslts for negatively correlated genes with {query} </b></font>\".format(query=query)))\n",
    "\n",
    "# Get enrichemnt reuslts for top n negatively correlated genes with input lncRNA\n",
    "for n in n_genes:\n",
    "        enrichr_link_neg = Enrichr_API(top_neg_genes[0:n],str('Top 200 negatively correlated genes with the lncRNA: ' + query))\n",
    "        if enrichr_link_neg != 'Error':\n",
    "                open_file = open('enrichment_analysis/'+query.replace('/','-')+'_top_'+str(n)+'_negatively_correlated_genes_Enrichr_link.txt','w')\n",
    "                open_file.write(enrichr_link_neg)\n",
    "                open_file.close()\n",
    "        \n",
    "                display(HTML(\"Access the enrichment analysis results for the top <b>{n} negatively</b> correlated genes with {query} here: <a href='{href}'>{link}</a>\".format(href=enrichr_link_neg, link = enrichr_link_neg, query=query, n=n)))"
   ]
  },
  {
   "cell_type": "code",
   "execution_count": null,
   "metadata": {},
   "outputs": [],
   "source": [
    "%%appyter markdown\n",
    "### Top lncRNAs positively correlated with {{query.value[0].raw_value}}"
   ]
  },
  {
   "cell_type": "code",
   "execution_count": null,
   "metadata": {},
   "outputs": [],
   "source": [
    "%%appyter markdown\n",
    "Below we list the top 20 lncRNAs, out of all {{num_lnc}} lncRNAs within our database, that correlate most with {{query.value[0].raw_value}} based on their Pearson correlation coefficients."
   ]
  },
  {
   "cell_type": "code",
   "execution_count": null,
   "metadata": {},
   "outputs": [],
   "source": [
    "# Get correlated lncRNAs\n",
    "lncRNA_lncRNA_coexp = lncRNA_coexp.loc[col_genes]\n",
    "lncRNA_lncRNA_coexp = lncRNA_lncRNA_coexp.sort_values(by=\"Pearson's Correlation Coefficient\", ascending=False)\n",
    "\n",
    "# Save gene correlations to csv file\n",
    "lncRNA_lncRNA_coexp[1:].to_csv('gene_correlations/' + query.replace('/','-') + '_positively_correlated_lncRNAs.csv')"
   ]
  },
  {
   "cell_type": "code",
   "execution_count": null,
   "metadata": {},
   "outputs": [],
   "source": [
    "%%appyter code_exec\n",
    "display(lncRNA_lncRNA_coexp[1:21])\n",
    "display(Markdown(f\"*Table 6. Top 20 lncRNAs that correlate most with {query} ranked by Pearson correlation coefficients.*\"))\n",
    "display(FileLink('gene_correlations/' + query.replace('/','-') + '_positively_correlated_lncRNAs.csv', result_html_prefix=str('Download Table 6: ')))"
   ]
  },
  {
   "cell_type": "code",
   "execution_count": null,
   "metadata": {},
   "outputs": [],
   "source": [
    "%%appyter markdown\n",
    "### lncAtlas localization information and predicted localization of {{query.value[0].raw_value}}"
   ]
  },
  {
   "cell_type": "code",
   "execution_count": null,
   "metadata": {},
   "outputs": [],
   "source": [
    "%%appyter markdown\n",
    "Cell localization information was sourced from lncATLAS[5]. If lncATLAS does not contain information for the entered lncRNA, predicted localization scores will be shown. Predicted localizations were calculated with unsupravised learning data using ranked correlations from ARCHS4 and the available data from lncATLAS[5]."
   ]
  },
  {
   "cell_type": "code",
   "execution_count": null,
   "metadata": {},
   "outputs": [],
   "source": [
    "%%appyter code_exec\n",
    "if not os.path.exists(\"localization/\"):\n",
    "        os.makedirs(\"localization/\", exist_ok=True)\n",
    "\n",
    "lncAtlas_ensembl = json.load(s3.open('storage/lncRNA_Appyter/v0.1.3/lnc_celltype_ranked_ensem.json'))\n",
    "\n",
    "lncAtlas_localization = {'cell type': [], 'CN RCI': []}\n",
    "for cell_type in lncAtlas_ensembl:\n",
    "    if genes_2_ensembl[query] in lncAtlas_ensembl[cell_type]:\n",
    "        lncAtlas_localization['CN RCI'].append(lncAtlas_ensembl[cell_type][genes_2_ensembl[query]])\n",
    "        lncAtlas_localization['cell type'].append(cell_type)\n",
    "\n",
    "if len(lncAtlas_localization['cell type']) > 0: \n",
    "    plt.Figure()\n",
    "    df = pd.DataFrame(lncAtlas_localization)\n",
    "    df.plot.bar(x='cell type', y='CN RCI')\n",
    "    plt.title(f'{query}({genes_2_ensembl[query]}) Cytoplasmic/Nuclear Localization: RCI')\n",
    "    plt.ylabel(\"<--- Nucleus   Cytoplasam --->\")\n",
    "    plt.xlabel(\"Cell Type\")\n",
    "    ax = plt.gca()\n",
    "    ax.set_axisbelow(True)\n",
    "    ax.yaxis.grid(color='gray', linestyle='dashed')\n",
    "    ax.set_ylim([-4, 4])\n",
    "else:\n",
    "    display(Markdown(f\"**No lncATLAS localization information found for {query}.**\"))\n",
    "{% if query.value[0][\"args\"][\"name\"] == 'Homo_sapiens'%}\n",
    "    predicted = json.load(s3.open('storage/lncRNA_Appyter/v0.1.3/scores_normalized_trunc.json'))\n",
    "    df = pd.DataFrame({'cell type': ['A549', 'H1.hESC', 'IMR.90', 'MCF.7', 'HUVEC'], 'Predicted localization': [predicted['A549'][query], predicted['H1.hESC'][query], predicted['IMR.90'][query], predicted['MCF.7'][query], predicted['HUVEC'][query]]})\n",
    "    df.plot.bar(x='cell type', y='CN RCI')\n",
    "    plt.ylabel(\"<--- Nucleus   Cytoplasam --->\")\n",
    "    plt.xlabel(\"Predicted Localization\")\n",
    "    ax = plt.gca()\n",
    "    ax.set_axisbelow(True)\n",
    "    ax.yaxis.grid(color='gray', linestyle='dashed')\n",
    "    ax.set_ylim([-.5, .5])\n",
    "# Save gene coordinates\n",
    "plt.show()\n",
    "df.to_csv('localization/' + query.replace('/','-') + '_localization.csv')\n",
    "plt.savefig('localization/' + query.replace('/','-') + '_localization.png')\n",
    "{% endif %}"
   ]
  },
  {
   "cell_type": "code",
   "execution_count": null,
   "metadata": {},
   "outputs": [],
   "source": [
    "%%appyter markdown\n",
    "### Predicted biological functions of {{query.value[0].raw_value}}"
   ]
  },
  {
   "cell_type": "code",
   "execution_count": null,
   "metadata": {},
   "outputs": [],
   "source": [
    "%%appyter markdown\n",
    "For each Enrichr[6-8] library, we compute the mean Pearson correlation coefficient for each gene set by averaging \n",
    "the Pearson correlation coefficients between each gene in the gene set and {{query.value[0].raw_value}}. Terms are ranked \n",
    "by the right-tailed and left-tailed p-values of their mean Pearson correlation coefficients. For each library, \n",
    "terms with significant right-tailed (red bar graphs) or left-tailed (blue bar graphs) p-values are predicted to \n",
    "be associated with {{query.value[0].raw_value}}."
   ]
  },
  {
   "cell_type": "code",
   "execution_count": null,
   "metadata": {},
   "outputs": [],
   "source": [
    "# Store biological function predictions\n",
    "if not os.path.exists(\"predicted_functions/\"):\n",
    "    os.makedirs(\"predicted_functions/\", exist_ok=True)\n",
    "\n",
    "# Import pre-computed lncRNA function predictions\n",
    "\n",
    "prediction_libraries = ['MGI_Mammalian_Phenotype_Level_4_2021','GO_Biological_Process_2021','KEGG_2021_Human','DisGeNET','ChEA_2022','ENCODE_TF_ChIP-seq_2015']\n",
    "prediction_libraries = np.array_split(prediction_libraries, int(np.ceil(len(prediction_libraries)/2))) \n",
    "for i_group,group in enumerate(prediction_libraries):\n",
    "    predictions = []\n",
    "    library_names = []\n",
    "    for pred_library in group:\n",
    "        precomputed_avg_coexp = get_bf_pvalues('storage/lncRNA_Appyter/v0.1.3/' + path + pred_library + '_lncRNA_avg_coexpression.h5', 'storage/lncRNA_Appyter/v0.1.3/' + path + pred_library + '_lncRNA_pvalue.h5' , query)\n",
    "        predictions.append(precomputed_avg_coexp)\n",
    "        library_names.append(pred_library.replace('_',' '))\n",
    "    if i_group == 0:\n",
    "        plot_results(library_names=library_names, results_dfs=predictions,file_name='predicted_functions/'+query.replace('/','-')+'_biological_function_predictions_f1',direction='right-tailed-pvalue')\n",
    "        display(Markdown(f\"*Figure 3. Predicted MGI Mammalian Phenotypes and GO Biological Processes for the lncRNA {query}. Terms are ranked by the right-tailed p-value for the mean Pearson correlation coefficient calculated between each gene set and {query}.*\" ))\n",
    "        display(FileLink('predicted_functions/'+query.replace('/','-')+'_biological_function_predictions_f1_right-tailed-pvalue.png', result_html_prefix=str('Download Figure 3 (PNG): ')))\n",
    "        display(FileLink('predicted_functions/'+query.replace('/','-')+'_biological_function_predictions_f1_right-tailed-pvalue.svg', result_html_prefix=str('Download Figure 3 (SVG): ')))\n",
    "        display(FileLink('predicted_functions/'+query.replace('/','-')+'_biological_function_predictions_f1_right-tailed-pvalue.pdf', result_html_prefix=str('Download Figure 3 (PDF): ')))\n",
    "    if i_group == 1:\n",
    "        plot_results(library_names=library_names, results_dfs=predictions,file_name='predicted_functions/'+query.replace('/','-')+'_biological_function_predictions_f2',direction='right-tailed-pvalue')\n",
    "        display(Markdown(f\"*Figure 4. Predicted KEGG pathways and DisGeNET disease terms for the lncRNA {query}. Terms are ranked by the right-tailed p-value for the mean Pearson correlation coefficient calculated between each gene set and {query}.*\" ))\n",
    "        display(FileLink('predicted_functions/'+query.replace('/','-')+'_biological_function_predictions_f2_right-tailed-pvalue.png', result_html_prefix=str('Download Figure 4 (PNG): ')))\n",
    "        display(FileLink('predicted_functions/'+query.replace('/','-')+'_biological_function_predictions_f2_right-tailed-pvalue.svg', result_html_prefix=str('Download Figure 4 (SVG): ')))\n",
    "        display(FileLink('predicted_functions/'+query.replace('/','-')+'_biological_function_predictions_f2_right-tailed-pvalue.pdf', result_html_prefix=str('Download Figure 4 (PDF): ')))\n",
    "    if i_group == 2:\n",
    "        plot_results(library_names=library_names, results_dfs=predictions,file_name='predicted_functions/'+query.replace('/','-')+'_biological_function_predictions_f3',direction='right-tailed-pvalue')\n",
    "        display(Markdown(f\"*Figure 5. Predicted ChEA and ENCODE terms for the lncRNA {query}. Terms are ranked by the right-tailed p-value for the mean Pearson correlation coefficient calculated between each gene set and {query}.*\" ))\n",
    "        display(FileLink('predicted_functions/'+query.replace('/','-')+'_biological_function_predictions_f3_right-tailed-pvalue.png', result_html_prefix=str('Download Figure 5 (PNG): ')))\n",
    "        display(FileLink('predicted_functions/'+query.replace('/','-')+'_biological_function_predictions_f3_right-tailed-pvalue.svg', result_html_prefix=str('Download Figure 5 (SVG): ')))\n",
    "        display(FileLink('predicted_functions/'+query.replace('/','-')+'_biological_function_predictions_f3_right-tailed-pvalue.pdf', result_html_prefix=str('Download Figure 5 (PDF): ')))\n",
    "\n",
    "    # Save Predictions \n",
    "    for ii,prediction in enumerate(predictions):\n",
    "        prediction.to_csv(\"predicted_functions/\" + query.replace('/','-') +'_' + library_names[ii]  + '_' + 'right-tailed-pvalue' + '.csv')\n",
    "        display(FileLink(\"predicted_functions/\" + query.replace('/','-') +'_' + library_names[ii]  + '_' + 'right-tailed-pvalue' + '.csv', result_html_prefix=str('Download predictions: ')))"
   ]
  },
  {
   "cell_type": "code",
   "execution_count": null,
   "metadata": {},
   "outputs": [],
   "source": [
    "# Import pre-computed lncRNA function predictions\n",
    "prediction_libraries = ['MGI_Mammalian_Phenotype_Level_4_2021','GO_Biological_Process_2021','KEGG_2021_Human','DisGeNET','ChEA_2022','ENCODE_TF_ChIP-seq_2015']\n",
    "prediction_libraries = np.array_split(prediction_libraries, int(np.ceil(len(prediction_libraries)/2))) \n",
    "for i_group,group in enumerate(prediction_libraries):\n",
    "    predictions = []\n",
    "    library_names = []\n",
    "    for pred_library in group:\n",
    "        precomputed_avg_coexp = get_bf_pvalues('storage/lncRNA_Appyter/v0.1.3/' + path + pred_library + '_lncRNA_avg_coexpression.h5', 'storage/lncRNA_Appyter/v0.1.3/' + path + pred_library + '_lncRNA_pvalue_lt.h5' , query)\n",
    "        predictions.append(precomputed_avg_coexp)\n",
    "        library_names.append(pred_library.replace('_',' '))\n",
    "    if i_group == 0:\n",
    "        plot_results(library_names=library_names, results_dfs=predictions,file_name='predicted_functions/'+query.replace('/','-')+'_biological_function_predictions_f4',direction='left-tailed-pvalue')\n",
    "        display(Markdown(f\"*Figure 6. Predicted MGI Mammalian Phenotypes and GO Biological Processes for the lncRNA {query}. Terms are ranked by the left-tailed p-value for the mean Pearson correlation coefficient calculated between each gene set and {query}.*\" ))\n",
    "        display(FileLink('predicted_functions/'+query.replace('/','-')+'_biological_function_predictions_f4_left-tailed-pvalue.png', result_html_prefix=str('Download Figure 6 (PNG): ')))\n",
    "        display(FileLink('predicted_functions/'+query.replace('/','-')+'_biological_function_predictions_f4_left-tailed-pvalue.svg', result_html_prefix=str('Download Figure 6 (SVG): ')))\n",
    "        display(FileLink('predicted_functions/'+query.replace('/','-')+'_biological_function_predictions_f4_left-tailed-pvalue.pdf', result_html_prefix=str('Download Figure 6 (PDF): ')))\n",
    "    if i_group == 1:\n",
    "        plot_results(library_names=library_names, results_dfs=predictions,file_name='predicted_functions/'+query.replace('/','-')+'_biological_function_predictions_f5',direction='left-tailed-pvalue')\n",
    "        display(Markdown(f\"*Figure 7. Predicted KEGG pathways and DisGeNET disease terms for the lncRNA {query}. Terms are ranked by the left-tailed p-value for the mean Pearson correlation coefficient calculated between each gene set and {query}.*\" ))\n",
    "        display(FileLink('predicted_functions/'+query.replace('/','-')+'_biological_function_predictions_f5_left-tailed-pvalue.png', result_html_prefix=str('Download Figure 7 (PNG): ')))\n",
    "        display(FileLink('predicted_functions/'+query.replace('/','-')+'_biological_function_predictions_f5_left-tailed-pvalue.svg', result_html_prefix=str('Download Figure 7 (SVG): ')))\n",
    "        display(FileLink('predicted_functions/'+query.replace('/','-')+'_biological_function_predictions_f5_left-tailed-pvalue.pdf', result_html_prefix=str('Download Figure 7 (PDF): ')))\n",
    "    if i_group == 2:\n",
    "        plot_results(library_names=library_names, results_dfs=predictions,file_name='predicted_functions/'+query.replace('/','-')+'_biological_function_predictions_f6',direction='left-tailed-pvalue')\n",
    "        display(Markdown(f\"*Figure 8. Predicted ChEA and ENCODE terms for the lncRNA {query}. Terms are ranked by the left-tailed p-value for the mean Pearson correlation coefficient calculated between each gene set and {query}.*\" ))\n",
    "        display(FileLink('predicted_functions/'+query.replace('/','-')+'_biological_function_predictions_f6_left-tailed-pvalue.png', result_html_prefix=str('Download Figure 8 (PNG): ')))\n",
    "        display(FileLink('predicted_functions/'+query.replace('/','-')+'_biological_function_predictions_f6_left-tailed-pvalue.svg', result_html_prefix=str('Download Figure 8 (SVG): ')))\n",
    "        display(FileLink('predicted_functions/'+query.replace('/','-')+'_biological_function_predictions_f6_left-tailed-pvalue.pdf', result_html_prefix=str('Download Figure 8 (PDF): ')))\n",
    "\n",
    "    # Save Predictions \n",
    "    for ii,prediction in enumerate(predictions):\n",
    "        prediction.to_csv(\"predicted_functions/\" + query.replace('/','-') +'_' + library_names[ii]  + '_' + 'left-tailed-pvalue' + '.csv')\n",
    "        display(FileLink(\"predicted_functions/\" + query.replace('/','-') +'_' + library_names[ii]  + '_' + 'left-tailed-pvalue' + '.csv', result_html_prefix=str('Download predictions: ')))\n",
    "\n"
   ]
  },
  {
   "cell_type": "code",
   "execution_count": null,
   "metadata": {},
   "outputs": [],
   "source": [
    "%%appyter markdown\n",
    "### Expression of {{query.value[0].raw_value}} across tissues and cell lines\n",
    "This part of the report provides expression statistics for the lncRNA {{query.value[0].raw_value}} in various tissues and cell lines."
   ]
  },
  {
   "cell_type": "code",
   "execution_count": null,
   "metadata": {},
   "outputs": [],
   "source": [
    "%%appyter markdown\n",
    "Samples from ARCHS4[4] were automatically labelled by tissue type or cell line of origin. Tissues and cell lines with \n",
    "less than 20 samples were removed, and expression statistics were computed across all remaining tissues and cell \n",
    "lines. The median expression of {{query.value[0].raw_value}} was then calculated for each tissue type and cell line."
   ]
  },
  {
   "cell_type": "code",
   "execution_count": null,
   "metadata": {},
   "outputs": [],
   "source": [
    "# Create folder for tissue and cell line specific expression\n",
    "if not os.path.exists(\"tissue_and_cell_line_expression/\"):\n",
    "    os.makedirs(\"tissue_and_cell_line_expression\", exist_ok=True)\n",
    "\n",
    "# Import tissue expression data\n",
    "tissue_expr = pd.read_csv(s3.open(f'storage/lncRNA_Appyter/v0.1.3/{path}lncRNA_expr_by_tissue_filtered.csv', 'rb'),header=0, index_col=[0, 1])\n",
    "tissue_expr.columns = [x.replace('tissue-','').replace('cell-', '') for x in tissue_expr.columns]\n",
    "tissue_expr_query = tissue_expr[tissue_expr.index.get_level_values(0) == query]\n",
    "tissue_expr_query.sort_values((query, 'mean'), axis=1, inplace=True)\n",
    "tissue_expr_query.sort_values((query, 'mean'), axis=1, ascending=False).to_csv(\"tissue_and_cell_line_expression/\" + query.replace('/','-') + '_tissue_median_expr' + '.csv')\n",
    "    \n",
    "if tissue_expr_query.shape[1] > 30:\n",
    "    tissue_expr_query_plot = tissue_expr_query.iloc[:, -30:]\n",
    "else:\n",
    "    tissue_expr_query_plot = tissue_expr_query\n",
    "\n",
    "cell_line_expr = pd.read_csv(s3.open(f'storage/lncRNA_Appyter/v0.1.3/{path}lncRNA_expr_by_cell_line_filtered.csv', 'rb'),header=0, index_col=[0, 1]) \n",
    "cell_line_expr.columns = [x.replace('cell line-', '') for x in cell_line_expr.columns]\n",
    "cell_line_expr_query = cell_line_expr[cell_line_expr.index.get_level_values(0) == query]\n",
    "cell_line_expr_query.sort_values((query, 'mean'), axis=1, inplace=True)\n",
    "cell_line_expr_query.sort_values((query, 'mean'), axis=1, ascending=False).to_csv(\"tissue_and_cell_line_expression/\" + query.replace('/','-') + '_cell_line_median_expr' + '.csv')\n",
    "\n",
    "if cell_line_expr_query.shape[1] > 30:\n",
    "    cell_line_expr_query_plot = cell_line_expr_query.iloc[:, -30:]\n",
    "else:\n",
    "    cell_line_expr_query_plot = cell_line_expr_query"
   ]
  },
  {
   "cell_type": "code",
   "execution_count": null,
   "metadata": {},
   "outputs": [],
   "source": [
    "%%appyter code_exec\n",
    "display(Markdown(\"## RNA-Seq Expression Count Statistics\"))\n",
    "IQR = tissue_expr_query_plot.loc[(query, '75%')]-tissue_expr_query_plot.loc[(query,'25%')]\n",
    "fig = go.Figure()\n",
    "fig.add_trace(go.Box(\n",
    "    lowerfence=np.maximum(\n",
    "        tissue_expr_query_plot.loc[(query,'min')],\n",
    "        tissue_expr_query_plot.loc[(query,'25%')] - (1.5*IQR),\n",
    "    ),\n",
    "    q1=tissue_expr_query_plot.loc[(query,'25%')],\n",
    "    median=tissue_expr_query_plot.loc[(query,'50%')],\n",
    "    q3=tissue_expr_query_plot.loc[(query,'75%')],\n",
    "    upperfence=np.minimum(\n",
    "        tissue_expr_query_plot.loc[(query,'max')],\n",
    "        tissue_expr_query_plot.loc[(query,'75%')] + (1.5*IQR),\n",
    "    ),\n",
    "    mean=tissue_expr_query_plot.loc[(query,'mean')],\n",
    "    sd=tissue_expr_query_plot.loc[(query,'std')],\n",
    "    y=tissue_expr_query_plot.columns,\n",
    "    name='Background',\n",
    "    orientation='h'\n",
    "))\n",
    "fig.update_layout(title= query + \" Tissue and Cell Type Expression\", height=1200)\n",
    "fig.show()\n",
    "fig.write_image('tissue_and_cell_line_expression/'+query+'_tissue_expression.png')\n",
    "fig.write_image('tissue_and_cell_line_expression/'+query+'_tissue_expression.svg')\n",
    "fig.write_image('tissue_and_cell_line_expression/'+query+'_tissue_expression.pdf')\n",
    "display(Markdown(f\"*Figure 9. Expression statistics for the lncRNA {query} in various tissue types.*\"))\n",
    "display(FileLink(\"tissue_and_cell_line_expression/\" + query.replace('/','-') + '_tissue_median_expr' + '.csv', result_html_prefix=str('Download table with expression statistics for ' + query + ' in various tissue types: ')))"
   ]
  },
  {
   "cell_type": "code",
   "execution_count": null,
   "metadata": {},
   "outputs": [],
   "source": [
    "%%appyter code_exec\n",
    "display(Markdown(\"## RNA-Seq Expression Count Statistics\"))\n",
    "IQR = cell_line_expr_query_plot.loc[(query, '75%')]-cell_line_expr_query_plot.loc[(query,'25%')]\n",
    "fig = go.Figure()\n",
    "fig.add_trace(go.Box(\n",
    "    lowerfence=np.maximum(\n",
    "        cell_line_expr_query_plot.loc[(query,'min')],\n",
    "        cell_line_expr_query_plot.loc[(query,'25%')] - (1.5*IQR),\n",
    "    ),\n",
    "    q1=cell_line_expr_query_plot.loc[(query,'25%')],\n",
    "    median=cell_line_expr_query_plot.loc[(query,'50%')],\n",
    "    q3=cell_line_expr_query_plot.loc[(query,'75%')],\n",
    "    upperfence=np.minimum(\n",
    "        cell_line_expr_query_plot.loc[(query,'max')],\n",
    "        cell_line_expr_query_plot.loc[(query,'75%')] + (1.5*IQR),\n",
    "    ),\n",
    "    mean=cell_line_expr_query_plot.loc[(query,'mean')],\n",
    "    sd=cell_line_expr_query_plot.loc[(query,'std')],\n",
    "    y=cell_line_expr_query_plot.columns,\n",
    "    name='Background',\n",
    "    orientation='h'\n",
    "))\n",
    "fig.update_layout(title= query + \" Cell Line Expression\", height=1200)\n",
    "fig.show()\n",
    "fig.write_image('tissue_and_cell_line_expression/'+query+'_cell_line_expression.png')\n",
    "fig.write_image('tissue_and_cell_line_expression/'+query+'_cell_line_expression.svg')\n",
    "fig.write_image('tissue_and_cell_line_expression/'+query+'_cell_line_expression.pdf')\n",
    "\n",
    "display(Markdown(f\"*Figure 10. Expression statistics for the lncRNA {query} in the top 30 cell lines.*\"))\n",
    "display(FileLink(\"tissue_and_cell_line_expression/\" + query.replace('/','-') + '_cell_line_median_expr' + '.csv', result_html_prefix=str('Download table with expression statistics for ' + query + ' in various cell lines: ')))"
   ]
  },
  {
   "cell_type": "code",
   "execution_count": null,
   "metadata": {},
   "outputs": [],
   "source": [
    "%%appyter markdown\n",
    "### Visualizing all lncRNAs based on their gene expression similarity across tissues"
   ]
  },
  {
   "cell_type": "code",
   "execution_count": null,
   "metadata": {},
   "outputs": [],
   "source": [
    "%%appyter markdown\n",
    "We applied UMAP[9] to 3,000 randomly selected samples from ARCHS4[4] to visualize lncRNA expression patterns. \n",
    "Samples were first log2 transformed and quantile normalized, then UMAP was applied to the lncRNA expression data \n",
    "with samples as features. Each data point represents a single lncRNA (n={{num_lnc}}). Use the drop-down menu to color \n",
    "lncRNAs by median expression in a specific tissue. The black arrow is pointing to the location of {{query.value[0].raw_value}}."
   ]
  },
  {
   "cell_type": "code",
   "execution_count": null,
   "metadata": {},
   "outputs": [],
   "source": [
    "# Import UMAP coordinates\n",
    "umap_results_df = pd.read_csv(s3.open(f'storage/lncRNA_Appyter/v0.1.3/{path}umap_tissues.csv', 'rb'),header=0, index_col=0) \n",
    "\n",
    "values_dict_tz = dict()\n",
    "unique_tissues = np.unique(tissue_expr.columns)\n",
    "medians = tissue_expr[tissue_expr.index.get_level_values(1) == '50%'].apply(lambda x: np.log(x + 1))\n",
    "medians.set_index(medians.index.get_level_values(0), inplace=True)\n",
    "lncRNAs_tissues = tissue_expr.index.get_level_values(0)\n",
    "first_tissue = list(tissue_expr_query_plot.columns.values)[-1]\n",
    "\n",
    "for t in unique_tissues:\n",
    "    values_dict_tz[t] = medians[t].values.tolist()\n",
    "\n",
    "\n",
    "\n",
    "# Create folder for tissue and cell line specific expression\n",
    "if not os.path.exists(\"umap/\"):\n",
    "    os.makedirs(\"umap/cell_lines/figures/static\", exist_ok=True)\n",
    "    os.makedirs(\"umap/tissues/figures/static\", exist_ok=True)\n",
    "\n",
    "\n",
    "plot_dynamic_scatter(umap_df=umap_results_df, values_dict=values_dict_tz,option_list=list(unique_tissues),\n",
    "                     sample_names=list(umap_results_df.index),caption_text=f'UMAP was applied to 3,000 randomly selected samples from ARCHS4. Each data point represents a lncRNA (n={num_lnc}) and are colored by log median expression in ', \n",
    "                     figure_counter=11,category_list_dict=None, category=False,dropdown=True,color_by_title='log Median expression',\n",
    "                     highlight_query=query,first_selection=first_tissue, static_images_save= [first_tissue], \n",
    "                     file_path='umap/tissues/figures/')"
   ]
  },
  {
   "cell_type": "code",
   "execution_count": null,
   "metadata": {},
   "outputs": [],
   "source": [
    "%%appyter markdown\n",
    "### Visualizing all lncRNAs based on their gene expression similarity across cell lines "
   ]
  },
  {
   "cell_type": "code",
   "execution_count": null,
   "metadata": {},
   "outputs": [],
   "source": [
    "%%appyter markdown\n",
    "We applied UMAP[9] to 3,000 randomly selected samples from ARCHS4[4] to visualize lncRNA expression patterns. \n",
    "Samples were first log2 transformed and quantile normalized, then UMAP was applied to the lncRNA expression data \n",
    "with samples as features. Each data point represents a single lncRNA (n={{num_lnc}}). Use the drop-down menu to color\n",
    "lncRNAs by median expression in a specific cell line. The black arrow is pointing to the location of {{query.value[0].raw_value}}."
   ]
  },
  {
   "cell_type": "code",
   "execution_count": null,
   "metadata": {},
   "outputs": [],
   "source": [
    "%%appyter code_exec\n",
    "\n",
    "values_dict_cz = dict()\n",
    "unique_cell_lines = np.unique(cell_line_expr.columns)\n",
    "\n",
    "medians = cell_line_expr[cell_line_expr.index.get_level_values(1) == 'mean'].apply(lambda x: np.log(x + 1))\n",
    "medians.set_index(medians.index.get_level_values(0), inplace=True)\n",
    "lncRNAs_tissues = cell_line_expr.index.get_level_values(0)\n",
    "first_tissue = list(cell_line_expr_query_plot.columns.values)[-1]\n",
    "\n",
    "for t in unique_cell_lines:\n",
    "    values_dict_cz[t] = medians[t].values.tolist()\n",
    "    \n",
    "plot_dynamic_scatter(umap_df=umap_results_df, values_dict=values_dict_cz,option_list=list(unique_cell_lines),\n",
    "                           sample_names=list(umap_results_df.index),caption_text=f'UMAP was applied to 3,000 randomly selected samples from ARCHS4. Each data point represents a lncRNA (n={num_lnc}) and are colored by log median expression in ', \n",
    "                           figure_counter=12,category_list_dict=None, category=False,dropdown=True,color_by_title='log Median Expression',\n",
    "                           highlight_query=query,first_selection=first_tissue, static_images_save= [first_tissue], \n",
    "                           file_path='umap/cell_lines/figures/')"
   ]
  },
  {
   "cell_type": "code",
   "execution_count": null,
   "metadata": {},
   "outputs": [],
   "source": [
    "%%appyter markdown\n",
    "### L1000 small molecules predicted to modulate {{query.value[0].raw_value}}"
   ]
  },
  {
   "cell_type": "code",
   "execution_count": null,
   "metadata": {},
   "outputs": [],
   "source": [
    "%%appyter markdown\n",
    "10850 L1000 consensus chemical perturbation and 10424 L1000 CRISPR KO consensus gene expression signatures were downloaded from Enrichr[6-8] and were created from the level 5 L1000 chemical perturbations from SigCom LINCS (https://maayanlab.cloud/sigcom-lincs)[10]. For each unique signature and lncRNA pair, a mean Pearson correlation coefficient was computed by taking the average Pearson coefficient between the lncRNA and all genes in the signature. All {{num_lnc}} lncRNAs were then ranked by mean Pearson correlation coefficient, and the top 1,000 lncRNAs with the highest coefficients were retained for each signature. The top 500 lncRNA-L1000 signature associations are reported here for {{query.value[0].raw_value}}, separated by direction. If {{query.value[0]}} is highly correlated with the up-regulated genes for a specific small molecule, then this small molecule is predicted to up-regulate {{query.value[0].raw_value}}."
   ]
  },
  {
   "cell_type": "code",
   "execution_count": null,
   "metadata": {},
   "outputs": [],
   "source": [
    "%%appyter code_exec\n",
    "# Load predicted small molecules to modulate the lncRNA\n",
    "with s3.open(f'storage/lncRNA_Appyter/v0.1.3/{path}lnc-1000-cp.tsv', 'r') as f:\n",
    "    lines = f.readlines()\n",
    "\n",
    "idx = col_genes.index(query)\n",
    "l1000_cp_preds = list(filter(lambda x: x!=  '', lines[idx].split('\\t')))\n",
    "l1000_cp_preds[-1] = l1000_cp_preds[-1].replace('\\n', '')\n",
    "\n",
    "\n",
    "if len(l1000_cp_preds) > 2:\n",
    "    l1000_prediction_terms = l1000_cp_preds[1:]\n",
    "    drugs_up = []\n",
    "    drugs_up_corr = []\n",
    "    drugs_up_pval = []\n",
    "    drugs_down = []\n",
    "    drugs_down_corr=[]\n",
    "    drugs_down_pval = []\n",
    "    for sig in l1000_prediction_terms:\n",
    "        sig_id = sig.split(',')[0]\n",
    "        sig_id_corr = float(sig.split(',')[1])\n",
    "        sig_pval = float(sig.split(',')[2])\n",
    "        if sig_id.split(' ')[1] == 'Down':\n",
    "            drugs_down.append(sig_id)\n",
    "            drugs_down_corr.append(sig_id_corr)\n",
    "            drugs_down_pval.append(sig_pval)\n",
    "        else:\n",
    "            drugs_up.append(sig_id)\n",
    "            drugs_up_corr.append(sig_id_corr)\n",
    "            drugs_up_pval.append(sig_pval)\n",
    "\n",
    "    up_results = pd.DataFrame({'Drug':[x.split(' ')[0] for x in drugs_up],'Up/Down':[x.split(' ')[1] for x in drugs_up], 'Mean Pearson Correlation':drugs_up_corr,'P-value':drugs_up_pval})\n",
    "    down_results = pd.DataFrame({'Drug':[x.split(' ')[0] for x in drugs_down], 'Up/Down':[x.split(' ')[1] for x in drugs_down], 'Mean Pearson Correlation':drugs_down_corr,'P-value':drugs_down_pval})\n",
    "else:\n",
    "    up_results = pd.DataFrame()\n",
    "    down_results = pd.DataFrame()"
   ]
  },
  {
   "cell_type": "code",
   "execution_count": null,
   "metadata": {},
   "outputs": [],
   "source": [
    "%%appyter markdown\n",
    "### L1000 small molecules predicted to up-regulate {{query.value[0].raw_value}}\n",
    "The prioritized small molecules below are predicted to specifically up-regulate {{query.value[0].raw_value}}."
   ]
  },
  {
   "cell_type": "code",
   "execution_count": null,
   "metadata": {},
   "outputs": [],
   "source": [
    "%%appyter code_exec\n",
    "# L1000 small molecules predicted to up-regulate the lncRNA of interest\n",
    "if len(up_results) > 0:\n",
    "    display(up_results[0:20])\n",
    "    display(Markdown(f\"*Table 7. L1000 small molecules predicted to up-regulate the lncRNA {query}.*\"))\n",
    "\n",
    "    # Create folder for tissue and cell line specific expression\n",
    "    if not os.path.exists(\"l1000_sm_predictions/\"):\n",
    "        os.makedirs(\"l1000_sm_predictions/\", exist_ok=True)\n",
    "    up_results.to_csv(\"l1000_sm_predictions/\" + query.replace('/','-') + '_l1000_sm_predictions_up' + '.csv')\n",
    "    display(FileLink(\"l1000_sm_predictions/\" + query.replace('/','-') + '_l1000_sm_predictions_up' + '.csv', result_html_prefix=str('Download Table 7: ')))\n",
    "else:\n",
    "    display(Markdown(f\"**There are no small molecules predicted to specifically up-regulate the expression of {query}.**\"))"
   ]
  },
  {
   "cell_type": "code",
   "execution_count": null,
   "metadata": {},
   "outputs": [],
   "source": [
    "%%appyter markdown\n",
    "### L1000 small molecules predicted to down-regulate {{query.value[0].raw_value}}\n",
    "The prioritized small molecules below are predicted to specifically down-regulate {{query.value[0].raw_value}}."
   ]
  },
  {
   "cell_type": "code",
   "execution_count": null,
   "metadata": {},
   "outputs": [],
   "source": [
    "%%appyter code_exec\n",
    "# L1000 small molecules predicted to down-regulate the lncRNA of interest\n",
    "if len(down_results) > 0:\n",
    "    display(down_results[0:20])\n",
    "    display(Markdown(f\"*Table 8. L1000 small molecules predicted to down-regulate the lncRNA {query}.*\"))\n",
    "    # Create folder for tissue and cell line specific expression\n",
    "    if not os.path.exists(\"l1000_sm_predictions/\"):\n",
    "        os.makedirs(\"l1000_sm_predictions/\", exist_ok=True)\n",
    "    down_results.to_csv(\"l1000_sm_predictions/\" + query.replace('/','-') + '_l1000_sm_predictions_down' + '.csv')\n",
    "    display(FileLink(\"l1000_sm_predictions/\" + query.replace('/','-') + '_l1000_sm_predictions_down' + '.csv', result_html_prefix=str('Download Table 8: ')))\n",
    "else:\n",
    "    display(Markdown(f\"**There are no small molecules predicted to specifically down-regulate the expression of {query}.**\"))"
   ]
  },
  {
   "cell_type": "code",
   "execution_count": null,
   "metadata": {},
   "outputs": [],
   "source": [
    "%%appyter code_exec\n",
    "# Load predicted CRISPR KO genes to modulate the lncRNA\n",
    "\n",
    "with s3.open(f'storage/lncRNA_Appyter/v0.1.3/{path}lnc-1000-crispr.tsv', 'r') as f:\n",
    "    lines = f.readlines()\n",
    "\n",
    "idx = col_genes.index(query)\n",
    "l1000_crispr_preds = list(filter(lambda x: x!=  '', lines[idx].split('\\t')))\n",
    "l1000_crispr_preds[-1] = l1000_crispr_preds[-1].replace('\\n', '')\n",
    "\n",
    "if len(l1000_cp_preds) > 2:\n",
    "    l1000_prediction_terms = l1000_crispr_preds[1:]\n",
    "    drugs_up = []\n",
    "    drugs_up_corr = []\n",
    "    drugs_up_pval = []\n",
    "    drugs_down = []\n",
    "    drugs_down_corr=[]\n",
    "    drugs_down_pval = []\n",
    "    for sig in l1000_prediction_terms:\n",
    "        sig_id = sig.split(',')[0]\n",
    "        sig_id_corr = float(sig.split(',')[1])\n",
    "        sig_pval = float(sig.split(',')[2])\n",
    "        if sig_id.split(' ')[1] == 'Down':\n",
    "            drugs_down.append(sig_id)\n",
    "            drugs_down_corr.append(sig_id_corr)\n",
    "            drugs_down_pval.append(sig_pval)\n",
    "        else:\n",
    "            drugs_up.append(sig_id)\n",
    "            drugs_up_corr.append(sig_id_corr)\n",
    "            drugs_up_pval.append(sig_pval)\n",
    "\n",
    "    up_results = pd.DataFrame({'Drug':[x.split(' ')[0] for x in drugs_up],'Up/Down':[x.split(' ')[1] for x in drugs_up], 'Mean Pearson Correlation':drugs_up_corr,'P-value':drugs_up_pval})\n",
    "    down_results = pd.DataFrame({'Drug':[x.split(' ')[0] for x in drugs_down], 'Up/Down':[x.split(' ')[1] for x in drugs_down], 'Mean Pearson Correlation':drugs_down_corr,'P-value':drugs_down_pval})\n",
    "else:\n",
    "    up_results = pd.DataFrame()\n",
    "    down_results = pd.DataFrame()"
   ]
  },
  {
   "cell_type": "code",
   "execution_count": null,
   "metadata": {},
   "outputs": [],
   "source": [
    "%%appyter markdown\n",
    "### L1000 CRISPR KO genes predicted to up-regulate {{query.value[0].raw_value}}"
   ]
  },
  {
   "cell_type": "code",
   "execution_count": null,
   "metadata": {},
   "outputs": [],
   "source": [
    "%%appyter markdown\n",
    "The CRISPR KO genes below are predicted to specifically up-regulate {{query.value[0].raw_value}}."
   ]
  },
  {
   "cell_type": "code",
   "execution_count": null,
   "metadata": {},
   "outputs": [],
   "source": [
    "%%appyter code_exec\n",
    "# L1000 small molecules predicted to up-regulate the lncRNA of interest\n",
    "if len(up_results) > 0:\n",
    "    display(up_results[0:20])\n",
    "    display(Markdown(f\"*Table 7. L1000 CRISPR KO genes predicted to up-regulate the lncRNA {query}.*\"))\n",
    "\n",
    "    # Create folder for tissue and cell line specific expression\n",
    "    if not os.path.exists(\"l1000_crispr_predictions/\"):\n",
    "        os.makedirs(\"l1000_crispr_predictions/\", exist_ok=True)\n",
    "    up_results.to_csv(\"l1000_crispr_predictions/\" + query.replace('/','-') + '_l1000_crispr_predictions_up' + '.csv')\n",
    "    display(FileLink(\"l1000_crispr_predictions/\" + query.replace('/','-') + '_l1000_crispr_predictions_up' + '.csv', result_html_prefix=str('Download Table 7: ')))\n",
    "else:\n",
    "    display(Markdown(f\"**There are no CRISPR KO genes predicted to specifically up-regulate the expression of {query}.**\"))"
   ]
  },
  {
   "cell_type": "code",
   "execution_count": null,
   "metadata": {},
   "outputs": [],
   "source": [
    "%%appyter markdown\n",
    "### L1000 CRISPR KO genes predicted to down-regulate {{query.value[0].raw_value}}"
   ]
  },
  {
   "cell_type": "code",
   "execution_count": null,
   "metadata": {},
   "outputs": [],
   "source": [
    "%%appyter markdown\n",
    "The CRISPR KO genes below are predicted to specifically down-regulate {{query.value[0].raw_value}}."
   ]
  },
  {
   "cell_type": "code",
   "execution_count": null,
   "metadata": {},
   "outputs": [],
   "source": [
    "%%appyter code_exec\n",
    "# L1000 small molecules predicted to down-regulate the lncRNA of interest\n",
    "if len(up_results) > 0:\n",
    "    display(down_results[0:20])\n",
    "    display(Markdown(f\"*Table 7. L1000 CRISPR KO genes predicted to down-regulate the lncRNA {query}.*\"))\n",
    "\n",
    "    # Create folder for tissue and cell line specific expression\n",
    "    if not os.path.exists(\"l1000_crispr_predictions/\"):\n",
    "        os.makedirs(\"l1000_crispr_predictions/\", exist_ok=True)\n",
    "    up_results.to_csv(\"l1000_crispr_predictions/\" + query.replace('/','-') + '_l1000_crispr_predictions_down' + '.csv')\n",
    "    display(FileLink(\"l1000_crispr_predictions/\" + query.replace('/','-') + '_l1000_crispr_predictions_down' + '.csv', result_html_prefix=str('Download Table 7: ')))\n",
    "else:\n",
    "    display(Markdown(f\"**There are no CRISPR KO genes predicted to specifically up-regulate the expression of {query}.**\"))"
   ]
  },
  {
   "cell_type": "code",
   "execution_count": null,
   "metadata": {},
   "outputs": [],
   "source": [
    "# close h5 file\n",
    "f.close()"
   ]
  },
  {
   "cell_type": "markdown",
   "metadata": {},
   "source": [
    "### References\n",
    "[1] Frankish A, Diekhans M, Jungreis I, Lagarde J, Loveland Jane E, Mudge JM, Sisu C, Wright JC, Armstrong J, Barnes I: GENCODE 2021. Nucleic Acids Research 2021, 49(D1):D916-D923.\n",
    "\n",
    "[2] Howe KL, Achuthan P, Allen J, Allen J, Alvarez-Jarreta J, Amode MR, Armean IM, Azov AG, Bennett R, Bhai J: Ensembl 2021. Nucleic Acids Research 2021, 49(D1):D884-D891.\n",
    "\n",
    "[3] Tweedie S, Braschi B, Gray K, Jones TEM, Seal Ruth L, Yates B, Bruford EA: Genenames.org: the HGNC and VGNC resources in 2021. Nucleic Acids Research 2021, 49(D1):D939-D946.\n",
    "\n",
    "[4] Lachmann A, Torre D, Keenan AB, Jagodnik KM, Lee HJ, Wang L, Silverstein MC, Ma'ayan A: Massive mining of publicly available RNA-seq data from human and mouse. Nature Communications 2018, 10;9(1):1366.\n",
    "\n",
    "[5] Mas-Ponte D, Carlevaro-Fita J, Palumbo E, Pulido TH, Guigo R, Johnson R. LncATLAS database for subcellular localization of long noncoding RNAs. Rna. 2017 Jul 1;23(7):1080-7.\n",
    "\n",
    "[6] Xie Z, Bailey A, Kuleshov MV, Clarke DJB, Evangelista JE, Jenkins SL, Lachmann A, Wojciechowicz ML, Kropiwnicki E, Jagodnik KM: Gene Set Knowledge Discovery with Enrichr. Current Protocols 2021, 1(3):e90.\n",
    "\n",
    "[7] Chen EY, Tan CM, Kou Y, Duan Q, Wang Z, Meirelles GV, Clark NR, Ma’ayan A: Enrichr: interactive and collaborative HTML5 gene list enrichment analysis tool. BMC Bioinformatics 2013, 14(1):128.\n",
    "\n",
    "[8] Kuleshov MV, Jones MR, Rouillard AD, Fernandez NF, Duan Q, Wang Z, Koplev S, Jenkins SL, Jagodnik KM, Lachmann A: Enrichr: a comprehensive gene set enrichment analysis web server 2016 update. Nucleic Acids Research 2016, 44(W1):W90-W97.\n",
    "\n",
    "[9] McInnes L, Healy J, Melville J: Umap: Uniform manifold approximation and projection for dimension reduction. arXiv preprint arXiv:180203426 2018.\n",
    "\n",
    "[10] Evangelista JE, Clarke DJB, Xie Z, Lachmann A, Jeon M, Chen K, Jagodnik KM, Jenkins SL, Kuleshov MV, Wojciechowicz ML, Schürer SC, Medvedovic M, Ma'ayan A. SigCom LINCS: data and metadata search engine for a million gene expression signatures. Nucleic Acids Research 2022, 50(W1):W697–709."
   ]
  }
 ],
 "metadata": {
  "kernelspec": {
   "display_name": "Python 3 (ipykernel)",
   "language": "python",
   "name": "python3"
  },
  "language_info": {
   "codemirror_mode": {
    "name": "ipython",
    "version": 3
   },
   "file_extension": ".py",
   "mimetype": "text/x-python",
   "name": "python",
   "nbconvert_exporter": "python",
   "pygments_lexer": "ipython3",
   "version": "3.10.7"
  },
  "vscode": {
   "interpreter": {
    "hash": "640e7826e3db6618de4c1a35509d73c188e8c0fc52fc519d75184b2277dca4fd"
   }
  }
 },
 "nbformat": 4,
 "nbformat_minor": 4
}
