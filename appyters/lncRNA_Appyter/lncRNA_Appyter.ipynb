{
 "cells": [
  {
   "cell_type": "code",
   "execution_count": null,
   "metadata": {},
   "outputs": [],
   "source": [
    "#%%appyter init\n",
    "from appyter import magic\n",
    "magic.init(lambda _=globals: _())"
   ]
  },
  {
   "cell_type": "markdown",
   "metadata": {},
   "source": [
    "# Long Non-coding RNA (lncRNA) Appyter \n",
    "\n",
    "Using lncRNA-gene co-expression, this Appyter can predict the biological functions of ~5000 lncRNAs."
   ]
  },
  {
   "cell_type": "code",
   "execution_count": null,
   "metadata": {},
   "outputs": [],
   "source": [
    "import pandas as pd \n",
    "import numpy as np\n",
    "import h5py as h5\n",
    "from plotly.offline import iplot\n",
    "import plotly.graph_objs as go\n",
    "from plotly.subplots import make_subplots\n",
    "from IPython.display import display,FileLink, Markdown, HTML\n",
    "import ssl\n",
    "import os, json\n",
    "import urllib.request\n",
    "import s3fs\n",
    "import time\n",
    "import requests\n",
    "import itertools\n",
    "import random\n",
    "import re\n",
    "from bokeh.io import output_notebook\n",
    "from bokeh.plotting import figure, show\n",
    "from bokeh.models import HoverTool, CustomJS, ColumnDataSource, Select, Legend, Paragraph, LinearColorMapper, ColorBar, CategoricalColorMapper\n",
    "from bokeh.layouts import row, column\n",
    "from bokeh.palettes import Pastel2, Set2, Set1, Colorblind\n",
    "from bokeh.models import Arrow, NormalHead\n",
    "import hashlib\n",
    "import colorcet as cc\n",
    "\n",
    "output_notebook()"
   ]
  },
  {
   "cell_type": "code",
   "execution_count": null,
   "metadata": {},
   "outputs": [],
   "source": [
    "%%appyter hide_code_exec\n",
    "{% do SectionField(name='section1', title = '1. Input a Gene Symbol or Ensembl ID', subtitle = '', img = 'lncRNA_appyter_logo.png')%}\n",
    "{% do SectionField(name='section2', title = '2. Options', subtitle = '', img = 'lncRNA_appyter_logo.png')%}\n"
   ]
  },
  {
   "cell_type": "code",
   "execution_count": null,
   "metadata": {},
   "outputs": [],
   "source": [
    "%%appyter code_exec\n",
    "{% set query = StringField(name='gene_symbol', label='Gene Symbol/Ensembl ID', default='HOTAIR', description='',section = 'section1') %}\n",
    "{% set options_fast_compute = BoolField(name='fast_compute', label='Fast Compute', default='true', description='Fast Compute will retrieve pre-computed results for a faster run time. Select \\'No\\' to run whole analysis.', section='section2')%}"
   ]
  },
  {
   "cell_type": "code",
   "execution_count": null,
   "metadata": {},
   "outputs": [],
   "source": [
    "%%appyter code_exec\n",
    "query = {{ query }}"
   ]
  },
  {
   "cell_type": "code",
   "execution_count": null,
   "metadata": {},
   "outputs": [],
   "source": [
    "# lncRNA of interest\n",
    "query = query.upper()"
   ]
  },
  {
   "cell_type": "markdown",
   "metadata": {},
   "source": [
    "%%appyter markdown\n",
    "### Import gene-lncRNA co-expression matrix"
   ]
  },
  {
   "cell_type": "markdown",
   "metadata": {},
   "source": [
    "This lncRNA-gene matrix was computed using Pearson Correlation on 10,000 randomly selected bulk RNA-seq samples from Recount3[1]. "
   ]
  },
  {
   "cell_type": "code",
   "execution_count": null,
   "metadata": {},
   "outputs": [],
   "source": [
    "# Import lncRNA-gene co-expression matrix\n",
    "s3 = s3fs.S3FileSystem(anon=True, client_kwargs=dict(endpoint_url='https://s3.appyters.maayanlab.cloud'))\n",
    "f = h5.File(s3.open('storage/lncRNA_Appyter/Recount3_lncRNA_pcorr.h5', 'rb'), 'r') \n",
    "corr =f[\"data/correlation\"]\n",
    "col_genes = [x.decode('UTF-8') for x in f[\"meta/columns/genes\"]]\n",
    "row_genes =  [x.decode('UTF-8') for x in f[\"meta/rows/genes\"]]\n",
    "row_genes_ensembl = [x.decode('UTF-8') for x in f[\"meta/rows/ensembl\"]]"
   ]
  },
  {
   "cell_type": "code",
   "execution_count": null,
   "metadata": {},
   "outputs": [],
   "source": [
    "# Convert input Ensembl ID to gene symbol\n",
    "ensembl_2_genes = dict(zip(row_genes_ensembl,row_genes))\n",
    "if query in row_genes_ensembl:\n",
    "    query_new = ensembl_2_genes[query]\n",
    "    if query != query_new:\n",
    "        print('Predicting functions for ' + query_new + '(' + query + ')')\n",
    "        query = query_new\n",
    "    else:\n",
    "        print('Predicting functions for ' + query)\n",
    "else:\n",
    "    if query in row_genes:\n",
    "        print('Predicting functions for ' + query )"
   ]
  },
  {
   "cell_type": "markdown",
   "metadata": {},
   "source": [
    "%%appyter markdown\n",
    "### Top correlated genes with {{query.raw_value}}"
   ]
  },
  {
   "cell_type": "markdown",
   "metadata": {},
   "source": [
    "Similarly to Geneshot[2], gene-gene similarities are predicted using co-expression. All genes are ranked by Pearson Correlation with the input lncRNA."
   ]
  },
  {
   "cell_type": "code",
   "execution_count": null,
   "metadata": {},
   "outputs": [],
   "source": [
    "# Find most correalted genes and lncRNAs with the input lncRNA\n",
    "if not os.path.exists(\"gene_correlations/\"):\n",
    "        os.makedirs(\"gene_correlations/\", exist_ok=True)\n",
    "\n",
    "# Get index of lncRNA of interest\n",
    "idx_query = np.where(np.asarray(row_genes) == query)[0][0]\n",
    "\n",
    "# Ranks genes based on pearson correlation with the lncRNA of interest\n",
    "lncRNA_coexp = pd.DataFrame(corr[idx_query,:])\n",
    "lncRNA_coexp.index = col_genes\n",
    "lncRNA_coexp.columns = ['Pearson Correlation']\n",
    "lncRNA_coexp = lncRNA_coexp.sort_values(by='Pearson Correlation', ascending=False)\n",
    "print(lncRNA_coexp[0:20])\n",
    "\n",
    "# save gene correlations to csv file\n",
    "lncRNA_coexp.to_csv('gene_correlations/'+ query + '_correlated_genes.csv')"
   ]
  },
  {
   "cell_type": "code",
   "execution_count": null,
   "metadata": {},
   "outputs": [],
   "source": [
    "display(FileLink('gene_correlations/' + query + '_correlated_genes.csv', result_html_prefix=str('Download Table 1: ')))"
   ]
  },
  {
   "cell_type": "code",
   "execution_count": null,
   "metadata": {},
   "outputs": [],
   "source": [
    "%%appyter markdown\n",
    "### Enrichment results for the top 200 correlated genes with {{query.raw_value}}"
   ]
  },
  {
   "cell_type": "markdown",
   "metadata": {},
   "source": [
    "The top 200 correlated genes are submitted to Enrichr[3-5] for enrichment analysis. Note: Only genes with gene symbols are submitted. Ensembl IDs are dropped."
   ]
  },
  {
   "cell_type": "code",
   "execution_count": null,
   "metadata": {},
   "outputs": [],
   "source": [
    "# Get Enrichr link\n",
    "def Enrichr_API(enrichr_gene_list, description):\n",
    "\n",
    "    short_id = ''\n",
    "\n",
    "    ENRICHR_URL = 'https://maayanlab.cloud/Enrichr/addList'\n",
    "    genes_str = '\\n'.join(enrichr_gene_list)\n",
    "    description = description\n",
    "    payload = {\n",
    "        'list': (None, genes_str),\n",
    "        'description': (None, description)\n",
    "    }\n",
    "\n",
    "    response = requests.post(ENRICHR_URL, files=payload)\n",
    "    if not response.ok:\n",
    "        raise Exception('Error analyzing gene list')\n",
    "\n",
    "    data = json.loads(response.text)\n",
    "    short_id = data[\"shortId\"]\n",
    "    return('https://maayanlab.cloud/Enrichr/enrich?dataset='+ str(short_id))"
   ]
  },
  {
   "cell_type": "code",
   "execution_count": null,
   "metadata": {},
   "outputs": [],
   "source": [
    "# Submit top 200 gene symbols to Enrichr\n",
    "top200genes = [x for x in list(lncRNA_coexp.index) if not x.startswith('ENSG')]\n",
    "top200genes = top200genes[0:200]\n",
    "enrichr_link = Enrichr_API(top200genes,str('Top 200 correlated genes with the lncRNA: ' + query))"
   ]
  },
  {
   "cell_type": "code",
   "execution_count": null,
   "metadata": {},
   "outputs": [],
   "source": [
    "display(HTML(\"Access your enrichment analysis results here: <a href='{href}'>{link}</a>\".format(href=enrichr_link, link = enrichr_link)))"
   ]
  },
  {
   "cell_type": "markdown",
   "metadata": {},
   "source": [
    "%%appyter markdown\n",
    "### Top correlated lncRNAs with {{query.raw_value}}"
   ]
  },
  {
   "cell_type": "markdown",
   "metadata": {},
   "source": [
    "lncRNAs are ranked by Pearson Correlation with the input lncRNA."
   ]
  },
  {
   "cell_type": "code",
   "execution_count": null,
   "metadata": {},
   "outputs": [],
   "source": [
    "# Download most correlated lncRNAs\n",
    "lncRNA_lncRNA_coexp = lncRNA_coexp.loc[row_genes]\n",
    "lncRNA_lncRNA_coexp = lncRNA_lncRNA_coexp.sort_values(by='Pearson Correlation', ascending=False)\n",
    "print(lncRNA_lncRNA_coexp [0:20])\n",
    "\n",
    "# save gene correlations to csv file\n",
    "lncRNA_coexp.to_csv('gene_correlations/' + query + '_correlated_lncRNAs.csv')"
   ]
  },
  {
   "cell_type": "code",
   "execution_count": null,
   "metadata": {},
   "outputs": [],
   "source": [
    "display(FileLink('gene_correlations/' + query + '_correlated_lncRNAs.csv', result_html_prefix=str('Download Table 2: ')))"
   ]
  },
  {
   "cell_type": "code",
   "execution_count": null,
   "metadata": {},
   "outputs": [],
   "source": [
    "%%appyter markdown\n",
    "### Predicted Biological Functions of {{query.raw_value}}"
   ]
  },
  {
   "cell_type": "markdown",
   "metadata": {},
   "source": [
    "For each Enrichr library, the mean Pearson Correlation is calulated between each gene set and the lncRNA of interest. Terms with a high mean Pearson Correaltion are prioritized and predicted to be associated with the lncRNA."
   ]
  },
  {
   "cell_type": "code",
   "execution_count": null,
   "metadata": {},
   "outputs": [],
   "source": [
    "%%appyter code_exec\n",
    "{% if options_fast_compute.raw_value == False %}\n",
    "# Load Enrichr libraries\n",
    "def loadLibrary(library: str, overwrite: bool = False) -> str:\n",
    "    ssl._create_default_https_context = ssl._create_unverified_context\n",
    "    if not os.path.exists(\"gmts/\"+library +'.gmt' or overwrite):\n",
    "        os.makedirs(\"gmts\", exist_ok=True)\n",
    "        print(\"Download Enrichr geneset library\")\n",
    "        urllib.request.urlretrieve(\"https://maayanlab.cloud/Enrichr/geneSetLibrary?mode=text&libraryName=\"+library, \"gmts/\"+library+\".gmt\")\n",
    "    else:\n",
    "        print(\"File cached. To reload use loadLibrary(\\\"\"+library+\"\\\", overwrite=True) instead.\")\n",
    "    return(\"gmts/\"+library+\".gmt\")\n",
    "\n",
    "# Predict functions based on mean pearson correaltion for each term in a library \n",
    "def predict_functions(library, matrix, query):\n",
    "    library_path = loadLibrary(library)\n",
    "    open_gmt = open(library_path,'r')\n",
    "    library_dict = {}\n",
    "    for line in open_gmt.readlines():\n",
    "        line = line.strip().split('\\t')\n",
    "        term = line[0]\n",
    "        gene_set = line[2:]\n",
    "        library_dict[term]=gene_set\n",
    "    open_gmt.close()  \n",
    "\n",
    "    all_terms = []\n",
    "    all_scores = []\n",
    "\n",
    "    for lib_term, gene_set in library_dict.items():\n",
    "        all_terms.append(lib_term)\n",
    "        lib_term_set = list(set(gene_set)&set(matrix.index))\n",
    "        lib_term_set = [x for x in lib_term_set if x!= query]\n",
    "        all_scores.append(np.mean(matrix.loc[lib_term_set]['Pearson Correlation']))\n",
    "\n",
    "    df_results = pd.DataFrame({'Term':all_terms,'Mean Pearson Correlation':all_scores})\n",
    "    df_results = df_results.sort_values(by ='Mean Pearson Correlation',ascending=False)\n",
    "    return(df_results)\n",
    "\n",
    "{% endif %}"
   ]
  },
  {
   "cell_type": "code",
   "execution_count": null,
   "metadata": {},
   "outputs": [],
   "source": [
    "# Plot the top terms for each prediction library\n",
    "def plot_results(library_names, results_dfs, top_results=20):\n",
    "    \n",
    "    fig = make_subplots(rows=1, cols=2, print_grid=False,shared_xaxes=False)\n",
    "    max_scores = []\n",
    "    for i in range(0,2):\n",
    "        results_df = results_dfs[i][0:top_results].sort_values(by='Mean Pearson Correlation')\n",
    "        library_name = library_names[i]\n",
    "        max_scores.append(np.max(results_df['Mean Pearson Correlation']))\n",
    "        bar = go.Bar(x=results_df['Mean Pearson Correlation'],\n",
    "            y=results_df['Term'],\n",
    "            orientation='h',\n",
    "            name=library_name,\n",
    "            showlegend=False,\n",
    "            hovertext=['<b>Term: {Term}</b><br><b>Mean Pearson Correlation</b>: <i>{Mean Pearson Correlation:.3}</i>'.format(**rowData) for index, rowData in results_df[0:top_results].iterrows()],\n",
    "            hoverinfo='text', \n",
    "            marker={'color': 'dodgerblue'})\n",
    "        fig.append_trace(bar, 1, i+1)\n",
    "        \n",
    "        #Get text\n",
    "        text = go.Scatter(\n",
    "            x=[max(bar['x'])/50 for x in range(len(bar['y']))],\n",
    "            y=bar['y'],\n",
    "            mode='text',\n",
    "            hoverinfo='none',\n",
    "            showlegend=False,\n",
    "            text=['<b>{}</b>'.format(rowData['Term']) for index, rowData in results_df[0:top_results].iterrows()],\n",
    "            textposition=\"middle right\",\n",
    "            textfont={'color': 'black','size':8})\n",
    "        fig.append_trace(text, 1, i+1)\n",
    "    \n",
    "    annotations= [{'x': 0.25, 'y': 1.1, 'text': '<span style=\"color: black; font-size: 15pt; font-weight: 600;\">' +library_names[0]+'</span>', 'showarrow': False, 'xref': 'paper', 'yref': 'paper', 'xanchor': 'center'},{'x': 0.75, 'y': 1.1, 'text': '<span style=\"color: black; font-size: 15pt; font-weight: 600;\">' +library_names[1]+'</span>', 'showarrow': False, 'xref': 'paper', 'yref': 'paper', 'xanchor': 'center'}]\n",
    "    fig['layout'].update(height = 500, hovermode='closest', annotations=annotations)\n",
    "    fig.update_layout(title='',height = 500,title_font_size = 25,title_x=0.5)\n",
    "    \n",
    "    fig['layout']['xaxis1'].update(domain=[0, 0.49], title='Mean Pearson Correlation' ,range=(0,max_scores[0]+max_scores[0]*.01))\n",
    "    fig['layout']['xaxis2'].update(domain=[0.51, 1], title='Mean Pearson Correlation',range=(0,max_scores[1]+max_scores[1]*.01))\n",
    "    fig['layout']['yaxis1'].update(showticklabels=False)\n",
    "    fig['layout']['yaxis2'].update(showticklabels=False)\n",
    "    fig['layout']['margin'].update(l=30, t=65, r=30, b=35)\n",
    "    \n",
    "    iplot(fig)"
   ]
  },
  {
   "cell_type": "code",
   "execution_count": null,
   "metadata": {},
   "outputs": [],
   "source": [
    "%%appyter code_exec\n",
    "{% if options_fast_compute.raw_value == False %}\n",
    "# Make function predictions\n",
    "prediction_libraries = ['MGI_Mammalian_Phenotype_Level_4_2021','GO_Biological_Process_2021','KEGG_2021_Human','DisGeNET']\n",
    "prediction_libraries = np.array_split(prediction_libraries, int(np.ceil(len(prediction_libraries)/2))) \n",
    "for i_group,group in enumerate(prediction_libraries):\n",
    "    predictions = []\n",
    "    library_names = []\n",
    "    for pred_library in group:\n",
    "        predictions.append(predict_functions(pred_library,lncRNA_coexp,query))\n",
    "        library_names.append(pred_library.replace('_',' '))\n",
    "    plot_results(library_names, predictions)\n",
    "    \n",
    "    # Save Predictions \n",
    "    if not os.path.exists(\"predicted_functions/\"):\n",
    "        os.makedirs(\"predicted_functions/\", exist_ok=True)\n",
    "    for ii,prediction in enumerate(predictions):\n",
    "        prediction.to_csv(\"predicted_functions/\" + library_names[ii]+'_' + query + '.csv')\n",
    "        display(FileLink(\"predicted_functions/\" + library_names[ii]+'_' + query + '.csv', result_html_prefix=str('Download predictions: ')))\n",
    "{% endif %}"
   ]
  },
  {
   "cell_type": "code",
   "execution_count": null,
   "metadata": {},
   "outputs": [],
   "source": [
    "%%appyter code_exec\n",
    "{% if options_fast_compute.raw_value == True %}\n",
    "# Import pre-computed lncRNA functions\n",
    "prediction_libraries = ['MGI_Mammalian_Phenotype_Level_4_2021','GO_Biological_Process_2021','KEGG_2021_Human','DisGeNET']\n",
    "prediction_libraries = np.array_split(prediction_libraries, int(np.ceil(len(prediction_libraries)/2))) \n",
    "for i_group,group in enumerate(prediction_libraries):\n",
    "    predictions = []\n",
    "    library_names = []\n",
    "    for pred_library in group:\n",
    "        precomputed_avg_coexp = pd.read_csv(s3.open('storage/lncRNA_Appyter/'+ pred_library + '_lncRNA_avg_coexpression.csv','rb'),index_col=0)\n",
    "        precomputed_avg_coexp = pd.DataFrame(precomputed_avg_coexp.loc[query]).sort_values(by=query,ascending = False).reset_index().rename({'index': 'Term', query: 'Mean Pearson Correlation'}, axis='columns')\n",
    "        predictions.append(precomputed_avg_coexp)\n",
    "        library_names.append(pred_library.replace('_',' '))\n",
    "    plot_results(library_names, predictions)\n",
    "\n",
    "    # Save Predictions \n",
    "    if not os.path.exists(\"predicted_functions/\"):\n",
    "        os.makedirs(\"predicted_functions/\", exist_ok=True)\n",
    "    for ii,prediction in enumerate(predictions):\n",
    "        prediction.to_csv(\"predicted_functions/\" + library_names[ii]+'_' + query + '.csv')\n",
    "        display(FileLink(\"predicted_functions/\" + library_names[ii]+'_' + query + '.csv', result_html_prefix=str('Download predictions: ')))\n",
    "{% endif %}"
   ]
  },
  {
   "cell_type": "code",
   "execution_count": null,
   "metadata": {},
   "outputs": [],
   "source": [
    "%%appyter markdown\n",
    "### Tissue and Cell Line Specific Expression: {{query.raw_value}}\n",
    "#### Return the Z-score(Normalized Median Expression) for the lncRNA in various tissues and cell lines. "
   ]
  },
  {
   "cell_type": "markdown",
   "metadata": {},
   "source": [
    "Method: Samples from Recount3[1] were automatically labelled by tissue type or cell line. Tissue and cell line samples were log2 transformed and quantile normalized separately. For each lncRNA, the median expression was then calucalted within each tissue type/cell line. Tissues/cell lines with less than 20 samples were removed. Z-score was then applied along the lncRNA axis to compare expression across all tissues and cell lines."
   ]
  },
  {
   "cell_type": "code",
   "execution_count": null,
   "metadata": {},
   "outputs": [],
   "source": [
    "# Import z-score data\n",
    "tissue_expr_zscore  = pd.read_csv(s3.open('storage/lncRNA_Appyter/lncRNA_zscore_median_expr_by_tissue_filtered.csv', 'rb'),header=0, index_col=0) \n",
    "tissue_expr_zscore.index = [x.split(',')[0] for x in tissue_expr_zscore.index]\n",
    "\n",
    "cell_line_expr_zscore = pd.read_csv(s3.open('storage/lncRNA_Appyter/lncRNA_zscore_median_expr_by_cell_line_filtered.csv', 'rb'),header=0, index_col=0) \n",
    "cell_line_expr_zscore.index = [x.split(',')[0] for x in cell_line_expr_zscore.index]\n",
    "\n",
    "# Create folder for tissue and cell line specific expression\n",
    "if not os.path.exists(\"tissue_and_cell_line_expression/\"):\n",
    "    os.makedirs(\"tissue_and_cell_line_expression/\", exist_ok=True)"
   ]
  },
  {
   "cell_type": "code",
   "execution_count": null,
   "metadata": {},
   "outputs": [],
   "source": [
    "# Rank tissues by z-score(median expression)\n",
    "tissue_specific_lncRNA = pd.DataFrame(tissue_expr_zscore.loc[query])\n",
    "tissue_specific_lncRNA = tissue_specific_lncRNA.sort_values(by=query,ascending=False)\n",
    "tissue_specific_lncRNA"
   ]
  },
  {
   "cell_type": "code",
   "execution_count": null,
   "metadata": {},
   "outputs": [],
   "source": [
    "tissue_specific_lncRNA.to_csv(\"tissue_and_cell_line_expression/\" + query + '_tissue_zscore' + '.csv')\n",
    "display(FileLink(\"tissue_and_cell_line_expression/\" + query + '_tissue_zscore' + '.csv', result_html_prefix=str('Download table for z-score(median expression)in tissue types: ')))"
   ]
  },
  {
   "cell_type": "code",
   "execution_count": null,
   "metadata": {},
   "outputs": [],
   "source": [
    "# Rank cell lines by z-score(median expression)\n",
    "cell_line_specific_lncRNA = pd.DataFrame(cell_line_expr_zscore.loc[query])\n",
    "cell_line_specific_lncRNA = cell_line_specific_lncRNA.sort_values(by=query,ascending=False)\n",
    "cell_line_specific_lncRNA[0:20]"
   ]
  },
  {
   "cell_type": "code",
   "execution_count": null,
   "metadata": {},
   "outputs": [],
   "source": [
    "cell_line_specific_lncRNA.to_csv(\"tissue_and_cell_line_expression/\" + query + '_cell_line_zscore' + '.csv')\n",
    "display(FileLink(\"tissue_and_cell_line_expression/\" + query + '_cell_line_zscore' + '.csv', result_html_prefix=str('Download table for z-score(median expression)in cell lines: ')))"
   ]
  },
  {
   "cell_type": "code",
   "execution_count": null,
   "metadata": {},
   "outputs": [],
   "source": [
    "%%appyter markdown\n",
    "### Visualizing the lncRNA similarity network in Tissues: {{query.raw_value}}"
   ]
  },
  {
   "cell_type": "markdown",
   "metadata": {},
   "source": [
    "UMAP[6] showing 5,050 lncRNAs. Color lncRNAs by tissue type with the highest expression or color by median expression and z-score in a specific tissue."
   ]
  },
  {
   "cell_type": "code",
   "execution_count": null,
   "metadata": {},
   "outputs": [],
   "source": [
    "def str_to_int(string, mod):\n",
    "    string = re.sub(r\"\\([^()]*\\)\", \"\", string).strip()\n",
    "    byte_string = bytearray(string, \"utf8\")\n",
    "    return int(hashlib.sha256(byte_string).hexdigest(), base=16)%mod\n",
    "\n",
    "def plot_scatter(umap_df, values_dict, option_list, sample_names, caption_text, category_list_dict=None, location='right', category=True, dropdown=False, figure_counter=0, additional_info=None, color_by_title='',highlight_query=None):\n",
    "    \n",
    "    # init plot \n",
    "    source = ColumnDataSource(data=dict(x=umap_df[\"x\"], y=umap_df[\"y\"], values=values_dict[option_list[0]], names=sample_names))\n",
    "    \n",
    "    # node size\n",
    "    if umap_df.shape[0] > 1000:\n",
    "        node_size = 4\n",
    "    else:\n",
    "        node_size = 6\n",
    "    plot = figure(plot_width=1000, plot_height=800)  \n",
    "    # if location == 'right':\n",
    "    #     plot = figure(plot_width=1000, plot_height=800)   \n",
    "    # else:\n",
    "    #     plot = figure(plot_width=1000, plot_height=1000+20*len(category_list_dict[option_list[0]]))   \n",
    "    if category == True:\n",
    "        unique_category_dict = dict()\n",
    "        for option in option_list:\n",
    "            unique_category_dict[option] = sorted(list(set(values_dict[option])))\n",
    "        \n",
    "        # map category to color\n",
    "        # color is mapped by its category name \n",
    "        # if a color is used by other categories, use another color\n",
    "        factors_dict = dict()\n",
    "        colors_dict = dict()\n",
    "        for key in values_dict.keys():\n",
    "            if key in ['all tissues','all cell lines']:\n",
    "                palette = list(itertools.chain(*zip(Pastel2[8], Set2[8], Set1[9], Colorblind[8])))\n",
    "                unused_color = list(itertools.chain(*zip(Pastel2[8], Set2[8], Set1[9], Colorblind[8])))\n",
    "                factors_dict[key] = category_list_dict[key]\n",
    "                colors_dict[key] = list()\n",
    "                for category_name in factors_dict[key]:\n",
    "                    color_for_category = palette[str_to_int(category_name, len(palette))]\n",
    "                    \n",
    "                    if color_for_category not in unused_color:\n",
    "                        if len(unused_color) > 0:\n",
    "                            color_for_category = unused_color[0]                        \n",
    "                        else:\n",
    "                            color_for_category = random.sample(palette,1)[0]\n",
    "                    \n",
    "                    colors_dict[key].append(color_for_category)\n",
    "                    if color_for_category in unused_color:\n",
    "                        unused_color.remove(color_for_category)\n",
    "            else:\n",
    "                factors_dict[key] = category_list_dict[key]\n",
    "                colors_dict[key] = list()\n",
    "                for category_name in factors_dict[key]:\n",
    "                    if category_name == 'other':\n",
    "                        colors_dict[key].append('#cccccc')\n",
    "                    else:\n",
    "                        colors_dict[key].append('#e41a1c')\n",
    "           \n",
    "        color_mapper = CategoricalColorMapper(factors=factors_dict[option_list[0]], palette=colors_dict[option_list[0]])\n",
    "        legend = Legend()\n",
    "        \n",
    "        plot.add_layout(legend, location)\n",
    "        scatter = plot.scatter('x', 'y', size=node_size, source=source, color={'field': 'values', 'transform': color_mapper}, legend_field=\"values\")\n",
    "        plot.legend.label_width = 30\n",
    "        plot.legend.click_policy='hide'\n",
    "        plot.legend.spacing = 1\n",
    "        if location == 'below':\n",
    "            location = 'bottom_left'\n",
    "        plot.legend.location = location\n",
    "        plot.legend.label_text_font_size = '10pt'\n",
    "    else:\n",
    "        unique_category_dict = dict()\n",
    "        for option in option_list:\n",
    "            unique_category_dict[option] = sorted(list(set(values_dict[option])))\n",
    "        \n",
    "        # map category to color\n",
    "        # color is mapped by its category name \n",
    "        # if a color is used by other categories, use another color\n",
    "        colors_dict = dict()\n",
    "        for key in values_dict.keys():\n",
    "            colors_dict[key]= cc.CET_D1A\n",
    "\n",
    "        color_mapper = LinearColorMapper(palette=colors_dict[option_list[0]] , low=min(values_dict[option_list[0]]), high=max(values_dict[option_list[0]]))\n",
    "        color_bar = ColorBar(color_mapper=color_mapper, label_standoff=12)\n",
    "        plot.add_layout(color_bar, 'right')\n",
    "        scatter = plot.scatter('x', 'y', size=node_size,  source=source, color={'field': 'values', 'transform': color_mapper})\n",
    "       \n",
    "    if additional_info is not None:\n",
    "            tooltips = [\n",
    "            (\"lncRNA\", \"@names\"),\n",
    "            (\"Label\", \"@values\"),\n",
    "            (\"p-value\", \"@info\")\n",
    "        ]\n",
    "    else:\n",
    "        tooltips = [\n",
    "            (\"lncRNA\", \"@names\"),\n",
    "            (\"Label\", \"@values\"),\n",
    "        ]\n",
    "    \n",
    "    if highlight_query!=None:\n",
    "        arrow_loc = umap_df.loc[highlight_query]\n",
    "        plot.add_layout(Arrow(end=NormalHead(size=10,fill_color=\"black\"),x_start=arrow_loc['x']+0.2, y_start=arrow_loc['y']+0.6, x_end=arrow_loc['x'], y_end=arrow_loc['y']))\n",
    "    \n",
    "    plot.add_tools(HoverTool(tooltips=tooltips))\n",
    "    plot.output_backend = \"webgl\"\n",
    "    \n",
    "    plot.xaxis.axis_label = \"UMAP 1\"\n",
    "    plot.xaxis.axis_label_text_font_size = \"12pt\"\n",
    "    plot.yaxis.axis_label = \"UMAP 2\"\n",
    "    plot.yaxis.axis_label_text_font_size = \"12pt\"\n",
    "    \n",
    "    plot.xaxis.major_tick_line_color = None  # turn off x-axis major ticks\n",
    "    plot.xaxis.minor_tick_line_color = None  # turn off x-axis minor ticks\n",
    "    plot.yaxis.major_tick_line_color = None  # turn off y-axis major ticks\n",
    "    plot.yaxis.minor_tick_line_color = None  # turn off y-axis minor ticks\n",
    "    plot.xaxis.major_label_text_font_size = '0pt'  # preferred method for removing tick labels\n",
    "    plot.yaxis.major_label_text_font_size = '0pt'  # preferred method for removing tick labels\n",
    "    default_text = \"Figure {}. {}{}\"\n",
    "    pre = Paragraph(text = default_text.format(figure_counter, caption_text, option_list[0]), width=500, height=100, style={\"font-family\":'Helvetica', \"font-style\": \"italic\"})\n",
    "    figure_counter += 1\n",
    "    if dropdown == True:\n",
    "        if category == True:\n",
    "            callback_adt = CustomJS(args=dict(source=source, \\\n",
    "                                              pre=pre, \\\n",
    "                                              values_dict=values_dict, \\\n",
    "                                              figure_counter=figure_counter, \\\n",
    "                                              color_mapper=color_mapper,\\\n",
    "                                              unique_category_dict=unique_category_dict,\\\n",
    "                                              category_list_dict=category_list_dict,\\\n",
    "                                              additional_info=additional_info,\\\n",
    "                                              factors_dict=factors_dict,\\\n",
    "                                              colors_dict=colors_dict,\\\n",
    "                                              plot=plot,\\\n",
    "                                              scatter=scatter,\n",
    "                                              caption_text=caption_text\n",
    "                                             ), code=\"\"\"        \n",
    "                const val = cb_obj.value;                    \n",
    "                source.data.values = values_dict[val]  \n",
    "                if (additional_info != null) {\n",
    "                    source.data.info = additional_info[val]\n",
    "                }\n",
    "                color_mapper.factors = category_list_dict[val]\n",
    "                color_mapper.palette = colors_dict[val]\n",
    "                plot.legend = unique_category_dict[val]\n",
    "                pre.text = \"Figure \"+figure_counter+\". \"+caption_text+val+\".\"; \n",
    "                source.change.emit();\n",
    "            \"\"\")\n",
    "            #plot.height = 1000+10*(category_list_dict[val].length)\n",
    "        else:\n",
    "            if len(option_list) >0:\n",
    "                callback_adt = CustomJS(args=dict(source=source, \\\n",
    "                                                pre=pre, \\\n",
    "                                                values_dict=values_dict, \\\n",
    "                                                additional_info=additional_info,\\\n",
    "                                                figure_counter=figure_counter,\n",
    "                                                color_mapper=color_mapper,\\\n",
    "                                                colors_dict=colors_dict,\\\n",
    "                                                scatter=scatter,\n",
    "                                                caption_text=caption_text), code=\"\"\"        \n",
    "                    const val = cb_obj.value;    \n",
    "                    source.data.values = values_dict[val]\n",
    "                    if (additional_info != null) {\n",
    "                        source.data.info = additional_info[val]\n",
    "                    }\n",
    "                    \n",
    "                    pre.text = \"Figure \"+figure_counter+\". \"+caption_text+val+\".\";  \n",
    "                    source.change.emit();\n",
    "                \"\"\")\n",
    "            else:\n",
    "                callback_adt = CustomJS(args=dict(source=source, \\\n",
    "                                                pre=pre, \\\n",
    "                                                values_dict=values_dict, \\\n",
    "                                                additional_info=additional_info,\\\n",
    "                                                figure_counter=figure_counter,\n",
    "                                                caption_text=caption_text), code=\"\"\"        \n",
    "                    const val = cb_obj.value;    \n",
    "                    source.data.values = values_dict[val]\n",
    "                    if (additional_info != null) {\n",
    "                        source.data.info = additional_info[val]\n",
    "                    }\n",
    "                    \n",
    "                    pre.text = \"Figure \"+figure_counter+\". \"+caption_text+val+\".\";  \n",
    "                    source.change.emit();\n",
    "                \"\"\")\n",
    "\n",
    "        # init dropdown menu\n",
    "        select = Select(title=\"Color by \" + color_by_title + ':', value=option_list[0], options=option_list)\n",
    "        select.js_on_change('value', callback_adt)\n",
    "        \n",
    "        col = column(select, row(column(plot, pre)))\n",
    "        show(col)\n",
    "\n",
    "    else:\n",
    "        col = column(plot, pre)\n",
    "        show(col)"
   ]
  },
  {
   "cell_type": "code",
   "execution_count": null,
   "metadata": {},
   "outputs": [],
   "source": [
    "umap_tissue_results = pd.read_csv(s3.open('storage/lncRNA_Appyter/umap_tissues.csv', 'rb'),header=0, index_col=0) \n",
    "tissue_expr_median_expr = pd.read_csv(s3.open('storage/lncRNA_Appyter/lncRNA_median_expr_by_tissue_filtered.csv', 'rb'),header=0, index_col=0) "
   ]
  },
  {
   "cell_type": "code",
   "execution_count": null,
   "metadata": {},
   "outputs": [],
   "source": [
    "lncRNA_2_tissue = {}\n",
    "for gene in tissue_expr_zscore.index:\n",
    "    lncRNA_2_tissue[gene]=tissue_expr_zscore.loc[gene].idxmax()\n",
    "\n",
    "values_dict_th = dict({'all tissues':[lncRNA_2_tissue[x] for x in list(umap_tissue_results.index)]}) \n",
    "category_list_dict_th = dict()\n",
    "category_list_dict_th['all tissues'] = list(sorted(np.unique([lncRNA_2_tissue[x] for x in list(umap_tissue_results.index)])))\n",
    "for t in np.unique(values_dict_th['all tissues']):\n",
    "    values_dict_th[t] = [lncRNA_2_tissue[x] if lncRNA_2_tissue[x] == t else \"other\" for x in list(umap_tissue_results.index)]\n",
    "    category_list_dict_th[t]= ['other',t]\n",
    "\n",
    "plot_scatter(umap_df=umap_tissue_results, values_dict=values_dict_th,option_list=list(['all tissues'])+list(np.unique(values_dict_th['all tissues'])) ,sample_names=list(umap_tissue_results.index),caption_text='UMAP of lncRNAs colored by highest expression in ',category_list_dict=category_list_dict_th, dropdown=True,figure_counter=2,color_by_title='Highest Expression',highlight_query=query)"
   ]
  },
  {
   "cell_type": "code",
   "execution_count": null,
   "metadata": {},
   "outputs": [],
   "source": [
    "values_dict_tm = dict()\n",
    "unique_tissues = np.unique(tissue_expr_median_expr.columns)\n",
    "for t in unique_tissues:\n",
    "    values_dict_tm[t] = list(tissue_expr_median_expr[t])\n",
    "    \n",
    "plot_scatter(umap_df=umap_tissue_results, values_dict=values_dict_tm,option_list=list(unique_tissues) ,sample_names=list(umap_tissue_results.index),caption_text='UMAP of lncRNAs colored by median expression in ', figure_counter=4,category_list_dict=None, category=False,dropdown=True,color_by_title='Median Expression',highlight_query=query)"
   ]
  },
  {
   "cell_type": "code",
   "execution_count": null,
   "metadata": {},
   "outputs": [],
   "source": [
    "values_dict_tz = dict()\n",
    "unique_tissues = np.unique(tissue_expr_zscore.columns)\n",
    "for t in unique_tissues:\n",
    "    values_dict_tz[t] = list(tissue_expr_zscore[t])\n",
    "    \n",
    "plot_scatter(umap_df=umap_tissue_results, values_dict=values_dict_tz,option_list=list(unique_tissues) ,sample_names=list(umap_tissue_results.index),caption_text='UMAP of lncRNAs colored by z-score in ', figure_counter=4,category_list_dict=None, category=False,dropdown=True,color_by_title='Z-score',highlight_query=query)"
   ]
  },
  {
   "cell_type": "code",
   "execution_count": null,
   "metadata": {},
   "outputs": [],
   "source": [
    "%%appyter markdown\n",
    "### Visualizing the lncRNA similarity network in Cell Lines: {{query.raw_value}}"
   ]
  },
  {
   "cell_type": "markdown",
   "metadata": {},
   "source": [
    "UMAP[6] showing 5,050 lncRNAs. Color lncRNAs by cell line with the highest expression or color by median expression and z-score in a specific cell line."
   ]
  },
  {
   "cell_type": "code",
   "execution_count": null,
   "metadata": {},
   "outputs": [],
   "source": [
    "umap_cell_line_results = pd.read_csv(s3.open('storage/lncRNA_Appyter/umap_cell_lines.csv', 'rb'),header=0, index_col=0) \n",
    "cell_line_expr_median_expr = pd.read_csv(s3.open('storage/lncRNA_Appyter/lncRNA_median_expr_by_cell_line_filtered.csv', 'rb'),header=0, index_col=0) "
   ]
  },
  {
   "cell_type": "code",
   "execution_count": null,
   "metadata": {},
   "outputs": [],
   "source": [
    "lncRNA_2_cell_line = {}\n",
    "for gene in cell_line_expr_zscore.index:\n",
    "    lncRNA_2_cell_line[gene]=cell_line_expr_zscore.loc[gene].idxmax()\n",
    "\n",
    "values_dict_ch = dict({'all cell lines':[lncRNA_2_cell_line[x] for x in list(umap_cell_line_results.index)]}) \n",
    "category_list_dict_ch = dict()\n",
    "category_list_dict_ch['all cell lines'] = list(sorted(np.unique([lncRNA_2_cell_line[x] for x in list(umap_cell_line_results.index)]))) \n",
    "for t in np.unique(values_dict_ch['all cell lines']):\n",
    "    values_dict_ch[t] = [lncRNA_2_cell_line[x] if lncRNA_2_cell_line[x] == t else \"other\" for x in list(umap_cell_line_results.index)]\n",
    "    category_list_dict_ch[t]= ['other',t]\n",
    "\n",
    "plot_scatter(umap_df=umap_cell_line_results, values_dict=values_dict_ch,option_list=list(['all cell lines'])+list(np.unique(values_dict_ch['all cell lines'])) ,sample_names=list(umap_cell_line_results.index),caption_text='UMAP of lncRNAs colored by highest expression in ',category_list_dict=category_list_dict_ch, dropdown=True,figure_counter=6,color_by_title='Highest Expression',highlight_query=query)"
   ]
  },
  {
   "cell_type": "code",
   "execution_count": null,
   "metadata": {},
   "outputs": [],
   "source": [
    "values_dict_cm = dict()\n",
    "unique_cell_lines = np.unique(cell_line_expr_median_expr.columns)\n",
    "for t in unique_cell_lines:\n",
    "    values_dict_cm[t] = list(cell_line_expr_median_expr[t])\n",
    "    \n",
    "plot_scatter(umap_df=umap_cell_line_results, values_dict=values_dict_cm,option_list=list(unique_cell_lines) ,sample_names=list(umap_cell_line_results.index),caption_text='UMAP of lncRNAs colored by median expression in ', figure_counter=7,category_list_dict=None, category=False,dropdown=True,color_by_title='Median Expression',highlight_query=query)"
   ]
  },
  {
   "cell_type": "code",
   "execution_count": null,
   "metadata": {},
   "outputs": [],
   "source": [
    "values_dict_cz = dict()\n",
    "unique_cell_lines = np.unique(cell_line_expr_zscore.columns)\n",
    "for t in unique_cell_lines:\n",
    "    values_dict_cz[t] = list(cell_line_expr_zscore[t])\n",
    "    \n",
    "plot_scatter(umap_df=umap_cell_line_results, values_dict=values_dict_cz,option_list=list(unique_cell_lines) ,sample_names=list(umap_cell_line_results.index),caption_text='UMAP of lncRNAs colored by z-score in ', figure_counter=8,category_list_dict=None, category=False,dropdown=True,color_by_title='Z-score',highlight_query=query)"
   ]
  },
  {
   "cell_type": "code",
   "execution_count": null,
   "metadata": {},
   "outputs": [],
   "source": [
    "# close h5 file\n",
    "f.close()"
   ]
  },
  {
   "cell_type": "markdown",
   "metadata": {},
   "source": [
    "### References\n",
    "[1] Wilks C, Zheng SC, Chen FY, Charles R, Solomon B, Ling JP, Imada EL, Zhang D, Joseph L, Leek JT: recount3: summaries and queries for large-scale RNA-seq expression and splicing. bioRxiv 2021:2021.2005.2021.445138.\n",
    "\n",
    "[2] Lachmann A, Schilder BM, Wojciechowicz ML, Torre D, Kuleshov MV, Keenan AB, Ma’ayan A: Geneshot: search engine for ranking genes from arbitrary text queries. Nucleic Acids Research 2019, 47(W1):W571-W577.\n",
    "\n",
    "[3]Xie Z, Bailey A, Kuleshov MV, Clarke DJB, Evangelista JE, Jenkins SL, Lachmann A, Wojciechowicz ML, Kropiwnicki E, Jagodnik KM: Gene Set Knowledge Discovery with Enrichr. Current Protocols 2021, 1(3):e90.\n",
    "\n",
    "[4]Chen EY, Tan CM, Kou Y, Duan Q, Wang Z, Meirelles GV, Clark NR, Ma’ayan A: Enrichr: interactive and collaborative HTML5 gene list enrichment analysis tool. BMC Bioinformatics 2013, 14(1):128.\n",
    "\n",
    "[5]Kuleshov MV, Jones MR, Rouillard AD, Fernandez NF, Duan Q, Wang Z, Koplev S, Jenkins SL, Jagodnik KM, Lachmann A: Enrichr: a comprehensive gene set enrichment analysis web server 2016 update. Nucleic Acids Research 2016, 44(W1):W90-W97.\n",
    "\n",
    "[6]McInnes L, Healy J, Melville J: Umap: Uniform manifold approximation and projection for dimension reduction. arXiv preprint arXiv:180203426 2018.\n"
   ]
  }
 ],
 "metadata": {
  "kernelspec": {
   "display_name": "Python 3.9",
   "language": "python",
   "name": "python3"
  },
  "language_info": {
   "codemirror_mode": {
    "name": "ipython",
    "version": 3
   },
   "file_extension": ".py",
   "mimetype": "text/x-python",
   "name": "python",
   "nbconvert_exporter": "python",
   "pygments_lexer": "ipython3",
   "version": "3.9.0"
  }
 },
 "nbformat": 4,
 "nbformat_minor": 4
}
