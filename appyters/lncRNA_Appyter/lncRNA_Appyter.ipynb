{
 "cells": [
  {
   "cell_type": "code",
   "execution_count": null,
   "metadata": {},
   "outputs": [],
   "source": [
    "#%%appyter init\n",
    "from appyter import magic\n",
    "magic.init(lambda _=globals: _())"
   ]
  },
  {
   "cell_type": "code",
   "execution_count": null,
   "metadata": {},
   "outputs": [],
   "source": [
    "%%appyter hide_code_exec\n",
    "{% do SectionField(name='section1', title = '1. Input a Gene Symbol or Ensembl ID', subtitle = '', img = 'lncRNA_appyter_logo.png')%}\n",
    "{% do SectionField(name='section2', title = '2. Options', subtitle = '', img = 'lncRNA_appyter_logo.png')%}"
   ]
  },
  {
   "cell_type": "code",
   "execution_count": null,
   "metadata": {},
   "outputs": [],
   "source": [
    "%%appyter code_exec\n",
    "{% set query = StringField(name='gene_symbol', label='Gene Symbol/Ensembl ID', default='HOTAIR', description='',section = 'section1') %}\n",
    "{% set options_fast_compute = BoolField(name='fast_compute', label='Precompute', default='true', description='Precompute will retrieve precomputed results for a faster run time. Select \\'No\\' to run whole analysis.', section='section2')%}"
   ]
  },
  {
   "cell_type": "markdown",
   "metadata": {},
   "source": [
    "%%appyter markdown\n",
    "# Report about the Long Non-coding RNA (lncRNA) {{query.raw_value}}\n",
    "\n",
    "Based on lncRNA-gene co-expression, this report provides predictions about the biological functions of {{query.raw_value}}, displays the average expression of {{query.raw_value}} across tissues and cell-lines, and lists predictions of small molecules that may specifically up- or down-regulate the expression of {{query.raw_value}}."
   ]
  },
  {
   "cell_type": "code",
   "execution_count": null,
   "metadata": {},
   "outputs": [],
   "source": [
    "import pandas as pd \n",
    "import numpy as np\n",
    "import h5py as h5\n",
    "from IPython.display import display,FileLink, HTML, Markdown\n",
    "import os\n",
    "import s3fs\n",
    "from utils import *\n",
    "from bokeh.io import output_notebook\n",
    "from bokeh.io import output_file, show\n",
    "from bokeh.plotting import figure\n",
    "output_notebook()"
   ]
  },
  {
   "cell_type": "code",
   "execution_count": null,
   "metadata": {},
   "outputs": [],
   "source": [
    "%%appyter code_exec\n",
    "query = {{ query }}"
   ]
  },
  {
   "cell_type": "code",
   "execution_count": null,
   "metadata": {},
   "outputs": [],
   "source": [
    "# lncRNA of interest\n",
    "query = query.upper()"
   ]
  },
  {
   "cell_type": "markdown",
   "metadata": {},
   "source": [
    "%%appyter markdown\n",
    "### Import gene-lncRNA co-expression matrix"
   ]
  },
  {
   "cell_type": "markdown",
   "metadata": {},
   "source": [
    "This lncRNA-gene co-expression matrix was computed with Pearson’s correlation coefficient applied to 10,000 randomly selected bulk RNA-seq samples from Recount3 [1]. NOTE: If an Ensembl ID was entered, it will be converted to its corresponding gene symbol if available. "
   ]
  },
  {
   "cell_type": "code",
   "execution_count": null,
   "metadata": {},
   "outputs": [],
   "source": [
    "# Import lncRNA-gene co-expression matrix\n",
    "s3 = s3fs.S3FileSystem(anon=True, client_kwargs=dict(endpoint_url='https://s3.appyters.maayanlab.cloud'))\n",
    "f = h5.File(s3.open('storage/lncRNA_Appyter/Recount3_lncRNA_pcorr.h5', 'rb'), 'r') \n",
    "corr =f[\"data/correlation\"]\n",
    "col_genes = [x.decode('UTF-8') for x in f[\"meta/columns/genes\"]]\n",
    "row_genes =  [x.decode('UTF-8') for x in f[\"meta/rows/genes\"]]\n",
    "row_genes_ensembl = [x.decode('UTF-8') for x in f[\"meta/rows/ensembl\"]]"
   ]
  },
  {
   "cell_type": "code",
   "execution_count": null,
   "metadata": {},
   "outputs": [],
   "source": [
    "# Convert input Ensembl ID to gene symbol\n",
    "ensembl_2_genes = dict(zip(row_genes_ensembl,row_genes))\n",
    "if query in row_genes_ensembl:\n",
    "    query_new = ensembl_2_genes[query]\n",
    "    if query != query_new:\n",
    "        print('The Ensembl ID ' + query + ' has been converted to the gene symbol ' + query_new )\n",
    "        query = query_new\n",
    "        print('Predicting functions for ' + query)\n",
    "    else:\n",
    "        print('Predicting functions for ' + query)\n",
    "else:\n",
    "    if query in row_genes:\n",
    "        print('Predicting functions for ' + query )"
   ]
  },
  {
   "cell_type": "markdown",
   "metadata": {},
   "source": [
    "%%appyter markdown\n",
    "### Top correlated genes with {{query.raw_value}}"
   ]
  },
  {
   "cell_type": "markdown",
   "metadata": {},
   "source": [
    "%%appyter markdown\n",
    "Using the loaded gene-lncRNA correlation matrix, we report the genes that mostly correlate with {{query.raw_value}}."
   ]
  },
  {
   "cell_type": "code",
   "execution_count": null,
   "metadata": {},
   "outputs": [],
   "source": [
    "# Find most correalted genes and lncRNAs with the input lncRNA\n",
    "if not os.path.exists(\"gene_correlations/\"):\n",
    "        os.makedirs(\"gene_correlations/\", exist_ok=True)\n",
    "\n",
    "# Get index of lncRNA of interest\n",
    "idx_query = np.where(np.asarray(row_genes) == query)[0][0]\n",
    "\n",
    "# Ranks genes based on pearson correlation with the lncRNA of interest\n",
    "lncRNA_coexp = pd.DataFrame(corr[idx_query,:])\n",
    "lncRNA_coexp.index = col_genes\n",
    "lncRNA_coexp.columns = [\"Pearson's Correlation Coefficient\"]\n",
    "lncRNA_coexp = lncRNA_coexp.sort_values(by=\"Pearson's Correlation Coefficient\", ascending=False)\n",
    "\n",
    "# save gene correlations to csv file\n",
    "lncRNA_coexp.to_csv('gene_correlations/'+ query + '_correlated_genes.csv')"
   ]
  },
  {
   "cell_type": "code",
   "execution_count": null,
   "metadata": {},
   "outputs": [],
   "source": [
    "display(lncRNA_coexp[0:20])\n",
    "display(Markdown(f\"*Table 1. Top 20 genes that mostly correlate with {query} ranked by Pearson’s correlation coefficients.*\"))\n",
    "display(FileLink('gene_correlations/' + query + '_correlated_genes.csv', result_html_prefix=str('Download Table 1: ')))"
   ]
  },
  {
   "cell_type": "code",
   "execution_count": null,
   "metadata": {},
   "outputs": [],
   "source": [
    "%%appyter markdown\n",
    "### Enrichment analysis applied to the top 200 most correlated genes with {{query.raw_value}}"
   ]
  },
  {
   "cell_type": "markdown",
   "metadata": {},
   "source": [
    "%%appyter markdown\n",
    "The top 200 most correlated genes with {{query.raw_value}} were submitted to Enrichr [2-4] for enrichment analysis. NOTE: Only genes with official Entrez gene symbols are submitted to Enrichr. Ensembl IDs that do not map to an official gene symbol were dropped."
   ]
  },
  {
   "cell_type": "code",
   "execution_count": null,
   "metadata": {},
   "outputs": [],
   "source": [
    "# Submit top 200 gene symbols to Enrichr\n",
    "# For users running the notebook locally: To adjust the number of genes submitted to Enrichr, change the value of n below\n",
    "n = 200\n",
    "top_n_genes = [x for x in list(lncRNA_coexp.index) if not x.startswith('ENSG')]\n",
    "top_n_genes = top_n_genes[0:n]\n",
    "enrichr_link = Enrichr_API(top_n_genes,str('Top 200 correlated genes with the lncRNA: ' + query))"
   ]
  },
  {
   "cell_type": "code",
   "execution_count": null,
   "metadata": {},
   "outputs": [],
   "source": [
    "display(HTML(\"Access the enrichment analysis results for {query} 200 most correlated genes here: <a href='{href}'>{link}</a>\".format(href=enrichr_link, link = enrichr_link, query=query)))"
   ]
  },
  {
   "cell_type": "markdown",
   "metadata": {},
   "source": [
    "%%appyter markdown\n",
    "### Top correlated lncRNAs with {{query.raw_value}}"
   ]
  },
  {
   "cell_type": "markdown",
   "metadata": {},
   "source": [
    "%%appyter markdown\n",
    "Below we list the top lncRNAs, out of all 5,050 lncRNAs within our database, that mostly correlate with {{query.raw_value}} based on their Pearson’s correlation coefficients."
   ]
  },
  {
   "cell_type": "code",
   "execution_count": null,
   "metadata": {},
   "outputs": [],
   "source": [
    "# Download most correlated lncRNAs\n",
    "lncRNA_lncRNA_coexp = lncRNA_coexp.loc[row_genes]\n",
    "lncRNA_lncRNA_coexp = lncRNA_lncRNA_coexp.sort_values(by=\"Pearson's Correlation Coefficient\", ascending=False)\n",
    "\n",
    "# save gene correlations to csv file\n",
    "lncRNA_coexp.to_csv('gene_correlations/' + query + '_correlated_lncRNAs.csv')"
   ]
  },
  {
   "cell_type": "code",
   "execution_count": null,
   "metadata": {},
   "outputs": [],
   "source": [
    "display(lncRNA_lncRNA_coexp [0:20])\n",
    "display(Markdown(f\"*Table 2. Top 20 lncRNAs that mostly correlate with {query} ranked by Pearson’s correlation coefficients.*\"))\n",
    "display(FileLink('gene_correlations/' + query + '_correlated_lncRNAs.csv', result_html_prefix=str('Download Table 2: ')))"
   ]
  },
  {
   "cell_type": "code",
   "execution_count": null,
   "metadata": {},
   "outputs": [],
   "source": [
    "%%appyter markdown\n",
    "### Predicted Biological Functions of {{query.raw_value}}"
   ]
  },
  {
   "cell_type": "markdown",
   "metadata": {},
   "source": [
    "%%appyter markdown\n",
    "For each Enrichr library, the mean Pearson’s correlation coefficients are calculated between each gene set and {{query.raw_value}}. Terms with a high mean Pearson’s correlation coefficients are prioritized. These terms are predicted to be associated with {{query.raw_value}}."
   ]
  },
  {
   "cell_type": "code",
   "execution_count": null,
   "metadata": {},
   "outputs": [],
   "source": [
    "%%appyter code_exec\n",
    "{% if options_fast_compute.raw_value == False %}\n",
    "# Make function predictions\n",
    "prediction_libraries = ['MGI_Mammalian_Phenotype_Level_4_2021','GO_Biological_Process_2021','KEGG_2021_Human','DisGeNET']\n",
    "prediction_libraries = np.array_split(prediction_libraries, int(np.ceil(len(prediction_libraries)/2))) \n",
    "for i_group,group in enumerate(prediction_libraries):\n",
    "    predictions = []\n",
    "    library_names = []\n",
    "    for pred_library in group:\n",
    "        predictions.append(predict_functions(pred_library,lncRNA_coexp,query))\n",
    "        library_names.append(pred_library.replace('_',' '))\n",
    "    plot_results(library_names, predictions)\n",
    "    \n",
    "    # Save Predictions \n",
    "    if not os.path.exists(\"predicted_functions/\"):\n",
    "        os.makedirs(\"predicted_functions/\", exist_ok=True)\n",
    "    for ii,prediction in enumerate(predictions):\n",
    "        prediction.to_csv(\"predicted_functions/\" + library_names[ii]+'_' + query + '.csv')\n",
    "        display(FileLink(\"predicted_functions/\" + library_names[ii]+'_' + query + '.csv', result_html_prefix=str('Download predictions: ')))\n",
    "{% endif %}"
   ]
  },
  {
   "cell_type": "code",
   "execution_count": null,
   "metadata": {},
   "outputs": [],
   "source": [
    "%%appyter code_exec\n",
    "{% if options_fast_compute.raw_value == True %}\n",
    "# Import pre-computed lncRNA functions\n",
    "prediction_libraries = ['MGI_Mammalian_Phenotype_Level_4_2021','GO_Biological_Process_2021','KEGG_2021_Human','DisGeNET']\n",
    "prediction_libraries = np.array_split(prediction_libraries, int(np.ceil(len(prediction_libraries)/2))) \n",
    "for i_group,group in enumerate(prediction_libraries):\n",
    "    predictions = []\n",
    "    library_names = []\n",
    "    for pred_library in group:\n",
    "        precomputed_avg_coexp = pd.read_csv(s3.open('storage/lncRNA_Appyter/'+ pred_library + '_lncRNA_avg_coexpression.csv','rb'),index_col=0)\n",
    "        precomputed_avg_coexp = pd.DataFrame(precomputed_avg_coexp.loc[query]).sort_values(by=query,ascending = False).reset_index().rename({'index': 'Term', query: 'Mean Pearson Correlation'}, axis='columns')\n",
    "        predictions.append(precomputed_avg_coexp)\n",
    "        library_names.append(pred_library.replace('_',' '))\n",
    "    plot_results(library_names, predictions)\n",
    "    if i_group == 0:\n",
    "        display(Markdown(f\"*Figure 1. Predicted MGI Mammalian Phenotypes and GO Biological Processes for the lncRNA {query}. Terms are ranked by the mean Pearson correlation between {query} and the associated gene sets.*\" ))\n",
    "    if i_group == 1:\n",
    "        display(Markdown(f\"*Figure 2. Predicted KEGG pathways and DisGeNET disease terms for the lncRNA {query}. Terms are ranked by the mean Pearson correlation between {query} and the associated gene sets.*\" ))\n",
    "\n",
    "    # Save Predictions \n",
    "    if not os.path.exists(\"predicted_functions/\"):\n",
    "        os.makedirs(\"predicted_functions/\", exist_ok=True)\n",
    "    for ii,prediction in enumerate(predictions):\n",
    "        prediction.to_csv(\"predicted_functions/\" + library_names[ii]+'_' + query + '.csv')\n",
    "        display(FileLink(\"predicted_functions/\" + library_names[ii]+'_' + query + '.csv', result_html_prefix=str('Download predictions: ')))\n",
    "{% endif %}"
   ]
  },
  {
   "cell_type": "code",
   "execution_count": null,
   "metadata": {},
   "outputs": [],
   "source": [
    "%%appyter markdown\n",
    "### Tissue and Cell Line Expression Levels of {{query.raw_value}}\n",
    "#### This part of the report provides the Z-score (Normalized Median Expression) for the lncRNA in various tissues and cell lines."
   ]
  },
  {
   "cell_type": "markdown",
   "metadata": {},
   "source": [
    "%%appyter markdown\n",
    "Samples from Recount3 [1] were automatically labelled by their tissue type or cell line of origin. Tissue and cell line samples were log2 transformed and quantile normalized separately. For {{query.raw_value}}, the median expression was then calculated for each tissue type and cell line. Tissues and cell lines with less than 20 samples were removed. Z-scoring was then applied along the lncRNA axis to compare expression levels across all tissues and cell lines."
   ]
  },
  {
   "cell_type": "code",
   "execution_count": null,
   "metadata": {},
   "outputs": [],
   "source": [
    "# Import z-score data\n",
    "tissue_expr_zscore  = pd.read_csv(s3.open('storage/lncRNA_Appyter/lncRNA_zscore_median_expr_by_tissue_filtered.csv', 'rb'),header=0, index_col=0) \n",
    "tissue_expr_zscore.index = [x.split(',')[0] for x in tissue_expr_zscore.index]\n",
    "\n",
    "cell_line_expr_zscore = pd.read_csv(s3.open('storage/lncRNA_Appyter/lncRNA_zscore_median_expr_by_cell_line_filtered.csv', 'rb'),header=0, index_col=0) \n",
    "cell_line_expr_zscore.index = [x.split(',')[0] for x in cell_line_expr_zscore.index]\n",
    "cell_line_expr_zscore.columns = [x.upper().replace(' CELL','') for x in cell_line_expr_zscore.columns]\n",
    "\n",
    "# Create folder for tissue and cell line specific expression\n",
    "if not os.path.exists(\"tissue_and_cell_line_expression/\"):\n",
    "    os.makedirs(\"tissue_and_cell_line_expression/\", exist_ok=True)"
   ]
  },
  {
   "cell_type": "code",
   "execution_count": null,
   "metadata": {},
   "outputs": [],
   "source": [
    "# Rank tissues by z-score(median expression)\n",
    "tissue_specific_lncRNA = pd.DataFrame(tissue_expr_zscore.loc[query])\n",
    "tissue_specific_lncRNA = tissue_specific_lncRNA.sort_values(by=query,ascending=False)"
   ]
  },
  {
   "cell_type": "code",
   "execution_count": null,
   "metadata": {},
   "outputs": [],
   "source": [
    "plot_bar(tissue_specific_lncRNA ,'All Tissues Ranked by Z-score (Median Expression)','Tissues','Z-score')\n",
    "display(Markdown(f\"*Figure 3. Z-score (median expression) for the lncRNA {query} in various tissue types.*\"))\n",
    "tissue_specific_lncRNA.to_csv(\"tissue_and_cell_line_expression/\" + query + '_tissue_zscore' + '.csv')\n",
    "display(FileLink(\"tissue_and_cell_line_expression/\" + query + '_tissue_zscore' + '.csv', result_html_prefix=str('Download table for z-score (median expression)in tissue types: ')))"
   ]
  },
  {
   "cell_type": "code",
   "execution_count": null,
   "metadata": {},
   "outputs": [],
   "source": [
    "# Rank cell lines by z-score(median expression)\n",
    "cell_line_specific_lncRNA = pd.DataFrame(cell_line_expr_zscore.loc[query])\n",
    "cell_line_specific_lncRNA = cell_line_specific_lncRNA.sort_values(by=query,ascending=False)"
   ]
  },
  {
   "cell_type": "code",
   "execution_count": null,
   "metadata": {},
   "outputs": [],
   "source": [
    "plot_bar(cell_line_specific_lncRNA[0:30],'Top 30 Cell Lines Ranked by Z-score (Median Expression)','Cell Lines','Z-score')\n",
    "display(Markdown(f\"*Figure 4. Z-score (median expression) for the lncRNA {query} in various cell lines.*\"))\n",
    "cell_line_specific_lncRNA.to_csv(\"tissue_and_cell_line_expression/\" + query + '_cell_line_zscore' + '.csv')\n",
    "display(FileLink(\"tissue_and_cell_line_expression/\" + query + '_cell_line_zscore' + '.csv', result_html_prefix=str('Download table for z-score (median expression)in cell lines: ')))"
   ]
  },
  {
   "cell_type": "code",
   "execution_count": null,
   "metadata": {},
   "outputs": [],
   "source": [
    "%%appyter markdown\n",
    "### Visualizing all lncRNAs based on their gene expression similarity across tissues"
   ]
  },
  {
   "cell_type": "markdown",
   "metadata": {},
   "source": [
    "%%appyter markdown\n",
    "UMAP visualization [5] was applied to 2,000 randomly selected samples (with tissue type labels) from Recount3[1]. Samples were first log2 transformed and quantile normalized (samples as features) before applying UMAP. Each data point is a lncRNA (n=5,050). Use the drop-down menu to color lncRNAs by z-score in a specific tissue. The black arrow is pointing to the location of {{query.raw_value}}."
   ]
  },
  {
   "cell_type": "code",
   "execution_count": null,
   "metadata": {},
   "outputs": [],
   "source": [
    "umap_tissue_results = pd.read_csv(s3.open('storage/lncRNA_Appyter/umap_tissues.csv', 'rb'),header=0, index_col=0) \n",
    "tissue_expr_median_expr = pd.read_csv(s3.open('storage/lncRNA_Appyter/lncRNA_median_expr_by_tissue_filtered.csv', 'rb'),header=0, index_col=0) "
   ]
  },
  {
   "cell_type": "code",
   "execution_count": null,
   "metadata": {},
   "outputs": [],
   "source": [
    "values_dict_tz = dict()\n",
    "unique_tissues = np.unique(tissue_expr_zscore.columns)\n",
    "for t in unique_tissues:\n",
    "    values_dict_tz[t] = list(tissue_expr_zscore[t])\n",
    "    \n",
    "plot_scatter(umap_df=umap_tissue_results, values_dict=values_dict_tz,option_list=list(unique_tissues) ,sample_names=list(umap_tissue_results.index),caption_text='UMAP was applied to 2,000 randomly selected samples (with tissue type labels) from Recount3. Samples were first log2 transformed and quantile normalized (samples as features) before applying UMAP. Each data point is a lncRNA (n=5,050) and are colored by z-score (median expression) in ', figure_counter=5,category_list_dict=None, category=False,dropdown=True,color_by_title='Z-score',highlight_query=query,first_selection=list(tissue_specific_lncRNA.index)[0])"
   ]
  },
  {
   "cell_type": "code",
   "execution_count": null,
   "metadata": {},
   "outputs": [],
   "source": [
    "%%appyter markdown\n",
    "### Visualizing all lncRNAs based on their gene expression similarity across cell lines "
   ]
  },
  {
   "cell_type": "markdown",
   "metadata": {},
   "source": [
    "%%appyter markdown\n",
    "UMAP visualization [5] was applied to 2,000 randomly selected samples (with cell line labels) from Recount3 [1]. Samples were first log2 transformed and quantile normalized (samples as features) before applying UMAP. Each data point is a lncRNA (n=5,050). Use the drop-down menu to color lncRNAs by z-score in a specific cell line. The black arrow is pointing to the location of {{query.raw_value}}."
   ]
  },
  {
   "cell_type": "code",
   "execution_count": null,
   "metadata": {},
   "outputs": [],
   "source": [
    "umap_cell_line_results = pd.read_csv(s3.open('storage/lncRNA_Appyter/umap_cell_lines.csv', 'rb'),header=0, index_col=0) \n",
    "cell_line_expr_median_expr = pd.read_csv(s3.open('storage/lncRNA_Appyter/lncRNA_median_expr_by_cell_line_filtered.csv', 'rb'),header=0, index_col=0) "
   ]
  },
  {
   "cell_type": "code",
   "execution_count": null,
   "metadata": {},
   "outputs": [],
   "source": [
    "values_dict_cz = dict()\n",
    "unique_cell_lines = np.unique(cell_line_expr_zscore.columns)\n",
    "for t in unique_cell_lines:\n",
    "    values_dict_cz[t] = list(cell_line_expr_zscore[t])\n",
    "    \n",
    "plot_scatter(umap_df=umap_cell_line_results, values_dict=values_dict_cz,option_list=list(unique_cell_lines) ,sample_names=list(umap_cell_line_results.index),caption_text='UMAP was applied to 2,000 randomly selected samples (with cell line labels) from Recount3. Samples were first log2 transformed and quantile normalized (samples as features) before applying UMAP. Each data point is a lncRNA (n=5,050) and are colored by z-score (median expression) in ', figure_counter=6,category_list_dict=None, category=False,dropdown=True,color_by_title='Z-score',highlight_query=query,first_selection=list(cell_line_specific_lncRNA.index)[0])"
   ]
  },
  {
   "cell_type": "code",
   "execution_count": null,
   "metadata": {},
   "outputs": [],
   "source": [
    "%%appyter markdown\n",
    "### L1000 Small Molecules Predicted to Modulate {{query.raw_value}}"
   ]
  },
  {
   "cell_type": "markdown",
   "metadata": {},
   "source": [
    "%%appyter markdown\n",
    "~1.4 million L1000 chemical perturbation gene expression signatures (Level 5) were downloaded from SigCom LINCS (https://maayanlab.cloud/sigcom-lincs) [6]. For each signature, all 5,050 lncRNAs were ranked by mean Pearson’s correlation coefficients and the top 250 lncRNAs were retained for each signature. These lncRNA-L1000 signature associations are reported here. The signatures are ranked by their mean Pearson’s correlation coefficients to modulate the expression of {{query.raw_value}}. These associations are also separated by direction. If {{query.raw_value}} is highly correlated with the up-regulated genes for a specific small molecule, then this small molecule is predicted to up-regulate {{query.raw_value}}."
   ]
  },
  {
   "cell_type": "code",
   "execution_count": null,
   "metadata": {},
   "outputs": [],
   "source": [
    "%%appyter markdown\n",
    "### L1000 Small Molecules Predicted to Up-Regulate {{query.raw_value}}"
   ]
  },
  {
   "cell_type": "markdown",
   "metadata": {},
   "source": [
    "%%appyter markdown\n",
    "The prioritized small molecules below are predicted to specifically up-regulate {{query.raw_value}}."
   ]
  },
  {
   "cell_type": "code",
   "execution_count": null,
   "metadata": {},
   "outputs": [],
   "source": [
    "# Load predicted small molecules to modulate the lncRNA\n",
    "l1000_prediction_file = pd.read_csv(s3.open('storage/lncRNA_Appyter/l1000_sm_lncRNAs_final.tsv', 'rb'),sep='\\t',header=None, index_col=0)\n",
    "l1000_prediction_file = l1000_prediction_file.dropna(axis=1)\n",
    "if query in list(l1000_prediction_file.index):\n",
    "    l1000_prediction_file = list(l1000_prediction_file.loc[query])\n",
    "    drugs_up = []\n",
    "    drugs_up_corr = []\n",
    "    drugs_down = []\n",
    "    drugs_down_corr=[]\n",
    "    for sig in l1000_prediction_file:\n",
    "        sig_id = sig.split(',')[0]\n",
    "        sig_id_corr = float(sig.split(',')[1])\n",
    "        if sig_id.split(' ')[1] == 'down':\n",
    "            drugs_down.append(sig_id)\n",
    "            drugs_down_corr.append(sig_id_corr)\n",
    "        else:\n",
    "            drugs_up.append(sig_id)\n",
    "            drugs_up_corr.append(sig_id_corr)\n",
    "\n",
    "    up_results = pd.DataFrame({'L1000 Signature ID':drugs_up,'Drug': [x.split('_')[4] for x in drugs_up],'Up/Down':[x.split(' ')[1] for x in drugs_up],'Dose':[x.split(' ')[0].split('_')[-1] for x in drugs_up],'Cell line':[x.split('_')[1] for x in drugs_up],'Time point':[x.split('_')[2] for x in drugs_up],'Mean Pearson Correlation':drugs_up_corr})\n",
    "    down_results = pd.DataFrame({'L1000 Signature ID':drugs_down,'Drug': [x.split('_')[4] for x in drugs_down],'Up/Down':[x.split(' ')[1] for x in drugs_down],'Dose':[x.split(' ')[0].split('_')[-1] for x in drugs_down],'Cell line':[x.split('_')[1] for x in drugs_down],'Time point':[x.split('_')[2] for x in drugs_down],'Mean Pearson Correlation':drugs_down_corr})\n",
    "else:\n",
    "    up_results = pd.DataFrame()\n",
    "    down_results = pd.DataFrame()\n"
   ]
  },
  {
   "cell_type": "code",
   "execution_count": null,
   "metadata": {},
   "outputs": [],
   "source": [
    "if len(up_results) > 0:\n",
    "    display(up_results[0:20])\n",
    "    display(Markdown(f\"*Table 3. L1000 small molecules predicted to up-regulate the lncRNA {query}. L1000 up signatures are prioritized by their Pearson’s correlation coefficients with {query}.*\"))\n",
    "\n",
    "    # Create folder for tissue and cell line specific expression\n",
    "    if not os.path.exists(\"l1000_sm_predictions/\"):\n",
    "        os.makedirs(\"l1000_sm_predictions/\", exist_ok=True)\n",
    "    up_results.to_csv(\"l1000_sm_predictions/\" + query + '_l1000_sm_predictions_up' + '.csv')\n",
    "    display(FileLink(\"l1000_sm_predictions/\" + query + '_l1000_sm_predictions_up' + '.csv', result_html_prefix=str('Download the table of ranked L1000 small molecules predicted to up-regulate ' + query + ': ')))\n",
    "else:\n",
    "    display(Markdown(f\"**There are no small molecules predicted to specifically up-regulate the expression of {query}.**\"))"
   ]
  },
  {
   "cell_type": "code",
   "execution_count": null,
   "metadata": {},
   "outputs": [],
   "source": [
    "%%appyter markdown\n",
    "### L1000 Small Molecules Predicted to Down-Regulate {{query.raw_value}}"
   ]
  },
  {
   "cell_type": "markdown",
   "metadata": {},
   "source": [
    "%%appyter markdown\n",
    "The prioritized small molecules below are predicted to specifically down-regulate {{query.raw_value}}."
   ]
  },
  {
   "cell_type": "code",
   "execution_count": null,
   "metadata": {},
   "outputs": [],
   "source": [
    "if len(down_results) > 0:\n",
    "    display(down_results[0:20])\n",
    "    display(Markdown(f\"*Table 4. L1000 small molecules predicted to down-regulate the lncRNA {query}. L1000 down signatures are prioritized by their Pearson’s correlation coefficients with {query}.*\"))\n",
    "    # Create folder for tissue and cell line specific expression\n",
    "    if not os.path.exists(\"l1000_sm_predictions/\"):\n",
    "        os.makedirs(\"l1000_sm_predictions/\", exist_ok=True)\n",
    "    down_results.to_csv(\"l1000_sm_predictions/\" + query + '_l1000_sm_predictions_down' + '.csv')\n",
    "    display(FileLink(\"l1000_sm_predictions/\" + query + '_l1000_sm_predictions_down' + '.csv', result_html_prefix=str('Download the table of ranked L1000 small molecules predicted to down-regulate ' + query + ': ')))\n",
    "else:\n",
    "    display(Markdown(f\"**There are no small molecules predicted to specifically down-regulate the expression of {query}.**\"))"
   ]
  },
  {
   "cell_type": "code",
   "execution_count": null,
   "metadata": {},
   "outputs": [],
   "source": [
    "# close h5 file\n",
    "f.close()"
   ]
  },
  {
   "cell_type": "markdown",
   "metadata": {},
   "source": [
    "### References\n",
    "[1] Wilks C, Zheng SC, Chen FY, Charles R, Solomon B, Ling JP, Imada EL, Zhang D, Joseph L, Leek JT: recount3: summaries and queries for large-scale RNA-seq expression and splicing. bioRxiv 2021:2021.2005.2021.445138.\n",
    "\n",
    "[2] Xie Z, Bailey A, Kuleshov MV, Clarke DJB, Evangelista JE, Jenkins SL, Lachmann A, Wojciechowicz ML, Kropiwnicki E, Jagodnik KM: Gene Set Knowledge Discovery with Enrichr. Current Protocols 2021, 1(3):e90.\n",
    "\n",
    "[3] Chen EY, Tan CM, Kou Y, Duan Q, Wang Z, Meirelles GV, Clark NR, Ma’ayan A: Enrichr: interactive and collaborative HTML5 gene list enrichment analysis tool. BMC Bioinformatics 2013, 14(1):128.\n",
    "\n",
    "[4] Kuleshov MV, Jones MR, Rouillard AD, Fernandez NF, Duan Q, Wang Z, Koplev S, Jenkins SL, Jagodnik KM, Lachmann A: Enrichr: a comprehensive gene set enrichment analysis web server 2016 update. Nucleic Acids Research 2016, 44(W1):W90-W97.\n",
    "\n",
    "[5] McInnes L, Healy J, Melville J: Umap: Uniform manifold approximation and projection for dimension reduction. arXiv preprint arXiv:180203426 2018.\n",
    "\n",
    "[6] Evangelista et al. SigCom LINCS: Data and Metadata Search Engine for Gene Expression Signatures. 2021. In preparation.\n"
   ]
  }
 ],
 "metadata": {
  "kernelspec": {
   "display_name": "Python 3.9",
   "language": "python",
   "name": "python3"
  },
  "language_info": {
   "codemirror_mode": {
    "name": "ipython",
    "version": 3
   },
   "file_extension": ".py",
   "mimetype": "text/x-python",
   "name": "python",
   "nbconvert_exporter": "python",
   "pygments_lexer": "ipython3",
   "version": "3.9.0"
  }
 },
 "nbformat": 4,
 "nbformat_minor": 4
}
