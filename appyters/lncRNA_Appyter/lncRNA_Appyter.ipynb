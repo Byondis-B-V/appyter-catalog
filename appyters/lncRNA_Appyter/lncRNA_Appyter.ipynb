{
 "cells": [
  {
   "cell_type": "code",
   "execution_count": null,
   "metadata": {},
   "outputs": [],
   "source": [
    "#%%appyter init\n",
    "from appyter import magic\n",
    "magic.init(lambda _=globals: _())"
   ]
  },
  {
   "cell_type": "markdown",
   "metadata": {},
   "source": [
    "# Long Non-coding RNA (lncRNA) Appyter \n",
    "\n",
    "Using lncRNA-gene co-expression, this Appyter can predict the biological functions of ~5000 lncRNAs."
   ]
  },
  {
   "cell_type": "code",
   "execution_count": null,
   "metadata": {},
   "outputs": [],
   "source": [
    "import pandas as pd \n",
    "import numpy as np\n",
    "import h5py as h5\n",
    "from plotly.offline import iplot\n",
    "import plotly.graph_objs as go\n",
    "from plotly.subplots import make_subplots\n",
    "from IPython.display import display,FileLink, Markdown\n",
    "import ssl\n",
    "import os\n",
    "import urllib.request\n",
    "import s3fs"
   ]
  },
  {
   "cell_type": "code",
   "execution_count": null,
   "metadata": {},
   "outputs": [],
   "source": [
    "%%appyter hide_code\n",
    "\n",
    "{% do SectionField(name='section1', title = '1. Input a Gene Symbol or Ensembl ID', subtitle = '', img = 'lncRNA_appyter_logo.png')%}\n",
    "{% set query = StringField(name='gene_symbol', label='Gene Symbol/Ensembl ID', default='HOTAIR', description='',section = 'section1') %}"
   ]
  },
  {
   "cell_type": "code",
   "execution_count": null,
   "metadata": {},
   "outputs": [],
   "source": [
    "%%appyter code_exec\n",
    "query = {{ query }}"
   ]
  },
  {
   "cell_type": "code",
   "execution_count": null,
   "metadata": {},
   "outputs": [],
   "source": [
    "# lncRNA of interest\n",
    "query = query.upper()"
   ]
  },
  {
   "cell_type": "markdown",
   "metadata": {},
   "source": [
    "%%appyter markdown\n",
    "### Import gene-lncRNA co-expression matrix"
   ]
  },
  {
   "cell_type": "markdown",
   "metadata": {},
   "source": [
    "This lncRNA-gene matrix was computed using Pearson Correlation on 10,000 randomly selected bulk RNA-seq samples from Recount3[1]. "
   ]
  },
  {
   "cell_type": "code",
   "execution_count": null,
   "metadata": {},
   "outputs": [],
   "source": [
    "# Import lncRNA-gene co-expression matrix\n",
    "s3 = s3fs.S3FileSystem(anon=True, client_kwargs=dict(endpoint_url='https://s3.appyters.maayanlab.cloud'))\n",
    "f = h5.File(s3.open('storage/lncRNA_Appyter/Recount3_lncRNA_pcorr.h5', 'rb'), 'r') \n",
    "corr =f[\"data/correlation\"]\n",
    "col_genes = [x.decode('UTF-8') for x in f[\"meta/columns/genes\"]]\n",
    "row_genes =  [x.decode('UTF-8') for x in f[\"meta/rows/genes\"]]\n",
    "row_genes_ensembl = [x.decode('UTF-8') for x in f[\"meta/rows/ensembl\"]]"
   ]
  },
  {
   "cell_type": "code",
   "execution_count": null,
   "metadata": {},
   "outputs": [],
   "source": [
    "# Convert input Ensembl ID to gene symbol\n",
    "ensembl_2_genes = dict(zip(row_genes_ensembl,row_genes))\n",
    "if query in row_genes_ensembl:\n",
    "    query_new = ensembl_2_genes[query]\n",
    "    if query != query_new:\n",
    "        print('Predicting functions for ' + query_new + '(' + query + ')')\n",
    "        query = query_new\n",
    "    else:\n",
    "        print('Predicting functions for ' + query)\n",
    "else:\n",
    "    if query in row_genes:\n",
    "        print('Predicting functions for ' + query )"
   ]
  },
  {
   "cell_type": "markdown",
   "metadata": {},
   "source": [
    "%%appyter markdown\n",
    "### Top correlated genes with {{query.raw_value}}"
   ]
  },
  {
   "cell_type": "markdown",
   "metadata": {},
   "source": [
    "Similarly to Geneshot[2], gene-gene similarities are predicted using co-expression. All genes are ranked by Pearson Correlation with the input lncRNA."
   ]
  },
  {
   "cell_type": "code",
   "execution_count": null,
   "metadata": {},
   "outputs": [],
   "source": [
    "# Find most correalted genes and lncRNAs with the input lncRNA\n",
    "if not os.path.exists(\"gene_correlations/\"):\n",
    "        os.makedirs(\"gene_correlations/\", exist_ok=True)\n",
    "\n",
    "# Get index of lncRNA of interest\n",
    "idx_query = np.where(np.asarray(row_genes) == query)[0][0]\n",
    "\n",
    "# Ranks genes based on pearson correlation with the lncRNA of interest\n",
    "lncRNA_coexp = pd.DataFrame(corr[idx_query,:])\n",
    "lncRNA_coexp.index = col_genes\n",
    "lncRNA_coexp.columns = ['Pearson Correlation']\n",
    "lncRNA_coexp = lncRNA_coexp.sort_values(by='Pearson Correlation', ascending=False)\n",
    "print(lncRNA_coexp[0:20])\n",
    "\n",
    "# save gene correlations to csv file\n",
    "lncRNA_coexp.to_csv('gene_correlations/'+ query + '_correlated_genes.csv')"
   ]
  },
  {
   "cell_type": "code",
   "execution_count": null,
   "metadata": {},
   "outputs": [],
   "source": [
    "display(FileLink('gene_correlations/' + query + '_correlated_genes.csv', result_html_prefix=str('Download Table 1: ')))"
   ]
  },
  {
   "cell_type": "markdown",
   "metadata": {},
   "source": [
    "%%appyter markdown\n",
    "### Top correlated lncRNAs with {{query.raw_value}}"
   ]
  },
  {
   "cell_type": "markdown",
   "metadata": {},
   "source": [
    "lncRNAs are ranked by Pearson Correlation with the input lncRNA."
   ]
  },
  {
   "cell_type": "code",
   "execution_count": null,
   "metadata": {},
   "outputs": [],
   "source": [
    "# Download most correlated lncRNAs\n",
    "lncRNA_lncRNA_coexp = lncRNA_coexp.loc[row_genes]\n",
    "lncRNA_lncRNA_coexp = lncRNA_lncRNA_coexp.sort_values(by='Pearson Correlation', ascending=False)\n",
    "print(lncRNA_lncRNA_coexp [0:20])\n",
    "\n",
    "# save gene correlations to csv file\n",
    "lncRNA_coexp.to_csv('gene_correlations/' + query + '_correlated_lncRNAs.csv')"
   ]
  },
  {
   "cell_type": "code",
   "execution_count": null,
   "metadata": {},
   "outputs": [],
   "source": [
    "display(FileLink('gene_correlations/' + query + '_correlated_lncRNAs.csv', result_html_prefix=str('Download Table 2: ')))"
   ]
  },
  {
   "cell_type": "code",
   "execution_count": null,
   "metadata": {},
   "outputs": [],
   "source": [
    "%%appyter markdown\n",
    "### Predicted Biological Functions of {{query.raw_value}}"
   ]
  },
  {
   "cell_type": "markdown",
   "metadata": {},
   "source": [
    "For each Enrichr library, the mean Pearson Correlation is calulated between each gene set and the lncRNA of interest. Terms with a high mean Pearson Correaltion are prioritized and predicted to be associated with the lncRNA."
   ]
  },
  {
   "cell_type": "code",
   "execution_count": null,
   "metadata": {},
   "outputs": [],
   "source": [
    "# Load Enrichr libraries\n",
    "def loadLibrary(library: str, overwrite: bool = False) -> str:\n",
    "    ssl._create_default_https_context = ssl._create_unverified_context\n",
    "    if not os.path.exists(\"gmts/\"+library +'.gmt' or overwrite):\n",
    "        os.makedirs(\"gmts\", exist_ok=True)\n",
    "        print(\"Download Enrichr geneset library\")\n",
    "        urllib.request.urlretrieve(\"https://maayanlab.cloud/Enrichr/geneSetLibrary?mode=text&libraryName=\"+library, \"gmts/\"+library+\".gmt\")\n",
    "    else:\n",
    "        print(\"File cached. To reload use loadLibrary(\\\"\"+library+\"\\\", overwrite=True) instead.\")\n",
    "    return(\"gmts/\"+library+\".gmt\")"
   ]
  },
  {
   "cell_type": "code",
   "execution_count": null,
   "metadata": {},
   "outputs": [],
   "source": [
    "# Predict functions based on mean pearson correaltion for each term in a library \n",
    "def predict_functions(library, matrix, query):\n",
    "    library_path = loadLibrary(library)\n",
    "    open_gmt = open(library_path,'r')\n",
    "    library_dict = {}\n",
    "    for line in open_gmt.readlines():\n",
    "        line = line.strip().split('\\t')\n",
    "        term = line[0]\n",
    "        gene_set = line[2:]\n",
    "        library_dict[term]=gene_set\n",
    "    open_gmt.close()  \n",
    "\n",
    "    all_terms = []\n",
    "    all_scores = []\n",
    "\n",
    "    for lib_term, gene_set in library_dict.items():\n",
    "        all_terms.append(lib_term)\n",
    "        lib_term_set = list(set(gene_set)&set(matrix.index))\n",
    "        lib_term_set = [x for x in lib_term_set if x!= query]\n",
    "        all_scores.append(np.mean(matrix.loc[lib_term_set]['Pearson Correlation']))\n",
    "\n",
    "    df_results = pd.DataFrame({'Term':all_terms,'Mean Pearson Correlation':all_scores})\n",
    "    df_results = df_results.sort_values(by ='Mean Pearson Correlation',ascending=False)\n",
    "    return(df_results)"
   ]
  },
  {
   "cell_type": "code",
   "execution_count": null,
   "metadata": {},
   "outputs": [],
   "source": [
    "# Plot the top terms for each prediction library\n",
    "def plot_results(library_names, results_dfs, top_results=20):\n",
    "    \n",
    "    fig = make_subplots(rows=1, cols=2, print_grid=False,shared_xaxes=False)\n",
    "    max_scores = []\n",
    "    for i in range(0,2):\n",
    "        results_df = results_dfs[i][0:top_results].sort_values(by='Mean Pearson Correlation')\n",
    "        library_name = library_names[i]\n",
    "        max_scores.append(np.max(results_df['Mean Pearson Correlation']))\n",
    "        bar = go.Bar(x=results_df['Mean Pearson Correlation'],\n",
    "            y=results_df['Term'],\n",
    "            orientation='h',\n",
    "            name=library_name,\n",
    "            showlegend=False,\n",
    "            hovertext=['<b>Term: {Term}</b><br><b>Mean Pearson Correlation</b>: <i>{Mean Pearson Correlation:.3}</i>'.format(**rowData) for index, rowData in results_df[0:top_results].iterrows()],\n",
    "            hoverinfo='text', \n",
    "            marker={'color': 'dodgerblue'})\n",
    "        fig.append_trace(bar, 1, i+1)\n",
    "        \n",
    "        #Get text\n",
    "        text = go.Scatter(\n",
    "            x=[max(bar['x'])/50 for x in range(len(bar['y']))],\n",
    "            y=bar['y'],\n",
    "            mode='text',\n",
    "            hoverinfo='none',\n",
    "            showlegend=False,\n",
    "            text=['<b>{}</b>'.format(rowData['Term']) for index, rowData in results_df[0:top_results].iterrows()],\n",
    "            textposition=\"middle right\",\n",
    "            textfont={'color': 'black','size':8})\n",
    "        fig.append_trace(text, 1, i+1)\n",
    "    \n",
    "    annotations= [{'x': 0.25, 'y': 1.1, 'text': '<span style=\"color: black; font-size: 15pt; font-weight: 600;\">' +library_names[0]+'</span>', 'showarrow': False, 'xref': 'paper', 'yref': 'paper', 'xanchor': 'center'},{'x': 0.75, 'y': 1.1, 'text': '<span style=\"color: black; font-size: 15pt; font-weight: 600;\">' +library_names[1]+'</span>', 'showarrow': False, 'xref': 'paper', 'yref': 'paper', 'xanchor': 'center'}]\n",
    "    fig['layout'].update(height = 500, hovermode='closest', annotations=annotations)\n",
    "    fig.update_layout(title='',height = 500,title_font_size = 25,title_x=0.5)\n",
    "    \n",
    "    fig['layout']['xaxis1'].update(domain=[0, 0.49], title='Mean Pearson Correlation' ,range=(0,max_scores[0]+max_scores[0]*.01))\n",
    "    fig['layout']['xaxis2'].update(domain=[0.51, 1], title='Mean Pearson Correlation',range=(0,max_scores[1]+max_scores[1]*.01))\n",
    "    fig['layout']['yaxis1'].update(showticklabels=False)\n",
    "    fig['layout']['yaxis2'].update(showticklabels=False)\n",
    "    fig['layout']['margin'].update(l=30, t=65, r=30, b=35)\n",
    "    \n",
    "    iplot(fig)"
   ]
  },
  {
   "cell_type": "code",
   "execution_count": null,
   "metadata": {},
   "outputs": [],
   "source": [
    "# Make function predictions\n",
    "prediction_libraries = ['MGI_Mammalian_Phenotype_Level_4_2021','GO_Biological_Process_2021','KEGG_2021_Human','DisGeNET']\n",
    "prediction_libraries = np.array_split(prediction_libraries, int(np.ceil(len(prediction_libraries)/2))) \n",
    "for i_group,group in enumerate(prediction_libraries):\n",
    "    predictions = []\n",
    "    library_names = []\n",
    "    for pred_library in group:\n",
    "        predictions.append(predict_functions(pred_library,lncRNA_coexp,query))\n",
    "        library_names.append(pred_library.replace('_',' '))\n",
    "    plot_results(library_names, predictions)\n",
    "    \n",
    "    # Save Predictions \n",
    "    if not os.path.exists(\"predicted_functions/\"):\n",
    "        os.makedirs(\"predicted_functions/\", exist_ok=True)\n",
    "    for ii,prediction in enumerate(predictions):\n",
    "        prediction.to_csv(\"predicted_functions/\" + library_names[ii]+'_' + query + '.csv')\n",
    "        display(FileLink(\"predicted_functions/\" + library_names[ii]+'_' + query + '.csv', result_html_prefix=str('Download predictions: ')))"
   ]
  },
  {
   "cell_type": "code",
   "execution_count": null,
   "metadata": {},
   "outputs": [],
   "source": [
    "# close h5 file\n",
    "f.close()"
   ]
  },
  {
   "cell_type": "markdown",
   "metadata": {},
   "source": [
    "### References\n",
    "[1] Wilks C, Zheng SC, Chen FY, Charles R, Solomon B, Ling JP, Imada EL, Zhang D, Joseph L, Leek JT: recount3: summaries and queries for large-scale RNA-seq expression and splicing. bioRxiv 2021:2021.2005.2021.445138.\n",
    "\n",
    "[2] Lachmann A, Schilder BM, Wojciechowicz ML, Torre D, Kuleshov MV, Keenan AB, Ma’ayan A: Geneshot: search engine for ranking genes from arbitrary text queries. Nucleic Acids Research 2019, 47(W1):W571-W577."
   ]
  }
 ],
 "metadata": {
  "kernelspec": {
   "display_name": "Python 3.9",
   "language": "python",
   "name": "python3"
  },
  "language_info": {
   "codemirror_mode": {
    "name": "ipython",
    "version": 3
   },
   "file_extension": ".py",
   "mimetype": "text/x-python",
   "name": "python",
   "nbconvert_exporter": "python",
   "pygments_lexer": "ipython3",
   "version": "3.9.0"
  }
 },
 "nbformat": 4,
 "nbformat_minor": 4
}
