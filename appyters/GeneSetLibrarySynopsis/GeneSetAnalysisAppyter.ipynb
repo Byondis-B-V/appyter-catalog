{
 "cells": [
  {
   "cell_type": "code",
   "execution_count": null,
   "metadata": {},
   "outputs": [],
   "source": [
    "\n",
    "from appyter import magic\n",
    "magic.init(lambda _ = globals: _())"
   ]
  },
  {
   "cell_type": "markdown",
   "metadata": {},
   "source": [
    "# GeneSet Library Set Appyter\n",
    "This appyter is designed to perform basic statistics, analysis, and visualizations on a Gene Matrix Transpose (.GMT) file. This will allow bioinformatics researchers to analyze relationships between many different gene sets from several gene set libraries.\n",
    " To create your own GMT file, please see Enrichr. Enrichr, hosted by the Ma'ayan Laboratory at Mt. Sinai Icahn School of Medicine, is a collection of geneset libraries. "
   ]
  },
  {
   "cell_type": "code",
   "execution_count": 2,
   "metadata": {},
   "outputs": [
    {
     "data": {
      "text/html": [
       "<style>\n",
       "        .bk-notebook-logo {\n",
       "            display: block;\n",
       "            width: 20px;\n",
       "            height: 20px;\n",
       "            background-image: url(data:image/png;base64,iVBORw0KGgoAAAANSUhEUgAAABQAAAAUCAYAAACNiR0NAAAABHNCSVQICAgIfAhkiAAAAAlwSFlzAAALEgAACxIB0t1+/AAAABx0RVh0U29mdHdhcmUAQWRvYmUgRmlyZXdvcmtzIENTNui8sowAAAOkSURBVDiNjZRtaJVlGMd/1/08zzln5zjP1LWcU9N0NkN8m2CYjpgQYQXqSs0I84OLIC0hkEKoPtiH3gmKoiJDU7QpLgoLjLIQCpEsNJ1vqUOdO7ppbuec5+V+rj4ctwzd8IIbbi6u+8f1539dt3A78eXC7QizUF7gyV1fD1Yqg4JWz84yffhm0qkFqBogB9rM8tZdtwVsPUhWhGcFJngGeWrPzHm5oaMmkfEg1usvLFyc8jLRqDOMru7AyC8saQr7GG7f5fvDeH7Ej8CM66nIF+8yngt6HWaKh7k49Soy9nXurCi1o3qUbS3zWfrYeQDTB/Qj6kX6Ybhw4B+bOYoLKCC9H3Nu/leUTZ1JdRWkkn2ldcCamzrcf47KKXdAJllSlxAOkRgyHsGC/zRday5Qld9DyoM4/q/rUoy/CXh3jzOu3bHUVZeU+DEn8FInkPBFlu3+nW3Nw0mk6vCDiWg8CeJaxEwuHS3+z5RgY+YBR6V1Z1nxSOfoaPa4LASWxxdNp+VWTk7+4vzaou8v8PN+xo+KY2xsw6une2frhw05CTYOmQvsEhjhWjn0bmXPjpE1+kplmmkP3suftwTubK9Vq22qKmrBhpY4jvd5afdRA3wGjFAgcnTK2s4hY0/GPNIb0nErGMCRxWOOX64Z8RAC4oCXdklmEvcL8o0BfkNK4lUg9HTl+oPlQxdNo3Mg4Nv175e/1LDGzZen30MEjRUtmXSfiTVu1kK8W4txyV6BMKlbgk3lMwYCiusNy9fVfvvwMxv8Ynl6vxoByANLTWplvuj/nF9m2+PDtt1eiHPBr1oIfhCChQMBw6Aw0UulqTKZdfVvfG7VcfIqLG9bcldL/+pdWTLxLUy8Qq38heUIjh4XlzZxzQm19lLFlr8vdQ97rjZVOLf8nclzckbcD4wxXMidpX30sFd37Fv/GtwwhzhxGVAprjbg0gCAEeIgwCZyTV2Z1REEW8O4py0wsjeloKoMr6iCY6dP92H6Vw/oTyICIthibxjm/DfN9lVz8IqtqKYLUXfoKVMVQVVJOElGjrnnUt9T9wbgp8AyYKaGlqingHZU/uG2NTZSVqwHQTWkx9hxjkpWDaCg6Ckj5qebgBVbT3V3NNXMSiWSDdGV3hrtzla7J+duwPOToIg42ChPQOQjspnSlp1V+Gjdged7+8UN5CRAV7a5EdFNwCjEaBR27b3W890TE7g24NAP/mMDXRWrGoFPQI9ls/MWO2dWFAar/xcOIImbbpA3zgAAAABJRU5ErkJggg==);\n",
       "        }\n",
       "    </style>\n",
       "    <div>\n",
       "        <a href=\"https://bokeh.org\" target=\"_blank\" class=\"bk-notebook-logo\"></a>\n",
       "        <span id=\"p1001\">Loading BokehJS ...</span>\n",
       "    </div>\n"
      ]
     },
     "metadata": {},
     "output_type": "display_data"
    },
    {
     "data": {
      "application/javascript": [
       "(function(root) {\n",
       "  function now() {\n",
       "    return new Date();\n",
       "  }\n",
       "\n",
       "  const force = true;\n",
       "\n",
       "  if (typeof root._bokeh_onload_callbacks === \"undefined\" || force === true) {\n",
       "    root._bokeh_onload_callbacks = [];\n",
       "    root._bokeh_is_loading = undefined;\n",
       "  }\n",
       "\n",
       "const JS_MIME_TYPE = 'application/javascript';\n",
       "  const HTML_MIME_TYPE = 'text/html';\n",
       "  const EXEC_MIME_TYPE = 'application/vnd.bokehjs_exec.v0+json';\n",
       "  const CLASS_NAME = 'output_bokeh rendered_html';\n",
       "\n",
       "  /**\n",
       "   * Render data to the DOM node\n",
       "   */\n",
       "  function render(props, node) {\n",
       "    const script = document.createElement(\"script\");\n",
       "    node.appendChild(script);\n",
       "  }\n",
       "\n",
       "  /**\n",
       "   * Handle when an output is cleared or removed\n",
       "   */\n",
       "  function handleClearOutput(event, handle) {\n",
       "    const cell = handle.cell;\n",
       "\n",
       "    const id = cell.output_area._bokeh_element_id;\n",
       "    const server_id = cell.output_area._bokeh_server_id;\n",
       "    // Clean up Bokeh references\n",
       "    if (id != null && id in Bokeh.index) {\n",
       "      Bokeh.index[id].model.document.clear();\n",
       "      delete Bokeh.index[id];\n",
       "    }\n",
       "\n",
       "    if (server_id !== undefined) {\n",
       "      // Clean up Bokeh references\n",
       "      const cmd_clean = \"from bokeh.io.state import curstate; print(curstate().uuid_to_server['\" + server_id + \"'].get_sessions()[0].document.roots[0]._id)\";\n",
       "      cell.notebook.kernel.execute(cmd_clean, {\n",
       "        iopub: {\n",
       "          output: function(msg) {\n",
       "            const id = msg.content.text.trim();\n",
       "            if (id in Bokeh.index) {\n",
       "              Bokeh.index[id].model.document.clear();\n",
       "              delete Bokeh.index[id];\n",
       "            }\n",
       "          }\n",
       "        }\n",
       "      });\n",
       "      // Destroy server and session\n",
       "      const cmd_destroy = \"import bokeh.io.notebook as ion; ion.destroy_server('\" + server_id + \"')\";\n",
       "      cell.notebook.kernel.execute(cmd_destroy);\n",
       "    }\n",
       "  }\n",
       "\n",
       "  /**\n",
       "   * Handle when a new output is added\n",
       "   */\n",
       "  function handleAddOutput(event, handle) {\n",
       "    const output_area = handle.output_area;\n",
       "    const output = handle.output;\n",
       "\n",
       "    // limit handleAddOutput to display_data with EXEC_MIME_TYPE content only\n",
       "    if ((output.output_type != \"display_data\") || (!Object.prototype.hasOwnProperty.call(output.data, EXEC_MIME_TYPE))) {\n",
       "      return\n",
       "    }\n",
       "\n",
       "    const toinsert = output_area.element.find(\".\" + CLASS_NAME.split(' ')[0]);\n",
       "\n",
       "    if (output.metadata[EXEC_MIME_TYPE][\"id\"] !== undefined) {\n",
       "      toinsert[toinsert.length - 1].firstChild.textContent = output.data[JS_MIME_TYPE];\n",
       "      // store reference to embed id on output_area\n",
       "      output_area._bokeh_element_id = output.metadata[EXEC_MIME_TYPE][\"id\"];\n",
       "    }\n",
       "    if (output.metadata[EXEC_MIME_TYPE][\"server_id\"] !== undefined) {\n",
       "      const bk_div = document.createElement(\"div\");\n",
       "      bk_div.innerHTML = output.data[HTML_MIME_TYPE];\n",
       "      const script_attrs = bk_div.children[0].attributes;\n",
       "      for (let i = 0; i < script_attrs.length; i++) {\n",
       "        toinsert[toinsert.length - 1].firstChild.setAttribute(script_attrs[i].name, script_attrs[i].value);\n",
       "        toinsert[toinsert.length - 1].firstChild.textContent = bk_div.children[0].textContent\n",
       "      }\n",
       "      // store reference to server id on output_area\n",
       "      output_area._bokeh_server_id = output.metadata[EXEC_MIME_TYPE][\"server_id\"];\n",
       "    }\n",
       "  }\n",
       "\n",
       "  function register_renderer(events, OutputArea) {\n",
       "\n",
       "    function append_mime(data, metadata, element) {\n",
       "      // create a DOM node to render to\n",
       "      const toinsert = this.create_output_subarea(\n",
       "        metadata,\n",
       "        CLASS_NAME,\n",
       "        EXEC_MIME_TYPE\n",
       "      );\n",
       "      this.keyboard_manager.register_events(toinsert);\n",
       "      // Render to node\n",
       "      const props = {data: data, metadata: metadata[EXEC_MIME_TYPE]};\n",
       "      render(props, toinsert[toinsert.length - 1]);\n",
       "      element.append(toinsert);\n",
       "      return toinsert\n",
       "    }\n",
       "\n",
       "    /* Handle when an output is cleared or removed */\n",
       "    events.on('clear_output.CodeCell', handleClearOutput);\n",
       "    events.on('delete.Cell', handleClearOutput);\n",
       "\n",
       "    /* Handle when a new output is added */\n",
       "    events.on('output_added.OutputArea', handleAddOutput);\n",
       "\n",
       "    /**\n",
       "     * Register the mime type and append_mime function with output_area\n",
       "     */\n",
       "    OutputArea.prototype.register_mime_type(EXEC_MIME_TYPE, append_mime, {\n",
       "      /* Is output safe? */\n",
       "      safe: true,\n",
       "      /* Index of renderer in `output_area.display_order` */\n",
       "      index: 0\n",
       "    });\n",
       "  }\n",
       "\n",
       "  // register the mime type if in Jupyter Notebook environment and previously unregistered\n",
       "  if (root.Jupyter !== undefined) {\n",
       "    const events = require('base/js/events');\n",
       "    const OutputArea = require('notebook/js/outputarea').OutputArea;\n",
       "\n",
       "    if (OutputArea.prototype.mime_types().indexOf(EXEC_MIME_TYPE) == -1) {\n",
       "      register_renderer(events, OutputArea);\n",
       "    }\n",
       "  }\n",
       "  if (typeof (root._bokeh_timeout) === \"undefined\" || force === true) {\n",
       "    root._bokeh_timeout = Date.now() + 5000;\n",
       "    root._bokeh_failed_load = false;\n",
       "  }\n",
       "\n",
       "  const NB_LOAD_WARNING = {'data': {'text/html':\n",
       "     \"<div style='background-color: #fdd'>\\n\"+\n",
       "     \"<p>\\n\"+\n",
       "     \"BokehJS does not appear to have successfully loaded. If loading BokehJS from CDN, this \\n\"+\n",
       "     \"may be due to a slow or bad network connection. Possible fixes:\\n\"+\n",
       "     \"</p>\\n\"+\n",
       "     \"<ul>\\n\"+\n",
       "     \"<li>re-rerun `output_notebook()` to attempt to load from CDN again, or</li>\\n\"+\n",
       "     \"<li>use INLINE resources instead, as so:</li>\\n\"+\n",
       "     \"</ul>\\n\"+\n",
       "     \"<code>\\n\"+\n",
       "     \"from bokeh.resources import INLINE\\n\"+\n",
       "     \"output_notebook(resources=INLINE)\\n\"+\n",
       "     \"</code>\\n\"+\n",
       "     \"</div>\"}};\n",
       "\n",
       "  function display_loaded() {\n",
       "    const el = document.getElementById(\"p1001\");\n",
       "    if (el != null) {\n",
       "      el.textContent = \"BokehJS is loading...\";\n",
       "    }\n",
       "    if (root.Bokeh !== undefined) {\n",
       "      if (el != null) {\n",
       "        el.textContent = \"BokehJS \" + root.Bokeh.version + \" successfully loaded.\";\n",
       "      }\n",
       "    } else if (Date.now() < root._bokeh_timeout) {\n",
       "      setTimeout(display_loaded, 100)\n",
       "    }\n",
       "  }\n",
       "\n",
       "  function run_callbacks() {\n",
       "    try {\n",
       "      root._bokeh_onload_callbacks.forEach(function(callback) {\n",
       "        if (callback != null)\n",
       "          callback();\n",
       "      });\n",
       "    } finally {\n",
       "      delete root._bokeh_onload_callbacks\n",
       "    }\n",
       "    console.debug(\"Bokeh: all callbacks have finished\");\n",
       "  }\n",
       "\n",
       "  function load_libs(css_urls, js_urls, callback) {\n",
       "    if (css_urls == null) css_urls = [];\n",
       "    if (js_urls == null) js_urls = [];\n",
       "\n",
       "    root._bokeh_onload_callbacks.push(callback);\n",
       "    if (root._bokeh_is_loading > 0) {\n",
       "      console.debug(\"Bokeh: BokehJS is being loaded, scheduling callback at\", now());\n",
       "      return null;\n",
       "    }\n",
       "    if (js_urls == null || js_urls.length === 0) {\n",
       "      run_callbacks();\n",
       "      return null;\n",
       "    }\n",
       "    console.debug(\"Bokeh: BokehJS not loaded, scheduling load and callback at\", now());\n",
       "    root._bokeh_is_loading = css_urls.length + js_urls.length;\n",
       "\n",
       "    function on_load() {\n",
       "      root._bokeh_is_loading--;\n",
       "      if (root._bokeh_is_loading === 0) {\n",
       "        console.debug(\"Bokeh: all BokehJS libraries/stylesheets loaded\");\n",
       "        run_callbacks()\n",
       "      }\n",
       "    }\n",
       "\n",
       "    function on_error(url) {\n",
       "      console.error(\"failed to load \" + url);\n",
       "    }\n",
       "\n",
       "    for (let i = 0; i < css_urls.length; i++) {\n",
       "      const url = css_urls[i];\n",
       "      const element = document.createElement(\"link\");\n",
       "      element.onload = on_load;\n",
       "      element.onerror = on_error.bind(null, url);\n",
       "      element.rel = \"stylesheet\";\n",
       "      element.type = \"text/css\";\n",
       "      element.href = url;\n",
       "      console.debug(\"Bokeh: injecting link tag for BokehJS stylesheet: \", url);\n",
       "      document.body.appendChild(element);\n",
       "    }\n",
       "\n",
       "    for (let i = 0; i < js_urls.length; i++) {\n",
       "      const url = js_urls[i];\n",
       "      const element = document.createElement('script');\n",
       "      element.onload = on_load;\n",
       "      element.onerror = on_error.bind(null, url);\n",
       "      element.async = false;\n",
       "      element.src = url;\n",
       "      console.debug(\"Bokeh: injecting script tag for BokehJS library: \", url);\n",
       "      document.head.appendChild(element);\n",
       "    }\n",
       "  };\n",
       "\n",
       "  function inject_raw_css(css) {\n",
       "    const element = document.createElement(\"style\");\n",
       "    element.appendChild(document.createTextNode(css));\n",
       "    document.body.appendChild(element);\n",
       "  }\n",
       "\n",
       "  const js_urls = [\"https://cdn.bokeh.org/bokeh/release/bokeh-3.1.0.min.js\", \"https://cdn.bokeh.org/bokeh/release/bokeh-gl-3.1.0.min.js\", \"https://cdn.bokeh.org/bokeh/release/bokeh-widgets-3.1.0.min.js\", \"https://cdn.bokeh.org/bokeh/release/bokeh-tables-3.1.0.min.js\", \"https://cdn.bokeh.org/bokeh/release/bokeh-mathjax-3.1.0.min.js\"];\n",
       "  const css_urls = [];\n",
       "\n",
       "  const inline_js = [    function(Bokeh) {\n",
       "      Bokeh.set_log_level(\"info\");\n",
       "    },\n",
       "function(Bokeh) {\n",
       "    }\n",
       "  ];\n",
       "\n",
       "  function run_inline_js() {\n",
       "    if (root.Bokeh !== undefined || force === true) {\n",
       "          for (let i = 0; i < inline_js.length; i++) {\n",
       "      inline_js[i].call(root, root.Bokeh);\n",
       "    }\n",
       "if (force === true) {\n",
       "        display_loaded();\n",
       "      }} else if (Date.now() < root._bokeh_timeout) {\n",
       "      setTimeout(run_inline_js, 100);\n",
       "    } else if (!root._bokeh_failed_load) {\n",
       "      console.log(\"Bokeh: BokehJS failed to load within specified timeout.\");\n",
       "      root._bokeh_failed_load = true;\n",
       "    } else if (force !== true) {\n",
       "      const cell = $(document.getElementById(\"p1001\")).parents('.cell').data().cell;\n",
       "      cell.output_area.append_execute_result(NB_LOAD_WARNING)\n",
       "    }\n",
       "  }\n",
       "\n",
       "  if (root._bokeh_is_loading === 0) {\n",
       "    console.debug(\"Bokeh: BokehJS loaded, going straight to plotting\");\n",
       "    run_inline_js();\n",
       "  } else {\n",
       "    load_libs(css_urls, js_urls, function() {\n",
       "      console.debug(\"Bokeh: BokehJS plotting callback run at\", now());\n",
       "      run_inline_js();\n",
       "    });\n",
       "  }\n",
       "}(window));"
      ],
      "application/vnd.bokehjs_load.v0+json": "(function(root) {\n  function now() {\n    return new Date();\n  }\n\n  const force = true;\n\n  if (typeof root._bokeh_onload_callbacks === \"undefined\" || force === true) {\n    root._bokeh_onload_callbacks = [];\n    root._bokeh_is_loading = undefined;\n  }\n\n\n  if (typeof (root._bokeh_timeout) === \"undefined\" || force === true) {\n    root._bokeh_timeout = Date.now() + 5000;\n    root._bokeh_failed_load = false;\n  }\n\n  const NB_LOAD_WARNING = {'data': {'text/html':\n     \"<div style='background-color: #fdd'>\\n\"+\n     \"<p>\\n\"+\n     \"BokehJS does not appear to have successfully loaded. If loading BokehJS from CDN, this \\n\"+\n     \"may be due to a slow or bad network connection. Possible fixes:\\n\"+\n     \"</p>\\n\"+\n     \"<ul>\\n\"+\n     \"<li>re-rerun `output_notebook()` to attempt to load from CDN again, or</li>\\n\"+\n     \"<li>use INLINE resources instead, as so:</li>\\n\"+\n     \"</ul>\\n\"+\n     \"<code>\\n\"+\n     \"from bokeh.resources import INLINE\\n\"+\n     \"output_notebook(resources=INLINE)\\n\"+\n     \"</code>\\n\"+\n     \"</div>\"}};\n\n  function display_loaded() {\n    const el = document.getElementById(\"p1001\");\n    if (el != null) {\n      el.textContent = \"BokehJS is loading...\";\n    }\n    if (root.Bokeh !== undefined) {\n      if (el != null) {\n        el.textContent = \"BokehJS \" + root.Bokeh.version + \" successfully loaded.\";\n      }\n    } else if (Date.now() < root._bokeh_timeout) {\n      setTimeout(display_loaded, 100)\n    }\n  }\n\n  function run_callbacks() {\n    try {\n      root._bokeh_onload_callbacks.forEach(function(callback) {\n        if (callback != null)\n          callback();\n      });\n    } finally {\n      delete root._bokeh_onload_callbacks\n    }\n    console.debug(\"Bokeh: all callbacks have finished\");\n  }\n\n  function load_libs(css_urls, js_urls, callback) {\n    if (css_urls == null) css_urls = [];\n    if (js_urls == null) js_urls = [];\n\n    root._bokeh_onload_callbacks.push(callback);\n    if (root._bokeh_is_loading > 0) {\n      console.debug(\"Bokeh: BokehJS is being loaded, scheduling callback at\", now());\n      return null;\n    }\n    if (js_urls == null || js_urls.length === 0) {\n      run_callbacks();\n      return null;\n    }\n    console.debug(\"Bokeh: BokehJS not loaded, scheduling load and callback at\", now());\n    root._bokeh_is_loading = css_urls.length + js_urls.length;\n\n    function on_load() {\n      root._bokeh_is_loading--;\n      if (root._bokeh_is_loading === 0) {\n        console.debug(\"Bokeh: all BokehJS libraries/stylesheets loaded\");\n        run_callbacks()\n      }\n    }\n\n    function on_error(url) {\n      console.error(\"failed to load \" + url);\n    }\n\n    for (let i = 0; i < css_urls.length; i++) {\n      const url = css_urls[i];\n      const element = document.createElement(\"link\");\n      element.onload = on_load;\n      element.onerror = on_error.bind(null, url);\n      element.rel = \"stylesheet\";\n      element.type = \"text/css\";\n      element.href = url;\n      console.debug(\"Bokeh: injecting link tag for BokehJS stylesheet: \", url);\n      document.body.appendChild(element);\n    }\n\n    for (let i = 0; i < js_urls.length; i++) {\n      const url = js_urls[i];\n      const element = document.createElement('script');\n      element.onload = on_load;\n      element.onerror = on_error.bind(null, url);\n      element.async = false;\n      element.src = url;\n      console.debug(\"Bokeh: injecting script tag for BokehJS library: \", url);\n      document.head.appendChild(element);\n    }\n  };\n\n  function inject_raw_css(css) {\n    const element = document.createElement(\"style\");\n    element.appendChild(document.createTextNode(css));\n    document.body.appendChild(element);\n  }\n\n  const js_urls = [\"https://cdn.bokeh.org/bokeh/release/bokeh-3.1.0.min.js\", \"https://cdn.bokeh.org/bokeh/release/bokeh-gl-3.1.0.min.js\", \"https://cdn.bokeh.org/bokeh/release/bokeh-widgets-3.1.0.min.js\", \"https://cdn.bokeh.org/bokeh/release/bokeh-tables-3.1.0.min.js\", \"https://cdn.bokeh.org/bokeh/release/bokeh-mathjax-3.1.0.min.js\"];\n  const css_urls = [];\n\n  const inline_js = [    function(Bokeh) {\n      Bokeh.set_log_level(\"info\");\n    },\nfunction(Bokeh) {\n    }\n  ];\n\n  function run_inline_js() {\n    if (root.Bokeh !== undefined || force === true) {\n          for (let i = 0; i < inline_js.length; i++) {\n      inline_js[i].call(root, root.Bokeh);\n    }\nif (force === true) {\n        display_loaded();\n      }} else if (Date.now() < root._bokeh_timeout) {\n      setTimeout(run_inline_js, 100);\n    } else if (!root._bokeh_failed_load) {\n      console.log(\"Bokeh: BokehJS failed to load within specified timeout.\");\n      root._bokeh_failed_load = true;\n    } else if (force !== true) {\n      const cell = $(document.getElementById(\"p1001\")).parents('.cell').data().cell;\n      cell.output_area.append_execute_result(NB_LOAD_WARNING)\n    }\n  }\n\n  if (root._bokeh_is_loading === 0) {\n    console.debug(\"Bokeh: BokehJS loaded, going straight to plotting\");\n    run_inline_js();\n  } else {\n    load_libs(css_urls, js_urls, function() {\n      console.debug(\"Bokeh: BokehJS plotting callback run at\", now());\n      run_inline_js();\n    });\n  }\n}(window));"
     },
     "metadata": {},
     "output_type": "display_data"
    }
   ],
   "source": [
    "import numpy as np \n",
    "import pandas as pd\n",
    "import itertools \n",
    "import bokeh\n",
    "import time\n",
    "import random\n",
    "import networkx as nx\n",
    "import pathlib\n",
    "import scanpy as sc\n",
    "from IPython.display import display, FileLink, HTML, Markdown, IFrame\n",
    "import anndata\n",
    "from statsmodels.stats import multitest as mlt\n",
    "from sklearn.feature_extraction.text import TfidfVectorizer\n",
    "from maayanlab_bioinformatics.enrichment import crisp\n",
    "from collections import OrderedDict\n",
    "from bokeh.palettes import Category20\n",
    "import statistics as stat\n",
    "from bokeh.io import output_notebook\n",
    "from bokeh.models import HoverTool, ColumnDataSource, RangeSlider, MultiLine, Range1d, Circle\n",
    "from bokeh.plotting import figure, show, save, output_file\n",
    "import plotly.graph_objs as go\n",
    "from plotly.offline import iplot\n",
    "from plotly.subplots import make_subplots\n",
    "import os\n",
    "from pyvis.network import Network\n",
    "output_notebook()"
   ]
  },
  {
   "cell_type": "code",
   "execution_count": null,
   "metadata": {},
   "outputs": [],
   "source": []
  },
  {
   "cell_type": "code",
   "execution_count": 3,
   "metadata": {},
   "outputs": [],
   "source": [
    "%%appyter hide_code\n",
    "\n",
    "\n",
    "{% do SectionField(name='GMTSubmission', title='1. Submit a GMT file', subtitle = 'Sumbit a GMT (Gene Matrix Transpose file) for analysis.', img = 'bulb.png') %}\n",
    "{% do SectionField(name = 'Pairwise Similarity Table', title = '2. Pairwise Intersection Table', subtitle = 'In this table, the value in row A, column B, is the size of the intersection of A and B. If you would like to get a list of genes from a specific intersection of two library terms, please see the Intersection Search Section.', img = 'bulb.png') %}\n",
    "{% do SectionField(name = 'Similarity Tables', title = '3. Similarity Tables', subtitle = '##TODO', img = 'bulb.png') %}\n",
    "{% do SectionField(name = 'Intersection Search', title = '4. Gene Intersection Search', subtitle = '###TODO', img = 'bulb.png')%}\n",
    "{% do SectionField (name = 'UMAP_visualization', title = '5. Scatterplot Visualization', subtitle= 'Visualize relative Geneset similarities on an interactive scatterplot', img = 'bulb.png') %}\n",
    "{% do SectionField(name = 'GMT Descriptive Statistics', title = '6. Descriptive Statistics', subtitle = '#TODO', img = 'bulb.png') %}\n",
    "\n"
   ]
  },
  {
   "cell_type": "markdown",
   "metadata": {},
   "source": [
    "## 0. Submitted Variables"
   ]
  },
  {
   "cell_type": "code",
   "execution_count": 4,
   "metadata": {},
   "outputs": [
    {
     "data": {
      "text/markdown": [
       "```python\n",
       "file = 'static/gene sets for NFATC2.gmt'\n",
       "int_tbl = True\n",
       "jaccard_tbl = True\n",
       "otoc_tbl = True\n",
       "umap = True\n",
       "umap_num_neighbors = 5\n",
       "umap_maxdf = 0.5\n",
       "umap_mindf = 0.25\n",
       "```"
      ],
      "text/plain": [
       "<IPython.core.display.Markdown object>"
      ]
     },
     "metadata": {},
     "output_type": "display_data"
    }
   ],
   "source": [
    "%%appyter code_exec\n",
    "\n",
    "{% set gs =\n",
    "            FileField(\n",
    "                name='gs',\n",
    "                label='Gene Set Files',\n",
    "                default= 'static/gene sets for NFATC2.gmt',\n",
    "                example={\n",
    "                    'example.gmt': url_for('static', filename = 'gene sets for NFATC2.gmt')\n",
    "                },\n",
    "    \n",
    "section = 'GMTSubmission',) %}\n",
    "\n",
    "{% set file = gs %}\n",
    "file = {{ file }}\n",
    "\n",
    "\n",
    "\n",
    "int_tbl = {{BoolField(name = 'SimilarityTbl', label = 'Intersection Size Table', default = 'true', description = 'In this table, the value in row A, column B, is the size of the intersection of A and B. If you would like to get a list of genes from a specific intersection of two library terms, please see the Intersection Search Section. Select \\'Yes\\' if you would like to generate a Intersection Size Table. Otherwise, select \\'No\\'', section = 'Pairwise Similarity Table') }}\n",
    "jaccard_tbl = {{BoolField(name = 'JaccardTbl', label = 'Jaccard Similarity Table', default = 'true', description = '##TODO', section = 'Similarity Tables') }}\n",
    "otoc_tbl = {{BoolField(name = 'OtocTbl', label = 'Otsuka-Ochiai Similarity Table', default = 'true', description = '##TODO', section = 'Similarity Tables') }}\n",
    "\n",
    "\n",
    "umap = {{ BoolField(name = 'umap', label = 'ScatterPlot Visualization', default = 'true', description = 'Select \\'Yes\\' if you would like to generate a Scatter Plot. Otherwise, select \\'No\\'', section = 'UMAP_visualization')}}\n",
    "\n",
    "umap_num_neighbors = {{ IntField(name = 'nneighbors', label = 'Number of Neighbors', default = 5, min = 1, max = 30, description = '##TODO: Play around with parameter settings', section = 'UMAP_visualization')}}\n",
    "umap_maxdf = {{ ChoiceField(name = 'max_df', label = 'Max df setting', choices = {'0.5': '0.5', '0.75': '.75', '0.9': '.9', '1.0': '1'}, default = '0.5',  description = '##TODO: Play around with parameter settings', section = 'UMAP_visualization')}}\n",
    "umap_mindf = {{ ChoiceField(name = 'min_df', label = 'Min df setting', choices = {'0.1' : '0.1', '0.25' : '0.25', '0.5': '0.5' }, default = '0.25', description = '##TODO: Play around with parameter settings', section = 'UMAP_visualization')}}\n"
   ]
  },
  {
   "cell_type": "code",
   "execution_count": null,
   "metadata": {},
   "outputs": [],
   "source": [
    "print(file)\n",
    "if file == '' :\n",
    "    raise Exception('Please upload a GMT File!')\n",
    "if file.split('.')[1] != 'gmt':\n",
    "    raise Exception('Invalid File, Please upload a GMT File')"
   ]
  },
  {
   "cell_type": "markdown",
   "metadata": {},
   "source": [
    "## 1. Process the GMT FILE"
   ]
  },
  {
   "cell_type": "code",
   "execution_count": 5,
   "metadata": {},
   "outputs": [
    {
     "data": {
      "text/markdown": [
       "```python\n",
       "def series_to_list(gene_list):\n",
       "    ##helper function to convert a gene pd.series to a gene list\n",
       "    ret_list = []\n",
       "    for genes in gene_list:\n",
       "        if type(genes) is str:\n",
       "            ret_list.append(genes)\n",
       "        else: ##pd series case\n",
       "            genes = genes.tolist()\n",
       "            ret_list.append(' '.join(genes))\n",
       "    return ret_list\n",
       "def load_set(file):\n",
       "    ''' Load a set of files into pairs of labeled sets\n",
       "    '''\n",
       "    lst= []\n",
       "    path = pathlib.Path(file)\n",
       "    with open(path) as f:\n",
       "        lines = f.readlines()\n",
       "        for line in lines:\n",
       "            parsed_line = line.split('\\t')\n",
       "            term, library, genes = parsed_line[0], parsed_line[1], parsed_line[2:]\n",
       "            if genes[-1][:-2] == '\\n':\n",
       "                genes[-1] = genes[-1][:-2] ##trim off newline regex '\\n'\n",
       "            lst.append((term,  library, ' '.join(genes)))\n",
       "    zip_lst = [list(i) for i in zip(*lst)]\n",
       "    term, library, genes = zip_lst[0], zip_lst[1], zip_lst[2]\n",
       "    genes = series_to_list(genes)\n",
       "    df = pd.DataFrame({'Genes': genes, 'Library': library}, index = term)\n",
       "    df = df[~df.index.duplicated(keep = 'first')]\n",
       "#     if (df.shape[0] < 5):\n",
       "#         raise Exception('Dataframe is too small ')\n",
       "    return df\n",
       "```"
      ],
      "text/plain": [
       "<IPython.core.display.Markdown object>"
      ]
     },
     "metadata": {},
     "output_type": "display_data"
    }
   ],
   "source": [
    "%%appyter code_exec\n",
    "\n",
    "def series_to_list(gene_list):\n",
    "    ##helper function to convert a gene pd.series to a gene list\n",
    "    ret_list = []\n",
    "    for genes in gene_list:\n",
    "        if type(genes) is str:\n",
    "            ret_list.append(genes)\n",
    "        else: ##pd series case\n",
    "            genes = genes.tolist()        \n",
    "            ret_list.append(' '.join(genes))\n",
    "    return ret_list\n",
    "\n",
    "def load_set(file):\n",
    "    ''' Load a set of files into pairs of labeled sets\n",
    "    '''\n",
    "    lst= []\n",
    "    path = pathlib.Path(file)\n",
    "    with open(path) as f:\n",
    "        lines = f.readlines()\n",
    "        for line in lines:\n",
    "            parsed_line = line.split('\\t')\n",
    "            term, library, genes = parsed_line[0], parsed_line[1], parsed_line[2:]\n",
    "            if genes[-1][:-2] == '\\n':\n",
    "                genes[-1] = genes[-1][:-2] ##trim off newline regex '\\n'\n",
    "            lst.append((term,  library, ' '.join(genes)))\n",
    "    zip_lst = [list(i) for i in zip(*lst)]\n",
    "    term, library, genes = zip_lst[0], zip_lst[1], zip_lst[2]\n",
    "    genes = series_to_list(genes)\n",
    "\n",
    "    df = pd.DataFrame({'Genes': genes, 'Library': library}, index = term)\n",
    "    df = df[~df.index.duplicated(keep = 'first')]\n",
    "#     if (df.shape[0] < 5):\n",
    "#         raise Exception('Dataframe is too small ')\n",
    "    return df              "
   ]
  },
  {
   "cell_type": "code",
   "execution_count": 6,
   "metadata": {},
   "outputs": [],
   "source": [
    "\n",
    "df = load_set(file)\n",
    "if df.shape[0] < umap_num_neighbors:\n",
    "    umap_num_neighbors = int(np.ceil(df.shape[0]/2)) ##arbitrary right now. May want to change based on parameter settings\n",
    "    print('Number of Neighbors parameter in scatterplot is too large for the submitted dataset. Resetting number of neighbors to '+ str(umap_num_neighbors)+'')\n",
    "\n"
   ]
  },
  {
   "cell_type": "code",
   "execution_count": 7,
   "metadata": {},
   "outputs": [],
   "source": [
    "def calculate_FET(set1, set2, background = 20000):\n",
    "    ##inputs: set1, set2 - python sets\n",
    "    ##output: p-value of the fisher exact test\n",
    "    res = crisp.fisher_overlap(set1, set2, n_background_entities= background, preserve_overlap=True)\n",
    "    if res == None:\n",
    "        return 0\n",
    "    else:\n",
    "        return res.pvalue"
   ]
  },
  {
   "cell_type": "code",
   "execution_count": 8,
   "metadata": {},
   "outputs": [],
   "source": [
    "def calculate_OTOC(set1, set2):\n",
    "### calculates the Otsuka-Ochiai coefficient, returns 0 if the empty set is passed\n",
    "    try:\n",
    "        set1_size = len(set1)\n",
    "        set2_size = len(set2)\n",
    "        K = len(set1 & set2)/np.sqrt(set1_size*set2_size)\n",
    "        return K\n",
    "    except: \n",
    "        return 0 ##empty set!\n",
    "    "
   ]
  },
  {
   "cell_type": "code",
   "execution_count": null,
   "metadata": {},
   "outputs": [],
   "source": []
  },
  {
   "cell_type": "code",
   "execution_count": 9,
   "metadata": {},
   "outputs": [],
   "source": [
    "def get_itertuple(str1, str2):\n",
    "    ##given two strings (which should be terms in the given gmt), get the tuple back that will index into the pair_df\n",
    "    ##itertools.combos gives tuples that are alphabetically ordered for strings.\n",
    "    return (str1, str2) if str1 < str2 else (str2, str1) \n",
    "\n",
    "def clean_name(dir_name):\n",
    "    dir_name = dir_name.replace(' ', '_')\n",
    "    dir_name = dir_name.replace('/', '_')\n",
    "    dir_name = dir_name.replace(':', '_')\n",
    "    dir_name = dir_name.replace('(', '_')\n",
    "    dir_name = dir_name.replace(')', '_')\n",
    "    dir_name = dir_name.replace('<', '_')\n",
    "    dir_name = dir_name.replace('>', '_')\n",
    "    dir_name = dir_name.strip()\n",
    "    if len(dir_name) >  60:\n",
    "        dir_name = dir_name[0:30] + '...' + dir_name[-30:]\n",
    "    return dir_name\n",
    "\n",
    "\n",
    "def make_dirs(str1):\n",
    "    if not os.path.exists(f'Intersection_Sets/{str1}'):\n",
    "        os.mkdir(f\"Intersection_Sets/{str1}\")\n",
    "    return\n",
    "        \n",
    "def save_set(str1, str2, intersection_set):\n",
    "    term1, term2 = clean_name(str1), clean_name(str2)\n",
    "    term1, term2 = get_itertuple(term1, term2)\n",
    "    make_dirs(term1)\n",
    "    ##str1, str2 are terms to save set in system by. geneset is set of the intersection set to save\n",
    "    series = pd.Series(list(intersection_set))\n",
    "    full_name = os.path.join(r'Intersection_Sets', term1, term2) \n",
    "    try:\n",
    "        series.to_csv(full_name+'.csv')\n",
    "    except: \n",
    "        pass\n",
    "    return\n",
    "    \n",
    "    \n",
    "        \n",
    "    \n",
    "    \n",
    "    ##given two strings (representing the terms in the given gmt), create a directory to store intersection lists in\n",
    "    "
   ]
  },
  {
   "cell_type": "code",
   "execution_count": 13,
   "metadata": {},
   "outputs": [],
   "source": [
    "def BH_test(pair_df, alpha = .05):\n",
    "    #benjamini hochberg test\n",
    "    #input: pair_df: pairwise dataframe as described above\n",
    "    #input: alpha: a priori significance level \n",
    "    #output: an extended pair_df dataframe with two new columns, 'BH_sig'- a boolean column where True implies significant overlap and 'BH_corrected_pval' \n",
    "    ##- a  pvalue adjust for multiple hypothesis testing\n",
    "    pvals = pair_df['FET_pval'].tolist()\n",
    "    sig, corrected_pval = mlt.fdrcorrection(pvals, alpha, method = 'indep')\n",
    "    print(type(sig))\n",
    "    pair_df['BH_sig'] = sig\n",
    "    pair_df['BH_corrected_pval'] = corrected_pval\n",
    "    pair_df['-log10_BH_pval'] = -np.log10(corrected_pval)\n",
    "    pair_df['-log10_BH_pval']= pair_df['-log10_BH_pval'].replace(np.inf, pair_df.loc[pair_df['-log10_BH_pval'] != np.inf, '-log10_BH_pval'].max())\n",
    "    return pair_df\n",
    "    "
   ]
  },
  {
   "cell_type": "code",
   "execution_count": 14,
   "metadata": {},
   "outputs": [],
   "source": [
    "def series_to_str(el):\n",
    "    if type(el) == str:\n",
    "        return el\n",
    "    else:\n",
    "        return ' '.join(el.tolist())\n",
    "\n",
    "def generate_pairs_df(df, background = 20000):\n",
    "    ##inputs: df - pandas dataframe that is the result of GMT_to_df transformation\n",
    "    ##output: pair_df - pandas dataframe whose rows are indexed by a tuple/ pair of terms in the set of Gene set \n",
    "    # #terms and columns represent calculated set properties between the two sets\n",
    "\n",
    "    \n",
    "    os.makedirs(\"Intersection_Sets\", exist_ok = True)\n",
    "    intersection = []\n",
    "    in_A_not_B = []\n",
    "    in_B_not_A = []\n",
    "    union = []\n",
    "    jaccard = []\n",
    "    FET_pval = []\n",
    "\n",
    "    to_set = lambda el: set(series_to_str(el).split(' '))\n",
    "    space_counter = lambda str1: str1.count(\" \") +1\n",
    "    terms = list(df.index.values)\n",
    "    int_df = pd.DataFrame(index = terms, columns = terms)\n",
    "    jac_df = pd.DataFrame(index = terms, columns = terms)\n",
    "    otoc_df = pd.DataFrame(index = terms, columns = terms)\n",
    "    pairwise_perms = list(itertools.combinations(terms,2))\n",
    "    for term1,term2 in pairwise_perms:\n",
    "        setA, setB = df.loc[term1]['Genes'], df.loc[term2]['Genes']\n",
    "        set1, set2 = to_set(setA), to_set(setB)\n",
    "        intersect = set1 & set2\n",
    "        save_set(term1, term2, intersect)\n",
    "\n",
    "\n",
    "        union_set = set1 | set2\n",
    "        intersection.append(' '.join(list(intersect)))\n",
    "        in_A_not_B.append(' '.join(list(set1 -set2)))\n",
    "        in_B_not_A.append(' '.join(list(set2 - set1)))\n",
    "        union.append(' '.join(list(union_set)))\n",
    "        pval = calculate_FET(set1, set2)\n",
    "        FET_pval.append(pval)\n",
    "\n",
    "        int_size = len(intersect)\n",
    "        uni_size = len(union_set)\n",
    "        jaccard = \"{:.2f}\".format(int_size/uni_size)\n",
    "        \n",
    "        term1_c, term2_c = get_itertuple(clean_name(term1), clean_name(term2)) ##clean and reorder the terms to the appropriate directory mapping\n",
    "        \n",
    "        jac_df.loc[term1, term2] = jaccard\n",
    "        jac_df.loc[term2, term1] = jaccard\n",
    "        \n",
    "        otoc = calculate_OTOC(set1, set2)\n",
    "        otoc_df.loc[term1, term2] = otoc\n",
    "        otoc_df.loc[term2, term1] = otoc\n",
    "        \n",
    "        \n",
    "        \n",
    "        if int_size != 0:\n",
    "            int_df.loc[term1, term2] = f'<div class = \"df-wrap\" style = \"border: 1px solid; font-weight:bold; background-color: Floralwhite; 2px; height: 1.5em; width: 21px; border-radius: 4px; color: black; float: right; text-align: center\"><a style = \"text-decoration: none; color: black;\" href = \"/edit/Intersection_Sets/{term1_c}/{term2_c}.csv\">{int_size}</a></div>'\n",
    "            int_df.loc[term2,term1] =  f'<div class = \"df-wrap\" style = \"border: 1px solid; font-weight:bold; background-color: Floralwhite;  height: 1.5em; width: 21px; border-radius: 4px; color: black; float: right; text-align: center\"><a style = \"text-decoration: none; color: black;\" href = \"/edit/Intersection_Sets/{term1_c}/{term2_c}.csv\">{int_size}</a></div>'\n",
    "        else:\n",
    "            int_df.loc[term1,term2] = 0\n",
    "            int_df.loc[term2,term1] = 0\n",
    "\n",
    "\n",
    "\n",
    "    pair_df = pd.DataFrame({'Intersection' : intersection, 'A-B' : in_A_not_B, 'B-A' : in_B_not_A, 'Union': union, 'FET_pval': FET_pval}, index = pairwise_perms)\n",
    "    pair_df['intersect_size'] = pair_df['Intersection'].map(space_counter)\n",
    "    pair_df['union_size'] = pair_df['Union'].map(space_counter)\n",
    "    pair_df['Jaccard'] = pair_df['intersect_size'] / pair_df['union_size']\n",
    "    \n",
    "    np.fill_diagonal(int_df.values, 0)\n",
    "    np.fill_diagonal(jac_df.values, 0)\n",
    "    np.fill_diagonal(otoc_df.values, 0)\n",
    "    \n",
    "    \n",
    "\n",
    "    return pair_df, int_df, jac_df, otoc_df\n",
    "\n",
    "\n"
   ]
  },
  {
   "cell_type": "code",
   "execution_count": null,
   "metadata": {},
   "outputs": [],
   "source": []
  },
  {
   "cell_type": "code",
   "execution_count": 11,
   "metadata": {},
   "outputs": [],
   "source": [
    "pair_df, int_df, jac_df, otoc_df = generate_pairs_df(df)"
   ]
  },
  {
   "cell_type": "code",
   "execution_count": 15,
   "metadata": {},
   "outputs": [
    {
     "name": "stdout",
     "output_type": "stream",
     "text": [
      "<class 'numpy.ndarray'>\n"
     ]
    },
    {
     "name": "stderr",
     "output_type": "stream",
     "text": [
      "C:\\Users\\groga\\AppData\\Local\\Temp\\ipykernel_15660\\4226219960.py:12: RuntimeWarning:\n",
      "\n",
      "divide by zero encountered in log10\n",
      "\n"
     ]
    }
   ],
   "source": [
    "pair_df = BH_test(pair_df)\n"
   ]
  },
  {
   "cell_type": "code",
   "execution_count": 16,
   "metadata": {},
   "outputs": [
    {
     "data": {
      "text/html": [
       "<div>\n",
       "<style scoped>\n",
       "    .dataframe tbody tr th:only-of-type {\n",
       "        vertical-align: middle;\n",
       "    }\n",
       "\n",
       "    .dataframe tbody tr th {\n",
       "        vertical-align: top;\n",
       "    }\n",
       "\n",
       "    .dataframe thead th {\n",
       "        text-align: right;\n",
       "    }\n",
       "</style>\n",
       "<table border=\"1\" class=\"dataframe\">\n",
       "  <thead>\n",
       "    <tr style=\"text-align: right;\">\n",
       "      <th></th>\n",
       "      <th>NFATC2 human tf ARCHS4 coexpression</th>\n",
       "      <th>NFATC2 human</th>\n",
       "      <th>NFATC2 mouse</th>\n",
       "      <th>NFATC2</th>\n",
       "      <th>NFATC2 (human)</th>\n",
       "      <th>NFATC2 Up</th>\n",
       "      <th>NFATC2 Down</th>\n",
       "    </tr>\n",
       "  </thead>\n",
       "  <tbody>\n",
       "    <tr>\n",
       "      <th>NFATC2 human tf ARCHS4 coexpression</th>\n",
       "      <td>0</td>\n",
       "      <td>0.0</td>\n",
       "      <td>0.02524</td>\n",
       "      <td>0.090301</td>\n",
       "      <td>0.010693</td>\n",
       "      <td>0.022034</td>\n",
       "      <td>0.011153</td>\n",
       "    </tr>\n",
       "    <tr>\n",
       "      <th>NFATC2 human</th>\n",
       "      <td>0.0</td>\n",
       "      <td>0</td>\n",
       "      <td>0.164957</td>\n",
       "      <td>0.021858</td>\n",
       "      <td>0.034943</td>\n",
       "      <td>0.0</td>\n",
       "      <td>0.0</td>\n",
       "    </tr>\n",
       "    <tr>\n",
       "      <th>NFATC2 mouse</th>\n",
       "      <td>0.02524</td>\n",
       "      <td>0.164957</td>\n",
       "      <td>0</td>\n",
       "      <td>0.02524</td>\n",
       "      <td>0.080697</td>\n",
       "      <td>0.013857</td>\n",
       "      <td>0.0</td>\n",
       "    </tr>\n",
       "    <tr>\n",
       "      <th>NFATC2</th>\n",
       "      <td>0.090301</td>\n",
       "      <td>0.021858</td>\n",
       "      <td>0.02524</td>\n",
       "      <td>0</td>\n",
       "      <td>0.026733</td>\n",
       "      <td>0.040395</td>\n",
       "      <td>0.063198</td>\n",
       "    </tr>\n",
       "    <tr>\n",
       "      <th>NFATC2 (human)</th>\n",
       "      <td>0.010693</td>\n",
       "      <td>0.034943</td>\n",
       "      <td>0.080697</td>\n",
       "      <td>0.026733</td>\n",
       "      <td>0</td>\n",
       "      <td>0.017612</td>\n",
       "      <td>0.011886</td>\n",
       "    </tr>\n",
       "    <tr>\n",
       "      <th>NFATC2 Up</th>\n",
       "      <td>0.022034</td>\n",
       "      <td>0.0</td>\n",
       "      <td>0.013857</td>\n",
       "      <td>0.040395</td>\n",
       "      <td>0.017612</td>\n",
       "      <td>0</td>\n",
       "      <td>0.0</td>\n",
       "    </tr>\n",
       "    <tr>\n",
       "      <th>NFATC2 Down</th>\n",
       "      <td>0.011153</td>\n",
       "      <td>0.0</td>\n",
       "      <td>0.0</td>\n",
       "      <td>0.063198</td>\n",
       "      <td>0.011886</td>\n",
       "      <td>0.0</td>\n",
       "      <td>0</td>\n",
       "    </tr>\n",
       "  </tbody>\n",
       "</table>\n",
       "</div>"
      ],
      "text/plain": [
       "                                    NFATC2 human tf ARCHS4 coexpression   \n",
       "NFATC2 human tf ARCHS4 coexpression                                   0  \\\n",
       "NFATC2 human                                                        0.0   \n",
       "NFATC2 mouse                                                    0.02524   \n",
       "NFATC2                                                         0.090301   \n",
       "NFATC2 (human)                                                 0.010693   \n",
       "NFATC2 Up                                                      0.022034   \n",
       "NFATC2 Down                                                    0.011153   \n",
       "\n",
       "                                    NFATC2 human NFATC2 mouse    NFATC2   \n",
       "NFATC2 human tf ARCHS4 coexpression          0.0      0.02524  0.090301  \\\n",
       "NFATC2 human                                   0     0.164957  0.021858   \n",
       "NFATC2 mouse                            0.164957            0   0.02524   \n",
       "NFATC2                                  0.021858      0.02524         0   \n",
       "NFATC2 (human)                          0.034943     0.080697  0.026733   \n",
       "NFATC2 Up                                    0.0     0.013857  0.040395   \n",
       "NFATC2 Down                                  0.0          0.0  0.063198   \n",
       "\n",
       "                                    NFATC2 (human) NFATC2 Up NFATC2 Down  \n",
       "NFATC2 human tf ARCHS4 coexpression       0.010693  0.022034    0.011153  \n",
       "NFATC2 human                              0.034943       0.0         0.0  \n",
       "NFATC2 mouse                              0.080697  0.013857         0.0  \n",
       "NFATC2                                    0.026733  0.040395    0.063198  \n",
       "NFATC2 (human)                                   0  0.017612    0.011886  \n",
       "NFATC2 Up                                 0.017612         0         0.0  \n",
       "NFATC2 Down                               0.011886       0.0           0  "
      ]
     },
     "execution_count": 16,
     "metadata": {},
     "output_type": "execute_result"
    }
   ],
   "source": [
    "otoc_df"
   ]
  },
  {
   "cell_type": "markdown",
   "metadata": {},
   "source": [
    "## 2. Pairwise Intersection Analysis\n"
   ]
  },
  {
   "cell_type": "code",
   "execution_count": 17,
   "metadata": {
    "scrolled": false
   },
   "outputs": [
    {
     "data": {
      "text/markdown": [
       "Table 1. Pairwise Intersection Data. Click on the buttons below to obtain a list of genes in each pairwise intersection."
      ],
      "text/plain": [
       "<IPython.core.display.Markdown object>"
      ]
     },
     "metadata": {},
     "output_type": "display_data"
    },
    {
     "data": {
      "text/html": [
       "\n",
       "    <html>\n",
       "    <head><title>Intersection Table</title></head>\n",
       "    <body>\n",
       "    <table border=\"1\" class=\"dataframe\">\n",
       "  <thead>\n",
       "    <tr style=\"text-align: right;\">\n",
       "      <th></th>\n",
       "      <th>NFATC2 human tf ARCHS4 coexpression</th>\n",
       "      <th>NFATC2 human</th>\n",
       "      <th>NFATC2 mouse</th>\n",
       "      <th>NFATC2</th>\n",
       "      <th>NFATC2 (human)</th>\n",
       "      <th>NFATC2 Up</th>\n",
       "      <th>NFATC2 Down</th>\n",
       "    </tr>\n",
       "  </thead>\n",
       "  <tbody>\n",
       "    <tr>\n",
       "      <th>NFATC2 human tf ARCHS4 coexpression</th>\n",
       "      <td>0</td>\n",
       "      <td>0</td>\n",
       "      <td><div class = \"df-wrap\" style = \"border: 1px solid; font-weight:bold; background-color: Floralwhite; 2px; height: 1.5em; width: 21px; border-radius: 4px; color: black; float: right; text-align: center\"><a style = \"text-decoration: none; color: black;\" href = \"/edit/Intersection_Sets/NFATC2_human_tf_ARCHS4_coexpression/NFATC2_mouse.csv\">2</a></div></td>\n",
       "      <td><div class = \"df-wrap\" style = \"border: 1px solid; font-weight:bold; background-color: Floralwhite; 2px; height: 1.5em; width: 21px; border-radius: 4px; color: black; float: right; text-align: center\"><a style = \"text-decoration: none; color: black;\" href = \"/edit/Intersection_Sets/NFATC2/NFATC2_human_tf_ARCHS4_coexpression.csv\">27</a></div></td>\n",
       "      <td><div class = \"df-wrap\" style = \"border: 1px solid; font-weight:bold; background-color: Floralwhite; 2px; height: 1.5em; width: 21px; border-radius: 4px; color: black; float: right; text-align: center\"><a style = \"text-decoration: none; color: black;\" href = \"/edit/Intersection_Sets/NFATC2__human_/NFATC2_human_tf_ARCHS4_coexpression.csv\">2</a></div></td>\n",
       "      <td><div class = \"df-wrap\" style = \"border: 1px solid; font-weight:bold; background-color: Floralwhite; 2px; height: 1.5em; width: 21px; border-radius: 4px; color: black; float: right; text-align: center\"><a style = \"text-decoration: none; color: black;\" href = \"/edit/Intersection_Sets/NFATC2_Up/NFATC2_human_tf_ARCHS4_coexpression.csv\">6</a></div></td>\n",
       "      <td><div class = \"df-wrap\" style = \"border: 1px solid; font-weight:bold; background-color: Floralwhite; 2px; height: 1.5em; width: 21px; border-radius: 4px; color: black; float: right; text-align: center\"><a style = \"text-decoration: none; color: black;\" href = \"/edit/Intersection_Sets/NFATC2_Down/NFATC2_human_tf_ARCHS4_coexpression.csv\">3</a></div></td>\n",
       "    </tr>\n",
       "    <tr>\n",
       "      <th>NFATC2 human</th>\n",
       "      <td>0</td>\n",
       "      <td>0</td>\n",
       "      <td><div class = \"df-wrap\" style = \"border: 1px solid; font-weight:bold; background-color: Floralwhite; 2px; height: 1.5em; width: 21px; border-radius: 4px; color: black; float: right; text-align: center\"><a style = \"text-decoration: none; color: black;\" href = \"/edit/Intersection_Sets/NFATC2_human/NFATC2_mouse.csv\">2</a></div></td>\n",
       "      <td><div class = \"df-wrap\" style = \"border: 1px solid; font-weight:bold; background-color: Floralwhite; 2px; height: 1.5em; width: 21px; border-radius: 4px; color: black; float: right; text-align: center\"><a style = \"text-decoration: none; color: black;\" href = \"/edit/Intersection_Sets/NFATC2/NFATC2_human.csv\">1</a></div></td>\n",
       "      <td><div class = \"df-wrap\" style = \"border: 1px solid; font-weight:bold; background-color: Floralwhite; 2px; height: 1.5em; width: 21px; border-radius: 4px; color: black; float: right; text-align: center\"><a style = \"text-decoration: none; color: black;\" href = \"/edit/Intersection_Sets/NFATC2__human_/NFATC2_human.csv\">1</a></div></td>\n",
       "      <td>0</td>\n",
       "      <td>0</td>\n",
       "    </tr>\n",
       "    <tr>\n",
       "      <th>NFATC2 mouse</th>\n",
       "      <td><div class = \"df-wrap\" style = \"border: 1px solid; font-weight:bold; background-color: Floralwhite;  height: 1.5em; width: 21px; border-radius: 4px; color: black; float: right; text-align: center\"><a style = \"text-decoration: none; color: black;\" href = \"/edit/Intersection_Sets/NFATC2_human_tf_ARCHS4_coexpression/NFATC2_mouse.csv\">2</a></div></td>\n",
       "      <td><div class = \"df-wrap\" style = \"border: 1px solid; font-weight:bold; background-color: Floralwhite;  height: 1.5em; width: 21px; border-radius: 4px; color: black; float: right; text-align: center\"><a style = \"text-decoration: none; color: black;\" href = \"/edit/Intersection_Sets/NFATC2_human/NFATC2_mouse.csv\">2</a></div></td>\n",
       "      <td>0</td>\n",
       "      <td><div class = \"df-wrap\" style = \"border: 1px solid; font-weight:bold; background-color: Floralwhite; 2px; height: 1.5em; width: 21px; border-radius: 4px; color: black; float: right; text-align: center\"><a style = \"text-decoration: none; color: black;\" href = \"/edit/Intersection_Sets/NFATC2/NFATC2_mouse.csv\">2</a></div></td>\n",
       "      <td><div class = \"df-wrap\" style = \"border: 1px solid; font-weight:bold; background-color: Floralwhite; 2px; height: 1.5em; width: 21px; border-radius: 4px; color: black; float: right; text-align: center\"><a style = \"text-decoration: none; color: black;\" href = \"/edit/Intersection_Sets/NFATC2__human_/NFATC2_mouse.csv\">4</a></div></td>\n",
       "      <td><div class = \"df-wrap\" style = \"border: 1px solid; font-weight:bold; background-color: Floralwhite; 2px; height: 1.5em; width: 21px; border-radius: 4px; color: black; float: right; text-align: center\"><a style = \"text-decoration: none; color: black;\" href = \"/edit/Intersection_Sets/NFATC2_Up/NFATC2_mouse.csv\">1</a></div></td>\n",
       "      <td>0</td>\n",
       "    </tr>\n",
       "    <tr>\n",
       "      <th>NFATC2</th>\n",
       "      <td><div class = \"df-wrap\" style = \"border: 1px solid; font-weight:bold; background-color: Floralwhite;  height: 1.5em; width: 21px; border-radius: 4px; color: black; float: right; text-align: center\"><a style = \"text-decoration: none; color: black;\" href = \"/edit/Intersection_Sets/NFATC2/NFATC2_human_tf_ARCHS4_coexpression.csv\">27</a></div></td>\n",
       "      <td><div class = \"df-wrap\" style = \"border: 1px solid; font-weight:bold; background-color: Floralwhite;  height: 1.5em; width: 21px; border-radius: 4px; color: black; float: right; text-align: center\"><a style = \"text-decoration: none; color: black;\" href = \"/edit/Intersection_Sets/NFATC2/NFATC2_human.csv\">1</a></div></td>\n",
       "      <td><div class = \"df-wrap\" style = \"border: 1px solid; font-weight:bold; background-color: Floralwhite;  height: 1.5em; width: 21px; border-radius: 4px; color: black; float: right; text-align: center\"><a style = \"text-decoration: none; color: black;\" href = \"/edit/Intersection_Sets/NFATC2/NFATC2_mouse.csv\">2</a></div></td>\n",
       "      <td>0</td>\n",
       "      <td><div class = \"df-wrap\" style = \"border: 1px solid; font-weight:bold; background-color: Floralwhite; 2px; height: 1.5em; width: 21px; border-radius: 4px; color: black; float: right; text-align: center\"><a style = \"text-decoration: none; color: black;\" href = \"/edit/Intersection_Sets/NFATC2/NFATC2__human_.csv\">5</a></div></td>\n",
       "      <td><div class = \"df-wrap\" style = \"border: 1px solid; font-weight:bold; background-color: Floralwhite; 2px; height: 1.5em; width: 21px; border-radius: 4px; color: black; float: right; text-align: center\"><a style = \"text-decoration: none; color: black;\" href = \"/edit/Intersection_Sets/NFATC2/NFATC2_Up.csv\">11</a></div></td>\n",
       "      <td><div class = \"df-wrap\" style = \"border: 1px solid; font-weight:bold; background-color: Floralwhite; 2px; height: 1.5em; width: 21px; border-radius: 4px; color: black; float: right; text-align: center\"><a style = \"text-decoration: none; color: black;\" href = \"/edit/Intersection_Sets/NFATC2/NFATC2_Down.csv\">17</a></div></td>\n",
       "    </tr>\n",
       "    <tr>\n",
       "      <th>NFATC2 (human)</th>\n",
       "      <td><div class = \"df-wrap\" style = \"border: 1px solid; font-weight:bold; background-color: Floralwhite;  height: 1.5em; width: 21px; border-radius: 4px; color: black; float: right; text-align: center\"><a style = \"text-decoration: none; color: black;\" href = \"/edit/Intersection_Sets/NFATC2__human_/NFATC2_human_tf_ARCHS4_coexpression.csv\">2</a></div></td>\n",
       "      <td><div class = \"df-wrap\" style = \"border: 1px solid; font-weight:bold; background-color: Floralwhite;  height: 1.5em; width: 21px; border-radius: 4px; color: black; float: right; text-align: center\"><a style = \"text-decoration: none; color: black;\" href = \"/edit/Intersection_Sets/NFATC2__human_/NFATC2_human.csv\">1</a></div></td>\n",
       "      <td><div class = \"df-wrap\" style = \"border: 1px solid; font-weight:bold; background-color: Floralwhite;  height: 1.5em; width: 21px; border-radius: 4px; color: black; float: right; text-align: center\"><a style = \"text-decoration: none; color: black;\" href = \"/edit/Intersection_Sets/NFATC2__human_/NFATC2_mouse.csv\">4</a></div></td>\n",
       "      <td><div class = \"df-wrap\" style = \"border: 1px solid; font-weight:bold; background-color: Floralwhite;  height: 1.5em; width: 21px; border-radius: 4px; color: black; float: right; text-align: center\"><a style = \"text-decoration: none; color: black;\" href = \"/edit/Intersection_Sets/NFATC2/NFATC2__human_.csv\">5</a></div></td>\n",
       "      <td>0</td>\n",
       "      <td><div class = \"df-wrap\" style = \"border: 1px solid; font-weight:bold; background-color: Floralwhite; 2px; height: 1.5em; width: 21px; border-radius: 4px; color: black; float: right; text-align: center\"><a style = \"text-decoration: none; color: black;\" href = \"/edit/Intersection_Sets/NFATC2_Up/NFATC2__human_.csv\">3</a></div></td>\n",
       "      <td><div class = \"df-wrap\" style = \"border: 1px solid; font-weight:bold; background-color: Floralwhite; 2px; height: 1.5em; width: 21px; border-radius: 4px; color: black; float: right; text-align: center\"><a style = \"text-decoration: none; color: black;\" href = \"/edit/Intersection_Sets/NFATC2_Down/NFATC2__human_.csv\">2</a></div></td>\n",
       "    </tr>\n",
       "    <tr>\n",
       "      <th>NFATC2 Up</th>\n",
       "      <td><div class = \"df-wrap\" style = \"border: 1px solid; font-weight:bold; background-color: Floralwhite;  height: 1.5em; width: 21px; border-radius: 4px; color: black; float: right; text-align: center\"><a style = \"text-decoration: none; color: black;\" href = \"/edit/Intersection_Sets/NFATC2_Up/NFATC2_human_tf_ARCHS4_coexpression.csv\">6</a></div></td>\n",
       "      <td>0</td>\n",
       "      <td><div class = \"df-wrap\" style = \"border: 1px solid; font-weight:bold; background-color: Floralwhite;  height: 1.5em; width: 21px; border-radius: 4px; color: black; float: right; text-align: center\"><a style = \"text-decoration: none; color: black;\" href = \"/edit/Intersection_Sets/NFATC2_Up/NFATC2_mouse.csv\">1</a></div></td>\n",
       "      <td><div class = \"df-wrap\" style = \"border: 1px solid; font-weight:bold; background-color: Floralwhite;  height: 1.5em; width: 21px; border-radius: 4px; color: black; float: right; text-align: center\"><a style = \"text-decoration: none; color: black;\" href = \"/edit/Intersection_Sets/NFATC2/NFATC2_Up.csv\">11</a></div></td>\n",
       "      <td><div class = \"df-wrap\" style = \"border: 1px solid; font-weight:bold; background-color: Floralwhite;  height: 1.5em; width: 21px; border-radius: 4px; color: black; float: right; text-align: center\"><a style = \"text-decoration: none; color: black;\" href = \"/edit/Intersection_Sets/NFATC2_Up/NFATC2__human_.csv\">3</a></div></td>\n",
       "      <td>0</td>\n",
       "      <td>0</td>\n",
       "    </tr>\n",
       "    <tr>\n",
       "      <th>NFATC2 Down</th>\n",
       "      <td><div class = \"df-wrap\" style = \"border: 1px solid; font-weight:bold; background-color: Floralwhite;  height: 1.5em; width: 21px; border-radius: 4px; color: black; float: right; text-align: center\"><a style = \"text-decoration: none; color: black;\" href = \"/edit/Intersection_Sets/NFATC2_Down/NFATC2_human_tf_ARCHS4_coexpression.csv\">3</a></div></td>\n",
       "      <td>0</td>\n",
       "      <td>0</td>\n",
       "      <td><div class = \"df-wrap\" style = \"border: 1px solid; font-weight:bold; background-color: Floralwhite;  height: 1.5em; width: 21px; border-radius: 4px; color: black; float: right; text-align: center\"><a style = \"text-decoration: none; color: black;\" href = \"/edit/Intersection_Sets/NFATC2/NFATC2_Down.csv\">17</a></div></td>\n",
       "      <td><div class = \"df-wrap\" style = \"border: 1px solid; font-weight:bold; background-color: Floralwhite;  height: 1.5em; width: 21px; border-radius: 4px; color: black; float: right; text-align: center\"><a style = \"text-decoration: none; color: black;\" href = \"/edit/Intersection_Sets/NFATC2_Down/NFATC2__human_.csv\">2</a></div></td>\n",
       "      <td>0</td>\n",
       "      <td>0</td>\n",
       "    </tr>\n",
       "  </tbody>\n",
       "</table>\n",
       "    </body>\n",
       "    </html>.\n",
       "    "
      ],
      "text/plain": [
       "<IPython.core.display.HTML object>"
      ]
     },
     "metadata": {},
     "output_type": "display_data"
    },
    {
     "data": {
      "text/html": [
       "Download Pairwise Intersection Matrix:   <a href='P.I_matrix/intersection_matrix.csv' target='_blank'>P.I_matrix/intersection_matrix.csv</a><br>"
      ],
      "text/plain": [
       "C:\\Users\\groga\\OneDrive\\Desktop\\MtSinai\\appyter-catalog\\appyters\\GeneSetLibrarySynopsis\\P.I_matrix\\intersection_matrix.csv"
      ]
     },
     "metadata": {},
     "output_type": "display_data"
    }
   ],
   "source": [
    "if int_tbl:\n",
    "    \n",
    "    html_string = f'''\n",
    "    <html>\n",
    "    <head><title>Intersection Table</title></head>\n",
    "    <body>\n",
    "    {int_df.to_html(render_links = True, escape = False)}\n",
    "    </body>\n",
    "    </html>.\n",
    "    '''\n",
    "    \n",
    "    \n",
    "    display(Markdown(\"Table 1. Pairwise Intersection Data. Click on the buttons below to obtain a list of genes in each pairwise intersection.\"))\n",
    "    \n",
    "    os.makedirs(\"P.I_matrix\", exist_ok = True)\n",
    "    int_df.to_csv('P.I_matrix/intersection_matrix.csv')\n",
    "    display(HTML(html_string))\n",
    "    display(FileLink('P.I_matrix/intersection_matrix.csv', result_html_prefix= str('Download Pairwise Intersection Matrix:   ')))"
   ]
  },
  {
   "cell_type": "code",
   "execution_count": 19,
   "metadata": {},
   "outputs": [
    {
     "data": {
      "text/html": [
       "\n",
       "        <iframe\n",
       "            width=\"800px\"\n",
       "            height=\"600px\"\n",
       "            src=\"P.I_matrix/intersection_network.html\"\n",
       "            frameborder=\"0\"\n",
       "            allowfullscreen\n",
       "            \n",
       "        ></iframe>\n",
       "        "
      ],
      "text/plain": [
       "<IPython.lib.display.IFrame at 0x1de16551cd0>"
      ]
     },
     "execution_count": 19,
     "metadata": {},
     "output_type": "execute_result"
    }
   ],
   "source": [
    "G = nx.Graph()\n",
    "term_lst = list(df.index)\n",
    "library_lst = list(df['Library'])\n",
    "# term_lst_indexer = range(len(term_lst))\n",
    "# term_map = dict(zip(term_lst, term_lst_indexer))\n",
    "\n",
    "# index_mapper = lambda x,y: (term_map[x], term_map[y])\n",
    "\n",
    "# title = 'Fisher Exact Test Significance Network'\n",
    "\n",
    "\n",
    "# HOVER_TOOLTIPS = [(\"Library\", \"@index\")]\n",
    "\n",
    "\n",
    "# plot = figure(tooltips = HOVER_TOOLTIPS,\n",
    "#               tools=\"pan,wheel_zoom,save,reset\", active_scroll='wheel_zoom',\n",
    "#             x_range=Range1d(-1.3, 1.3), y_range=Range1d(-1.3, 1.3), title=title)\n",
    "\n",
    "BH_sig_pairs = list(pair_df.iloc[np.where(pair_df['BH_sig']== True)[0]].index)\n",
    "# BH_sig_pairs = [index_mapper(term1, term2) for (term1, term2) in BH_sig_pairs]\n",
    "\n",
    "\n",
    "\n",
    "\n",
    "# graph = from_networkx(G, nx.spring_layout)\n",
    "# graph.node_renderer.glyph = Circle(size=15, fill_color='skyblue')\n",
    "# graph.edge_renderer.glyph = MultiLine(line_alpha = 0.5, line_width = 1)\n",
    "# plot.renderers.append(graph)\n",
    "# show(plot)\n",
    "\n",
    "net = Network(notebook= True, cdn_resources = 'remote')\n",
    "\n",
    "net.add_nodes(term_lst)\n",
    "\n",
    "edge_data = list(zip(BH_sig_pairs, pair_df['-log10_BH_pval'].tolist()))\n",
    "\n",
    "for pair, pval in edge_data:\n",
    "    src = pair[0]\n",
    "    dst = pair[1]\n",
    "    net.add_edge(src, dst, value = pval)\n",
    "\n",
    "\n",
    "neighbor_map = net.get_adj_list()\n",
    "lib_color_map = {}\n",
    "\n",
    "lib_colors = lambda: f\"#{random.randint(0, 0xFFFFFF):06x}\"\n",
    "\n",
    "for i, lib in enumerate(library_lst):\n",
    "    lib_color_map[lib] = lib_colors()\n",
    "                  \n",
    "\n",
    "for i, node in enumerate(net.nodes):\n",
    "    node['title'] = f'Number of Significant Pairwise Intersections: {len(neighbor_map[node[\"id\"]])}'\n",
    "    term = node['id']\n",
    "    term_library = df.loc[term]['Library']\n",
    "    node['color'] = lib_color_map[term_library]\n",
    "    \n",
    "net.set_options(''' var options = {\n",
    "\"edges\": {\n",
    "\"color\": {\n",
    "\"color\": \"lightgrey\",\n",
    "\"highlight\": \"orange\"\n",
    "}\n",
    "}\n",
    "}''')\n",
    "    \n",
    "    \n",
    "    \n",
    "with open('P.I_matrix/' + 'intersection_network.html', \"w\") as out:\n",
    "        out.write(net.generate_html(notebook=True))\n",
    "    \n",
    "IFrame('P.I_matrix/' + 'intersection_network.html', width = '800px', height= '600px')\n",
    "\n",
    "\n",
    "# nx.draw(G, with_labels = True)\n",
    "\n"
   ]
  },
  {
   "cell_type": "code",
   "execution_count": 20,
   "metadata": {},
   "outputs": [
    {
     "data": {
      "text/html": [
       "Download Figure 1: <a href='P.I_matrix/intersection_network.html' target='_blank'>P.I_matrix/intersection_network.html</a><br>"
      ],
      "text/plain": [
       "C:\\Users\\groga\\OneDrive\\Desktop\\MtSinai\\appyter-catalog\\appyters\\GeneSetLibrarySynopsis\\P.I_matrix\\intersection_network.html"
      ]
     },
     "metadata": {},
     "output_type": "display_data"
    }
   ],
   "source": [
    "\n",
    "\n",
    "display(FileLink('P.I_matrix/' + 'intersection_network.html', result_html_prefix=str('Download Figure 1: ')))\n"
   ]
  },
  {
   "cell_type": "markdown",
   "metadata": {},
   "source": [
    "## 3. Jaccard Similarity Matrix"
   ]
  },
  {
   "cell_type": "code",
   "execution_count": 21,
   "metadata": {},
   "outputs": [
    {
     "data": {
      "text/html": [
       "<div>\n",
       "<style scoped>\n",
       "    .dataframe tbody tr th:only-of-type {\n",
       "        vertical-align: middle;\n",
       "    }\n",
       "\n",
       "    .dataframe tbody tr th {\n",
       "        vertical-align: top;\n",
       "    }\n",
       "\n",
       "    .dataframe thead th {\n",
       "        text-align: right;\n",
       "    }\n",
       "</style>\n",
       "<table border=\"1\" class=\"dataframe\">\n",
       "  <thead>\n",
       "    <tr style=\"text-align: right;\">\n",
       "      <th></th>\n",
       "      <th>NFATC2 human tf ARCHS4 coexpression</th>\n",
       "      <th>NFATC2 human</th>\n",
       "      <th>NFATC2 mouse</th>\n",
       "      <th>NFATC2</th>\n",
       "      <th>NFATC2 (human)</th>\n",
       "      <th>NFATC2 Up</th>\n",
       "      <th>NFATC2 Down</th>\n",
       "    </tr>\n",
       "  </thead>\n",
       "  <tbody>\n",
       "    <tr>\n",
       "      <th>NFATC2 human tf ARCHS4 coexpression</th>\n",
       "      <td>0</td>\n",
       "      <td>0.00</td>\n",
       "      <td>0.01</td>\n",
       "      <td>0.05</td>\n",
       "      <td>0.00</td>\n",
       "      <td>0.01</td>\n",
       "      <td>0.01</td>\n",
       "    </tr>\n",
       "    <tr>\n",
       "      <th>NFATC2 human</th>\n",
       "      <td>0.00</td>\n",
       "      <td>0</td>\n",
       "      <td>0.08</td>\n",
       "      <td>0.00</td>\n",
       "      <td>0.01</td>\n",
       "      <td>0.00</td>\n",
       "      <td>0.00</td>\n",
       "    </tr>\n",
       "    <tr>\n",
       "      <th>NFATC2 mouse</th>\n",
       "      <td>0.01</td>\n",
       "      <td>0.08</td>\n",
       "      <td>0</td>\n",
       "      <td>0.01</td>\n",
       "      <td>0.03</td>\n",
       "      <td>0.00</td>\n",
       "      <td>0.00</td>\n",
       "    </tr>\n",
       "    <tr>\n",
       "      <th>NFATC2</th>\n",
       "      <td>0.05</td>\n",
       "      <td>0.00</td>\n",
       "      <td>0.01</td>\n",
       "      <td>0</td>\n",
       "      <td>0.01</td>\n",
       "      <td>0.02</td>\n",
       "      <td>0.03</td>\n",
       "    </tr>\n",
       "    <tr>\n",
       "      <th>NFATC2 (human)</th>\n",
       "      <td>0.00</td>\n",
       "      <td>0.01</td>\n",
       "      <td>0.03</td>\n",
       "      <td>0.01</td>\n",
       "      <td>0</td>\n",
       "      <td>0.01</td>\n",
       "      <td>0.01</td>\n",
       "    </tr>\n",
       "    <tr>\n",
       "      <th>NFATC2 Up</th>\n",
       "      <td>0.01</td>\n",
       "      <td>0.00</td>\n",
       "      <td>0.00</td>\n",
       "      <td>0.02</td>\n",
       "      <td>0.01</td>\n",
       "      <td>0</td>\n",
       "      <td>0.00</td>\n",
       "    </tr>\n",
       "    <tr>\n",
       "      <th>NFATC2 Down</th>\n",
       "      <td>0.01</td>\n",
       "      <td>0.00</td>\n",
       "      <td>0.00</td>\n",
       "      <td>0.03</td>\n",
       "      <td>0.01</td>\n",
       "      <td>0.00</td>\n",
       "      <td>0</td>\n",
       "    </tr>\n",
       "  </tbody>\n",
       "</table>\n",
       "</div>"
      ],
      "text/plain": [
       "                                    NFATC2 human tf ARCHS4 coexpression   \n",
       "NFATC2 human tf ARCHS4 coexpression                                   0  \\\n",
       "NFATC2 human                                                       0.00   \n",
       "NFATC2 mouse                                                       0.01   \n",
       "NFATC2                                                             0.05   \n",
       "NFATC2 (human)                                                     0.00   \n",
       "NFATC2 Up                                                          0.01   \n",
       "NFATC2 Down                                                        0.01   \n",
       "\n",
       "                                    NFATC2 human NFATC2 mouse NFATC2   \n",
       "NFATC2 human tf ARCHS4 coexpression         0.00         0.01   0.05  \\\n",
       "NFATC2 human                                   0         0.08   0.00   \n",
       "NFATC2 mouse                                0.08            0   0.01   \n",
       "NFATC2                                      0.00         0.01      0   \n",
       "NFATC2 (human)                              0.01         0.03   0.01   \n",
       "NFATC2 Up                                   0.00         0.00   0.02   \n",
       "NFATC2 Down                                 0.00         0.00   0.03   \n",
       "\n",
       "                                    NFATC2 (human) NFATC2 Up NFATC2 Down  \n",
       "NFATC2 human tf ARCHS4 coexpression           0.00      0.01        0.01  \n",
       "NFATC2 human                                  0.01      0.00        0.00  \n",
       "NFATC2 mouse                                  0.03      0.00        0.00  \n",
       "NFATC2                                        0.01      0.02        0.03  \n",
       "NFATC2 (human)                                   0      0.01        0.01  \n",
       "NFATC2 Up                                     0.01         0        0.00  \n",
       "NFATC2 Down                                   0.01      0.00           0  "
      ]
     },
     "metadata": {},
     "output_type": "display_data"
    },
    {
     "data": {
      "text/html": [
       "Download Jaccard Similarity Matrix:   <a href='P.I_matrix/jaccard_matrix.csv' target='_blank'>P.I_matrix/jaccard_matrix.csv</a><br>"
      ],
      "text/plain": [
       "C:\\Users\\groga\\OneDrive\\Desktop\\MtSinai\\appyter-catalog\\appyters\\GeneSetLibrarySynopsis\\P.I_matrix\\jaccard_matrix.csv"
      ]
     },
     "metadata": {},
     "output_type": "display_data"
    }
   ],
   "source": [
    "if jaccard_tbl:\n",
    "    display(jac_df)\n",
    "    jac_df.to_csv('P.I_matrix/jaccard_matrix.csv')\n",
    "    display(FileLink('P.I_matrix/jaccard_matrix.csv', result_html_prefix= str('Download Jaccard Similarity Matrix:   ')))\n",
    "    "
   ]
  },
  {
   "cell_type": "markdown",
   "metadata": {},
   "source": [
    "## 4. Term Intersection Search\n",
    "\n",
    "#### In this section, the user can submit library terms (at least 2) they would like to search the intersection of. The user can submit as many terms names as they would like, allowing analysis of the intersections of many sets.\n",
    "\n",
    "\n",
    "\n",
    "\n"
   ]
  },
  {
   "cell_type": "code",
   "execution_count": null,
   "metadata": {},
   "outputs": [],
   "source": []
  },
  {
   "cell_type": "markdown",
   "metadata": {},
   "source": [
    "## 5. ScatterPlot Visualization"
   ]
  },
  {
   "cell_type": "code",
   "execution_count": null,
   "metadata": {},
   "outputs": [],
   "source": [
    "class UMAP_Visualization:\n",
    "\n",
    "    def __init__(self, query_set=[], gene_libraries=[], sig_value=.05, gmt_files=[], gmt_df = []):\n",
    "        self.query_set = [gene.strip() for gene in query_set]\n",
    "        self.gene_libraries = gene_libraries\n",
    "        self.significant_value = sig_value\n",
    "        self.term_library_map = {}\n",
    "        self.dataset = OrderedDict()\n",
    "        self.dataset.update(self.process_gmt_df(gmt_df))\n",
    "        \n",
    "        \n",
    "    def process_gmt_df(self, gmt_df):\n",
    "        if gmt_df == []:\n",
    "            return OrderedDict() ##return the empty Dictionary when no gmt passed in\n",
    "        else:\n",
    "            gmt_df = gmt_df[0]\n",
    "            self.term_library_map.update(pd.Series(gmt_df['Library'].values,index=gmt_df.index.values).to_dict())\n",
    "            return OrderedDict(pd.Series(gmt_df['Genes'].values,index=gmt_df.index.values).to_dict())\n",
    "            \n",
    "   \n",
    "\n",
    "    def process_scatterplot(self, nneighbors=30, mindist=0.1, spread=1.0, maxdf=1.0, mindf=1):\n",
    "        libdict = self.dataset\n",
    "        print(\"\\tTF-IDF vectorizing gene set data...\")\n",
    "        # computes tdfidf score--look this up\n",
    "        vec = TfidfVectorizer(max_df=maxdf, min_df=mindf)\n",
    "        X = vec.fit_transform(libdict.values())\n",
    "        print(X.shape)\n",
    "        adata = anndata.AnnData(X)\n",
    "        adata.obs.index = libdict.keys()\n",
    "\n",
    "        print(\"\\tPerforming Leiden clustering...\")\n",
    "        # the n_neighbors and min_dist parameters can be altered\n",
    "        sc.pp.neighbors(adata, n_neighbors=nneighbors)\n",
    "        sc.tl.leiden(adata, resolution=1.0)\n",
    "        sc.tl.umap(adata, min_dist=mindist, spread=spread, random_state=42)\n",
    "\n",
    "        new_order = adata.obs.sort_values(by='leiden').index.tolist()\n",
    "        adata = adata[new_order, :]\n",
    "        adata.obs['leiden'] = 'Cluster ' + adata.obs['leiden'].astype('object')\n",
    "\n",
    "        df = pd.DataFrame(adata.obsm['X_umap'])\n",
    "        df.columns = ['x', 'y']\n",
    "\n",
    "        df['cluster'] = adata.obs['leiden'].values\n",
    "        df['term'] = adata.obs.index\n",
    "        df['genes'] = [libdict[l] for l in df['term']]\n",
    "        df['library'] = [self.term_library_map[l] for l in df['term']]\n",
    "\n",
    "        return df\n",
    "\n",
    "    def get_scatter_colors(self, df):\n",
    "        clusters = pd.unique(df['library']).tolist()\n",
    "        colors = list(Category20[20])[::2] + list(Category20[20])[1::2]\n",
    "        color_mapper = {clusters[i]: colors[i % 20]\n",
    "                        for i in range(len(clusters))}\n",
    "        return color_mapper\n",
    "\n",
    "    # def get_marker_mapper(self, df):\n",
    "    #     markers = [\"circle\", \"square\", \"triangle\",\n",
    "    #                \"hex\", \"inverted_triangle\", \"diamond\"]\n",
    "    #     libs = pd.unique(df['library']).tolist()\n",
    "    #     marker_mapper = {libs[i]: markers[i] for i in range(len(libs))}\n",
    "    #     return marker_mapper\n",
    "\n",
    "    def get_scatterplot(self, scatterdf):\n",
    "        df = scatterdf.copy()\n",
    "        color_mapper = self.get_scatter_colors(df)\n",
    "        # marker_mapper = self.get_marker_mapper(df)\n",
    "        df['color'] = df['library'].apply(lambda x: color_mapper[x])\n",
    "        # df['marker'] = df['library'].apply(lambda x: marker_mapper[x])\n",
    "\n",
    "        # range_slider = RangeSlider(\"title = Adjust x-axis\",\n",
    "        #                            start=0,\n",
    "        #                            end=10,\n",
    "        #                            step=1)\n",
    "\n",
    "        tooltips = [\n",
    "            (\"Gene Set\", \"@gene_set\"),\n",
    "            (\"Cluster\", \"@cluster\"),\n",
    "            (\"Library\", \"@library\")\n",
    "        ]\n",
    "\n",
    "        hover_emb = HoverTool(tooltips=tooltips)\n",
    "        tools_emb = [hover_emb, 'pan', 'wheel_zoom', 'reset', 'save']\n",
    "\n",
    "        plot_emb = figure(\n",
    "            width=900,\n",
    "            height=700,\n",
    "            tools=tools_emb\n",
    "        )\n",
    "\n",
    "        source = ColumnDataSource(\n",
    "            data=dict(\n",
    "                x=df['x'],\n",
    "                y=df['y'],\n",
    "                gene_set=df['term'],\n",
    "                colors=df['color'],\n",
    "                label=df['library'],\n",
    "                library=df['library'],\n",
    "                cluster = df['cluster']\n",
    "                # markers=df['marker']\n",
    "\n",
    "            )\n",
    "        )\n",
    "\n",
    "        # hide axis labels and grid lines\n",
    "        plot_emb.xaxis.major_tick_line_color = None\n",
    "        plot_emb.xaxis.minor_tick_line_color = None\n",
    "        plot_emb.yaxis.major_tick_line_color = None\n",
    "        plot_emb.yaxis.minor_tick_line_color = None\n",
    "        plot_emb.xaxis.major_label_text_font_size = '0pt'\n",
    "        plot_emb.yaxis.major_label_text_font_size = '0pt'\n",
    "\n",
    "        plot_emb.output_backend = \"svg\"\n",
    "\n",
    "        plot_emb.xaxis.axis_label = \"UMAP_1\"\n",
    "        plot_emb.yaxis.axis_label = \"UMAP_2\"\n",
    "\n",
    "        s = plot_emb.scatter(\n",
    "            'x',\n",
    "            'y',\n",
    "            size=8,\n",
    "            source=source,\n",
    "            legend_group = 'library',\n",
    "            color='colors'\n",
    "            # marker='markers'\n",
    "        )\n",
    "        plot_emb.add_layout(plot_emb.legend[0], 'right')\n",
    "\n",
    "\n",
    "        return plot_emb\n"
   ]
  },
  {
   "cell_type": "code",
   "execution_count": null,
   "metadata": {},
   "outputs": [],
   "source": [
    "%%appyter code_eval\n",
    "if umap:\n",
    "    umap = UMAP_Visualization(gmt_df = [df])\n",
    "    umap_df = umap.process_scatterplot(maxdf = umap_maxdf, mindf = umap_mindf, nneighbors = umap_num_neighbors)\n",
    "    fig = umap.get_scatterplot(umap_df)\n",
    "    show(fig)"
   ]
  },
  {
   "cell_type": "markdown",
   "metadata": {},
   "source": [
    "## Descriptive Statistics of GMT"
   ]
  },
  {
   "cell_type": "code",
   "execution_count": null,
   "metadata": {},
   "outputs": [],
   "source": []
  },
  {
   "cell_type": "code",
   "execution_count": 22,
   "metadata": {},
   "outputs": [
    {
     "data": {
      "text/html": [
       "\n",
       "  <div id=\"87bc448c-3677-45c3-8832-e32b77a91db4\" data-root-id=\"p1002\" style=\"display: contents;\"></div>\n"
      ]
     },
     "metadata": {},
     "output_type": "display_data"
    },
    {
     "data": {
      "application/javascript": [
       "(function(root) {\n",
       "  function embed_document(root) {\n",
       "  const docs_json = {\"040424ee-2ae9-4439-8acd-2cc88f5660a9\":{\"version\":\"3.1.0\",\"title\":\"Bokeh Application\",\"defs\":[],\"roots\":[{\"type\":\"object\",\"name\":\"Figure\",\"id\":\"p1002\",\"attributes\":{\"width\":700,\"height\":500,\"x_range\":{\"type\":\"object\",\"name\":\"Range1d\",\"id\":\"p1012\",\"attributes\":{\"end\":5.25}},\"y_range\":{\"type\":\"object\",\"name\":\"DataRange1d\",\"id\":\"p1004\"},\"x_scale\":{\"type\":\"object\",\"name\":\"LinearScale\",\"id\":\"p1016\"},\"y_scale\":{\"type\":\"object\",\"name\":\"LinearScale\",\"id\":\"p1018\"},\"title\":{\"type\":\"object\",\"name\":\"Title\",\"id\":\"p1005\",\"attributes\":{\"text\":\"Figure 1\"}},\"renderers\":[{\"type\":\"object\",\"name\":\"GlyphRenderer\",\"id\":\"p1055\",\"attributes\":{\"data_source\":{\"type\":\"object\",\"name\":\"ColumnDataSource\",\"id\":\"p1049\",\"attributes\":{\"selected\":{\"type\":\"object\",\"name\":\"Selection\",\"id\":\"p1050\",\"attributes\":{\"indices\":[],\"line_indices\":[]}},\"selection_policy\":{\"type\":\"object\",\"name\":\"UnionRenderers\",\"id\":\"p1051\"},\"data\":{\"type\":\"map\",\"entries\":[[\"top\",{\"type\":\"ndarray\",\"array\":{\"type\":\"bytes\",\"data\":\"KAQAAAAAAAAAAAAAAAAAAAAAAABQAAAAAAAAAAAAAAAAAAAAAwAAAA==\"},\"shape\":[10],\"dtype\":\"int32\",\"order\":\"little\"}],[\"left\",{\"type\":\"ndarray\",\"array\":{\"type\":\"bytes\",\"data\":\"AAAAAAAA8D8zMzMzMzPzP2ZmZmZmZvY/mpmZmZmZ+T/NzMzMzMz8PwAAAAAAAABAmpmZmZmZAUA0MzMzMzMDQM3MzMzMzARAZmZmZmZmBkA=\"},\"shape\":[10],\"dtype\":\"float64\",\"order\":\"little\"}],[\"right\",{\"type\":\"ndarray\",\"array\":{\"type\":\"bytes\",\"data\":\"MzMzMzMz8z9mZmZmZmb2P5qZmZmZmfk/zczMzMzM/D8AAAAAAAAAQJqZmZmZmQFANDMzMzMzA0DNzMzMzMwEQGZmZmZmZgZAAAAAAAAACEA=\"},\"shape\":[10],\"dtype\":\"float64\",\"order\":\"little\"}]]}}},\"view\":{\"type\":\"object\",\"name\":\"CDSView\",\"id\":\"p1056\",\"attributes\":{\"filter\":{\"type\":\"object\",\"name\":\"AllIndices\",\"id\":\"p1057\"}}},\"glyph\":{\"type\":\"object\",\"name\":\"Quad\",\"id\":\"p1052\",\"attributes\":{\"left\":{\"type\":\"field\",\"field\":\"left\"},\"right\":{\"type\":\"field\",\"field\":\"right\"},\"bottom\":{\"type\":\"value\",\"value\":0},\"top\":{\"type\":\"field\",\"field\":\"top\"},\"line_color\":{\"type\":\"value\",\"value\":\"white\"},\"fill_color\":{\"type\":\"value\",\"value\":\"black\"}}},\"nonselection_glyph\":{\"type\":\"object\",\"name\":\"Quad\",\"id\":\"p1053\",\"attributes\":{\"left\":{\"type\":\"field\",\"field\":\"left\"},\"right\":{\"type\":\"field\",\"field\":\"right\"},\"bottom\":{\"type\":\"value\",\"value\":0},\"top\":{\"type\":\"field\",\"field\":\"top\"},\"line_color\":{\"type\":\"value\",\"value\":\"white\"},\"line_alpha\":{\"type\":\"value\",\"value\":0.1},\"fill_color\":{\"type\":\"value\",\"value\":\"black\"},\"fill_alpha\":{\"type\":\"value\",\"value\":0.1},\"hatch_alpha\":{\"type\":\"value\",\"value\":0.1}}},\"muted_glyph\":{\"type\":\"object\",\"name\":\"Quad\",\"id\":\"p1054\",\"attributes\":{\"left\":{\"type\":\"field\",\"field\":\"left\"},\"right\":{\"type\":\"field\",\"field\":\"right\"},\"bottom\":{\"type\":\"value\",\"value\":0},\"top\":{\"type\":\"field\",\"field\":\"top\"},\"line_color\":{\"type\":\"value\",\"value\":\"white\"},\"line_alpha\":{\"type\":\"value\",\"value\":0.2},\"fill_color\":{\"type\":\"value\",\"value\":\"black\"},\"fill_alpha\":{\"type\":\"value\",\"value\":0.2},\"hatch_alpha\":{\"type\":\"value\",\"value\":0.2}}}}}],\"toolbar\":{\"type\":\"object\",\"name\":\"Toolbar\",\"id\":\"p1009\",\"attributes\":{\"tools\":[{\"type\":\"object\",\"name\":\"PanTool\",\"id\":\"p1034\"},{\"type\":\"object\",\"name\":\"WheelZoomTool\",\"id\":\"p1035\"},{\"type\":\"object\",\"name\":\"BoxZoomTool\",\"id\":\"p1036\",\"attributes\":{\"overlay\":{\"type\":\"object\",\"name\":\"BoxAnnotation\",\"id\":\"p1037\",\"attributes\":{\"syncable\":false,\"level\":\"overlay\",\"visible\":false,\"left_units\":\"canvas\",\"right_units\":\"canvas\",\"bottom_units\":\"canvas\",\"top_units\":\"canvas\",\"line_color\":\"black\",\"line_alpha\":1.0,\"line_width\":2,\"line_dash\":[4,4],\"fill_color\":\"lightgrey\",\"fill_alpha\":0.5}}}},{\"type\":\"object\",\"name\":\"SaveTool\",\"id\":\"p1038\"},{\"type\":\"object\",\"name\":\"ResetTool\",\"id\":\"p1039\"},{\"type\":\"object\",\"name\":\"HelpTool\",\"id\":\"p1040\"}]}},\"toolbar_location\":null,\"left\":[{\"type\":\"object\",\"name\":\"LinearAxis\",\"id\":\"p1027\",\"attributes\":{\"ticker\":{\"type\":\"object\",\"name\":\"BasicTicker\",\"id\":\"p1029\",\"attributes\":{\"mantissas\":[1,2,5]}},\"formatter\":{\"type\":\"object\",\"name\":\"BasicTickFormatter\",\"id\":\"p1030\"},\"axis_label\":\"Genes\",\"axis_label_text_font_size\":\"18pt\",\"major_label_policy\":{\"type\":\"object\",\"name\":\"AllLabels\",\"id\":\"p1028\"}}}],\"below\":[{\"type\":\"object\",\"name\":\"LinearAxis\",\"id\":\"p1020\",\"attributes\":{\"ticker\":{\"type\":\"object\",\"name\":\"BasicTicker\",\"id\":\"p1022\",\"attributes\":{\"mantissas\":[1,2,5]}},\"formatter\":{\"type\":\"object\",\"name\":\"BasicTickFormatter\",\"id\":\"p1023\"},\"axis_label\":\"Sets\",\"axis_label_text_font_size\":\"18pt\",\"major_label_policy\":{\"type\":\"object\",\"name\":\"AllLabels\",\"id\":\"p1021\"}}}],\"center\":[{\"type\":\"object\",\"name\":\"Grid\",\"id\":\"p1026\",\"attributes\":{\"axis\":{\"id\":\"p1020\"}}},{\"type\":\"object\",\"name\":\"Grid\",\"id\":\"p1033\",\"attributes\":{\"dimension\":1,\"axis\":{\"id\":\"p1027\"}}}]}}],\"callbacks\":{\"type\":\"map\"}}};\n",
       "  const render_items = [{\"docid\":\"040424ee-2ae9-4439-8acd-2cc88f5660a9\",\"roots\":{\"p1002\":\"87bc448c-3677-45c3-8832-e32b77a91db4\"},\"root_ids\":[\"p1002\"]}];\n",
       "  root.Bokeh.embed.embed_items_notebook(docs_json, render_items);\n",
       "  }\n",
       "  if (root.Bokeh !== undefined) {\n",
       "    embed_document(root);\n",
       "  } else {\n",
       "    let attempts = 0;\n",
       "    const timer = setInterval(function(root) {\n",
       "      if (root.Bokeh !== undefined) {\n",
       "        clearInterval(timer);\n",
       "        embed_document(root);\n",
       "      } else {\n",
       "        attempts++;\n",
       "        if (attempts > 100) {\n",
       "          clearInterval(timer);\n",
       "          console.log(\"Bokeh: ERROR: Unable to run BokehJS code because BokehJS library is missing\");\n",
       "        }\n",
       "      }\n",
       "    }, 10, root)\n",
       "  }\n",
       "})(window);"
      ],
      "application/vnd.bokehjs_exec.v0+json": ""
     },
     "metadata": {
      "application/vnd.bokehjs_exec.v0+json": {
       "id": "p1002"
      }
     },
     "output_type": "display_data"
    },
    {
     "data": {
      "text/markdown": [
       "*Figure 1. Gene Frequency Distribution*"
      ],
      "text/plain": [
       "<IPython.core.display.Markdown object>"
      ]
     },
     "metadata": {},
     "output_type": "display_data"
    }
   ],
   "source": [
    "    ##gene stats\n",
    "    geneset_lst = df['Genes'].to_list()\n",
    "    geneset_lst = [l.split(' ') for l in geneset_lst]\n",
    "    gene_count = {}\n",
    "    geneset_size = []\n",
    "    num_lib = len(df['Library'].unique()) ## for sizing the x, y axis\n",
    "    num_terms = df.shape[0]\n",
    "\n",
    "    for gene_set in geneset_lst:\n",
    "        geneset_size.append(len(gene_set))\n",
    "        for gene in gene_set:\n",
    "            if gene in gene_count:\n",
    "                gene_count[gene] +=1\n",
    "            else:\n",
    "                gene_count[gene] =1\n",
    "                \n",
    "    avg_geneset_size = stat.mean(geneset_size)\n",
    "    std_geneset_size = stat.stdev(geneset_size)\n",
    "#     print(avg_geneset_size)\n",
    "#     print(std_geneset_size)\n",
    "    hist, edges = np.histogram(list(gene_count.values()))\n",
    "    p = figure(width=700, height=500, toolbar_location= None,\n",
    "       title= \"Figure 1\", \n",
    "        x_axis_label = 'Sets', \n",
    "        x_range = (0, num_terms*.75),\n",
    "        y_axis_label  = 'Genes' )\n",
    "    p.quad(top=hist, bottom=0, left=edges[:-1], right=edges[1:],\n",
    "     fill_color=\"black\", line_color=\"white\")\n",
    "    p.yaxis.axis_label_text_font_size = \"18pt\"\n",
    "    p.xaxis.axis_label_text_font_size = \"18pt\"\n",
    "\n",
    "    show(p)\n",
    "    display(Markdown(\"*Figure 1. Gene Frequency Distribution*\"))\n",
    "\n",
    "    \n",
    "    "
   ]
  },
  {
   "cell_type": "code",
   "execution_count": null,
   "metadata": {},
   "outputs": [],
   "source": []
  },
  {
   "cell_type": "code",
   "execution_count": 23,
   "metadata": {},
   "outputs": [
    {
     "data": {
      "text/html": [
       "\n",
       "  <div id=\"46460552-c76f-4f20-9b7f-b0d2d7c7ed2d\" data-root-id=\"p1139\" style=\"display: contents;\"></div>\n"
      ]
     },
     "metadata": {},
     "output_type": "display_data"
    },
    {
     "data": {
      "application/javascript": [
       "(function(root) {\n",
       "  function embed_document(root) {\n",
       "  const docs_json = {\"2e55c380-a6ca-4673-9c1d-9a1ba4ae9947\":{\"version\":\"3.1.0\",\"title\":\"Bokeh Application\",\"defs\":[],\"roots\":[{\"type\":\"object\",\"name\":\"Figure\",\"id\":\"p1139\",\"attributes\":{\"width\":700,\"height\":500,\"x_range\":{\"type\":\"object\",\"name\":\"DataRange1d\",\"id\":\"p1140\"},\"y_range\":{\"type\":\"object\",\"name\":\"DataRange1d\",\"id\":\"p1141\"},\"x_scale\":{\"type\":\"object\",\"name\":\"LinearScale\",\"id\":\"p1153\"},\"y_scale\":{\"type\":\"object\",\"name\":\"LinearScale\",\"id\":\"p1155\"},\"title\":{\"type\":\"object\",\"name\":\"Title\",\"id\":\"p1142\",\"attributes\":{\"text\":\"Figure 2\"}},\"renderers\":[{\"type\":\"object\",\"name\":\"GlyphRenderer\",\"id\":\"p1192\",\"attributes\":{\"data_source\":{\"type\":\"object\",\"name\":\"ColumnDataSource\",\"id\":\"p1186\",\"attributes\":{\"selected\":{\"type\":\"object\",\"name\":\"Selection\",\"id\":\"p1187\",\"attributes\":{\"indices\":[],\"line_indices\":[]}},\"selection_policy\":{\"type\":\"object\",\"name\":\"UnionRenderers\",\"id\":\"p1188\"},\"data\":{\"type\":\"map\",\"entries\":[[\"top\",{\"type\":\"ndarray\",\"array\":{\"type\":\"bytes\",\"data\":\"AgAAAAAAAAAAAAAAAQAAAAAAAAAAAAAAAAAAAAAAAAACAAAAAgAAAA==\"},\"shape\":[10],\"dtype\":\"int32\",\"order\":\"little\"}],[\"left\",{\"type\":\"ndarray\",\"array\":{\"type\":\"bytes\",\"data\":\"AAAAAAAAHECamZmZmRlCQJqZmZmZWVBAZmZmZmamV0AzMzMzM/NeQAAAAAAAIGNAZmZmZmbGZkDNzMzMzGxqQDMzMzMzE25AzczMzMzccEA=\"},\"shape\":[10],\"dtype\":\"float64\",\"order\":\"little\"}],[\"right\",{\"type\":\"ndarray\",\"array\":{\"type\":\"bytes\",\"data\":\"mpmZmZkZQkCamZmZmVlQQGZmZmZmpldAMzMzMzPzXkAAAAAAACBjQGZmZmZmxmZAzczMzMxsakAzMzMzMxNuQM3MzMzM3HBAAAAAAACwckA=\"},\"shape\":[10],\"dtype\":\"float64\",\"order\":\"little\"}]]}}},\"view\":{\"type\":\"object\",\"name\":\"CDSView\",\"id\":\"p1193\",\"attributes\":{\"filter\":{\"type\":\"object\",\"name\":\"AllIndices\",\"id\":\"p1194\"}}},\"glyph\":{\"type\":\"object\",\"name\":\"Quad\",\"id\":\"p1189\",\"attributes\":{\"left\":{\"type\":\"field\",\"field\":\"left\"},\"right\":{\"type\":\"field\",\"field\":\"right\"},\"bottom\":{\"type\":\"value\",\"value\":0},\"top\":{\"type\":\"field\",\"field\":\"top\"},\"line_color\":{\"type\":\"value\",\"value\":\"white\"},\"fill_color\":{\"type\":\"value\",\"value\":\"black\"}}},\"nonselection_glyph\":{\"type\":\"object\",\"name\":\"Quad\",\"id\":\"p1190\",\"attributes\":{\"left\":{\"type\":\"field\",\"field\":\"left\"},\"right\":{\"type\":\"field\",\"field\":\"right\"},\"bottom\":{\"type\":\"value\",\"value\":0},\"top\":{\"type\":\"field\",\"field\":\"top\"},\"line_color\":{\"type\":\"value\",\"value\":\"white\"},\"line_alpha\":{\"type\":\"value\",\"value\":0.1},\"fill_color\":{\"type\":\"value\",\"value\":\"black\"},\"fill_alpha\":{\"type\":\"value\",\"value\":0.1},\"hatch_alpha\":{\"type\":\"value\",\"value\":0.1}}},\"muted_glyph\":{\"type\":\"object\",\"name\":\"Quad\",\"id\":\"p1191\",\"attributes\":{\"left\":{\"type\":\"field\",\"field\":\"left\"},\"right\":{\"type\":\"field\",\"field\":\"right\"},\"bottom\":{\"type\":\"value\",\"value\":0},\"top\":{\"type\":\"field\",\"field\":\"top\"},\"line_color\":{\"type\":\"value\",\"value\":\"white\"},\"line_alpha\":{\"type\":\"value\",\"value\":0.2},\"fill_color\":{\"type\":\"value\",\"value\":\"black\"},\"fill_alpha\":{\"type\":\"value\",\"value\":0.2},\"hatch_alpha\":{\"type\":\"value\",\"value\":0.2}}}}}],\"toolbar\":{\"type\":\"object\",\"name\":\"Toolbar\",\"id\":\"p1146\",\"attributes\":{\"tools\":[{\"type\":\"object\",\"name\":\"PanTool\",\"id\":\"p1171\"},{\"type\":\"object\",\"name\":\"WheelZoomTool\",\"id\":\"p1172\"},{\"type\":\"object\",\"name\":\"BoxZoomTool\",\"id\":\"p1173\",\"attributes\":{\"overlay\":{\"type\":\"object\",\"name\":\"BoxAnnotation\",\"id\":\"p1174\",\"attributes\":{\"syncable\":false,\"level\":\"overlay\",\"visible\":false,\"left_units\":\"canvas\",\"right_units\":\"canvas\",\"bottom_units\":\"canvas\",\"top_units\":\"canvas\",\"line_color\":\"black\",\"line_alpha\":1.0,\"line_width\":2,\"line_dash\":[4,4],\"fill_color\":\"lightgrey\",\"fill_alpha\":0.5}}}},{\"type\":\"object\",\"name\":\"SaveTool\",\"id\":\"p1175\"},{\"type\":\"object\",\"name\":\"ResetTool\",\"id\":\"p1176\"},{\"type\":\"object\",\"name\":\"HelpTool\",\"id\":\"p1177\"}]}},\"toolbar_location\":null,\"left\":[{\"type\":\"object\",\"name\":\"LinearAxis\",\"id\":\"p1164\",\"attributes\":{\"ticker\":{\"type\":\"object\",\"name\":\"BasicTicker\",\"id\":\"p1166\",\"attributes\":{\"mantissas\":[1,2,5]}},\"formatter\":{\"type\":\"object\",\"name\":\"BasicTickFormatter\",\"id\":\"p1167\"},\"axis_label\":\"Gene Sets\",\"axis_label_text_font_size\":\"18pt\",\"major_label_policy\":{\"type\":\"object\",\"name\":\"AllLabels\",\"id\":\"p1165\"}}}],\"below\":[{\"type\":\"object\",\"name\":\"LinearAxis\",\"id\":\"p1157\",\"attributes\":{\"ticker\":{\"type\":\"object\",\"name\":\"BasicTicker\",\"id\":\"p1159\",\"attributes\":{\"mantissas\":[1,2,5]}},\"formatter\":{\"type\":\"object\",\"name\":\"BasicTickFormatter\",\"id\":\"p1160\"},\"axis_label\":\"Genes in Gene Set\",\"axis_label_text_font_size\":\"18pt\",\"major_label_policy\":{\"type\":\"object\",\"name\":\"AllLabels\",\"id\":\"p1158\"}}}],\"center\":[{\"type\":\"object\",\"name\":\"Grid\",\"id\":\"p1163\",\"attributes\":{\"axis\":{\"id\":\"p1157\"}}},{\"type\":\"object\",\"name\":\"Grid\",\"id\":\"p1170\",\"attributes\":{\"dimension\":1,\"axis\":{\"id\":\"p1164\"}}}]}}],\"callbacks\":{\"type\":\"map\"}}};\n",
       "  const render_items = [{\"docid\":\"2e55c380-a6ca-4673-9c1d-9a1ba4ae9947\",\"roots\":{\"p1139\":\"46460552-c76f-4f20-9b7f-b0d2d7c7ed2d\"},\"root_ids\":[\"p1139\"]}];\n",
       "  root.Bokeh.embed.embed_items_notebook(docs_json, render_items);\n",
       "  }\n",
       "  if (root.Bokeh !== undefined) {\n",
       "    embed_document(root);\n",
       "  } else {\n",
       "    let attempts = 0;\n",
       "    const timer = setInterval(function(root) {\n",
       "      if (root.Bokeh !== undefined) {\n",
       "        clearInterval(timer);\n",
       "        embed_document(root);\n",
       "      } else {\n",
       "        attempts++;\n",
       "        if (attempts > 100) {\n",
       "          clearInterval(timer);\n",
       "          console.log(\"Bokeh: ERROR: Unable to run BokehJS code because BokehJS library is missing\");\n",
       "        }\n",
       "      }\n",
       "    }, 10, root)\n",
       "  }\n",
       "})(window);"
      ],
      "application/vnd.bokehjs_exec.v0+json": ""
     },
     "metadata": {
      "application/vnd.bokehjs_exec.v0+json": {
       "id": "p1139"
      }
     },
     "output_type": "display_data"
    },
    {
     "data": {
      "text/markdown": [
       "*Figure 2. Gene Set Size Distribution*"
      ],
      "text/plain": [
       "<IPython.core.display.Markdown object>"
      ]
     },
     "metadata": {},
     "output_type": "display_data"
    }
   ],
   "source": [
    "    hist, edges = np.histogram(geneset_size)\n",
    "    \n",
    "    \n",
    "    p = figure(width=700, height=500, toolbar_location= None,\n",
    "           title=\"Figure 2\", \n",
    "            x_axis_label = 'Genes in Gene Set',\n",
    "            y_axis_label  = 'Gene Sets', )\n",
    "    p.yaxis.axis_label_text_font_size = \"18pt\"\n",
    "    p.xaxis.axis_label_text_font_size = \"18pt\"\n",
    "    \n",
    "    p.quad(top=hist, bottom=0, left=edges[:-1], right=edges[1:],\n",
    "         fill_color=\"black\", line_color=\"white\")\n",
    "    \n",
    "    show(p)\n",
    "    display(Markdown(\"*Figure 2. Gene Set Size Distribution*\"))\n",
    "    "
   ]
  },
  {
   "cell_type": "code",
   "execution_count": 29,
   "metadata": {},
   "outputs": [],
   "source": [
    "def plot_BH_sig_pairs(pair_df, top_results = 15):\n",
    "    sig_df = pair_df[pair_df['BH_sig'] == True]\n",
    "    sig_df = sig_df.sort_values(by = '-log10_BH_pval', ascending = False)\n",
    "    os.makedirs(\"pvalues\", exist_ok = True)\n",
    "    sig_df.to_csv(\"pvalues/\" + \"log10_BH_Corrected_P-values.csv\")\n",
    "    sig_df = sig_df[0:5]\n",
    "    sig_df = sig_df[0:top_results].sort_values(by = '-log10_BH_pval', ascending = True)\n",
    "    print(sig_df.index.tolist())\n",
    "    y = sig_df.index.tolist()\n",
    "    y = [tup1+r'/'+tup2 for tup1, tup2 in y]\n",
    "    print(y)\n",
    "    plot = [go.Bar(x = sig_df['-log10_BH_pval'].tolist(), name = None, showlegend = False, orientation = 'h', textposition = 'inside', insidetextanchor = 'start', text = y)]\n",
    "    fig = go.Figure(plot)\n",
    "    fig.update_xaxes(title_text = '-log10(BH-corrected P-value)')\n",
    "    fig.update_yaxes(title_text = 'Term Pairs')\n",
    "    fig.write_image('pvalues/Benjamini Hochberg Corrected P-values' + '.png')\n",
    "    fig.write_image('pvalues/Benjamini Hochberg Corrected P-values' + '.svg')\n",
    "    fig.write_image('pvalues/Benjamini Hochberg Corrected P-values' + '.pdf')\n",
    "        \n",
    "    \n",
    "    \n",
    "    iplot(fig)\n",
    "    \n",
    "    \n",
    "\n",
    "    \n"
   ]
  },
  {
   "cell_type": "code",
   "execution_count": 30,
   "metadata": {},
   "outputs": [
    {
     "name": "stdout",
     "output_type": "stream",
     "text": [
      "[('NFATC2 human tf ARCHS4 coexpression', 'NFATC2 human'), ('NFATC2 human tf ARCHS4 coexpression', 'NFATC2'), ('NFATC2 human', 'NFATC2 Up'), ('NFATC2 human', 'NFATC2 Down'), ('NFATC2 mouse', 'NFATC2 Down')]\n",
      "['NFATC2 human tf ARCHS4 coexpression/NFATC2 human', 'NFATC2 human tf ARCHS4 coexpression/NFATC2', 'NFATC2 human/NFATC2 Up', 'NFATC2 human/NFATC2 Down', 'NFATC2 mouse/NFATC2 Down']\n"
     ]
    },
    {
     "data": {
      "application/vnd.plotly.v1+json": {
       "config": {
        "linkText": "Export to plot.ly",
        "plotlyServerURL": "https://plot.ly",
        "showLink": false
       },
       "data": [
        {
         "insidetextanchor": "start",
         "orientation": "h",
         "showlegend": false,
         "text": [
          "NFATC2 human tf ARCHS4 coexpression/NFATC2 human",
          "NFATC2 human tf ARCHS4 coexpression/NFATC2",
          "NFATC2 human/NFATC2 Up",
          "NFATC2 human/NFATC2 Down",
          "NFATC2 mouse/NFATC2 Down"
         ],
         "textposition": "inside",
         "type": "bar",
         "x": [
          12.545926702572473,
          12.545926702572473,
          12.545926702572473,
          12.545926702572473,
          12.545926702572473
         ]
        }
       ],
       "layout": {
        "template": {
         "data": {
          "bar": [
           {
            "error_x": {
             "color": "#2a3f5f"
            },
            "error_y": {
             "color": "#2a3f5f"
            },
            "marker": {
             "line": {
              "color": "#E5ECF6",
              "width": 0.5
             },
             "pattern": {
              "fillmode": "overlay",
              "size": 10,
              "solidity": 0.2
             }
            },
            "type": "bar"
           }
          ],
          "barpolar": [
           {
            "marker": {
             "line": {
              "color": "#E5ECF6",
              "width": 0.5
             },
             "pattern": {
              "fillmode": "overlay",
              "size": 10,
              "solidity": 0.2
             }
            },
            "type": "barpolar"
           }
          ],
          "carpet": [
           {
            "aaxis": {
             "endlinecolor": "#2a3f5f",
             "gridcolor": "white",
             "linecolor": "white",
             "minorgridcolor": "white",
             "startlinecolor": "#2a3f5f"
            },
            "baxis": {
             "endlinecolor": "#2a3f5f",
             "gridcolor": "white",
             "linecolor": "white",
             "minorgridcolor": "white",
             "startlinecolor": "#2a3f5f"
            },
            "type": "carpet"
           }
          ],
          "choropleth": [
           {
            "colorbar": {
             "outlinewidth": 0,
             "ticks": ""
            },
            "type": "choropleth"
           }
          ],
          "contour": [
           {
            "colorbar": {
             "outlinewidth": 0,
             "ticks": ""
            },
            "colorscale": [
             [
              0,
              "#0d0887"
             ],
             [
              0.1111111111111111,
              "#46039f"
             ],
             [
              0.2222222222222222,
              "#7201a8"
             ],
             [
              0.3333333333333333,
              "#9c179e"
             ],
             [
              0.4444444444444444,
              "#bd3786"
             ],
             [
              0.5555555555555556,
              "#d8576b"
             ],
             [
              0.6666666666666666,
              "#ed7953"
             ],
             [
              0.7777777777777778,
              "#fb9f3a"
             ],
             [
              0.8888888888888888,
              "#fdca26"
             ],
             [
              1,
              "#f0f921"
             ]
            ],
            "type": "contour"
           }
          ],
          "contourcarpet": [
           {
            "colorbar": {
             "outlinewidth": 0,
             "ticks": ""
            },
            "type": "contourcarpet"
           }
          ],
          "heatmap": [
           {
            "colorbar": {
             "outlinewidth": 0,
             "ticks": ""
            },
            "colorscale": [
             [
              0,
              "#0d0887"
             ],
             [
              0.1111111111111111,
              "#46039f"
             ],
             [
              0.2222222222222222,
              "#7201a8"
             ],
             [
              0.3333333333333333,
              "#9c179e"
             ],
             [
              0.4444444444444444,
              "#bd3786"
             ],
             [
              0.5555555555555556,
              "#d8576b"
             ],
             [
              0.6666666666666666,
              "#ed7953"
             ],
             [
              0.7777777777777778,
              "#fb9f3a"
             ],
             [
              0.8888888888888888,
              "#fdca26"
             ],
             [
              1,
              "#f0f921"
             ]
            ],
            "type": "heatmap"
           }
          ],
          "heatmapgl": [
           {
            "colorbar": {
             "outlinewidth": 0,
             "ticks": ""
            },
            "colorscale": [
             [
              0,
              "#0d0887"
             ],
             [
              0.1111111111111111,
              "#46039f"
             ],
             [
              0.2222222222222222,
              "#7201a8"
             ],
             [
              0.3333333333333333,
              "#9c179e"
             ],
             [
              0.4444444444444444,
              "#bd3786"
             ],
             [
              0.5555555555555556,
              "#d8576b"
             ],
             [
              0.6666666666666666,
              "#ed7953"
             ],
             [
              0.7777777777777778,
              "#fb9f3a"
             ],
             [
              0.8888888888888888,
              "#fdca26"
             ],
             [
              1,
              "#f0f921"
             ]
            ],
            "type": "heatmapgl"
           }
          ],
          "histogram": [
           {
            "marker": {
             "pattern": {
              "fillmode": "overlay",
              "size": 10,
              "solidity": 0.2
             }
            },
            "type": "histogram"
           }
          ],
          "histogram2d": [
           {
            "colorbar": {
             "outlinewidth": 0,
             "ticks": ""
            },
            "colorscale": [
             [
              0,
              "#0d0887"
             ],
             [
              0.1111111111111111,
              "#46039f"
             ],
             [
              0.2222222222222222,
              "#7201a8"
             ],
             [
              0.3333333333333333,
              "#9c179e"
             ],
             [
              0.4444444444444444,
              "#bd3786"
             ],
             [
              0.5555555555555556,
              "#d8576b"
             ],
             [
              0.6666666666666666,
              "#ed7953"
             ],
             [
              0.7777777777777778,
              "#fb9f3a"
             ],
             [
              0.8888888888888888,
              "#fdca26"
             ],
             [
              1,
              "#f0f921"
             ]
            ],
            "type": "histogram2d"
           }
          ],
          "histogram2dcontour": [
           {
            "colorbar": {
             "outlinewidth": 0,
             "ticks": ""
            },
            "colorscale": [
             [
              0,
              "#0d0887"
             ],
             [
              0.1111111111111111,
              "#46039f"
             ],
             [
              0.2222222222222222,
              "#7201a8"
             ],
             [
              0.3333333333333333,
              "#9c179e"
             ],
             [
              0.4444444444444444,
              "#bd3786"
             ],
             [
              0.5555555555555556,
              "#d8576b"
             ],
             [
              0.6666666666666666,
              "#ed7953"
             ],
             [
              0.7777777777777778,
              "#fb9f3a"
             ],
             [
              0.8888888888888888,
              "#fdca26"
             ],
             [
              1,
              "#f0f921"
             ]
            ],
            "type": "histogram2dcontour"
           }
          ],
          "mesh3d": [
           {
            "colorbar": {
             "outlinewidth": 0,
             "ticks": ""
            },
            "type": "mesh3d"
           }
          ],
          "parcoords": [
           {
            "line": {
             "colorbar": {
              "outlinewidth": 0,
              "ticks": ""
             }
            },
            "type": "parcoords"
           }
          ],
          "pie": [
           {
            "automargin": true,
            "type": "pie"
           }
          ],
          "scatter": [
           {
            "fillpattern": {
             "fillmode": "overlay",
             "size": 10,
             "solidity": 0.2
            },
            "type": "scatter"
           }
          ],
          "scatter3d": [
           {
            "line": {
             "colorbar": {
              "outlinewidth": 0,
              "ticks": ""
             }
            },
            "marker": {
             "colorbar": {
              "outlinewidth": 0,
              "ticks": ""
             }
            },
            "type": "scatter3d"
           }
          ],
          "scattercarpet": [
           {
            "marker": {
             "colorbar": {
              "outlinewidth": 0,
              "ticks": ""
             }
            },
            "type": "scattercarpet"
           }
          ],
          "scattergeo": [
           {
            "marker": {
             "colorbar": {
              "outlinewidth": 0,
              "ticks": ""
             }
            },
            "type": "scattergeo"
           }
          ],
          "scattergl": [
           {
            "marker": {
             "colorbar": {
              "outlinewidth": 0,
              "ticks": ""
             }
            },
            "type": "scattergl"
           }
          ],
          "scattermapbox": [
           {
            "marker": {
             "colorbar": {
              "outlinewidth": 0,
              "ticks": ""
             }
            },
            "type": "scattermapbox"
           }
          ],
          "scatterpolar": [
           {
            "marker": {
             "colorbar": {
              "outlinewidth": 0,
              "ticks": ""
             }
            },
            "type": "scatterpolar"
           }
          ],
          "scatterpolargl": [
           {
            "marker": {
             "colorbar": {
              "outlinewidth": 0,
              "ticks": ""
             }
            },
            "type": "scatterpolargl"
           }
          ],
          "scatterternary": [
           {
            "marker": {
             "colorbar": {
              "outlinewidth": 0,
              "ticks": ""
             }
            },
            "type": "scatterternary"
           }
          ],
          "surface": [
           {
            "colorbar": {
             "outlinewidth": 0,
             "ticks": ""
            },
            "colorscale": [
             [
              0,
              "#0d0887"
             ],
             [
              0.1111111111111111,
              "#46039f"
             ],
             [
              0.2222222222222222,
              "#7201a8"
             ],
             [
              0.3333333333333333,
              "#9c179e"
             ],
             [
              0.4444444444444444,
              "#bd3786"
             ],
             [
              0.5555555555555556,
              "#d8576b"
             ],
             [
              0.6666666666666666,
              "#ed7953"
             ],
             [
              0.7777777777777778,
              "#fb9f3a"
             ],
             [
              0.8888888888888888,
              "#fdca26"
             ],
             [
              1,
              "#f0f921"
             ]
            ],
            "type": "surface"
           }
          ],
          "table": [
           {
            "cells": {
             "fill": {
              "color": "#EBF0F8"
             },
             "line": {
              "color": "white"
             }
            },
            "header": {
             "fill": {
              "color": "#C8D4E3"
             },
             "line": {
              "color": "white"
             }
            },
            "type": "table"
           }
          ]
         },
         "layout": {
          "annotationdefaults": {
           "arrowcolor": "#2a3f5f",
           "arrowhead": 0,
           "arrowwidth": 1
          },
          "autotypenumbers": "strict",
          "coloraxis": {
           "colorbar": {
            "outlinewidth": 0,
            "ticks": ""
           }
          },
          "colorscale": {
           "diverging": [
            [
             0,
             "#8e0152"
            ],
            [
             0.1,
             "#c51b7d"
            ],
            [
             0.2,
             "#de77ae"
            ],
            [
             0.3,
             "#f1b6da"
            ],
            [
             0.4,
             "#fde0ef"
            ],
            [
             0.5,
             "#f7f7f7"
            ],
            [
             0.6,
             "#e6f5d0"
            ],
            [
             0.7,
             "#b8e186"
            ],
            [
             0.8,
             "#7fbc41"
            ],
            [
             0.9,
             "#4d9221"
            ],
            [
             1,
             "#276419"
            ]
           ],
           "sequential": [
            [
             0,
             "#0d0887"
            ],
            [
             0.1111111111111111,
             "#46039f"
            ],
            [
             0.2222222222222222,
             "#7201a8"
            ],
            [
             0.3333333333333333,
             "#9c179e"
            ],
            [
             0.4444444444444444,
             "#bd3786"
            ],
            [
             0.5555555555555556,
             "#d8576b"
            ],
            [
             0.6666666666666666,
             "#ed7953"
            ],
            [
             0.7777777777777778,
             "#fb9f3a"
            ],
            [
             0.8888888888888888,
             "#fdca26"
            ],
            [
             1,
             "#f0f921"
            ]
           ],
           "sequentialminus": [
            [
             0,
             "#0d0887"
            ],
            [
             0.1111111111111111,
             "#46039f"
            ],
            [
             0.2222222222222222,
             "#7201a8"
            ],
            [
             0.3333333333333333,
             "#9c179e"
            ],
            [
             0.4444444444444444,
             "#bd3786"
            ],
            [
             0.5555555555555556,
             "#d8576b"
            ],
            [
             0.6666666666666666,
             "#ed7953"
            ],
            [
             0.7777777777777778,
             "#fb9f3a"
            ],
            [
             0.8888888888888888,
             "#fdca26"
            ],
            [
             1,
             "#f0f921"
            ]
           ]
          },
          "colorway": [
           "#636efa",
           "#EF553B",
           "#00cc96",
           "#ab63fa",
           "#FFA15A",
           "#19d3f3",
           "#FF6692",
           "#B6E880",
           "#FF97FF",
           "#FECB52"
          ],
          "font": {
           "color": "#2a3f5f"
          },
          "geo": {
           "bgcolor": "white",
           "lakecolor": "white",
           "landcolor": "#E5ECF6",
           "showlakes": true,
           "showland": true,
           "subunitcolor": "white"
          },
          "hoverlabel": {
           "align": "left"
          },
          "hovermode": "closest",
          "mapbox": {
           "style": "light"
          },
          "paper_bgcolor": "white",
          "plot_bgcolor": "#E5ECF6",
          "polar": {
           "angularaxis": {
            "gridcolor": "white",
            "linecolor": "white",
            "ticks": ""
           },
           "bgcolor": "#E5ECF6",
           "radialaxis": {
            "gridcolor": "white",
            "linecolor": "white",
            "ticks": ""
           }
          },
          "scene": {
           "xaxis": {
            "backgroundcolor": "#E5ECF6",
            "gridcolor": "white",
            "gridwidth": 2,
            "linecolor": "white",
            "showbackground": true,
            "ticks": "",
            "zerolinecolor": "white"
           },
           "yaxis": {
            "backgroundcolor": "#E5ECF6",
            "gridcolor": "white",
            "gridwidth": 2,
            "linecolor": "white",
            "showbackground": true,
            "ticks": "",
            "zerolinecolor": "white"
           },
           "zaxis": {
            "backgroundcolor": "#E5ECF6",
            "gridcolor": "white",
            "gridwidth": 2,
            "linecolor": "white",
            "showbackground": true,
            "ticks": "",
            "zerolinecolor": "white"
           }
          },
          "shapedefaults": {
           "line": {
            "color": "#2a3f5f"
           }
          },
          "ternary": {
           "aaxis": {
            "gridcolor": "white",
            "linecolor": "white",
            "ticks": ""
           },
           "baxis": {
            "gridcolor": "white",
            "linecolor": "white",
            "ticks": ""
           },
           "bgcolor": "#E5ECF6",
           "caxis": {
            "gridcolor": "white",
            "linecolor": "white",
            "ticks": ""
           }
          },
          "title": {
           "x": 0.05
          },
          "xaxis": {
           "automargin": true,
           "gridcolor": "white",
           "linecolor": "white",
           "ticks": "",
           "title": {
            "standoff": 15
           },
           "zerolinecolor": "white",
           "zerolinewidth": 2
          },
          "yaxis": {
           "automargin": true,
           "gridcolor": "white",
           "linecolor": "white",
           "ticks": "",
           "title": {
            "standoff": 15
           },
           "zerolinecolor": "white",
           "zerolinewidth": 2
          }
         }
        },
        "xaxis": {
         "title": {
          "text": "-log10(BH-corrected P-value)"
         }
        },
        "yaxis": {
         "title": {
          "text": "Term Pairs"
         }
        }
       }
      },
      "text/html": [
       "<div>                            <div id=\"e23ad45e-ad7c-41d8-a743-5ad8531e5eee\" class=\"plotly-graph-div\" style=\"height:525px; width:100%;\"></div>            <script type=\"text/javascript\">                require([\"plotly\"], function(Plotly) {                    window.PLOTLYENV=window.PLOTLYENV || {};                                    if (document.getElementById(\"e23ad45e-ad7c-41d8-a743-5ad8531e5eee\")) {                    Plotly.newPlot(                        \"e23ad45e-ad7c-41d8-a743-5ad8531e5eee\",                        [{\"insidetextanchor\":\"start\",\"orientation\":\"h\",\"showlegend\":false,\"text\":[\"NFATC2 human tf ARCHS4 coexpression/NFATC2 human\",\"NFATC2 human tf ARCHS4 coexpression/NFATC2\",\"NFATC2 human/NFATC2 Up\",\"NFATC2 human/NFATC2 Down\",\"NFATC2 mouse/NFATC2 Down\"],\"textposition\":\"inside\",\"x\":[12.545926702572473,12.545926702572473,12.545926702572473,12.545926702572473,12.545926702572473],\"type\":\"bar\"}],                        {\"template\":{\"data\":{\"barpolar\":[{\"marker\":{\"line\":{\"color\":\"#E5ECF6\",\"width\":0.5},\"pattern\":{\"fillmode\":\"overlay\",\"size\":10,\"solidity\":0.2}},\"type\":\"barpolar\"}],\"bar\":[{\"error_x\":{\"color\":\"#2a3f5f\"},\"error_y\":{\"color\":\"#2a3f5f\"},\"marker\":{\"line\":{\"color\":\"#E5ECF6\",\"width\":0.5},\"pattern\":{\"fillmode\":\"overlay\",\"size\":10,\"solidity\":0.2}},\"type\":\"bar\"}],\"carpet\":[{\"aaxis\":{\"endlinecolor\":\"#2a3f5f\",\"gridcolor\":\"white\",\"linecolor\":\"white\",\"minorgridcolor\":\"white\",\"startlinecolor\":\"#2a3f5f\"},\"baxis\":{\"endlinecolor\":\"#2a3f5f\",\"gridcolor\":\"white\",\"linecolor\":\"white\",\"minorgridcolor\":\"white\",\"startlinecolor\":\"#2a3f5f\"},\"type\":\"carpet\"}],\"choropleth\":[{\"colorbar\":{\"outlinewidth\":0,\"ticks\":\"\"},\"type\":\"choropleth\"}],\"contourcarpet\":[{\"colorbar\":{\"outlinewidth\":0,\"ticks\":\"\"},\"type\":\"contourcarpet\"}],\"contour\":[{\"colorbar\":{\"outlinewidth\":0,\"ticks\":\"\"},\"colorscale\":[[0.0,\"#0d0887\"],[0.1111111111111111,\"#46039f\"],[0.2222222222222222,\"#7201a8\"],[0.3333333333333333,\"#9c179e\"],[0.4444444444444444,\"#bd3786\"],[0.5555555555555556,\"#d8576b\"],[0.6666666666666666,\"#ed7953\"],[0.7777777777777778,\"#fb9f3a\"],[0.8888888888888888,\"#fdca26\"],[1.0,\"#f0f921\"]],\"type\":\"contour\"}],\"heatmapgl\":[{\"colorbar\":{\"outlinewidth\":0,\"ticks\":\"\"},\"colorscale\":[[0.0,\"#0d0887\"],[0.1111111111111111,\"#46039f\"],[0.2222222222222222,\"#7201a8\"],[0.3333333333333333,\"#9c179e\"],[0.4444444444444444,\"#bd3786\"],[0.5555555555555556,\"#d8576b\"],[0.6666666666666666,\"#ed7953\"],[0.7777777777777778,\"#fb9f3a\"],[0.8888888888888888,\"#fdca26\"],[1.0,\"#f0f921\"]],\"type\":\"heatmapgl\"}],\"heatmap\":[{\"colorbar\":{\"outlinewidth\":0,\"ticks\":\"\"},\"colorscale\":[[0.0,\"#0d0887\"],[0.1111111111111111,\"#46039f\"],[0.2222222222222222,\"#7201a8\"],[0.3333333333333333,\"#9c179e\"],[0.4444444444444444,\"#bd3786\"],[0.5555555555555556,\"#d8576b\"],[0.6666666666666666,\"#ed7953\"],[0.7777777777777778,\"#fb9f3a\"],[0.8888888888888888,\"#fdca26\"],[1.0,\"#f0f921\"]],\"type\":\"heatmap\"}],\"histogram2dcontour\":[{\"colorbar\":{\"outlinewidth\":0,\"ticks\":\"\"},\"colorscale\":[[0.0,\"#0d0887\"],[0.1111111111111111,\"#46039f\"],[0.2222222222222222,\"#7201a8\"],[0.3333333333333333,\"#9c179e\"],[0.4444444444444444,\"#bd3786\"],[0.5555555555555556,\"#d8576b\"],[0.6666666666666666,\"#ed7953\"],[0.7777777777777778,\"#fb9f3a\"],[0.8888888888888888,\"#fdca26\"],[1.0,\"#f0f921\"]],\"type\":\"histogram2dcontour\"}],\"histogram2d\":[{\"colorbar\":{\"outlinewidth\":0,\"ticks\":\"\"},\"colorscale\":[[0.0,\"#0d0887\"],[0.1111111111111111,\"#46039f\"],[0.2222222222222222,\"#7201a8\"],[0.3333333333333333,\"#9c179e\"],[0.4444444444444444,\"#bd3786\"],[0.5555555555555556,\"#d8576b\"],[0.6666666666666666,\"#ed7953\"],[0.7777777777777778,\"#fb9f3a\"],[0.8888888888888888,\"#fdca26\"],[1.0,\"#f0f921\"]],\"type\":\"histogram2d\"}],\"histogram\":[{\"marker\":{\"pattern\":{\"fillmode\":\"overlay\",\"size\":10,\"solidity\":0.2}},\"type\":\"histogram\"}],\"mesh3d\":[{\"colorbar\":{\"outlinewidth\":0,\"ticks\":\"\"},\"type\":\"mesh3d\"}],\"parcoords\":[{\"line\":{\"colorbar\":{\"outlinewidth\":0,\"ticks\":\"\"}},\"type\":\"parcoords\"}],\"pie\":[{\"automargin\":true,\"type\":\"pie\"}],\"scatter3d\":[{\"line\":{\"colorbar\":{\"outlinewidth\":0,\"ticks\":\"\"}},\"marker\":{\"colorbar\":{\"outlinewidth\":0,\"ticks\":\"\"}},\"type\":\"scatter3d\"}],\"scattercarpet\":[{\"marker\":{\"colorbar\":{\"outlinewidth\":0,\"ticks\":\"\"}},\"type\":\"scattercarpet\"}],\"scattergeo\":[{\"marker\":{\"colorbar\":{\"outlinewidth\":0,\"ticks\":\"\"}},\"type\":\"scattergeo\"}],\"scattergl\":[{\"marker\":{\"colorbar\":{\"outlinewidth\":0,\"ticks\":\"\"}},\"type\":\"scattergl\"}],\"scattermapbox\":[{\"marker\":{\"colorbar\":{\"outlinewidth\":0,\"ticks\":\"\"}},\"type\":\"scattermapbox\"}],\"scatterpolargl\":[{\"marker\":{\"colorbar\":{\"outlinewidth\":0,\"ticks\":\"\"}},\"type\":\"scatterpolargl\"}],\"scatterpolar\":[{\"marker\":{\"colorbar\":{\"outlinewidth\":0,\"ticks\":\"\"}},\"type\":\"scatterpolar\"}],\"scatter\":[{\"fillpattern\":{\"fillmode\":\"overlay\",\"size\":10,\"solidity\":0.2},\"type\":\"scatter\"}],\"scatterternary\":[{\"marker\":{\"colorbar\":{\"outlinewidth\":0,\"ticks\":\"\"}},\"type\":\"scatterternary\"}],\"surface\":[{\"colorbar\":{\"outlinewidth\":0,\"ticks\":\"\"},\"colorscale\":[[0.0,\"#0d0887\"],[0.1111111111111111,\"#46039f\"],[0.2222222222222222,\"#7201a8\"],[0.3333333333333333,\"#9c179e\"],[0.4444444444444444,\"#bd3786\"],[0.5555555555555556,\"#d8576b\"],[0.6666666666666666,\"#ed7953\"],[0.7777777777777778,\"#fb9f3a\"],[0.8888888888888888,\"#fdca26\"],[1.0,\"#f0f921\"]],\"type\":\"surface\"}],\"table\":[{\"cells\":{\"fill\":{\"color\":\"#EBF0F8\"},\"line\":{\"color\":\"white\"}},\"header\":{\"fill\":{\"color\":\"#C8D4E3\"},\"line\":{\"color\":\"white\"}},\"type\":\"table\"}]},\"layout\":{\"annotationdefaults\":{\"arrowcolor\":\"#2a3f5f\",\"arrowhead\":0,\"arrowwidth\":1},\"autotypenumbers\":\"strict\",\"coloraxis\":{\"colorbar\":{\"outlinewidth\":0,\"ticks\":\"\"}},\"colorscale\":{\"diverging\":[[0,\"#8e0152\"],[0.1,\"#c51b7d\"],[0.2,\"#de77ae\"],[0.3,\"#f1b6da\"],[0.4,\"#fde0ef\"],[0.5,\"#f7f7f7\"],[0.6,\"#e6f5d0\"],[0.7,\"#b8e186\"],[0.8,\"#7fbc41\"],[0.9,\"#4d9221\"],[1,\"#276419\"]],\"sequential\":[[0.0,\"#0d0887\"],[0.1111111111111111,\"#46039f\"],[0.2222222222222222,\"#7201a8\"],[0.3333333333333333,\"#9c179e\"],[0.4444444444444444,\"#bd3786\"],[0.5555555555555556,\"#d8576b\"],[0.6666666666666666,\"#ed7953\"],[0.7777777777777778,\"#fb9f3a\"],[0.8888888888888888,\"#fdca26\"],[1.0,\"#f0f921\"]],\"sequentialminus\":[[0.0,\"#0d0887\"],[0.1111111111111111,\"#46039f\"],[0.2222222222222222,\"#7201a8\"],[0.3333333333333333,\"#9c179e\"],[0.4444444444444444,\"#bd3786\"],[0.5555555555555556,\"#d8576b\"],[0.6666666666666666,\"#ed7953\"],[0.7777777777777778,\"#fb9f3a\"],[0.8888888888888888,\"#fdca26\"],[1.0,\"#f0f921\"]]},\"colorway\":[\"#636efa\",\"#EF553B\",\"#00cc96\",\"#ab63fa\",\"#FFA15A\",\"#19d3f3\",\"#FF6692\",\"#B6E880\",\"#FF97FF\",\"#FECB52\"],\"font\":{\"color\":\"#2a3f5f\"},\"geo\":{\"bgcolor\":\"white\",\"lakecolor\":\"white\",\"landcolor\":\"#E5ECF6\",\"showlakes\":true,\"showland\":true,\"subunitcolor\":\"white\"},\"hoverlabel\":{\"align\":\"left\"},\"hovermode\":\"closest\",\"mapbox\":{\"style\":\"light\"},\"paper_bgcolor\":\"white\",\"plot_bgcolor\":\"#E5ECF6\",\"polar\":{\"angularaxis\":{\"gridcolor\":\"white\",\"linecolor\":\"white\",\"ticks\":\"\"},\"bgcolor\":\"#E5ECF6\",\"radialaxis\":{\"gridcolor\":\"white\",\"linecolor\":\"white\",\"ticks\":\"\"}},\"scene\":{\"xaxis\":{\"backgroundcolor\":\"#E5ECF6\",\"gridcolor\":\"white\",\"gridwidth\":2,\"linecolor\":\"white\",\"showbackground\":true,\"ticks\":\"\",\"zerolinecolor\":\"white\"},\"yaxis\":{\"backgroundcolor\":\"#E5ECF6\",\"gridcolor\":\"white\",\"gridwidth\":2,\"linecolor\":\"white\",\"showbackground\":true,\"ticks\":\"\",\"zerolinecolor\":\"white\"},\"zaxis\":{\"backgroundcolor\":\"#E5ECF6\",\"gridcolor\":\"white\",\"gridwidth\":2,\"linecolor\":\"white\",\"showbackground\":true,\"ticks\":\"\",\"zerolinecolor\":\"white\"}},\"shapedefaults\":{\"line\":{\"color\":\"#2a3f5f\"}},\"ternary\":{\"aaxis\":{\"gridcolor\":\"white\",\"linecolor\":\"white\",\"ticks\":\"\"},\"baxis\":{\"gridcolor\":\"white\",\"linecolor\":\"white\",\"ticks\":\"\"},\"bgcolor\":\"#E5ECF6\",\"caxis\":{\"gridcolor\":\"white\",\"linecolor\":\"white\",\"ticks\":\"\"}},\"title\":{\"x\":0.05},\"xaxis\":{\"automargin\":true,\"gridcolor\":\"white\",\"linecolor\":\"white\",\"ticks\":\"\",\"title\":{\"standoff\":15},\"zerolinecolor\":\"white\",\"zerolinewidth\":2},\"yaxis\":{\"automargin\":true,\"gridcolor\":\"white\",\"linecolor\":\"white\",\"ticks\":\"\",\"title\":{\"standoff\":15},\"zerolinecolor\":\"white\",\"zerolinewidth\":2}}},\"xaxis\":{\"title\":{\"text\":\"-log10(BH-corrected P-value)\"}},\"yaxis\":{\"title\":{\"text\":\"Term Pairs\"}}},                        {\"responsive\": true}                    ).then(function(){\n",
       "                            \n",
       "var gd = document.getElementById('e23ad45e-ad7c-41d8-a743-5ad8531e5eee');\n",
       "var x = new MutationObserver(function (mutations, observer) {{\n",
       "        var display = window.getComputedStyle(gd).display;\n",
       "        if (!display || display === 'none') {{\n",
       "            console.log([gd, 'removed!']);\n",
       "            Plotly.purge(gd);\n",
       "            observer.disconnect();\n",
       "        }}\n",
       "}});\n",
       "\n",
       "// Listen for the removal of the full notebook cells\n",
       "var notebookContainer = gd.closest('#notebook-container');\n",
       "if (notebookContainer) {{\n",
       "    x.observe(notebookContainer, {childList: true});\n",
       "}}\n",
       "\n",
       "// Listen for the clearing of the current output cell\n",
       "var outputEl = gd.closest('.output');\n",
       "if (outputEl) {{\n",
       "    x.observe(outputEl, {childList: true});\n",
       "}}\n",
       "\n",
       "                        })                };                });            </script>        </div>"
      ]
     },
     "metadata": {},
     "output_type": "display_data"
    },
    {
     "data": {
      "text/markdown": [
       "*Figure 3. Most Significant Pairwise Intersections (Benjamini-Hochberg Corrected, -log10 transformed)*"
      ],
      "text/plain": [
       "<IPython.core.display.Markdown object>"
      ]
     },
     "metadata": {},
     "output_type": "display_data"
    },
    {
     "data": {
      "text/html": [
       "Download All Significant Corrected P-Values:     <a href='pvalues/log10_BH_Corrected_P-values.csv' target='_blank'>pvalues/log10_BH_Corrected_P-values.csv</a><br>"
      ],
      "text/plain": [
       "C:\\Users\\groga\\OneDrive\\Desktop\\MtSinai\\appyter-catalog\\appyters\\GeneSetLibrarySynopsis\\pvalues\\log10_BH_Corrected_P-values.csv"
      ]
     },
     "metadata": {},
     "output_type": "display_data"
    },
    {
     "data": {
      "text/html": [
       "Download Figure 3 (PNG):              <a href='pvalues/Benjamini Hochberg Corrected P-values.png' target='_blank'>pvalues/Benjamini Hochberg Corrected P-values.png</a><br>"
      ],
      "text/plain": [
       "C:\\Users\\groga\\OneDrive\\Desktop\\MtSinai\\appyter-catalog\\appyters\\GeneSetLibrarySynopsis\\pvalues\\Benjamini Hochberg Corrected P-values.png"
      ]
     },
     "metadata": {},
     "output_type": "display_data"
    },
    {
     "data": {
      "text/html": [
       "Download Figure 3 (SVG):              <a href='pvalues/Benjamini Hochberg Corrected P-values.svg' target='_blank'>pvalues/Benjamini Hochberg Corrected P-values.svg</a><br>"
      ],
      "text/plain": [
       "C:\\Users\\groga\\OneDrive\\Desktop\\MtSinai\\appyter-catalog\\appyters\\GeneSetLibrarySynopsis\\pvalues\\Benjamini Hochberg Corrected P-values.svg"
      ]
     },
     "metadata": {},
     "output_type": "display_data"
    },
    {
     "data": {
      "text/html": [
       "Download Figure 3 (PDF):              <a href='pvalues/Benjamini Hochberg Corrected P-values.pdf' target='_blank'>pvalues/Benjamini Hochberg Corrected P-values.pdf</a><br>"
      ],
      "text/plain": [
       "C:\\Users\\groga\\OneDrive\\Desktop\\MtSinai\\appyter-catalog\\appyters\\GeneSetLibrarySynopsis\\pvalues\\Benjamini Hochberg Corrected P-values.pdf"
      ]
     },
     "metadata": {},
     "output_type": "display_data"
    }
   ],
   "source": [
    "plot_BH_sig_pairs(pair_df)\n",
    "display(Markdown(\"*Figure 3. Most Significant Pairwise Intersections (Benjamini-Hochberg Corrected, -log10 transformed)*\"))\n",
    "display(FileLink('pvalues/log10_BH_Corrected_P-values.csv', result_html_prefix= str(r'Download All Significant Corrected P-Values:     ')))\n",
    "display(FileLink('pvalues/Benjamini Hochberg Corrected P-values.png', result_html_prefix = str(r'Download Figure 3 (PNG):              ')))\n",
    "display(FileLink('pvalues/Benjamini Hochberg Corrected P-values.svg', result_html_prefix = str(r'Download Figure 3 (SVG):              ')))\n",
    "display(FileLink('pvalues/Benjamini Hochberg Corrected P-values.pdf', result_html_prefix = str(r'Download Figure 3 (PDF):              ')))\n",
    "\n"
   ]
  },
  {
   "cell_type": "markdown",
   "metadata": {},
   "source": []
  }
 ],
 "metadata": {
  "kernelspec": {
   "display_name": "venv",
   "language": "python",
   "name": "venv"
  },
  "language_info": {
   "codemirror_mode": {
    "name": "ipython",
    "version": 3
   },
   "file_extension": ".py",
   "mimetype": "text/x-python",
   "name": "python",
   "nbconvert_exporter": "python",
   "pygments_lexer": "ipython3",
   "version": "3.9.4"
  }
 },
 "nbformat": 4,
 "nbformat_minor": 2
}
