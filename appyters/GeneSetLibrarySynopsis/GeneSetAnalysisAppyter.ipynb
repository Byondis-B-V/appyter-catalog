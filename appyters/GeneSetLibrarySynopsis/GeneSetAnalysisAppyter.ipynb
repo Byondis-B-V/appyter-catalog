{
 "cells": [
  {
   "cell_type": "code",
   "execution_count": 2,
   "metadata": {},
   "outputs": [],
   "source": [
    "\n",
    "from appyter import magic\n",
    "magic.init(lambda _ = globals: _())"
   ]
  },
  {
   "cell_type": "markdown",
   "metadata": {},
   "source": [
    "# GeneSet Library Set Appyter\n",
    "This appyter is designed to perform basic statistics, analysis, and visualizations on a Gene Matrix Transpose (.GMT) file. This will allow bioinformatics researchers to analyze relationships between many different gene sets from several gene set libraries.\n",
    " To create your own GMT file, please see Enrichr. Enrichr, hosted by the Ma'ayan Laboratory at Mt. Sinai Icahn School of Medicine, is a collection of geneset libraries. "
   ]
  },
  {
   "cell_type": "code",
   "execution_count": 3,
   "metadata": {},
   "outputs": [
    {
     "name": "stderr",
     "output_type": "stream",
     "text": [
      "install tqdm for progress bar\n"
     ]
    }
   ],
   "source": [
    "import numpy as np \n",
    "import pandas as pd\n",
    "import itertools \n",
    "import bokeh\n",
    "import pathlib\n",
    "from bokeh.plotting import figure, show, save, output_file\n",
    "from maayanlab_bioinformatics.enrichment import crisp\n",
    "# from Umap_Visualization import UMAP_Visualization\n",
    "import os\n"
   ]
  },
  {
   "cell_type": "code",
   "execution_count": 4,
   "metadata": {},
   "outputs": [],
   "source": [
    "%%appyter hide_code\n",
    "\n",
    "\n",
    "{% do SectionField(name='GMTSubmission', title='1. Submit a GMT file', subtitle = 'Sumbit a GMT (Gene Matrix Transpose file) for analysis.', img = 'bulb.png') %}\n",
    "{% do SectionField (name = 'UMAP visualization', title = '2. Scatterplot Visualization', subtitle= 'Visualize relative Geneset similarities on an interactive scatterplot', img = 'bulb.png') %}\n",
    "{% do SectionField(name = 'Pairwise Similarity Table', title = '3. GeneSet Pairwise Similarity Table', subtitle = '##TODO : FINISH Explore How Similar a Pair of Gene Sets are to One Another. Use the search bar to search for Terms that are of interest. Use the sorting arrows to see', img = 'bulb.png') %}\n",
    "{% do SectionField(name = 'Pairwise Similarity Search', title = '4. GeneSet Pair Search', subtitle = '###TODO', img = 'bulb.png')%}\n",
    "{% do SectionField(name = 'GMT Descriptive Statistics', title = '5. Descriptive Statistics', subtitle = '#TODO', img = 'bulb.png') %}\n"
   ]
  },
  {
   "cell_type": "code",
   "execution_count": 5,
   "metadata": {},
   "outputs": [
    {
     "data": {
      "text/markdown": [
       "```python\n",
       "\n",
       "gs = None\n",
       "```"
      ],
      "text/plain": [
       "<IPython.core.display.Markdown object>"
      ]
     },
     "metadata": {},
     "output_type": "display_data"
    }
   ],
   "source": [
    "%%appyter code_exec\n",
    "\n",
    "{% set gs = TabField(\n",
    "    name='gs_type',\n",
    "    label='Gene Sets',\n",
    "    default='Upload',\n",
    "    choices={'Upload': [\n",
    "            FileField(\n",
    "                name='gs',\n",
    "                label='Gene Set Files',\n",
    "                default=[],\n",
    "                examples={\n",
    "                    'example.gmt': url_for('static', filename = 'Geneshot_PainGenes.gmt')\n",
    "                }\n",
    "            ),\n",
    "        ],},\n",
    "    \n",
    "section = 'GMTSubmission',)%}\n",
    "\n",
    "gs = {{gs.value[0]}}\n"
   ]
  },
  {
   "cell_type": "code",
   "execution_count": 6,
   "metadata": {},
   "outputs": [
    {
     "data": {
      "text/markdown": [
       "```python\n",
       "def load_sets(*files):\n",
       "    ''' Load a set of files into pairs of labeled sets\n",
       "    '''\n",
       "    sets = {}\n",
       "    for file in map(pathlib.Path, files):\n",
       "        path = pathlib.Path(file)\n",
       "        if file.suffix == '.gmt':\n",
       "            for line in map(str.strip, file.open('r')):\n",
       "                print(lines)\n",
       "```"
      ],
      "text/plain": [
       "<IPython.core.display.Markdown object>"
      ]
     },
     "metadata": {},
     "output_type": "display_data"
    }
   ],
   "source": [
    "%%appyter code_exec\n",
    "\n",
    "def load_sets(*files):\n",
    "    ''' Load a set of files into pairs of labeled sets\n",
    "    '''\n",
    "    sets = {}\n",
    "    for file in map(pathlib.Path, files):\n",
    "        path = pathlib.Path(file)\n",
    "        if file.suffix == '.gmt':\n",
    "            for line in map(str.strip, file.open('r')):\n",
    "                print(lines)\n",
    "                "
   ]
  },
  {
   "cell_type": "code",
   "execution_count": 21,
   "metadata": {},
   "outputs": [],
   "source": [
    "load_sets(*gs)"
   ]
  }
 ],
 "metadata": {
  "kernelspec": {
   "display_name": "venv",
   "language": "python",
   "name": "venv"
  },
  "language_info": {
   "codemirror_mode": {
    "name": "ipython",
    "version": 3
   },
   "file_extension": ".py",
   "mimetype": "text/x-python",
   "name": "python",
   "nbconvert_exporter": "python",
   "pygments_lexer": "ipython3",
   "version": "3.9.4"
  }
 },
 "nbformat": 4,
 "nbformat_minor": 2
}
