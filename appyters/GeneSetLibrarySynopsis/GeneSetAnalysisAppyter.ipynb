{
 "cells": [
  {
   "cell_type": "code",
   "execution_count": 2,
   "metadata": {},
   "outputs": [],
   "source": [
    "\n",
    "from appyter import magic\n",
    "magic.init(lambda _ = globals: _())"
   ]
  },
  {
   "cell_type": "markdown",
   "metadata": {},
   "source": [
    "# GeneSet Library Set Appyter\n",
    "This appyter is designed to perform basic statistics, analysis, and visualizations on a Gene Matrix Transpose (.GMT) file. This will allow bioinformatics researchers to analyze relationships between many different gene sets from several gene set libraries.\n",
    " To create your own GMT file, please see Enrichr. Enrichr, hosted by the Ma'ayan Laboratory at Mt. Sinai Icahn School of Medicine, is a collection of geneset libraries. "
   ]
  },
  {
   "cell_type": "code",
   "execution_count": 3,
   "metadata": {},
   "outputs": [
    {
     "name": "stderr",
     "output_type": "stream",
     "text": [
      "install tqdm for progress bar\n"
     ]
    }
   ],
   "source": [
    "import numpy as np \n",
    "import pandas as pd\n",
    "import itertools \n",
    "import bokeh\n",
    "import pathlib\n",
    "from bokeh.plotting import figure, show, save, output_file\n",
    "from maayanlab_bioinformatics.enrichment import crisp\n",
    "# from Umap_Visualization import UMAP_Visualization\n",
    "import os\n"
   ]
  },
  {
   "cell_type": "code",
   "execution_count": 4,
   "metadata": {},
   "outputs": [],
   "source": [
    "%%appyter hide_code\n",
    "\n",
    "\n",
    "{% do SectionField(name='GMTSubmission', title='1. Submit a GMT file', subtitle = 'Sumbit a GMT (Gene Matrix Transpose file) for analysis.', img = 'bulb.png') %}\n",
    "{% do SectionField (name = 'UMAP visualization', title = '2. Scatterplot Visualization', subtitle= 'Visualize relative Geneset similarities on an interactive scatterplot', img = 'bulb.png') %}\n",
    "{% do SectionField(name = 'Pairwise Similarity Table', title = '3. GeneSet Pairwise Similarity Table', subtitle = '##TODO : FINISH Explore How Similar a Pair of Gene Sets are to One Another. Use the search bar to search for Terms that are of interest. Use the sorting arrows to see', img = 'bulb.png') %}\n",
    "{% do SectionField(name = 'Pairwise Similarity Search', title = '4. GeneSet Pair Search', subtitle = '###TODO', img = 'bulb.png')%}\n",
    "{% do SectionField(name = 'GMT Descriptive Statistics', title = '5. Descriptive Statistics', subtitle = '#TODO', img = 'bulb.png') %}\n"
   ]
  },
  {
   "cell_type": "code",
   "execution_count": 12,
   "metadata": {},
   "outputs": [
    {
     "data": {
      "text/markdown": [
       "```python\n",
       "\n",
       "gs = ['Geneshot_PainGenes.gmt']\n",
       "```"
      ],
      "text/plain": [
       "<IPython.core.display.Markdown object>"
      ]
     },
     "metadata": {},
     "output_type": "display_data"
    }
   ],
   "source": [
    "%%appyter code_exec\n",
    "\n",
    "{% set gs = TabField(\n",
    "    name='gs_type',\n",
    "    label='Gene Sets',\n",
    "    default='Upload',\n",
    "    choices={'Upload': [\n",
    "            MultiFileField(\n",
    "                name='gs',\n",
    "                label='Gene Set Files',\n",
    "                default=['Geneshot_PainGenes.gmt'],\n",
    "                examples={\n",
    "                    'example.gmt': url_for('static', filename = 'Geneshot_PainGenes.gmt')\n",
    "                }\n",
    "            ),\n",
    "        ],},\n",
    "    \n",
    "section = 'GMTSubmission',)%}\n",
    "\n",
    "gs = {{gs.value[0]}}\n"
   ]
  },
  {
   "cell_type": "code",
   "execution_count": 17,
   "metadata": {},
   "outputs": [],
   "source": [
    "def series_to_list(gene_list):\n",
    "    ##helper function to convert a gene sereis to a gene list\n",
    "    ret_list = []\n",
    "    for genes in gene_list:\n",
    "        if type(genes) is str:\n",
    "            ret_list.append(genes)\n",
    "        else: ##pd series case\n",
    "            genes = genes.tolist()        \n",
    "            ret_list.append(' '.join(genes))\n",
    "    return ret_list"
   ]
  },
  {
   "cell_type": "code",
   "execution_count": 20,
   "metadata": {},
   "outputs": [
    {
     "data": {
      "text/markdown": [
       "```python\n",
       "def load_sets(*files):\n",
       "    ''' Load a set of files into pairs of labeled sets\n",
       "    '''\n",
       "    lst = []\n",
       "    for file in map(pathlib.Path, files):\n",
       "        path = pathlib.Path(file)\n",
       "        with open(path) as f:\n",
       "            lines = f.readlines()\n",
       "            for line in lines:\n",
       "                parsed_line = line.split('\\t')\n",
       "                term, library, genes = parsed_line[0], parsed_line[1], parsed_line[2:]\n",
       "                genes[-1] = genes[-1][:-2] ##trim off newline regex '\\n'\n",
       "                lst.append((term,  library, ' '.join(genes)))\n",
       "        zip_lst = [list(i) for i in zip(*lst)]\n",
       "        term, library, genes = zip_lst[0], zip_lst[1], zip_lst[2]\n",
       "        genes = series_to_list(genes)\n",
       "        df = pd.DataFrame({'Genes': genes, 'Library': library}, index = term)\n",
       "        return df\n",
       "#         if file.suffix == '.gmt':\n",
       "#             for line in map(str.strip, file.open('r')):\n",
       "```"
      ],
      "text/plain": [
       "<IPython.core.display.Markdown object>"
      ]
     },
     "metadata": {},
     "output_type": "display_data"
    }
   ],
   "source": [
    "%%appyter code_exec\n",
    "\n",
    "def load_sets(*files):\n",
    "    ''' Load a set of files into pairs of labeled sets\n",
    "    '''\n",
    "    lst = []\n",
    "    for file in map(pathlib.Path, files):\n",
    "        path = pathlib.Path(file)\n",
    "        with open(path) as f:\n",
    "            lines = f.readlines()\n",
    "            for line in lines:\n",
    "                parsed_line = line.split('\\t')\n",
    "                term, library, genes = parsed_line[0], parsed_line[1], parsed_line[2:]\n",
    "                genes[-1] = genes[-1][:-2] ##trim off newline regex '\\n'\n",
    "                lst.append((term,  library, ' '.join(genes)))\n",
    "        zip_lst = [list(i) for i in zip(*lst)]\n",
    "        term, library, genes = zip_lst[0], zip_lst[1], zip_lst[2]\n",
    "        genes = series_to_list(genes)\n",
    "        \n",
    "        df = pd.DataFrame({'Genes': genes, 'Library': library}, index = term)\n",
    "        return df\n",
    "        \n",
    "                \n",
    "            \n",
    "#         if file.suffix == '.gmt':\n",
    "#             for line in map(str.strip, file.open('r')):\n",
    "                \n",
    "                "
   ]
  },
  {
   "cell_type": "code",
   "execution_count": 24,
   "metadata": {},
   "outputs": [
    {
     "data": {
      "text/plain": [
       "A_Geneshot_PainGenes_GeneRIF_AssociatedGenes                        TRPV1 OPRM1 TRPA1 COMT SCN9A TNF IL6 IL1B CRP ...\n",
       "B_Geneshot_PainGenes_AutoRIF_AssociatedGenes                        TNF TRPV1 CRP FOS PTGS2 NGF TRPA1 BDNF CD34 PO...\n",
       "C_Geneshot_PainGenes_GeneRIF_PredictedGenes_AutoRIF-CoOccurrence    OPRD1 TRPV1 TRPA1 SCN9A OPRM1 TRPM8 TACR1 OPRK...\n",
       "Name: Genes, dtype: object"
      ]
     },
     "execution_count": 24,
     "metadata": {},
     "output_type": "execute_result"
    }
   ],
   "source": [
    "load_sets(*gs)['Genes']"
   ]
  }
 ],
 "metadata": {
  "kernelspec": {
   "display_name": "venv",
   "language": "python",
   "name": "venv"
  },
  "language_info": {
   "codemirror_mode": {
    "name": "ipython",
    "version": 3
   },
   "file_extension": ".py",
   "mimetype": "text/x-python",
   "name": "python",
   "nbconvert_exporter": "python",
   "pygments_lexer": "ipython3",
   "version": "3.9.4"
  }
 },
 "nbformat": 4,
 "nbformat_minor": 2
}
