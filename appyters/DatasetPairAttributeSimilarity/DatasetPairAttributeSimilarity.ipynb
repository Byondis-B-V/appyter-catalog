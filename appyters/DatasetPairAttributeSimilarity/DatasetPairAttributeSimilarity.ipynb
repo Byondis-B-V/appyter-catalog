{
 "cells": [
  {
   "cell_type": "code",
   "execution_count": null,
   "metadata": {},
   "outputs": [],
   "source": [
    "#%%appyter init\n",
    "from appyter import magic\n",
    "magic.init(lambda _=globals: _())"
   ]
  },
  {
   "cell_type": "markdown",
   "metadata": {},
   "source": [
    "# Dataset Pair Attribute Similarity\n",
    "## Import modules"
   ]
  },
  {
   "cell_type": "code",
   "execution_count": null,
   "metadata": {},
   "outputs": [],
   "source": [
    "import gzip\n",
    "import pandas as pd\n",
    "import numpy as np\n",
    "import matplotlib.pyplot as plt\n",
    "import seaborn as sns\n",
    "import fisher\n",
    "from IPython.display import FileLink"
   ]
  },
  {
   "cell_type": "markdown",
   "metadata": {},
   "source": [
    "## Load Gene Set Libraries"
   ]
  },
  {
   "cell_type": "code",
   "execution_count": null,
   "metadata": {},
   "outputs": [],
   "source": [
    "%%appyter hide_code\n",
    "{% do SectionField(\n",
    "    name= 'data',\n",
    "    title= 'Upload Data'\n",
    ")%}"
   ]
  },
  {
   "cell_type": "code",
   "execution_count": null,
   "metadata": {},
   "outputs": [],
   "source": [
    "# code adapted from maayanlab_bioinformatics (https://github.com/MaayanLab/maayanlab-bioinformatics)\n",
    "def load_gmt(file):\n",
    "    gmt = {}\n",
    "    for line in file:\n",
    "        term, description, *geneset = line.strip().split('\\t')\n",
    "        gmt[term] = geneset\n",
    "    return gmt"
   ]
  },
  {
   "cell_type": "markdown",
   "metadata": {},
   "source": [
    "### Dataset 1"
   ]
  },
  {
   "cell_type": "markdown",
   "metadata": {},
   "source": [
    "#### Import Gene Set Library"
   ]
  },
  {
   "cell_type": "code",
   "execution_count": null,
   "metadata": {},
   "outputs": [],
   "source": [
    "%%appyter code_eval\n",
    "{% do DescriptionField(\n",
    "    name= 'Description1',\n",
    "    text= '<center>The examples below were sourced from <a href=\"https://maayanlab.cloud/Harmonizome/\" target =\"_blank\">Harmonizome</a>.<center>',\n",
    "    section='data',\n",
    ")%}\n",
    "\n",
    "{% set dataset1 = FileField(\n",
    "    constraint= '.*\\.(txt|gmt)(\\.gz)?',\n",
    "    name= 'Dataset 1',\n",
    "    label= 'Gene Set Library 1',\n",
    "    default= 'CCLE Cell Line Gene Expression Profiles.gmt.gz',\n",
    "    examples= {\n",
    "        'CCLE Cell Line Gene Expression Profiles.gmt.gz': 'https://maayanlab.cloud/static/hdfs/harmonizome/data/cclemrna/gene_set_library_up_crisp.gmt.gz'\n",
    "    },\n",
    "    section= 'data'\n",
    ")%}\n",
    "\n",
    "gmt1 = {{dataset1}}\n",
    "\n",
    "if gmt1.split('.')[-1]=='gz':\n",
    "    with gzip.open(gmt1, mode='rt', encoding='utf-8', newline='\\n') as f:\n",
    "        f = f.read().splitlines()\n",
    "else:\n",
    "    with open(gmt1, mode='r', encoding='utf-8', newline='\\n') as f:\n",
    "        f = f.read().splitlines()\n",
    "\n",
    "ds1 = load_gmt(f)"
   ]
  },
  {
   "cell_type": "markdown",
   "metadata": {},
   "source": [
    "### Dataset 2"
   ]
  },
  {
   "cell_type": "markdown",
   "metadata": {},
   "source": [
    "### Import Gene Set Library"
   ]
  },
  {
   "cell_type": "code",
   "execution_count": null,
   "metadata": {},
   "outputs": [],
   "source": [
    "%%appyter code_eval\n",
    "\n",
    "{% set dataset2 = FileField(\n",
    "    constraint= '.*\\.(txt|gmt)(\\.gz)?',\n",
    "    name= 'Dataset 2',\n",
    "    label= 'Gene Set Library 2',\n",
    "    default= 'LINCS KinomeScan Kinase Inhibitor Targets.gmt.gz',\n",
    "    examples= {\n",
    "        'LINCS KinomeScan Kinase Inhibitor Targets.gmt.gz': 'https://maayanlab.cloud/static/hdfs/harmonizome/data/kinomescan/gene_set_library_crisp.gmt.gz'\n",
    "    },\n",
    "    section= 'data'\n",
    ")%}\n",
    "\n",
    "gmt2 = {{dataset2}}\n",
    "\n",
    "if gmt2.split('.')[-1]=='gz':\n",
    "    with gzip.open(gmt2, mode='rt', encoding='utf-8', newline='\\n') as f:\n",
    "        f = f.read().splitlines()\n",
    "else:\n",
    "    with open(gmt2, mode='r', encoding='utf-8', newline='\\n') as f:\n",
    "        f = f.read().splitlines()\n",
    "\n",
    "ds2 = load_gmt(f)"
   ]
  },
  {
   "cell_type": "markdown",
   "metadata": {},
   "source": [
    "## Calculate Dataset-Dataset Attribute Similarity\n",
    "The [Jaccard index](https://en.wikipedia.org/wiki/Jaccard_index) measures the similarity of two sets. For each gene set in Dataset 1 and Dataset 2, we'll compute how many genes are in both datasets and divide that by the number of genes in either dataset. Identical gene sets will have a Jaccard index of 1, and gene sets with no overlap will have a Jaccard index of 0."
   ]
  },
  {
   "cell_type": "code",
   "execution_count": null,
   "metadata": {},
   "outputs": [],
   "source": [
    "genes = []\n",
    "for geneset in ds1.values():\n",
    "    genes += geneset\n",
    "for geneset in ds2.values():\n",
    "    genes += geneset\n",
    "genes = np.unique(genes).shape[0]"
   ]
  },
  {
   "cell_type": "code",
   "execution_count": null,
   "metadata": {},
   "outputs": [],
   "source": [
    "jaccard = pd.DataFrame(0, index = ds1.keys(), columns = ds2.keys())\n",
    "fisherp = pd.DataFrame(0, index = ds1.keys(), columns = ds2.keys())\n",
    "\n",
    "for i in ds1:\n",
    "    cset = ds1[i]\n",
    "    for j in ds2:\n",
    "        kset = ds2[j]\n",
    "        a = np.intersect1d(cset,kset).shape[0]\n",
    "        b = np.setdiff1d(cset, kset).shape[0]\n",
    "        c = np.setdiff1d(kset,cset).shape[0]\n",
    "        d = genes - a - b - c\n",
    "        jaccard.loc[i,j] = a/(a+b+c)\n",
    "        fisherp.loc[i,j] = fisher.pvalue(a, b, c, d).two_tail\n",
    "\n",
    "display(jaccard)\n",
    "display(fisherp)"
   ]
  },
  {
   "cell_type": "markdown",
   "metadata": {},
   "source": [
    "## Analyze Results"
   ]
  },
  {
   "cell_type": "code",
   "execution_count": null,
   "metadata": {},
   "outputs": [],
   "source": [
    "jtop = jaccard.stack().sort_values(ascending=False).to_frame()\n",
    "jtop.columns =  ['Jaccard']\n",
    "jtop"
   ]
  },
  {
   "cell_type": "code",
   "execution_count": null,
   "metadata": {},
   "outputs": [],
   "source": [
    "ftop = fisherp.stack().sort_values().to_frame()\n",
    "ftop.columns =  ['p']\n",
    "ftop"
   ]
  },
  {
   "cell_type": "code",
   "execution_count": null,
   "metadata": {},
   "outputs": [],
   "source": [
    "top = pd.concat([jtop,ftop], axis=1).sort_values(['Jaccard','p'], ascending=[False,True])[:1000].reset_index()\n",
    "top.columns = ['Dataset 1 Attribute', 'Dataset 2 Attribute', 'Jaccard', 'p']\n",
    "top"
   ]
  },
  {
   "cell_type": "markdown",
   "metadata": {},
   "source": [
    "## Visualization"
   ]
  },
  {
   "cell_type": "markdown",
   "metadata": {},
   "source": [
    "### Generating Histogram of Gene Set Lengths"
   ]
  },
  {
   "cell_type": "code",
   "execution_count": null,
   "metadata": {},
   "outputs": [],
   "source": [
    "ds1len = {key: len(value) for key,value in ds1.items()}\n",
    "ds2len = {key: len(value) for key,value in ds2.items()}\n",
    "fig = plt.hist([list(ds1len.values()),list(ds2len.values())], \n",
    "               color=['red','blue'], \n",
    "               label=['Dataset 1', 'Dataset 2'])\n",
    "plt.title('Gene Set Lengths')\n",
    "plt.xlabel('Genes')\n",
    "plt.ylabel('Gene Sets')\n",
    "plt.legend()\n",
    "plt.show()"
   ]
  },
  {
   "cell_type": "markdown",
   "metadata": {},
   "source": [
    "### Generating Clustered Heatmap of Jaccard Indices"
   ]
  },
  {
   "cell_type": "code",
   "execution_count": null,
   "metadata": {},
   "outputs": [],
   "source": [
    "sns.clustermap(jaccard, cmap='seismic', center=0)"
   ]
  },
  {
   "cell_type": "markdown",
   "metadata": {},
   "source": [
    "### Generating Clustered Heatmap of Fisher Exact Test P-values"
   ]
  },
  {
   "cell_type": "code",
   "execution_count": null,
   "metadata": {},
   "outputs": [],
   "source": [
    "fishergraph = fisherp.stack().to_frame()\n",
    "fishergraph = fishergraph[fishergraph[0]<0.05].reset_index()\n",
    "fishergraph.columns = ['Dataset 1 Attribute', 'Dataset 2 Attribute', 'p']\n",
    "fishergraph = pd.crosstab(fishergraph['Dataset 1 Attribute'], fishergraph['Dataset 2 Attribute'], fishergraph['p'], aggfunc=max).replace(np.nan, fishergraph['p'].max())\n",
    "sns.clustermap(fishergraph, cmap='seismic_r', center=fishergraph.median().median(), vmax=fishergraph.median().median())"
   ]
  },
  {
   "cell_type": "markdown",
   "metadata": {},
   "source": [
    "## Export"
   ]
  },
  {
   "cell_type": "code",
   "execution_count": null,
   "metadata": {},
   "outputs": [],
   "source": [
    "gmt1 = gmt1.split('.')[0]\n",
    "gmt2 = gmt2.split('.')[0]\n",
    "output = gmt1+'_'+gmt2+'_'"
   ]
  },
  {
   "cell_type": "code",
   "execution_count": null,
   "metadata": {},
   "outputs": [],
   "source": [
    "jaccard.to_csv(output+'jaccard.tsv', sep='\\t')\n",
    "fisherp.to_csv(output+'fisher_twotail.tsv', sep='\\t')\n",
    "top.to_csv(output+'topassociations.tsv', sep='\\t')\n",
    "display(FileLink(output+'jaccard.tsv'))\n",
    "display(FileLink(output+'fisher_twotail.tsv'))\n",
    "display(FileLink(output+'topassociations.tsv'))"
   ]
  }
 ],
 "metadata": {
  "kernelspec": {
   "display_name": "Python 3.10.7 64-bit",
   "language": "python",
   "name": "python3"
  },
  "language_info": {
   "name": "python",
   "version": "3.10.7"
  },
  "vscode": {
   "interpreter": {
    "hash": "aee8b7b246df8f9039afb4144a1f6fd8d2ca17a180786b69acc140d282b71a49"
   }
  }
 },
 "nbformat": 4,
 "nbformat_minor": 2
}
