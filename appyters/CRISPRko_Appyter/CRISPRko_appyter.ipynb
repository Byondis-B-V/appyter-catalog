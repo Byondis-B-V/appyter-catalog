{
 "cells": [
  {
   "cell_type": "markdown",
   "metadata": {},
   "source": [
    "# Analysis pipeline for genome-wide CRISPRko screens\n",
    "\n",
    "This analysis pipeline for genome-wide CRISPRko screens first identifies positively and negatively-selected sgRNAs and genes using MAGeCK. A user-selected percentage of top-ranked genes are then submitted for enrichment analysis using Enrichr."
   ]
  },
  {
   "cell_type": "code",
   "execution_count": 1,
   "metadata": {},
   "outputs": [],
   "source": [
    "#%%appyter init\n",
    "from appyter import magic\n",
    "magic.init(lambda _=globals: _())"
   ]
  },
  {
   "cell_type": "code",
   "execution_count": 16,
   "metadata": {},
   "outputs": [],
   "source": [
    "import pandas as pd\n",
    "\n",
    "import subprocess\n",
    "from subprocess import Popen\n",
    "\n",
    "import os\n",
    "import traceback\n",
    "\n",
    "# Display\n",
    "import IPython\n",
    "from IPython.display import display, Markdown, HTML\n",
    "\n",
    "# For Enrichr\n",
    "import requests, json\n"
   ]
  },
  {
   "cell_type": "code",
   "execution_count": 3,
   "metadata": {},
   "outputs": [],
   "source": [
    "%%appyter hide_code_exec\n",
    "{% do SectionField(\n",
    "    name='Data_Section',\n",
    "    title='Load your Data',\n",
    "    subtitle='Upload genome-wide CRISPRko data',\n",
    "    img='analysis.png'\n",
    "    \n",
    ") %}\n",
    "\n",
    "{% do SectionField(\n",
    "    name='Mageck_Section',\n",
    "    title='Preferences for identifying positively- and negatively-selected sgRNAs and genes',\n",
    "    subtitle='Using MAGeCK (Li et al. 2014)',\n",
    "    img='analysis.png'\n",
    "    \n",
    ") %}\n",
    "\n",
    "{% do SectionField(\n",
    "    name='Enrichr_Section',\n",
    "    title='Preferences for enrichment analysis of top positively- and negatively-selected genes',\n",
    "    subtitle='Using Enrichr (Kuleshov et al. 2016)',\n",
    "    img='enrichr.png'\n",
    ") %}"
   ]
  },
  {
   "cell_type": "code",
   "execution_count": 4,
   "metadata": {},
   "outputs": [],
   "source": [
    "%%appyter code_exec\n",
    "{% set readcounts_filename = FileField(\n",
    "    name='readcounts_filename', \n",
    "    label='Upload read counts file', \n",
    "    default='GSE158298_readcounts.txt',\n",
    "\n",
    "    examples={'GSE158298_readcounts.txt': url_for('static', filename = 'GSE158298_readcounts.txt')}, \n",
    "    description='Upload read counts file. Acceptable file formats are provided in the next field.', \n",
    "    section='Data_Section')\n",
    "\n",
    "%}\n",
    "\n",
    "{% set file_format = ChoiceField(\n",
    "  name='file_format',\n",
    "  label='File format',\n",
    "  description='Please select the file format for your read counts file',\n",
    "  default='TSV (.tsv / .txt)',\n",
    "  choices={\n",
    "    'TSV (.tsv / .txt)': \"sep='\\\\t',\",\n",
    "    'GZipped TSV (.tsv.gz / .txt.gz)': \"sep='\\\\t', compression='gzip',\",\n",
    "    'CSV (.csv)': \"sep=',',\",\n",
    "    'GZipped CSV (.csv.gz)': \"compression='gzip',\",\n",
    "    'Excel Sheet 1 (.xls, .xlsx, .xlsm, .xlsb, .odf, .ods, .odt)': \"excel\",\n",
    "  },\n",
    "  section='Data_Section',\n",
    ") %}\n",
    "\n",
    "{% do DescriptionField(name = 'filter_div0', \n",
    "                       text = '<hr>', \n",
    "                       section = 'Data_Section') %}\n",
    "\n",
    "\n",
    "{% set treatment_names = StringField(\n",
    "    name='treatment_names', \n",
    "    label='Column labels for treatment samples', \n",
    "    default='SARS2MOI001, SARS2MOI03', \n",
    "    description='Column labels for treatment samples, separated by commas', \n",
    "    section='Data_Section')\n",
    "%}\n",
    "\n",
    "{% set control_names = StringField(\n",
    "    name='control_names', \n",
    "    label='Column labels for control samples', \n",
    "    default='PreInfection, PreInfection', \n",
    "    description='Column labels for control samples, separated by commas', \n",
    "    section='Data_Section')\n",
    "%}\n",
    "\n"
   ]
  },
  {
   "cell_type": "code",
   "execution_count": 5,
   "metadata": {},
   "outputs": [],
   "source": [
    "%%appyter code_exec\n",
    "\n",
    "{% set negcontrol_filename = FileField(\n",
    "    name='negcontrol_filename', \n",
    "    label='Optional: Upload list of control sgRNAs', \n",
    "    default='GSE158298_negativecontrol.txt',\n",
    "\n",
    "    examples={'GSE158298_negativecontrol.txt': url_for('static', filename = 'GSE158298_negativecontrol.txt')}, \n",
    "    description='Upload control sgRNAs as a plain text (TXT) file with one control sgRNA label per line', \n",
    "    section='Mageck_Section')\n",
    "\n",
    "%}\n",
    "\n",
    "{% set norm_method = ChoiceField(\n",
    "  name='norm_method',\n",
    "  label='Normalization method',\n",
    "  description='Normalization method for ranking sgRNAs and genes. Select the \\'control\\' option if you have provided a list of control sgRNAs',\n",
    "  default=\"median\",\n",
    "  choices={\n",
    "    'none':'none',\n",
    "      'median':'median',\n",
    "      'total':'total',\n",
    "      'control (select this option if providing list of control sgRNAs)':'control'\n",
    "  },\n",
    "  section='Mageck_Section',\n",
    ") %}\n",
    "\n",
    "\n",
    "{% set paired_samples = BoolField(\n",
    "    name='paired_samples', \n",
    "    label='Paired samples?', \n",
    "    default= \"false\",\n",
    "    description='Check if samples are paired. Please ensure control and treatment sample indices are aligned.', \n",
    "    section='Mageck_Section',\n",
    ") \n",
    "%}\n",
    "\n",
    "{% set adjustment_method = ChoiceField(\n",
    "  name='adjustment_method',\n",
    "  label='sgRNA-level p-value adjustment',\n",
    "  default='False discovery rate',\n",
    "  choices={\n",
    "    'False discovery rate' : 'fdr',\n",
    "      'Holm\\'s method' : 'holms',\n",
    "      'Pounds\\' method' : 'pounds'\n",
    "  },\n",
    "  section='Mageck_Section',\n",
    ") %}\n",
    "\n",
    "{% set pdf_report = BoolField(\n",
    "    name='pdf_report', \n",
    "    label='PDF report for selected sgRNAs and genes?', \n",
    "    default= \"false\",\n",
    "    description='Select YES to receive the pdf report generated by MAGeCK.', \n",
    "    section='Mageck_Section',\n",
    ") \n",
    "%}"
   ]
  },
  {
   "cell_type": "code",
   "execution_count": 6,
   "metadata": {},
   "outputs": [],
   "source": [
    "%%appyter code_exec\n",
    "\n",
    "\n",
    "{% set topk_percent = IntField(\n",
    "    name='topk_percent', \n",
    "    label='Percentage of top-ranked genes to use for enrichment analysis', \n",
    "    min=1, \n",
    "    max=5, \n",
    "    default=1, \n",
    "    description='Choose the percentage of top-ranked genes to use for enrichment analysis', \n",
    "    section='Enrichr_Section')\n",
    "%}"
   ]
  },
  {
   "cell_type": "code",
   "execution_count": 7,
   "metadata": {},
   "outputs": [
    {
     "data": {
      "text/markdown": [
       "```python\n",
       "readcounts_filename = 'GSE158298_readcounts.txt'\n",
       "negcontrol_filename = 'GSE158298_negativecontrol.txt'\n",
       "control_names = [name.strip() for name in 'PreInfection, PreInfection'.split(\",\")]\n",
       "treatment_names = [name.strip() for name in 'SARS2MOI001, SARS2MOI03'.split(\",\")]\n",
       "paired_samples = False\n",
       "norm_method = \"median\"\n",
       "adjustment_method = \"fdr\"\n",
       "pdf_report = False\n",
       "topk_percent = 1\n",
       "```"
      ],
      "text/plain": [
       "<IPython.core.display.Markdown object>"
      ]
     },
     "metadata": {},
     "output_type": "display_data"
    }
   ],
   "source": [
    "%%appyter code_exec\n",
    "\n",
    "readcounts_filename = {{readcounts_filename}}\n",
    "negcontrol_filename = {{negcontrol_filename}}\n",
    "control_names = [name.strip() for name in {{control_names}}.split(\",\")]\n",
    "treatment_names = [name.strip() for name in {{treatment_names}}.split(\",\")]\n",
    "\n",
    "paired_samples = {{paired_samples}}\n",
    "norm_method = \"{{norm_method}}\"\n",
    "adjustment_method = \"{{adjustment_method}}\"\n",
    "pdf_report = {{pdf_report}}\n",
    "\n",
    "topk_percent = {{topk_percent}}"
   ]
  },
  {
   "cell_type": "markdown",
   "metadata": {},
   "source": [
    "## Loading read counts file + Preprocessing"
   ]
  },
  {
   "cell_type": "markdown",
   "metadata": {},
   "source": [
    "For MAGeCK, the read counts file must be a tab-separated file with an optional header line. \n",
    "\n",
    "The treatment and control labels submitted must correspond with the column names in the read counts file; that will be double-checked below. "
   ]
  },
  {
   "cell_type": "code",
   "execution_count": 8,
   "metadata": {},
   "outputs": [
    {
     "data": {
      "text/markdown": [
       "```python\n",
       "data = pd.read_csv(\n",
       "    'GSE158298_readcounts.txt',\n",
       "    sep='\\t',\n",
       ")\n",
       "data.to_csv(\"readcounts.txt\", sep = \"\\t\", index = False)\n",
       "data.head()\n",
       "```"
      ],
      "text/plain": [
       "<IPython.core.display.Markdown object>"
      ]
     },
     "metadata": {},
     "output_type": "display_data"
    },
    {
     "data": {
      "text/html": [
       "<div>\n",
       "<style scoped>\n",
       "    .dataframe tbody tr th:only-of-type {\n",
       "        vertical-align: middle;\n",
       "    }\n",
       "\n",
       "    .dataframe tbody tr th {\n",
       "        vertical-align: top;\n",
       "    }\n",
       "\n",
       "    .dataframe thead th {\n",
       "        text-align: right;\n",
       "    }\n",
       "</style>\n",
       "<table border=\"1\" class=\"dataframe\">\n",
       "  <thead>\n",
       "    <tr style=\"text-align: right;\">\n",
       "      <th></th>\n",
       "      <th>sgRNA</th>\n",
       "      <th>gene</th>\n",
       "      <th>PreInfection</th>\n",
       "      <th>GeckoV2plasmid</th>\n",
       "      <th>SARS2MOI001</th>\n",
       "      <th>SARS2MOI03</th>\n",
       "    </tr>\n",
       "  </thead>\n",
       "  <tbody>\n",
       "    <tr>\n",
       "      <th>0</th>\n",
       "      <td>HGLibA_00001</td>\n",
       "      <td>A1BG</td>\n",
       "      <td>296</td>\n",
       "      <td>467</td>\n",
       "      <td>139</td>\n",
       "      <td>199</td>\n",
       "    </tr>\n",
       "    <tr>\n",
       "      <th>1</th>\n",
       "      <td>HGLibA_00002</td>\n",
       "      <td>A1BG</td>\n",
       "      <td>269</td>\n",
       "      <td>417</td>\n",
       "      <td>782</td>\n",
       "      <td>356</td>\n",
       "    </tr>\n",
       "    <tr>\n",
       "      <th>2</th>\n",
       "      <td>HGLibA_00003</td>\n",
       "      <td>A1BG</td>\n",
       "      <td>942</td>\n",
       "      <td>981</td>\n",
       "      <td>1641</td>\n",
       "      <td>1563</td>\n",
       "    </tr>\n",
       "    <tr>\n",
       "      <th>3</th>\n",
       "      <td>HGLibA_00004</td>\n",
       "      <td>A1CF</td>\n",
       "      <td>220</td>\n",
       "      <td>170</td>\n",
       "      <td>170</td>\n",
       "      <td>275</td>\n",
       "    </tr>\n",
       "    <tr>\n",
       "      <th>4</th>\n",
       "      <td>HGLibA_00005</td>\n",
       "      <td>A1CF</td>\n",
       "      <td>418</td>\n",
       "      <td>599</td>\n",
       "      <td>402</td>\n",
       "      <td>344</td>\n",
       "    </tr>\n",
       "  </tbody>\n",
       "</table>\n",
       "</div>"
      ],
      "text/plain": [
       "          sgRNA  gene  PreInfection  GeckoV2plasmid  SARS2MOI001  SARS2MOI03\n",
       "0  HGLibA_00001  A1BG           296             467          139         199\n",
       "1  HGLibA_00002  A1BG           269             417          782         356\n",
       "2  HGLibA_00003  A1BG           942             981         1641        1563\n",
       "3  HGLibA_00004  A1CF           220             170          170         275\n",
       "4  HGLibA_00005  A1CF           418             599          402         344"
      ]
     },
     "metadata": {},
     "output_type": "display_data"
    }
   ],
   "source": [
    "%%appyter code_eval\n",
    "\n",
    "{% if file_format.value == \"excel\" %}\n",
    "data = pd.read_excel(\n",
    "    {{ readcounts_filename }},\n",
    ")\n",
    "\n",
    "{% else %}\n",
    "data = pd.read_csv(\n",
    "    {{ readcounts_filename }},\n",
    "    {{ file_format }}\n",
    ")\n",
    "{% endif %}\n",
    "\n",
    "data.to_csv(\"readcounts.txt\", sep = \"\\t\", index = False)\n",
    "data.head()\n"
   ]
  },
  {
   "cell_type": "code",
   "execution_count": 9,
   "metadata": {},
   "outputs": [],
   "source": [
    "readcounts_filename = \"readcounts.txt\""
   ]
  },
  {
   "cell_type": "code",
   "execution_count": 10,
   "metadata": {},
   "outputs": [],
   "source": [
    "col_names = list(data.columns)\n",
    "\n",
    "for nm in zip(control_names, treatment_names):\n",
    "    try:\n",
    "        nm in col_names\n",
    "    except:\n",
    "        print(f\"{nm} is not a column in the read counts file!\")\n",
    "        "
   ]
  },
  {
   "cell_type": "markdown",
   "metadata": {},
   "source": [
    "## Ranking sgRNAs and genes using MAGeCK"
   ]
  },
  {
   "cell_type": "code",
   "execution_count": 11,
   "metadata": {},
   "outputs": [
    {
     "data": {
      "text/markdown": [
       "\n",
       "Model-based Analysis of Genome-wide CRISPR/Cas-9 Knockout (MAGeCK - Li et al. 2014) determines positively- and negatively-ranked genes using a modified robust rank aggregation method. "
      ],
      "text/plain": [
       "<IPython.core.display.Markdown object>"
      ]
     },
     "metadata": {},
     "output_type": "display_data"
    }
   ],
   "source": [
    "%%appyter markdown\n",
    "\n",
    "Model-based Analysis of Genome-wide CRISPR/Cas-9 Knockout (MAGeCK - Li et al. 2014) determines positively- and negatively-ranked genes using a modified robust rank aggregation method. "
   ]
  },
  {
   "cell_type": "code",
   "execution_count": 12,
   "metadata": {},
   "outputs": [],
   "source": [
    "def display_download_link(treatment, summary_type):\n",
    "    fn = treatment + \".\" + summary_type\n",
    "    html = \"<a href=\\\"./{}\\\" target='_blank'>{}</a>\".format(fn, \"Download: \" + fn)\n",
    "    return HTML(html)"
   ]
  },
  {
   "cell_type": "code",
   "execution_count": 17,
   "metadata": {},
   "outputs": [
    {
     "name": "stderr",
     "output_type": "stream",
     "text": [
      "Traceback (most recent call last):\n",
      "  File \"<ipython-input-17-57c4af7c7bfa>\", line 5, in <module>\n",
      "    result = subprocess.run(command, capture_output=True, check=True)\n",
      "  File \"/Users/ingrids/.pyenv/versions/3.9.0/lib/python3.9/subprocess.py\", line 524, in run\n",
      "    raise CalledProcessError(retcode, process.args,\n",
      "subprocess.CalledProcessError: Command '['mageck', 'test']' returned non-zero exit status 2.\n"
     ]
    },
    {
     "name": "stdout",
     "output_type": "stream",
     "text": [
      "Error: could not successfully run analysis for SARS2MOI001 and PreInfection\n",
      "Error: could not successfully run analysis for SARS2MOI03 and PreInfection\n"
     ]
    },
    {
     "name": "stderr",
     "output_type": "stream",
     "text": [
      "Traceback (most recent call last):\n",
      "  File \"<ipython-input-17-57c4af7c7bfa>\", line 5, in <module>\n",
      "    result = subprocess.run(command, capture_output=True, check=True)\n",
      "  File \"/Users/ingrids/.pyenv/versions/3.9.0/lib/python3.9/subprocess.py\", line 524, in run\n",
      "    raise CalledProcessError(retcode, process.args,\n",
      "subprocess.CalledProcessError: Command '['mageck', 'test']' returned non-zero exit status 2.\n"
     ]
    }
   ],
   "source": [
    "for treatment, control in zip(treatment_names, control_names): \n",
    "    command = ['mageck', 'test', '-k', readcounts_filename, '-t', treatment, '-c', control, \n",
    "               '--norm-method', norm_method, '-n', treatment]\n",
    "    if paired_samples:\n",
    "        command.append('--paired')\n",
    "    if len(negcontrol_filename) != 0:\n",
    "        command.extend(['--control-sgrna', negcontrol_filename])\n",
    "    if pdf_report:\n",
    "        command.append(\"--pdf-report\")\n",
    "\n",
    "    try:\n",
    "        result = subprocess.run(command, capture_output=True, check=True)\n",
    "        #print(result.returncode)\n",
    "        display(Markdown(\"Treatment: {0}\\n Control: {1}\".format(treatment, control)))\n",
    "\n",
    "        display(display_download_link(treatment, 'sgrna_summary.txt'))\n",
    "        display(display_download_link(treatment, 'gene_summary.txt'))\n",
    "\n",
    "        if pdf_report:\n",
    "            display(display_download_link(treatment, 'pdf'))\n",
    "\n",
    "    except:\n",
    "        traceback.print_exc()\n",
    "        print(f\"Error: could not successfully run analysis for {treatment} and {control}\")\n",
    "\n",
    "\n",
    "    #print(result.stdout)\n",
    "    #print(result.stderr)"
   ]
  },
  {
   "cell_type": "markdown",
   "metadata": {},
   "source": [
    "## Enrichment Analysis using Enrichr"
   ]
  },
  {
   "cell_type": "code",
   "execution_count": null,
   "metadata": {},
   "outputs": [],
   "source": [
    "%%appyter markdown\n",
    "\n",
    "Enrichment analysis is a statistical procedure used to identify biological terms which are over-represented in a given gene set. These include signaling pathways, molecular functions, diseases, and a wide variety of other biological terms obtained by integrating prior knowledge of gene function from multiple resources. Enrichr (Kuleshov et al. 2016) is a web-based application which allows to perform enrichment analysis using a large collection of gene-set libraries and various interactive approaches to display enrichment results.\n",
    "\n",
    "Here, enrichment analysis will be performed on the top {{topk_percent}}% of positively- and negatively-selected genes using Enrichr (Kuleshov et al. 2016)"
   ]
  },
  {
   "cell_type": "code",
   "execution_count": null,
   "metadata": {},
   "outputs": [],
   "source": [
    "def get_enrichr_url(gene_list, description):\n",
    "    ENRICHR_URL = 'https://maayanlab.cloud/Enrichr/addList' \n",
    "    genes_str = '\\n'.join(gene_list)\n",
    "    payload = {\n",
    "        'list': (None, genes_str),\n",
    "        'description': (None, description)\n",
    "    }\n",
    "\n",
    "    response = requests.post(ENRICHR_URL, files=payload)\n",
    "    if not response.ok:\n",
    "        raise Exception('Error analyzing gene list')\n",
    "\n",
    "    #time.sleep(0.5)\n",
    "\n",
    "    data = json.loads(response.text)\n",
    "\n",
    "    short_id = data['shortId']\n",
    "    url = \"https://maayanlab.cloud/Enrichr/enrich?dataset={}\".format(short_id)\n",
    "    return (url)"
   ]
  },
  {
   "cell_type": "code",
   "execution_count": null,
   "metadata": {},
   "outputs": [],
   "source": [
    "for treatment in treatment_names:\n",
    "    gene_fn = \"{0}.gene_summary.txt\".format(treatment)\n",
    "    output_df = pd.read_csv(gene_fn, sep = \"\\t\")\n",
    "    \n",
    "    topk_genes = int(topk_percent / 100 * len(output_df))\n",
    "\n",
    "    neg_genes_df = output_df[['id']].head(topk_genes)\n",
    "    \n",
    "    pos_df = output_df.sort_values(by=['pos|rank'])\n",
    "    pos_genes_df = pos_df[['id']].head(topk_genes)\n",
    "\n",
    "    pos_url = get_enrichr_url(pos_genes_df['id'].tolist(), \"Top {0}% up genes for {1}\".format(topk_percent, treatment))\n",
    "    neg_url = get_enrichr_url(neg_genes_df['id'].tolist(), \"Top {0}% down genes for {1}\".format(topk_percent, treatment))\n",
    "    \n",
    "    display(Markdown(\"**Top {0} ({3}%) up genes for {1}**: <{2}>\".format(topk_genes, treatment, pos_url, topk_percent)))\n",
    "    display(Markdown(\"**Top {0} ({3}%) down genes for {1}**: <{2}>\".format(topk_genes, treatment, neg_url, topk_percent)))\n",
    "\n"
   ]
  }
 ],
 "metadata": {
  "kernelspec": {
   "display_name": "crispr",
   "language": "python",
   "name": "crispr"
  },
  "language_info": {
   "codemirror_mode": {
    "name": "ipython",
    "version": 3
   },
   "file_extension": ".py",
   "mimetype": "text/x-python",
   "name": "python",
   "nbconvert_exporter": "python",
   "pygments_lexer": "ipython3",
   "version": "3.9.0"
  }
 },
 "nbformat": 4,
 "nbformat_minor": 4
}
