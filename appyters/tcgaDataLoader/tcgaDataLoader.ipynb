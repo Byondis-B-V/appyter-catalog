{
 "cells": [
  {
   "cell_type": "code",
   "execution_count": 1,
   "metadata": {},
   "outputs": [
    {
     "name": "stderr",
     "output_type": "stream",
     "text": [
      "UsageError: Cell magic `%%appyter` not found.\n"
     ]
    }
   ],
   "source": [
    "%%appyter init\n",
    "from appyter import magic\n",
    "magic.init(lambda _=globals: _())"
   ]
  },
  {
   "cell_type": "markdown",
   "metadata": {},
   "source": [
    "# tcgaDataLoader\n",
    "\n",
    "An appyter that interfaces with the The Cancer Genome Atlas (TCGA) API to simplify the process of obtaining this dataset's RNA-seq and clinical data tables."
   ]
  },
  {
   "cell_type": "code",
   "execution_count": 2,
   "metadata": {},
   "outputs": [],
   "source": [
    "# Script to acquire RNA-Seq and clinical data from TCGA\n",
    "import requests\n",
    "import json\n",
    "import os\n",
    "import re\n",
    "import gzip\n",
    "import shutil\n",
    "import tarfile\n",
    "import pathlib\n",
    "import pandas as pd\n",
    "import numpy as np\n",
    "from maayanlab_bioinformatics.harmonization import ncbi_genes\n",
    "import math\n",
    "import io"
   ]
  },
  {
   "cell_type": "code",
   "execution_count": 3,
   "metadata": {},
   "outputs": [
    {
     "name": "stderr",
     "output_type": "stream",
     "text": [
      "UsageError: Cell magic `%%appyter` not found.\n"
     ]
    }
   ],
   "source": [
    "%%appyter hide_code\n",
    "\n",
    "{% do SectionField(\n",
    "    name=\"RNASeq\",\n",
    "    title=\"RNA-seq specifications\",\n",
    "    img = \"tcga-logo.png\"\n",
    ") %}\n",
    "\n",
    "{% do SectionField(\n",
    "    name=\"Output\",\n",
    "    title=\"Parameters for the final output format\",\n",
    "    img = \"tcga-logo.png\"\n",
    ") %}\n",
    "\n",
    "{% do SectionField(\n",
    "    name=\"CLINICAL\",\n",
    "    title=\"Clincial data specifications\",\n",
    "    img = \"tcga-logo.png\"\n",
    ") %}"
   ]
  },
  {
   "cell_type": "code",
   "execution_count": 4,
   "metadata": {},
   "outputs": [
    {
     "name": "stderr",
     "output_type": "stream",
     "text": [
      "UsageError: Cell magic `%%appyter` not found.\n"
     ]
    }
   ],
   "source": [
    "%%appyter code_eval\n",
    "\n",
    "workflow_type = {{ChoiceField(\n",
    "    name = \"workflow_type\",\n",
    "    label = \"RNA-Seq workflow type\",\n",
    "    description = \"Workflow used to process the RNA-Seq data\",\n",
    "    choices = [\"CellRanger - 10x Filtered Counts\",\n",
    "               \"CellRanger - 10x Raw Counts\",\n",
    "               \"Cufflinks\",\n",
    "               \"DEXSeq\",\n",
    "               \"HTSeq - Counts\",\n",
    "               \"HTSeq - FPKM\",\n",
    "               \"HTSeq - FPKM-UQ\",\n",
    "               \"Kallisto - HDF5\",\n",
    "               \"Kallisto - Quantification\",\n",
    "               \"RNA-SeQC - Counts\",\n",
    "               \"RNA-SeQC - FPKM\",\n",
    "               \"RSEM - Quantification\",\n",
    "               \"STAR - Counts\",\n",
    "               \"STAR - FPKM\",\n",
    "               \"STAR - Smart-Seq2 Counts\",\n",
    "               \"zUMIs - Smart-Seq2 Counts\"],\n",
    "    section=\"RNASeq\",\n",
    "    default=\"HTSeq - Counts\"\n",
    ") }}\n",
    "    \n",
    "rna_types = {{MultiChoiceField(\n",
    "    name = \"RNA_types\",\n",
    "    label = \"Types of RNAs to include in the output\",\n",
    "    choices = [\"Protein-coding genes\", \"Non-protein-coding genes\"]\n",
    "    section=\"RNASeq\",\n",
    "    default=[],\n",
    ") }}\n",
    "    \n",
    "min_documents = {{IntField(\n",
    "    name = \"min_documents\",\n",
    "    label = \"Minimum RNA-Seq files per cancer\",\n",
    "    description = \"The minimum number of files required for a single cancer type to be loaded into the dataset.\"\n",
    "    section=\"RNASeq\",\n",
    "    default=0,\n",
    "    min=0\n",
    ") }}"
   ]
  },
  {
   "cell_type": "code",
   "execution_count": 5,
   "metadata": {},
   "outputs": [
    {
     "name": "stderr",
     "output_type": "stream",
     "text": [
      "UsageError: Cell magic `%%appyter` not found.\n"
     ]
    }
   ],
   "source": [
    "%%appyter code_eval"
   ]
  },
  {
   "cell_type": "code",
   "execution_count": 6,
   "metadata": {},
   "outputs": [],
   "source": [
    "# Endpoints\n",
    "base_url = 'https://api.gdc.cancer.gov/'\n",
    "files_endpt = base_url + 'files/'\n",
    "genes_endpt = base_url + 'genes/'\n",
    "cases_endpt = base_url + 'cases/'\n",
    "data_endpt = base_url + \"data/\"\n",
    "\n",
    "json_header = {\"Content-Type\": \"application/json\"}"
   ]
  },
  {
   "cell_type": "markdown",
   "metadata": {},
   "source": [
    "### Download RNA-seq data"
   ]
  },
  {
   "cell_type": "code",
   "execution_count": 7,
   "metadata": {},
   "outputs": [],
   "source": [
    "workflow_type  = \"HTSeq - Counts\"\n",
    "min_files  = 150\n",
    "cancer_type = \"Pleomorphic carcinoma\""
   ]
  },
  {
   "cell_type": "code",
   "execution_count": 8,
   "metadata": {},
   "outputs": [],
   "source": [
    "# Build params \n",
    "\n",
    "filters = {\n",
    "        \"op\": \"and\",\n",
    "        \"content\":[\n",
    "             {\n",
    "                \"op\": \"=\",\n",
    "                \"content\":\n",
    "                 {\n",
    "                     \"field\": \"files.experimental_strategy\",\n",
    "                     \"value\": \"RNA-Seq\",\n",
    "                 }\n",
    "             },\n",
    "             {\n",
    "                \"op\": \"=\",\n",
    "                \"content\":\n",
    "                 {\n",
    "                     \"field\": \"access\",\n",
    "                     \"value\": \"open\",\n",
    "\n",
    "                 }\n",
    "             },\n",
    "             {\n",
    "                \"op\": \"=\",\n",
    "                \"content\":\n",
    "                 {\n",
    "                     \"field\": \"files.analysis.workflow_type\",\n",
    "                     \"value\": workflow_type,\n",
    "                 }\n",
    "             },\n",
    "    ]\n",
    "}\n"
   ]
  },
  {
   "cell_type": "code",
   "execution_count": 9,
   "metadata": {},
   "outputs": [
    {
     "name": "stdout",
     "output_type": "stream",
     "text": [
      "198 total cancer types\n",
      "\n",
      "19 cancer types with at least 150 associated files\n"
     ]
    }
   ],
   "source": [
    "# Get list of all cancer types returned from the search parameters\n",
    "\n",
    "params = {\n",
    "    \"filters\": filters,\n",
    "    \"size\":\"0\",\n",
    "    \"facets\":\"cases.diagnoses.primary_diagnosis\",\n",
    "}\n",
    "\n",
    "response = requests.post(files_endpt, data = json.dumps(params), headers=json_header).json() # optionally also provide params argument\n",
    "buckets = response[\"data\"][\"aggregations\"][\"cases.diagnoses.primary_diagnosis\"][\"buckets\"]\n",
    "\n",
    "print(f'{len(buckets)} total cancer types\\n')\n",
    "\n",
    "cancer_types = [ y[\"key\"] for y in list(filter(lambda x: x[\"doc_count\"] >= min_files, buckets)) ]\n",
    "\n",
    "print(f'{len(cancer_types)} cancer types with at least {min_files} associated files')"
   ]
  },
  {
   "cell_type": "code",
   "execution_count": 52,
   "metadata": {},
   "outputs": [],
   "source": [
    "def make_cancer_params(cancer_type):\n",
    "    # filter results for this cancer type\n",
    "    cancer_filters = {\n",
    "        \"op\": \"and\",\n",
    "        \"content\": [\n",
    "            *filters[\"content\"],\n",
    "            {\n",
    "                \"op\": \"=\",\n",
    "                \"content\":\n",
    "                 {\n",
    "                     \"field\": \"cases.diagnoses.primary_diagnosis\",\n",
    "                     \"value\": cancer_type,\n",
    "                 }\n",
    "             }\n",
    "        ]\n",
    "    }\n",
    "    \n",
    "    fields = \"file_id,file_name,cases.case_id\"\n",
    "    \n",
    "    # build parameters object\n",
    "    return {\n",
    "        \"fields\": fields,\n",
    "        \"filters\": json.dumps(cancer_filters),\n",
    "        \"size\": 100000 # do not limit size\n",
    "    }\n",
    "\n",
    "  \n",
    "def get_uuids(cancer_type):\n",
    "    # get list of all files with RNA-seq results\n",
    "    response = requests.get(files_endpt, params = make_cancer_params(cancer_type))\n",
    "    data = json.loads(response.content.decode(\"utf-8\"))\n",
    "    \n",
    "    # get list of results\n",
    "    results = data[\"data\"][\"hits\"]\n",
    "        \n",
    "    # get list of file and case uuids\n",
    "    file_uuid_list = [ entry[\"file_id\"] for entry in results]\n",
    "    case_uuid_list = [ entry[\"cases\"][0][\"case_id\"] for entry in results]\n",
    "    \n",
    "    return file_uuid_list, case_uuid_list\n",
    "\n",
    "def get_files(uuid_list):\n",
    "    params = {\"ids\": uuid_list}\n",
    "    \n",
    "    # A POST is used, so the filter parameters can be passed directly as a Dict object.\n",
    "    response = requests.post(data_endpt, data=json.dumps(params), headers=json_header)\n",
    "\n",
    "    # filename is found in the Content-Disposition header of response\n",
    "    response_head_cd = response.headers[\"Content-Disposition\"]\n",
    "    file_name = re.findall(\"filename=(.+)\", response_head_cd)[0]\n",
    "    \n",
    "    # write the file content (bytes) and load the tar.gz file\n",
    "    file_object = io.BytesIO(response.content)\n",
    "    tar = tarfile.open(fileobj=file_object)\n",
    "    \n",
    "    # access files within the zipped file\n",
    "    for file in tar.getmembers():\n",
    "        if (file.name == \"MANIFEST.txt\"): continue\n",
    "        f=tar.extractfile(file)\n",
    "        content=io.BytesIO(f)\n",
    "        print(content)\n",
    "    tar.close()\n",
    "    "
   ]
  },
  {
   "cell_type": "code",
   "execution_count": 53,
   "metadata": {},
   "outputs": [
    {
     "name": "stdout",
     "output_type": "stream",
     "text": [
      "['adenocarcinoma, nos', 'squamous cell carcinoma, nos', 'infiltrating duct carcinoma, nos', 'multiple myeloma', 'papillary adenocarcinoma, nos', 'clear cell adenocarcinoma, nos', 'endometrioid adenocarcinoma, nos', 'diffuse large b-cell lymphoma, nos', 'serous cystadenocarcinoma, nos', 'malignant melanoma, nos', 'acute myeloid leukemia, nos', 'hepatocellular carcinoma, nos', 'transitional cell carcinoma', 'glioblastoma', 'precursor b-cell lymphoblastic leukemia', 't lymphoblastic leukemia/lymphoma', 'lobular carcinoma, nos', 'renal cell carcinoma, nos', 'mucinous adenocarcinoma']\n",
      "endometrioid adenocarcinoma, nos: \n",
      "540 files\n",
      "540 cases\n",
      "\n"
     ]
    },
    {
     "ename": "TypeError",
     "evalue": "a bytes-like object is required, not 'ExFileObject'",
     "output_type": "error",
     "traceback": [
      "\u001b[0;31m---------------------------------------------------------------------------\u001b[0m",
      "\u001b[0;31mTypeError\u001b[0m                                 Traceback (most recent call last)",
      "\u001b[0;32m<ipython-input-53-fa8a32e07a59>\u001b[0m in \u001b[0;36m<module>\u001b[0;34m\u001b[0m\n\u001b[1;32m     12\u001b[0m     \u001b[0mprint\u001b[0m\u001b[0;34m(\u001b[0m\u001b[0;34mf\"{cancer}: \\n{num_files} files\\n{num_cases} cases\\n\"\u001b[0m\u001b[0;34m)\u001b[0m\u001b[0;34m\u001b[0m\u001b[0;34m\u001b[0m\u001b[0m\n\u001b[1;32m     13\u001b[0m \u001b[0;34m\u001b[0m\u001b[0m\n\u001b[0;32m---> 14\u001b[0;31m     \u001b[0mfile_name\u001b[0m \u001b[0;34m=\u001b[0m \u001b[0mget_files\u001b[0m\u001b[0;34m(\u001b[0m\u001b[0mfile_uuid_list\u001b[0m\u001b[0;34m[\u001b[0m\u001b[0;36m0\u001b[0m\u001b[0;34m:\u001b[0m\u001b[0;36m10\u001b[0m\u001b[0;34m]\u001b[0m\u001b[0;34m)\u001b[0m\u001b[0;34m\u001b[0m\u001b[0;34m\u001b[0m\u001b[0m\n\u001b[0m\u001b[1;32m     15\u001b[0m \u001b[0;34m\u001b[0m\u001b[0m\n",
      "\u001b[0;32m<ipython-input-52-43a96cbe37f9>\u001b[0m in \u001b[0;36mget_files\u001b[0;34m(uuid_list)\u001b[0m\n\u001b[1;32m     58\u001b[0m         \u001b[0;32mif\u001b[0m \u001b[0;34m(\u001b[0m\u001b[0mfile\u001b[0m\u001b[0;34m.\u001b[0m\u001b[0mname\u001b[0m \u001b[0;34m==\u001b[0m \u001b[0;34m\"MANIFEST.txt\"\u001b[0m\u001b[0;34m)\u001b[0m\u001b[0;34m:\u001b[0m \u001b[0;32mcontinue\u001b[0m\u001b[0;34m\u001b[0m\u001b[0;34m\u001b[0m\u001b[0m\n\u001b[1;32m     59\u001b[0m         \u001b[0mf\u001b[0m\u001b[0;34m=\u001b[0m\u001b[0mtar\u001b[0m\u001b[0;34m.\u001b[0m\u001b[0mextractfile\u001b[0m\u001b[0;34m(\u001b[0m\u001b[0mfile\u001b[0m\u001b[0;34m)\u001b[0m\u001b[0;34m\u001b[0m\u001b[0;34m\u001b[0m\u001b[0m\n\u001b[0;32m---> 60\u001b[0;31m         \u001b[0mcontent\u001b[0m\u001b[0;34m=\u001b[0m\u001b[0mio\u001b[0m\u001b[0;34m.\u001b[0m\u001b[0mBytesIO\u001b[0m\u001b[0;34m(\u001b[0m\u001b[0mf\u001b[0m\u001b[0;34m)\u001b[0m\u001b[0;34m\u001b[0m\u001b[0;34m\u001b[0m\u001b[0m\n\u001b[0m\u001b[1;32m     61\u001b[0m         \u001b[0mprint\u001b[0m\u001b[0;34m(\u001b[0m\u001b[0mcontent\u001b[0m\u001b[0;34m)\u001b[0m\u001b[0;34m\u001b[0m\u001b[0;34m\u001b[0m\u001b[0m\n\u001b[1;32m     62\u001b[0m     \u001b[0mtar\u001b[0m\u001b[0;34m.\u001b[0m\u001b[0mclose\u001b[0m\u001b[0;34m(\u001b[0m\u001b[0;34m)\u001b[0m\u001b[0;34m\u001b[0m\u001b[0;34m\u001b[0m\u001b[0m\n",
      "\u001b[0;31mTypeError\u001b[0m: a bytes-like object is required, not 'ExFileObject'"
     ]
    }
   ],
   "source": [
    "# note: this will take a while!\n",
    "print(cancer_types)\n",
    "cancer_files = {}\n",
    "os.makedirs(\"data\", exist_ok = True)\n",
    "\n",
    "for cancer in cancer_types[6:7]:\n",
    "    \n",
    "    file_uuid_list, case_uuid_list = get_uuids(cancer)\n",
    "\n",
    "    num_files = len(file_uuid_list)\n",
    "    num_cases = len(case_uuid_list)\n",
    "    print(f\"{cancer}: \\n{num_files} files\\n{num_cases} cases\\n\")\n",
    "    \n",
    "    file_name = get_files(file_uuid_list[0:10])\n",
    "    "
   ]
  },
  {
   "cell_type": "code",
   "execution_count": null,
   "metadata": {},
   "outputs": [],
   "source": []
  },
  {
   "cell_type": "code",
   "execution_count": null,
   "metadata": {},
   "outputs": [],
   "source": []
  },
  {
   "cell_type": "code",
   "execution_count": null,
   "metadata": {},
   "outputs": [],
   "source": []
  }
 ],
 "metadata": {
  "kernelspec": {
   "display_name": "TCGA",
   "language": "python",
   "name": "tcga"
  },
  "language_info": {
   "codemirror_mode": {
    "name": "ipython",
    "version": 3
   },
   "file_extension": ".py",
   "mimetype": "text/x-python",
   "name": "python",
   "nbconvert_exporter": "python",
   "pygments_lexer": "ipython3",
   "version": "3.8.1"
  }
 },
 "nbformat": 4,
 "nbformat_minor": 4
}
