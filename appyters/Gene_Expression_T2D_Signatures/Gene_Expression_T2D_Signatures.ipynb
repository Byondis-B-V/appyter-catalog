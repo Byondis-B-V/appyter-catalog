{
 "cells": [
  {
   "cell_type": "code",
   "execution_count": null,
   "metadata": {},
   "outputs": [],
   "source": [
    "#%%appyter init\n",
    "from appyter import magic\n",
    "magic.init(lambda _=globals: _())"
   ]
  },
  {
   "cell_type": "code",
   "execution_count": null,
   "metadata": {},
   "outputs": [],
   "source": [
    "# imports\n",
    "import numpy as np\n",
    "import pandas as pd\n",
    "import matplotlib.cm as cm\n",
    "import matplotlib.colors as colors\n",
    "from IPython.display import HTML\n",
    "\n",
    "# bokeh\n",
    "from bokeh.io import output_notebook\n",
    "from bokeh.plotting import figure, show\n",
    "from bokeh.models import HoverTool, ColumnDataSource\n",
    "\n",
    "# display graphics\n",
    "output_notebook()"
   ]
  },
  {
   "cell_type": "markdown",
   "metadata": {},
   "source": [
    "# My Gene's Expression in Type 2 Diabetes Transcriptomics Signatures"
   ]
  },
  {
   "cell_type": "code",
   "execution_count": null,
   "metadata": {},
   "outputs": [],
   "source": [
    "%%appyter hide\n",
    "{% do SectionField(\n",
    "    name = 'INPUT',\n",
    "    title = 'Input Parameters',\n",
    "    subtitle = 'Fill in the species and gene of interest',\n",
    "    img = 'mini_plot.png'\n",
    ")%}"
   ]
  },
  {
   "cell_type": "code",
   "execution_count": null,
   "metadata": {},
   "outputs": [],
   "source": [
    "%%appyter code_exec\n",
    "{% set species_input = TabField(\n",
    "    name = 'species_input',\n",
    "    label = 'Species of Interest',\n",
    "    default = 'Human',\n",
    "    description = 'Select the species of interest.',\n",
    "    section = 'INPUT',\n",
    "    choices = {\n",
    "        'Human': [\n",
    "            AutocompleteField(\n",
    "                name = 'human_gene',\n",
    "                label = 'Human Gene of Interest',\n",
    "                default = 'SLC2A2',\n",
    "                description = 'Enter the gene symbol of interest (human).',\n",
    "                file_path = 'https://appyters.maayanlab.cloud/storage/Gene_Expression_T2D_Signatures/human_genes.json'\n",
    "            )\n",
    "        ],\n",
    "        'Mouse': [\n",
    "            AutocompleteField(\n",
    "                name = 'mouse_gene',\n",
    "                label = 'Mouse Gene of Interest',\n",
    "                default = 'CD29',\n",
    "                description = 'Enter the gene symbol of interest (mouse).',\n",
    "                file_path = 'https://appyters.maayanlab.cloud/storage/Gene_Expression_T2D_Signatures/mouse_genes.json'\n",
    "            )\n",
    "        ]\n",
    "    }\n",
    ")%}"
   ]
  },
  {
   "cell_type": "code",
   "execution_count": null,
   "metadata": {},
   "outputs": [],
   "source": [
    "%%appyter code_exec\n",
    "species = \"{{ species_input.raw_value }}\"\n",
    "gene = {{ species_input.value[0] }}\n",
    "input_gene = {{ species_input.value[0] }}"
   ]
  },
  {
   "cell_type": "code",
   "execution_count": null,
   "metadata": {},
   "outputs": [],
   "source": [
    "# import preprocessed signature data\n",
    "root_path = 'https://appyters.maayanlab.cloud/storage/Gene_Expression_T2D_Signatures/'\n",
    "pval_df = pd.read_csv(root_path + f\"all_{species.lower()}_pval.tsv\", sep='\\t', index_col=0)\n",
    "fc_df = pd.read_csv(root_path + f\"all_{species.lower()}_fc.tsv\", sep='\\t', index_col=0)"
   ]
  },
  {
   "cell_type": "code",
   "execution_count": null,
   "metadata": {},
   "outputs": [],
   "source": [
    "# standardize gene format\n",
    "if species == \"Human\":\n",
    "    gene = gene.upper().replace('-','')\n",
    "    input_gene = input_gene.upper().replace('-','')\n",
    "\n",
    "# find gene synonym, if necessary \n",
    "sig_genes = pval_df.index.tolist()\n",
    "gene_info = {\n",
    "    'Human': 'ftp://ftp.ncbi.nih.gov/gene/DATA/GENE_INFO/Mammalia/Homo_sapiens.gene_info.gz',\n",
    "    'Mouse': 'ftp://ftp.ncbi.nih.gov/gene/DATA/GENE_INFO/Mammalia/Mus_musculus.gene_info.gz'\n",
    "}\n",
    "\n",
    "# store if synonym was used\n",
    "has_syn = False\n",
    "\n",
    "if gene not in sig_genes:\n",
    "    gene_df = pd.read_csv(gene_info[species], sep='\\t', compression='gzip')[['Symbol', 'Synonyms']]\n",
    "    gene_map_ind = []\n",
    "    gene_map_val = []\n",
    "    for row in gene_df.itertuples():\n",
    "        if row.Synonyms != '-':\n",
    "            syns = row.Synonyms.split('|')\n",
    "            for syn in syns:\n",
    "                syn = syn.split(':')[1] if syn.find(':') != -1 else syn\n",
    "                gene_map_ind.append(syn)\n",
    "                gene_map_val.append(row.Symbol)\n",
    "    gene_map = pd.DataFrame.from_records(\n",
    "        zip(gene_map_ind, gene_map_val), \n",
    "        columns=['synonym', 'symbol']\n",
    "    ).set_index('synonym')\n",
    "    syn_counts = gene_map.index.value_counts()\n",
    "    gene_map = gene_map.drop(syn_counts[syn_counts > 1].index)\n",
    "    try:\n",
    "        gene = gene_map.loc[input_gene, 'symbol']\n",
    "        has_syn = True\n",
    "        display(HTML(f\"<div style='font-size:1.5rem;padding:1.5rem 0;'>{input_gene} not in signature data, using gene synonym {gene}.</div>\"))\n",
    "    except:\n",
    "        display(HTML(f\"<div style='font-size:2rem;padding:2rem 0;'>{input_gene} not found in signature data and no synonyms found either. Please check your spelling, or try again later with a synonym.\"))\n",
    "        has_syn = None"
   ]
  },
  {
   "cell_type": "code",
   "execution_count": null,
   "metadata": {},
   "outputs": [],
   "source": [
    "# extract gene-specific data\n",
    "if has_syn != None:\n",
    "    comb_df = pd.DataFrame()\n",
    "    comb_df['sig'] = pval_df.columns.tolist()\n",
    "    comb_df['pval'] = pval_df.loc[gene].tolist()\n",
    "    comb_df['logpv'] = np.negative(np.log10(comb_df['pval']))\n",
    "    comb_df['fc'] = fc_df.loc[gene].tolist()"
   ]
  },
  {
   "cell_type": "code",
   "execution_count": null,
   "metadata": {},
   "outputs": [],
   "source": [
    "# configure color scheme\n",
    "if has_syn != None:\n",
    "    red_map = cm.get_cmap('Reds_r')\n",
    "    red_norm = colors.Normalize(vmin=-0.25, vmax=1)\n",
    "    blue_map = cm.get_cmap('Blues_r')\n",
    "    blue_norm = colors.Normalize(vmin=-0.25, vmax=1)\n",
    "\n",
    "    def map_color(fc, pv):\n",
    "        if fc < 0:\n",
    "            return colors.to_hex(red_map(red_norm(pv)))\n",
    "        elif fc == 0:\n",
    "            return '#808080'\n",
    "        else:\n",
    "            return colors.to_hex(blue_map(blue_norm(pv)))\n",
    "\n",
    "    plot_colors = [map_color(r.fc, r.pval) for r in comb_df.itertuples()]\n",
    "    sizes = [12 if r.pval < 0.05 else 6 for r in comb_df.itertuples()]"
   ]
  },
  {
   "cell_type": "code",
   "execution_count": null,
   "metadata": {},
   "outputs": [],
   "source": [
    "if has_syn != None:\n",
    "    # generate data source\n",
    "    data_source = ColumnDataSource(\n",
    "        data=dict(\n",
    "            x = comb_df['fc'],\n",
    "            y = comb_df['logpv'],\n",
    "            sig = comb_df['sig'],\n",
    "            pval = comb_df['pval'], \n",
    "            fc = comb_df['fc'], \n",
    "            colors = plot_colors, \n",
    "            sizes = sizes\n",
    "        )\n",
    "    )\n",
    "    # create hover tooltip\n",
    "    tools = [\n",
    "        (\"Signature\", \"@sig\"),\n",
    "        (\"P-Value\", \"@pval\"),\n",
    "        (\"Fold Change\", \"@fc\"),\n",
    "    ]\n",
    "    # generate plot\n",
    "    plot = figure(\n",
    "        plot_width=700,\n",
    "        plot_height=500,\n",
    "        tooltips=tools\n",
    "    )\n",
    "    plot.circle(\n",
    "        'x', 'y', \n",
    "        size='sizes',\n",
    "        alpha=0.7, \n",
    "        line_alpha=0,\n",
    "        line_width=0.01, \n",
    "        source=data_source,\n",
    "        fill_color='colors', \n",
    "        name='t2d_expression_volcano_plot'\n",
    "    )\n",
    "    plot.xaxis.axis_label = 'Fold Change'\n",
    "    plot.yaxis.axis_label = '-log10(p-value)'\n",
    "    if has_syn:\n",
    "        plot.title.text = f\"Differential Expression of {gene} (synonym {input_gene}) in Type 2 Diabetes Transcriptomics Signatures\"\n",
    "    else:\n",
    "        plot.title.text = f\"Differential Expression of {gene} in Type 2 Diabetes Transcriptomics Signatures\"\n",
    "    plot.title.align = 'center'\n",
    "    plot.title.text_font_size = '14px'"
   ]
  },
  {
   "cell_type": "markdown",
   "metadata": {},
   "source": [
    "The volcano plot below positions each of the Type 2 Diabetes signatures according to the gene-specific fold change (x-position) and -log(p-value) (y-position). **Red** points indicate signatures where the fold change of the chosen gene was < 0, **blue** points indicate fold change > 0, and **gray** points indicate fold change == 0. Signatures where the specified gene was significantly expressed in either direction are denoted by darker color and larger point size. \n",
    "\n",
    "Hover over any point to display the corresponding signature name, the p-value, and the fold change. \n",
    "\n",
    "Use the toolbar on the right side of the plot to pan, zoom, or save the plot."
   ]
  },
  {
   "cell_type": "code",
   "execution_count": null,
   "metadata": {},
   "outputs": [],
   "source": [
    "if has_syn != None:\n",
    "    show(plot)"
   ]
  },
  {
   "cell_type": "code",
   "execution_count": null,
   "metadata": {},
   "outputs": [],
   "source": [
    "if has_syn != None:\n",
    "    # create tables of significant results with links to GEO \n",
    "    def geo_link(sig_name):\n",
    "        gse_id = sig_name.split('_')[0].replace('* ', '')\n",
    "        geo_path = 'https://www.ncbi.nlm.nih.gov/geo/query/acc.cgi?acc='\n",
    "        return f'<a target=\"_blank\" href=\"{geo_path}{gse_id}\">{gse_id}</a>'\n",
    "\n",
    "    up_comb_df = comb_df[comb_df['fc'] > 0].sort_values(by='pval', ascending=True)[:10]\n",
    "    up_comb_df = up_comb_df.drop(columns='logpv')\n",
    "    up_comb_df['sig'] = up_comb_df.apply(lambda row: f\"* {row.sig}\" if row.pval < 0.05 else row.sig, axis=1)\n",
    "    up_comb_df = up_comb_df.rename(columns={'sig': 'Signature', 'pval': 'P-value', 'fc': 'Fold Change'})\n",
    "    up_comb_df['Link to GEO Study'] = up_comb_df['Signature'].apply(geo_link)\n",
    "\n",
    "    dn_comb_df = comb_df[comb_df['fc'] < 0].sort_values(by='pval', ascending=True)[:10]\n",
    "    dn_comb_df = dn_comb_df.drop(columns='logpv')\n",
    "    dn_comb_df['sig'] = dn_comb_df.apply(lambda row: f\"* {row.sig}\" if row.pval < 0.05 else row.sig, axis=1)\n",
    "    dn_comb_df = dn_comb_df.rename(columns={'sig': 'Signature', 'pval': 'P-value', 'fc': 'Fold Change'})\n",
    "    dn_comb_df['Link to GEO Study'] = dn_comb_df['Signature'].apply(geo_link)"
   ]
  },
  {
   "cell_type": "code",
   "execution_count": null,
   "metadata": {},
   "outputs": [],
   "source": [
    "if has_syn != None:\n",
    "    if has_syn:\n",
    "        display(HTML(f'<div style=\"font-size:1.25rem;padding=0.5rem;\"><b>Top 10 signatures where {gene} (synonym {input_gene}) is up-regulated</b></div>'))\n",
    "    else:\n",
    "        display(HTML(f'<div style=\"font-size:1.25rem;padding=0.5rem;\"><b>Top 10 signatures where {gene} is up-regulated</b></div>'))\n",
    "    display(HTML(f'<div>Asterisk (*) denotes significance (p < 0.05)</div>'))\n",
    "    display(HTML(up_comb_df.to_html(escape=False,index=False)))"
   ]
  },
  {
   "cell_type": "code",
   "execution_count": null,
   "metadata": {},
   "outputs": [],
   "source": [
    "if has_syn != None:\n",
    "    if has_syn:\n",
    "        display(HTML(f'<div style=\"font-size:1.25rem;padding=0.5rem;\"><b>Top 10 signatures where {gene} (synonym {input_gene}) is down-regulated</b></div>'))\n",
    "    else:\n",
    "        display(HTML(f'<div style=\"font-size:1.25rem;padding=0.5rem;\"><b>Top 10 signatures where {gene} is up-regulated</b></div>'))\n",
    "    display(HTML(f'<div>Asterisk (*) denotes significance (p < 0.05)</div>'))\n",
    "    display(HTML(dn_comb_df.to_html(escape=False,index=False)))"
   ]
  },
  {
   "cell_type": "code",
   "execution_count": null,
   "metadata": {},
   "outputs": [],
   "source": []
  }
 ],
 "metadata": {
  "kernelspec": {
   "display_name": "Python 3.8.8 64-bit ('base': conda)",
   "name": "python388jvsc74a57bd02243673956f33393fa53b436ca581bafd2b24bf8fac3c56efa4c7733fa66017b"
  },
  "language_info": {
   "codemirror_mode": {
    "name": "ipython",
    "version": 3
   },
   "file_extension": ".py",
   "mimetype": "text/x-python",
   "name": "python",
   "nbconvert_exporter": "python",
   "pygments_lexer": "ipython3",
   "version": "3.8.8-final"
  }
 },
 "nbformat": 4,
 "nbformat_minor": 2
}
