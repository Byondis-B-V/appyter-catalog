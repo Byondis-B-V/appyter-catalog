{
 "cells": [
  {
   "cell_type": "code",
   "execution_count": null,
   "metadata": {},
   "outputs": [],
   "source": [
    "#%%appyter init\n",
    "from appyter import magic\n",
    "magic.init(lambda _=globals: _())"
   ]
  },
  {
   "cell_type": "code",
   "execution_count": null,
   "metadata": {},
   "outputs": [],
   "source": [
    "# imports\n",
    "import numpy as np\n",
    "import pandas as pd\n",
    "import matplotlib.cm as cm\n",
    "import matplotlib.colors as colors\n",
    "# import base64\n",
    "# from IPython.display import display, Markdown\n",
    "\n",
    "# bokeh\n",
    "from bokeh.io import output_notebook\n",
    "from bokeh.plotting import figure, show\n",
    "from bokeh.models import HoverTool, ColumnDataSource\n",
    "# from bokeh.models import HoverTool, CustomJS, ColumnDataSource, Span\n",
    "# from bokeh.layouts import layout, column, gridplot\n",
    "# from bokeh.layouts import row as bkrow\n",
    "# from bokeh.palettes import all_palettes\n",
    "\n",
    "# display graphics\n",
    "output_notebook()"
   ]
  },
  {
   "cell_type": "markdown",
   "metadata": {},
   "source": [
    "# My Gene's Expression in Type 2 Diabetes Transcriptomics Signatures"
   ]
  },
  {
   "cell_type": "code",
   "execution_count": null,
   "metadata": {},
   "outputs": [],
   "source": [
    "%%appyter hide\n",
    "\n",
    "{% do SectionField(\n",
    "    name = 'INPUT',\n",
    "    title = 'Input Parameters',\n",
    "    subtitle = 'Fill in the species and gene of interest',\n",
    "    img = 'mini_plot.png'\n",
    ")%}"
   ]
  },
  {
   "cell_type": "code",
   "execution_count": null,
   "metadata": {},
   "outputs": [],
   "source": [
    "%%appyter code_exec\n",
    "\n",
    "{% set species = ChoiceField(\n",
    "    name = 'species',\n",
    "    label = 'Species of interest',\n",
    "    choices = {\n",
    "        'Human': 'human',\n",
    "        'Mouse': 'mouse'\n",
    "    },\n",
    "    default = 'Human',\n",
    "    description = 'Select the species of interest',\n",
    "    section = 'INPUT'\n",
    ")%}\n",
    "\n",
    "{% set gene = StringField(\n",
    "    name = 'gene',\n",
    "    label = 'Gene of interest',\n",
    "    default = 'SLC2A2',\n",
    "    description = 'Enter the gene symbol of interest',\n",
    "    section = 'INPUT'\n",
    ")%}"
   ]
  },
  {
   "cell_type": "code",
   "execution_count": null,
   "metadata": {},
   "outputs": [],
   "source": [
    "%%appyter code_exec\n",
    "species = \"{{species.value}}\"\n",
    "gene = \"{{gene.value}}\""
   ]
  },
  {
   "cell_type": "code",
   "execution_count": null,
   "metadata": {},
   "outputs": [],
   "source": [
    "# import preprocessed signature data\n",
    "root_path = 'https://appyters.maayanlab.cloud/storage/Gene_Expression_T2D_Signatures/'\n",
    "pval_df = pd.read_csv(root_path + f\"all_{species}_pval.tsv\", sep='\\t', index_col=0)\n",
    "fc_df = pd.read_csv(root_path + f\"all_{species}_fc.tsv\", sep='\\t', index_col=0)"
   ]
  },
  {
   "cell_type": "code",
   "execution_count": null,
   "metadata": {},
   "outputs": [],
   "source": [
    "# extract gene-specific data\n",
    "comb_df = pd.DataFrame()\n",
    "comb_df['sig'] = pval_df.columns.tolist()\n",
    "comb_df['pval'] = pval_df.loc[gene].tolist()\n",
    "comb_df['logpv'] = np.negative(np.log10(comb_df['pval']))\n",
    "comb_df['fc'] = fc_df.loc[gene].tolist()"
   ]
  },
  {
   "cell_type": "code",
   "execution_count": null,
   "metadata": {},
   "outputs": [],
   "source": [
    "# configure color scheme\n",
    "red_map = cm.get_cmap('Reds_r')\n",
    "red_norm = colors.Normalize(vmin=-0.25, vmax=1)\n",
    "blue_map = cm.get_cmap('Blues_r')\n",
    "blue_norm = colors.Normalize(vmin=-0.25, vmax=1)\n",
    "\n",
    "def map_color(fc, pv):\n",
    "    if fc < 0:\n",
    "        return colors.to_hex(red_map(red_norm(pv)))\n",
    "    elif fc == 0:\n",
    "        return '#808080'\n",
    "    else:\n",
    "        return colors.to_hex(blue_map(blue_norm(pv)))\n",
    "\n",
    "plot_colors = [map_color(r.fc, r.pval) for r in comb_df.itertuples()]\n",
    "sizes = [12 if r.pval < 0.05 else 6 for r in comb_df.itertuples()]"
   ]
  },
  {
   "cell_type": "code",
   "execution_count": null,
   "metadata": {},
   "outputs": [],
   "source": [
    "# generate data source\n",
    "data_source = ColumnDataSource(\n",
    "    data=dict(\n",
    "        x = comb_df['fc'],\n",
    "        y = comb_df['logpv'],\n",
    "        sig = comb_df['sig'],\n",
    "        pval = comb_df['pval'], \n",
    "        fc = comb_df['fc'], \n",
    "        colors = plot_colors, \n",
    "        sizes = sizes\n",
    "    )\n",
    ")\n",
    "# create hover tooltip\n",
    "tools = [\n",
    "    (\"Signature\", \"@sig\"),\n",
    "    (\"P-Value\", \"@pval\"),\n",
    "    (\"Fold Change\", \"@fc\"),\n",
    "]\n",
    "# generate plot\n",
    "plot = figure(\n",
    "    plot_width=700,\n",
    "    plot_height=500,\n",
    "    tooltips=tools\n",
    ")\n",
    "plot.circle(\n",
    "    'x', 'y', \n",
    "    size='sizes',\n",
    "    alpha=0.7, \n",
    "    line_alpha=0,\n",
    "    line_width=0.01, \n",
    "    source=data_source,\n",
    "    fill_color='colors', \n",
    "    name='t2d_expression_volcano_plot'\n",
    ")\n",
    "plot.xaxis.axis_label = 'Fold Change'\n",
    "plot.yaxis.axis_label = '-log10(p-value)'\n",
    "plot.title.text = f\"Expression of {gene} in Type 2 Diabetes Transcriptomics Signatures\"\n",
    "plot.title.align = 'center'\n",
    "plot.title.text_font_size = '14px'"
   ]
  },
  {
   "cell_type": "markdown",
   "metadata": {},
   "source": [
    "The volcano plot below positions each of the Type 2 Diabetes signatures according to the gene-specific fold change (x-position) and -log(p-value) (y-position). **Red** points indicate signatures where the fold change of the chosen gene was < 0, **blue** points indicate fold change > 0, and **gray** points indicate fold change == 0. Signatures where the specified gene was significantly expressed in either direction are denoted by darker color and larger point size. \n",
    "\n",
    "Hover over any point to display the corresponding signature name, the p-value, and the fold change. \n",
    "\n",
    "Use the toolbar on the right side of the plot to pan, zoom, or save the plot."
   ]
  },
  {
   "cell_type": "code",
   "execution_count": null,
   "metadata": {},
   "outputs": [],
   "source": [
    "show(plot)"
   ]
  },
  {
   "cell_type": "code",
   "execution_count": null,
   "metadata": {},
   "outputs": [],
   "source": []
  }
 ],
 "metadata": {
  "kernelspec": {
   "display_name": "Python 3.8.8 64-bit ('base': conda)",
   "name": "python388jvsc74a57bd02243673956f33393fa53b436ca581bafd2b24bf8fac3c56efa4c7733fa66017b"
  },
  "language_info": {
   "codemirror_mode": {
    "name": "ipython",
    "version": 3
   },
   "file_extension": ".py",
   "mimetype": "text/x-python",
   "name": "python",
   "nbconvert_exporter": "python",
   "pygments_lexer": "ipython3",
   "version": "3.8.8-final"
  }
 },
 "nbformat": 4,
 "nbformat_minor": 2
}
