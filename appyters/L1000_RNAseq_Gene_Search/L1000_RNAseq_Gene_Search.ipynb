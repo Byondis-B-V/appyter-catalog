{
 "cells": [
  {
   "cell_type": "code",
   "execution_count": null,
   "metadata": {},
   "outputs": [],
   "source": [
    "#%%appyter init\n",
    "from appyter import magic\n",
    "magic.init(lambda _=globals: _())"
   ]
  },
  {
   "cell_type": "code",
   "execution_count": null,
   "metadata": {},
   "outputs": [],
   "source": [
    "# imports\n",
    "import numpy as np\n",
    "import pandas as pd\n",
    "import matplotlib.cm as cm\n",
    "import matplotlib.colors as colors\n",
    "from IPython.display import HTML, Markdown\n",
    "import warnings\n",
    "import requests\n",
    "import time\n",
    "\n",
    "# bokeh\n",
    "from bokeh.io import output_notebook\n",
    "from bokeh.plotting import figure, show\n",
    "from bokeh.models import ColumnDataSource\n",
    "\n",
    "# display graphics\n",
    "output_notebook()"
   ]
  },
  {
   "cell_type": "code",
   "execution_count": null,
   "metadata": {},
   "outputs": [],
   "source": [
    "%%appyter hide\n",
    "{% do SectionField(\n",
    "    name = 'INPUT',\n",
    "    title = 'Input Parameters',\n",
    "    subtitle = 'Fill in the gene of interest',\n",
    "    img = 'gene.png'\n",
    ")%}"
   ]
  },
  {
   "cell_type": "code",
   "execution_count": null,
   "metadata": {},
   "outputs": [],
   "source": [
    "%%appyter code_exec\n",
    "{% set gene_input = AutocompleteField(\n",
    "    name = 'gene',\n",
    "    label = 'Gene of Interest',\n",
    "    default = 'A1BG',\n",
    "    description = 'Enter the gene symbol of interest.',\n",
    "    file_path = 'https://appyters.maayanlab.cloud/storage/L1000_RNAseq_Gene_Search/allgenes.json',\n",
    "    section='INPUT'\n",
    ")%}"
   ]
  },
  {
   "cell_type": "code",
   "execution_count": null,
   "metadata": {},
   "outputs": [],
   "source": [
    "%%appyter code_exec\n",
    "gene = {{ gene_input }}"
   ]
  },
  {
   "cell_type": "markdown",
   "metadata": {},
   "source": [
    "# RNA-seq-like Gene Centric Signature Reverse Search (RGCSRS)"
   ]
  },
  {
   "cell_type": "code",
   "execution_count": null,
   "metadata": {},
   "outputs": [],
   "source": [
    "root_path = 'https://appyters.maayanlab.cloud/storage/L1000_RNAseq_Gene_Search'"
   ]
  },
  {
   "cell_type": "code",
   "execution_count": null,
   "metadata": {},
   "outputs": [],
   "source": [
    "# load gene info\n",
    "gene_info = pd.read_csv(f\"{root_path}/L1000_to_RNAseq_gene_list.tsv\", sep=\"\\t\", index_col=0)\n",
    "landmark = \"not\"\n",
    "inferred_l1000 = \"not\"\n",
    "if gene_info.loc[gene, \"landmark\"] == True:\n",
    "    landmark = \"\"\n",
    "if gene_info.loc[gene, \"inferred l1000\"] == True:\n",
    "    inferred_l1000 = \"\""
   ]
  },
  {
   "cell_type": "code",
   "execution_count": null,
   "metadata": {},
   "outputs": [],
   "source": [
    "display(Markdown(f\"**Input gene: {gene}**\"))\n",
    "display(Markdown(f\"{gene} is {landmark} an landmark gene.\"))\n",
    "display(Markdown(f\"{gene} is {inferred_l1000} an originally inferred L1000 gene.\"))\n",
    "display(Markdown(f\"{gene} is a newly inferred (our model) gene.\"))\n",
    "display(HTML(f\"\"\"More information about {gene} can be found at the <a href=\"https://cfde-gene-pages.cloud/gene/{gene}?CF=false&PS=true&Ag=true\" target=\"_blank\"> Gene and Drug Landing Page Aggregator</a>\"\"\"))"
   ]
  },
  {
   "cell_type": "markdown",
   "metadata": {},
   "source": [
    "This Appyter provides visualizations of the top 5% of RNA-seq-like signatures induced by CRISPR knockouts and chemical perturbagens. Signatures are computed from transformed data profiles from the [LINCS L1000 data](). The transformation was performed using a two-step model: \n",
    "1. A cycleGAN model was used to first predict the RNA-seq expression of the 978 L1000 landmark genes\n",
    "2. A fully connected neural network was used to extrapolate the predicted RNA-seq expression of the 978 landmark genes to a full set of 23,164 genes\n",
    "\n",
    "Signatures were computed using the characteristic direction method [(Clark et al., 2014)](https://bmcbioinformatics.biomedcentral.com/articles/10.1186/1471-2105-15-79), as implemented [here](https://github.com/MaayanLab/maayanlab-bioinformatics/blob/master/maayanlab_bioinformatics/dge/characteristic_direction.py). \n",
    "\n",
    "The top 5% of signatures were identified based on the mean of the absolute values of the characteristic direction coefficients "
   ]
  },
  {
   "cell_type": "code",
   "execution_count": null,
   "metadata": {},
   "outputs": [],
   "source": [
    "xpr_fc = pd.read_feather(f\"{root_path}/xpr_fc.f\", columns=['index', gene]) \\\n",
    "    .set_index('index').rename(columns={gene: 'FC'})\n",
    "xpr_cd = pd.read_feather(f\"{root_path}/xpr_cd.f\", columns=['index', gene]) \\\n",
    "    .set_index('index').rename(columns={gene: 'CD'})\n",
    "xpr_ranks = pd.read_feather(f\"{root_path}/xpr_ranks.f\", columns=['index', gene]) \\\n",
    "    .set_index('index').rename(columns={gene: 'Rank'})\n",
    "\n",
    "cp_fc = pd.read_feather(f\"{root_path}/cp_fc.f\", columns=['index', gene]) \\\n",
    "    .set_index('index').rename(columns={gene: 'FC'})\n",
    "cp_cd = pd.read_feather(f\"{root_path}/cp_cd.f\", columns=['index', gene]) \\\n",
    "    .set_index('index').rename(columns={gene: 'CD'})\n",
    "cp_ranks = pd.read_feather(f\"{root_path}/cp_ranks.f\", columns=['index', gene]) \\\n",
    "    .set_index('index').rename(columns={gene: 'Rank'})"
   ]
  },
  {
   "cell_type": "code",
   "execution_count": null,
   "metadata": {},
   "outputs": [],
   "source": [
    "red_map = cm.get_cmap('Reds')\n",
    "red_norm = colors.Normalize(vmin=-0.005, vmax=0.01)\n",
    "blue_map = cm.get_cmap('Blues')\n",
    "blue_norm = colors.Normalize(vmin=-0.005, vmax=0.01)\n",
    "\n",
    "def map_color(cd, logfc):\n",
    "    v = cd*logfc\n",
    "    if v < 0: \n",
    "        return '#D3D3D3'\n",
    "    elif cd < 0:\n",
    "        return colors.to_hex(red_map(red_norm(cd*logfc)))\n",
    "    else:\n",
    "        return colors.to_hex(blue_map(blue_norm(cd*logfc)))"
   ]
  },
  {
   "cell_type": "code",
   "execution_count": null,
   "metadata": {},
   "outputs": [],
   "source": [
    "def combine_data(cd_df, fc_df, rank_df):\n",
    "    # extract and combine data for each gene\n",
    "    comb_df = pd.concat([cd_df, fc_df, rank_df], axis=1)\n",
    "    with warnings.catch_warnings(record=True):\n",
    "        comb_df['logFC'] = np.nan_to_num(np.log2(comb_df['FC']), nan=0.0, posinf=0.0, neginf=0.0)\n",
    "    return comb_df\n",
    "\n",
    "def make_plot(comb_df, gene, pert_type):\n",
    "    # set color and size for each point on plot\n",
    "    plot_colors = [map_color(row.CD, row.logFC) for row in comb_df.itertuples()]\n",
    "\n",
    "    # generate data source\n",
    "    data_source = ColumnDataSource(\n",
    "        data=dict(\n",
    "            x = comb_df['logFC'],\n",
    "            y = comb_df['CD'],\n",
    "            cd = comb_df['CD'],\n",
    "            sig = pd.Series(comb_df.index),\n",
    "            fc = comb_df['FC'], \n",
    "            logfc = comb_df['logFC'],\n",
    "            colors = plot_colors, \n",
    "            sizes = [8] * comb_df.shape[0],\n",
    "        )\n",
    "    )\n",
    "\n",
    "    # create hover tooltip\n",
    "    tools = [\n",
    "        (\"Signature\", \"@sig\"),\n",
    "        (\"CD Coeff\", \"@cd\"),\n",
    "        (\"Fold Change\", \"@fc\"),\n",
    "        (\"Log2 Fold Change\", \"@logfc\")\n",
    "    ]\n",
    "    # generate plot and relevant plot labels\n",
    "    plot = figure(\n",
    "        plot_width=700,\n",
    "        plot_height=500,\n",
    "        tooltips=tools\n",
    "    )\n",
    "    \n",
    "    plot.circle(\n",
    "        'x', 'y', \n",
    "        size='sizes',\n",
    "        alpha=0.7, \n",
    "        line_alpha=1,\n",
    "        line_width=1, \n",
    "        line_color='colors',\n",
    "        source=data_source,\n",
    "        fill_color='colors', \n",
    "        name=f\"{gene}_expression_in_L1000_to_RNAseq_{pert_type.replace(' ','')}_volcano_plot\"\n",
    "    )\n",
    "\n",
    "    plot.yaxis.axis_label = 'Characteristic Direction Coefficient'\n",
    "    plot.xaxis.axis_label = 'log2(Fold Change)'\n",
    "    plot.title.text = f\"Differential Expression of {gene} in Transformed {pert_type} L1000 Signatures\"\n",
    "    plot.title.align = 'center'\n",
    "    plot.title.text_font_size = '14px'\n",
    "    show(plot)"
   ]
  },
  {
   "cell_type": "code",
   "execution_count": null,
   "metadata": {},
   "outputs": [],
   "source": [
    "def make_tables(comb_df, pert, is_upreg):\n",
    "    # sigranks = pd.read_feather(f\"{root_path}{species}_affy_fc_sigrank.f\", columns=['index', gene]).set_index('index')\n",
    "    dir_df = comb_df[comb_df['CD'] > 0] if is_upreg else comb_df[comb_df['CD'] < 0]\n",
    "    if dir_df.shape[0] == 0:\n",
    "        return dir_df\n",
    "    dir_df = dir_df.sort_values(by='CD', ascending=not is_upreg)\n",
    "    dir_df['FC'] = dir_df['FC'].apply(lambda x: f'{x:.4f}')\n",
    "    dir_df['CD'] = dir_df['CD'].apply(lambda x: f'{x:.4f}')\n",
    "    if not is_upreg:\n",
    "        dir_df['Rank'] = dir_df['Rank'].apply(lambda x: 23615-x)\n",
    "    if pert == 'xpr':\n",
    "        dir_df['KO Gene'] = dir_df.index.map(lambda x: x.split('_')[4])\n",
    "    else:\n",
    "        dir_df['Perturbagen'] = dir_df.index.map(lambda x: x.split('_')[4])\n",
    "        dir_df['Dose'] = dir_df.index.map(lambda x: x.split('_')[5] if len(x.split('_')) == 6 else '')\n",
    "    dir_df['Cell Line'] = dir_df.index.map(lambda x: x.split('_')[1])\n",
    "    dir_df['Timepoint'] = dir_df.index.map(lambda x: x.split('_')[2].lower())\n",
    "    dir_df = dir_df.rename(columns={\n",
    "            'FC': 'Fold Change', \n",
    "            'logFC': 'Log2(Fold Change)', \n",
    "            'CD': 'CD Coefficient',\n",
    "            'Rank': 'Rank in Signature'})\n",
    "    dir_df.index.names = ['Signature']\n",
    "    return dir_df\n",
    "\n",
    "# create download link for table results\n",
    "def download_link(df, fname):\n",
    "    csv = df.to_csv(fname, sep='\\t', index=True)\n",
    "    link = f'<div>Download full results: <a href=\"{fname}\" target=_blank>{fname}</a></div>'\n",
    "    return link"
   ]
  },
  {
   "cell_type": "code",
   "execution_count": null,
   "metadata": {},
   "outputs": [],
   "source": [
    "def enrichr(pert, top_perts, direction):\n",
    "    if pert == 'CRISPR':\n",
    "        desc = f\"Top CRISPR targets from RNA-seq-like signatures that {direction}-regulate {gene}\"\n",
    "        list_url = 'https://maayanlab.cloud/Enrichr/addList'\n",
    "        enrich_url = 'https://maayanlab.cloud/Enrichr/enrich'\n",
    "    else:\n",
    "        desc = f\"Top compounds from RNA-seq-like signatures that {direction}-regulate {gene}\"\n",
    "        list_url = 'https://maayanlab.cloud/DrugEnrichr/addList'\n",
    "        enrich_url = 'https://maayanlab.cloud/DrugEnrichr/enrich'\n",
    "    payload = {\n",
    "        'list': (None, '\\n'.join(top_perts)),\n",
    "        'description': (None, desc)\n",
    "    }\n",
    "    response = requests.post(list_url, files=payload)\n",
    "    if not response.ok:\n",
    "        raise Exception('Error analyzing gene list')\n",
    "    time.sleep(0.5)\n",
    "    return f\"{enrich_url}?dataset={response.json()['shortId']}\"\n",
    "\n",
    "def enrichr_link(pert, df, direction, gene): \n",
    "    comb_df = df.copy()\n",
    "    comb_df['pert'] = comb_df.index.map(lambda x: x.split('_')[4])\n",
    "    if direction == 'up':\n",
    "        top_perts = comb_df.sort_values(by='CD', ascending=False) \\\n",
    "            .drop_duplicates(subset=['pert'],keep='first')['pert'][:20]\n",
    "    else:\n",
    "        top_perts = comb_df.sort_values(by='CD', ascending=True) \\\n",
    "            .drop_duplicates(subset=['pert'],keep='first')['pert'][:20]\n",
    "    pert_type = 'CRISPR target genes' if pert == 'CRISPR' else 'chemical compounds'\n",
    "    results_url = enrichr(pert, top_perts, direction)\n",
    "    return f'<a href={results_url} target=\"_blank\">Enrichr analysis of top 20 {pert_type} that {direction}-regulate {gene}</a>'\n"
   ]
  },
  {
   "cell_type": "markdown",
   "metadata": {},
   "source": [
    "## CRISPR knockout signatures\n",
    "### Volcano Plots\n",
    "\n",
    "In the following volcano plots, each point represents a single CRISPR KO signature. The x-position indicates the log2(fold change) of the expression of the chosen gene in the signature, while the y-position indicates the characteristic direction coefficient of the chosen gene. \n",
    "\n",
    "Note that the fold change and characteristic direction coefficients of the gene are not necessarily in the same direction for each signature; this is because in cases where a gene is both up- and down-regulated between replicate samples, the characteristic direction method prioritizes the more consistent direction of movement, which may not be consistent with the fold change. To read more about the characteristic direction method, please refer to [Clark et al., 2014](https://bmcbioinformatics.biomedcentral.com/articles/10.1186/1471-2105-15-79).\n",
    "\n",
    "Points with same-direction fold change and CD coefficient values are highlighted by coloring them blue (up-regulated) or red (down-regulated). Darker colored points indicate genes with a larger CD-coefficient or larger fold change. \n",
    "\n",
    "Drag the plot to pan around. Use the toolbar to the right of the plot to zoom, reset the plot view, or download the plot."
   ]
  },
  {
   "cell_type": "code",
   "execution_count": null,
   "metadata": {},
   "outputs": [],
   "source": [
    "# CRISPR\n",
    "comb_df_xpr = combine_data(xpr_cd, xpr_fc, xpr_ranks)\n",
    "make_plot(comb_df_xpr, gene, 'CRISPR')"
   ]
  },
  {
   "cell_type": "markdown",
   "metadata": {},
   "source": [
    "### Tables\n",
    "\n",
    "The tables below display the characteristic direction (CD) coefficients, fold change values, and log2(fold change) values correponding to the expression of the chosen gene in each CRIPSR KO signature. The rank of the gene in the signature, as determined by its CD coefficient relative to the CD coefficients of the other ~23,613 genes, is also provided. Lower numerical ranks indicate stronger differential expression in the respective direction; a rank of 1 in an up-regulated signature indicates that the gene was the most up-regulated gene in that signature, and a rank of 1 in a down-regulated signature indicates the gene was the most down-regulated gene in that signature. \n",
    "\n",
    "While only the top 10 signatures for each direction are displayed, below each table is a link to download the top 100 signatures for each direction. \n",
    "\n",
    "A link to the **Enrichr analysis results** of the top 20 unique perturbations from the top signatures that up or down-regulate the input gene can be found below each table as well. "
   ]
  },
  {
   "cell_type": "code",
   "execution_count": null,
   "metadata": {},
   "outputs": [],
   "source": [
    "display(HTML(f'<div style=\"font-size:1rem;padding=1rem;\"><b>Top CRISPR KO signatures where {gene} is up-regulated (based on CD-coefficient)</b></div>'))\n",
    "display(HTML(make_tables(comb_df_xpr, pert='xpr', is_upreg=True)[:10].to_html(escape=False, col_space=70)))\n",
    "display(HTML(download_link(make_tables(comb_df_xpr, pert='xpr', is_upreg=True)[:100], f\"{gene}_UpReg_L1000_CRISPR_signatures.tsv\")))\n",
    "display(HTML(enrichr_link('CRISPR', comb_df_xpr, 'up', gene)))"
   ]
  },
  {
   "cell_type": "code",
   "execution_count": null,
   "metadata": {},
   "outputs": [],
   "source": [
    "display(HTML(f'<div style=\"font-size:1rem;padding=1rem;\"><b>Top CRISPR KO signatures where {gene} is down-regulated (based on CD-coefficient)</b></div>'))\n",
    "display(HTML(make_tables(comb_df_xpr, pert='xpr', is_upreg=False)[:10].to_html(escape=False, col_space=70)))\n",
    "display(HTML(download_link(make_tables(comb_df_xpr, pert='xpr', is_upreg=True)[:100], f\"{gene}_DnReg_L1000_CRISPR_signatures.tsv\")))\n",
    "display(HTML(enrichr_link('CRISPR', comb_df_xpr, 'down', gene)))"
   ]
  },
  {
   "cell_type": "markdown",
   "metadata": {},
   "source": [
    "## Chemical perturbation signatures\n",
    "### Volcano Plots\n",
    "\n",
    "In the following volcano plot, each point represents a single chemical perturbation signature. The x-position indicates the log2(fold change) of the expression of the chosen gene in the signature, while the y-position indicates the characteristic direction coefficient of the chosen gene. \n",
    "\n",
    "Note that the fold change and characteristic direction coefficients of the gene are not necessarily in the same direction for each signature; this is because in cases where a gene is both up- and down-regulated between replicate samples, the characteristic direction method prioritizes the more consistent direction of movement, which may not be consistent with the fold change. To read more about the characteristic direction method, please refer to [Clark et al., 2014](https://bmcbioinformatics.biomedcentral.com/articles/10.1186/1471-2105-15-79).\n",
    "\n",
    "Points with same-direction fold change and CD coefficient values are highlighted by coloring them blue (up-regulated) or red (down-regulated). Darker colored points indicate genes with a larger CD-coefficient or larger fold change. \n",
    "\n",
    "Drag the plot to pan around. Use the toolbar to the right of the plot to zoom, reset the plot view, or download the plot.\n"
   ]
  },
  {
   "cell_type": "code",
   "execution_count": null,
   "metadata": {},
   "outputs": [],
   "source": [
    "# CP\n",
    "comb_df_cp = combine_data(cp_cd, cp_fc, cp_ranks)\n",
    "make_plot(comb_df_cp, gene, 'Chemical')"
   ]
  },
  {
   "cell_type": "markdown",
   "metadata": {},
   "source": [
    "### Tables\n",
    "\n",
    "The tables below display the characteristic direction (CD) coefficients, fold change values, and log2(fold change) values correponding to the expression of the chosen gene in each chemical perturbation signature. The rank of the gene in the signature, as determined by its CD coefficient relative to the CD coefficients of the other ~23,613 genes, is also provided. Lower numerical ranks indicate stronger differential expression in the respective direction; a rank of 1 in an up-regulated signature indicates that the gene was the most up-regulated gene in that signature, and a rank of 1 in a down-regulated signature indicates the gene was the most down-regulated gene in that signature. \n",
    "\n",
    "While only the top 10 signatures for each direction are displayed, below each table is a link to download the top 100 signatures for each direction. \n",
    "\n",
    "A link to the **Enrichr analysis results** of the top 20 unique perturbations from the top signatures that up or down-regulate the input gene can be found below each table as well. "
   ]
  },
  {
   "cell_type": "code",
   "execution_count": null,
   "metadata": {},
   "outputs": [],
   "source": [
    "display(HTML(f'<div style=\"font-size:1rem;padding=1rem;\"><b>Top chemical perturbation signatures where {gene} is up-regulated (based on CD-coefficient)</b></div>'))\n",
    "display(HTML(make_tables(comb_df_cp, pert='cp', is_upreg=True)[:10].to_html(escape=False, col_space=70)))\n",
    "display(HTML(download_link(make_tables(comb_df_cp, pert='cp', is_upreg=True)[:100], f\"{gene}_UpReg_L1000_CP_signatures.tsv\")))\n",
    "display(HTML(enrichr_link('chemical', comb_df_cp, 'up', gene)))"
   ]
  },
  {
   "cell_type": "code",
   "execution_count": null,
   "metadata": {},
   "outputs": [],
   "source": [
    "display(HTML(f'<div style=\"font-size:1rem;padding=1rem;\"><b>Top chemical perturbation signatures where {gene} is down-regulated (based on CD-coefficient)</b></div>'))\n",
    "display(HTML(make_tables(comb_df_cp, pert='cp', is_upreg=False)[:10].to_html(escape=False, col_space=70)))\n",
    "display(HTML(download_link(make_tables(comb_df_cp, pert='cp', is_upreg=False)[:100], f\"{gene}_DnReg_L1000_CP_signatures.tsv\")))\n",
    "display(HTML(enrichr_link('chemical', comb_df_cp, 'down', gene)))"
   ]
  },
  {
   "cell_type": "code",
   "execution_count": null,
   "metadata": {},
   "outputs": [],
   "source": []
  }
 ],
 "metadata": {
  "interpreter": {
   "hash": "ae02de43a7a1893656bc45d2b0007624c64abadb1f146ae593b6588f2192c0f4"
  },
  "kernelspec": {
   "display_name": "Python 3",
   "language": "python",
   "name": "python3"
  },
  "language_info": {
   "codemirror_mode": {
    "name": "ipython",
    "version": 3
   },
   "file_extension": ".py",
   "mimetype": "text/x-python",
   "name": "python",
   "nbconvert_exporter": "python",
   "pygments_lexer": "ipython3",
   "version": "3.8.8"
  }
 },
 "nbformat": 4,
 "nbformat_minor": 2
}
