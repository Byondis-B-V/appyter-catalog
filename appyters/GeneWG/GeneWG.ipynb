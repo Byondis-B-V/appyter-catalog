{
 "cells": [
  {
   "cell_type": "code",
   "execution_count": null,
   "id": "proof-belief",
   "metadata": {},
   "outputs": [],
   "source": [
    "#%%appyter init\n",
    "from appyter import magic\n",
    "magic.init(lambda _=globals: _())"
   ]
  },
  {
   "cell_type": "code",
   "execution_count": null,
   "id": "considerable-verse",
   "metadata": {},
   "outputs": [],
   "source": [
    "%%appyter code_eval\n",
    "{% do SectionField(\n",
    "    name='primary',\n",
    "    title='CFDE Gene-WG Appyter',\n",
    "    subtitle='Resolve gene-centric information from CF projects',\n",
    "    img='geneicon.png',\n",
    ") %}\n",
    "{% set gene = AutocompleteField(\n",
    "    name='gene',\n",
    "    label='Entrez Gene Symbol',\n",
    "    description='Please choose a valid entrez gene symbol',\n",
    "    default='ACE2',\n",
    "    file_path=url_for('static', filename='genes.json'),\n",
    "    section='primary',\n",
    ") %}"
   ]
  },
  {
   "cell_type": "code",
   "execution_count": null,
   "id": "loaded-morris",
   "metadata": {},
   "outputs": [],
   "source": [
    "%%appyter markdown\n",
    "\n",
    "# CFDE Gene-WG Appyter: {{ gene.raw_value }}\n",
    "\n",
    "Given the gene *{{ gene.raw_value }}*, we request information about it from several different DCCs in hopes of creating a comprehensive knowledge report for it."
   ]
  },
  {
   "cell_type": "code",
   "execution_count": null,
   "id": "employed-immune",
   "metadata": {},
   "outputs": [],
   "source": [
    "import requests\n",
    "import pandas as pd\n",
    "import urllib.parse\n",
    "import json\n",
    "import uuid\n",
    "from itables import show\n",
    "from functools import lru_cache\n",
    "from IPython.display import HTML, display\n",
    "\n",
    "class RenderJSON(object):\n",
    "    ''' https://gist.github.com/t27/48b3ac73a1479914f9fe9383e5d45325 '''\n",
    "    def __init__(self, json_data):\n",
    "        if isinstance(json_data, dict):\n",
    "            self.json_str = json.dumps(json_data)\n",
    "        else:\n",
    "            self.json_str = json_data\n",
    "        self.uuid = str(uuid.uuid4())\n",
    "        \n",
    "    def _ipython_display_(self):\n",
    "        display(HTML('<div id=\"{}\" style=\"height: auto; width:100%;\"></div>'.format(self.uuid)))\n",
    "        display(HTML(\"\"\"<script>\n",
    "        require([\"https://rawgit.com/caldwell/renderjson/master/renderjson.js\"], function() {\n",
    "          renderjson.set_show_to_level(1)\n",
    "          document.getElementById('%s').appendChild(renderjson(%s))\n",
    "        });</script>\n",
    "        \"\"\" % (self.uuid, self.json_str)))\n"
   ]
  },
  {
   "cell_type": "code",
   "execution_count": null,
   "id": "biblical-hepatitis",
   "metadata": {},
   "outputs": [],
   "source": [
    "%%appyter code_exec\n",
    "gene = {{ gene }}"
   ]
  },
  {
   "cell_type": "markdown",
   "id": "seven-destruction",
   "metadata": {},
   "source": [
    "## GTEx\n",
    "\n",
    "<https://gtexportal.org/home/>\n",
    "\n",
    "We query the [GTEx API](https://gtexportal.org/home/api-docs/index.html) to identify tissue sites that significantly express the gene question."
   ]
  },
  {
   "cell_type": "code",
   "execution_count": null,
   "id": "quantitative-marker",
   "metadata": {},
   "outputs": [],
   "source": [
    "@lru_cache()\n",
    "def gtex_singleTissueEqtl(geneSymbol, datasetId='gtex_v8'):\n",
    "    res = requests.get(\n",
    "        'https://gtexportal.org/rest/v1/association/singleTissueEqtl',\n",
    "        params=dict(\n",
    "            format='json',\n",
    "            geneSymbol=geneSymbol,\n",
    "            datasetId=datasetId,\n",
    "        )\n",
    "    )\n",
    "    return res.json()['singleTissueEqtl']"
   ]
  },
  {
   "cell_type": "code",
   "execution_count": null,
   "id": "caring-mongolia",
   "metadata": {},
   "outputs": [],
   "source": [
    "gtex_results = pd.DataFrame(gtex_singleTissueEqtl(gene))\n",
    "columns = list(gtex_results.columns)\n",
    "columns.insert(0, columns.pop(columns.index('nes')))\n",
    "columns.insert(0, columns.pop(columns.index('pValue')))\n",
    "columns.insert(0, columns.pop(columns.index('tissueSiteDetailId')))\n",
    "gtex_results.sort_values('pValue')[columns]"
   ]
  },
  {
   "cell_type": "markdown",
   "id": "convertible-antique",
   "metadata": {},
   "source": [
    "## IDG\n",
    "\n",
    "<https://druggablegenome.net/>\n",
    "\n",
    "We query the [Harmonizome API](https://maayanlab.cloud/Harmonizome/documentation) for associations with various biological entities in a standardized set of numerous omics datasets, as detailed [here](https://maayanlab.cloud/Harmonizome/about)."
   ]
  },
  {
   "cell_type": "code",
   "execution_count": null,
   "id": "comparable-enterprise",
   "metadata": {},
   "outputs": [],
   "source": [
    "@lru_cache()\n",
    "def idg_harmonizome_geneInfo(gene, showAssociations=True, version='1.0'):\n",
    "    res = requests.get(\n",
    "        f\"https://maayanlab.cloud/Harmonizome/api/{urllib.parse.quote(version)}/gene/{urllib.parse.quote(gene)}\",\n",
    "        params=dict(\n",
    "            showAssociations=json.dumps(showAssociations),\n",
    "        ),\n",
    "    )\n",
    "    return res.json()"
   ]
  },
  {
   "cell_type": "code",
   "execution_count": null,
   "id": "competent-darwin",
   "metadata": {},
   "outputs": [],
   "source": [
    "idg_geneInfo = idg_harmonizome_geneInfo(gene)\n",
    "display(RenderJSON(idg_geneInfo))\n",
    "idg_geneAssociations = pd.DataFrame([\n",
    "    dict(\n",
    "        **geneAssociation['geneSet'],\n",
    "        **geneAssociation,\n",
    "    )\n",
    "    for geneAssociation in idg_geneInfo['associations']\n",
    "]).drop(['geneSet'], axis=1).dropna().sort_values('standardizedValue')\n",
    "display(idg_geneAssociations)"
   ]
  },
  {
   "cell_type": "markdown",
   "id": "lyric-sleep",
   "metadata": {},
   "source": [
    "## LINCS\n",
    "\n",
    "<https://lincsproject.org/>"
   ]
  },
  {
   "cell_type": "markdown",
   "id": "thirty-showcase",
   "metadata": {},
   "source": [
    "<b style=\"color: red\">Work in progress -- we need to update the backend to support this query which will return the rank of a gene's expression for each signature; giving us a bunch of drugs in LINCS for which this gene is highly ranked</b>\n",
    "\n",
    "### Signature Commons\n",
    "\n",
    "We query the LINCS data to identify drugs that can be used to significantly upregulate or downregulate a target human gene using the [Signature Commons LINCS API](https://maayanlab.cloud/sigcom-lincs/#/API)."
   ]
  },
  {
   "cell_type": "code",
   "execution_count": null,
   "id": "dressed-malawi",
   "metadata": {},
   "outputs": [],
   "source": [
    "@lru_cache()\n",
    "def lincs_sigcom_meta_gene(gene):\n",
    "    res = requests.get(\n",
    "        'https://maayanlab.cloud/sigcom-lincs/metadata-api/entities',\n",
    "        params=dict(\n",
    "            filter=json.dumps({\n",
    "                'where': {\n",
    "                    'or': [\n",
    "                        {'meta.symbol': gene},\n",
    "                        {'meta.synonyms': gene},\n",
    "                    ],\n",
    "                }\n",
    "            }),\n",
    "        ),\n",
    "    )\n",
    "    return res.json()\n",
    "\n",
    "@lru_cache()\n",
    "def lincs_sigcom_data_gene(geneInfo):\n",
    "    libraries = requests.post('https://maayanlab.cloud/sigcom-lincs/data-api/api/v1/listdata').json()['repositories']\n",
    "    for library in libraries:\n",
    "        res = requests.post(\n",
    "            'https://maayanlab.cloud/sigcom-lincs/data-api/api/v1/enrich/rank',\n",
    "            json=dict(\n",
    "                database=library['uuid'],\n",
    "                entities=[gene['id'] for gene in json.loads(geneInfo)],\n",
    "                signatures=[],\n",
    "            ),\n",
    "        )\n",
    "        for result in res.json()['results']:\n",
    "            yield result"
   ]
  },
  {
   "cell_type": "code",
   "execution_count": null,
   "id": "rotary-boring",
   "metadata": {},
   "outputs": [],
   "source": [
    "lincs_geneInfo = lincs_sigcom_meta_gene('STAT3')\n",
    "display(RenderJSON(lincs_geneInfo))\n",
    "lincs_drugs = list(lincs_sigcom_data_gene(json.dumps(lincs_geneInfo)))\n",
    "display(RenderJSON(lincs_drugs))"
   ]
  },
  {
   "cell_type": "markdown",
   "id": "guided-waterproof",
   "metadata": {},
   "source": [
    "### Enrichr\n",
    "\n",
    "We query Enrichr via [it's API](https://maayanlab.cloud/Enrichr/help#api) to identify lists which contain the gene."
   ]
  },
  {
   "cell_type": "code",
   "execution_count": null,
   "id": "attractive-arcade",
   "metadata": {},
   "outputs": [],
   "source": [
    "@lru_cache()\n",
    "def enrichr_geneMap(gene):\n",
    "    res = requests.get(\n",
    "        'https://maayanlab.cloud/Enrichr/genemap',\n",
    "        params=dict(\n",
    "            gene=gene,\n",
    "            json=json.dumps(True),\n",
    "            setup=json.dumps(True),\n",
    "        ),\n",
    "    )\n",
    "    return res.json()"
   ]
  },
  {
   "cell_type": "code",
   "execution_count": null,
   "id": "owned-opera",
   "metadata": {},
   "outputs": [],
   "source": [
    "lincs_enrichr_geneInfo = enrichr_geneMap(gene)\n",
    "display(RenderJSON(lincs_enrichr_geneInfo))\n",
    "display()\n",
    "lincs_enrichr_results = pd.merge(\n",
    "    left=pd.DataFrame([\n",
    "        dict(name=name, term=term)\n",
    "        for name, terms in lincs_enrichr_geneInfo['gene'].items()\n",
    "        for term in terms\n",
    "    ]),\n",
    "    left_on='name',\n",
    "    right=pd.DataFrame(lincs_enrichr_geneInfo['descriptions']),\n",
    "    right_on='name',\n",
    ")\n",
    "lincs_enrichr_results"
   ]
  },
  {
   "cell_type": "markdown",
   "id": "dietary-hampshire",
   "metadata": {},
   "source": [
    "## GlyGen\n",
    "\n",
    "<https://www.glygen.org/>\n",
    "\n",
    "GlyGen collects extensive protein product information related to Glycans and permits accessing that information over [their API](https://api.glygen.org/)."
   ]
  },
  {
   "cell_type": "code",
   "execution_count": null,
   "id": "micro-dubai",
   "metadata": {},
   "outputs": [],
   "source": [
    "@lru_cache()\n",
    "def glygen_geneNameSearch(recommended_gene_name, organism_taxon_id=9606):\n",
    "    res = requests.get(\n",
    "        'https://api.glygen.org/directsearch/gene/',\n",
    "        params=dict(\n",
    "            query=json.dumps(dict(\n",
    "                recommended_gene_name=recommended_gene_name,\n",
    "                organism=dict(\n",
    "                    id=organism_taxon_id\n",
    "                ),\n",
    "            )),\n",
    "        ),\n",
    "        verify=False, # not sure why on my system I get SSL errors\n",
    "    )\n",
    "    return res.json()"
   ]
  },
  {
   "cell_type": "code",
   "execution_count": null,
   "id": "animated-fraud",
   "metadata": {},
   "outputs": [],
   "source": [
    "glygen_geneInfo = glygen_geneNameSearch(gene)\n",
    "display(RenderJSON(glygen_geneInfo))\n",
    "display(pd.Series(glygen_geneInfo['results'][0]))"
   ]
  },
  {
   "cell_type": "markdown",
   "id": "about-gospel",
   "metadata": {},
   "source": [
    "## Tissue Consensus\n",
    "\n",
    "We try to merge common results to produce a single table presenting results from each independent DCC as one. Tissue was chosen simply because most DCCs seemed to have some knowledge to provide about them. Ideally we would choose other connections such as diseases."
   ]
  },
  {
   "cell_type": "code",
   "execution_count": null,
   "id": "synthetic-event",
   "metadata": {},
   "outputs": [],
   "source": [
    "# get most significant tissue sites for this gene according to gtex\n",
    "gtex_tissue_rankings = gtex_results[['tissueSiteDetailId', 'pValue']] \\\n",
    "    .groupby('tissueSiteDetailId')['pValue']\\\n",
    "    .max()\\\n",
    "    .sort_values()\\\n",
    "    .to_frame('pValue')\\\n",
    "    .reset_index()\\\n",
    "    .rename({'tissueSiteDetailId': 'name'}, axis=1)\n",
    "gtex_tissue_rankings['rank'] = gtex_tissue_rankings['pValue'].rank()\n",
    "gtex_tissue_rankings['present'] = (gtex_tissue_rankings['pValue'] < 0.05).astype(int)\n",
    "gtex_tissue_rankings['from'] = 'gtex'\n",
    "gtex_tissue_rankings"
   ]
  },
  {
   "cell_type": "code",
   "execution_count": null,
   "id": "unique-produce",
   "metadata": {},
   "outputs": [],
   "source": [
    "# get most significant tissue sites for this gene according to idg collected evidences\n",
    "idg_geneAssociations['score'] = -idg_geneAssociations['standardizedValue'].abs()\n",
    "idg_tissue_rankings = idg_geneAssociations[\n",
    "    idg_geneAssociations['name'].str.lower().str.contains('tissue')\n",
    "].set_index('name')['score']\\\n",
    "    .sort_values()\\\n",
    "    .reset_index()\n",
    "idg_tissue_rankings['rank'] = (-idg_tissue_rankings['score'].abs()).rank()\n",
    "idg_tissue_rankings['present'] = (idg_tissue_rankings['score'].abs() > 3).astype(int) # zscore > 3 to be significant\n",
    "idg_tissue_rankings['from'] = 'idg'\n",
    "idg_tissue_rankings"
   ]
  },
  {
   "cell_type": "code",
   "execution_count": null,
   "id": "present-publicity",
   "metadata": {},
   "outputs": [],
   "source": [
    "lincs_tissue_evidence = lincs_enrichr_results[\n",
    "    lincs_enrichr_results['name'].str.lower().str.contains('tissue')\n",
    "].rename({'name': 'evidence', 'term': 'name'}, axis=1)\\\n",
    " .drop('description', axis=1)\n",
    "lincs_tissue_evidence['present'] = 1\n",
    "lincs_tissue_evidence"
   ]
  },
  {
   "cell_type": "code",
   "execution_count": null,
   "id": "precise-hearing",
   "metadata": {},
   "outputs": [],
   "source": [
    "# get curated knowledge about expression of the gene in a tissues according to GlyGen\n",
    "glygen_tissue_evidence = pd.DataFrame([\n",
    "    {\n",
    "        'name': result['tissue'] if type(result['tissue']) == str else result['tissue']['name'],\n",
    "        'present': 1 if result['present'] == 'yes' else 0,\n",
    "        'evidence': ','.join(\n",
    "            f\"{evidence['id']} ({evidence['database']})\"\n",
    "            for evidence in result['evidence']\n",
    "        ),\n",
    "    }\n",
    "    for result in glygen_geneInfo['results'][0]['expression_tissue']\n",
    "]).sort_values('present', ascending=False)\n",
    "glygen_tissue_evidence['from'] = 'glygen'\n",
    "glygen_tissue_evidence"
   ]
  },
  {
   "cell_type": "markdown",
   "id": "wireless-piano",
   "metadata": {},
   "source": [
    "This tables shows a aggregated view of different DCC evidences for the presence of the gene's expression in a tissue."
   ]
  },
  {
   "cell_type": "code",
   "execution_count": null,
   "id": "sporting-feelings",
   "metadata": {},
   "outputs": [],
   "source": [
    "aggregated_tissue_rankings = pd.concat([\n",
    "    gtex_tissue_rankings,\n",
    "    idg_tissue_rankings,\n",
    "    lincs_tissue_evidence,\n",
    "    glygen_tissue_evidence,\n",
    "], ignore_index=True).sort_values(['rank', 'present']).fillna('')\n",
    "show(aggregated_tissue_rankings, maxBytes=0)"
   ]
  },
  {
   "cell_type": "code",
   "execution_count": null,
   "id": "lesbian-fraud",
   "metadata": {},
   "outputs": [],
   "source": []
  }
 ],
 "metadata": {
  "kernelspec": {
   "display_name": "Python 3",
   "language": "python",
   "name": "python3"
  },
  "language_info": {
   "codemirror_mode": {
    "name": "ipython",
    "version": 3
   },
   "file_extension": ".py",
   "mimetype": "text/x-python",
   "name": "python",
   "nbconvert_exporter": "python",
   "pygments_lexer": "ipython3",
   "version": "3.9.2"
  }
 },
 "nbformat": 4,
 "nbformat_minor": 5
}
