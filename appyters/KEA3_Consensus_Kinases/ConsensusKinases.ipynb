{
 "cells": [
  {
   "cell_type": "code",
   "execution_count": null,
   "metadata": {},
   "outputs": [],
   "source": [
    "#%%appyter init\n",
    "from appyter import magic\n",
    "magic.init(lambda _=globals: _())"
   ]
  },
  {
   "cell_type": "code",
   "execution_count": null,
   "metadata": {},
   "outputs": [],
   "source": [
    "%%appyter hide_code\n",
    "{% do SectionField(\n",
    "    name='PRIMARY',\n",
    "    title='KEA3 Consensus Kinases',\n",
    "    subtitle='This appyter returns consensus kinases using a set of gene sets',\n",
    "    img='kea3.png'\n",
    ") %}"
   ]
  },
  {
   "cell_type": "code",
   "execution_count": null,
   "metadata": {},
   "outputs": [],
   "source": [
    "%%appyter markdown\n",
    "\n",
    "{% set title = StringField(\n",
    "    name='title',\n",
    "    label='Notebook name',\n",
    "    default='KEA3 Consensus Kinases',\n",
    "    section=\"PRIMARY\",\n",
    "    constraint='[^<>]*'\n",
    ") %}\n",
    "\n",
    "# {{ title.raw_value }}"
   ]
  },
  {
   "cell_type": "code",
   "execution_count": null,
   "metadata": {},
   "outputs": [],
   "source": [
    "import time\n",
    "import requests\n",
    "import pandas as pd\n",
    "import json\n",
    "import seaborn as sns\n",
    "import matplotlib.pyplot as plt\n",
    "from IPython.display import display, IFrame, Markdown\n",
    "import math\n",
    "import scipy.stats as st\n",
    "import fastcluster"
   ]
  },
  {
   "cell_type": "code",
   "execution_count": null,
   "metadata": {},
   "outputs": [],
   "source": [
    "clustergrammer_url = 'https://maayanlab.cloud/clustergrammer/matrix_upload/'\n",
    "API_URL = 'https://maayanlab.cloud/kea3/api/enrich/'\n",
    "# libraries = [\"ChEA_2016\", \"GO_Biological_Process_2018\" ,\"GWAS_Catalog_2019\" , \"KEGG_2019_Human\"]\n",
    "table = 1\n",
    "figure = 1"
   ]
  },
  {
   "cell_type": "markdown",
   "metadata": {},
   "source": [
    "## Get Input"
   ]
  },
  {
   "cell_type": "code",
   "execution_count": null,
   "metadata": {},
   "outputs": [],
   "source": [
    "%%appyter code_exec\n",
    "\n",
    "\n",
    "{% set input_gene_set = FileField(\n",
    "    name='input_gene_set',\n",
    "    label='Gene Set',\n",
    "    default='SARS-CoV-2_differentially_phosphorelated_proteins_down.gmt',\n",
    "    section=\"PRIMARY\",\n",
    "    examples={\n",
    "        'SARS-CoV-2_differentially_phosphorelated_proteins_down.gmt': 'https://appyters.maayanlab.cloud/storage/KEA3Consensus/SARS-CoV-2_differentially_phosphorelated_proteins_down.gmt',\n",
    "        'SARS-CoV-2_differentially_phosphorelated_proteins_up.gmt': 'https://appyters.maayanlab.cloud/storage/KEA3Consensus/SARS-CoV-2_differentially_phosphorelated_proteins_up.gmt'\n",
    "    }\n",
    ") %}\n",
    "\n",
    "input_gene_set = {{ input_gene_set }}"
   ]
  },
  {
   "cell_type": "code",
   "execution_count": null,
   "metadata": {},
   "outputs": [],
   "source": [
    "enrichment = {}\n",
    "input_sigs = {}\n",
    "with open(input_gene_set) as o:\n",
    "    for line in o:\n",
    "        unpacked = line.strip().split(\"\\t\")\n",
    "        if len(unpacked) == 1:\n",
    "            raise ValueError(\"Line '%s' is either empty or not formatted properly. Please consult README for more information\"%line)\n",
    "        sigid = unpacked[0]\n",
    "        geneset = [i for i in unpacked[1:] if len(i) > 0]\n",
    "        input_sigs[sigid] = {\n",
    "            \"genes\": \", \".join([i.split(\",\")[0] for i in geneset])\n",
    "        }\n",
    "        enrichment[sigid] = {\n",
    "            \"genes\": [i.split(\",\")[0] for i in geneset]\n",
    "        }"
   ]
  },
  {
   "cell_type": "code",
   "execution_count": null,
   "metadata": {},
   "outputs": [],
   "source": [
    "num_sigs = len(enrichment)\n",
    "input_sigs = pd.DataFrame.from_dict(input_sigs, orient=\"index\")\n",
    "display(input_sigs.head(10))\n",
    "display(Markdown(\"**Table %d** Input Signatures\"%(table)), display_id=\"input_sigs\")\n",
    "table+=1"
   ]
  },
  {
   "cell_type": "markdown",
   "metadata": {},
   "source": [
    "## User defined parameters"
   ]
  },
  {
   "cell_type": "code",
   "execution_count": null,
   "metadata": {},
   "outputs": [],
   "source": [
    "%%appyter code_exec\n",
    "top_results = {{IntField(name='min_count', label='Top results', description=\"Number of top results to keep\", default=25, section='PRIMARY')}}\n",
    "width = {{FloatField(name='width', label='image width', default=15, section='PRIMARY')}}\n",
    "height = {{FloatField(name='height', label='image height', default=15, section='PRIMARY')}}"
   ]
  },
  {
   "cell_type": "markdown",
   "metadata": {},
   "source": [
    "## Enrichment"
   ]
  },
  {
   "cell_type": "code",
   "execution_count": null,
   "metadata": {},
   "outputs": [],
   "source": [
    "# KEA3 Functions\n",
    "def get_kea3_results(gene_set, query_name):\n",
    "    payload = {\n",
    "        'gene_set': gene_set,\n",
    "        'query_name': query_name\n",
    "    }\n",
    "    response = requests.post(API_URL, data=json.dumps(payload))\n",
    "    if not response.ok:\n",
    "        raise Exception('Error analyzing gene list')\n",
    "    time.sleep(1)\n",
    "    return json.loads(response.text)"
   ]
  },
  {
   "cell_type": "code",
   "execution_count": null,
   "metadata": {},
   "outputs": [],
   "source": [
    "failed_list = []\n",
    "for description, values in enrichment.items():\n",
    "    print(\"Querying %s\"%(description), end=\"\\r\", flush=True)\n",
    "    genes = values[\"genes\"]\n",
    "    for tries in range(5):\n",
    "        try:\n",
    "            result = get_kea3_results(genes, description)\n",
    "            enrichment[description] = result\n",
    "            break\n",
    "        except Exception as e:\n",
    "            print(e)\n",
    "            time.sleep(0.5)\n",
    "    else:\n",
    "        failed_list.append(description)\n",
    "        continue\n",
    "if len(failed_list):\n",
    "    print(\"Failed to add %d list\"%len(failed_list))"
   ]
  },
  {
   "cell_type": "markdown",
   "metadata": {},
   "source": [
    "## Visualization"
   ]
  },
  {
   "cell_type": "code",
   "execution_count": null,
   "metadata": {},
   "outputs": [],
   "source": [
    "# methods\n",
    "def get_dataframe(results, method, table):\n",
    "    method_renamed = method.replace(\"Integrated--\", \"\").replace(\"Rank\", \" Rank\").lower()\n",
    "    df = pd.DataFrame(index=results.keys())\n",
    "    for k,v in results.items():\n",
    "        scores = v[method]\n",
    "        for s in scores:\n",
    "            tf = s['TF']\n",
    "            score = float(s['Score'])\n",
    "            if tf not in df:\n",
    "                df[tf] = 0.0\n",
    "            df.at[k, tf] = score\n",
    "    df = df.transpose()\n",
    "    df.to_csv(\"%s_df.tsv\"%method, sep=\"\\t\")\n",
    "    display(df.head(10))\n",
    "    display(Markdown(\"**Table %d** The table below shows the %s of kinases for each of the \\\n",
    "        %d input gene sets [Download complete table](%s_df.tsv)\"%(table, method_renamed, num_sigs, method))\n",
    "    )\n",
    "    table+=1\n",
    "    return df, table\n",
    "\n",
    "def get_consensus(df, method, table):\n",
    "    method_renamed = method.replace(\"Integrated--\", \"\").replace(\"Rank\", \" Rank\").lower()\n",
    "#     top_kinase = df.mean(1).sort_values()[0:top_results].to_frame(name=\"scores\")\n",
    "#     top_rank = top_results + 10 if top_results + 10 < len(term_df.index) else top_results\n",
    "    kinases_ranked = (term_df.sum(1)/(term_df>0).sum(1)).sort_values().to_frame(name=\"scores\")\n",
    "    top_kinase = kinases_ranked.iloc[0:top_results]\n",
    "    top_kinase.to_csv(\"%s_top_kinase.tsv\"%method)\n",
    "    display(top_kinase.head(10))\n",
    "    display(Markdown(\"**Table %d** Top %d kinases ranked by the mean of %s scores \\\n",
    "        [Download complete list](%s_top_kinase.tsv)\"%(table, top_results, method_renamed, method)))\n",
    "    table +=1\n",
    "    consensus = df.loc[top_kinase.index]\n",
    "    consensus.to_csv(\"%s_consensus_matrix.tsv\"%method)\n",
    "    display(consensus.head(10))\n",
    "    display(Markdown(\"**Table %d** Consensus matrix of top %d kinases ranked by the mean of %s scores \\\n",
    "        [Download table](%s_consensus_matrix.tsv)\"%(table, top_results, method_renamed, method)))\n",
    "    table +=1\n",
    "    \n",
    "    c = consensus.max(1) + top_kinase.scores\n",
    "    csub = consensus.rsub(c, axis=0)\n",
    "    \n",
    "    minscore = kinases_ranked.scores.min()\n",
    "    maxscore = kinases_ranked.scores.max()\n",
    "    diff = maxscore - minscore\n",
    "    \n",
    "    if (method == \"Integrated--topRank\"):\n",
    "            scaler=1-(top_kinase-minscore)\n",
    "    else:\n",
    "        scaler=-(top_kinase-maxscore)/diff\n",
    "\n",
    "    consensus_scaled = csub.div(csub.sum(1), axis=0).mul(scaler.scores, axis=0)\n",
    "    consensus_scaled.to_csv(\"%s_consensus_scaled.tsv\"%method)\n",
    "    \n",
    "    display(consensus_scaled.head(10))\n",
    "    display(Markdown(\"**Table %d** Consensus matrix of top %d kinases ranked by the scaled mean of %s scores \\\n",
    "        [Download table](%s_consensus_scaled.tsv)\"%(table, top_results, method_renamed, method)))\n",
    "    table +=1\n",
    "    return top_kinase, consensus, consensus_scaled, table\n",
    "\n",
    "cmap = sns.cubehelix_palette(50, hue=0.05, rot=0, light=1, dark=0)\n",
    "cmap_rev = sns.cubehelix_palette(50, hue=0.05, rot=0, light=0, dark=1)\n",
    "\n",
    "def heatmap(df, method, figure, rev=False):\n",
    "    col = cmap_rev if rev else cmap\n",
    "    method_renamed = method.replace(\"Integrated--\", \"\").replace(\"Rank\", \" Rank\").lower()\n",
    "    if not rev:\n",
    "        method_renamed = \"scaled %s\"%method_renamed\n",
    "    cg = sns.clustermap(df, cmap=col, figsize=(width, height), cbar_pos=(0.02, 0.65, 0.05, 0.18),)\n",
    "    cg.ax_row_dendrogram.set_visible(False)\n",
    "    cg.ax_col_dendrogram.set_visible(False)\n",
    "    display(cg)\n",
    "    plt.show()\n",
    "    cg.savefig(\"%s_heatmap.png\"%method)\n",
    "    display(Markdown(\"**Figure %d** Heatmap of top %d kinases ranked by %s\"%(figure, top_results, method_renamed)))\n",
    "    figure += 1\n",
    "    return figure\n",
    "\n",
    "def clustergrammer(df, method, figure):\n",
    "    clustergram_df = df.rename(columns={i:\"Gene set: %s\"%i for i in df.columns}, index={i:\"Kinase: %s\"%i for i in df.index})\n",
    "    name = \"%s_clustergrammer.tsv\"%method\n",
    "    clustergram_df.to_csv(name, sep=\"\\t\")\n",
    "    response = ''\n",
    "    \n",
    "    method_renamed = method.replace(\"Integrated--\", \"\").replace(\"Rank\", \" Rank\").lower()\n",
    "    method_renamed = \"scaled %s\"%method_renamed\n",
    "    \n",
    "    for i in range(5):\n",
    "        try:\n",
    "            res = requests.post(clustergrammer_url, files={'file': open(name, 'rb')})\n",
    "            if not res.ok:\n",
    "                response = res.text\n",
    "                time.sleep(1)\n",
    "            else:\n",
    "                url = res.text.replace(\"http:\",\"https:\")   \n",
    "                break\n",
    "        except Exception as e:\n",
    "            response = e\n",
    "            time.sleep(2)\n",
    "    else:\n",
    "        if type(response) == Exception:\n",
    "            raise response\n",
    "        else:\n",
    "            raise Exception(response)\n",
    "    display(IFrame(url, width=\"1000\", height=\"1000\"))\n",
    "    display(Markdown(\"**Figure %d** Clustergrammer of top %d kinases \\\n",
    "                    ranked by %s. [Go to url](%s)\"%(figure, top_results, method_renamed, url)))\n",
    "    figure +=1\n",
    "    return figure\n",
    "\n",
    "def stackedBarPlot(df, method, figure, rev=False, width = 15, height = 15):\n",
    "    method_renamed = method.replace(\"Integrated--\", \"\").replace(\"Rank\", \" Rank\").lower()\n",
    "    filename = \"%s_heatmap.svg\"%method\n",
    "    if not rev:\n",
    "        method_renamed = \"scaled %s\"%method_renamed\n",
    "        filename = \"scaled_%s\"%method\n",
    "    \n",
    "    df['sum'] = df.sum(axis=1)\n",
    "    df = df.sort_values(by = 'sum', ascending=not rev)[0:top_results]\\\n",
    "        .drop(['sum'], axis = 1)\n",
    "    if df.shape[0]==0:\n",
    "        return False\n",
    "    plot = df.plot.barh(stacked = True, figsize = (width,height), fontsize = 20)\n",
    "    plt.legend(bbox_to_anchor=(1.7, 0), loc='lower right', prop={'size': 16})\n",
    "    plt.xlabel(method_renamed, labelpad = 20, fontsize = 'xx-large')\n",
    "    display(plot)\n",
    "    plt.savefig(filename, format = 'svg', bbox_inches='tight')\n",
    "    plt.show()\n",
    "    display(Markdown(\"**Figure %d** Stacked bar chart of top %d kinases ranked by %s\"%(figure, top_results, method_renamed)))\n",
    "    return figure"
   ]
  },
  {
   "cell_type": "markdown",
   "metadata": {},
   "source": [
    "## Mean Rank"
   ]
  },
  {
   "cell_type": "code",
   "execution_count": null,
   "metadata": {},
   "outputs": [],
   "source": [
    "method = 'Integrated--meanRank'\n",
    "term_df,table = get_dataframe(enrichment, method, table)"
   ]
  },
  {
   "cell_type": "markdown",
   "metadata": {},
   "source": [
    "### Top Kinases and Consensus Matrix"
   ]
  },
  {
   "cell_type": "code",
   "execution_count": null,
   "metadata": {},
   "outputs": [],
   "source": [
    "top_kinase, consensus_df, consensus_scaled, table = get_consensus(term_df, method, table)"
   ]
  },
  {
   "cell_type": "markdown",
   "metadata": {},
   "source": [
    "### Heat map\n",
    "#### Mean Rank"
   ]
  },
  {
   "cell_type": "code",
   "execution_count": null,
   "metadata": {},
   "outputs": [],
   "source": [
    "figure = heatmap(consensus_df, method, figure, rev=True)"
   ]
  },
  {
   "cell_type": "markdown",
   "metadata": {},
   "source": [
    "#### Scaled Mean Rank"
   ]
  },
  {
   "cell_type": "code",
   "execution_count": null,
   "metadata": {},
   "outputs": [],
   "source": [
    "figure = heatmap(consensus_scaled, method, figure)"
   ]
  },
  {
   "cell_type": "markdown",
   "metadata": {},
   "source": [
    "### Clustergrammer"
   ]
  },
  {
   "cell_type": "code",
   "execution_count": null,
   "metadata": {},
   "outputs": [],
   "source": [
    "figure = clustergrammer(consensus_scaled, method, figure)"
   ]
  },
  {
   "cell_type": "markdown",
   "metadata": {},
   "source": [
    "### Stacked bar plot\n",
    "#### Mean Rank"
   ]
  },
  {
   "cell_type": "code",
   "execution_count": null,
   "metadata": {},
   "outputs": [],
   "source": [
    "figure = stackedBarPlot(consensus_df, method, figure, rev=True)"
   ]
  },
  {
   "cell_type": "markdown",
   "metadata": {},
   "source": [
    "#### Scaled Mean Rank"
   ]
  },
  {
   "cell_type": "code",
   "execution_count": null,
   "metadata": {},
   "outputs": [],
   "source": [
    "figure = stackedBarPlot(consensus_scaled, method, figure)"
   ]
  },
  {
   "cell_type": "markdown",
   "metadata": {},
   "source": [
    "## Top Rank"
   ]
  },
  {
   "cell_type": "code",
   "execution_count": null,
   "metadata": {},
   "outputs": [],
   "source": [
    "method = 'Integrated--topRank'\n",
    "term_df,table = get_dataframe(enrichment, method, table)"
   ]
  },
  {
   "cell_type": "markdown",
   "metadata": {},
   "source": [
    "### Top Kinases and Consensus Matrix"
   ]
  },
  {
   "cell_type": "code",
   "execution_count": null,
   "metadata": {},
   "outputs": [],
   "source": [
    "top_kinase, consensus_df, consensus_scaled, table = get_consensus(term_df, method, table)"
   ]
  },
  {
   "cell_type": "markdown",
   "metadata": {},
   "source": [
    "### Heat map\n",
    "#### Top Rank"
   ]
  },
  {
   "cell_type": "code",
   "execution_count": null,
   "metadata": {},
   "outputs": [],
   "source": [
    "figure = heatmap(consensus_df, method, figure, rev=True)"
   ]
  },
  {
   "cell_type": "markdown",
   "metadata": {},
   "source": [
    "#### Scaled Top Rank"
   ]
  },
  {
   "cell_type": "code",
   "execution_count": null,
   "metadata": {},
   "outputs": [],
   "source": [
    "figure = heatmap(consensus_scaled, method, figure)"
   ]
  },
  {
   "cell_type": "markdown",
   "metadata": {},
   "source": [
    "### Clustergrammer"
   ]
  },
  {
   "cell_type": "code",
   "execution_count": null,
   "metadata": {},
   "outputs": [],
   "source": [
    "figure = clustergrammer(consensus_scaled, method, figure)"
   ]
  },
  {
   "cell_type": "markdown",
   "metadata": {},
   "source": [
    "### Stacked bar plot\n",
    "#### Top Rank"
   ]
  },
  {
   "cell_type": "code",
   "execution_count": null,
   "metadata": {},
   "outputs": [],
   "source": [
    "figure = stackedBarPlot(consensus_df, method, figure, rev=True)"
   ]
  },
  {
   "cell_type": "markdown",
   "metadata": {},
   "source": [
    "#### Scaled Top Rank"
   ]
  },
  {
   "cell_type": "code",
   "execution_count": null,
   "metadata": {},
   "outputs": [],
   "source": [
    "figure = stackedBarPlot(consensus_scaled, method, figure)"
   ]
  },
  {
   "cell_type": "markdown",
   "metadata": {},
   "source": [
    "## References\n",
    "[1] Lachmann A, Ma’ayan A. KEA: Kinase enrichment analysis. Bioinformatics 25(5) 684-6 (2009) PMID: 19176546\n",
    "\n",
    "[2] Chen EY, Tan CM, Kou Y, Duan Q, Wang Z, Meirelles GV, Clark NR, Ma'ayan A.\n",
    "Enrichr: interactive and collaborative HTML5 gene list enrichment analysis tool. BMC Bioinformatics. 2013; 128(14).\n",
    "\n",
    "[3] Kuleshov MV, Jones MR, Rouillard AD, Fernandez NF, Duan Q, Wang Z, Koplev S, Jenkins SL, Jagodnik KM, Lachmann A, McDermott MG, Monteiro CD, Gundersen GW, Ma'ayan A.\n",
    "Enrichr: a comprehensive gene set enrichment analysis web server 2016 update. Nucleic Acids Research. 2016; gkw377.\n",
    "\n",
    "[4] Xie Z, Bailey A, Kuleshov MV, Clarke DJB., Evangelista JE, Jenkins SL, Lachmann A, Wojciechowicz ML, Kropiwnicki E, Jagodnik KM, Jeon M, & Ma’ayan A.\n",
    "Gene set knowledge discovery with Enrichr. Current Protocols, 1, e90. 2021. doi: 10.1002/cpz1.90 \n",
    "\n",
    "[5] Fernandez, N. F. et al. Clustergrammer, a web-based heatmap visualization and analysis tool for high-dimensional biological data. Sci. Data 4:170151 doi: 10.1038/sdata.2017.151 (2017).\n",
    "\n",
    "[6] The COVID-19 Gene and Drug Set Library. Kuleshov et al. Patterns. 2020 Jul 25:100090\n",
    "\n",
    "[7] Bouhaddou, Mehdi, et al. \"The global phosphorylation landscape of SARS-CoV-2 infection.\" Cell 182.3 (2020): 685-712."
   ]
  },
  {
   "cell_type": "code",
   "execution_count": null,
   "metadata": {},
   "outputs": [],
   "source": []
  }
 ],
 "metadata": {
  "kernelspec": {
   "display_name": "jupyter-default",
   "language": "python",
   "name": "jupyter-default"
  },
  "language_info": {
   "codemirror_mode": {
    "name": "ipython",
    "version": 3
   },
   "file_extension": ".py",
   "mimetype": "text/x-python",
   "name": "python",
   "nbconvert_exporter": "python",
   "pygments_lexer": "ipython3",
   "version": "3.8.5"
  }
 },
 "nbformat": 4,
 "nbformat_minor": 4
}
