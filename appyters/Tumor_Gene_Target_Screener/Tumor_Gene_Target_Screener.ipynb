{
 "cells": [
  {
   "cell_type": "code",
   "execution_count": null,
   "id": "e6b43d16",
   "metadata": {},
   "outputs": [],
   "source": [
    "#%%appyter init\n",
    "from appyter import magic\n",
    "magic.init(lambda _=globals: _())"
   ]
  },
  {
   "cell_type": "code",
   "execution_count": null,
   "id": "383a8ccb",
   "metadata": {},
   "outputs": [],
   "source": [
    "%%appyter hide_code\n",
    "\n",
    "{% do SectionField(\n",
    "    name='primary',\n",
    "    title='Tumor Gene Target Screener',\n",
    ") %}\n",
    "\n",
    "{% do DescriptionField(\n",
    "    name='data_file_description',\n",
    "    text='''\n",
    "    Files should be a tsv/csv of the form:<br />\n",
    "    <table class=\"table\">\n",
    "    <tr>\n",
    "      <td>&nbsp;</td>\n",
    "      <th>Replicate 1</th>\n",
    "      <th>Replicate 2</th>\n",
    "      <th>...</th>\n",
    "    </tr>\n",
    "    <tr>\n",
    "      <th>Gene 1</th>\n",
    "      <td>0</td>\n",
    "      <td>200</td>\n",
    "      <td>...</td>\n",
    "    </tr>\n",
    "    <tr>\n",
    "      <th>Gene 2</th>\n",
    "      <td>5</td>\n",
    "      <td>180</td>\n",
    "      <td>...</td>\n",
    "    </tr>\n",
    "    <tr>\n",
    "      <th>...</th>\n",
    "      <td>...</td>\n",
    "      <td>...</td>\n",
    "      <td>...</td>\n",
    "    </tr>\n",
    "    </table>''',\n",
    "    section='primary',\n",
    ") %}\n",
    "\n",
    "{% set file = FileField(\n",
    "    name='patient_expression',\n",
    "    label='Patient RNA-seq expression vectors',\n",
    "    description='Gene/Transcripts on the rows, replicates on the columns',\n",
    "    default='GSE49155-lung-squamous-cell-carcinoma.tsv',\n",
    "    required=True,\n",
    "    examples={\n",
    "        'GSE49155-lung-squamous-cell-carcinoma.tsv': 'https://appyters.maayanlab.cloud/storage/Tumor_Gene_Target_Screener/GSE49155-patient.tsv',\n",
    "    },\n",
    "    section='primary',\n",
    ") %}\n",
    "\n",
    "{% set background = TabField(\n",
    "    name='background',\n",
    "    label='Normal tissue background',\n",
    "    description='Patient expression will be contrasted against this background',\n",
    "    default='Precomputed',\n",
    "    choices={\n",
    "        'Precomputed': [\n",
    "            ChoiceField(\n",
    "                name='background_dataset',\n",
    "                label='Normal tissue background',\n",
    "                description='Option 1 uses median vectors for each tissue while option 2 uses them for each tissue subcluster',\n",
    "                choices={\n",
    "                    'GTEx': '\"https://appyters.maayanlab.cloud/storage/Tumor_Gene_Target_Screener/gtex-tissue-stats.tsv\"',\n",
    "                    'ARCHS4': '\"https://appyters.maayanlab.cloud/storage/Tumor_Gene_Target_Screener/archs4-anatomy-stats.tsv\"',\n",
    "                    'ARCHS4 - extra': '\"https://appyters.maayanlab.cloud/storage/Tumor_Gene_Target_Screener/archs4-extra-stats.tsv\"',\n",
    "                },\n",
    "                default='GTEx',\n",
    "            ),\n",
    "        ],\n",
    "        'Custom': [\n",
    "            FileField(\n",
    "                name='background_upload',\n",
    "                label='Normal tissue background',\n",
    "                description='Given a matrix d genes by samples, this matrix can be constructed with `d.T.groupby(sample_tissue_mappings).description().T`',\n",
    "                examples={\n",
    "                    'GTEx': 'https://appyters.maayanlab.cloud/storage/Tumor_Gene_Target_Screener/gtex-tissue-stats.tsv',\n",
    "                },\n",
    "                default=None,\n",
    "                section='primary',\n",
    "            ),\n",
    "            DescriptionField(\n",
    "                name='background_file_description',\n",
    "                text='''\n",
    "                Files should be a tsv/csv of the form:<br />\n",
    "                <table class=\"table\">\n",
    "                <tr>\n",
    "                  <td>&nbsp;</td>\n",
    "                  <td>&nbsp;</td>\n",
    "                  <th>Tissue 1</th>\n",
    "                  <th>...</th>\n",
    "                </tr>\n",
    "                <tr>\n",
    "                  <th>Gene|Transcript 1</th>\n",
    "                  <th>25%</th>\n",
    "                  <td>0</td>\n",
    "                  <td>...</td>\n",
    "                </tr>\n",
    "                <tr>\n",
    "                  <th>...</th>\n",
    "                  <th>...</th>\n",
    "                  <td>...</td>\n",
    "                  <td>...</td>\n",
    "                </tr>\n",
    "                <tr>\n",
    "                  <th>Gene|Transcript n</th>\n",
    "                  <th>mean</th>\n",
    "                  <td>180</td>\n",
    "                  <td>...</td>\n",
    "                </tr>\n",
    "                </table>''',\n",
    "            ),\n",
    "        ],\n",
    "    },\n",
    "    section='primary',\n",
    ") %}\n",
    "\n",
    "{% set background_dataset = background.value[0] %}\n",
    "\n",
    "{% set membrane_screener = BoolField(\n",
    "    name='membrane_screener',\n",
    "    label='Prioritize membrane genes',\n",
    "    default=True,\n",
    "    section='primary',\n",
    ") %}\n",
    "\n",
    "{% set transcript_level = BoolField(\n",
    "    name='transcript_level',\n",
    "    label='Operate directly on transcripts as opposed to genes',\n",
    "    default=False,\n",
    "    yes_label='Transcript Level',\n",
    "    no_label='Gene Level',\n",
    "    section='primary',\n",
    ") %}\n",
    "\n",
    "{% set normalize_to_background = BoolField(\n",
    "    name='normalize_to_background',\n",
    "    label='Normalize to background distribution',\n",
    "    default=True,\n",
    "    section='primary',\n",
    ") %}"
   ]
  },
  {
   "cell_type": "markdown",
   "id": "1920c8e1",
   "metadata": {},
   "source": [
    "# Overexpressed Gene Candidate Identification\n",
    "\n",
    "This appyter uses RNA-seq expression data for a patient and identifies gene over-expression verses a baseline dataset of normal tissues such those in GTEx or ARCHS4. It then prioritizes gene candidates by significance and targetability."
   ]
  },
  {
   "cell_type": "code",
   "execution_count": null,
   "id": "a7095b14",
   "metadata": {},
   "outputs": [],
   "source": [
    "%%appyter code_exec\n",
    "import qnorm\n",
    "import numpy as np\n",
    "import pandas as pd\n",
    "import warnings\n",
    "import matplotlib.pyplot as plt\n",
    "import plotly.graph_objects as go\n",
    "import seaborn as sns\n",
    "from matplotlib.gridspec import GridSpec\n",
    "from matplotlib_venn import venn2\n",
    "from maayanlab_bioinformatics.normalization import zscore_normalize, log2_normalize\n",
    "from maayanlab_bioinformatics.dge import limma_voom_differential_expression\n",
    "{% if membrane_screener.raw_value or not transcript_level.raw_value %}\n",
    "from maayanlab_bioinformatics.harmonization.ncbi_genes import ncbi_genes_lookup\n",
    "lookup = ncbi_genes_lookup()\n",
    "{% endif %}\n",
    "\n",
    "import sys\n",
    "import contextlib\n",
    "@contextlib.contextmanager\n",
    "def suppress_output(stdout=True, stderr=True, dest='/dev/null'):\n",
    "    ''' Usage:\n",
    "    with suppress_output():\n",
    "        print('hi')\n",
    "    '''\n",
    "    dev_null = open(dest, 'a')\n",
    "    if stdout:\n",
    "        _stdout = sys.stdout\n",
    "        sys.stdout = dev_null\n",
    "    if stderr:\n",
    "        _stderr = sys.stderr\n",
    "        sys.stderr = dev_null\n",
    "    try:\n",
    "        yield\n",
    "    finally:\n",
    "        if stdout:\n",
    "            sys.stdout = _stdout\n",
    "        if stderr:\n",
    "            sys.stderr = _stderr"
   ]
  },
  {
   "cell_type": "markdown",
   "id": "a09c972e",
   "metadata": {},
   "source": [
    "## Load Patient RNA-seq Expression Data\n",
    "\n",
    "Load RNA-seq expression data for the patient."
   ]
  },
  {
   "cell_type": "code",
   "execution_count": null,
   "id": "8146bb4e",
   "metadata": {},
   "outputs": [],
   "source": [
    "def read_table(filename):\n",
    "    if filename.endswith('.tsv') or filename.endswith('.tsv.gz'):\n",
    "        return pd.read_csv(filename, sep='\\t', index_col=0)\n",
    "    elif filename.endswith('.csv') or filename.endswith('.csv.gz'):\n",
    "        return pd.read_csv(filename, sep=',', index_col=0)\n",
    "    elif filename.endswith('.gct') or filename.endswith('.gct.gz'):\n",
    "        return pd.read_csv(filename, sep='\\t', index_col=0, skiprows=2)\n",
    "    else:\n",
    "        return pd.read_table(filename, sep=None, engine='python', index_col=0)"
   ]
  },
  {
   "cell_type": "code",
   "execution_count": null,
   "id": "5bddc264",
   "metadata": {},
   "outputs": [],
   "source": [
    "%%appyter code_eval\n",
    "df_expr = read_table({{ file }})\n",
    "{% if transcript_level.raw_value %}\n",
    "df_expr_transcripts = df_expr.index.map(lambda idx: idx.partition('.')[0])\n",
    "df_expr = df_expr.groupby(df_expr_genes, observed=True).sum()\n",
    "{% else %}\n",
    "df_expr_genes = df_expr.index.map(lambda idx: lookup(idx.partition('.')[0]))\n",
    "df_expr = df_expr.groupby(df_expr_genes, observed=True).sum()\n",
    "{% endif %}\n",
    "df_expr"
   ]
  },
  {
   "cell_type": "markdown",
   "id": "4f8cd94c",
   "metadata": {},
   "source": [
    "## Load Background Dataset\n",
    "\n",
    "The background dataset contains expression for normal tissues in many patients."
   ]
  },
  {
   "cell_type": "code",
   "execution_count": null,
   "id": "e1fcc093",
   "metadata": {},
   "outputs": [],
   "source": [
    "%%appyter code_eval\n",
    "df_bg_stats = pd.read_csv({{ background_dataset }}, sep='\\t', index_col=[0,1])\n",
    "{% if transcript_level.raw_value %}\n",
    "df_bg_transcripts = df_bg_stats.unstack().index.map(lambda idx: idx.partition('.')[0])\n",
    "df_bg_stats = df_bg_stats.unstack().groupby(df_bg_transcripts, observed=True).sum().stack()\n",
    "{% else %}\n",
    "df_bg_genes = df_bg_stats.unstack().index.map(lambda idx: lookup(idx.partition('.')[0]))\n",
    "df_bg_stats = df_bg_stats.unstack().groupby(df_bg_genes, observed=True).sum().stack()\n",
    "{% endif %}\n",
    "df_bg_expr = df_bg_stats.loc[(slice(None), ['25%', '50%', '75%']), :].unstack()\n",
    "df_bg_expr"
   ]
  },
  {
   "cell_type": "code",
   "execution_count": null,
   "id": "4228ab6a",
   "metadata": {},
   "outputs": [],
   "source": [
    "%%appyter markdown\n",
    "{% if membrane_screener.raw_value %}\n",
    "\n",
    "## Load Membrane Proteins for Screening\n",
    "\n",
    "Membrane proteins are ideal targets, we can get these from [Membranome](https://membranome.org/) among other places.\n",
    "\n",
    "{% endif %}"
   ]
  },
  {
   "cell_type": "code",
   "execution_count": null,
   "id": "f3ab48cd",
   "metadata": {},
   "outputs": [],
   "source": [
    "%%appyter code_eval\n",
    "{% if membrane_screener.raw_value %}\n",
    "proteins = pd.read_csv('https://lomize-group-membranome.herokuapp.com/proteins?fileFormat=csv')\n",
    "proteins = proteins[proteins['species_name_cache'] == 'Homo sapiens']\n",
    "membrane_proteins = proteins['genename'].map(lookup).dropna()\n",
    "membrane_proteins\n",
    "{% endif %}"
   ]
  },
  {
   "cell_type": "markdown",
   "id": "54f33723",
   "metadata": {},
   "source": [
    "## Distribution matching between patient sample(s) & the background"
   ]
  },
  {
   "cell_type": "code",
   "execution_count": null,
   "id": "9abe8608",
   "metadata": {},
   "outputs": [],
   "source": [
    "fig, ((ax11, ax12), (ax21, ax22)) = plt.subplots(2, 2)\n",
    "log2_normalize(df_expr).median(axis=1).hist(bins=100, ax=ax11)\n",
    "ax11.set_title('Median Expression')\n",
    "df_expr.median(axis=0).hist(bins=100, ax=ax12)\n",
    "ax12.set_title('Median Sample Expression')\n",
    "log2_normalize(df_bg_expr).median(axis=1).hist(bins=100, ax=ax21)\n",
    "df_bg_expr.median(axis=0).hist(bins=100, ax=ax22)"
   ]
  },
  {
   "cell_type": "code",
   "execution_count": null,
   "id": "86d831ed",
   "metadata": {},
   "outputs": [],
   "source": [
    "common_index = list(set(df_expr.index) & set(df_bg_expr.index))\n",
    "venn2([set(df_expr.index), set(df_bg_expr.index)],\n",
    "      ['Patients  ', '  Background'])"
   ]
  },
  {
   "cell_type": "code",
   "execution_count": null,
   "id": "d57b7045",
   "metadata": {},
   "outputs": [],
   "source": [
    "%%appyter code_exec\n",
    "{% if normalize_to_background.raw_value %}\n",
    "target_distribution = df_bg_expr.loc[common_index, :].median(axis=1)\n",
    "df_expr_norm = qnorm.quantile_normalize(df_expr.loc[common_index, :], target=target_distribution)\n",
    "df_bg_expr_norm = qnorm.quantile_normalize(df_bg_expr.loc[common_index, :], target=target_distribution)\n",
    "\n",
    "fig, ((ax11, ax12), (ax21, ax22)) = plt.subplots(2, 2)\n",
    "log2_normalize(df_expr_norm).median(axis=1).hist(bins=100, ax=ax11)\n",
    "ax11.set_title('Median Expression')\n",
    "df_expr_norm.median(axis=0).hist(bins=100, ax=ax12)\n",
    "ax12.set_title('Median Sample Expression')\n",
    "log2_normalize(df_bg_expr_norm).median(axis=1).hist(bins=100, ax=ax21)\n",
    "df_bg_expr_norm.median(axis=0).hist(bins=100, ax=ax22)\n",
    "{% else %}\n",
    "print('Warning: Proceeding without normalization')\n",
    "df_expr_norm = df_expr.loc[common_index, :]\n",
    "df_bg_expr_norm = df_bg_expr.loc[common_index, :]\n",
    "{% endif %}"
   ]
  },
  {
   "cell_type": "markdown",
   "id": "f4697e36",
   "metadata": {},
   "source": [
    "## Perform Differential Expression between Patient & Background"
   ]
  },
  {
   "cell_type": "code",
   "execution_count": null,
   "id": "00c36bac",
   "metadata": {},
   "outputs": [],
   "source": [
    "with suppress_output():\n",
    "    dge = limma_voom_differential_expression(\n",
    "        df_bg_expr_norm, df_expr_norm,\n",
    "        voom_design=True,\n",
    "    )\n",
    "dge"
   ]
  },
  {
   "cell_type": "markdown",
   "id": "341d304f",
   "metadata": {},
   "source": [
    "## Narrow down Geneset"
   ]
  },
  {
   "cell_type": "code",
   "execution_count": null,
   "id": "089169e5",
   "metadata": {},
   "outputs": [],
   "source": [
    "dge['-log(adj.P.Val)'] = -np.log(dge['adj.P.Val'])\n",
    "prod = (np.abs(dge['t']) * dge['logFC'])\n",
    "dge['is_significant'] = prod > prod.mean() + 3 * prod.std()\n",
    "dge['score'] = dge['is_significant'].astype(int)\n",
    "sns.scatterplot(data=dge, x='logFC', y='-log(adj.P.Val)', hue='is_significant', s=4)"
   ]
  },
  {
   "cell_type": "code",
   "execution_count": null,
   "id": "dc7db40a",
   "metadata": {},
   "outputs": [],
   "source": [
    "%%appyter code_exec\n",
    "{% if membrane_screener.raw_value %}\n",
    "dge['is_membrane'] = np.in1d(dge.index, membrane_proteins)\n",
    "dge['score'] = dge['score'] + dge['is_membrane'].astype(int)\n",
    "sns.scatterplot(data=dge, x='logFC', y='-log(adj.P.Val)', hue='is_membrane', s=10)\n",
    "{% endif %}"
   ]
  },
  {
   "cell_type": "code",
   "execution_count": null,
   "id": "9c798125",
   "metadata": {},
   "outputs": [],
   "source": [
    "dge_final = dge[dge.score > 1].sort_values(['score', 't'], ascending=False).iloc[:16]\n",
    "dge_final"
   ]
  },
  {
   "cell_type": "markdown",
   "id": "9b96eb7b",
   "metadata": {},
   "source": [
    "## Review Selected Genes"
   ]
  },
  {
   "cell_type": "code",
   "execution_count": null,
   "id": "f920e7c2",
   "metadata": {},
   "outputs": [],
   "source": [
    "for gene in dge_final.index:\n",
    "    fig = go.Figure()\n",
    "    fig.add_trace(go.Box(\n",
    "        lowerfence=df_bg_stats.loc[(gene, 'min')],\n",
    "        q1=df_bg_stats.loc[(gene, '25%')],\n",
    "        median=df_bg_stats.loc[(gene, '50%')],\n",
    "        q3=df_bg_stats.loc[(gene, '75%')],\n",
    "        upperfence=df_bg_stats.loc[(gene, 'max')],\n",
    "        mean=df_bg_stats.loc[(gene, 'mean')],\n",
    "        sd=df_bg_stats.loc[(gene, 'std')],\n",
    "        x=df_bg_stats.columns,\n",
    "        name='Background',\n",
    "    ))\n",
    "    fig.add_trace(go.Box(\n",
    "        y=df_expr_norm.loc[gene],\n",
    "        name='Patient (Normalized)',\n",
    "    ))\n",
    "    fig.update_layout(title=gene, autosize=True)\n",
    "    fig.show()"
   ]
  }
 ],
 "metadata": {
  "kernelspec": {
   "display_name": "Python 3 (ipykernel)",
   "language": "python",
   "name": "python3"
  },
  "language_info": {
   "codemirror_mode": {
    "name": "ipython",
    "version": 3
   },
   "file_extension": ".py",
   "mimetype": "text/x-python",
   "name": "python",
   "nbconvert_exporter": "python",
   "pygments_lexer": "ipython3",
   "version": "3.10.4"
  }
 },
 "nbformat": 4,
 "nbformat_minor": 5
}
