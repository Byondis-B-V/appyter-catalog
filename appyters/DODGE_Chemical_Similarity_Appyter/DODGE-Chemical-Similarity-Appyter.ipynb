{
 "cells": [
  {
   "cell_type": "markdown",
   "metadata": {},
   "source": [
    "# DODGEKB Chemical Similarity Appyter\n",
    "DODGEKB (Defective Organ Development Genetic Effects Knowledge Base) is an initiative that will produce a knowledge graph that connects phenotypes, tissues and organs, cell types and cell lines, drugs, and genes, based on knowledge and annotations captured across Common Fund DCCs.\n",
    "\n",
    "This Appyter provides knowledge from the chemical standpoint by facilitating the querying of small molecules (i.e. teratogens) to retrieve similiar small molecules based on Tanimoto structural similarity and similarity in the L1000 gene expression space. In this way, potentiallly teratogenic small molecules can be prioritized based on their structural and gene expression-based similarity to known teratogens."
   ]
  },
  {
   "cell_type": "code",
   "execution_count": null,
   "metadata": {},
   "outputs": [],
   "source": [
    "#%%appyter init\n",
    "from appyter import magic\n",
    "magic.init(lambda _=globals: _())"
   ]
  },
  {
   "cell_type": "code",
   "execution_count": null,
   "metadata": {},
   "outputs": [],
   "source": [
    "import pandas as pd\n",
    "import numpy as np\n",
    "\n",
    "# Display / graphing\n",
    "from IPython.display import display, HTML\n",
    "\n",
    "# API access\n",
    "import requests\n",
    "import json"
   ]
  },
  {
   "cell_type": "code",
   "execution_count": null,
   "metadata": {},
   "outputs": [],
   "source": [
    "# Notebook display util functions\n",
    "def make_clickable(link):\n",
    "    return f'<a target=\"_blank\" href=\"{link}\">{link}</a>'\n",
    "\n",
    "table_number = 0\n",
    "figure_number = 0\n",
    "def figure_header(label,title):\n",
    "    global table_number\n",
    "    global figure_number\n",
    "    if label == 'Table':\n",
    "        table_number += 1\n",
    "        label = f'Table {table_number}'\n",
    "    elif label == 'Figure':\n",
    "        figure_number += 1\n",
    "        label = f'Figure {figure_number}'\n",
    "    display(HTML(f\"<div style='font-size:1.25rem; padding:1rem 0;'><b>{label}</b>: {title}</div>\"))\n",
    "    \n",
    "def figure_legend(label,title,content=''):\n",
    "    global table_number\n",
    "    global figure_number\n",
    "    if label == 'Table':\n",
    "        label = f'Table {table_number}'\n",
    "    elif label == 'Figure':\n",
    "        label = f'Figure {figure_number}'\n",
    "    display(HTML(f'<style>div.caption {{text-align: center;}}</style><div class=caption><b>{label}</b>: <i>{title}</i>. {content} </div>'))"
   ]
  },
  {
   "cell_type": "code",
   "execution_count": null,
   "metadata": {},
   "outputs": [],
   "source": [
    "L1000_similarity_scores = requests.get('https://appyters.maayanlab.cloud/storage/DODGE-Chemical-Similarity/L1000_signature_similarity_scores.json').json()\n",
    "ECFP4_similartiy_scores = requests.get('https://appyters.maayanlab.cloud/storage/DODGE-Chemical-Similarity/ECFP4_similarity_scores.json').json()\n",
    "ECFP6_similarity_scores = requests.get('https://appyters.maayanlab.cloud/storage/DODGE-Chemical-Similarity/ECFP6_similarity_scores.json').json()"
   ]
  },
  {
   "cell_type": "code",
   "execution_count": null,
   "metadata": {},
   "outputs": [],
   "source": [
    "%%appyter hide_code\n",
    "\n",
    "{% do SectionField(name='method_selection',\n",
    "                   title='Input a small molecule of interest',\n",
    "                   subtitle='Type a small molecule name of interest into the autocomplete field below to find\\\n",
    "                   related small molecules based on Tanimoto similarity and L1000 gene expression signature\\\n",
    "                   similarity.',\n",
    "                   img='drug.png'\n",
    ")%}\n",
    "\n",
    "{% set drug = AutocompleteField(name = 'drug',\n",
    "                                label = 'Small molecule name',\n",
    "                                default = 'valproic-acid',\n",
    "                                description = 'Enter the small molecule name of interest',\n",
    "                                file_path = 'https://appyters.maayanlab.cloud/storage/DODGE-Chemical-Similarity/lincs_drugs.json',\n",
    "                                section = 'method_selection'\n",
    ")%}"
   ]
  },
  {
   "cell_type": "code",
   "execution_count": null,
   "metadata": {},
   "outputs": [],
   "source": [
    "%%appyter markdown\n",
    "### Top 20 LINCS small molecules most similar to {{drug.value}} based on ECFP4 Tanimoto Similarity\n",
    "The canonical SMILES strings of LINCS small molecules were converted into Extended Connectivity\n",
    "Fingerprints (radius=4) using RDKit. Tanimoto similarity between all unique small molecules was computed.\n",
    "The top 20 most similar small molecules, ranked by Tanimoto similarity, are displayed in the\n",
    "table below along with a downloadable version with the top 100 most similar small molecules."
   ]
  },
  {
   "cell_type": "code",
   "execution_count": null,
   "metadata": {},
   "outputs": [],
   "source": [
    "%%appyter code_exec\n",
    "ecfp4 = pd.DataFrame.from_dict(ECFP4_similartiy_scores[{{drug}}],\n",
    "                       orient='index',\n",
    "                       columns = ['Tanimoto Similarity Score'])\n",
    "filename = f\"{{drug.value}}_ECFP4_Tanimoto_Similarity.csv\"\n",
    "ecfp4.to_csv(filename)\n",
    "figure_header('Table', 'Top Predicted Compounds From ECFP4 Tanimoto Similarity<br>({})</br>'.format(make_clickable(filename)))\n",
    "display(ecfp4.head(20))"
   ]
  },
  {
   "cell_type": "code",
   "execution_count": null,
   "metadata": {},
   "outputs": [],
   "source": [
    "%%appyter markdown\n",
    "### Top 20 LINCS small molecules most similar to {{drug.value}} based on ECFP6 Tanimoto Similarity\n",
    "The canonical SMILES strings of LINCS small molecules were converted into Extended Connectivity\n",
    "Fingerprints (radius=6) using RDKit. Tanimoto similarity between all unique small molecules was computed.\n",
    "The top 20 most similar small molecules, ranked by Tanimoto similarity, are displayed in the\n",
    "table below along with a downloadable version with the top 100 most similar small molecules."
   ]
  },
  {
   "cell_type": "code",
   "execution_count": null,
   "metadata": {},
   "outputs": [],
   "source": [
    "%%appyter code_exec\n",
    "ecfp6 = pd.DataFrame.from_dict(ECFP6_similarity_scores[{{drug}}],\n",
    "                       orient='index',\n",
    "                       columns = ['Tanimoto Similarity Score'])\n",
    "filename = f\"{{drug.value}}_ECFP6_Tanimoto_Similarity.csv\"\n",
    "ecfp6.to_csv(filename)\n",
    "figure_header('Table', 'Top Predicted Compounds From ECFP6 Tanimoto Similarity<br>({})</br>'.format(make_clickable(filename)))\n",
    "display(ecfp6.head(20))"
   ]
  },
  {
   "cell_type": "code",
   "execution_count": null,
   "metadata": {},
   "outputs": [],
   "source": [
    "%%appyter markdown\n",
    "### Top 20 LINCS small molecules most similar to {{drug.value}} based on L1000 gene expression similarity\n",
    "Consensus signatures were computed for each unique LINCS small molecule and pairwise cosine similarity of the\n",
    "gene expression vectors between all unique small molecules was computed. The top 20 most similar small molecules,\n",
    "ranked by L1000 gene expression signature cosine similarity, are displayed in the table below along with a\n",
    "downloadable version with the top 100 most similar small molecules."
   ]
  },
  {
   "cell_type": "code",
   "execution_count": null,
   "metadata": {},
   "outputs": [],
   "source": [
    "%%appyter code_exec\n",
    "l1000_ge = pd.DataFrame.from_dict(L1000_similarity_scores[{{drug}}],\n",
    "                       orient='index',\n",
    "                       columns = ['Cosine similarity of L1000 signatures'])\n",
    "filename = f\"{{drug.value}}_L1000_Signature_Similarity.csv\"\n",
    "l1000_ge.to_csv(filename)\n",
    "figure_header('Table', 'Top Predicted Compounds From L1000 Gene Expression Signature Similarity<br>({})</br>'.format(make_clickable(filename)))\n",
    "display(l1000_ge.head(20))"
   ]
  }
 ],
 "metadata": {
  "kernelspec": {
   "display_name": "DrugShot",
   "language": "python",
   "name": "drugshot"
  },
  "language_info": {
   "codemirror_mode": {
    "name": "ipython",
    "version": 3
   },
   "file_extension": ".py",
   "mimetype": "text/x-python",
   "name": "python",
   "nbconvert_exporter": "python",
   "pygments_lexer": "ipython3",
   "version": "3.8.3"
  }
 },
 "nbformat": 4,
 "nbformat_minor": 4
}
