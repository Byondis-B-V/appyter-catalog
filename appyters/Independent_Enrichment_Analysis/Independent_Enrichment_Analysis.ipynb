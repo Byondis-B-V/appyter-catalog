{
 "cells": [
  {
   "cell_type": "markdown",
   "metadata": {},
   "source": [
    "# Independent Enrichment Analysis"
   ]
  },
  {
   "cell_type": "markdown",
   "metadata": {},
   "source": [
    "This Appyter performs enrichment analysis using given input signature against input background signatures. It also visualizes the enrichment analysis results."
   ]
  },
  {
   "cell_type": "code",
   "execution_count": null,
   "metadata": {},
   "outputs": [],
   "source": [
    "#%%appyter init\n",
    "from appyter import magic\n",
    "magic.init(lambda _=globals: _())"
   ]
  },
  {
   "cell_type": "code",
   "execution_count": null,
   "metadata": {},
   "outputs": [],
   "source": [
    "from maayanlab_bioinformatics.enrichment.crisp import enrich_crisp, fisher_overlap\n",
    "import pandas as pd\n",
    "import matplotlib.pyplot as plt\n",
    "import seaborn as sns\n",
    "import numpy as np\n",
    "from IPython.display import display, FileLink, Markdown, HTML\n",
    "\n",
    "# Manhattan Plot Imports\n",
    "import matplotlib.patches as mpatches\n",
    "import matplotlib.cm as cm\n",
    "\n",
    "# Bokeh\n",
    "from bokeh.io import output_notebook\n",
    "from bokeh.plotting import figure, show\n",
    "from bokeh.models import HoverTool, CustomJS, ColumnDataSource, Span\n",
    "from bokeh.layouts import layout, row, column, gridplot\n",
    "from bokeh.palettes import all_palettes\n",
    "\n",
    "import base64"
   ]
  },
  {
   "cell_type": "code",
   "execution_count": null,
   "metadata": {},
   "outputs": [],
   "source": [
    "%%appyter hide_code_exec\n",
    "{% do SectionField(\n",
    "    name='Signature_Section',\n",
    "    title='Submit Your Gene Set',\n",
    "    subtitle='Upload a text file containing your gene set or copy and paste your gene set into the text box below (one gene per row). You can also try the default gene set provided.',\n",
    "    img='analysis.png'\n",
    "    \n",
    ") %}\n",
    "{% do SectionField(\n",
    "    name='Library_Section',\n",
    "    title='Submit Your Gene Set Library',\n",
    "    subtitle='Load your gene set library. Upload a GMT file containing your gene signatures. You can also load the default gene set library.',\n",
    "    img='analysis.png'\n",
    "    \n",
    ") %}\n"
   ]
  },
  {
   "cell_type": "code",
   "execution_count": null,
   "metadata": {},
   "outputs": [],
   "source": [
    "%%appyter hide_code\n",
    "\n",
    "{% set gene_set_kind = TabField(\n",
    "    name='gene_set_kind',\n",
    "    label='Gene Set',\n",
    "    default='Paste',\n",
    "    description='Paste or upload your gene set',\n",
    "    choices={\n",
    "        'Paste': [\n",
    "            TextField(\n",
    "                name='gene_set_input',\n",
    "                label='Gene Set',\n",
    "                default='hexachlorophene\\nlopinavir\\nbazedoxifene\\nabemaciclib\\ncamostat\\nmefloquine\\ncyclosporine\\nanidulafungin\\nchloroquine\\namodiaquine\\nloperamide\\nalmitrine\\nhydroxychloroquine\\nniclosamide\\nivacaftor\\nproscillaridin\\nremdesivir',\n",
    "                description='Paste your gene set (one gene per row). Gene names in the gene set should match the gene names in the GMT file.',\n",
    "                section = 'Signature_Section'\n",
    "            ),\n",
    "        ],\n",
    "        'Upload': [\n",
    "            FileField(\n",
    "                name='gene_set_filename',\n",
    "                label='Gene Set File',\n",
    "                default='',\n",
    "                description='Upload your gene set as a text file (one gene per row). Gene names in the gene set should match the gene names in the GMT file.',\n",
    "                section = 'Signature_Section'\n",
    "            ),\n",
    "        ],\n",
    "    },\n",
    "    section = 'Signature_Section',\n",
    ") %}"
   ]
  },
  {
   "cell_type": "code",
   "execution_count": null,
   "metadata": {},
   "outputs": [],
   "source": [
    "%%appyter code_exec\n",
    "{% set library_filename = FileField(\n",
    "    name='library_filename', \n",
    "    label='Library file (.gmt or .txt)', \n",
    "    default='L1000FWD_GO_Biological_Processes_Down.txt',\n",
    "    examples={'L1000FWD_GO_Biological_Processes_Down.txt': \"https://maayanlab.cloud/DrugEnrichr/geneSetLibrary?mode=text&libraryName=L1000FWD_GO_Biological_Processes_Down\"}, \n",
    "    description='A tab-delimited file format that describes gene sets. Visit https://bit.ly/35crtXQ for more information.', \n",
    "    section='Library_Section')\n",
    "\n",
    "%}"
   ]
  },
  {
   "cell_type": "code",
   "execution_count": null,
   "metadata": {},
   "outputs": [],
   "source": [
    "%%appyter code_exec\n",
    "\n",
    "{%- if gene_set_kind.raw_value == 'Paste' %}\n",
    "gene_set_input = {{ gene_set_kind.value[0] }}\n",
    "{%- else %}\n",
    "gene_set_filename = {{ gene_set_kind.value[0] }}\n",
    "{%- endif %}\n",
    "library_filename = \"{{library_filename.value}}\"\n",
    "library_name = library_filename.replace(\"_\", \" \").replace(\".txt\", \"\").replace(\".gmt\", \"\")"
   ]
  },
  {
   "cell_type": "code",
   "execution_count": null,
   "metadata": {},
   "outputs": [],
   "source": [
    "output_notebook()\n",
    "# Table Parameters\n",
    "significance_value = 0.05\n",
    "display_topk = 20\n",
    "\n",
    "# Bar Chart Parameters\n",
    "figure_file_format = ['png', 'svg']\n",
    "output_file_name = 'Enrichment_analysis_results_bar'\n",
    "color = 'lightskyblue'\n",
    "final_output_file_names = ['{0}.{1}'.format(output_file_name, file_type) for file_type in figure_file_format]\n",
    "topk = 10\n",
    "\n",
    "# Manhattan Plot Parameters\n",
    "manhattan_colors = ['#003f5c', '#7a5195', '#ef5675', '#ffa600']"
   ]
  },
  {
   "cell_type": "code",
   "execution_count": null,
   "metadata": {},
   "outputs": [],
   "source": [
    "%%appyter code_exec\n",
    "\n",
    "{%- if gene_set_kind.raw_value == 'Paste' %}\n",
    "genes = gene_set_input.split('\\n')\n",
    "genes = [x.strip() for x in genes]\n",
    "{%- else %}\n",
    "open_gene_set_file = open(gene_set_filename,'r')\n",
    "lines = open_gene_set_file.readlines()\n",
    "genes = [x.strip() for x in lines]\n",
    "open_gene_set_file.close()\n",
    "{%- endif %}"
   ]
  },
  {
   "cell_type": "code",
   "execution_count": null,
   "metadata": {},
   "outputs": [],
   "source": [
    "def load_library(library_filename):\n",
    "    library_data = list()\n",
    "    geneset_names = list()\n",
    "    with open(library_filename, \"r\") as f:\n",
    "        lines = f.readlines()\n",
    "        for line in lines:\n",
    "            splited = line.strip().split(\"\\t\")\n",
    "            geneset = [splited[0]]\n",
    "            geneset.append(\" \".join(splited[2:]))\n",
    "            library_data.append(geneset)\n",
    "            geneset_names.append(splited[0])\n",
    "    \n",
    "    return library_data, geneset_names\n",
    "\n",
    "\n",
    "# Enrichment analysis\n",
    "def get_library_iter(library_data):\n",
    "    for member in library_data:        \n",
    "        term = member[0]\n",
    "        gene_set = member[1].split(' ')\n",
    "        yield term, gene_set\n",
    "\n",
    "def get_enrichment_results(genes, library_data):\n",
    "    return sorted(enrich_crisp(genes, get_library_iter(library_data), 20000, True), key=lambda r: r[1].pvalue)\n",
    "\n",
    "def get_pvalue(row, unzipped_results, all_results):\n",
    "    if row['Name'] in list(unzipped_results[0]):\n",
    "        index = list(unzipped_results[0]).index(row['Name'])\n",
    "        return all_results[index][1].pvalue\n",
    "    else:\n",
    "        return 1\n",
    "    \n",
    "# Call enrichment results and return a plot and dataframe for Scatter Plot\n",
    "def get_values(obj_list):\n",
    "    pvals = []\n",
    "    odds_ratio = []\n",
    "    n_overlap = []\n",
    "    overlap = []\n",
    "    for i in obj_list:\n",
    "        pvals.append(i.pvalue)\n",
    "        odds_ratio.append(i.odds_ratio)\n",
    "        n_overlap.append(i.n_overlap)\n",
    "        overlap.append(i.overlap)\n",
    "    return pvals, odds_ratio, n_overlap, overlap\n",
    "\n",
    "\n",
    "def enrichment_analysis(genes, library_filename):\n",
    "    library_data, geneset_names = load_library(library_filename)\n",
    "    all_results = get_enrichment_results(genes, library_data)\n",
    "    unzipped_results = list(zip(*all_results))\n",
    "    pvals, odds_ratio, n_overlap, overlap = get_values(unzipped_results[1])\n",
    "    df = pd.DataFrame({\"Gene Set\":unzipped_results[0], \"p value\": pvals, \\\n",
    "                       \"odds_ratio\": odds_ratio, \"n_overlap\": n_overlap, \"overlap\": overlap})\n",
    "    df[\"-log(p value)\"] = -np.log10(df[\"p value\"])\n",
    "    return [list(unzipped_results[0])], [pvals], df\n",
    "\n",
    "# Output a table of significant p-values\n",
    "def create_download_link(df, title = \"Download CSV file of this table\", filename = \"data.csv\"):  \n",
    "    csv = df.to_csv(index = False)\n",
    "    b64 = base64.b64encode(csv.encode())\n",
    "    payload = b64.decode()\n",
    "    html = '<a download=\"{filename}\" href=\"data:text/csv;base64,{payload}\" target=\"_blank\">{title}</a>'\n",
    "    html = html.format(payload=payload, title=title, filename=filename)\n",
    "    return HTML(html)\n"
   ]
  },
  {
   "cell_type": "code",
   "execution_count": null,
   "metadata": {},
   "outputs": [],
   "source": [
    "# Bar Chart Functions\n",
    "def enrichr_figure(all_terms, all_pvalues, plot_names, all_libraries, bar_color, topk=10): \n",
    "    all_terms = [all_terms[0][:topk]]\n",
    "    all_pvalues = [all_pvalues[0][:topk]]\n",
    "    # Bar colors\n",
    "    if bar_color != 'lightgrey':\n",
    "        bar_color_not_sig = 'lightgrey'\n",
    "        edgecolor=None\n",
    "        linewidth=0\n",
    "    else:\n",
    "        bar_color_not_sig = 'white'\n",
    "        edgecolor='black'\n",
    "        linewidth=1    \n",
    "\n",
    "    plt.figure(figsize=(24, 12))\n",
    "    \n",
    "    i = 0\n",
    "    bar_colors = [bar_color if (x < 0.05) else bar_color_not_sig for x in all_pvalues[i]]\n",
    "    fig = sns.barplot(x=np.log10(all_pvalues[i])*-1, y=all_terms[i], palette=bar_colors, edgecolor=edgecolor, linewidth=linewidth)\n",
    "    fig.axes.get_yaxis().set_visible(False)\n",
    "    fig.set_title(all_libraries[i], fontsize=26)\n",
    "    fig.set_xlabel('−log₁₀(p‐value)', fontsize=25)\n",
    "    fig.tick_params(axis='x', which='major', labelsize=20)\n",
    "    if max(np.log10(all_pvalues[i])*-1)<1:\n",
    "        fig.xaxis.set_ticks(np.arange(0, max(np.log10(all_pvalues[i])*-1), 0.1))\n",
    "    for ii,annot in enumerate(all_terms[i]):\n",
    "        if all_pvalues[i][ii] < 0.05:\n",
    "            annot = '  *'.join([annot, str(str(np.format_float_scientific(all_pvalues[i][ii], precision=2)))]) \n",
    "        else:\n",
    "            annot = '  '.join([annot, str(str(np.format_float_scientific(all_pvalues[i][ii], precision=2)))])\n",
    "\n",
    "        title_start= max(fig.axes.get_xlim())/200\n",
    "        fig.text(title_start, ii, annot, ha='left', wrap = True, fontsize = 26)\n",
    "\n",
    "    fig.spines['right'].set_visible(False)\n",
    "    fig.spines['top'].set_visible(False)\n",
    "    # Save results \n",
    "    for plot_name in plot_names:\n",
    "        plt.savefig(plot_name, bbox_inches = 'tight')\n",
    "    \n",
    "    # Show plot \n",
    "    plt.show()  "
   ]
  },
  {
   "cell_type": "code",
   "execution_count": null,
   "metadata": {},
   "outputs": [],
   "source": [
    "# Create Manhattan Plots\n",
    "def manhattan(df):\n",
    "    df = df.sort_values(\"Gene Set\")\n",
    "    list_of_xaxis_values = df[\"Gene Set\"].values.tolist()\n",
    "\n",
    "    # define the output figure and the features we want\n",
    "    p = figure(x_range = list_of_xaxis_values, plot_height=300, plot_width=750, tools='pan, box_zoom, hover, reset, save')\n",
    "\n",
    "    # loop over all libraries\n",
    "    r = []\n",
    "    color_index = 0\n",
    "    if color_index >= len(manhattan_colors):\n",
    "        color_index = 0 \n",
    "\n",
    "    # calculate actual p value from -log(p value)\n",
    "    actual_pvalues = []\n",
    "    for log_value in df[\"-log(p value)\"].values.tolist():\n",
    "        actual_pvalues += [\"{:.5e}\".format(10**(-1*log_value))]\n",
    "\n",
    "    # define ColumnDataSource with our data for this library\n",
    "    source = ColumnDataSource(data=dict(\n",
    "        x = df[\"Gene Set\"].values.tolist(),\n",
    "        y = df[\"-log(p value)\"].values.tolist(),\n",
    "        pvalue = actual_pvalues,\n",
    "    ))\n",
    "\n",
    "    # plot data from this library\n",
    "    r += [p.circle(x = 'x', y = 'y', size=5, fill_color=manhattan_colors[color_index], line_color = manhattan_colors[color_index], line_width=1, source = source)]\n",
    "    color_index += 1\n",
    "\n",
    "    p.background_fill_color = 'white'\n",
    "    p.xaxis.major_tick_line_color = None \n",
    "    p.xaxis.major_label_text_font_size = '0pt'\n",
    "    p.y_range.start = 0\n",
    "    p.yaxis.axis_label = '-log(p value)'\n",
    "\n",
    "    p.hover.tooltips = [\n",
    "        (\"Gene Set\", \"@x\"),\n",
    "        (\"p value\", \"@pvalue\"),\n",
    "    ]\n",
    "    p.output_backend = \"svg\"\n",
    "    \n",
    "    # returns the plot\n",
    "    return p"
   ]
  },
  {
   "cell_type": "markdown",
   "metadata": {},
   "source": [
    "# Enrichment Analysis"
   ]
  },
  {
   "cell_type": "markdown",
   "metadata": {},
   "source": [
    "Enrichment analysis is a statistical procedure used to identify gene sets which are over-represented in a given gene set. The table below displays the top 20 enrichment analysis results for the given gene set library. The table contains the gene set names, p values, odds ratio, the number of overlapping genes, overlapping genes and -log(p value) values. The table is sorted by p values in ascending order. The full results are downloadable in the CSV format"
   ]
  },
  {
   "cell_type": "code",
   "execution_count": null,
   "metadata": {},
   "outputs": [],
   "source": [
    "results, pvals, results_df = enrichment_analysis(genes, library_filename)"
   ]
  },
  {
   "cell_type": "code",
   "execution_count": null,
   "metadata": {},
   "outputs": [],
   "source": [
    "if 'p value' in results_df.columns:\n",
    "    sorted_df = results_df.sort_values(by = ['p value'])\n",
    "#     filtered_df = sorted_df[sorted_df['p value'] <= significance_value]\n",
    "    filtered_df = sorted_df.iloc[:display_topk]\n",
    "    if len(filtered_df) != 0:\n",
    "        display(HTML(filtered_df.to_html(index = False)))\n",
    "        display(Markdown(f\"*Table 1. Enrichment analysis results of {library_name}*\"))        \n",
    "        display(create_download_link(sorted_df))"
   ]
  },
  {
   "cell_type": "markdown",
   "metadata": {},
   "source": [
    "# Bar Chart"
   ]
  },
  {
   "cell_type": "code",
   "execution_count": null,
   "metadata": {},
   "outputs": [],
   "source": [
    "display(Markdown(f\"The bar chart below shows the top {topk} enriched terms in a given gene set library. Colored bars correspond to terms with significant p-values (<0.05). The bar chart is downloadable as an image in the PNG and SVG formats. \"))"
   ]
  },
  {
   "cell_type": "code",
   "execution_count": null,
   "metadata": {},
   "outputs": [],
   "source": [
    "enrichr_figure(results, pvals, final_output_file_names, [library_name], color, topk)\n",
    "display(Markdown(f\"*Figure 1. Bar chart of the top {topk} enriched terms in {library_name}, along with their corresponding p-values. Colored bars correspond to terms with significant p-values (<0.05).*\"))     \n",
    "    \n",
    "# Download Bar Chart\n",
    "for i, file in enumerate(final_output_file_names):\n",
    "    display(FileLink(file, result_html_prefix=str('Download ' + figure_file_format[i] + ': ')))\n",
    "    \n"
   ]
  },
  {
   "cell_type": "markdown",
   "metadata": {},
   "source": [
    "# Manhattan Plot"
   ]
  },
  {
   "cell_type": "markdown",
   "metadata": {},
   "source": [
    "In the Manhattan plot below, each line on the x-axis denotes a single gene set from the library, while the y-axis measures the −log₁₀(p‐value) for each gene set. Hovering over a point will display the name of the gene set and the associated p-value. You can also zoom, pan, and save the plot as an svg using the toolbar on the right."
   ]
  },
  {
   "cell_type": "code",
   "execution_count": null,
   "metadata": {},
   "outputs": [],
   "source": [
    "show(manhattan(results_df))\n",
    "display(Markdown(f\"*Figure 2. Manhattan plot that displays gene sets from {library_name} and their p-values on a -log10 scale.*\"))     "
   ]
  }
 ],
 "metadata": {
  "kernelspec": {
   "display_name": "py38R4",
   "language": "python",
   "name": "py38r4"
  },
  "language_info": {
   "codemirror_mode": {
    "name": "ipython",
    "version": 3
   },
   "file_extension": ".py",
   "mimetype": "text/x-python",
   "name": "python",
   "nbconvert_exporter": "python",
   "pygments_lexer": "ipython3",
   "version": "3.8.5"
  }
 },
 "nbformat": 4,
 "nbformat_minor": 4
}
