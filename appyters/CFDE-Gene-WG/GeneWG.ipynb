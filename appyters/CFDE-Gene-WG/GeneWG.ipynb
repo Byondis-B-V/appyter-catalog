{
 "cells": [
  {
   "cell_type": "code",
   "execution_count": null,
   "id": "proof-belief",
   "metadata": {},
   "outputs": [],
   "source": [
    "#%%appyter init\n",
    "from appyter import magic\n",
    "magic.init(lambda _=globals: _())"
   ]
  },
  {
   "cell_type": "code",
   "execution_count": null,
   "id": "considerable-verse",
   "metadata": {},
   "outputs": [],
   "source": [
    "%%appyter code_eval\n",
    "{% do SectionField(\n",
    "    name='primary',\n",
    "    title='CFDE Gene-WG Appyter',\n",
    "    subtitle='Resolve gene-centric information from CF projects',\n",
    "    img='geneicon.png',\n",
    ") %}\n",
    "{% set gene = AutocompleteField(\n",
    "    name='gene',\n",
    "    label='Entrez Gene Symbol',\n",
    "    description='Please choose a valid entrez gene symbol',\n",
    "    default='ACE2',\n",
    "    file_path=url_for('static', filename='genes.json'),\n",
    "    section='primary',\n",
    ") %}"
   ]
  },
  {
   "cell_type": "code",
   "execution_count": null,
   "id": "loaded-morris",
   "metadata": {},
   "outputs": [],
   "source": [
    "%%appyter markdown\n",
    "\n",
    "# CFDE Gene-WG Appyter: {{ gene.raw_value }}\n",
    "\n",
    "Given the gene *{{ gene.raw_value }}*, we request information about it from several different DCCs in hopes of creating a comprehensive knowledge report for it."
   ]
  },
  {
   "cell_type": "code",
   "execution_count": null,
   "id": "employed-immune",
   "metadata": {},
   "outputs": [],
   "source": [
    "import re\n",
    "import io\n",
    "import json\n",
    "import uuid\n",
    "import time\n",
    "import requests\n",
    "import numpy as np\n",
    "import pandas as pd\n",
    "import urllib.parse\n",
    "import plotly.express as px\n",
    "import scipy.stats as st\n",
    "from textwrap import dedent\n",
    "from functools import partial, lru_cache\n",
    "from IPython.display import HTML, display\n",
    "\n",
    "from itables import show\n",
    "import itables.options as opt\n",
    "opt.maxBytes = 0\n",
    "opt.showIndex = False\n",
    "\n",
    "class RenderJSON(object):\n",
    "    ''' https://gist.github.com/t27/48b3ac73a1479914f9fe9383e5d45325 '''\n",
    "    def __init__(self, json_data):\n",
    "        if isinstance(json_data, dict):\n",
    "            self.json_str = json.dumps(json_data)\n",
    "        else:\n",
    "            self.json_str = json_data\n",
    "        self.uuid = str(uuid.uuid4())\n",
    "        \n",
    "    def _ipython_display_(self):\n",
    "        display(HTML('<div id=\"{}\" style=\"height: auto; width:100%;\"></div>'.format(self.uuid)))\n",
    "        display(HTML(\"\"\"<script>\n",
    "        require([\"https://rawgit.com/caldwell/renderjson/master/renderjson.js\"], function() {\n",
    "          renderjson.set_show_to_level(1)\n",
    "          document.getElementById('%s').appendChild(renderjson(%s))\n",
    "        });</script>\n",
    "        \"\"\" % (self.uuid, self.json_str)))\n",
    "\n",
    "def combine_pvalues(pvalues, method='fisher', select='pvalue'):\n",
    "    ''' A helper for accessing this method via pd.agg which expects a scaler result\n",
    "    '''\n",
    "    statistic, pvalue = st.combine_pvalues(pvalues, method=method)\n",
    "    return dict(statistic=statistic, pvalue=pvalue)[select]\n",
    "\n",
    "def combine_zscores(zscores):\n",
    "    ''' A helper method for combining zscores via Stouffer method\n",
    "    '''\n",
    "    return zscores.sum() / np.sqrt(zscores.shape[0])"
   ]
  },
  {
   "cell_type": "code",
   "execution_count": null,
   "id": "biblical-hepatitis",
   "metadata": {},
   "outputs": [],
   "source": [
    "%%appyter code_exec\n",
    "gene = {{ gene }}"
   ]
  },
  {
   "cell_type": "markdown",
   "id": "understanding-oklahoma",
   "metadata": {},
   "source": [
    "## Primary Information\n",
    "\n",
    "We query DCC APIs to gain insights about the primary information they collect."
   ]
  },
  {
   "cell_type": "markdown",
   "id": "seven-destruction",
   "metadata": {},
   "source": [
    "### GTEx\n",
    "\n",
    "<https://gtexportal.org/home/>\n",
    "\n",
    "We query the GTEx Data through the [GTEx API](https://gtexportal.org/home/api-docs/index.html) to identify tissue sites that significantly express the gene question."
   ]
  },
  {
   "cell_type": "code",
   "execution_count": null,
   "id": "quantitative-marker",
   "metadata": {},
   "outputs": [],
   "source": [
    "@lru_cache()\n",
    "def gtex_singleTissueEqtl(geneSymbol, datasetId='gtex_v8'):\n",
    "    res = requests.get(\n",
    "        'https://gtexportal.org/rest/v1/association/singleTissueEqtl',\n",
    "        params=dict(\n",
    "            format='json',\n",
    "            geneSymbol=geneSymbol,\n",
    "            datasetId=datasetId,\n",
    "        )\n",
    "    )\n",
    "    return res.json()['singleTissueEqtl']"
   ]
  },
  {
   "cell_type": "code",
   "execution_count": null,
   "id": "caring-mongolia",
   "metadata": {},
   "outputs": [],
   "source": [
    "gtex_results = pd.DataFrame(gtex_singleTissueEqtl(gene))\n",
    "columns = list(gtex_results.columns)\n",
    "columns.insert(0, columns.pop(columns.index('nes')))\n",
    "columns.insert(0, columns.pop(columns.index('pValue')))\n",
    "columns.insert(0, columns.pop(columns.index('tissueSiteDetailId')))\n",
    "gtex_results = gtex_results[columns]\n",
    "show(gtex_results, order=[[gtex_results.columns.get_loc('pValue'), 'asc']])"
   ]
  },
  {
   "cell_type": "code",
   "execution_count": null,
   "id": "executed-first",
   "metadata": {},
   "outputs": [],
   "source": [
    "gtex_combined_stouffer_statistic = gtex_results.groupby('tissueSiteDetailId')['pValue'] \\\n",
    "    .agg(partial(combine_pvalues, method='stouffer', select='statistic')) \\\n",
    "    .to_frame('combined_stouffer_statistic') \\\n",
    "    .reset_index() \\\n",
    "    .sort_values('combined_stouffer_statistic', ascending=False)\n",
    "gtex_combined_stouffer_statistic['group'] = gtex_combined_stouffer_statistic['tissueSiteDetailId'].apply(lambda name: name.split('_', maxsplit=1)[0])\n",
    "\n",
    "fig = px.bar(\n",
    "    gtex_combined_stouffer_statistic,\n",
    "    y='combined_stouffer_statistic',\n",
    "    x='tissueSiteDetailId',\n",
    "    color='group',\n",
    "    orientation='v',\n",
    "    title=f\"Tissues with significant expression of {gene} in GTEx\",\n",
    "    height=1000,\n",
    ")\n",
    "fig.show()"
   ]
  },
  {
   "cell_type": "markdown",
   "id": "lyric-sleep",
   "metadata": {},
   "source": [
    "### LINCS\n",
    "\n",
    "<https://lincsproject.org/>\n",
    "\n",
    "#### Enrichr\n",
    "\n",
    "We query the LINCS data through Enrichr via [it's API](https://maayanlab.cloud/Enrichr/help#api) to identify L1000 profiles where the gene was significantly up or down regulated, thus enriching potential drugs that can be used to activate or knock out the gene."
   ]
  },
  {
   "cell_type": "code",
   "execution_count": null,
   "id": "union-violation",
   "metadata": {},
   "outputs": [],
   "source": [
    "@lru_cache()\n",
    "def enrichr_addList(geneset, description=''):\n",
    "    res = requests.post(\n",
    "        'https://maayanlab.cloud/Enrichr/addList',\n",
    "        files=[\n",
    "            ('list', (None, geneset)),\n",
    "            ('description', (None, description)),\n",
    "        ],\n",
    "    )\n",
    "    ret = res.json()\n",
    "    time.sleep(1)\n",
    "    return ret\n",
    "\n",
    "def enrichr_enrich(userListId, backgroundType):\n",
    "    res = requests.get(\n",
    "        'https://maayanlab.cloud/Enrichr/enrich',\n",
    "        params=dict(\n",
    "            userListId=userListId,\n",
    "            backgroundType=backgroundType,\n",
    "        ),\n",
    "    )\n",
    "    for record in res.json()[backgroundType]:\n",
    "        rank, term, pvalue, zscore, combinedscore, overlapping_genes, adjusted_pvalue, _old_p, _old_adj_p = record\n",
    "        yield dict(\n",
    "            library=backgroundType,\n",
    "            rank=rank,\n",
    "            term=term,\n",
    "            pvalue=pvalue,\n",
    "            zscore=zscore,\n",
    "            combinedscore=combinedscore,\n",
    "            overlapping_genes=overlapping_genes,\n",
    "            adjusted_pvalue=adjusted_pvalue,\n",
    "        )\n",
    "\n",
    "enrichr_libraries = {\n",
    "    'LINCS_L1000_Chem_Pert_up': lambda term='', **kwargs: dict(kwargs,\n",
    "        **re.match(r'^.+?-(?P<drug>.+)-(?P<concentration>.+?)$', term).groupdict(),\n",
    "        term=term,\n",
    "        direction='up',\n",
    "        library='LINCS_L1000_Chem_Pert',\n",
    "    ),\n",
    "    'LINCS_L1000_Chem_Pert_down': lambda term='', **kwargs: dict(kwargs,\n",
    "        **re.match(r'^.+?-(?P<drug>.+)-(?P<concentration>.+?)$', term).groupdict(),\n",
    "        term=term,\n",
    "        direction='down',\n",
    "        library='LINCS_L1000_Chem_Pert',\n",
    "    ),\n",
    "}\n",
    "\n",
    "def enrichr_complete(gene, description, enrichr_libraries):\n",
    "    enrichr_list = enrichr_addList(gene, description)\n",
    "    return pd.DataFrame([\n",
    "        parser(**result)\n",
    "        for library, parser in enrichr_libraries.items()\n",
    "        for result in enrichr_enrich(enrichr_list['userListId'], library)\n",
    "    ]).sort_values('adjusted_pvalue')\n"
   ]
  },
  {
   "cell_type": "code",
   "execution_count": null,
   "id": "derived-hypothetical",
   "metadata": {},
   "outputs": [],
   "source": [
    "lincs_results = enrichr_complete(gene, f\"Gene-WG Appyter: {gene}\", enrichr_libraries)[[\n",
    "    'rank', 'drug', 'direction', 'adjusted_pvalue', 'concentration',\n",
    "]]\n",
    "show(lincs_results, order=[[lincs_results.columns.get_loc('rank'), 'asc']])"
   ]
  },
  {
   "cell_type": "code",
   "execution_count": null,
   "id": "charged-highlight",
   "metadata": {},
   "outputs": [],
   "source": [
    "# combine pvalues for the same drug using fisher combination probability test\n",
    "lincs_combined_stouffer_statistic = lincs_results.groupby(['drug', 'direction'])['adjusted_pvalue'] \\\n",
    "    .agg(partial(combine_pvalues, method='stouffer', select='statistic')) \\\n",
    "    .to_frame('combined_stouffer_statistic') \\\n",
    "    .reset_index() \\\n",
    "    .sort_values('combined_stouffer_statistic')\n",
    "\n",
    "# the split & concat is done quite simply to ensure up ends up on left & down on right\n",
    "lincs_combined_stouffer_statistic_up = lincs_combined_stouffer_statistic[lincs_combined_stouffer_statistic['direction'] == 'up']\n",
    "lincs_combined_stouffer_statistic_down = lincs_combined_stouffer_statistic[lincs_combined_stouffer_statistic['direction'] == 'down']\n",
    "\n",
    "fig = px.bar(\n",
    "    pd.concat([\n",
    "        lincs_combined_stouffer_statistic_up,\n",
    "        lincs_combined_stouffer_statistic_down,\n",
    "    ], axis=0),\n",
    "    x='combined_stouffer_statistic',\n",
    "    y='drug',\n",
    "    orientation='h',\n",
    "    barmode='group',\n",
    "    color='direction',\n",
    "    facet_col='direction',\n",
    "    text='drug',\n",
    "    title=f\"Drugs that significantly up or down-regulate the expression of {gene} in LINCS\",\n",
    ")\n",
    "fig.update_yaxes(matches=None, showticklabels=False)\n",
    "fig.update_traces(texttemplate='%{text}', textposition='auto', insidetextanchor='start')\n",
    "fig.show()"
   ]
  },
  {
   "cell_type": "markdown",
   "id": "chubby-allowance",
   "metadata": {},
   "source": [
    "## Secondary Information\n",
    "\n",
    "Each DCC has assembled a large repository of knowledge besides the data directly collected by the data generation centers they coordinate. We can access this expanded knowledge as well."
   ]
  },
  {
   "cell_type": "markdown",
   "id": "convertible-antique",
   "metadata": {},
   "source": [
    "### IDG\n",
    "\n",
    "<https://druggablegenome.net/>\n",
    "\n",
    "#### Pharos\n",
    "\n",
    "We query IDG's knowledge base of targets and their Disease associations through the [Pharos API](https://pharos.nih.gov/api)."
   ]
  },
  {
   "cell_type": "code",
   "execution_count": null,
   "id": "impressive-ridge",
   "metadata": {},
   "outputs": [],
   "source": [
    "@lru_cache()\n",
    "def idg_pharos_geneDiseaseAssociations(associatedTarget):\n",
    "    req = requests.post(\n",
    "        'https://pharos-api.ncats.io/graphql',\n",
    "        headers={\n",
    "            'Content-Type': 'application/json',\n",
    "            'Accept': 'application/json',\n",
    "        },\n",
    "        json={\n",
    "            'query': dedent(f'''\n",
    "            query associatedDiseases {{\n",
    "                diseases(filter: {{associatedTarget: {json.dumps(associatedTarget)} }}) {{\n",
    "                    diseases {{\n",
    "                        associations {{\n",
    "                            name\n",
    "                            evidence\n",
    "                            pvalue\n",
    "                            zscore\n",
    "                        }}\n",
    "                    }}\n",
    "                }}\n",
    "            }}\n",
    "            ''')\n",
    "        },\n",
    "    )\n",
    "    results = req.json()['data']\n",
    "    return results"
   ]
  },
  {
   "cell_type": "code",
   "execution_count": null,
   "id": "rural-cholesterol",
   "metadata": {},
   "outputs": [],
   "source": [
    "idg_pharos_api_results = idg_pharos_geneDiseaseAssociations(gene)\n",
    "\n",
    "idg_pharos_results = pd.DataFrame(\n",
    "    association\n",
    "    for disease in idg_pharos_api_results['diseases']['diseases']\n",
    "    for association in disease['associations']\n",
    ")\n",
    "show(idg_pharos_results, order=[[idg_pharos_results.columns.get_loc('zscore'), 'desc']])"
   ]
  },
  {
   "cell_type": "code",
   "execution_count": null,
   "id": "impaired-spiritual",
   "metadata": {},
   "outputs": [],
   "source": [
    "idg_pharos_combined_stouffer_statistic = idg_pharos_results.groupby('name')['zscore'] \\\n",
    "    .agg([\n",
    "        ('combined_stouffer_statistic', combine_zscores),\n",
    "    ]) \\\n",
    "    .reset_index() \\\n",
    "    .sort_values('combined_stouffer_statistic')\n",
    "\n",
    "fig = px.bar(\n",
    "    idg_pharos_combined_stouffer_statistic,\n",
    "    x='combined_stouffer_statistic',\n",
    "    y='name',\n",
    "    text='name',\n",
    "    orientation='h',\n",
    "    title=f\"Disease known to be associated with {gene} from IDG's Pharos\",\n",
    ")\n",
    "fig.update_yaxes(showticklabels=False)\n",
    "fig.update_traces(texttemplate='%{text}', textposition='auto', insidetextanchor='start')\n",
    "fig.show()"
   ]
  },
  {
   "cell_type": "markdown",
   "id": "coral-lambda",
   "metadata": {},
   "source": [
    "#### Harmonizome\n",
    "\n",
    "We query the [Harmonizome API](https://maayanlab.cloud/Harmonizome/documentation) for associations with various biological entities in a standardized set of numerous omics datasets, as detailed [here](https://maayanlab.cloud/Harmonizome/about)."
   ]
  },
  {
   "cell_type": "code",
   "execution_count": null,
   "id": "comparable-enterprise",
   "metadata": {},
   "outputs": [],
   "source": [
    "@lru_cache()\n",
    "def idg_harmonizome_geneInfo(gene, showAssociations=True, version='1.0'):\n",
    "    res = requests.get(\n",
    "        f\"https://maayanlab.cloud/Harmonizome/api/{urllib.parse.quote(version)}/gene/{urllib.parse.quote(gene)}\",\n",
    "        params=dict(\n",
    "            showAssociations=json.dumps(showAssociations),\n",
    "        ),\n",
    "    )\n",
    "    return res.json()"
   ]
  },
  {
   "cell_type": "code",
   "execution_count": null,
   "id": "competent-darwin",
   "metadata": {},
   "outputs": [],
   "source": [
    "idg_harmonizome_api_geneInfo = idg_harmonizome_geneInfo(gene)\n",
    "display(RenderJSON(idg_harmonizome_api_geneInfo))\n",
    "idg_harmonizome_geneAssociations = pd.DataFrame([\n",
    "    dict(\n",
    "        **geneAssociation['geneSet'],\n",
    "        **geneAssociation,\n",
    "    )\n",
    "    for geneAssociation in idg_harmonizome_api_geneInfo['associations']\n",
    "]).drop(['geneSet', 'thresholdValue', 'href'], axis=1).dropna()\n",
    "show(\n",
    "    idg_harmonizome_geneAssociations,\n",
    "    order=[[idg_harmonizome_geneAssociations.columns.get_loc('standardizedValue'), 'desc']]\n",
    ")"
   ]
  },
  {
   "cell_type": "code",
   "execution_count": null,
   "id": "matched-connectivity",
   "metadata": {},
   "outputs": [],
   "source": [
    "idg_harmonizome_geneAssociations['direction'] = idg_harmonizome_geneAssociations['standardizedValue'].apply(\n",
    "    lambda v: 'up' if v > 0 else 'down'\n",
    ")\n",
    "idg_harmonizome_geneAssociations['absoluteZscore'] = np.abs(idg_harmonizome_geneAssociations['standardizedValue'])\n",
    "idg_harmonizome_geneAssociations = idg_harmonizome_geneAssociations.sort_values('absoluteZscore')\n",
    "idg_harmonizome_geneAssociations_top_10_up = idg_harmonizome_geneAssociations[idg_harmonizome_geneAssociations['direction'] == 'up'].iloc[-10:]\n",
    "idg_harmonizome_geneAssociations_top_10_down = idg_harmonizome_geneAssociations[idg_harmonizome_geneAssociations['direction'] == 'down'].iloc[-10:]\n",
    "\n",
    "fig = px.bar(\n",
    "    pd.concat([\n",
    "        idg_harmonizome_geneAssociations_top_10_up,\n",
    "        idg_harmonizome_geneAssociations_top_10_down,\n",
    "    ], axis=0),\n",
    "    x='absoluteZscore',\n",
    "    y='name',\n",
    "    orientation='h',\n",
    "    barmode='group',\n",
    "    color='direction',\n",
    "    facet_row='direction',\n",
    "    text='name',\n",
    "    title=f\"Significant associations with {gene} in IDG's Harmonizome\",\n",
    "    height=1000,\n",
    "    width=1000,\n",
    ")\n",
    "fig.update_yaxes(matches=None, showticklabels=False)\n",
    "fig.update_traces(texttemplate='%{text}', textposition='inside', insidetextanchor='start')\n",
    "fig.show()"
   ]
  },
  {
   "cell_type": "markdown",
   "id": "dietary-hampshire",
   "metadata": {},
   "source": [
    "### GlyGen\n",
    "\n",
    "<https://www.glygen.org/>\n",
    "\n",
    "GlyGen collects extensive protein product information related to Glycans and permits accessing that information over [their API](https://api.glygen.org/)."
   ]
  },
  {
   "cell_type": "code",
   "execution_count": null,
   "id": "micro-dubai",
   "metadata": {},
   "outputs": [],
   "source": [
    "@lru_cache()\n",
    "def glygen_geneNameSearch(recommended_gene_name, organism_taxon_id=9606):\n",
    "    res = requests.get(\n",
    "        'https://api.glygen.org/directsearch/gene/',\n",
    "        params=dict(\n",
    "            query=json.dumps(dict(\n",
    "                recommended_gene_name=recommended_gene_name,\n",
    "                organism=dict(\n",
    "                    id=organism_taxon_id\n",
    "                ),\n",
    "            )),\n",
    "        ),\n",
    "        verify=False, # not sure why on my system I get SSL errors\n",
    "    )\n",
    "    return res.json()"
   ]
  },
  {
   "cell_type": "code",
   "execution_count": null,
   "id": "animated-fraud",
   "metadata": {},
   "outputs": [],
   "source": [
    "glygen_geneInfo = glygen_geneNameSearch(gene)\n",
    "display(RenderJSON(glygen_geneInfo))\n",
    "pd.Series(glygen_geneInfo['results'][0])"
   ]
  },
  {
   "cell_type": "markdown",
   "id": "weekly-inspection",
   "metadata": {},
   "source": [
    "### ARCHS4\n",
    "\n",
    "[ARCHS4](https://maayanlab.cloud/archs4/) has processed numerous GEO studies and also has Tissue expression data."
   ]
  },
  {
   "cell_type": "code",
   "execution_count": null,
   "id": "incomplete-longitude",
   "metadata": {},
   "outputs": [],
   "source": [
    "def archs4_tissue_expression(search, species='human'):\n",
    "    res = requests.get(\n",
    "        f\"https://maayanlab.cloud/archs4/search/loadExpressionTissue.php\",\n",
    "        params=dict(\n",
    "            search=search,\n",
    "            species='human',\n",
    "            type='tissue',\n",
    "        ),\n",
    "    )\n",
    "    df = pd.read_csv(io.StringIO(res.text)).dropna()\n",
    "    df.index = pd.MultiIndex.from_tuples(\n",
    "        df['id'].apply(lambda id: id.split('.')),\n",
    "        names=['', 'system', 'organ', 'tissue'],\n",
    "    )\n",
    "    return df.reset_index().drop(['id', ''], axis=1)\n"
   ]
  },
  {
   "cell_type": "code",
   "execution_count": null,
   "id": "discrete-hollywood",
   "metadata": {},
   "outputs": [],
   "source": [
    "archs4_tissue_results = archs4_tissue_expression(gene)\n",
    "show(archs4_tissue_results)"
   ]
  },
  {
   "cell_type": "markdown",
   "id": "about-gospel",
   "metadata": {},
   "source": [
    "## Consensus: A Case Study\n",
    "\n",
    "In an attempt to meaningfully demonstrate interoperability by API, besides the (naturally) disjoint knowledge coming from each DCC, we identify areas where common knowledge may be found from several of these APIs.\n",
    "\n",
    "### Tissue Expression\n",
    "\n",
    "We try to merge common results to produce a single table presenting results from each independent DCC as one. Tissue was chosen simply because most DCCs seemed to have some knowledge to provide about them. Ideally we would choose other connections such as diseases."
   ]
  },
  {
   "cell_type": "code",
   "execution_count": null,
   "id": "synthetic-event",
   "metadata": {},
   "outputs": [],
   "source": [
    "# get most significant tissue sites for this gene according to gtex\n",
    "gtex_tissue_evidence = pd.DataFrame()\n",
    "gtex_tissue_evidence['rank'] = (-gtex_combined_stouffer_statistic['combined_stouffer_statistic']).rank()\n",
    "gtex_tissue_evidence['name'] = gtex_combined_stouffer_statistic['tissueSiteDetailId']\n",
    "gtex_tissue_evidence['score'] = gtex_combined_stouffer_statistic['combined_stouffer_statistic']\n",
    "gtex_tissue_evidence['present'] = 1\n",
    "gtex_tissue_evidence['from'] = 'gtex'\n",
    "show(gtex_tissue_evidence, order=[[gtex_tissue_evidence.columns.get_loc('rank'), 'asc']])"
   ]
  },
  {
   "cell_type": "code",
   "execution_count": null,
   "id": "resistant-tissue",
   "metadata": {},
   "outputs": [],
   "source": [
    "idg_harmonizome_tissue_geneAssociations = idg_harmonizome_geneAssociations[idg_harmonizome_geneAssociations['name'].str.lower().str.contains('tissue')]\n",
    "idg_harmonizome_tissue_geneAssociations['tissue'] = idg_harmonizome_tissue_geneAssociations['name'].map(lambda name: name.split('/')[0])\n",
    "idg_harmonizome_tissue_geneAssociations['evidence'] = idg_harmonizome_tissue_geneAssociations['name'].map(lambda name: name.split('/')[1])\n",
    "idg_tissue_evidence = idg_harmonizome_tissue_geneAssociations[['tissue', 'evidence', 'direction', 'absoluteZscore']] \\\n",
    "    .groupby(['tissue', 'direction'])['absoluteZscore'] \\\n",
    "    .agg([('score', combine_zscores)]) \\\n",
    "    .reset_index() \\\n",
    "    .sort_values('score', ascending=False) \\\n",
    "    .rename({'tissue': 'name'}, axis=1)\n",
    "idg_tissue_evidence['present'] = 1\n",
    "idg_tissue_evidence['rank'] = (-idg_tissue_evidence['score']).rank()\n",
    "idg_tissue_evidence['from'] = 'idg (harmonizome)'\n",
    "idg_tissue_evidence = idg_tissue_evidence[['rank', 'name', 'direction', 'score', 'present', 'from']]\n",
    "show(idg_tissue_evidence, order=[[idg_tissue_evidence.columns.get_loc('rank'), 'asc']])"
   ]
  },
  {
   "cell_type": "code",
   "execution_count": null,
   "id": "precise-hearing",
   "metadata": {},
   "outputs": [],
   "source": [
    "# get curated knowledge about expression of the gene in a tissues according to GlyGen\n",
    "glygen_tissue_evidence = pd.DataFrame([\n",
    "    {\n",
    "        'name': result['tissue'] if type(result['tissue']) == str else result['tissue']['name'],\n",
    "        'present': 1 if result['present'] == 'yes' else 0,\n",
    "        'from': ','.join(\n",
    "            f\"glygen ({evidence['database']}:{evidence['id']})\"\n",
    "            for evidence in result['evidence']\n",
    "        ),\n",
    "    }\n",
    "    for result in glygen_geneInfo['results'][0]['expression_tissue']\n",
    "])\n",
    "glygen_tissue_evidence['rank'] = 10000 # put at end of the table\n",
    "show(glygen_tissue_evidence, order=[[glygen_tissue_evidence.columns.get_loc('present'), 'desc']])"
   ]
  },
  {
   "cell_type": "markdown",
   "id": "wireless-piano",
   "metadata": {},
   "source": [
    "This tables shows a aggregated view of different DCC evidences for the presence of the gene's expression in a tissue."
   ]
  },
  {
   "cell_type": "code",
   "execution_count": null,
   "id": "opposite-movie",
   "metadata": {},
   "outputs": [],
   "source": [
    "archs4_tissue_evidence = pd.DataFrame()\n",
    "archs4_tissue_evidence['rank'] = (-archs4_tissue_results['median']).rank()\n",
    "archs4_tissue_evidence['name'] = archs4_tissue_results['tissue']\n",
    "archs4_tissue_evidence['score'] = archs4_tissue_results['median']\n",
    "archs4_tissue_evidence['present'] = 1\n",
    "archs4_tissue_evidence['from'] = 'archs4 (GEO)'\n",
    "show(archs4_tissue_evidence, order=[[archs4_tissue_evidence.columns.get_loc('rank'), 'asc']])"
   ]
  },
  {
   "cell_type": "code",
   "execution_count": null,
   "id": "sporting-feelings",
   "metadata": {},
   "outputs": [],
   "source": [
    "aggregated_tissue_rankings = pd.concat([\n",
    "    gtex_tissue_evidence,\n",
    "    idg_tissue_evidence,\n",
    "    glygen_tissue_evidence,\n",
    "    archs4_tissue_evidence,\n",
    "], axis=0, ignore_index=True)\n",
    "show(aggregated_tissue_rankings, order=[[aggregated_tissue_rankings.columns.get_loc('rank'), 'asc']])"
   ]
  },
  {
   "cell_type": "code",
   "execution_count": null,
   "id": "distributed-criticism",
   "metadata": {},
   "outputs": [],
   "source": [
    "fig = px.bar(\n",
    "    aggregated_tissue_rankings.reset_index().sort_values('rank', ascending=True).iloc[:20],\n",
    "    y='rank',\n",
    "    x='name',\n",
    "    orientation='v',\n",
    "    title=f\"Tissues with highly ranked associations with {gene} from various DCC APIs (lower is better)\",\n",
    ")\n",
    "fig.show()"
   ]
  },
  {
   "cell_type": "markdown",
   "id": "attended-divide",
   "metadata": {},
   "source": [
    "## Conclusion\n",
    "\n",
    "The report contains information fetched directly from each the APIs involved at the time of generation. Clearly more integrative consensus workflows will require FAIRification of the information being provided.\n",
    "\n",
    "While a single (common) Entrez gene was used as an entrypoint for these APIs, the output information is vastly different both in shape and in the terms being used.\n",
    "\n",
    "- Some report pvalues, zscores, raw expression information.\n",
    "- Most use raw tissue text instead of ontologically backed tissue terms."
   ]
  }
 ],
 "metadata": {
  "kernelspec": {
   "display_name": "Python 3",
   "language": "python",
   "name": "python3"
  },
  "language_info": {
   "codemirror_mode": {
    "name": "ipython",
    "version": 3
   },
   "file_extension": ".py",
   "mimetype": "text/x-python",
   "name": "python",
   "nbconvert_exporter": "python",
   "pygments_lexer": "ipython3",
   "version": "3.9.3"
  }
 },
 "nbformat": 4,
 "nbformat_minor": 5
}
